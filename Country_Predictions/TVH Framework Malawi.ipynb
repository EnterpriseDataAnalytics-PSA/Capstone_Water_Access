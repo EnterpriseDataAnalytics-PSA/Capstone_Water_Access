{
 "cells": [
  {
   "cell_type": "code",
   "execution_count": 2,
   "metadata": {
    "collapsed": true
   },
   "outputs": [],
   "source": [
    "import pandas as pd\n",
    "import xgboost as xgb\n",
    "from xgboost import XGBClassifier\n",
    "import numpy as np\n",
    "import sklearn as sk\n",
    "import datetime as dt\n",
    "from sklearn import model_selection\n",
    "from sklearn.preprocessing import LabelEncoder\n",
    "from sklearn import metrics\n",
    "from sklearn import ensemble\n",
    "from sklearn.metrics import confusion_matrix, mean_squared_error, auc, accuracy_score, log_loss\n",
    "from sklearn.ensemble.partial_dependence import plot_partial_dependence\n",
    "import os\n",
    "#import graphviz\n",
    "import matplotlib.pyplot as plt\n",
    "import pickle\n",
    "import timeit"
   ]
  },
  {
   "cell_type": "code",
   "execution_count": 3,
   "metadata": {
    "collapsed": true
   },
   "outputs": [],
   "source": [
    "%matplotlib inline\n",
    "# suppress warnings\n",
    "import warnings\n",
    "warnings.filterwarnings('ignore')\n",
    "\n",
    "#set display options\n",
    "pd.set_option('max_columns', 150)\n",
    "pd.set_option('max_rows', 110)"
   ]
  },
  {
   "cell_type": "code",
   "execution_count": 4,
   "metadata": {
    "collapsed": true
   },
   "outputs": [],
   "source": [
    "#set input/output paths\n",
    "#can eventually set this to the SOAPY API https://dev.socrata.com/foundry/data.waterpointdata.org/gihr-buz6\n",
    "DATA_PATH = \"~chandler.mccann/Downloads/\"\n",
    "#DATA_PATH = \"/Users/chandlermccann/Google Drive/Google Drive/Berkeley MIDS 2016/W210-Capstone_WaterProject\"\n",
    "INPUT_FILE = os.path.join(DATA_PATH, \"cleaned_water_data2.csv\") #after running prep_water_data.py\n"
   ]
  },
  {
   "cell_type": "code",
   "execution_count": 5,
   "metadata": {
    "collapsed": true
   },
   "outputs": [],
   "source": [
    "df = pd.read_csv(INPUT_FILE)"
   ]
  },
  {
   "cell_type": "code",
   "execution_count": 6,
   "metadata": {
    "collapsed": true
   },
   "outputs": [],
   "source": [
    "sl = df.loc[df.country_name=='Malawi']"
   ]
  },
  {
   "cell_type": "code",
   "execution_count": 7,
   "metadata": {},
   "outputs": [
    {
     "data": {
      "text/plain": [
       "(12191, 40)"
      ]
     },
     "execution_count": 7,
     "metadata": {},
     "output_type": "execute_result"
    }
   ],
   "source": [
    "sl.shape"
   ]
  },
  {
   "cell_type": "code",
   "execution_count": 8,
   "metadata": {
    "collapsed": true
   },
   "outputs": [],
   "source": [
    "features = ['water_source', 'water_tech', 'management',\n",
    "       'source', 'adm1', 'adm2', 'pay', 'lat_deg', 'lon_deg',\n",
    "       'new_install_year', 'age_well_years','time_since_meas_years', 'fuzzy_water_source',\n",
    "        'fuzzy_water_tech','status_binary']"
   ]
  },
  {
   "cell_type": "markdown",
   "metadata": {},
   "source": [
    "# Modeling"
   ]
  },
  {
   "cell_type": "code",
   "execution_count": 9,
   "metadata": {
    "collapsed": true
   },
   "outputs": [],
   "source": [
    "#start_time = timeit.default_timer()\n",
    "\n",
    "pred_cols = features\n",
    "\n",
    "#create a copy of the dataframe to label encode\n",
    "df2 = sl.copy()\n",
    "df2=df2[pred_cols]"
   ]
  },
  {
   "cell_type": "code",
   "execution_count": 10,
   "metadata": {},
   "outputs": [
    {
     "data": {
      "text/plain": [
       "0"
      ]
     },
     "execution_count": 10,
     "metadata": {},
     "output_type": "execute_result"
    }
   ],
   "source": [
    "#we can't have any null target values\n",
    "len(df2[df2.status_binary.isna()==True])\n"
   ]
  },
  {
   "cell_type": "code",
   "execution_count": 11,
   "metadata": {
    "collapsed": true
   },
   "outputs": [],
   "source": [
    "#eliminate null target values\n",
    "df2 = df2[pd.notnull(df['status_binary'])]"
   ]
  },
  {
   "cell_type": "code",
   "execution_count": 12,
   "metadata": {},
   "outputs": [
    {
     "data": {
      "text/plain": [
       "0"
      ]
     },
     "execution_count": 12,
     "metadata": {},
     "output_type": "execute_result"
    }
   ],
   "source": [
    "#check\n",
    "len(df2[df2.status_binary.isna()==True])\n"
   ]
  },
  {
   "cell_type": "code",
   "execution_count": 13,
   "metadata": {
    "collapsed": true
   },
   "outputs": [],
   "source": [
    "X = df2[df2.columns[:-1]] \n",
    "Y= df2.status_binary\n",
    "\n",
    "X2 = X.copy()\n",
    "\n",
    "#convert all fields to int labels for XGBoost\n",
    "lb=LabelEncoder() #instantiate label encoder\n",
    "\n",
    "#create a dict to store our inverse transforms...these allow us to convert back to the original values in our data\n",
    "#from collections import defaultdict\n",
    "#d = defaultdict(LabelEncoder)\n",
    "\n",
    "#adding this line in order to NOT select lat/lon; other int columns for label encoding\n",
    "#TO DO - If we have new data coming in we need to invert it at some point\n",
    "cols = X2.select_dtypes(include=['object']).columns\n",
    "\n",
    "# Encoding each variable\n",
    "for col in cols:\n",
    "    #lb.fit(list(X[col].fillna('___MISSING___').drop_duplicates().values) + ['___MISSING___'])\n",
    "    \n",
    "    #X2[col] = lb.transform(X2[col].fillna('___MISSING___'))\n",
    "    X2[col]= lb.fit_transform(X[col].fillna('__MISSING__'))"
   ]
  },
  {
   "cell_type": "code",
   "execution_count": 14,
   "metadata": {
    "collapsed": true
   },
   "outputs": [],
   "source": [
    "#60/20/20 Train/Test/Holdout Split\n",
    "SEED=7\n",
    "X_train, X_test_and_holdout, y_train, y_test_and_holdout = sk.model_selection.train_test_split(X2, Y,\n",
    "                                                                                        test_size=.4,\n",
    "                                                                                        stratify=Y,\n",
    "                                                                                        random_state=SEED)\n",
    "X_test, X_holdout, y_test, y_holdout = sk.model_selection.train_test_split(X_test_and_holdout,\n",
    "                                                                    y_test_and_holdout,\n",
    "                                                                    test_size=.5, \n",
    "                                                                    stratify= y_test_and_holdout,\n",
    "                                                                    random_state=SEED)"
   ]
  },
  {
   "cell_type": "code",
   "execution_count": 16,
   "metadata": {},
   "outputs": [
    {
     "name": "stdout",
     "output_type": "stream",
     "text": [
      "beggining inner CV...\n"
     ]
    },
    {
     "data": {
      "text/plain": [
       "GridSearchCV(cv=None, error_score='raise',\n",
       "       estimator=XGBClassifier(base_score=0.5, booster='gbtree', colsample_bylevel=1.0,\n",
       "       colsample_bytree=0.5, gamma=0.01, learning_rate=0.1,\n",
       "       max_delta_step=0.0, max_depth=3, min_child_weight=1.0, missing=None,\n",
       "       n_estimators=100, n_jobs=1, nthread=None,\n",
       "       objective='binary:logistic', random_state=0, reg_alpha=0,\n",
       "       reg_lambda=1.0, scale_pos_weight=1, scoring='logloss', seed=None,\n",
       "       silent=True, subsample=1),\n",
       "       fit_params={}, iid=True, n_jobs=1,\n",
       "       param_grid={'learning_rate': [0.05, 0.1], 'max_depth': [3, 5, 7], 'n_estimators': [500, 1000, 1500]},\n",
       "       pre_dispatch='2*n_jobs', refit=True, return_train_score=True,\n",
       "       scoring=None, verbose=0)"
      ]
     },
     "execution_count": 16,
     "metadata": {},
     "output_type": "execute_result"
    }
   ],
   "source": [
    "    ##### Non-Nested Results. Use GridSerach CV on X_Train to find ideal hyper-parameters. Utilize a lot of regularizaiton\n",
    "    #### in XGBoost Settings to generalize better\n",
    "\n",
    "# Set gridsearch\n",
    "print(\"beggining inner CV...\")\n",
    "params = {'learning_rate':[0.05,.1], 'max_depth':[3,5,7], 'n_estimators':[500,1000, 1500]} #small data set\n",
    "model_inner = model_selection.GridSearchCV(XGBClassifier(scoring='logloss', reg_alpha=0, reg_lambda=1.0,colsample_bylevel=1.0,\n",
    "                                        colsample_bytree=0.5,gamma=0.01,min_child_weight=1.0, max_delta_step=0.0 ), params)\n",
    "model_inner.fit(X_train, y_train )"
   ]
  },
  {
   "cell_type": "code",
   "execution_count": 17,
   "metadata": {},
   "outputs": [
    {
     "name": "stdout",
     "output_type": "stream",
     "text": [
      "model fit for inner CV for Malawi\n",
      "Shape of input params=  (7314, 14)\n",
      "Best searched parameters on inner CV {'learning_rate': 0.05, 'max_depth': 7, 'n_estimators': 1000}\n",
      "Best grid score on inner CV 0.825540060159\n",
      "Accuracy for inner nested_cv model : 0.8302\n",
      "AUC Score (test) for inner_nested cv_model: 0.841888\n",
      "beginning\n"
     ]
    },
    {
     "data": {
      "text/plain": [
       "XGBClassifier(base_score=0.5, booster='gbtree', colsample_bylevel=1.0,\n",
       "       colsample_bytree=0.5, gamma=0.01, learning_rate=0.05,\n",
       "       max_delta_step=0.0, max_depth=7, min_child_weight=1.0, missing=None,\n",
       "       n_estimators=123, n_jobs=1, nthread=None,\n",
       "       objective='binary:logistic', random_state=0, reg_alpha=0,\n",
       "       reg_lambda=1.0, scale_pos_weight=1, scoring='logloss', seed=None,\n",
       "       silent=True, subsample=1)"
      ]
     },
     "execution_count": 17,
     "metadata": {},
     "output_type": "execute_result"
    }
   ],
   "source": [
    "print('model fit for inner CV for Malawi')\n",
    "print('Shape of input params= ', X_train.shape)\n",
    "print('Best searched parameters on inner CV', model_inner.best_params_)\n",
    "print('Best grid score on inner CV', model_inner.best_score_)\n",
    "\n",
    "\n",
    "\n",
    "#get auc. \n",
    "preds_inner_AUC = model_inner.predict_proba(X_test)[:,1]\n",
    "preds_inner_accuracy = model_inner.predict(X_test)\n",
    "print(\"Accuracy for inner nested_cv model : %.4g\"%metrics.accuracy_score(y_test, preds_inner_accuracy))\n",
    "print(\"AUC Score (test) for inner_nested cv_model: %f\"%metrics.roc_auc_score(y_test, preds_inner_AUC))\n",
    "\n",
    "#store the best settings from our most recent, regularized XGBoost model above\n",
    "#perform early stopping\n",
    "print(\"beginning\")\n",
    "model_outer = model_inner.best_estimator_\n",
    "xgb_param =model_outer.get_xgb_params()\n",
    "xgtrain = xgb.DMatrix(X_train, label=y_train)\n",
    "#start with 2500 trees and early stop \n",
    "#use XGB cross-validation to determine our early stopping parameter\n",
    "cvresult = xgb.cv(xgb_param, xgtrain, num_boost_round=model_outer.get_params()['n_estimators'], nfold=5,\n",
    "            metrics='auc', early_stopping_rounds=200)\n",
    "#set number of trees to where early stopping occurred\n",
    "model_outer.set_params(n_estimators=cvresult.shape[0])\n",
    "\n",
    "\n",
    "#Fit the algorithm on the data\n",
    "model_outer.fit(X_train, y_train,eval_metric='auc')"
   ]
  },
  {
   "cell_type": "code",
   "execution_count": 18,
   "metadata": {},
   "outputs": [
    {
     "name": "stdout",
     "output_type": "stream",
     "text": [
      "\n",
      "Model Report\n",
      "Number of trees determined by early stopping and in final model 123\n",
      "Accuracy for outer nested_cv model on training data: 0.8664\n",
      "AUC Score (Train) for outer nested_cv model: 0.913702\n",
      "AUC Score (Test) for outer nested_cv model: 0.845086\n",
      "AUC Score (Holdout) for outer nested_cv model: 0.848526\n",
      "Accuracy for outer nested_cv model on holdout data: 0.8323\n"
     ]
    }
   ],
   "source": [
    "#Predict training set:\n",
    "dtrain_predictions = model_outer.predict(X_train)\n",
    "dtrain_predprob = model_outer.predict_proba(X_train)[:,1]\n",
    "dtest_predprob = model_outer.predict_proba(X_test)[:,1]\n",
    "\n",
    "#predict on the holdout set\n",
    "dholdout_predprob = model_outer.predict_proba(X_holdout)[:,1]\n",
    "dholdout_predictions = model_outer.predict(X_holdout)\n",
    "\n",
    "#Print model report:\n",
    "print(\"\\nModel Report\")\n",
    "print(\"Number of trees determined by early stopping and in final model\", cvresult.shape[0])\n",
    "print(\"Accuracy for outer nested_cv model on training data: %.4g\" % metrics.accuracy_score(y_train.values, dtrain_predictions))\n",
    "print(\"AUC Score (Train) for outer nested_cv model: %f\" % metrics.roc_auc_score(y_train, dtrain_predprob))\n",
    "print(\"AUC Score (Test) for outer nested_cv model: %f\" % metrics.roc_auc_score(y_test, dtest_predprob))\n",
    "\n",
    "print(\"AUC Score (Holdout) for outer nested_cv model: %f\" % metrics.roc_auc_score(y_holdout, dholdout_predprob))\n",
    "print(\"Accuracy for outer nested_cv model on holdout data: %.4g\" % metrics.accuracy_score(y_holdout.values, \n",
    "                                                                                          dholdout_predictions))\n"
   ]
  },
  {
   "cell_type": "code",
   "execution_count": 17,
   "metadata": {},
   "outputs": [
    {
     "data": {
      "text/plain": [
       "0.32513582188634027"
      ]
     },
     "execution_count": 17,
     "metadata": {},
     "output_type": "execute_result"
    }
   ],
   "source": [
    "metrics.log_loss(y_train.values, dtrain_predprob)"
   ]
  },
  {
   "cell_type": "markdown",
   "metadata": {},
   "source": [
    "# Fairly stable across test and holdout"
   ]
  },
  {
   "cell_type": "code",
   "execution_count": 18,
   "metadata": {
    "collapsed": true
   },
   "outputs": [],
   "source": [
    "def get_nested_cv_preds(model, X, Y):\n",
    "    \"\"\"args: classification model object, fully numeric/ encoded X, target columns\n",
    "       returns: array of 1) binary classification predictions, 2) probabilities of class membership\"\"\"\n",
    "    #shuffle is necessary. Define same stratified k-fold as before\n",
    "    #ToDo - fix hard coding of random state, splits, \n",
    "    skf= model_selection.StratifiedKFold(n_splits=5, random_state=7, shuffle=True)\n",
    "    \n",
    "    print('full data AUC- CV score', sk.model_selection.cross_val_score(model, X, y=Y, scoring='roc_auc',cv=skf))\n",
    "    cv_results_preds = sk.model_selection.cross_val_predict(model, X, y=Y, cv=skf )\n",
    "    cv_results_probs = sk.model_selection.cross_val_predict(model, X, y=Y, cv=skf, method ='predict_proba')\n",
    "    \n",
    "    print(\"Accuracy full-data : %.4g\" % metrics.accuracy_score(Y, cv_results_preds))\n",
    "    print(\"AUC Score full-data: %f\" % metrics.roc_auc_score(Y, cv_results_probs[:,1]))\n",
    "    \n",
    "    return cv_results_preds, cv_results_probs"
   ]
  },
  {
   "cell_type": "code",
   "execution_count": 19,
   "metadata": {},
   "outputs": [
    {
     "name": "stdout",
     "output_type": "stream",
     "text": [
      "full data AUC- CV score [ 0.84842257  0.85167389  0.83556521  0.85542496  0.84272755]\n",
      "Accuracy full-data : 0.8313\n",
      "AUC Score full-data: 0.846344\n"
     ]
    },
    {
     "data": {
      "text/plain": [
       "(array([ 0.,  0.,  0., ...,  0.,  0.,  1.]), array([[ 0.79695225,  0.20304777],\n",
       "        [ 0.80321991,  0.1967801 ],\n",
       "        [ 0.79325503,  0.20674498],\n",
       "        ..., \n",
       "        [ 0.86276162,  0.13723835],\n",
       "        [ 0.86110294,  0.13889709],\n",
       "        [ 0.06421155,  0.93578845]], dtype=float32))"
      ]
     },
     "execution_count": 19,
     "metadata": {},
     "output_type": "execute_result"
    }
   ],
   "source": [
    "get_nested_cv_preds(model_outer,X2,Y)"
   ]
  },
  {
   "cell_type": "code",
   "execution_count": 20,
   "metadata": {
    "collapsed": true
   },
   "outputs": [],
   "source": [
    "def save_model(model, country):\n",
    "    filename = '{}_pickle.sav'.format(country)\n",
    "    pickle.dump(model, open(filename, 'wb'))\n",
    "    print('saved as', filename)"
   ]
  },
  {
   "cell_type": "code",
   "execution_count": 21,
   "metadata": {},
   "outputs": [
    {
     "name": "stdout",
     "output_type": "stream",
     "text": [
      "saved as Malawi_pickle.sav\n"
     ]
    }
   ],
   "source": [
    "name = sl.country_name.unique()[0]\n",
    "save_model(model_outer, name)"
   ]
  },
  {
   "cell_type": "code",
   "execution_count": 22,
   "metadata": {},
   "outputs": [
    {
     "data": {
      "text/plain": [
       "<matplotlib.axes._subplots.AxesSubplot at 0x10fb8e4e0>"
      ]
     },
     "execution_count": 22,
     "metadata": {},
     "output_type": "execute_result"
    },
    {
     "data": {
      "image/png": "[encoded data removed]",
      "text/plain": [
       "<matplotlib.figure.Figure at 0x1056ae198>"
      ]
     },
     "metadata": {},
     "output_type": "display_data"
    }
   ],
   "source": [
    "xgb.plot_importance(model_outer)"
   ]
  },
  {
   "cell_type": "code",
   "execution_count": 23,
   "metadata": {},
   "outputs": [
    {
     "data": {
      "text/plain": [
       "<matplotlib.axes._subplots.AxesSubplot at 0x10fa48fd0>"
      ]
     },
     "execution_count": 23,
     "metadata": {},
     "output_type": "execute_result"
    },
    {
     "data": {
      "image/png": "[encoded data removed]",
      "text/plain": [
       "<matplotlib.figure.Figure at 0x10420f518>"
      ]
     },
     "metadata": {},
     "output_type": "display_data"
    }
   ],
   "source": [
    "xgb.plot_importance(model_outer, importance_type='gain')"
   ]
  },
  {
   "cell_type": "code",
   "execution_count": 24,
   "metadata": {},
   "outputs": [
    {
     "data": {
      "text/plain": [
       "array([ 0.02752294,  0.0351682 ,  0.00856269,  0.00856269,  0.00840979,\n",
       "        0.06131499,  0.        ,  0.29571864,  0.28226301,  0.06544343,\n",
       "        0.09067278,  0.07324159,  0.02018349,  0.02293578], dtype=float32)"
      ]
     },
     "execution_count": 24,
     "metadata": {},
     "output_type": "execute_result"
    }
   ],
   "source": [
    "model_outer.feature_importances_"
   ]
  },
  {
   "cell_type": "code",
   "execution_count": 25,
   "metadata": {
    "collapsed": true
   },
   "outputs": [],
   "source": [
    "def permutation_importances(model, X_train, y_train, metric):\n",
    "    baseline = metric( y_train.values,model.predict_proba(X_train))\n",
    "    imp = []\n",
    "    for col in X_train.columns:\n",
    "        save = X_train[col].copy() #store the original\n",
    "        X_train[col] = np.random.permutation(X_train[col]) #shuffle each column\n",
    "        m = metric( y_train.values,model.predict_proba(X_train)) #make predictions\n",
    "        X_train[col] = save # return it back to normal\n",
    "        imp.append(baseline - m) # if \n",
    "    return np.array(imp)"
   ]
  },
  {
   "cell_type": "code",
   "execution_count": 26,
   "metadata": {
    "collapsed": true
   },
   "outputs": [],
   "source": [
    "# from eli5.sklearn import PermutationImportance\n",
    "# perm = PermutationImportance(model_outer).fit(X_test, y_test)\n",
    "# eli5.show_weights(perm)"
   ]
  },
  {
   "cell_type": "code",
   "execution_count": 27,
   "metadata": {
    "collapsed": true
   },
   "outputs": [],
   "source": [
    "imp = permutation_importances(model_outer, X_test, y_test, metrics.log_loss)"
   ]
  },
  {
   "cell_type": "code",
   "execution_count": 28,
   "metadata": {},
   "outputs": [
    {
     "data": {
      "text/plain": [
       "array([-0.0021241 , -0.0250997 , -0.00154071, -0.0138011 , -0.00203118,\n",
       "       -0.00812968,  0.        , -0.03699273, -0.03864425, -0.01263879,\n",
       "       -0.01343579, -0.00594563, -0.02432907, -0.0215905 ])"
      ]
     },
     "execution_count": 28,
     "metadata": {},
     "output_type": "execute_result"
    }
   ],
   "source": [
    "imp"
   ]
  },
  {
   "cell_type": "code",
   "execution_count": 29,
   "metadata": {},
   "outputs": [
    {
     "data": {
      "text/plain": [
       "Index(['water_source', 'water_tech', 'management', 'source', 'adm1', 'adm2',\n",
       "       'pay', 'lat_deg', 'lon_deg', 'new_install_year', 'age_well_years',\n",
       "       'time_since_meas_years', 'fuzzy_water_source', 'fuzzy_water_tech'],\n",
       "      dtype='object')"
      ]
     },
     "execution_count": 29,
     "metadata": {},
     "output_type": "execute_result"
    }
   ],
   "source": [
    "X_test.columns"
   ]
  },
  {
   "cell_type": "code",
   "execution_count": 31,
   "metadata": {
    "collapsed": true
   },
   "outputs": [],
   "source": [
    "def plot_perm_importance(perm_importance, X_test):\n",
    "    #takes a permutatino importance and the input data from it and plots\n",
    "    df = pd.DataFrame(data=abs(imp), index=X_test.columns).sort_values(by=0)\n",
    "    df.rename(columns={0:'Feature Importance'},inplace=True)\n",
    "    df.sort_values(by='Feature Importance').plot(kind='barh',\n",
    "                    title='Feature Importance', legend=None)\n"
   ]
  },
  {
   "cell_type": "code",
   "execution_count": 32,
   "metadata": {},
   "outputs": [
    {
     "data": {
      "image/png": "[encoded data removed]",
      "text/plain": [
       "<matplotlib.figure.Figure at 0x110dd5128>"
      ]
     },
     "metadata": {},
     "output_type": "display_data"
    }
   ],
   "source": [
    "plot_perm_importance(imp, X_test)"
   ]
  },
  {
   "cell_type": "markdown",
   "metadata": {},
   "source": [
    "# we now how of our early stopped, cross-validated model. We now need to identify the ideal prediction threshold"
   ]
  },
  {
   "cell_type": "code",
   "execution_count": 34,
   "metadata": {},
   "outputs": [
    {
     "data": {
      "text/plain": [
       "<matplotlib.text.Text at 0x1110b4860>"
      ]
     },
     "execution_count": 34,
     "metadata": {},
     "output_type": "execute_result"
    },
    {
     "data": {
      "image/png": "[encoded data removed]",
      "text/plain": [
       "<matplotlib.figure.Figure at 0x111004780>"
      ]
     },
     "metadata": {},
     "output_type": "display_data"
    }
   ],
   "source": [
    "pd.DataFrame(dholdout_predprob[y_holdout==0]).hist(bins=50)\n",
    "plt.title('Prediction Distribution on holdout for good wells')\n"
   ]
  },
  {
   "cell_type": "code",
   "execution_count": 35,
   "metadata": {},
   "outputs": [
    {
     "data": {
      "text/plain": [
       "<matplotlib.text.Text at 0x11123e8d0>"
      ]
     },
     "execution_count": 35,
     "metadata": {},
     "output_type": "execute_result"
    },
    {
     "data": {
      "image/png": "[encoded data removed]",
      "text/plain": [
       "<matplotlib.figure.Figure at 0x110a16048>"
      ]
     },
     "metadata": {},
     "output_type": "display_data"
    }
   ],
   "source": [
    "pd.DataFrame(dholdout_predprob[y_holdout==1]).hist(bins=50)\n",
    "plt.title('Prediction Distribution on holdout for bad wells')\n"
   ]
  },
  {
   "cell_type": "code",
   "execution_count": 36,
   "metadata": {},
   "outputs": [
    {
     "data": {
      "text/plain": [
       "(array([ 0.61674091,  1.23348183,  1.91874951,  1.16495506,  1.16495506,\n",
       "         1.02790152,  0.61674091,  1.16495506,  0.54821415,  0.54821415,\n",
       "         1.43906213,  0.61674091,  1.23348183,  1.09642829,  1.23348183,\n",
       "         1.37053537,  1.02790152,  1.71316921,  1.3020086 ,  1.09642829,\n",
       "         1.09642829,  1.3020086 ,  1.78169598,  1.02790152,  1.09642829,\n",
       "         0.68526768,  0.41116061,  0.41116061,  0.47968738,  0.34263384,\n",
       "         0.54821415,  0.13705354,  0.06852677,  0.2055803 ,  0.27410707,\n",
       "         0.27410707,  0.41116061,  1.02790152,  2.74107073,  5.27656116]),\n",
       " array([ 0.02672639,  0.05068836,  0.07465033,  0.09861229,  0.12257426,\n",
       "         0.14653623,  0.17049819,  0.19446016,  0.21842213,  0.24238409,\n",
       "         0.26634606,  0.29030803,  0.31426999,  0.33823196,  0.36219393,\n",
       "         0.38615589,  0.41011786,  0.43407983,  0.45804179,  0.48200376,\n",
       "         0.50596572,  0.52992769,  0.55388966,  0.57785162,  0.60181359,\n",
       "         0.62577556,  0.64973752,  0.67369949,  0.69766146,  0.72162342,\n",
       "         0.74558539,  0.76954736,  0.79350932,  0.81747129,  0.84143326,\n",
       "         0.86539522,  0.88935719,  0.91331915,  0.93728112,  0.96124309,\n",
       "         0.98520505]),\n",
       " <a list of 1 Patch objects>)"
      ]
     },
     "execution_count": 36,
     "metadata": {},
     "output_type": "execute_result"
    },
    {
     "data": {
      "image/png": "[encoded data removed]",
      "text/plain": [
       "<matplotlib.figure.Figure at 0x1112be1d0>"
      ]
     },
     "metadata": {},
     "output_type": "display_data"
    }
   ],
   "source": [
    "\n",
    "x1 = dholdout_predprob[y_holdout==0]\n",
    "x2 = dholdout_predprob[y_holdout==1]\n",
    "\n",
    "\n",
    "kwargs = dict(histtype='stepfilled', alpha=0.3, normed=True, bins=40)\n",
    "\n",
    "plt.title('probability distribution for true negatives and true positives')\n",
    "plt.hist(x1, **kwargs)\n",
    "plt.hist(x2, **kwargs)\n"
   ]
  },
  {
   "cell_type": "markdown",
   "metadata": {},
   "source": [
    "### Some separation, will need to adjust the threshold"
   ]
  },
  {
   "cell_type": "code",
   "execution_count": 37,
   "metadata": {
    "collapsed": true
   },
   "outputs": [],
   "source": [
    "def evaluate_prediction_thresholds(y_true, y_pred_probs, recall_val):\n",
    "    import numpy as np\n",
    "    d = dict()\n",
    "    for i in np.linspace(0,0.5, num=20):\n",
    "        best = 0\n",
    "        test = np.where(y_pred_probs > i, 1,0)\n",
    "        recall = metrics.recall_score(y_true, test)\n",
    "        precision = metrics.precision_score(y_true, test)\n",
    "        f_score = metrics.f1_score(y_true, test, average='binary')\n",
    "        d[i]=recall, precision, f_score\n",
    "\n",
    "    frame = pd.DataFrame.from_dict(d, orient='index')#.columns=(['recall', 'f1_score'])\n",
    "    frame.columns=(['recall','precision', 'f1_score'])\n",
    "    frame = frame[frame.recall>recall_val]\n",
    "    return frame"
   ]
  },
  {
   "cell_type": "code",
   "execution_count": 38,
   "metadata": {},
   "outputs": [
    {
     "data": {
      "text/html": [
       "<div>\n",
       "<style scoped>\n",
       "    .dataframe tbody tr th:only-of-type {\n",
       "        vertical-align: middle;\n",
       "    }\n",
       "\n",
       "    .dataframe tbody tr th {\n",
       "        vertical-align: top;\n",
       "    }\n",
       "\n",
       "    .dataframe thead th {\n",
       "        text-align: right;\n",
       "    }\n",
       "</style>\n",
       "<table border=\"1\" class=\"dataframe\">\n",
       "  <thead>\n",
       "    <tr style=\"text-align: right;\">\n",
       "      <th></th>\n",
       "      <th>recall</th>\n",
       "      <th>precision</th>\n",
       "      <th>f1_score</th>\n",
       "    </tr>\n",
       "  </thead>\n",
       "  <tbody>\n",
       "    <tr>\n",
       "      <th>0.000000</th>\n",
       "      <td>1.000000</td>\n",
       "      <td>0.249795</td>\n",
       "      <td>0.399737</td>\n",
       "    </tr>\n",
       "    <tr>\n",
       "      <th>0.026316</th>\n",
       "      <td>0.998358</td>\n",
       "      <td>0.250929</td>\n",
       "      <td>0.401055</td>\n",
       "    </tr>\n",
       "    <tr>\n",
       "      <th>0.052632</th>\n",
       "      <td>0.985222</td>\n",
       "      <td>0.275609</td>\n",
       "      <td>0.430725</td>\n",
       "    </tr>\n",
       "    <tr>\n",
       "      <th>0.078947</th>\n",
       "      <td>0.958949</td>\n",
       "      <td>0.335632</td>\n",
       "      <td>0.497233</td>\n",
       "    </tr>\n",
       "    <tr>\n",
       "      <th>0.105263</th>\n",
       "      <td>0.911330</td>\n",
       "      <td>0.391121</td>\n",
       "      <td>0.547337</td>\n",
       "    </tr>\n",
       "    <tr>\n",
       "      <th>0.131579</th>\n",
       "      <td>0.865353</td>\n",
       "      <td>0.430908</td>\n",
       "      <td>0.575328</td>\n",
       "    </tr>\n",
       "    <tr>\n",
       "      <th>0.157895</th>\n",
       "      <td>0.829228</td>\n",
       "      <td>0.462031</td>\n",
       "      <td>0.593420</td>\n",
       "    </tr>\n",
       "    <tr>\n",
       "      <th>0.184211</th>\n",
       "      <td>0.798030</td>\n",
       "      <td>0.492901</td>\n",
       "      <td>0.609404</td>\n",
       "    </tr>\n",
       "    <tr>\n",
       "      <th>0.210526</th>\n",
       "      <td>0.761905</td>\n",
       "      <td>0.514412</td>\n",
       "      <td>0.614163</td>\n",
       "    </tr>\n",
       "    <tr>\n",
       "      <th>0.236842</th>\n",
       "      <td>0.717570</td>\n",
       "      <td>0.532278</td>\n",
       "      <td>0.611189</td>\n",
       "    </tr>\n",
       "  </tbody>\n",
       "</table>\n",
       "</div>"
      ],
      "text/plain": [
       "            recall  precision  f1_score\n",
       "0.000000  1.000000   0.249795  0.399737\n",
       "0.026316  0.998358   0.250929  0.401055\n",
       "0.052632  0.985222   0.275609  0.430725\n",
       "0.078947  0.958949   0.335632  0.497233\n",
       "0.105263  0.911330   0.391121  0.547337\n",
       "0.131579  0.865353   0.430908  0.575328\n",
       "0.157895  0.829228   0.462031  0.593420\n",
       "0.184211  0.798030   0.492901  0.609404\n",
       "0.210526  0.761905   0.514412  0.614163\n",
       "0.236842  0.717570   0.532278  0.611189"
      ]
     },
     "execution_count": 38,
     "metadata": {},
     "output_type": "execute_result"
    }
   ],
   "source": [
    "evaluate_prediction_thresholds(y_test, dtest_predprob, .7)"
   ]
  },
  {
   "cell_type": "code",
   "execution_count": 39,
   "metadata": {},
   "outputs": [
    {
     "data": {
      "text/html": [
       "<div>\n",
       "<style scoped>\n",
       "    .dataframe tbody tr th:only-of-type {\n",
       "        vertical-align: middle;\n",
       "    }\n",
       "\n",
       "    .dataframe tbody tr th {\n",
       "        vertical-align: top;\n",
       "    }\n",
       "\n",
       "    .dataframe thead th {\n",
       "        text-align: right;\n",
       "    }\n",
       "</style>\n",
       "<table border=\"1\" class=\"dataframe\">\n",
       "  <thead>\n",
       "    <tr style=\"text-align: right;\">\n",
       "      <th></th>\n",
       "      <th>recall</th>\n",
       "      <th>precision</th>\n",
       "      <th>f1_score</th>\n",
       "    </tr>\n",
       "  </thead>\n",
       "  <tbody>\n",
       "    <tr>\n",
       "      <th>0.000000</th>\n",
       "      <td>1.000000</td>\n",
       "      <td>0.249692</td>\n",
       "      <td>0.399606</td>\n",
       "    </tr>\n",
       "    <tr>\n",
       "      <th>0.026316</th>\n",
       "      <td>1.000000</td>\n",
       "      <td>0.251549</td>\n",
       "      <td>0.401980</td>\n",
       "    </tr>\n",
       "    <tr>\n",
       "      <th>0.052632</th>\n",
       "      <td>0.985222</td>\n",
       "      <td>0.273100</td>\n",
       "      <td>0.427655</td>\n",
       "    </tr>\n",
       "    <tr>\n",
       "      <th>0.078947</th>\n",
       "      <td>0.952381</td>\n",
       "      <td>0.323661</td>\n",
       "      <td>0.483132</td>\n",
       "    </tr>\n",
       "    <tr>\n",
       "      <th>0.105263</th>\n",
       "      <td>0.898194</td>\n",
       "      <td>0.374914</td>\n",
       "      <td>0.529014</td>\n",
       "    </tr>\n",
       "    <tr>\n",
       "      <th>0.131579</th>\n",
       "      <td>0.873563</td>\n",
       "      <td>0.417255</td>\n",
       "      <td>0.564756</td>\n",
       "    </tr>\n",
       "    <tr>\n",
       "      <th>0.157895</th>\n",
       "      <td>0.844007</td>\n",
       "      <td>0.452465</td>\n",
       "      <td>0.589112</td>\n",
       "    </tr>\n",
       "    <tr>\n",
       "      <th>0.184211</th>\n",
       "      <td>0.821018</td>\n",
       "      <td>0.477555</td>\n",
       "      <td>0.603865</td>\n",
       "    </tr>\n",
       "    <tr>\n",
       "      <th>0.210526</th>\n",
       "      <td>0.794745</td>\n",
       "      <td>0.502075</td>\n",
       "      <td>0.615385</td>\n",
       "    </tr>\n",
       "    <tr>\n",
       "      <th>0.236842</th>\n",
       "      <td>0.779967</td>\n",
       "      <td>0.528953</td>\n",
       "      <td>0.630392</td>\n",
       "    </tr>\n",
       "    <tr>\n",
       "      <th>0.263158</th>\n",
       "      <td>0.763547</td>\n",
       "      <td>0.557554</td>\n",
       "      <td>0.644491</td>\n",
       "    </tr>\n",
       "    <tr>\n",
       "      <th>0.289474</th>\n",
       "      <td>0.725780</td>\n",
       "      <td>0.577023</td>\n",
       "      <td>0.642909</td>\n",
       "    </tr>\n",
       "    <tr>\n",
       "      <th>0.315789</th>\n",
       "      <td>0.709360</td>\n",
       "      <td>0.600000</td>\n",
       "      <td>0.650113</td>\n",
       "    </tr>\n",
       "  </tbody>\n",
       "</table>\n",
       "</div>"
      ],
      "text/plain": [
       "            recall  precision  f1_score\n",
       "0.000000  1.000000   0.249692  0.399606\n",
       "0.026316  1.000000   0.251549  0.401980\n",
       "0.052632  0.985222   0.273100  0.427655\n",
       "0.078947  0.952381   0.323661  0.483132\n",
       "0.105263  0.898194   0.374914  0.529014\n",
       "0.131579  0.873563   0.417255  0.564756\n",
       "0.157895  0.844007   0.452465  0.589112\n",
       "0.184211  0.821018   0.477555  0.603865\n",
       "0.210526  0.794745   0.502075  0.615385\n",
       "0.236842  0.779967   0.528953  0.630392\n",
       "0.263158  0.763547   0.557554  0.644491\n",
       "0.289474  0.725780   0.577023  0.642909\n",
       "0.315789  0.709360   0.600000  0.650113"
      ]
     },
     "execution_count": 39,
     "metadata": {},
     "output_type": "execute_result"
    }
   ],
   "source": [
    "evaluate_prediction_thresholds(y_holdout, dholdout_predprob, 0.7)"
   ]
  },
  {
   "cell_type": "markdown",
   "metadata": {},
   "source": [
    "## Modeling Decision: Threshold of 0.237 gives a recall > 0.81 and a precision > 0.51 on both test and holdout. Will use as threshold. Not great but want to have at least a 50% chance of investigating a real bad well (prioritization) and balanced with catching as many as possible (recall)."
   ]
  },
  {
   "cell_type": "markdown",
   "metadata": {},
   "source": [
    "### Create predictions for the out years based on data"
   ]
  },
  {
   "cell_type": "code",
   "execution_count": 19,
   "metadata": {},
   "outputs": [
    {
     "data": {
      "text/html": [
       "<div>\n",
       "<style scoped>\n",
       "    .dataframe tbody tr th:only-of-type {\n",
       "        vertical-align: middle;\n",
       "    }\n",
       "\n",
       "    .dataframe tbody tr th {\n",
       "        vertical-align: top;\n",
       "    }\n",
       "\n",
       "    .dataframe thead th {\n",
       "        text-align: right;\n",
       "    }\n",
       "</style>\n",
       "<table border=\"1\" class=\"dataframe\">\n",
       "  <thead>\n",
       "    <tr style=\"text-align: right;\">\n",
       "      <th></th>\n",
       "      <th>water_source</th>\n",
       "      <th>water_tech</th>\n",
       "      <th>management</th>\n",
       "      <th>source</th>\n",
       "      <th>adm1</th>\n",
       "      <th>adm2</th>\n",
       "      <th>pay</th>\n",
       "      <th>lat_deg</th>\n",
       "      <th>lon_deg</th>\n",
       "      <th>new_install_year</th>\n",
       "      <th>age_well_years</th>\n",
       "      <th>time_since_meas_years</th>\n",
       "      <th>fuzzy_water_source</th>\n",
       "      <th>fuzzy_water_tech</th>\n",
       "    </tr>\n",
       "  </thead>\n",
       "  <tbody>\n",
       "    <tr>\n",
       "      <th>15016</th>\n",
       "      <td>17</td>\n",
       "      <td>23</td>\n",
       "      <td>4</td>\n",
       "      <td>10</td>\n",
       "      <td>9</td>\n",
       "      <td>44</td>\n",
       "      <td>0</td>\n",
       "      <td>-14.0322</td>\n",
       "      <td>34.1128</td>\n",
       "      <td>59</td>\n",
       "      <td>280.6</td>\n",
       "      <td>6.6</td>\n",
       "      <td>10</td>\n",
       "      <td>1</td>\n",
       "    </tr>\n",
       "  </tbody>\n",
       "</table>\n",
       "</div>"
      ],
      "text/plain": [
       "       water_source  water_tech  management  source  adm1  adm2  pay  lat_deg  \\\n",
       "15016            17          23           4      10     9    44    0 -14.0322   \n",
       "\n",
       "       lon_deg  new_install_year  age_well_years  time_since_meas_years  \\\n",
       "15016  34.1128                59           280.6                    6.6   \n",
       "\n",
       "       fuzzy_water_source  fuzzy_water_tech  \n",
       "15016                  10                 1  "
      ]
     },
     "execution_count": 19,
     "metadata": {},
     "output_type": "execute_result"
    }
   ],
   "source": [
    "X_today = X2.copy()\n",
    "X_today['age_well_years'] = X_today.age_well_years + X_today.time_since_meas_years\n",
    "X_today[:1]"
   ]
  },
  {
   "cell_type": "code",
   "execution_count": 20,
   "metadata": {
    "collapsed": true
   },
   "outputs": [],
   "source": [
    "#make two other future values to predict, 1 year and 5 years\n",
    "X_1year = X_today.copy()\n",
    "X_1year['age_well_years'] = X_1year.age_well_years + 1\n",
    "X_3year = X_1year.copy()\n",
    "X_3year['age_well_years']=X_3year.age_well_years+2\n",
    "X_5year = X_1year.copy()\n",
    "X_5year['age_well_years']=X_5year.age_well_years+4"
   ]
  },
  {
   "cell_type": "code",
   "execution_count": 21,
   "metadata": {},
   "outputs": [
    {
     "name": "stdout",
     "output_type": "stream",
     "text": [
      "       age_well_years  time_since_meas_years\n",
      "15016           274.0                    6.6\n",
      "15016    280.6\n",
      "Name: age_well_years, dtype: float64\n",
      "15016    281.6\n",
      "Name: age_well_years, dtype: float64\n",
      "15016    283.6\n",
      "Name: age_well_years, dtype: float64\n",
      "15016    285.6\n",
      "Name: age_well_years, dtype: float64\n"
     ]
    }
   ],
   "source": [
    "print(X2[['age_well_years', 'time_since_meas_years']][:1])\n",
    "print(X_today['age_well_years'][:1])\n",
    "print(X_1year['age_well_years'][:1])\n",
    "print(X_3year['age_well_years'][:1])\n",
    "print(X_5year['age_well_years'][:1])"
   ]
  },
  {
   "cell_type": "markdown",
   "metadata": {},
   "source": [
    "# Get Predictions for Today, 1, 3 and 5 years out"
   ]
  },
  {
   "cell_type": "code",
   "execution_count": 22,
   "metadata": {
    "collapsed": true
   },
   "outputs": [],
   "source": [
    "today_preds = model_outer.predict(X_today)\n",
    "today_predprob = model_outer.predict_proba(X_today)\n",
    "one_year_preds = model_outer.predict(X_1year)\n",
    "one_year_predprob = model_outer.predict_proba(X_1year)\n",
    "three_year_preds = model_outer.predict(X_3year)\n",
    "three_year_predprob = model_outer.predict_proba(X_3year)\n",
    "five_year_preds = model_outer.predict(X_5year)\n",
    "five_year_predprob = model_outer.predict_proba(X_5year)"
   ]
  },
  {
   "cell_type": "code",
   "execution_count": 23,
   "metadata": {
    "collapsed": true
   },
   "outputs": [],
   "source": [
    "# append them to the original df\n",
    "#erroring, since we had to drop a few NaN rows\n",
    "sl = df2\n",
    "sl['today_preds']=today_preds\n",
    "sl['today_predprob']= today_predprob[:,1]\n",
    "sl['one_year_preds'] = one_year_preds\n",
    "sl['one_year_predprob'] = one_year_predprob[:,1]\n",
    "sl['three_year_preds'] = three_year_preds\n",
    "sl['three_year_predprob']= three_year_predprob[:,1]\n",
    "sl['five_year_preds']=five_year_preds\n",
    "sl['five_year_predprob'] =five_year_predprob[:,1]"
   ]
  },
  {
   "cell_type": "code",
   "execution_count": 45,
   "metadata": {},
   "outputs": [
    {
     "data": {
      "text/html": [
       "<div>\n",
       "<style scoped>\n",
       "    .dataframe tbody tr th:only-of-type {\n",
       "        vertical-align: middle;\n",
       "    }\n",
       "\n",
       "    .dataframe tbody tr th {\n",
       "        vertical-align: top;\n",
       "    }\n",
       "\n",
       "    .dataframe thead th {\n",
       "        text-align: right;\n",
       "    }\n",
       "</style>\n",
       "<table border=\"1\" class=\"dataframe\">\n",
       "  <thead>\n",
       "    <tr style=\"text-align: right;\">\n",
       "      <th></th>\n",
       "      <th>status_binary</th>\n",
       "      <th>today_preds</th>\n",
       "      <th>one_year_preds</th>\n",
       "      <th>three_year_preds</th>\n",
       "      <th>five_year_preds</th>\n",
       "    </tr>\n",
       "  </thead>\n",
       "  <tbody>\n",
       "    <tr>\n",
       "      <th>count</th>\n",
       "      <td>12191.000000</td>\n",
       "      <td>12191.000000</td>\n",
       "      <td>12191.000000</td>\n",
       "      <td>12191.000000</td>\n",
       "      <td>12191.000000</td>\n",
       "    </tr>\n",
       "    <tr>\n",
       "      <th>mean</th>\n",
       "      <td>0.249692</td>\n",
       "      <td>0.145517</td>\n",
       "      <td>0.161431</td>\n",
       "      <td>0.154376</td>\n",
       "      <td>0.157001</td>\n",
       "    </tr>\n",
       "    <tr>\n",
       "      <th>std</th>\n",
       "      <td>0.432853</td>\n",
       "      <td>0.352636</td>\n",
       "      <td>0.367943</td>\n",
       "      <td>0.361324</td>\n",
       "      <td>0.363817</td>\n",
       "    </tr>\n",
       "    <tr>\n",
       "      <th>min</th>\n",
       "      <td>0.000000</td>\n",
       "      <td>0.000000</td>\n",
       "      <td>0.000000</td>\n",
       "      <td>0.000000</td>\n",
       "      <td>0.000000</td>\n",
       "    </tr>\n",
       "    <tr>\n",
       "      <th>25%</th>\n",
       "      <td>0.000000</td>\n",
       "      <td>0.000000</td>\n",
       "      <td>0.000000</td>\n",
       "      <td>0.000000</td>\n",
       "      <td>0.000000</td>\n",
       "    </tr>\n",
       "    <tr>\n",
       "      <th>50%</th>\n",
       "      <td>0.000000</td>\n",
       "      <td>0.000000</td>\n",
       "      <td>0.000000</td>\n",
       "      <td>0.000000</td>\n",
       "      <td>0.000000</td>\n",
       "    </tr>\n",
       "    <tr>\n",
       "      <th>75%</th>\n",
       "      <td>0.000000</td>\n",
       "      <td>0.000000</td>\n",
       "      <td>0.000000</td>\n",
       "      <td>0.000000</td>\n",
       "      <td>0.000000</td>\n",
       "    </tr>\n",
       "    <tr>\n",
       "      <th>max</th>\n",
       "      <td>1.000000</td>\n",
       "      <td>1.000000</td>\n",
       "      <td>1.000000</td>\n",
       "      <td>1.000000</td>\n",
       "      <td>1.000000</td>\n",
       "    </tr>\n",
       "  </tbody>\n",
       "</table>\n",
       "</div>"
      ],
      "text/plain": [
       "       status_binary   today_preds  one_year_preds  three_year_preds  \\\n",
       "count   12191.000000  12191.000000    12191.000000      12191.000000   \n",
       "mean        0.249692      0.145517        0.161431          0.154376   \n",
       "std         0.432853      0.352636        0.367943          0.361324   \n",
       "min         0.000000      0.000000        0.000000          0.000000   \n",
       "25%         0.000000      0.000000        0.000000          0.000000   \n",
       "50%         0.000000      0.000000        0.000000          0.000000   \n",
       "75%         0.000000      0.000000        0.000000          0.000000   \n",
       "max         1.000000      1.000000        1.000000          1.000000   \n",
       "\n",
       "       five_year_preds  \n",
       "count     12191.000000  \n",
       "mean          0.157001  \n",
       "std           0.363817  \n",
       "min           0.000000  \n",
       "25%           0.000000  \n",
       "50%           0.000000  \n",
       "75%           0.000000  \n",
       "max           1.000000  "
      ]
     },
     "execution_count": 45,
     "metadata": {},
     "output_type": "execute_result"
    }
   ],
   "source": [
    "#old way before adjusting time since meas\n",
    "sl[['status_binary','today_preds','one_year_preds','three_year_preds', 'five_year_preds']].describe()"
   ]
  },
  {
   "cell_type": "code",
   "execution_count": 24,
   "metadata": {},
   "outputs": [
    {
     "data": {
      "text/html": [
       "<div>\n",
       "<style scoped>\n",
       "    .dataframe tbody tr th:only-of-type {\n",
       "        vertical-align: middle;\n",
       "    }\n",
       "\n",
       "    .dataframe tbody tr th {\n",
       "        vertical-align: top;\n",
       "    }\n",
       "\n",
       "    .dataframe thead th {\n",
       "        text-align: right;\n",
       "    }\n",
       "</style>\n",
       "<table border=\"1\" class=\"dataframe\">\n",
       "  <thead>\n",
       "    <tr style=\"text-align: right;\">\n",
       "      <th></th>\n",
       "      <th>status_binary</th>\n",
       "      <th>today_preds</th>\n",
       "      <th>one_year_preds</th>\n",
       "      <th>three_year_preds</th>\n",
       "      <th>five_year_preds</th>\n",
       "    </tr>\n",
       "  </thead>\n",
       "  <tbody>\n",
       "    <tr>\n",
       "      <th>count</th>\n",
       "      <td>12191.000000</td>\n",
       "      <td>12191.000000</td>\n",
       "      <td>12191.000000</td>\n",
       "      <td>12191.000000</td>\n",
       "      <td>12191.000000</td>\n",
       "    </tr>\n",
       "    <tr>\n",
       "      <th>mean</th>\n",
       "      <td>0.249692</td>\n",
       "      <td>0.145517</td>\n",
       "      <td>0.148142</td>\n",
       "      <td>0.157657</td>\n",
       "      <td>0.165532</td>\n",
       "    </tr>\n",
       "    <tr>\n",
       "      <th>std</th>\n",
       "      <td>0.432853</td>\n",
       "      <td>0.352636</td>\n",
       "      <td>0.355255</td>\n",
       "      <td>0.364434</td>\n",
       "      <td>0.371675</td>\n",
       "    </tr>\n",
       "    <tr>\n",
       "      <th>min</th>\n",
       "      <td>0.000000</td>\n",
       "      <td>0.000000</td>\n",
       "      <td>0.000000</td>\n",
       "      <td>0.000000</td>\n",
       "      <td>0.000000</td>\n",
       "    </tr>\n",
       "    <tr>\n",
       "      <th>25%</th>\n",
       "      <td>0.000000</td>\n",
       "      <td>0.000000</td>\n",
       "      <td>0.000000</td>\n",
       "      <td>0.000000</td>\n",
       "      <td>0.000000</td>\n",
       "    </tr>\n",
       "    <tr>\n",
       "      <th>50%</th>\n",
       "      <td>0.000000</td>\n",
       "      <td>0.000000</td>\n",
       "      <td>0.000000</td>\n",
       "      <td>0.000000</td>\n",
       "      <td>0.000000</td>\n",
       "    </tr>\n",
       "    <tr>\n",
       "      <th>75%</th>\n",
       "      <td>0.000000</td>\n",
       "      <td>0.000000</td>\n",
       "      <td>0.000000</td>\n",
       "      <td>0.000000</td>\n",
       "      <td>0.000000</td>\n",
       "    </tr>\n",
       "    <tr>\n",
       "      <th>max</th>\n",
       "      <td>1.000000</td>\n",
       "      <td>1.000000</td>\n",
       "      <td>1.000000</td>\n",
       "      <td>1.000000</td>\n",
       "      <td>1.000000</td>\n",
       "    </tr>\n",
       "  </tbody>\n",
       "</table>\n",
       "</div>"
      ],
      "text/plain": [
       "       status_binary   today_preds  one_year_preds  three_year_preds  \\\n",
       "count   12191.000000  12191.000000    12191.000000      12191.000000   \n",
       "mean        0.249692      0.145517        0.148142          0.157657   \n",
       "std         0.432853      0.352636        0.355255          0.364434   \n",
       "min         0.000000      0.000000        0.000000          0.000000   \n",
       "25%         0.000000      0.000000        0.000000          0.000000   \n",
       "50%         0.000000      0.000000        0.000000          0.000000   \n",
       "75%         0.000000      0.000000        0.000000          0.000000   \n",
       "max         1.000000      1.000000        1.000000          1.000000   \n",
       "\n",
       "       five_year_preds  \n",
       "count     12191.000000  \n",
       "mean          0.165532  \n",
       "std           0.371675  \n",
       "min           0.000000  \n",
       "25%           0.000000  \n",
       "50%           0.000000  \n",
       "75%           0.000000  \n",
       "max           1.000000  "
      ]
     },
     "execution_count": 24,
     "metadata": {},
     "output_type": "execute_result"
    }
   ],
   "source": [
    "#with corrected time since measurement\n",
    "sl[['status_binary','today_preds','one_year_preds','three_year_preds', 'five_year_preds']].describe()"
   ]
  },
  {
   "cell_type": "markdown",
   "metadata": {},
   "source": [
    "# 0.5 threshold won't do, setting a modeling decision of 0.237 for our prediction threshold\n",
    "\n",
    "# Also coerce well status to be \"broken\" if it was ever \"broken\" in the past "
   ]
  },
  {
   "cell_type": "code",
   "execution_count": 25,
   "metadata": {
    "collapsed": true
   },
   "outputs": [],
   "source": [
    "threshold = 0.237\n",
    "def append_outyear_predictions(original_df, threshold, today_predprob, one_year_predprob, three_year_predprob, five_year_predprob):\n",
    "    sl = original_df.copy()\n",
    "    #ensures if a well was ever bad, it is bad in the future\n",
    "    sl['today_preds']=np.where(sl.status_binary==1,1,np.where(today_predprob[:,1]>threshold,1,0))\n",
    "    sl['today_predprob']= today_predprob[:,1]\n",
    "    sl['one_year_preds'] = np.where(np.max(sl[['status_binary','today_preds']], axis = 1)>0,\n",
    "                                    1,np.where(one_year_predprob[:,1]>threshold,1,0))\n",
    "    sl['one_year_predprob'] = one_year_predprob[:,1]\n",
    "    sl['three_year_preds'] = np.where(np.max(sl[['status_binary','today_preds', 'one_year_preds']], axis = 1)>0,1,\n",
    "                                      np.where(three_year_predprob[:,1]>threshold,1,0))\n",
    "    sl['three_year_predprob']= three_year_predprob[:,1]\n",
    "    sl['five_year_preds']=np.where(np.max(sl[['status_binary','today_preds', 'one_year_preds', 'three_year_preds']], axis = 1)>0,\n",
    "                                   1,np.where(five_year_predprob[:,1]>threshold,1,0))\n",
    "    sl['five_year_predprob'] =five_year_predprob[:,1]\n",
    "    \n",
    "    \n",
    "    return sl"
   ]
  },
  {
   "cell_type": "code",
   "execution_count": 27,
   "metadata": {
    "collapsed": true
   },
   "outputs": [],
   "source": [
    "mal = df.loc[df.country_name=='Malawi']"
   ]
  },
  {
   "cell_type": "code",
   "execution_count": null,
   "metadata": {
    "collapsed": true
   },
   "outputs": [],
   "source": []
  },
  {
   "cell_type": "code",
   "execution_count": 48,
   "metadata": {
    "collapsed": true
   },
   "outputs": [],
   "source": [
    "coerced = append_outyear_predictions(mal, 0.237, today_predprob, one_year_predprob, three_year_predprob, five_year_predprob)"
   ]
  },
  {
   "cell_type": "code",
   "execution_count": 49,
   "metadata": {},
   "outputs": [
    {
     "data": {
      "text/html": [
       "<div>\n",
       "<style scoped>\n",
       "    .dataframe tbody tr th:only-of-type {\n",
       "        vertical-align: middle;\n",
       "    }\n",
       "\n",
       "    .dataframe tbody tr th {\n",
       "        vertical-align: top;\n",
       "    }\n",
       "\n",
       "    .dataframe thead th {\n",
       "        text-align: right;\n",
       "    }\n",
       "</style>\n",
       "<table border=\"1\" class=\"dataframe\">\n",
       "  <thead>\n",
       "    <tr style=\"text-align: right;\">\n",
       "      <th></th>\n",
       "      <th>status_binary</th>\n",
       "      <th>today_preds</th>\n",
       "      <th>one_year_preds</th>\n",
       "      <th>three_year_preds</th>\n",
       "      <th>five_year_preds</th>\n",
       "    </tr>\n",
       "  </thead>\n",
       "  <tbody>\n",
       "    <tr>\n",
       "      <th>count</th>\n",
       "      <td>12191.000000</td>\n",
       "      <td>12191.000000</td>\n",
       "      <td>12191.000000</td>\n",
       "      <td>12191.000000</td>\n",
       "      <td>12191.000000</td>\n",
       "    </tr>\n",
       "    <tr>\n",
       "      <th>mean</th>\n",
       "      <td>0.249692</td>\n",
       "      <td>0.413420</td>\n",
       "      <td>0.456730</td>\n",
       "      <td>0.471331</td>\n",
       "      <td>0.482323</td>\n",
       "    </tr>\n",
       "    <tr>\n",
       "      <th>std</th>\n",
       "      <td>0.432853</td>\n",
       "      <td>0.492467</td>\n",
       "      <td>0.498145</td>\n",
       "      <td>0.499198</td>\n",
       "      <td>0.499708</td>\n",
       "    </tr>\n",
       "    <tr>\n",
       "      <th>min</th>\n",
       "      <td>0.000000</td>\n",
       "      <td>0.000000</td>\n",
       "      <td>0.000000</td>\n",
       "      <td>0.000000</td>\n",
       "      <td>0.000000</td>\n",
       "    </tr>\n",
       "    <tr>\n",
       "      <th>25%</th>\n",
       "      <td>0.000000</td>\n",
       "      <td>0.000000</td>\n",
       "      <td>0.000000</td>\n",
       "      <td>0.000000</td>\n",
       "      <td>0.000000</td>\n",
       "    </tr>\n",
       "    <tr>\n",
       "      <th>50%</th>\n",
       "      <td>0.000000</td>\n",
       "      <td>0.000000</td>\n",
       "      <td>0.000000</td>\n",
       "      <td>0.000000</td>\n",
       "      <td>0.000000</td>\n",
       "    </tr>\n",
       "    <tr>\n",
       "      <th>75%</th>\n",
       "      <td>0.000000</td>\n",
       "      <td>1.000000</td>\n",
       "      <td>1.000000</td>\n",
       "      <td>1.000000</td>\n",
       "      <td>1.000000</td>\n",
       "    </tr>\n",
       "    <tr>\n",
       "      <th>max</th>\n",
       "      <td>1.000000</td>\n",
       "      <td>1.000000</td>\n",
       "      <td>1.000000</td>\n",
       "      <td>1.000000</td>\n",
       "      <td>1.000000</td>\n",
       "    </tr>\n",
       "  </tbody>\n",
       "</table>\n",
       "</div>"
      ],
      "text/plain": [
       "       status_binary   today_preds  one_year_preds  three_year_preds  \\\n",
       "count   12191.000000  12191.000000    12191.000000      12191.000000   \n",
       "mean        0.249692      0.413420        0.456730          0.471331   \n",
       "std         0.432853      0.492467        0.498145          0.499198   \n",
       "min         0.000000      0.000000        0.000000          0.000000   \n",
       "25%         0.000000      0.000000        0.000000          0.000000   \n",
       "50%         0.000000      0.000000        0.000000          0.000000   \n",
       "75%         0.000000      1.000000        1.000000          1.000000   \n",
       "max         1.000000      1.000000        1.000000          1.000000   \n",
       "\n",
       "       five_year_preds  \n",
       "count     12191.000000  \n",
       "mean          0.482323  \n",
       "std           0.499708  \n",
       "min           0.000000  \n",
       "25%           0.000000  \n",
       "50%           0.000000  \n",
       "75%           1.000000  \n",
       "max           1.000000  "
      ]
     },
     "execution_count": 49,
     "metadata": {},
     "output_type": "execute_result"
    }
   ],
   "source": [
    "#before correction\n",
    "coerced[['status_binary','today_preds','one_year_preds','three_year_preds', 'five_year_preds']].describe()"
   ]
  },
  {
   "cell_type": "code",
   "execution_count": 28,
   "metadata": {},
   "outputs": [
    {
     "data": {
      "text/html": [
       "<div>\n",
       "<style scoped>\n",
       "    .dataframe tbody tr th:only-of-type {\n",
       "        vertical-align: middle;\n",
       "    }\n",
       "\n",
       "    .dataframe tbody tr th {\n",
       "        vertical-align: top;\n",
       "    }\n",
       "\n",
       "    .dataframe thead th {\n",
       "        text-align: right;\n",
       "    }\n",
       "</style>\n",
       "<table border=\"1\" class=\"dataframe\">\n",
       "  <thead>\n",
       "    <tr style=\"text-align: right;\">\n",
       "      <th></th>\n",
       "      <th>status_binary</th>\n",
       "      <th>today_preds</th>\n",
       "      <th>one_year_preds</th>\n",
       "      <th>three_year_preds</th>\n",
       "      <th>five_year_preds</th>\n",
       "    </tr>\n",
       "  </thead>\n",
       "  <tbody>\n",
       "    <tr>\n",
       "      <th>count</th>\n",
       "      <td>12191.000000</td>\n",
       "      <td>12191.000000</td>\n",
       "      <td>12191.000000</td>\n",
       "      <td>12191.000000</td>\n",
       "      <td>12191.000000</td>\n",
       "    </tr>\n",
       "    <tr>\n",
       "      <th>mean</th>\n",
       "      <td>0.249692</td>\n",
       "      <td>0.413420</td>\n",
       "      <td>0.419408</td>\n",
       "      <td>0.428185</td>\n",
       "      <td>0.434993</td>\n",
       "    </tr>\n",
       "    <tr>\n",
       "      <th>std</th>\n",
       "      <td>0.432853</td>\n",
       "      <td>0.492467</td>\n",
       "      <td>0.493482</td>\n",
       "      <td>0.494836</td>\n",
       "      <td>0.495776</td>\n",
       "    </tr>\n",
       "    <tr>\n",
       "      <th>min</th>\n",
       "      <td>0.000000</td>\n",
       "      <td>0.000000</td>\n",
       "      <td>0.000000</td>\n",
       "      <td>0.000000</td>\n",
       "      <td>0.000000</td>\n",
       "    </tr>\n",
       "    <tr>\n",
       "      <th>25%</th>\n",
       "      <td>0.000000</td>\n",
       "      <td>0.000000</td>\n",
       "      <td>0.000000</td>\n",
       "      <td>0.000000</td>\n",
       "      <td>0.000000</td>\n",
       "    </tr>\n",
       "    <tr>\n",
       "      <th>50%</th>\n",
       "      <td>0.000000</td>\n",
       "      <td>0.000000</td>\n",
       "      <td>0.000000</td>\n",
       "      <td>0.000000</td>\n",
       "      <td>0.000000</td>\n",
       "    </tr>\n",
       "    <tr>\n",
       "      <th>75%</th>\n",
       "      <td>0.000000</td>\n",
       "      <td>1.000000</td>\n",
       "      <td>1.000000</td>\n",
       "      <td>1.000000</td>\n",
       "      <td>1.000000</td>\n",
       "    </tr>\n",
       "    <tr>\n",
       "      <th>max</th>\n",
       "      <td>1.000000</td>\n",
       "      <td>1.000000</td>\n",
       "      <td>1.000000</td>\n",
       "      <td>1.000000</td>\n",
       "      <td>1.000000</td>\n",
       "    </tr>\n",
       "  </tbody>\n",
       "</table>\n",
       "</div>"
      ],
      "text/plain": [
       "       status_binary   today_preds  one_year_preds  three_year_preds  \\\n",
       "count   12191.000000  12191.000000    12191.000000      12191.000000   \n",
       "mean        0.249692      0.413420        0.419408          0.428185   \n",
       "std         0.432853      0.492467        0.493482          0.494836   \n",
       "min         0.000000      0.000000        0.000000          0.000000   \n",
       "25%         0.000000      0.000000        0.000000          0.000000   \n",
       "50%         0.000000      0.000000        0.000000          0.000000   \n",
       "75%         0.000000      1.000000        1.000000          1.000000   \n",
       "max         1.000000      1.000000        1.000000          1.000000   \n",
       "\n",
       "       five_year_preds  \n",
       "count     12191.000000  \n",
       "mean          0.434993  \n",
       "std           0.495776  \n",
       "min           0.000000  \n",
       "25%           0.000000  \n",
       "50%           0.000000  \n",
       "75%           1.000000  \n",
       "max           1.000000  "
      ]
     },
     "execution_count": 28,
     "metadata": {},
     "output_type": "execute_result"
    }
   ],
   "source": [
    "#After correction\n",
    "coerced2 = append_outyear_predictions(mal, 0.237, today_predprob, one_year_predprob, three_year_predprob, five_year_predprob)\n",
    "coerced2[['status_binary','today_preds','one_year_preds','three_year_preds', 'five_year_preds']].describe()"
   ]
  },
  {
   "cell_type": "code",
   "execution_count": 50,
   "metadata": {},
   "outputs": [
    {
     "data": {
      "text/plain": [
       "(0, 23)"
      ]
     },
     "execution_count": 50,
     "metadata": {},
     "output_type": "execute_result"
    }
   ],
   "source": [
    "#check to see if it worked\n",
    "sl[(sl.status_binary==1)&(sl.status_binary<sl.today_preds)].shape"
   ]
  },
  {
   "cell_type": "code",
   "execution_count": 51,
   "metadata": {},
   "outputs": [
    {
     "data": {
      "text/plain": [
       "(122, 23)"
      ]
     },
     "execution_count": 51,
     "metadata": {},
     "output_type": "execute_result"
    }
   ],
   "source": [
    "#how many wells that were good at time of measurement do we predict will fail within one year from today?\n",
    "sl[sl.status_binary==1][(sl.today_preds<sl.one_year_preds)].shape"
   ]
  },
  {
   "cell_type": "code",
   "execution_count": 52,
   "metadata": {},
   "outputs": [
    {
     "name": "stdout",
     "output_type": "stream",
     "text": [
      "(149, 23)\n"
     ]
    },
    {
     "data": {
      "text/html": [
       "<div>\n",
       "<style scoped>\n",
       "    .dataframe tbody tr th:only-of-type {\n",
       "        vertical-align: middle;\n",
       "    }\n",
       "\n",
       "    .dataframe tbody tr th {\n",
       "        vertical-align: top;\n",
       "    }\n",
       "\n",
       "    .dataframe thead th {\n",
       "        text-align: right;\n",
       "    }\n",
       "</style>\n",
       "<table border=\"1\" class=\"dataframe\">\n",
       "  <thead>\n",
       "    <tr style=\"text-align: right;\">\n",
       "      <th></th>\n",
       "      <th>water_source</th>\n",
       "      <th>water_tech</th>\n",
       "      <th>management</th>\n",
       "      <th>source</th>\n",
       "      <th>adm1</th>\n",
       "      <th>adm2</th>\n",
       "      <th>pay</th>\n",
       "      <th>lat_deg</th>\n",
       "      <th>lon_deg</th>\n",
       "      <th>new_install_year</th>\n",
       "      <th>age_well_years</th>\n",
       "      <th>time_since_meas_years</th>\n",
       "      <th>fuzzy_water_source</th>\n",
       "      <th>fuzzy_water_tech</th>\n",
       "      <th>status_binary</th>\n",
       "      <th>today_preds</th>\n",
       "      <th>today_predprob</th>\n",
       "      <th>one_year_preds</th>\n",
       "      <th>one_year_predprob</th>\n",
       "      <th>three_year_preds</th>\n",
       "      <th>three_year_predprob</th>\n",
       "      <th>five_year_preds</th>\n",
       "      <th>five_year_predprob</th>\n",
       "    </tr>\n",
       "  </thead>\n",
       "  <tbody>\n",
       "    <tr>\n",
       "      <th>289272</th>\n",
       "      <td>__MISSING__</td>\n",
       "      <td>AfriDev Handpump</td>\n",
       "      <td>__MISSING__</td>\n",
       "      <td>Water For People</td>\n",
       "      <td>Chikhwawa</td>\n",
       "      <td>Chapananga</td>\n",
       "      <td>__MISSING__</td>\n",
       "      <td>-15.8012</td>\n",
       "      <td>34.3067</td>\n",
       "      <td>1989-01-01 00:00:00</td>\n",
       "      <td>27.3</td>\n",
       "      <td>1.9</td>\n",
       "      <td>__MISSING__ Unknown</td>\n",
       "      <td>Afridev</td>\n",
       "      <td>0.0</td>\n",
       "      <td>0.0</td>\n",
       "      <td>0.456991</td>\n",
       "      <td>1.0</td>\n",
       "      <td>0.525691</td>\n",
       "      <td>0.0</td>\n",
       "      <td>0.494249</td>\n",
       "      <td>0.0</td>\n",
       "      <td>0.449183</td>\n",
       "    </tr>\n",
       "    <tr>\n",
       "      <th>289334</th>\n",
       "      <td>__MISSING__</td>\n",
       "      <td>AfriDev Handpump</td>\n",
       "      <td>__MISSING__</td>\n",
       "      <td>Water For People</td>\n",
       "      <td>Chikhwawa</td>\n",
       "      <td>Chapananga</td>\n",
       "      <td>__MISSING__</td>\n",
       "      <td>-15.7998</td>\n",
       "      <td>34.3019</td>\n",
       "      <td>1989-01-01 00:00:00</td>\n",
       "      <td>27.3</td>\n",
       "      <td>1.9</td>\n",
       "      <td>__MISSING__ Unknown</td>\n",
       "      <td>Afridev</td>\n",
       "      <td>0.0</td>\n",
       "      <td>0.0</td>\n",
       "      <td>0.443612</td>\n",
       "      <td>1.0</td>\n",
       "      <td>0.512198</td>\n",
       "      <td>0.0</td>\n",
       "      <td>0.480745</td>\n",
       "      <td>0.0</td>\n",
       "      <td>0.435849</td>\n",
       "    </tr>\n",
       "    <tr>\n",
       "      <th>326804</th>\n",
       "      <td>Hand Pumps</td>\n",
       "      <td>Afridev</td>\n",
       "      <td>__MISSING__</td>\n",
       "      <td>Madzi Alipo</td>\n",
       "      <td>__MISSING__</td>\n",
       "      <td>__MISSING__</td>\n",
       "      <td>__MISSING__</td>\n",
       "      <td>-17.0326</td>\n",
       "      <td>35.1751</td>\n",
       "      <td>__MISSING__</td>\n",
       "      <td>274.0</td>\n",
       "      <td>1.4</td>\n",
       "      <td>Hand Pump</td>\n",
       "      <td>Afridev</td>\n",
       "      <td>0.0</td>\n",
       "      <td>0.0</td>\n",
       "      <td>0.427756</td>\n",
       "      <td>1.0</td>\n",
       "      <td>0.540324</td>\n",
       "      <td>0.0</td>\n",
       "      <td>0.467236</td>\n",
       "      <td>0.0</td>\n",
       "      <td>0.470447</td>\n",
       "    </tr>\n",
       "    <tr>\n",
       "      <th>326805</th>\n",
       "      <td>Hand Pumps</td>\n",
       "      <td>Afridev</td>\n",
       "      <td>__MISSING__</td>\n",
       "      <td>Madzi Alipo</td>\n",
       "      <td>__MISSING__</td>\n",
       "      <td>__MISSING__</td>\n",
       "      <td>__MISSING__</td>\n",
       "      <td>-17.0334</td>\n",
       "      <td>35.1762</td>\n",
       "      <td>2004-01-01 00:00:00</td>\n",
       "      <td>12.8</td>\n",
       "      <td>1.4</td>\n",
       "      <td>Hand Pump</td>\n",
       "      <td>Afridev</td>\n",
       "      <td>0.0</td>\n",
       "      <td>0.0</td>\n",
       "      <td>0.360407</td>\n",
       "      <td>1.0</td>\n",
       "      <td>0.508383</td>\n",
       "      <td>0.0</td>\n",
       "      <td>0.452120</td>\n",
       "      <td>0.0</td>\n",
       "      <td>0.458613</td>\n",
       "    </tr>\n",
       "    <tr>\n",
       "      <th>326822</th>\n",
       "      <td>Hand Pumps</td>\n",
       "      <td>Afridev</td>\n",
       "      <td>__MISSING__</td>\n",
       "      <td>Madzi Alipo</td>\n",
       "      <td>__MISSING__</td>\n",
       "      <td>__MISSING__</td>\n",
       "      <td>__MISSING__</td>\n",
       "      <td>-17.1249</td>\n",
       "      <td>35.2238</td>\n",
       "      <td>__MISSING__</td>\n",
       "      <td>274.0</td>\n",
       "      <td>1.2</td>\n",
       "      <td>Hand Pump</td>\n",
       "      <td>Afridev</td>\n",
       "      <td>0.0</td>\n",
       "      <td>0.0</td>\n",
       "      <td>0.101294</td>\n",
       "      <td>1.0</td>\n",
       "      <td>0.501847</td>\n",
       "      <td>0.0</td>\n",
       "      <td>0.390911</td>\n",
       "      <td>0.0</td>\n",
       "      <td>0.442695</td>\n",
       "    </tr>\n",
       "    <tr>\n",
       "      <th>327030</th>\n",
       "      <td>Hand Pumps</td>\n",
       "      <td>Afridev</td>\n",
       "      <td>__MISSING__</td>\n",
       "      <td>Madzi Alipo</td>\n",
       "      <td>__MISSING__</td>\n",
       "      <td>__MISSING__</td>\n",
       "      <td>__MISSING__</td>\n",
       "      <td>-17.0309</td>\n",
       "      <td>35.0681</td>\n",
       "      <td>__MISSING__</td>\n",
       "      <td>274.0</td>\n",
       "      <td>1.2</td>\n",
       "      <td>Hand Pump</td>\n",
       "      <td>Afridev</td>\n",
       "      <td>0.0</td>\n",
       "      <td>0.0</td>\n",
       "      <td>0.148182</td>\n",
       "      <td>1.0</td>\n",
       "      <td>0.573057</td>\n",
       "      <td>0.0</td>\n",
       "      <td>0.446763</td>\n",
       "      <td>1.0</td>\n",
       "      <td>0.507534</td>\n",
       "    </tr>\n",
       "    <tr>\n",
       "      <th>327031</th>\n",
       "      <td>Hand Pumps</td>\n",
       "      <td>Afridev</td>\n",
       "      <td>__MISSING__</td>\n",
       "      <td>Madzi Alipo</td>\n",
       "      <td>__MISSING__</td>\n",
       "      <td>__MISSING__</td>\n",
       "      <td>__MISSING__</td>\n",
       "      <td>-17.0309</td>\n",
       "      <td>35.0681</td>\n",
       "      <td>2003-01-01 00:00:00</td>\n",
       "      <td>13.9</td>\n",
       "      <td>1.2</td>\n",
       "      <td>Hand Pump</td>\n",
       "      <td>Afridev</td>\n",
       "      <td>0.0</td>\n",
       "      <td>0.0</td>\n",
       "      <td>0.181366</td>\n",
       "      <td>1.0</td>\n",
       "      <td>0.540576</td>\n",
       "      <td>0.0</td>\n",
       "      <td>0.426601</td>\n",
       "      <td>1.0</td>\n",
       "      <td>0.500541</td>\n",
       "    </tr>\n",
       "    <tr>\n",
       "      <th>327035</th>\n",
       "      <td>Hand Pumps</td>\n",
       "      <td>Afridev</td>\n",
       "      <td>__MISSING__</td>\n",
       "      <td>Madzi Alipo</td>\n",
       "      <td>__MISSING__</td>\n",
       "      <td>__MISSING__</td>\n",
       "      <td>__MISSING__</td>\n",
       "      <td>-17.1256</td>\n",
       "      <td>35.2265</td>\n",
       "      <td>__MISSING__</td>\n",
       "      <td>274.0</td>\n",
       "      <td>1.2</td>\n",
       "      <td>Hand Pump</td>\n",
       "      <td>Afridev</td>\n",
       "      <td>0.0</td>\n",
       "      <td>0.0</td>\n",
       "      <td>0.101294</td>\n",
       "      <td>1.0</td>\n",
       "      <td>0.501847</td>\n",
       "      <td>0.0</td>\n",
       "      <td>0.390911</td>\n",
       "      <td>0.0</td>\n",
       "      <td>0.442695</td>\n",
       "    </tr>\n",
       "    <tr>\n",
       "      <th>327037</th>\n",
       "      <td>Hand Pumps</td>\n",
       "      <td>Afridev</td>\n",
       "      <td>__MISSING__</td>\n",
       "      <td>Madzi Alipo</td>\n",
       "      <td>__MISSING__</td>\n",
       "      <td>__MISSING__</td>\n",
       "      <td>__MISSING__</td>\n",
       "      <td>-17.1250</td>\n",
       "      <td>35.2279</td>\n",
       "      <td>__MISSING__</td>\n",
       "      <td>274.0</td>\n",
       "      <td>1.2</td>\n",
       "      <td>Hand Pump</td>\n",
       "      <td>Afridev</td>\n",
       "      <td>0.0</td>\n",
       "      <td>0.0</td>\n",
       "      <td>0.101294</td>\n",
       "      <td>1.0</td>\n",
       "      <td>0.501847</td>\n",
       "      <td>0.0</td>\n",
       "      <td>0.390911</td>\n",
       "      <td>0.0</td>\n",
       "      <td>0.442695</td>\n",
       "    </tr>\n",
       "    <tr>\n",
       "      <th>332703</th>\n",
       "      <td>__MISSING__</td>\n",
       "      <td>handpump</td>\n",
       "      <td>__MISSING__</td>\n",
       "      <td>Mzuzu University</td>\n",
       "      <td>__MISSING__</td>\n",
       "      <td>__MISSING__</td>\n",
       "      <td>__MISSING__</td>\n",
       "      <td>34.2520</td>\n",
       "      <td>-13.0917</td>\n",
       "      <td>__MISSING__</td>\n",
       "      <td>274.0</td>\n",
       "      <td>0.7</td>\n",
       "      <td>__MISSING__ Unknown</td>\n",
       "      <td>Hand Pump</td>\n",
       "      <td>0.0</td>\n",
       "      <td>0.0</td>\n",
       "      <td>0.450164</td>\n",
       "      <td>1.0</td>\n",
       "      <td>0.537171</td>\n",
       "      <td>1.0</td>\n",
       "      <td>0.557827</td>\n",
       "      <td>1.0</td>\n",
       "      <td>0.527231</td>\n",
       "    </tr>\n",
       "  </tbody>\n",
       "</table>\n",
       "</div>"
      ],
      "text/plain": [
       "       water_source        water_tech   management            source  \\\n",
       "289272  __MISSING__  AfriDev Handpump  __MISSING__  Water For People   \n",
       "289334  __MISSING__  AfriDev Handpump  __MISSING__  Water For People   \n",
       "326804   Hand Pumps           Afridev  __MISSING__       Madzi Alipo   \n",
       "326805   Hand Pumps           Afridev  __MISSING__       Madzi Alipo   \n",
       "326822   Hand Pumps           Afridev  __MISSING__       Madzi Alipo   \n",
       "327030   Hand Pumps           Afridev  __MISSING__       Madzi Alipo   \n",
       "327031   Hand Pumps           Afridev  __MISSING__       Madzi Alipo   \n",
       "327035   Hand Pumps           Afridev  __MISSING__       Madzi Alipo   \n",
       "327037   Hand Pumps           Afridev  __MISSING__       Madzi Alipo   \n",
       "332703  __MISSING__          handpump  __MISSING__  Mzuzu University   \n",
       "\n",
       "               adm1         adm2          pay  lat_deg  lon_deg  \\\n",
       "289272    Chikhwawa   Chapananga  __MISSING__ -15.8012  34.3067   \n",
       "289334    Chikhwawa   Chapananga  __MISSING__ -15.7998  34.3019   \n",
       "326804  __MISSING__  __MISSING__  __MISSING__ -17.0326  35.1751   \n",
       "326805  __MISSING__  __MISSING__  __MISSING__ -17.0334  35.1762   \n",
       "326822  __MISSING__  __MISSING__  __MISSING__ -17.1249  35.2238   \n",
       "327030  __MISSING__  __MISSING__  __MISSING__ -17.0309  35.0681   \n",
       "327031  __MISSING__  __MISSING__  __MISSING__ -17.0309  35.0681   \n",
       "327035  __MISSING__  __MISSING__  __MISSING__ -17.1256  35.2265   \n",
       "327037  __MISSING__  __MISSING__  __MISSING__ -17.1250  35.2279   \n",
       "332703  __MISSING__  __MISSING__  __MISSING__  34.2520 -13.0917   \n",
       "\n",
       "           new_install_year  age_well_years  time_since_meas_years  \\\n",
       "289272  1989-01-01 00:00:00            27.3                    1.9   \n",
       "289334  1989-01-01 00:00:00            27.3                    1.9   \n",
       "326804          __MISSING__           274.0                    1.4   \n",
       "326805  2004-01-01 00:00:00            12.8                    1.4   \n",
       "326822          __MISSING__           274.0                    1.2   \n",
       "327030          __MISSING__           274.0                    1.2   \n",
       "327031  2003-01-01 00:00:00            13.9                    1.2   \n",
       "327035          __MISSING__           274.0                    1.2   \n",
       "327037          __MISSING__           274.0                    1.2   \n",
       "332703          __MISSING__           274.0                    0.7   \n",
       "\n",
       "         fuzzy_water_source fuzzy_water_tech  status_binary  today_preds  \\\n",
       "289272  __MISSING__ Unknown          Afridev            0.0          0.0   \n",
       "289334  __MISSING__ Unknown          Afridev            0.0          0.0   \n",
       "326804            Hand Pump          Afridev            0.0          0.0   \n",
       "326805            Hand Pump          Afridev            0.0          0.0   \n",
       "326822            Hand Pump          Afridev            0.0          0.0   \n",
       "327030            Hand Pump          Afridev            0.0          0.0   \n",
       "327031            Hand Pump          Afridev            0.0          0.0   \n",
       "327035            Hand Pump          Afridev            0.0          0.0   \n",
       "327037            Hand Pump          Afridev            0.0          0.0   \n",
       "332703  __MISSING__ Unknown        Hand Pump            0.0          0.0   \n",
       "\n",
       "        today_predprob  one_year_preds  one_year_predprob  three_year_preds  \\\n",
       "289272        0.456991             1.0           0.525691               0.0   \n",
       "289334        0.443612             1.0           0.512198               0.0   \n",
       "326804        0.427756             1.0           0.540324               0.0   \n",
       "326805        0.360407             1.0           0.508383               0.0   \n",
       "326822        0.101294             1.0           0.501847               0.0   \n",
       "327030        0.148182             1.0           0.573057               0.0   \n",
       "327031        0.181366             1.0           0.540576               0.0   \n",
       "327035        0.101294             1.0           0.501847               0.0   \n",
       "327037        0.101294             1.0           0.501847               0.0   \n",
       "332703        0.450164             1.0           0.537171               1.0   \n",
       "\n",
       "        three_year_predprob  five_year_preds  five_year_predprob  \n",
       "289272             0.494249              0.0            0.449183  \n",
       "289334             0.480745              0.0            0.435849  \n",
       "326804             0.467236              0.0            0.470447  \n",
       "326805             0.452120              0.0            0.458613  \n",
       "326822             0.390911              0.0            0.442695  \n",
       "327030             0.446763              1.0            0.507534  \n",
       "327031             0.426601              1.0            0.500541  \n",
       "327035             0.390911              0.0            0.442695  \n",
       "327037             0.390911              0.0            0.442695  \n",
       "332703             0.557827              1.0            0.527231  "
      ]
     },
     "execution_count": 52,
     "metadata": {},
     "output_type": "execute_result"
    }
   ],
   "source": [
    "#how many wells that were good at time of measurement do we predict will fail within one year from today?\n",
    "print(sl[sl.status_binary==0][(sl.today_preds<sl.one_year_preds)].shape)\n",
    "sl[sl.status_binary==0][(sl.today_preds<sl.one_year_preds)].tail(10)"
   ]
  },
  {
   "cell_type": "code",
   "execution_count": 128,
   "metadata": {},
   "outputs": [
    {
     "data": {
      "text/html": [
       "<div>\n",
       "<style scoped>\n",
       "    .dataframe tbody tr th:only-of-type {\n",
       "        vertical-align: middle;\n",
       "    }\n",
       "\n",
       "    .dataframe tbody tr th {\n",
       "        vertical-align: top;\n",
       "    }\n",
       "\n",
       "    .dataframe thead th {\n",
       "        text-align: right;\n",
       "    }\n",
       "</style>\n",
       "<table border=\"1\" class=\"dataframe\">\n",
       "  <thead>\n",
       "    <tr style=\"text-align: right;\">\n",
       "      <th></th>\n",
       "      <th>water_source</th>\n",
       "      <th>water_tech</th>\n",
       "      <th>management</th>\n",
       "      <th>source</th>\n",
       "      <th>adm1</th>\n",
       "      <th>adm2</th>\n",
       "      <th>pay</th>\n",
       "      <th>lat_deg</th>\n",
       "      <th>lon_deg</th>\n",
       "      <th>new_install_year</th>\n",
       "      <th>age_well_years</th>\n",
       "      <th>time_since_meas_years</th>\n",
       "      <th>fuzzy_water_source</th>\n",
       "      <th>fuzzy_water_tech</th>\n",
       "      <th>status_binary</th>\n",
       "      <th>today_preds</th>\n",
       "      <th>today_predprob</th>\n",
       "      <th>one_year_preds</th>\n",
       "      <th>one_year_predprob</th>\n",
       "      <th>three_year_preds</th>\n",
       "      <th>three_year_predprob</th>\n",
       "      <th>five_year_preds</th>\n",
       "      <th>five_year_predprob</th>\n",
       "    </tr>\n",
       "  </thead>\n",
       "  <tbody>\n",
       "    <tr>\n",
       "      <th>128560</th>\n",
       "      <td>__MISSING__</td>\n",
       "      <td>TUBE WELL</td>\n",
       "      <td>__MISSING__</td>\n",
       "      <td>DACAAR</td>\n",
       "      <td>Kandahar</td>\n",
       "      <td>Panjwayi</td>\n",
       "      <td>__MISSING__</td>\n",
       "      <td>31.5365</td>\n",
       "      <td>65.3928</td>\n",
       "      <td>2003-01-01 00:00:00</td>\n",
       "      <td>3.1</td>\n",
       "      <td>12.1</td>\n",
       "      <td>__MISSING__ Unknown</td>\n",
       "      <td>Tube Well</td>\n",
       "      <td>0.0</td>\n",
       "      <td>0</td>\n",
       "      <td>0.144617</td>\n",
       "      <td>1</td>\n",
       "      <td>0.356342</td>\n",
       "      <td>1</td>\n",
       "      <td>0.302319</td>\n",
       "      <td>1</td>\n",
       "      <td>0.115313</td>\n",
       "    </tr>\n",
       "    <tr>\n",
       "      <th>128564</th>\n",
       "      <td>__MISSING__</td>\n",
       "      <td>TUBE WELL</td>\n",
       "      <td>__MISSING__</td>\n",
       "      <td>DACAAR</td>\n",
       "      <td>Kandahar</td>\n",
       "      <td>Panjwayi</td>\n",
       "      <td>__MISSING__</td>\n",
       "      <td>31.6595</td>\n",
       "      <td>65.3792</td>\n",
       "      <td>2002-01-01 00:00:00</td>\n",
       "      <td>2.8</td>\n",
       "      <td>13.4</td>\n",
       "      <td>__MISSING__ Unknown</td>\n",
       "      <td>Tube Well</td>\n",
       "      <td>0.0</td>\n",
       "      <td>0</td>\n",
       "      <td>0.189792</td>\n",
       "      <td>0</td>\n",
       "      <td>0.162619</td>\n",
       "      <td>1</td>\n",
       "      <td>0.308130</td>\n",
       "      <td>1</td>\n",
       "      <td>0.118879</td>\n",
       "    </tr>\n",
       "    <tr>\n",
       "      <th>128568</th>\n",
       "      <td>__MISSING__</td>\n",
       "      <td>TUBE WELL</td>\n",
       "      <td>__MISSING__</td>\n",
       "      <td>DACAAR</td>\n",
       "      <td>Kandahar</td>\n",
       "      <td>Panjwayi</td>\n",
       "      <td>__MISSING__</td>\n",
       "      <td>31.4812</td>\n",
       "      <td>65.5336</td>\n",
       "      <td>2003-01-01 00:00:00</td>\n",
       "      <td>3.1</td>\n",
       "      <td>12.1</td>\n",
       "      <td>__MISSING__ Unknown</td>\n",
       "      <td>Tube Well</td>\n",
       "      <td>0.0</td>\n",
       "      <td>0</td>\n",
       "      <td>0.149667</td>\n",
       "      <td>1</td>\n",
       "      <td>0.365624</td>\n",
       "      <td>1</td>\n",
       "      <td>0.310874</td>\n",
       "      <td>1</td>\n",
       "      <td>0.119483</td>\n",
       "    </tr>\n",
       "    <tr>\n",
       "      <th>128569</th>\n",
       "      <td>__MISSING__</td>\n",
       "      <td>TUBE WELL</td>\n",
       "      <td>__MISSING__</td>\n",
       "      <td>DACAAR</td>\n",
       "      <td>Kandahar</td>\n",
       "      <td>Panjwayi</td>\n",
       "      <td>__MISSING__</td>\n",
       "      <td>31.6680</td>\n",
       "      <td>65.3917</td>\n",
       "      <td>2002-01-01 00:00:00</td>\n",
       "      <td>4.1</td>\n",
       "      <td>12.1</td>\n",
       "      <td>__MISSING__ Unknown</td>\n",
       "      <td>Tube Well</td>\n",
       "      <td>0.0</td>\n",
       "      <td>0</td>\n",
       "      <td>0.115190</td>\n",
       "      <td>1</td>\n",
       "      <td>0.267429</td>\n",
       "      <td>1</td>\n",
       "      <td>0.242118</td>\n",
       "      <td>1</td>\n",
       "      <td>0.104465</td>\n",
       "    </tr>\n",
       "    <tr>\n",
       "      <th>128595</th>\n",
       "      <td>__MISSING__</td>\n",
       "      <td>TUBE WELL</td>\n",
       "      <td>__MISSING__</td>\n",
       "      <td>DACAAR</td>\n",
       "      <td>Kapisa</td>\n",
       "      <td>Tagab</td>\n",
       "      <td>__MISSING__</td>\n",
       "      <td>34.8211</td>\n",
       "      <td>69.6494</td>\n",
       "      <td>2003-01-01 00:00:00</td>\n",
       "      <td>3.1</td>\n",
       "      <td>12.1</td>\n",
       "      <td>__MISSING__ Unknown</td>\n",
       "      <td>Tube Well</td>\n",
       "      <td>0.0</td>\n",
       "      <td>0</td>\n",
       "      <td>0.166580</td>\n",
       "      <td>1</td>\n",
       "      <td>0.259808</td>\n",
       "      <td>1</td>\n",
       "      <td>0.417279</td>\n",
       "      <td>1</td>\n",
       "      <td>0.251417</td>\n",
       "    </tr>\n",
       "    <tr>\n",
       "      <th>128602</th>\n",
       "      <td>__MISSING__</td>\n",
       "      <td>TUBE WELL</td>\n",
       "      <td>__MISSING__</td>\n",
       "      <td>DACAAR</td>\n",
       "      <td>Kapisa</td>\n",
       "      <td>Tagab</td>\n",
       "      <td>__MISSING__</td>\n",
       "      <td>34.8419</td>\n",
       "      <td>69.6478</td>\n",
       "      <td>2003-01-01 00:00:00</td>\n",
       "      <td>3.1</td>\n",
       "      <td>12.1</td>\n",
       "      <td>__MISSING__ Unknown</td>\n",
       "      <td>Tube Well</td>\n",
       "      <td>0.0</td>\n",
       "      <td>0</td>\n",
       "      <td>0.145809</td>\n",
       "      <td>1</td>\n",
       "      <td>0.252279</td>\n",
       "      <td>1</td>\n",
       "      <td>0.379141</td>\n",
       "      <td>1</td>\n",
       "      <td>0.222646</td>\n",
       "    </tr>\n",
       "    <tr>\n",
       "      <th>128603</th>\n",
       "      <td>__MISSING__</td>\n",
       "      <td>TUBE WELL</td>\n",
       "      <td>__MISSING__</td>\n",
       "      <td>DACAAR</td>\n",
       "      <td>Kapisa</td>\n",
       "      <td>Tagab</td>\n",
       "      <td>__MISSING__</td>\n",
       "      <td>34.7843</td>\n",
       "      <td>69.6596</td>\n",
       "      <td>2003-01-01 00:00:00</td>\n",
       "      <td>3.1</td>\n",
       "      <td>12.1</td>\n",
       "      <td>__MISSING__ Unknown</td>\n",
       "      <td>Tube Well</td>\n",
       "      <td>0.0</td>\n",
       "      <td>0</td>\n",
       "      <td>0.105824</td>\n",
       "      <td>0</td>\n",
       "      <td>0.172069</td>\n",
       "      <td>1</td>\n",
       "      <td>0.297753</td>\n",
       "      <td>1</td>\n",
       "      <td>0.165877</td>\n",
       "    </tr>\n",
       "    <tr>\n",
       "      <th>128618</th>\n",
       "      <td>__MISSING__</td>\n",
       "      <td>TUBE WELL</td>\n",
       "      <td>__MISSING__</td>\n",
       "      <td>DACAAR</td>\n",
       "      <td>Kapisa</td>\n",
       "      <td>Tagab</td>\n",
       "      <td>__MISSING__</td>\n",
       "      <td>34.8180</td>\n",
       "      <td>69.6524</td>\n",
       "      <td>2003-01-01 00:00:00</td>\n",
       "      <td>3.1</td>\n",
       "      <td>12.1</td>\n",
       "      <td>__MISSING__ Unknown</td>\n",
       "      <td>Tube Well</td>\n",
       "      <td>0.0</td>\n",
       "      <td>0</td>\n",
       "      <td>0.164370</td>\n",
       "      <td>1</td>\n",
       "      <td>0.256742</td>\n",
       "      <td>1</td>\n",
       "      <td>0.413392</td>\n",
       "      <td>1</td>\n",
       "      <td>0.248417</td>\n",
       "    </tr>\n",
       "    <tr>\n",
       "      <th>128628</th>\n",
       "      <td>__MISSING__</td>\n",
       "      <td>TUBE WELL</td>\n",
       "      <td>__MISSING__</td>\n",
       "      <td>DACAAR</td>\n",
       "      <td>Kapisa</td>\n",
       "      <td>Tagab</td>\n",
       "      <td>__MISSING__</td>\n",
       "      <td>34.7995</td>\n",
       "      <td>69.6539</td>\n",
       "      <td>2003-01-01 00:00:00</td>\n",
       "      <td>3.1</td>\n",
       "      <td>12.1</td>\n",
       "      <td>__MISSING__ Unknown</td>\n",
       "      <td>Tube Well</td>\n",
       "      <td>0.0</td>\n",
       "      <td>0</td>\n",
       "      <td>0.120395</td>\n",
       "      <td>0</td>\n",
       "      <td>0.193785</td>\n",
       "      <td>1</td>\n",
       "      <td>0.329027</td>\n",
       "      <td>1</td>\n",
       "      <td>0.186987</td>\n",
       "    </tr>\n",
       "    <tr>\n",
       "      <th>128638</th>\n",
       "      <td>__MISSING__</td>\n",
       "      <td>TUBE WELL</td>\n",
       "      <td>__MISSING__</td>\n",
       "      <td>DACAAR</td>\n",
       "      <td>Kapisa</td>\n",
       "      <td>Tagab</td>\n",
       "      <td>__MISSING__</td>\n",
       "      <td>34.7962</td>\n",
       "      <td>69.6543</td>\n",
       "      <td>2003-01-01 00:00:00</td>\n",
       "      <td>3.1</td>\n",
       "      <td>12.1</td>\n",
       "      <td>__MISSING__ Unknown</td>\n",
       "      <td>Tube Well</td>\n",
       "      <td>0.0</td>\n",
       "      <td>0</td>\n",
       "      <td>0.142511</td>\n",
       "      <td>0</td>\n",
       "      <td>0.225920</td>\n",
       "      <td>1</td>\n",
       "      <td>0.373207</td>\n",
       "      <td>1</td>\n",
       "      <td>0.218301</td>\n",
       "    </tr>\n",
       "  </tbody>\n",
       "</table>\n",
       "</div>"
      ],
      "text/plain": [
       "       water_source water_tech   management  source      adm1      adm2  \\\n",
       "128560  __MISSING__  TUBE WELL  __MISSING__  DACAAR  Kandahar  Panjwayi   \n",
       "128564  __MISSING__  TUBE WELL  __MISSING__  DACAAR  Kandahar  Panjwayi   \n",
       "128568  __MISSING__  TUBE WELL  __MISSING__  DACAAR  Kandahar  Panjwayi   \n",
       "128569  __MISSING__  TUBE WELL  __MISSING__  DACAAR  Kandahar  Panjwayi   \n",
       "128595  __MISSING__  TUBE WELL  __MISSING__  DACAAR    Kapisa     Tagab   \n",
       "128602  __MISSING__  TUBE WELL  __MISSING__  DACAAR    Kapisa     Tagab   \n",
       "128603  __MISSING__  TUBE WELL  __MISSING__  DACAAR    Kapisa     Tagab   \n",
       "128618  __MISSING__  TUBE WELL  __MISSING__  DACAAR    Kapisa     Tagab   \n",
       "128628  __MISSING__  TUBE WELL  __MISSING__  DACAAR    Kapisa     Tagab   \n",
       "128638  __MISSING__  TUBE WELL  __MISSING__  DACAAR    Kapisa     Tagab   \n",
       "\n",
       "                pay  lat_deg  lon_deg     new_install_year  age_well_years  \\\n",
       "128560  __MISSING__  31.5365  65.3928  2003-01-01 00:00:00             3.1   \n",
       "128564  __MISSING__  31.6595  65.3792  2002-01-01 00:00:00             2.8   \n",
       "128568  __MISSING__  31.4812  65.5336  2003-01-01 00:00:00             3.1   \n",
       "128569  __MISSING__  31.6680  65.3917  2002-01-01 00:00:00             4.1   \n",
       "128595  __MISSING__  34.8211  69.6494  2003-01-01 00:00:00             3.1   \n",
       "128602  __MISSING__  34.8419  69.6478  2003-01-01 00:00:00             3.1   \n",
       "128603  __MISSING__  34.7843  69.6596  2003-01-01 00:00:00             3.1   \n",
       "128618  __MISSING__  34.8180  69.6524  2003-01-01 00:00:00             3.1   \n",
       "128628  __MISSING__  34.7995  69.6539  2003-01-01 00:00:00             3.1   \n",
       "128638  __MISSING__  34.7962  69.6543  2003-01-01 00:00:00             3.1   \n",
       "\n",
       "        time_since_meas_years   fuzzy_water_source fuzzy_water_tech  \\\n",
       "128560                   12.1  __MISSING__ Unknown        Tube Well   \n",
       "128564                   13.4  __MISSING__ Unknown        Tube Well   \n",
       "128568                   12.1  __MISSING__ Unknown        Tube Well   \n",
       "128569                   12.1  __MISSING__ Unknown        Tube Well   \n",
       "128595                   12.1  __MISSING__ Unknown        Tube Well   \n",
       "128602                   12.1  __MISSING__ Unknown        Tube Well   \n",
       "128603                   12.1  __MISSING__ Unknown        Tube Well   \n",
       "128618                   12.1  __MISSING__ Unknown        Tube Well   \n",
       "128628                   12.1  __MISSING__ Unknown        Tube Well   \n",
       "128638                   12.1  __MISSING__ Unknown        Tube Well   \n",
       "\n",
       "        status_binary  today_preds  today_predprob  one_year_preds  \\\n",
       "128560            0.0            0        0.144617               1   \n",
       "128564            0.0            0        0.189792               0   \n",
       "128568            0.0            0        0.149667               1   \n",
       "128569            0.0            0        0.115190               1   \n",
       "128595            0.0            0        0.166580               1   \n",
       "128602            0.0            0        0.145809               1   \n",
       "128603            0.0            0        0.105824               0   \n",
       "128618            0.0            0        0.164370               1   \n",
       "128628            0.0            0        0.120395               0   \n",
       "128638            0.0            0        0.142511               0   \n",
       "\n",
       "        one_year_predprob  three_year_preds  three_year_predprob  \\\n",
       "128560           0.356342                 1             0.302319   \n",
       "128564           0.162619                 1             0.308130   \n",
       "128568           0.365624                 1             0.310874   \n",
       "128569           0.267429                 1             0.242118   \n",
       "128595           0.259808                 1             0.417279   \n",
       "128602           0.252279                 1             0.379141   \n",
       "128603           0.172069                 1             0.297753   \n",
       "128618           0.256742                 1             0.413392   \n",
       "128628           0.193785                 1             0.329027   \n",
       "128638           0.225920                 1             0.373207   \n",
       "\n",
       "        five_year_preds  five_year_predprob  \n",
       "128560                1            0.115313  \n",
       "128564                1            0.118879  \n",
       "128568                1            0.119483  \n",
       "128569                1            0.104465  \n",
       "128595                1            0.251417  \n",
       "128602                1            0.222646  \n",
       "128603                1            0.165877  \n",
       "128618                1            0.248417  \n",
       "128628                1            0.186987  \n",
       "128638                1            0.218301  "
      ]
     },
     "execution_count": 128,
     "metadata": {},
     "output_type": "execute_result"
    }
   ],
   "source": [
    "sl[sl.status_binary==0][(sl.today_preds<sl.three_year_preds)].tail(10)"
   ]
  },
  {
   "cell_type": "code",
   "execution_count": 120,
   "metadata": {},
   "outputs": [
    {
     "name": "stdout",
     "output_type": "stream",
     "text": [
      "             precision    recall  f1-score   support\n",
      "\n",
      "        0.0       0.82      0.93      0.87      8399\n",
      "        1.0       0.75      0.51      0.60      3571\n",
      "\n",
      "avg / total       0.79      0.80      0.79     11970\n",
      "\n"
     ]
    }
   ],
   "source": [
    "print(metrics.classification_report(y_holdout, dholdout_predictions))"
   ]
  },
  {
   "cell_type": "code",
   "execution_count": 53,
   "metadata": {
    "collapsed": true
   },
   "outputs": [],
   "source": [
    "#outputting with consistent failed wells coerced over time\n",
    "coerced.to_csv('Malawi_w_outyear_predictions_coerced.csv')"
   ]
  },
  {
   "cell_type": "code",
   "execution_count": 29,
   "metadata": {
    "collapsed": true
   },
   "outputs": [],
   "source": [
    "coerced2.to_csv('Malawi_w_outyear_predictions_coerced_correct_time2.csv')"
   ]
  }
 ],
 "metadata": {
  "kernelspec": {
   "display_name": "Python 3",
   "language": "python",
   "name": "python3"
  },
  "language_info": {
   "codemirror_mode": {
    "name": "ipython",
    "version": 3
   },
   "file_extension": ".py",
   "mimetype": "text/x-python",
   "name": "python",
   "nbconvert_exporter": "python",
   "pygments_lexer": "ipython3",
   "version": "3.6.1"
  }
 },
 "nbformat": 4,
 "nbformat_minor": 2
}
