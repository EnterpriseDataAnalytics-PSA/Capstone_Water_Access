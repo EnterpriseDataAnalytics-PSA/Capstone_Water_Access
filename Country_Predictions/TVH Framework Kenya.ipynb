{
 "cells": [
  {
   "cell_type": "code",
   "execution_count": 1,
   "metadata": {
    "collapsed": true
   },
   "outputs": [],
   "source": [
    "import pandas as pd\n",
    "import xgboost as xgb\n",
    "from xgboost import XGBClassifier\n",
    "import numpy as np\n",
    "import sklearn as sk\n",
    "import datetime as dt\n",
    "from sklearn import model_selection\n",
    "from sklearn.preprocessing import LabelEncoder\n",
    "from sklearn import metrics\n",
    "from sklearn import ensemble\n",
    "from sklearn.metrics import confusion_matrix, mean_squared_error, auc, accuracy_score, log_loss\n",
    "from sklearn.ensemble.partial_dependence import plot_partial_dependence\n",
    "import os\n",
    "#import graphviz\n",
    "import matplotlib.pyplot as plt\n",
    "import pickle\n",
    "import timeit"
   ]
  },
  {
   "cell_type": "code",
   "execution_count": 2,
   "metadata": {
    "collapsed": true
   },
   "outputs": [],
   "source": [
    "%matplotlib inline\n",
    "# suppress warnings\n",
    "import warnings\n",
    "warnings.filterwarnings('ignore')\n",
    "\n",
    "#set display options\n",
    "pd.set_option('max_columns', 150)\n",
    "pd.set_option('max_rows', 110)"
   ]
  },
  {
   "cell_type": "code",
   "execution_count": 2,
   "metadata": {
    "collapsed": true
   },
   "outputs": [],
   "source": [
    "#set input/output paths\n",
    "#can eventually set this to the SOAPY API https://dev.socrata.com/foundry/data.waterpointdata.org/gihr-buz6\n",
    "DATA_PATH = \"~chandler.mccann/Downloads/\"\n",
    "#DATA_PATH = \"/Users/chandlermccann/Google Drive/Google Drive/Berkeley MIDS 2016/W210-Capstone_WaterProject\"\n",
    "INPUT_FILE = os.path.join(DATA_PATH, \"cleaned_water_data2.csv\") #after running prep_water_data.py\n"
   ]
  },
  {
   "cell_type": "code",
   "execution_count": 3,
   "metadata": {},
   "outputs": [
    {
     "name": "stderr",
     "output_type": "stream",
     "text": [
      "/Users/chandler.mccann/anaconda/lib/python3.6/site-packages/IPython/core/interactiveshell.py:2717: DtypeWarning: Columns (16,32) have mixed types. Specify dtype option on import or set low_memory=False.\n",
      "  interactivity=interactivity, compiler=compiler, result=result)\n"
     ]
    }
   ],
   "source": [
    "df = pd.read_csv(INPUT_FILE)"
   ]
  },
  {
   "cell_type": "code",
   "execution_count": 4,
   "metadata": {
    "collapsed": true
   },
   "outputs": [],
   "source": [
    "sl = df.loc[df.country_name=='Kenya']"
   ]
  },
  {
   "cell_type": "code",
   "execution_count": 5,
   "metadata": {},
   "outputs": [
    {
     "data": {
      "text/plain": [
       "(21109, 40)"
      ]
     },
     "execution_count": 5,
     "metadata": {},
     "output_type": "execute_result"
    }
   ],
   "source": [
    "sl.shape"
   ]
  },
  {
   "cell_type": "code",
   "execution_count": 6,
   "metadata": {
    "collapsed": true
   },
   "outputs": [],
   "source": [
    "features = ['water_source', 'water_tech', 'management',\n",
    "       'source', 'adm1', 'adm2', 'pay', 'lat_deg', 'lon_deg',\n",
    "       'new_install_year', 'age_well_years','time_since_meas_years', 'fuzzy_water_source',\n",
    "        'fuzzy_water_tech','status_binary']"
   ]
  },
  {
   "cell_type": "markdown",
   "metadata": {},
   "source": [
    "# Modeling"
   ]
  },
  {
   "cell_type": "code",
   "execution_count": 7,
   "metadata": {
    "collapsed": true
   },
   "outputs": [],
   "source": [
    "#start_time = timeit.default_timer()\n",
    "\n",
    "pred_cols = features\n",
    "\n",
    "#create a copy of the dataframe to label encode\n",
    "df2 = sl.copy()\n",
    "df2=df2[pred_cols]"
   ]
  },
  {
   "cell_type": "code",
   "execution_count": 8,
   "metadata": {},
   "outputs": [
    {
     "data": {
      "text/plain": [
       "1"
      ]
     },
     "execution_count": 8,
     "metadata": {},
     "output_type": "execute_result"
    }
   ],
   "source": [
    "#we can't have any null target values\n",
    "len(df2[df2.status_binary.isna()==True])\n"
   ]
  },
  {
   "cell_type": "code",
   "execution_count": 9,
   "metadata": {},
   "outputs": [
    {
     "name": "stderr",
     "output_type": "stream",
     "text": [
      "/Users/chandler.mccann/anaconda/lib/python3.6/site-packages/ipykernel_launcher.py:2: UserWarning: Boolean Series key will be reindexed to match DataFrame index.\n",
      "  \n"
     ]
    }
   ],
   "source": [
    "#eliminate null target values\n",
    "df2 = df2[pd.notnull(df['status_binary'])]"
   ]
  },
  {
   "cell_type": "code",
   "execution_count": 10,
   "metadata": {},
   "outputs": [
    {
     "data": {
      "text/plain": [
       "0"
      ]
     },
     "execution_count": 10,
     "metadata": {},
     "output_type": "execute_result"
    }
   ],
   "source": [
    "#check\n",
    "len(df2[df2.status_binary.isna()==True])\n"
   ]
  },
  {
   "cell_type": "code",
   "execution_count": 11,
   "metadata": {
    "collapsed": true
   },
   "outputs": [],
   "source": [
    "X = df2[df2.columns[:-1]] \n",
    "Y= df2.status_binary\n",
    "\n",
    "X2 = X.copy()\n",
    "\n",
    "#convert all fields to int labels for XGBoost\n",
    "lb=LabelEncoder() #instantiate label encoder\n",
    "\n",
    "#create a dict to store our inverse transforms...these allow us to convert back to the original values in our data\n",
    "#from collections import defaultdict\n",
    "#d = defaultdict(LabelEncoder)\n",
    "\n",
    "#adding this line in order to NOT select lat/lon; other int columns for label encoding\n",
    "#TO DO - If we have new data coming in we need to invert it at some point\n",
    "cols = X2.select_dtypes(include=['object']).columns\n",
    "\n",
    "# Encoding each variable\n",
    "for col in cols:\n",
    "    #lb.fit(list(X[col].fillna('___MISSING___').drop_duplicates().values) + ['___MISSING___'])\n",
    "    \n",
    "    #X2[col] = lb.transform(X2[col].fillna('___MISSING___'))\n",
    "    X2[col]= lb.fit_transform(X[col].fillna('__MISSING__'))"
   ]
  },
  {
   "cell_type": "code",
   "execution_count": 12,
   "metadata": {
    "collapsed": true
   },
   "outputs": [],
   "source": [
    "#60/20/20 Train/Test/Holdout Split\n",
    "SEED=7\n",
    "X_train, X_test_and_holdout, y_train, y_test_and_holdout = sk.model_selection.train_test_split(X2, Y,\n",
    "                                                                                        test_size=.4,\n",
    "                                                                                        stratify=Y,\n",
    "                                                                                        random_state=SEED)\n",
    "X_test, X_holdout, y_test, y_holdout = sk.model_selection.train_test_split(X_test_and_holdout,\n",
    "                                                                    y_test_and_holdout,\n",
    "                                                                    test_size=.5, \n",
    "                                                                    stratify= y_test_and_holdout,\n",
    "                                                                    random_state=SEED)"
   ]
  },
  {
   "cell_type": "code",
   "execution_count": 20,
   "metadata": {},
   "outputs": [
    {
     "name": "stdout",
     "output_type": "stream",
     "text": [
      "beggining inner CV...\n"
     ]
    },
    {
     "data": {
      "text/plain": [
       "GridSearchCV(cv=None, error_score='raise',\n",
       "       estimator=XGBClassifier(base_score=0.5, booster='gbtree', colsample_bylevel=1.0,\n",
       "       colsample_bytree=0.5, gamma=0.01, learning_rate=0.1,\n",
       "       max_delta_step=0.0, max_depth=3, min_child_weight=1.0, missing=None,\n",
       "       n_estimators=100, n_jobs=1, nthread=None,\n",
       "       objective='binary:logistic', random_state=0, reg_alpha=0,\n",
       "       reg_lambda=1.0, scale_pos_weight=1, scoring='logloss', seed=None,\n",
       "       silent=True, subsample=1),\n",
       "       fit_params={}, iid=True, n_jobs=1,\n",
       "       param_grid={'learning_rate': [0.05, 0.1], 'max_depth': [3, 5, 7], 'n_estimators': [500, 1000, 2000]},\n",
       "       pre_dispatch='2*n_jobs', refit=True, return_train_score=True,\n",
       "       scoring=None, verbose=0)"
      ]
     },
     "execution_count": 20,
     "metadata": {},
     "output_type": "execute_result"
    }
   ],
   "source": [
    "    ##### Non-Nested Results. Use GridSerach CV on X_Train to find ideal hyper-parameters. Utilize a lot of regularizaiton\n",
    "    #### in XGBoost Settings to generalize better\n",
    "\n",
    "# Set gridsearch\n",
    "print(\"beggining inner CV...\")\n",
    "#smaller data set, change param grid to less trees\n",
    "params = {'learning_rate':[0.05,.1], 'max_depth':[3,5,7], 'n_estimators':[500,1000,2000]}\n",
    "model_inner = model_selection.GridSearchCV(XGBClassifier(scoring='logloss', reg_alpha=0, reg_lambda=1.0,colsample_bylevel=1.0,\n",
    "                                        colsample_bytree=0.5,gamma=0.01,min_child_weight=1.0, max_delta_step=0.0 ), params)\n",
    "model_inner.fit(X_train, y_train )"
   ]
  },
  {
   "cell_type": "code",
   "execution_count": 21,
   "metadata": {},
   "outputs": [
    {
     "name": "stdout",
     "output_type": "stream",
     "text": [
      "model fit for inner CV for Kenya\n",
      "Shape of input params=  (12664, 14)\n",
      "Best searched parameters on inner CV {'learning_rate': 0.05, 'max_depth': 7, 'n_estimators': 500}\n",
      "Best grid score on inner CV 0.873894504106\n",
      "Accuracy for inner nested_cv model : 0.8742\n",
      "AUC Score (test) for inner_nested cv_model: 0.836159\n",
      "beginning\n"
     ]
    },
    {
     "data": {
      "text/plain": [
       "XGBClassifier(base_score=0.5, booster='gbtree', colsample_bylevel=1.0,\n",
       "       colsample_bytree=0.5, gamma=0.01, learning_rate=0.05,\n",
       "       max_delta_step=0.0, max_depth=7, min_child_weight=1.0, missing=None,\n",
       "       n_estimators=298, n_jobs=1, nthread=None,\n",
       "       objective='binary:logistic', random_state=0, reg_alpha=0,\n",
       "       reg_lambda=1.0, scale_pos_weight=1, scoring='logloss', seed=None,\n",
       "       silent=True, subsample=1)"
      ]
     },
     "execution_count": 21,
     "metadata": {},
     "output_type": "execute_result"
    }
   ],
   "source": [
    "print('model fit for inner CV for Kenya')\n",
    "print('Shape of input params= ', X_train.shape)\n",
    "print('Best searched parameters on inner CV', model_inner.best_params_)\n",
    "print('Best grid score on inner CV', model_inner.best_score_)\n",
    "\n",
    "\n",
    "\n",
    "#get auc. \n",
    "preds_inner_AUC = model_inner.predict_proba(X_test)[:,1]\n",
    "preds_inner_accuracy = model_inner.predict(X_test)\n",
    "print(\"Accuracy for inner nested_cv model : %.4g\"%metrics.accuracy_score(y_test, preds_inner_accuracy))\n",
    "print(\"AUC Score (test) for inner_nested cv_model: %f\"%metrics.roc_auc_score(y_test, preds_inner_AUC))\n",
    "\n",
    "#store the best settings from our most recent, regularized XGBoost model above\n",
    "#perform early stopping\n",
    "print(\"beginning\")\n",
    "model_outer = model_inner.best_estimator_\n",
    "xgb_param =model_outer.get_xgb_params()\n",
    "xgtrain = xgb.DMatrix(X_train, label=y_train)\n",
    "#start with 2500 trees and early stop \n",
    "#use XGB cross-validation to determine our early stopping parameter\n",
    "cvresult = xgb.cv(xgb_param, xgtrain, num_boost_round=model_outer.get_params()['n_estimators'], nfold=5,\n",
    "            metrics='auc', early_stopping_rounds=200)\n",
    "#set number of trees to where early stopping occurred\n",
    "model_outer.set_params(n_estimators=cvresult.shape[0])\n",
    "\n",
    "\n",
    "#Fit the algorithm on the data\n",
    "model_outer.fit(X_train, y_train,eval_metric='auc')"
   ]
  },
  {
   "cell_type": "code",
   "execution_count": 23,
   "metadata": {},
   "outputs": [
    {
     "name": "stdout",
     "output_type": "stream",
     "text": [
      "\n",
      "Model Report\n",
      "Accuracy for outer nested_cv model on training data: 0.909\n",
      "AUC Score (Train) for outer nested_cv model: 0.938668\n",
      "AUC Score (Test) for outer nested_cv model: 0.836873\n",
      "AUC Score (Holdout) for outer nested_cv model: 0.833436\n",
      "Accuracy for outer nested_cv model on holdout data: 0.8761\n"
     ]
    }
   ],
   "source": [
    "#Predict training set:\n",
    "dtrain_predictions = model_outer.predict(X_train)\n",
    "dtrain_predprob = model_outer.predict_proba(X_train)[:,1]\n",
    "dtest_predprob = model_outer.predict_proba(X_test)[:,1]\n",
    "\n",
    "#predict on the holdout set\n",
    "dholdout_predprob = model_outer.predict_proba(X_holdout)[:,1]\n",
    "dholdout_predictions = model_outer.predict(X_holdout)\n",
    "\n",
    "#Print model report:\n",
    "print(\"\\nModel Report\")\n",
    "#print(\"Number of trees determined by early stopping and in final model\", cvresult.shape[0])\n",
    "print(\"Accuracy for outer nested_cv model on training data: %.4g\" % metrics.accuracy_score(y_train.values, dtrain_predictions))\n",
    "print(\"AUC Score (Train) for outer nested_cv model: %f\" % metrics.roc_auc_score(y_train, dtrain_predprob))\n",
    "print(\"AUC Score (Test) for outer nested_cv model: %f\" % metrics.roc_auc_score(y_test, dtest_predprob))\n",
    "\n",
    "print(\"AUC Score (Holdout) for outer nested_cv model: %f\" % metrics.roc_auc_score(y_holdout, dholdout_predprob))\n",
    "print(\"Accuracy for outer nested_cv model on holdout data: %.4g\" % metrics.accuracy_score(y_holdout.values, \n",
    "                                                                                          dholdout_predictions))\n"
   ]
  },
  {
   "cell_type": "markdown",
   "metadata": {},
   "source": [
    "# ok across test and holdout...drop from train. see if CV is stable"
   ]
  },
  {
   "cell_type": "code",
   "execution_count": 22,
   "metadata": {
    "collapsed": true
   },
   "outputs": [],
   "source": [
    "def get_nested_cv_preds(model, X, Y):\n",
    "    \"\"\"args: classification model object, fully numeric/ encoded X, target columns\n",
    "       returns: array of 1) binary classification predictions, 2) probabilities of class membership\"\"\"\n",
    "    #shuffle is necessary. Define same stratified k-fold as before\n",
    "    #ToDo - fix hard coding of random state, splits, \n",
    "    skf= model_selection.StratifiedKFold(n_splits=5, random_state=7, shuffle=True)\n",
    "    \n",
    "    print('full data AUC- CV score', sk.model_selection.cross_val_score(model, X, y=Y, scoring='roc_auc',cv=skf))\n",
    "    cv_results_preds = sk.model_selection.cross_val_predict(model, X, y=Y, cv=skf )\n",
    "    cv_results_probs = sk.model_selection.cross_val_predict(model, X, y=Y, cv=skf, method ='predict_proba')\n",
    "    \n",
    "    print(\"Accuracy full-data : %.4g\" % metrics.accuracy_score(Y, cv_results_preds))\n",
    "    print(\"AUC Score full-data: %f\" % metrics.roc_auc_score(Y, cv_results_probs[:,1]))\n",
    "    \n",
    "    return cv_results_preds, cv_results_probs"
   ]
  },
  {
   "cell_type": "code",
   "execution_count": 23,
   "metadata": {},
   "outputs": [
    {
     "name": "stdout",
     "output_type": "stream",
     "text": [
      "full data AUC- CV score [ 0.83808151  0.83326082  0.85752035  0.83373562  0.85381135]\n",
      "Accuracy full-data : 0.8788\n",
      "AUC Score full-data: 0.842987\n"
     ]
    },
    {
     "data": {
      "text/plain": [
       "(array([ 0.,  0.,  0., ...,  0.,  0.,  0.]), array([[ 0.68207592,  0.31792408],\n",
       "        [ 0.56600904,  0.43399093],\n",
       "        [ 0.57495522,  0.42504475],\n",
       "        ..., \n",
       "        [ 0.72186464,  0.27813536],\n",
       "        [ 0.80715513,  0.19284488],\n",
       "        [ 0.99156874,  0.00843128]], dtype=float32))"
      ]
     },
     "execution_count": 23,
     "metadata": {},
     "output_type": "execute_result"
    }
   ],
   "source": [
    "get_nested_cv_preds(model_outer,X2,Y)"
   ]
  },
  {
   "cell_type": "code",
   "execution_count": 24,
   "metadata": {
    "collapsed": true
   },
   "outputs": [],
   "source": [
    "def save_model(model, country):\n",
    "    filename = '{}_pickle.sav'.format(country)\n",
    "    pickle.dump(model, open(filename, 'wb'))\n",
    "    print('saved as', filename)"
   ]
  },
  {
   "cell_type": "code",
   "execution_count": 25,
   "metadata": {},
   "outputs": [
    {
     "name": "stdout",
     "output_type": "stream",
     "text": [
      "saved as Kenya_pickle.sav\n"
     ]
    }
   ],
   "source": [
    "name = sl.country_name.unique()[0]\n",
    "save_model(model_outer, name)"
   ]
  },
  {
   "cell_type": "code",
   "execution_count": 59,
   "metadata": {},
   "outputs": [
    {
     "data": {
      "text/plain": [
       "<matplotlib.axes._subplots.AxesSubplot at 0x10ffbbf28>"
      ]
     },
     "execution_count": 59,
     "metadata": {},
     "output_type": "execute_result"
    },
    {
     "data": {
      "image/png": "[encoded data removed]",
      "text/plain": [
       "<matplotlib.figure.Figure at 0x110c056d8>"
      ]
     },
     "metadata": {},
     "output_type": "display_data"
    }
   ],
   "source": [
    "xgb.plot_importance(model_outer, importance_type='gain')"
   ]
  },
  {
   "cell_type": "code",
   "execution_count": 63,
   "metadata": {
    "collapsed": true
   },
   "outputs": [],
   "source": [
    "def permutation_importances(model, X_train, y_train, metric):\n",
    "    baseline = metric( y_train.values,model.predict_proba(X_train))\n",
    "    imp = []\n",
    "    for col in X_train.columns:\n",
    "        save = X_train[col].copy() #store the original\n",
    "        X_train[col] = np.random.permutation(X_train[col]) #shuffle each column\n",
    "        m = metric( y_train.values,model.predict_proba(X_train)) #make predictions\n",
    "        X_train[col] = save # return it back to normal\n",
    "        imp.append(baseline - m) # if \n",
    "    return np.array(imp)"
   ]
  },
  {
   "cell_type": "code",
   "execution_count": 66,
   "metadata": {},
   "outputs": [
    {
     "data": {
      "text/plain": [
       "<matplotlib.axes._subplots.AxesSubplot at 0x10e90f198>"
      ]
     },
     "execution_count": 66,
     "metadata": {},
     "output_type": "execute_result"
    },
    {
     "data": {
      "image/png": "[encoded data removed]",
      "text/plain": [
       "<matplotlib.figure.Figure at 0x10e90a6a0>"
      ]
     },
     "metadata": {},
     "output_type": "display_data"
    }
   ],
   "source": [
    "imp = permutation_importances(model_outer, X_test, y_test, metrics.log_loss)\n",
    "\n",
    "pd.DataFrame(data=abs(imp), index=X_test.columns).sort_values(by=0).plot(kind='barh')"
   ]
  },
  {
   "cell_type": "code",
   "execution_count": 67,
   "metadata": {},
   "outputs": [
    {
     "data": {
      "text/html": [
       "<div>\n",
       "<style scoped>\n",
       "    .dataframe tbody tr th:only-of-type {\n",
       "        vertical-align: middle;\n",
       "    }\n",
       "\n",
       "    .dataframe tbody tr th {\n",
       "        vertical-align: top;\n",
       "    }\n",
       "\n",
       "    .dataframe thead th {\n",
       "        text-align: right;\n",
       "    }\n",
       "</style>\n",
       "<table border=\"1\" class=\"dataframe\">\n",
       "  <thead>\n",
       "    <tr style=\"text-align: right;\">\n",
       "      <th></th>\n",
       "      <th>mean</th>\n",
       "      <th>count</th>\n",
       "    </tr>\n",
       "    <tr>\n",
       "      <th>fuzzy_water_source</th>\n",
       "      <th></th>\n",
       "      <th></th>\n",
       "    </tr>\n",
       "  </thead>\n",
       "  <tbody>\n",
       "    <tr>\n",
       "      <th>__MISSING__ Unknown</th>\n",
       "      <td>0.217780</td>\n",
       "      <td>8830</td>\n",
       "    </tr>\n",
       "    <tr>\n",
       "      <th>Well</th>\n",
       "      <td>0.083748</td>\n",
       "      <td>3618</td>\n",
       "    </tr>\n",
       "    <tr>\n",
       "      <th>Spring River Stream Protected</th>\n",
       "      <td>0.028830</td>\n",
       "      <td>2428</td>\n",
       "    </tr>\n",
       "    <tr>\n",
       "      <th>Borehole</th>\n",
       "      <td>0.126679</td>\n",
       "      <td>2234</td>\n",
       "    </tr>\n",
       "    <tr>\n",
       "      <th>Spring River Stream Unprotected</th>\n",
       "      <td>0.020683</td>\n",
       "      <td>2079</td>\n",
       "    </tr>\n",
       "    <tr>\n",
       "      <th>no match</th>\n",
       "      <td>0.159391</td>\n",
       "      <td>985</td>\n",
       "    </tr>\n",
       "    <tr>\n",
       "      <th>Rain Rainwater</th>\n",
       "      <td>0.122066</td>\n",
       "      <td>426</td>\n",
       "    </tr>\n",
       "    <tr>\n",
       "      <th>Stand Post Tap</th>\n",
       "      <td>0.115226</td>\n",
       "      <td>243</td>\n",
       "    </tr>\n",
       "    <tr>\n",
       "      <th>Piped</th>\n",
       "      <td>0.056075</td>\n",
       "      <td>107</td>\n",
       "    </tr>\n",
       "    <tr>\n",
       "      <th>Lake Pond Dam</th>\n",
       "      <td>0.186667</td>\n",
       "      <td>75</td>\n",
       "    </tr>\n",
       "    <tr>\n",
       "      <th>Sand</th>\n",
       "      <td>0.098361</td>\n",
       "      <td>61</td>\n",
       "    </tr>\n",
       "    <tr>\n",
       "      <th>municipal water supply</th>\n",
       "      <td>0.000000</td>\n",
       "      <td>17</td>\n",
       "    </tr>\n",
       "    <tr>\n",
       "      <th>Tank</th>\n",
       "      <td>0.200000</td>\n",
       "      <td>5</td>\n",
       "    </tr>\n",
       "  </tbody>\n",
       "</table>\n",
       "</div>"
      ],
      "text/plain": [
       "                                     mean  count\n",
       "fuzzy_water_source                              \n",
       "__MISSING__ Unknown              0.217780   8830\n",
       "Well                             0.083748   3618\n",
       "Spring River Stream Protected    0.028830   2428\n",
       "Borehole                         0.126679   2234\n",
       "Spring River Stream Unprotected  0.020683   2079\n",
       "no match                         0.159391    985\n",
       "Rain Rainwater                   0.122066    426\n",
       "Stand Post Tap                   0.115226    243\n",
       "Piped                            0.056075    107\n",
       "Lake Pond Dam                    0.186667     75\n",
       "Sand                             0.098361     61\n",
       "municipal water supply           0.000000     17\n",
       "Tank                             0.200000      5"
      ]
     },
     "execution_count": 67,
     "metadata": {},
     "output_type": "execute_result"
    }
   ],
   "source": [
    "sl.groupby('fuzzy_')['status_binary'].agg(['mean','count']).sort_values(by='count', ascending=False)"
   ]
  },
  {
   "cell_type": "code",
   "execution_count": 62,
   "metadata": {},
   "outputs": [
    {
     "data": {
      "text/plain": [
       "source\n",
       "ACTED                                                                   778\n",
       "Engineering Sciences & Global Development                               474\n",
       "Evidence Action                                                       13747\n",
       "Institute for Sustainable Futures, University of Technology Sydney      142\n",
       "Living Water International                                              152\n",
       "MarsabitWater.com With Support From Concern Worldwide                   828\n",
       "Millennium Water Alliance                                                77\n",
       "Virtual Kenya                                                          4846\n",
       "World Vision US                                                          64\n",
       "Name: status_binary, dtype: int64"
      ]
     },
     "execution_count": 62,
     "metadata": {},
     "output_type": "execute_result"
    }
   ],
   "source": [
    "sl.groupby('source')['status_binary'].size()"
   ]
  },
  {
   "cell_type": "markdown",
   "metadata": {},
   "source": [
    "# we now how of our early stopped, cross-validated model. We now need to identify the ideal prediction threshold"
   ]
  },
  {
   "cell_type": "code",
   "execution_count": 27,
   "metadata": {},
   "outputs": [
    {
     "data": {
      "text/plain": [
       "<matplotlib.text.Text at 0x10ff413c8>"
      ]
     },
     "execution_count": 27,
     "metadata": {},
     "output_type": "execute_result"
    },
    {
     "data": {
      "image/png": "[encoded data removed]",
      "text/plain": [
       "<matplotlib.figure.Figure at 0x10ffb3320>"
      ]
     },
     "metadata": {},
     "output_type": "display_data"
    }
   ],
   "source": [
    "pd.DataFrame(dholdout_predprob[y_holdout==0]).hist(bins=50)\n",
    "plt.title('Prediction Distribution on holdout for good wells')\n"
   ]
  },
  {
   "cell_type": "code",
   "execution_count": 28,
   "metadata": {},
   "outputs": [
    {
     "data": {
      "text/plain": [
       "<matplotlib.text.Text at 0x110c155c0>"
      ]
     },
     "execution_count": 28,
     "metadata": {},
     "output_type": "execute_result"
    },
    {
     "data": {
      "image/png": "[encoded data removed]",
      "text/plain": [
       "<matplotlib.figure.Figure at 0x110434c88>"
      ]
     },
     "metadata": {},
     "output_type": "display_data"
    }
   ],
   "source": [
    "pd.DataFrame(dholdout_predprob[y_holdout==1]).hist(bins=50)\n",
    "plt.title('Prediction Distribution on holdout for bad wells')\n"
   ]
  },
  {
   "cell_type": "code",
   "execution_count": 29,
   "metadata": {},
   "outputs": [
    {
     "data": {
      "text/plain": [
       "(array([ 1.39418056,  1.46755848,  1.39418056,  1.17404678,  1.8344481 ,\n",
       "         1.61431433,  2.86173904,  2.05458187,  2.34809357,  2.34809357,\n",
       "         2.27471565,  1.76107018,  1.24742471,  2.05458187,  1.68769225,\n",
       "         1.68769225,  1.39418056,  1.24742471,  1.32080263,  1.24742471,\n",
       "         0.44026754,  0.36688962,  0.36688962,  0.58702339,  0.58702339,\n",
       "         0.66040132,  0.36688962,  0.58702339,  0.58702339,  0.58702339,\n",
       "         0.51364547,  0.58702339,  0.07337792,  0.51364547,  0.44026754,\n",
       "         0.2935117 ,  0.22013377,  0.14675585,  0.        ,  0.07337792]),\n",
       " array([ 0.00382186,  0.02739985,  0.05097784,  0.07455582,  0.09813381,\n",
       "         0.1217118 ,  0.14528979,  0.16886777,  0.19244576,  0.21602375,\n",
       "         0.23960174,  0.26317973,  0.28675771,  0.3103357 ,  0.33391369,\n",
       "         0.35749168,  0.38106967,  0.40464765,  0.42822564,  0.45180363,\n",
       "         0.47538162,  0.49895961,  0.52253759,  0.54611558,  0.56969357,\n",
       "         0.59327156,  0.61684955,  0.64042753,  0.66400552,  0.68758351,\n",
       "         0.7111615 ,  0.73473948,  0.75831747,  0.78189546,  0.80547345,\n",
       "         0.82905144,  0.85262942,  0.87620741,  0.8997854 ,  0.92336339,\n",
       "         0.94694138]),\n",
       " <a list of 1 Patch objects>)"
      ]
     },
     "execution_count": 29,
     "metadata": {},
     "output_type": "execute_result"
    },
    {
     "data": {
      "image/png": "[encoded data removed]",
      "text/plain": [
       "<matplotlib.figure.Figure at 0x10fecaeb8>"
      ]
     },
     "metadata": {},
     "output_type": "display_data"
    }
   ],
   "source": [
    "\n",
    "x1 = dholdout_predprob[y_holdout==0]\n",
    "x2 = dholdout_predprob[y_holdout==1]\n",
    "\n",
    "\n",
    "kwargs = dict(histtype='stepfilled', alpha=0.3, normed=True, bins=40)\n",
    "\n",
    "plt.title('probability distribution for true negatives and true positives')\n",
    "plt.hist(x1, **kwargs)\n",
    "plt.hist(x2, **kwargs)\n"
   ]
  },
  {
   "cell_type": "markdown",
   "metadata": {},
   "source": [
    "### This is not a great distribution. Won't get a recall of 0.9 without a huge FPR"
   ]
  },
  {
   "cell_type": "code",
   "execution_count": 37,
   "metadata": {},
   "outputs": [
    {
     "data": {
      "text/html": [
       "<div>\n",
       "<style scoped>\n",
       "    .dataframe tbody tr th:only-of-type {\n",
       "        vertical-align: middle;\n",
       "    }\n",
       "\n",
       "    .dataframe tbody tr th {\n",
       "        vertical-align: top;\n",
       "    }\n",
       "\n",
       "    .dataframe thead th {\n",
       "        text-align: right;\n",
       "    }\n",
       "</style>\n",
       "<table border=\"1\" class=\"dataframe\">\n",
       "  <thead>\n",
       "    <tr style=\"text-align: right;\">\n",
       "      <th></th>\n",
       "      <th>recall</th>\n",
       "      <th>precision</th>\n",
       "      <th>f1_score</th>\n",
       "    </tr>\n",
       "  </thead>\n",
       "  <tbody>\n",
       "    <tr>\n",
       "      <th>0.000000</th>\n",
       "      <td>1.000000</td>\n",
       "      <td>0.136665</td>\n",
       "      <td>0.240467</td>\n",
       "    </tr>\n",
       "    <tr>\n",
       "      <th>0.026316</th>\n",
       "      <td>0.960139</td>\n",
       "      <td>0.192228</td>\n",
       "      <td>0.320324</td>\n",
       "    </tr>\n",
       "    <tr>\n",
       "      <th>0.052632</th>\n",
       "      <td>0.916811</td>\n",
       "      <td>0.228806</td>\n",
       "      <td>0.366217</td>\n",
       "    </tr>\n",
       "    <tr>\n",
       "      <th>0.078947</th>\n",
       "      <td>0.878683</td>\n",
       "      <td>0.250742</td>\n",
       "      <td>0.390150</td>\n",
       "    </tr>\n",
       "    <tr>\n",
       "      <th>0.105263</th>\n",
       "      <td>0.845754</td>\n",
       "      <td>0.269019</td>\n",
       "      <td>0.408197</td>\n",
       "    </tr>\n",
       "    <tr>\n",
       "      <th>0.131579</th>\n",
       "      <td>0.800693</td>\n",
       "      <td>0.299805</td>\n",
       "      <td>0.436261</td>\n",
       "    </tr>\n",
       "    <tr>\n",
       "      <th>0.157895</th>\n",
       "      <td>0.738302</td>\n",
       "      <td>0.327945</td>\n",
       "      <td>0.454158</td>\n",
       "    </tr>\n",
       "    <tr>\n",
       "      <th>0.184211</th>\n",
       "      <td>0.698440</td>\n",
       "      <td>0.354754</td>\n",
       "      <td>0.470520</td>\n",
       "    </tr>\n",
       "    <tr>\n",
       "      <th>0.210526</th>\n",
       "      <td>0.656846</td>\n",
       "      <td>0.378244</td>\n",
       "      <td>0.480051</td>\n",
       "    </tr>\n",
       "    <tr>\n",
       "      <th>0.236842</th>\n",
       "      <td>0.599653</td>\n",
       "      <td>0.397701</td>\n",
       "      <td>0.478231</td>\n",
       "    </tr>\n",
       "    <tr>\n",
       "      <th>0.263158</th>\n",
       "      <td>0.526863</td>\n",
       "      <td>0.409704</td>\n",
       "      <td>0.460955</td>\n",
       "    </tr>\n",
       "  </tbody>\n",
       "</table>\n",
       "</div>"
      ],
      "text/plain": [
       "            recall  precision  f1_score\n",
       "0.000000  1.000000   0.136665  0.240467\n",
       "0.026316  0.960139   0.192228  0.320324\n",
       "0.052632  0.916811   0.228806  0.366217\n",
       "0.078947  0.878683   0.250742  0.390150\n",
       "0.105263  0.845754   0.269019  0.408197\n",
       "0.131579  0.800693   0.299805  0.436261\n",
       "0.157895  0.738302   0.327945  0.454158\n",
       "0.184211  0.698440   0.354754  0.470520\n",
       "0.210526  0.656846   0.378244  0.480051\n",
       "0.236842  0.599653   0.397701  0.478231\n",
       "0.263158  0.526863   0.409704  0.460955"
      ]
     },
     "execution_count": 37,
     "metadata": {},
     "output_type": "execute_result"
    }
   ],
   "source": [
    "#try a bunch of different prediction thresholds < 0.5 and see which one maximizes recall and F1 score\n",
    "import numpy as np\n",
    "d = dict()\n",
    "for i in np.linspace(0,0.5, num=20):\n",
    "    best = 0\n",
    "    test = np.where(dtest_predprob > i, 1,0)\n",
    "    recall = metrics.recall_score(y_test, test)\n",
    "    precision = metrics.precision_score(y_test, test)\n",
    "    f_score = metrics.f1_score(y_test, test, average='binary')\n",
    "    d[i]=recall, precision, f_score\n",
    "    \n",
    "frame = pd.DataFrame.from_dict(d, orient='index')#.columns=(['recall', 'f1_score'])\n",
    "frame.columns=(['recall','precision', 'f1_score'])\n",
    "frame[frame.recall>0.5]"
   ]
  },
  {
   "cell_type": "code",
   "execution_count": 38,
   "metadata": {},
   "outputs": [
    {
     "data": {
      "text/html": [
       "<div>\n",
       "<style scoped>\n",
       "    .dataframe tbody tr th:only-of-type {\n",
       "        vertical-align: middle;\n",
       "    }\n",
       "\n",
       "    .dataframe tbody tr th {\n",
       "        vertical-align: top;\n",
       "    }\n",
       "\n",
       "    .dataframe thead th {\n",
       "        text-align: right;\n",
       "    }\n",
       "</style>\n",
       "<table border=\"1\" class=\"dataframe\">\n",
       "  <thead>\n",
       "    <tr style=\"text-align: right;\">\n",
       "      <th></th>\n",
       "      <th>recall</th>\n",
       "      <th>precision</th>\n",
       "      <th>f1_score</th>\n",
       "    </tr>\n",
       "  </thead>\n",
       "  <tbody>\n",
       "    <tr>\n",
       "      <th>0.000000</th>\n",
       "      <td>1.000000</td>\n",
       "      <td>0.136902</td>\n",
       "      <td>0.240833</td>\n",
       "    </tr>\n",
       "    <tr>\n",
       "      <th>0.026316</th>\n",
       "      <td>0.972318</td>\n",
       "      <td>0.191547</td>\n",
       "      <td>0.320046</td>\n",
       "    </tr>\n",
       "    <tr>\n",
       "      <th>0.052632</th>\n",
       "      <td>0.930796</td>\n",
       "      <td>0.227196</td>\n",
       "      <td>0.365241</td>\n",
       "    </tr>\n",
       "    <tr>\n",
       "      <th>0.078947</th>\n",
       "      <td>0.894464</td>\n",
       "      <td>0.247724</td>\n",
       "      <td>0.387992</td>\n",
       "    </tr>\n",
       "    <tr>\n",
       "      <th>0.105263</th>\n",
       "      <td>0.859862</td>\n",
       "      <td>0.269962</td>\n",
       "      <td>0.410914</td>\n",
       "    </tr>\n",
       "    <tr>\n",
       "      <th>0.131579</th>\n",
       "      <td>0.818339</td>\n",
       "      <td>0.300317</td>\n",
       "      <td>0.439387</td>\n",
       "    </tr>\n",
       "    <tr>\n",
       "      <th>0.157895</th>\n",
       "      <td>0.745675</td>\n",
       "      <td>0.325775</td>\n",
       "      <td>0.453446</td>\n",
       "    </tr>\n",
       "    <tr>\n",
       "      <th>0.184211</th>\n",
       "      <td>0.692042</td>\n",
       "      <td>0.348432</td>\n",
       "      <td>0.463499</td>\n",
       "    </tr>\n",
       "    <tr>\n",
       "      <th>0.210526</th>\n",
       "      <td>0.633218</td>\n",
       "      <td>0.366000</td>\n",
       "      <td>0.463878</td>\n",
       "    </tr>\n",
       "    <tr>\n",
       "      <th>0.236842</th>\n",
       "      <td>0.572664</td>\n",
       "      <td>0.387588</td>\n",
       "      <td>0.462291</td>\n",
       "    </tr>\n",
       "    <tr>\n",
       "      <th>0.263158</th>\n",
       "      <td>0.510381</td>\n",
       "      <td>0.403557</td>\n",
       "      <td>0.450726</td>\n",
       "    </tr>\n",
       "  </tbody>\n",
       "</table>\n",
       "</div>"
      ],
      "text/plain": [
       "            recall  precision  f1_score\n",
       "0.000000  1.000000   0.136902  0.240833\n",
       "0.026316  0.972318   0.191547  0.320046\n",
       "0.052632  0.930796   0.227196  0.365241\n",
       "0.078947  0.894464   0.247724  0.387992\n",
       "0.105263  0.859862   0.269962  0.410914\n",
       "0.131579  0.818339   0.300317  0.439387\n",
       "0.157895  0.745675   0.325775  0.453446\n",
       "0.184211  0.692042   0.348432  0.463499\n",
       "0.210526  0.633218   0.366000  0.463878\n",
       "0.236842  0.572664   0.387588  0.462291\n",
       "0.263158  0.510381   0.403557  0.450726"
      ]
     },
     "execution_count": 38,
     "metadata": {},
     "output_type": "execute_result"
    }
   ],
   "source": [
    "#try a bunch of different prediction thresholds < 0.5 and see which one maximizes recall and F1 score\n",
    "import numpy as np\n",
    "d = dict()\n",
    "for i in np.linspace(0,0.5, num=20):\n",
    "    best = 0\n",
    "    test = np.where(dholdout_predprob > i, 1,0)\n",
    "    recall = metrics.recall_score(y_holdout, test)\n",
    "    precision = metrics.precision_score(y_holdout, test)\n",
    "    f_score = metrics.f1_score(y_holdout, test, average='binary')\n",
    "    d[i]=recall, precision, f_score\n",
    "    \n",
    "frame = pd.DataFrame.from_dict(d, orient='index')#.columns=(['recall', 'f1_score'])\n",
    "frame.columns=(['recall','precision', 'f1_score'])\n",
    "frame[frame.recall>0.5]"
   ]
  },
  {
   "cell_type": "markdown",
   "metadata": {},
   "source": [
    "## Modeling Decision: Threshold of 0.25 gives a recall > 0.55 and a precision > 0.4on both test and holdout. Will use as threshold. We want to have a high recall rate but need to make a trade off with FPR"
   ]
  },
  {
   "cell_type": "markdown",
   "metadata": {},
   "source": [
    "##### Create predictions for the out years based on data"
   ]
  },
  {
   "cell_type": "code",
   "execution_count": 15,
   "metadata": {
    "collapsed": true
   },
   "outputs": [],
   "source": [
    "model_outer=pickle.load(open('Kenya_pickle.sav', 'rb'))"
   ]
  },
  {
   "cell_type": "code",
   "execution_count": 16,
   "metadata": {},
   "outputs": [
    {
     "data": {
      "text/html": [
       "<div>\n",
       "<style scoped>\n",
       "    .dataframe tbody tr th:only-of-type {\n",
       "        vertical-align: middle;\n",
       "    }\n",
       "\n",
       "    .dataframe tbody tr th {\n",
       "        vertical-align: top;\n",
       "    }\n",
       "\n",
       "    .dataframe thead th {\n",
       "        text-align: right;\n",
       "    }\n",
       "</style>\n",
       "<table border=\"1\" class=\"dataframe\">\n",
       "  <thead>\n",
       "    <tr style=\"text-align: right;\">\n",
       "      <th></th>\n",
       "      <th>water_source</th>\n",
       "      <th>water_tech</th>\n",
       "      <th>management</th>\n",
       "      <th>source</th>\n",
       "      <th>adm1</th>\n",
       "      <th>adm2</th>\n",
       "      <th>pay</th>\n",
       "      <th>lat_deg</th>\n",
       "      <th>lon_deg</th>\n",
       "      <th>new_install_year</th>\n",
       "      <th>age_well_years</th>\n",
       "      <th>time_since_meas_years</th>\n",
       "      <th>fuzzy_water_source</th>\n",
       "      <th>fuzzy_water_tech</th>\n",
       "    </tr>\n",
       "  </thead>\n",
       "  <tbody>\n",
       "    <tr>\n",
       "      <th>39068</th>\n",
       "      <td>58</td>\n",
       "      <td>102</td>\n",
       "      <td>9</td>\n",
       "      <td>8</td>\n",
       "      <td>9</td>\n",
       "      <td>25</td>\n",
       "      <td>122</td>\n",
       "      <td>0.0926</td>\n",
       "      <td>36.1744</td>\n",
       "      <td>80</td>\n",
       "      <td>278.8</td>\n",
       "      <td>4.8</td>\n",
       "      <td>10</td>\n",
       "      <td>1</td>\n",
       "    </tr>\n",
       "  </tbody>\n",
       "</table>\n",
       "</div>"
      ],
      "text/plain": [
       "       water_source  water_tech  management  source  adm1  adm2  pay  lat_deg  \\\n",
       "39068            58         102           9       8     9    25  122   0.0926   \n",
       "\n",
       "       lon_deg  new_install_year  age_well_years  time_since_meas_years  \\\n",
       "39068  36.1744                80           278.8                    4.8   \n",
       "\n",
       "       fuzzy_water_source  fuzzy_water_tech  \n",
       "39068                  10                 1  "
      ]
     },
     "execution_count": 16,
     "metadata": {},
     "output_type": "execute_result"
    }
   ],
   "source": [
    "X_today = X2.copy()\n",
    "X_today['age_well_years'] = X_today.age_well_years + X_today.time_since_meas_years\n",
    "X_today[:1]"
   ]
  },
  {
   "cell_type": "code",
   "execution_count": 17,
   "metadata": {
    "collapsed": true
   },
   "outputs": [],
   "source": [
    "#make two other future values to predict, 1 year and 5 years\n",
    "X_1year = X_today.copy()\n",
    "X_1year['age_well_years'] = X_1year.age_well_years + 1\n",
    "X_3year = X_1year.copy()\n",
    "X_3year['age_well_years']=X_3year.age_well_years+2\n",
    "X_5year = X_1year.copy()\n",
    "X_5year['age_well_years']=X_5year.age_well_years+4"
   ]
  },
  {
   "cell_type": "code",
   "execution_count": 18,
   "metadata": {},
   "outputs": [
    {
     "name": "stdout",
     "output_type": "stream",
     "text": [
      "       age_well_years  time_since_meas_years\n",
      "39068           274.0                    4.8\n",
      "39068    278.8\n",
      "Name: age_well_years, dtype: float64\n",
      "39068    279.8\n",
      "Name: age_well_years, dtype: float64\n",
      "39068    281.8\n",
      "Name: age_well_years, dtype: float64\n",
      "39068    283.8\n",
      "Name: age_well_years, dtype: float64\n"
     ]
    }
   ],
   "source": [
    "print(X2[['age_well_years', 'time_since_meas_years']][:1])\n",
    "print(X_today['age_well_years'][:1])\n",
    "print(X_1year['age_well_years'][:1])\n",
    "print(X_3year['age_well_years'][:1])\n",
    "print(X_5year['age_well_years'][:1])"
   ]
  },
  {
   "cell_type": "markdown",
   "metadata": {},
   "source": [
    "# Get Predictions for Today, 1, 3 and 5 years out"
   ]
  },
  {
   "cell_type": "code",
   "execution_count": 19,
   "metadata": {
    "collapsed": true
   },
   "outputs": [],
   "source": [
    "today_preds = model_outer.predict(X_today)\n",
    "today_predprob = model_outer.predict_proba(X_today)\n",
    "one_year_preds = model_outer.predict(X_1year)\n",
    "one_year_predprob = model_outer.predict_proba(X_1year)\n",
    "three_year_preds = model_outer.predict(X_3year)\n",
    "three_year_predprob = model_outer.predict_proba(X_3year)\n",
    "five_year_preds = model_outer.predict(X_5year)\n",
    "five_year_predprob = model_outer.predict_proba(X_5year)"
   ]
  },
  {
   "cell_type": "code",
   "execution_count": 20,
   "metadata": {
    "collapsed": true
   },
   "outputs": [],
   "source": [
    "# append them to the original df\n",
    "#erroring, since we had to drop a few NaN rows\n",
    "sl = df2\n",
    "sl['today_preds']=today_preds\n",
    "sl['today_predprob']= today_predprob[:,1]\n",
    "sl['one_year_preds'] = one_year_preds\n",
    "sl['one_year_predprob'] = one_year_predprob[:,1]\n",
    "sl['three_year_preds'] = three_year_preds\n",
    "sl['three_year_predprob']= three_year_predprob[:,1]\n",
    "sl['five_year_preds']=five_year_preds\n",
    "sl['five_year_predprob'] =five_year_predprob[:,1]"
   ]
  },
  {
   "cell_type": "code",
   "execution_count": 48,
   "metadata": {},
   "outputs": [
    {
     "data": {
      "text/html": [
       "<div>\n",
       "<style scoped>\n",
       "    .dataframe tbody tr th:only-of-type {\n",
       "        vertical-align: middle;\n",
       "    }\n",
       "\n",
       "    .dataframe tbody tr th {\n",
       "        vertical-align: top;\n",
       "    }\n",
       "\n",
       "    .dataframe thead th {\n",
       "        text-align: right;\n",
       "    }\n",
       "</style>\n",
       "<table border=\"1\" class=\"dataframe\">\n",
       "  <thead>\n",
       "    <tr style=\"text-align: right;\">\n",
       "      <th></th>\n",
       "      <th>status_binary</th>\n",
       "      <th>today_preds</th>\n",
       "      <th>one_year_preds</th>\n",
       "      <th>three_year_preds</th>\n",
       "      <th>five_year_preds</th>\n",
       "    </tr>\n",
       "  </thead>\n",
       "  <tbody>\n",
       "    <tr>\n",
       "      <th>count</th>\n",
       "      <td>21108.000000</td>\n",
       "      <td>21108.000000</td>\n",
       "      <td>21108.000000</td>\n",
       "      <td>21108.000000</td>\n",
       "      <td>21108.000000</td>\n",
       "    </tr>\n",
       "    <tr>\n",
       "      <th>mean</th>\n",
       "      <td>0.136725</td>\n",
       "      <td>0.046381</td>\n",
       "      <td>0.043254</td>\n",
       "      <td>0.046854</td>\n",
       "      <td>0.052634</td>\n",
       "    </tr>\n",
       "    <tr>\n",
       "      <th>std</th>\n",
       "      <td>0.343565</td>\n",
       "      <td>0.210313</td>\n",
       "      <td>0.203433</td>\n",
       "      <td>0.211332</td>\n",
       "      <td>0.223307</td>\n",
       "    </tr>\n",
       "    <tr>\n",
       "      <th>min</th>\n",
       "      <td>0.000000</td>\n",
       "      <td>0.000000</td>\n",
       "      <td>0.000000</td>\n",
       "      <td>0.000000</td>\n",
       "      <td>0.000000</td>\n",
       "    </tr>\n",
       "    <tr>\n",
       "      <th>25%</th>\n",
       "      <td>0.000000</td>\n",
       "      <td>0.000000</td>\n",
       "      <td>0.000000</td>\n",
       "      <td>0.000000</td>\n",
       "      <td>0.000000</td>\n",
       "    </tr>\n",
       "    <tr>\n",
       "      <th>50%</th>\n",
       "      <td>0.000000</td>\n",
       "      <td>0.000000</td>\n",
       "      <td>0.000000</td>\n",
       "      <td>0.000000</td>\n",
       "      <td>0.000000</td>\n",
       "    </tr>\n",
       "    <tr>\n",
       "      <th>75%</th>\n",
       "      <td>0.000000</td>\n",
       "      <td>0.000000</td>\n",
       "      <td>0.000000</td>\n",
       "      <td>0.000000</td>\n",
       "      <td>0.000000</td>\n",
       "    </tr>\n",
       "    <tr>\n",
       "      <th>max</th>\n",
       "      <td>1.000000</td>\n",
       "      <td>1.000000</td>\n",
       "      <td>1.000000</td>\n",
       "      <td>1.000000</td>\n",
       "      <td>1.000000</td>\n",
       "    </tr>\n",
       "  </tbody>\n",
       "</table>\n",
       "</div>"
      ],
      "text/plain": [
       "       status_binary   today_preds  one_year_preds  three_year_preds  \\\n",
       "count   21108.000000  21108.000000    21108.000000      21108.000000   \n",
       "mean        0.136725      0.046381        0.043254          0.046854   \n",
       "std         0.343565      0.210313        0.203433          0.211332   \n",
       "min         0.000000      0.000000        0.000000          0.000000   \n",
       "25%         0.000000      0.000000        0.000000          0.000000   \n",
       "50%         0.000000      0.000000        0.000000          0.000000   \n",
       "75%         0.000000      0.000000        0.000000          0.000000   \n",
       "max         1.000000      1.000000        1.000000          1.000000   \n",
       "\n",
       "       five_year_preds  \n",
       "count     21108.000000  \n",
       "mean          0.052634  \n",
       "std           0.223307  \n",
       "min           0.000000  \n",
       "25%           0.000000  \n",
       "50%           0.000000  \n",
       "75%           0.000000  \n",
       "max           1.000000  "
      ]
     },
     "execution_count": 48,
     "metadata": {},
     "output_type": "execute_result"
    }
   ],
   "source": [
    "#original before corrected time to measure\n",
    "sl[['status_binary','today_preds','one_year_preds','three_year_preds', 'five_year_preds']].describe()"
   ]
  },
  {
   "cell_type": "code",
   "execution_count": 21,
   "metadata": {},
   "outputs": [
    {
     "data": {
      "text/html": [
       "<div>\n",
       "<style scoped>\n",
       "    .dataframe tbody tr th:only-of-type {\n",
       "        vertical-align: middle;\n",
       "    }\n",
       "\n",
       "    .dataframe tbody tr th {\n",
       "        vertical-align: top;\n",
       "    }\n",
       "\n",
       "    .dataframe thead th {\n",
       "        text-align: right;\n",
       "    }\n",
       "</style>\n",
       "<table border=\"1\" class=\"dataframe\">\n",
       "  <thead>\n",
       "    <tr style=\"text-align: right;\">\n",
       "      <th></th>\n",
       "      <th>status_binary</th>\n",
       "      <th>today_preds</th>\n",
       "      <th>one_year_preds</th>\n",
       "      <th>three_year_preds</th>\n",
       "      <th>five_year_preds</th>\n",
       "    </tr>\n",
       "  </thead>\n",
       "  <tbody>\n",
       "    <tr>\n",
       "      <th>count</th>\n",
       "      <td>21108.000000</td>\n",
       "      <td>21108.000000</td>\n",
       "      <td>21108.000000</td>\n",
       "      <td>21108.000000</td>\n",
       "      <td>21108.000000</td>\n",
       "    </tr>\n",
       "    <tr>\n",
       "      <th>mean</th>\n",
       "      <td>0.136725</td>\n",
       "      <td>0.046381</td>\n",
       "      <td>0.046381</td>\n",
       "      <td>0.045575</td>\n",
       "      <td>0.045717</td>\n",
       "    </tr>\n",
       "    <tr>\n",
       "      <th>std</th>\n",
       "      <td>0.343565</td>\n",
       "      <td>0.210313</td>\n",
       "      <td>0.210313</td>\n",
       "      <td>0.208567</td>\n",
       "      <td>0.208876</td>\n",
       "    </tr>\n",
       "    <tr>\n",
       "      <th>min</th>\n",
       "      <td>0.000000</td>\n",
       "      <td>0.000000</td>\n",
       "      <td>0.000000</td>\n",
       "      <td>0.000000</td>\n",
       "      <td>0.000000</td>\n",
       "    </tr>\n",
       "    <tr>\n",
       "      <th>25%</th>\n",
       "      <td>0.000000</td>\n",
       "      <td>0.000000</td>\n",
       "      <td>0.000000</td>\n",
       "      <td>0.000000</td>\n",
       "      <td>0.000000</td>\n",
       "    </tr>\n",
       "    <tr>\n",
       "      <th>50%</th>\n",
       "      <td>0.000000</td>\n",
       "      <td>0.000000</td>\n",
       "      <td>0.000000</td>\n",
       "      <td>0.000000</td>\n",
       "      <td>0.000000</td>\n",
       "    </tr>\n",
       "    <tr>\n",
       "      <th>75%</th>\n",
       "      <td>0.000000</td>\n",
       "      <td>0.000000</td>\n",
       "      <td>0.000000</td>\n",
       "      <td>0.000000</td>\n",
       "      <td>0.000000</td>\n",
       "    </tr>\n",
       "    <tr>\n",
       "      <th>max</th>\n",
       "      <td>1.000000</td>\n",
       "      <td>1.000000</td>\n",
       "      <td>1.000000</td>\n",
       "      <td>1.000000</td>\n",
       "      <td>1.000000</td>\n",
       "    </tr>\n",
       "  </tbody>\n",
       "</table>\n",
       "</div>"
      ],
      "text/plain": [
       "       status_binary   today_preds  one_year_preds  three_year_preds  \\\n",
       "count   21108.000000  21108.000000    21108.000000      21108.000000   \n",
       "mean        0.136725      0.046381        0.046381          0.045575   \n",
       "std         0.343565      0.210313        0.210313          0.208567   \n",
       "min         0.000000      0.000000        0.000000          0.000000   \n",
       "25%         0.000000      0.000000        0.000000          0.000000   \n",
       "50%         0.000000      0.000000        0.000000          0.000000   \n",
       "75%         0.000000      0.000000        0.000000          0.000000   \n",
       "max         1.000000      1.000000        1.000000          1.000000   \n",
       "\n",
       "       five_year_preds  \n",
       "count     21108.000000  \n",
       "mean          0.045717  \n",
       "std           0.208876  \n",
       "min           0.000000  \n",
       "25%           0.000000  \n",
       "50%           0.000000  \n",
       "75%           0.000000  \n",
       "max           1.000000  "
      ]
     },
     "execution_count": 21,
     "metadata": {},
     "output_type": "execute_result"
    }
   ],
   "source": [
    "# with corrected time to measure\n",
    "sl[['status_binary','today_preds','one_year_preds','three_year_preds', 'five_year_preds']].describe()"
   ]
  },
  {
   "cell_type": "markdown",
   "metadata": {},
   "source": [
    "# 0.5 threshold won't do, setting a modeling decision of > 90% recall for our prediction threshold"
   ]
  },
  {
   "cell_type": "code",
   "execution_count": 22,
   "metadata": {
    "collapsed": true
   },
   "outputs": [],
   "source": [
    "threshold = 0.25\n",
    "#recall > 90%, we want to catch all of the bad wells\n",
    "sl['today_preds']=np.where(today_predprob[:,1]>threshold,1,0)\n",
    "sl['today_predprob']= today_predprob[:,1]\n",
    "sl['one_year_preds'] = np.where(one_year_predprob[:,1]>threshold,1,0)\n",
    "sl['one_year_predprob'] = one_year_predprob[:,1]\n",
    "sl['five_year_preds']=np.where(five_year_predprob[:,1]>threshold,1,0)\n",
    "sl['five_year_predprob'] =five_year_predprob[:,1]"
   ]
  },
  {
   "cell_type": "code",
   "execution_count": 50,
   "metadata": {},
   "outputs": [
    {
     "data": {
      "text/html": [
       "<div>\n",
       "<style scoped>\n",
       "    .dataframe tbody tr th:only-of-type {\n",
       "        vertical-align: middle;\n",
       "    }\n",
       "\n",
       "    .dataframe tbody tr th {\n",
       "        vertical-align: top;\n",
       "    }\n",
       "\n",
       "    .dataframe thead th {\n",
       "        text-align: right;\n",
       "    }\n",
       "</style>\n",
       "<table border=\"1\" class=\"dataframe\">\n",
       "  <thead>\n",
       "    <tr style=\"text-align: right;\">\n",
       "      <th></th>\n",
       "      <th>status_binary</th>\n",
       "      <th>today_preds</th>\n",
       "      <th>one_year_preds</th>\n",
       "      <th>three_year_preds</th>\n",
       "      <th>five_year_preds</th>\n",
       "    </tr>\n",
       "  </thead>\n",
       "  <tbody>\n",
       "    <tr>\n",
       "      <th>count</th>\n",
       "      <td>21108.000000</td>\n",
       "      <td>21108.000000</td>\n",
       "      <td>21108.000000</td>\n",
       "      <td>21108.000000</td>\n",
       "      <td>21108.000000</td>\n",
       "    </tr>\n",
       "    <tr>\n",
       "      <th>mean</th>\n",
       "      <td>0.136725</td>\n",
       "      <td>0.175147</td>\n",
       "      <td>0.201535</td>\n",
       "      <td>0.046854</td>\n",
       "      <td>0.236498</td>\n",
       "    </tr>\n",
       "    <tr>\n",
       "      <th>std</th>\n",
       "      <td>0.343565</td>\n",
       "      <td>0.380102</td>\n",
       "      <td>0.401156</td>\n",
       "      <td>0.211332</td>\n",
       "      <td>0.424941</td>\n",
       "    </tr>\n",
       "    <tr>\n",
       "      <th>min</th>\n",
       "      <td>0.000000</td>\n",
       "      <td>0.000000</td>\n",
       "      <td>0.000000</td>\n",
       "      <td>0.000000</td>\n",
       "      <td>0.000000</td>\n",
       "    </tr>\n",
       "    <tr>\n",
       "      <th>25%</th>\n",
       "      <td>0.000000</td>\n",
       "      <td>0.000000</td>\n",
       "      <td>0.000000</td>\n",
       "      <td>0.000000</td>\n",
       "      <td>0.000000</td>\n",
       "    </tr>\n",
       "    <tr>\n",
       "      <th>50%</th>\n",
       "      <td>0.000000</td>\n",
       "      <td>0.000000</td>\n",
       "      <td>0.000000</td>\n",
       "      <td>0.000000</td>\n",
       "      <td>0.000000</td>\n",
       "    </tr>\n",
       "    <tr>\n",
       "      <th>75%</th>\n",
       "      <td>0.000000</td>\n",
       "      <td>0.000000</td>\n",
       "      <td>0.000000</td>\n",
       "      <td>0.000000</td>\n",
       "      <td>0.000000</td>\n",
       "    </tr>\n",
       "    <tr>\n",
       "      <th>max</th>\n",
       "      <td>1.000000</td>\n",
       "      <td>1.000000</td>\n",
       "      <td>1.000000</td>\n",
       "      <td>1.000000</td>\n",
       "      <td>1.000000</td>\n",
       "    </tr>\n",
       "  </tbody>\n",
       "</table>\n",
       "</div>"
      ],
      "text/plain": [
       "       status_binary   today_preds  one_year_preds  three_year_preds  \\\n",
       "count   21108.000000  21108.000000    21108.000000      21108.000000   \n",
       "mean        0.136725      0.175147        0.201535          0.046854   \n",
       "std         0.343565      0.380102        0.401156          0.211332   \n",
       "min         0.000000      0.000000        0.000000          0.000000   \n",
       "25%         0.000000      0.000000        0.000000          0.000000   \n",
       "50%         0.000000      0.000000        0.000000          0.000000   \n",
       "75%         0.000000      0.000000        0.000000          0.000000   \n",
       "max         1.000000      1.000000        1.000000          1.000000   \n",
       "\n",
       "       five_year_preds  \n",
       "count     21108.000000  \n",
       "mean          0.236498  \n",
       "std           0.424941  \n",
       "min           0.000000  \n",
       "25%           0.000000  \n",
       "50%           0.000000  \n",
       "75%           0.000000  \n",
       "max           1.000000  "
      ]
     },
     "execution_count": 50,
     "metadata": {},
     "output_type": "execute_result"
    }
   ],
   "source": [
    "#old results before time to measure correction\n",
    "sl[['status_binary','today_preds','one_year_preds','three_year_preds', 'five_year_preds']].describe()"
   ]
  },
  {
   "cell_type": "code",
   "execution_count": 23,
   "metadata": {},
   "outputs": [
    {
     "data": {
      "text/html": [
       "<div>\n",
       "<style scoped>\n",
       "    .dataframe tbody tr th:only-of-type {\n",
       "        vertical-align: middle;\n",
       "    }\n",
       "\n",
       "    .dataframe tbody tr th {\n",
       "        vertical-align: top;\n",
       "    }\n",
       "\n",
       "    .dataframe thead th {\n",
       "        text-align: right;\n",
       "    }\n",
       "</style>\n",
       "<table border=\"1\" class=\"dataframe\">\n",
       "  <thead>\n",
       "    <tr style=\"text-align: right;\">\n",
       "      <th></th>\n",
       "      <th>status_binary</th>\n",
       "      <th>today_preds</th>\n",
       "      <th>one_year_preds</th>\n",
       "      <th>three_year_preds</th>\n",
       "      <th>five_year_preds</th>\n",
       "    </tr>\n",
       "  </thead>\n",
       "  <tbody>\n",
       "    <tr>\n",
       "      <th>count</th>\n",
       "      <td>21108.000000</td>\n",
       "      <td>21108.000000</td>\n",
       "      <td>21108.000000</td>\n",
       "      <td>21108.000000</td>\n",
       "      <td>21108.000000</td>\n",
       "    </tr>\n",
       "    <tr>\n",
       "      <th>mean</th>\n",
       "      <td>0.136725</td>\n",
       "      <td>0.175147</td>\n",
       "      <td>0.174720</td>\n",
       "      <td>0.045575</td>\n",
       "      <td>0.175289</td>\n",
       "    </tr>\n",
       "    <tr>\n",
       "      <th>std</th>\n",
       "      <td>0.343565</td>\n",
       "      <td>0.380102</td>\n",
       "      <td>0.379737</td>\n",
       "      <td>0.208567</td>\n",
       "      <td>0.380223</td>\n",
       "    </tr>\n",
       "    <tr>\n",
       "      <th>min</th>\n",
       "      <td>0.000000</td>\n",
       "      <td>0.000000</td>\n",
       "      <td>0.000000</td>\n",
       "      <td>0.000000</td>\n",
       "      <td>0.000000</td>\n",
       "    </tr>\n",
       "    <tr>\n",
       "      <th>25%</th>\n",
       "      <td>0.000000</td>\n",
       "      <td>0.000000</td>\n",
       "      <td>0.000000</td>\n",
       "      <td>0.000000</td>\n",
       "      <td>0.000000</td>\n",
       "    </tr>\n",
       "    <tr>\n",
       "      <th>50%</th>\n",
       "      <td>0.000000</td>\n",
       "      <td>0.000000</td>\n",
       "      <td>0.000000</td>\n",
       "      <td>0.000000</td>\n",
       "      <td>0.000000</td>\n",
       "    </tr>\n",
       "    <tr>\n",
       "      <th>75%</th>\n",
       "      <td>0.000000</td>\n",
       "      <td>0.000000</td>\n",
       "      <td>0.000000</td>\n",
       "      <td>0.000000</td>\n",
       "      <td>0.000000</td>\n",
       "    </tr>\n",
       "    <tr>\n",
       "      <th>max</th>\n",
       "      <td>1.000000</td>\n",
       "      <td>1.000000</td>\n",
       "      <td>1.000000</td>\n",
       "      <td>1.000000</td>\n",
       "      <td>1.000000</td>\n",
       "    </tr>\n",
       "  </tbody>\n",
       "</table>\n",
       "</div>"
      ],
      "text/plain": [
       "       status_binary   today_preds  one_year_preds  three_year_preds  \\\n",
       "count   21108.000000  21108.000000    21108.000000      21108.000000   \n",
       "mean        0.136725      0.175147        0.174720          0.045575   \n",
       "std         0.343565      0.380102        0.379737          0.208567   \n",
       "min         0.000000      0.000000        0.000000          0.000000   \n",
       "25%         0.000000      0.000000        0.000000          0.000000   \n",
       "50%         0.000000      0.000000        0.000000          0.000000   \n",
       "75%         0.000000      0.000000        0.000000          0.000000   \n",
       "max         1.000000      1.000000        1.000000          1.000000   \n",
       "\n",
       "       five_year_preds  \n",
       "count     21108.000000  \n",
       "mean          0.175289  \n",
       "std           0.380223  \n",
       "min           0.000000  \n",
       "25%           0.000000  \n",
       "50%           0.000000  \n",
       "75%           0.000000  \n",
       "max           1.000000  "
      ]
     },
     "execution_count": 23,
     "metadata": {},
     "output_type": "execute_result"
    }
   ],
   "source": [
    "#new results after adjusting time since measurement\n",
    "sl[['status_binary','today_preds','one_year_preds','three_year_preds', 'five_year_preds']].describe()"
   ]
  },
  {
   "cell_type": "code",
   "execution_count": 51,
   "metadata": {},
   "outputs": [
    {
     "data": {
      "text/plain": [
       "(795, 23)"
      ]
     },
     "execution_count": 51,
     "metadata": {},
     "output_type": "execute_result"
    }
   ],
   "source": [
    "#how many wells that were good at time of measurement do we predict will fail within one year from today?\n",
    "sl[sl.status_binary==0][(sl.today_preds<sl.one_year_preds)].shape"
   ]
  },
  {
   "cell_type": "code",
   "execution_count": 52,
   "metadata": {},
   "outputs": [
    {
     "data": {
      "text/plain": [
       "(0, 23)"
      ]
     },
     "execution_count": 52,
     "metadata": {},
     "output_type": "execute_result"
    }
   ],
   "source": [
    "#how many wells that were good at time of measurement do we predict will fail within one year from today?\n",
    "sl[sl.status_binary==0][(sl.today_preds<sl.one_year_preds)&(sl.one_year_preds<sl.three_year_preds)].shape"
   ]
  },
  {
   "cell_type": "code",
   "execution_count": 53,
   "metadata": {},
   "outputs": [
    {
     "name": "stdout",
     "output_type": "stream",
     "text": [
      "             precision    recall  f1-score   support\n",
      "\n",
      "        0.0       0.88      0.98      0.93      3644\n",
      "        1.0       0.62      0.18      0.28       578\n",
      "\n",
      "avg / total       0.85      0.87      0.84      4222\n",
      "\n"
     ]
    }
   ],
   "source": [
    "print(metrics.classification_report(y_holdout, dholdout_predictions))"
   ]
  },
  {
   "cell_type": "code",
   "execution_count": 54,
   "metadata": {
    "collapsed": true
   },
   "outputs": [],
   "source": [
    "sl.to_csv('Kenya_w_outyear_predictions.csv')"
   ]
  },
  {
   "cell_type": "code",
   "execution_count": 24,
   "metadata": {},
   "outputs": [
    {
     "data": {
      "text/html": [
       "<div>\n",
       "<style scoped>\n",
       "    .dataframe tbody tr th:only-of-type {\n",
       "        vertical-align: middle;\n",
       "    }\n",
       "\n",
       "    .dataframe tbody tr th {\n",
       "        vertical-align: top;\n",
       "    }\n",
       "\n",
       "    .dataframe thead th {\n",
       "        text-align: right;\n",
       "    }\n",
       "</style>\n",
       "<table border=\"1\" class=\"dataframe\">\n",
       "  <thead>\n",
       "    <tr style=\"text-align: right;\">\n",
       "      <th>index</th>\n",
       "      <th>fuzzy_water_source</th>\n",
       "      <th>fuzzy_water_tech</th>\n",
       "      <th># functioning</th>\n",
       "      <th># not functioning</th>\n",
       "      <th>percentage_broken</th>\n",
       "    </tr>\n",
       "  </thead>\n",
       "  <tbody>\n",
       "    <tr>\n",
       "      <th>0</th>\n",
       "      <td>Borehole</td>\n",
       "      <td>Afridev</td>\n",
       "      <td>441.0</td>\n",
       "      <td>76.0</td>\n",
       "      <td>14.70</td>\n",
       "    </tr>\n",
       "    <tr>\n",
       "      <th>1</th>\n",
       "      <td>Borehole</td>\n",
       "      <td>Borehole</td>\n",
       "      <td>0.0</td>\n",
       "      <td>1.0</td>\n",
       "      <td>100.00</td>\n",
       "    </tr>\n",
       "    <tr>\n",
       "      <th>2</th>\n",
       "      <td>Borehole</td>\n",
       "      <td>Bush Pump</td>\n",
       "      <td>43.0</td>\n",
       "      <td>17.0</td>\n",
       "      <td>28.33</td>\n",
       "    </tr>\n",
       "    <tr>\n",
       "      <th>3</th>\n",
       "      <td>Borehole</td>\n",
       "      <td>Electrical Pump</td>\n",
       "      <td>375.0</td>\n",
       "      <td>23.0</td>\n",
       "      <td>5.78</td>\n",
       "    </tr>\n",
       "    <tr>\n",
       "      <th>4</th>\n",
       "      <td>Borehole</td>\n",
       "      <td>Gravity</td>\n",
       "      <td>2.0</td>\n",
       "      <td>0.0</td>\n",
       "      <td>0.00</td>\n",
       "    </tr>\n",
       "    <tr>\n",
       "      <th>5</th>\n",
       "      <td>Borehole</td>\n",
       "      <td>Hand Pump</td>\n",
       "      <td>308.0</td>\n",
       "      <td>87.0</td>\n",
       "      <td>22.03</td>\n",
       "    </tr>\n",
       "    <tr>\n",
       "      <th>6</th>\n",
       "      <td>Borehole</td>\n",
       "      <td>India Mark MK IMK II</td>\n",
       "      <td>79.0</td>\n",
       "      <td>10.0</td>\n",
       "      <td>11.24</td>\n",
       "    </tr>\n",
       "    <tr>\n",
       "      <th>7</th>\n",
       "      <td>Borehole</td>\n",
       "      <td>__MISSING__</td>\n",
       "      <td>632.0</td>\n",
       "      <td>61.0</td>\n",
       "      <td>8.80</td>\n",
       "    </tr>\n",
       "    <tr>\n",
       "      <th>8</th>\n",
       "      <td>Borehole</td>\n",
       "      <td>no match</td>\n",
       "      <td>71.0</td>\n",
       "      <td>8.0</td>\n",
       "      <td>10.13</td>\n",
       "    </tr>\n",
       "    <tr>\n",
       "      <th>9</th>\n",
       "      <td>Lake Pond Dam</td>\n",
       "      <td>Bucket</td>\n",
       "      <td>1.0</td>\n",
       "      <td>1.0</td>\n",
       "      <td>50.00</td>\n",
       "    </tr>\n",
       "    <tr>\n",
       "      <th>10</th>\n",
       "      <td>Lake Pond Dam</td>\n",
       "      <td>Gravity</td>\n",
       "      <td>3.0</td>\n",
       "      <td>1.0</td>\n",
       "      <td>25.00</td>\n",
       "    </tr>\n",
       "    <tr>\n",
       "      <th>11</th>\n",
       "      <td>Lake Pond Dam</td>\n",
       "      <td>Hand Pump</td>\n",
       "      <td>15.0</td>\n",
       "      <td>2.0</td>\n",
       "      <td>11.76</td>\n",
       "    </tr>\n",
       "    <tr>\n",
       "      <th>12</th>\n",
       "      <td>Lake Pond Dam</td>\n",
       "      <td>__MISSING__</td>\n",
       "      <td>31.0</td>\n",
       "      <td>8.0</td>\n",
       "      <td>20.51</td>\n",
       "    </tr>\n",
       "    <tr>\n",
       "      <th>13</th>\n",
       "      <td>Lake Pond Dam</td>\n",
       "      <td>no match</td>\n",
       "      <td>11.0</td>\n",
       "      <td>2.0</td>\n",
       "      <td>15.38</td>\n",
       "    </tr>\n",
       "    <tr>\n",
       "      <th>14</th>\n",
       "      <td>Piped</td>\n",
       "      <td>Electrical Pump</td>\n",
       "      <td>64.0</td>\n",
       "      <td>6.0</td>\n",
       "      <td>8.57</td>\n",
       "    </tr>\n",
       "    <tr>\n",
       "      <th>15</th>\n",
       "      <td>Piped</td>\n",
       "      <td>Gravity</td>\n",
       "      <td>24.0</td>\n",
       "      <td>0.0</td>\n",
       "      <td>0.00</td>\n",
       "    </tr>\n",
       "    <tr>\n",
       "      <th>16</th>\n",
       "      <td>Piped</td>\n",
       "      <td>Hand Pump</td>\n",
       "      <td>10.0</td>\n",
       "      <td>0.0</td>\n",
       "      <td>0.00</td>\n",
       "    </tr>\n",
       "    <tr>\n",
       "      <th>17</th>\n",
       "      <td>Piped</td>\n",
       "      <td>__MISSING__</td>\n",
       "      <td>1.0</td>\n",
       "      <td>0.0</td>\n",
       "      <td>0.00</td>\n",
       "    </tr>\n",
       "    <tr>\n",
       "      <th>18</th>\n",
       "      <td>Piped</td>\n",
       "      <td>tap</td>\n",
       "      <td>2.0</td>\n",
       "      <td>0.0</td>\n",
       "      <td>0.00</td>\n",
       "    </tr>\n",
       "    <tr>\n",
       "      <th>19</th>\n",
       "      <td>Rain Rainwater</td>\n",
       "      <td>Afridev</td>\n",
       "      <td>9.0</td>\n",
       "      <td>0.0</td>\n",
       "      <td>0.00</td>\n",
       "    </tr>\n",
       "    <tr>\n",
       "      <th>20</th>\n",
       "      <td>Rain Rainwater</td>\n",
       "      <td>Bucket</td>\n",
       "      <td>6.0</td>\n",
       "      <td>0.0</td>\n",
       "      <td>0.00</td>\n",
       "    </tr>\n",
       "    <tr>\n",
       "      <th>21</th>\n",
       "      <td>Rain Rainwater</td>\n",
       "      <td>Gravity</td>\n",
       "      <td>160.0</td>\n",
       "      <td>27.0</td>\n",
       "      <td>14.44</td>\n",
       "    </tr>\n",
       "    <tr>\n",
       "      <th>22</th>\n",
       "      <td>Rain Rainwater</td>\n",
       "      <td>Hand Pump</td>\n",
       "      <td>55.0</td>\n",
       "      <td>7.0</td>\n",
       "      <td>11.29</td>\n",
       "    </tr>\n",
       "    <tr>\n",
       "      <th>23</th>\n",
       "      <td>Rain Rainwater</td>\n",
       "      <td>Tank</td>\n",
       "      <td>2.0</td>\n",
       "      <td>0.0</td>\n",
       "      <td>0.00</td>\n",
       "    </tr>\n",
       "    <tr>\n",
       "      <th>24</th>\n",
       "      <td>Rain Rainwater</td>\n",
       "      <td>__MISSING__</td>\n",
       "      <td>71.0</td>\n",
       "      <td>9.0</td>\n",
       "      <td>11.25</td>\n",
       "    </tr>\n",
       "    <tr>\n",
       "      <th>25</th>\n",
       "      <td>Rain Rainwater</td>\n",
       "      <td>no match</td>\n",
       "      <td>6.0</td>\n",
       "      <td>3.0</td>\n",
       "      <td>33.33</td>\n",
       "    </tr>\n",
       "    <tr>\n",
       "      <th>26</th>\n",
       "      <td>Rain Rainwater</td>\n",
       "      <td>tap</td>\n",
       "      <td>65.0</td>\n",
       "      <td>6.0</td>\n",
       "      <td>8.45</td>\n",
       "    </tr>\n",
       "    <tr>\n",
       "      <th>27</th>\n",
       "      <td>Sand</td>\n",
       "      <td>Afridev</td>\n",
       "      <td>3.0</td>\n",
       "      <td>0.0</td>\n",
       "      <td>0.00</td>\n",
       "    </tr>\n",
       "    <tr>\n",
       "      <th>28</th>\n",
       "      <td>Sand</td>\n",
       "      <td>Electrical Pump</td>\n",
       "      <td>7.0</td>\n",
       "      <td>0.0</td>\n",
       "      <td>0.00</td>\n",
       "    </tr>\n",
       "    <tr>\n",
       "      <th>29</th>\n",
       "      <td>Sand</td>\n",
       "      <td>Gravity</td>\n",
       "      <td>22.0</td>\n",
       "      <td>5.0</td>\n",
       "      <td>18.52</td>\n",
       "    </tr>\n",
       "    <tr>\n",
       "      <th>...</th>\n",
       "      <td>...</td>\n",
       "      <td>...</td>\n",
       "      <td>...</td>\n",
       "      <td>...</td>\n",
       "      <td>...</td>\n",
       "    </tr>\n",
       "    <tr>\n",
       "      <th>52</th>\n",
       "      <td>Well</td>\n",
       "      <td>Afridev</td>\n",
       "      <td>673.0</td>\n",
       "      <td>111.0</td>\n",
       "      <td>14.16</td>\n",
       "    </tr>\n",
       "    <tr>\n",
       "      <th>53</th>\n",
       "      <td>Well</td>\n",
       "      <td>Bucket</td>\n",
       "      <td>22.0</td>\n",
       "      <td>0.0</td>\n",
       "      <td>0.00</td>\n",
       "    </tr>\n",
       "    <tr>\n",
       "      <th>54</th>\n",
       "      <td>Well</td>\n",
       "      <td>Bush Pump</td>\n",
       "      <td>5.0</td>\n",
       "      <td>6.0</td>\n",
       "      <td>54.55</td>\n",
       "    </tr>\n",
       "    <tr>\n",
       "      <th>55</th>\n",
       "      <td>Well</td>\n",
       "      <td>Electrical Pump</td>\n",
       "      <td>21.0</td>\n",
       "      <td>1.0</td>\n",
       "      <td>4.55</td>\n",
       "    </tr>\n",
       "    <tr>\n",
       "      <th>56</th>\n",
       "      <td>Well</td>\n",
       "      <td>Gravity</td>\n",
       "      <td>9.0</td>\n",
       "      <td>1.0</td>\n",
       "      <td>10.00</td>\n",
       "    </tr>\n",
       "    <tr>\n",
       "      <th>57</th>\n",
       "      <td>Well</td>\n",
       "      <td>Hand Pump</td>\n",
       "      <td>411.0</td>\n",
       "      <td>85.0</td>\n",
       "      <td>17.14</td>\n",
       "    </tr>\n",
       "    <tr>\n",
       "      <th>58</th>\n",
       "      <td>Well</td>\n",
       "      <td>India Mark MK IMK II</td>\n",
       "      <td>0.0</td>\n",
       "      <td>3.0</td>\n",
       "      <td>100.00</td>\n",
       "    </tr>\n",
       "    <tr>\n",
       "      <th>59</th>\n",
       "      <td>Well</td>\n",
       "      <td>Well</td>\n",
       "      <td>1.0</td>\n",
       "      <td>0.0</td>\n",
       "      <td>0.00</td>\n",
       "    </tr>\n",
       "    <tr>\n",
       "      <th>60</th>\n",
       "      <td>Well</td>\n",
       "      <td>__MISSING__</td>\n",
       "      <td>2172.0</td>\n",
       "      <td>94.0</td>\n",
       "      <td>4.15</td>\n",
       "    </tr>\n",
       "    <tr>\n",
       "      <th>61</th>\n",
       "      <td>Well</td>\n",
       "      <td>no match</td>\n",
       "      <td>1.0</td>\n",
       "      <td>2.0</td>\n",
       "      <td>66.67</td>\n",
       "    </tr>\n",
       "    <tr>\n",
       "      <th>62</th>\n",
       "      <td>__MISSING__ Unknown</td>\n",
       "      <td>Borehole</td>\n",
       "      <td>151.0</td>\n",
       "      <td>81.0</td>\n",
       "      <td>34.91</td>\n",
       "    </tr>\n",
       "    <tr>\n",
       "      <th>63</th>\n",
       "      <td>__MISSING__ Unknown</td>\n",
       "      <td>Gravity</td>\n",
       "      <td>34.0</td>\n",
       "      <td>3.0</td>\n",
       "      <td>8.11</td>\n",
       "    </tr>\n",
       "    <tr>\n",
       "      <th>64</th>\n",
       "      <td>__MISSING__ Unknown</td>\n",
       "      <td>Hand Pump</td>\n",
       "      <td>81.0</td>\n",
       "      <td>29.0</td>\n",
       "      <td>26.36</td>\n",
       "    </tr>\n",
       "    <tr>\n",
       "      <th>65</th>\n",
       "      <td>__MISSING__ Unknown</td>\n",
       "      <td>Lake Pond Dam</td>\n",
       "      <td>1.0</td>\n",
       "      <td>0.0</td>\n",
       "      <td>0.00</td>\n",
       "    </tr>\n",
       "    <tr>\n",
       "      <th>66</th>\n",
       "      <td>__MISSING__ Unknown</td>\n",
       "      <td>Rain Rainwater</td>\n",
       "      <td>1.0</td>\n",
       "      <td>0.0</td>\n",
       "      <td>0.00</td>\n",
       "    </tr>\n",
       "    <tr>\n",
       "      <th>67</th>\n",
       "      <td>__MISSING__ Unknown</td>\n",
       "      <td>Spring River Stream Protected</td>\n",
       "      <td>36.0</td>\n",
       "      <td>5.0</td>\n",
       "      <td>12.20</td>\n",
       "    </tr>\n",
       "    <tr>\n",
       "      <th>68</th>\n",
       "      <td>__MISSING__ Unknown</td>\n",
       "      <td>Standpipe Stand Post</td>\n",
       "      <td>11.0</td>\n",
       "      <td>2.0</td>\n",
       "      <td>15.38</td>\n",
       "    </tr>\n",
       "    <tr>\n",
       "      <th>69</th>\n",
       "      <td>__MISSING__ Unknown</td>\n",
       "      <td>Tank</td>\n",
       "      <td>43.0</td>\n",
       "      <td>0.0</td>\n",
       "      <td>0.00</td>\n",
       "    </tr>\n",
       "    <tr>\n",
       "      <th>70</th>\n",
       "      <td>__MISSING__ Unknown</td>\n",
       "      <td>Well</td>\n",
       "      <td>32.0</td>\n",
       "      <td>7.0</td>\n",
       "      <td>17.95</td>\n",
       "    </tr>\n",
       "    <tr>\n",
       "      <th>71</th>\n",
       "      <td>__MISSING__ Unknown</td>\n",
       "      <td>__MISSING__</td>\n",
       "      <td>6463.0</td>\n",
       "      <td>1752.0</td>\n",
       "      <td>21.33</td>\n",
       "    </tr>\n",
       "    <tr>\n",
       "      <th>72</th>\n",
       "      <td>__MISSING__ Unknown</td>\n",
       "      <td>municipal water supply</td>\n",
       "      <td>2.0</td>\n",
       "      <td>0.0</td>\n",
       "      <td>0.00</td>\n",
       "    </tr>\n",
       "    <tr>\n",
       "      <th>73</th>\n",
       "      <td>__MISSING__ Unknown</td>\n",
       "      <td>no match</td>\n",
       "      <td>52.0</td>\n",
       "      <td>44.0</td>\n",
       "      <td>45.83</td>\n",
       "    </tr>\n",
       "    <tr>\n",
       "      <th>74</th>\n",
       "      <td>municipal water supply</td>\n",
       "      <td>__MISSING__</td>\n",
       "      <td>17.0</td>\n",
       "      <td>0.0</td>\n",
       "      <td>0.00</td>\n",
       "    </tr>\n",
       "    <tr>\n",
       "      <th>75</th>\n",
       "      <td>no match</td>\n",
       "      <td>Afridev</td>\n",
       "      <td>5.0</td>\n",
       "      <td>0.0</td>\n",
       "      <td>0.00</td>\n",
       "    </tr>\n",
       "    <tr>\n",
       "      <th>76</th>\n",
       "      <td>no match</td>\n",
       "      <td>Bucket</td>\n",
       "      <td>14.0</td>\n",
       "      <td>0.0</td>\n",
       "      <td>0.00</td>\n",
       "    </tr>\n",
       "    <tr>\n",
       "      <th>77</th>\n",
       "      <td>no match</td>\n",
       "      <td>Gravity</td>\n",
       "      <td>55.0</td>\n",
       "      <td>18.0</td>\n",
       "      <td>24.66</td>\n",
       "    </tr>\n",
       "    <tr>\n",
       "      <th>78</th>\n",
       "      <td>no match</td>\n",
       "      <td>Hand Pump</td>\n",
       "      <td>154.0</td>\n",
       "      <td>52.0</td>\n",
       "      <td>25.24</td>\n",
       "    </tr>\n",
       "    <tr>\n",
       "      <th>79</th>\n",
       "      <td>no match</td>\n",
       "      <td>__MISSING__</td>\n",
       "      <td>593.0</td>\n",
       "      <td>85.0</td>\n",
       "      <td>12.54</td>\n",
       "    </tr>\n",
       "    <tr>\n",
       "      <th>80</th>\n",
       "      <td>no match</td>\n",
       "      <td>no match</td>\n",
       "      <td>5.0</td>\n",
       "      <td>2.0</td>\n",
       "      <td>28.57</td>\n",
       "    </tr>\n",
       "    <tr>\n",
       "      <th>81</th>\n",
       "      <td>no match</td>\n",
       "      <td>tap</td>\n",
       "      <td>2.0</td>\n",
       "      <td>0.0</td>\n",
       "      <td>0.00</td>\n",
       "    </tr>\n",
       "  </tbody>\n",
       "</table>\n",
       "<p>82 rows × 5 columns</p>\n",
       "</div>"
      ],
      "text/plain": [
       "index      fuzzy_water_source               fuzzy_water_tech  # functioning  \\\n",
       "0                    Borehole                        Afridev          441.0   \n",
       "1                    Borehole                       Borehole            0.0   \n",
       "2                    Borehole                      Bush Pump           43.0   \n",
       "3                    Borehole                Electrical Pump          375.0   \n",
       "4                    Borehole                        Gravity            2.0   \n",
       "5                    Borehole                      Hand Pump          308.0   \n",
       "6                    Borehole           India Mark MK IMK II           79.0   \n",
       "7                    Borehole                    __MISSING__          632.0   \n",
       "8                    Borehole                       no match           71.0   \n",
       "9               Lake Pond Dam                         Bucket            1.0   \n",
       "10              Lake Pond Dam                        Gravity            3.0   \n",
       "11              Lake Pond Dam                      Hand Pump           15.0   \n",
       "12              Lake Pond Dam                    __MISSING__           31.0   \n",
       "13              Lake Pond Dam                       no match           11.0   \n",
       "14                      Piped                Electrical Pump           64.0   \n",
       "15                      Piped                        Gravity           24.0   \n",
       "16                      Piped                      Hand Pump           10.0   \n",
       "17                      Piped                    __MISSING__            1.0   \n",
       "18                      Piped                            tap            2.0   \n",
       "19             Rain Rainwater                        Afridev            9.0   \n",
       "20             Rain Rainwater                         Bucket            6.0   \n",
       "21             Rain Rainwater                        Gravity          160.0   \n",
       "22             Rain Rainwater                      Hand Pump           55.0   \n",
       "23             Rain Rainwater                           Tank            2.0   \n",
       "24             Rain Rainwater                    __MISSING__           71.0   \n",
       "25             Rain Rainwater                       no match            6.0   \n",
       "26             Rain Rainwater                            tap           65.0   \n",
       "27                       Sand                        Afridev            3.0   \n",
       "28                       Sand                Electrical Pump            7.0   \n",
       "29                       Sand                        Gravity           22.0   \n",
       "..                        ...                            ...            ...   \n",
       "52                       Well                        Afridev          673.0   \n",
       "53                       Well                         Bucket           22.0   \n",
       "54                       Well                      Bush Pump            5.0   \n",
       "55                       Well                Electrical Pump           21.0   \n",
       "56                       Well                        Gravity            9.0   \n",
       "57                       Well                      Hand Pump          411.0   \n",
       "58                       Well           India Mark MK IMK II            0.0   \n",
       "59                       Well                           Well            1.0   \n",
       "60                       Well                    __MISSING__         2172.0   \n",
       "61                       Well                       no match            1.0   \n",
       "62        __MISSING__ Unknown                       Borehole          151.0   \n",
       "63        __MISSING__ Unknown                        Gravity           34.0   \n",
       "64        __MISSING__ Unknown                      Hand Pump           81.0   \n",
       "65        __MISSING__ Unknown                  Lake Pond Dam            1.0   \n",
       "66        __MISSING__ Unknown                 Rain Rainwater            1.0   \n",
       "67        __MISSING__ Unknown  Spring River Stream Protected           36.0   \n",
       "68        __MISSING__ Unknown           Standpipe Stand Post           11.0   \n",
       "69        __MISSING__ Unknown                           Tank           43.0   \n",
       "70        __MISSING__ Unknown                           Well           32.0   \n",
       "71        __MISSING__ Unknown                    __MISSING__         6463.0   \n",
       "72        __MISSING__ Unknown         municipal water supply            2.0   \n",
       "73        __MISSING__ Unknown                       no match           52.0   \n",
       "74     municipal water supply                    __MISSING__           17.0   \n",
       "75                   no match                        Afridev            5.0   \n",
       "76                   no match                         Bucket           14.0   \n",
       "77                   no match                        Gravity           55.0   \n",
       "78                   no match                      Hand Pump          154.0   \n",
       "79                   no match                    __MISSING__          593.0   \n",
       "80                   no match                       no match            5.0   \n",
       "81                   no match                            tap            2.0   \n",
       "\n",
       "index  # not functioning  percentage_broken  \n",
       "0                   76.0              14.70  \n",
       "1                    1.0             100.00  \n",
       "2                   17.0              28.33  \n",
       "3                   23.0               5.78  \n",
       "4                    0.0               0.00  \n",
       "5                   87.0              22.03  \n",
       "6                   10.0              11.24  \n",
       "7                   61.0               8.80  \n",
       "8                    8.0              10.13  \n",
       "9                    1.0              50.00  \n",
       "10                   1.0              25.00  \n",
       "11                   2.0              11.76  \n",
       "12                   8.0              20.51  \n",
       "13                   2.0              15.38  \n",
       "14                   6.0               8.57  \n",
       "15                   0.0               0.00  \n",
       "16                   0.0               0.00  \n",
       "17                   0.0               0.00  \n",
       "18                   0.0               0.00  \n",
       "19                   0.0               0.00  \n",
       "20                   0.0               0.00  \n",
       "21                  27.0              14.44  \n",
       "22                   7.0              11.29  \n",
       "23                   0.0               0.00  \n",
       "24                   9.0              11.25  \n",
       "25                   3.0              33.33  \n",
       "26                   6.0               8.45  \n",
       "27                   0.0               0.00  \n",
       "28                   0.0               0.00  \n",
       "29                   5.0              18.52  \n",
       "..                   ...                ...  \n",
       "52                 111.0              14.16  \n",
       "53                   0.0               0.00  \n",
       "54                   6.0              54.55  \n",
       "55                   1.0               4.55  \n",
       "56                   1.0              10.00  \n",
       "57                  85.0              17.14  \n",
       "58                   3.0             100.00  \n",
       "59                   0.0               0.00  \n",
       "60                  94.0               4.15  \n",
       "61                   2.0              66.67  \n",
       "62                  81.0              34.91  \n",
       "63                   3.0               8.11  \n",
       "64                  29.0              26.36  \n",
       "65                   0.0               0.00  \n",
       "66                   0.0               0.00  \n",
       "67                   5.0              12.20  \n",
       "68                   2.0              15.38  \n",
       "69                   0.0               0.00  \n",
       "70                   7.0              17.95  \n",
       "71                1752.0              21.33  \n",
       "72                   0.0               0.00  \n",
       "73                  44.0              45.83  \n",
       "74                   0.0               0.00  \n",
       "75                   0.0               0.00  \n",
       "76                   0.0               0.00  \n",
       "77                  18.0              24.66  \n",
       "78                  52.0              25.24  \n",
       "79                  85.0              12.54  \n",
       "80                   2.0              28.57  \n",
       "81                   0.0               0.00  \n",
       "\n",
       "[82 rows x 5 columns]"
      ]
     },
     "execution_count": 24,
     "metadata": {},
     "output_type": "execute_result"
    }
   ],
   "source": [
    "gp = sl.groupby(['fuzzy_water_source', 'fuzzy_water_tech', 'status_binary']).size().unstack()\n",
    "gp['percentage_broken'] = round(gp[1]/gp.sum(axis=1)*100,2)\n",
    "gp.reset_index(inplace=True)\n",
    "gp.rename(columns={0:'# functioning', 1:'# not functioning'},index={'status_binary':'index'},  inplace=True)\n",
    "gp.rename_axis('index', axis='columns').fillna(0)"
   ]
  },
  {
   "cell_type": "markdown",
   "metadata": {
    "collapsed": true
   },
   "source": [
    "# Ensure that if a waterpoint was ever bad in the past, it will always be bad in the future"
   ]
  },
  {
   "cell_type": "code",
   "execution_count": 25,
   "metadata": {
    "collapsed": true
   },
   "outputs": [],
   "source": [
    "def append_outyear_predictions(original_df, threshold, today_predprob, one_year_predprob, three_year_predprob, five_year_predprob):\n",
    "    sl = original_df.copy()\n",
    "    #ensures if a well was ever bad, it is bad in the future\n",
    "    sl['today_preds']=np.where(sl.status_binary==1,1,np.where(today_predprob[:,1]>threshold,1,0))\n",
    "    sl['today_predprob']= today_predprob[:,1]\n",
    "    sl['one_year_preds'] = np.where(np.max(sl[['status_binary','today_preds']], axis = 1)>0,\n",
    "                                    1,np.where(one_year_predprob[:,1]>threshold,1,0))\n",
    "    sl['one_year_predprob'] = one_year_predprob[:,1]\n",
    "    sl['three_year_preds'] = np.where(np.max(sl[['status_binary','today_preds', 'one_year_preds']], axis = 1)>0,1,\n",
    "                                      np.where(three_year_predprob[:,1]>threshold,1,0))\n",
    "    sl['three_year_predprob']= three_year_predprob[:,1]\n",
    "    sl['five_year_preds']=np.where(np.max(sl[['status_binary','today_preds', 'one_year_preds', 'three_year_preds']], axis = 1)>0,\n",
    "                                   1,np.where(five_year_predprob[:,1]>threshold,1,0))\n",
    "    sl['five_year_predprob'] =five_year_predprob[:,1]\n",
    "    \n",
    "    \n",
    "    return sl"
   ]
  },
  {
   "cell_type": "code",
   "execution_count": 26,
   "metadata": {
    "collapsed": true
   },
   "outputs": [],
   "source": [
    "kenya = df.loc[df.country_name=='Kenya']\n",
    "kenya = kenya[pd.notnull(kenya['status_binary'])]"
   ]
  },
  {
   "cell_type": "code",
   "execution_count": 84,
   "metadata": {
    "collapsed": true
   },
   "outputs": [],
   "source": [
    "coerced = append_outyear_predictions(kenya, 0.25, today_predprob, one_year_predprob, three_year_predprob, five_year_predprob)"
   ]
  },
  {
   "cell_type": "code",
   "execution_count": 27,
   "metadata": {
    "collapsed": true
   },
   "outputs": [],
   "source": [
    "coerced2 = append_outyear_predictions(kenya, 0.25, today_predprob, one_year_predprob, three_year_predprob, five_year_predprob)"
   ]
  },
  {
   "cell_type": "code",
   "execution_count": 85,
   "metadata": {},
   "outputs": [
    {
     "data": {
      "text/html": [
       "<div>\n",
       "<style scoped>\n",
       "    .dataframe tbody tr th:only-of-type {\n",
       "        vertical-align: middle;\n",
       "    }\n",
       "\n",
       "    .dataframe tbody tr th {\n",
       "        vertical-align: top;\n",
       "    }\n",
       "\n",
       "    .dataframe thead th {\n",
       "        text-align: right;\n",
       "    }\n",
       "</style>\n",
       "<table border=\"1\" class=\"dataframe\">\n",
       "  <thead>\n",
       "    <tr style=\"text-align: right;\">\n",
       "      <th></th>\n",
       "      <th>status_binary</th>\n",
       "      <th>today_preds</th>\n",
       "      <th>one_year_preds</th>\n",
       "      <th>three_year_preds</th>\n",
       "      <th>five_year_preds</th>\n",
       "    </tr>\n",
       "  </thead>\n",
       "  <tbody>\n",
       "    <tr>\n",
       "      <th>count</th>\n",
       "      <td>21108.000000</td>\n",
       "      <td>21108.000000</td>\n",
       "      <td>21108.000000</td>\n",
       "      <td>21108.000000</td>\n",
       "      <td>21108.000000</td>\n",
       "    </tr>\n",
       "    <tr>\n",
       "      <th>mean</th>\n",
       "      <td>0.136725</td>\n",
       "      <td>0.220343</td>\n",
       "      <td>0.258006</td>\n",
       "      <td>0.280226</td>\n",
       "      <td>0.288943</td>\n",
       "    </tr>\n",
       "    <tr>\n",
       "      <th>std</th>\n",
       "      <td>0.343565</td>\n",
       "      <td>0.414488</td>\n",
       "      <td>0.437548</td>\n",
       "      <td>0.449120</td>\n",
       "      <td>0.453282</td>\n",
       "    </tr>\n",
       "    <tr>\n",
       "      <th>min</th>\n",
       "      <td>0.000000</td>\n",
       "      <td>0.000000</td>\n",
       "      <td>0.000000</td>\n",
       "      <td>0.000000</td>\n",
       "      <td>0.000000</td>\n",
       "    </tr>\n",
       "    <tr>\n",
       "      <th>25%</th>\n",
       "      <td>0.000000</td>\n",
       "      <td>0.000000</td>\n",
       "      <td>0.000000</td>\n",
       "      <td>0.000000</td>\n",
       "      <td>0.000000</td>\n",
       "    </tr>\n",
       "    <tr>\n",
       "      <th>50%</th>\n",
       "      <td>0.000000</td>\n",
       "      <td>0.000000</td>\n",
       "      <td>0.000000</td>\n",
       "      <td>0.000000</td>\n",
       "      <td>0.000000</td>\n",
       "    </tr>\n",
       "    <tr>\n",
       "      <th>75%</th>\n",
       "      <td>0.000000</td>\n",
       "      <td>0.000000</td>\n",
       "      <td>1.000000</td>\n",
       "      <td>1.000000</td>\n",
       "      <td>1.000000</td>\n",
       "    </tr>\n",
       "    <tr>\n",
       "      <th>max</th>\n",
       "      <td>1.000000</td>\n",
       "      <td>1.000000</td>\n",
       "      <td>1.000000</td>\n",
       "      <td>1.000000</td>\n",
       "      <td>1.000000</td>\n",
       "    </tr>\n",
       "  </tbody>\n",
       "</table>\n",
       "</div>"
      ],
      "text/plain": [
       "       status_binary   today_preds  one_year_preds  three_year_preds  \\\n",
       "count   21108.000000  21108.000000    21108.000000      21108.000000   \n",
       "mean        0.136725      0.220343        0.258006          0.280226   \n",
       "std         0.343565      0.414488        0.437548          0.449120   \n",
       "min         0.000000      0.000000        0.000000          0.000000   \n",
       "25%         0.000000      0.000000        0.000000          0.000000   \n",
       "50%         0.000000      0.000000        0.000000          0.000000   \n",
       "75%         0.000000      0.000000        1.000000          1.000000   \n",
       "max         1.000000      1.000000        1.000000          1.000000   \n",
       "\n",
       "       five_year_preds  \n",
       "count     21108.000000  \n",
       "mean          0.288943  \n",
       "std           0.453282  \n",
       "min           0.000000  \n",
       "25%           0.000000  \n",
       "50%           0.000000  \n",
       "75%           1.000000  \n",
       "max           1.000000  "
      ]
     },
     "execution_count": 85,
     "metadata": {},
     "output_type": "execute_result"
    }
   ],
   "source": [
    "#old results\n",
    "\n",
    "coerced[['status_binary','today_preds','one_year_preds','three_year_preds', 'five_year_preds']].describe()"
   ]
  },
  {
   "cell_type": "code",
   "execution_count": 28,
   "metadata": {},
   "outputs": [
    {
     "data": {
      "text/html": [
       "<div>\n",
       "<style scoped>\n",
       "    .dataframe tbody tr th:only-of-type {\n",
       "        vertical-align: middle;\n",
       "    }\n",
       "\n",
       "    .dataframe tbody tr th {\n",
       "        vertical-align: top;\n",
       "    }\n",
       "\n",
       "    .dataframe thead th {\n",
       "        text-align: right;\n",
       "    }\n",
       "</style>\n",
       "<table border=\"1\" class=\"dataframe\">\n",
       "  <thead>\n",
       "    <tr style=\"text-align: right;\">\n",
       "      <th></th>\n",
       "      <th>status_binary</th>\n",
       "      <th>today_preds</th>\n",
       "      <th>one_year_preds</th>\n",
       "      <th>three_year_preds</th>\n",
       "      <th>five_year_preds</th>\n",
       "    </tr>\n",
       "  </thead>\n",
       "  <tbody>\n",
       "    <tr>\n",
       "      <th>count</th>\n",
       "      <td>21108.000000</td>\n",
       "      <td>21108.000000</td>\n",
       "      <td>21108.000000</td>\n",
       "      <td>21108.000000</td>\n",
       "      <td>21108.000000</td>\n",
       "    </tr>\n",
       "    <tr>\n",
       "      <th>mean</th>\n",
       "      <td>0.136725</td>\n",
       "      <td>0.220343</td>\n",
       "      <td>0.220769</td>\n",
       "      <td>0.221527</td>\n",
       "      <td>0.221859</td>\n",
       "    </tr>\n",
       "    <tr>\n",
       "      <th>std</th>\n",
       "      <td>0.343565</td>\n",
       "      <td>0.414488</td>\n",
       "      <td>0.414775</td>\n",
       "      <td>0.415284</td>\n",
       "      <td>0.415507</td>\n",
       "    </tr>\n",
       "    <tr>\n",
       "      <th>min</th>\n",
       "      <td>0.000000</td>\n",
       "      <td>0.000000</td>\n",
       "      <td>0.000000</td>\n",
       "      <td>0.000000</td>\n",
       "      <td>0.000000</td>\n",
       "    </tr>\n",
       "    <tr>\n",
       "      <th>25%</th>\n",
       "      <td>0.000000</td>\n",
       "      <td>0.000000</td>\n",
       "      <td>0.000000</td>\n",
       "      <td>0.000000</td>\n",
       "      <td>0.000000</td>\n",
       "    </tr>\n",
       "    <tr>\n",
       "      <th>50%</th>\n",
       "      <td>0.000000</td>\n",
       "      <td>0.000000</td>\n",
       "      <td>0.000000</td>\n",
       "      <td>0.000000</td>\n",
       "      <td>0.000000</td>\n",
       "    </tr>\n",
       "    <tr>\n",
       "      <th>75%</th>\n",
       "      <td>0.000000</td>\n",
       "      <td>0.000000</td>\n",
       "      <td>0.000000</td>\n",
       "      <td>0.000000</td>\n",
       "      <td>0.000000</td>\n",
       "    </tr>\n",
       "    <tr>\n",
       "      <th>max</th>\n",
       "      <td>1.000000</td>\n",
       "      <td>1.000000</td>\n",
       "      <td>1.000000</td>\n",
       "      <td>1.000000</td>\n",
       "      <td>1.000000</td>\n",
       "    </tr>\n",
       "  </tbody>\n",
       "</table>\n",
       "</div>"
      ],
      "text/plain": [
       "       status_binary   today_preds  one_year_preds  three_year_preds  \\\n",
       "count   21108.000000  21108.000000    21108.000000      21108.000000   \n",
       "mean        0.136725      0.220343        0.220769          0.221527   \n",
       "std         0.343565      0.414488        0.414775          0.415284   \n",
       "min         0.000000      0.000000        0.000000          0.000000   \n",
       "25%         0.000000      0.000000        0.000000          0.000000   \n",
       "50%         0.000000      0.000000        0.000000          0.000000   \n",
       "75%         0.000000      0.000000        0.000000          0.000000   \n",
       "max         1.000000      1.000000        1.000000          1.000000   \n",
       "\n",
       "       five_year_preds  \n",
       "count     21108.000000  \n",
       "mean          0.221859  \n",
       "std           0.415507  \n",
       "min           0.000000  \n",
       "25%           0.000000  \n",
       "50%           0.000000  \n",
       "75%           0.000000  \n",
       "max           1.000000  "
      ]
     },
     "execution_count": 28,
     "metadata": {},
     "output_type": "execute_result"
    }
   ],
   "source": [
    "#new results after adjusting time to measure\n",
    "coerced2[['status_binary','today_preds','one_year_preds','three_year_preds', 'five_year_preds']].describe()"
   ]
  },
  {
   "cell_type": "code",
   "execution_count": 86,
   "metadata": {
    "collapsed": true
   },
   "outputs": [],
   "source": [
    "coerced.to_csv('Kenya_w_outyear_predictions_coerced.csv')"
   ]
  },
  {
   "cell_type": "code",
   "execution_count": 30,
   "metadata": {
    "collapsed": true
   },
   "outputs": [],
   "source": [
    "coerced2.to_csv('Kenya_w_outyear_predictions_coerced_correct_time2.csv')"
   ]
  },
  {
   "cell_type": "code",
   "execution_count": 34,
   "metadata": {},
   "outputs": [
    {
     "data": {
      "text/plain": [
       "count           21108\n",
       "unique             38\n",
       "top       __MISSING__\n",
       "freq            20830\n",
       "Name: installer, dtype: object"
      ]
     },
     "execution_count": 34,
     "metadata": {},
     "output_type": "execute_result"
    }
   ],
   "source": [
    "coerced2.installer.describe()"
   ]
  },
  {
   "cell_type": "code",
   "execution_count": null,
   "metadata": {
    "collapsed": true
   },
   "outputs": [],
   "source": []
  }
 ],
 "metadata": {
  "kernelspec": {
   "display_name": "Python 3",
   "language": "python",
   "name": "python3"
  },
  "language_info": {
   "codemirror_mode": {
    "name": "ipython",
    "version": 3
   },
   "file_extension": ".py",
   "mimetype": "text/x-python",
   "name": "python",
   "nbconvert_exporter": "python",
   "pygments_lexer": "ipython3",
   "version": "3.6.1"
  }
 },
 "nbformat": 4,
 "nbformat_minor": 2
}
