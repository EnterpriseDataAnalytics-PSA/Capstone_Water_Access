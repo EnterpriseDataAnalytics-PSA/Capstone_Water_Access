{
 "cells": [
  {
   "cell_type": "code",
   "execution_count": 2,
   "metadata": {
    "collapsed": true
   },
   "outputs": [],
   "source": [
    "import pandas as pd\n",
    "import xgboost as xgb\n",
    "from xgboost import XGBClassifier\n",
    "import numpy as np\n",
    "import sklearn as sk\n",
    "import datetime as dt\n",
    "from sklearn import model_selection\n",
    "from sklearn.preprocessing import LabelEncoder\n",
    "from sklearn import metrics\n",
    "from sklearn import ensemble\n",
    "from sklearn.metrics import confusion_matrix, mean_squared_error, auc, accuracy_score, log_loss\n",
    "from sklearn.ensemble.partial_dependence import plot_partial_dependence\n",
    "import os\n",
    "#import graphviz\n",
    "import matplotlib.pyplot as plt\n",
    "import pickle\n",
    "import timeit"
   ]
  },
  {
   "cell_type": "code",
   "execution_count": 3,
   "metadata": {
    "collapsed": true
   },
   "outputs": [],
   "source": [
    "%matplotlib inline\n",
    "# suppress warnings\n",
    "import warnings\n",
    "warnings.filterwarnings('ignore')\n",
    "\n",
    "#set display options\n",
    "pd.set_option('max_columns', 150)\n",
    "pd.set_option('max_rows', 110)"
   ]
  },
  {
   "cell_type": "code",
   "execution_count": 4,
   "metadata": {
    "collapsed": true
   },
   "outputs": [],
   "source": [
    "#set input/output paths\n",
    "#can eventually set this to the SOAPY API https://dev.socrata.com/foundry/data.waterpointdata.org/gihr-buz6\n",
    "DATA_PATH = \"~chandler.mccann/Downloads/\"\n",
    "#DATA_PATH = \"/Users/chandlermccann/Google Drive/Google Drive/Berkeley MIDS 2016/W210-Capstone_WaterProject\"\n",
    "INPUT_FILE = os.path.join(DATA_PATH, \"cleaned_water_data2.csv\") #after running prep_water_data.py\n"
   ]
  },
  {
   "cell_type": "code",
   "execution_count": 5,
   "metadata": {
    "collapsed": true
   },
   "outputs": [],
   "source": [
    "df = pd.read_csv(INPUT_FILE)"
   ]
  },
  {
   "cell_type": "code",
   "execution_count": 5,
   "metadata": {
    "collapsed": true
   },
   "outputs": [],
   "source": [
    "#create a min and a max date\n",
    "df['mindate'] = df.groupby('wpdx_id')[\"new_report_date\"].transform('min')\n",
    "df['maxdate'] = df.groupby('wpdx_id')[\"new_report_date\"].transform('max')"
   ]
  },
  {
   "cell_type": "code",
   "execution_count": 6,
   "metadata": {},
   "outputs": [
    {
     "data": {
      "text/plain": [
       "country_name\n",
       "Uganda                             4985\n",
       "Afghanistan                        3435\n",
       "Sierra Leone                       2893\n",
       "Liberia                            1027\n",
       "Malawi                              771\n",
       "Zimbabwe                            665\n",
       "South Sudan                         274\n",
       "Bolivia, Plurinational State of     262\n",
       "Kenya                               200\n",
       "Nigeria                             112\n",
       "India                                74\n",
       "Peru                                 17\n",
       "Guatemala                            17\n",
       "Nicaragua                            12\n",
       "Tanzania, United Republic of         10\n",
       "Burkina Faso                         10\n",
       "Rwanda                                8\n",
       "Honduras                              4\n",
       "CÌ«te d'Ivoire                        4\n",
       "Swaziland                             1\n",
       "dtype: int64"
      ]
     },
     "execution_count": 6,
     "metadata": {},
     "output_type": "execute_result"
    }
   ],
   "source": [
    "df[df.mindate!= df.maxdate].groupby(df.country_name).size().sort_values(ascending=False)"
   ]
  },
  {
   "cell_type": "code",
   "execution_count": 6,
   "metadata": {
    "collapsed": true
   },
   "outputs": [],
   "source": [
    "sl = df.loc[df.country_name=='Afghanistan']"
   ]
  },
  {
   "cell_type": "code",
   "execution_count": 8,
   "metadata": {},
   "outputs": [
    {
     "data": {
      "text/plain": [
       "country_name\n",
       "Afghanistan    3435\n",
       "dtype: int64"
      ]
     },
     "execution_count": 8,
     "metadata": {},
     "output_type": "execute_result"
    }
   ],
   "source": [
    "sl[sl.mindate!= sl.maxdate].groupby(sl.country_name).size().sort_values(ascending=False)"
   ]
  },
  {
   "cell_type": "code",
   "execution_count": 28,
   "metadata": {},
   "outputs": [
    {
     "data": {
      "text/plain": [
       "(59849, 42)"
      ]
     },
     "execution_count": 28,
     "metadata": {},
     "output_type": "execute_result"
    }
   ],
   "source": [
    "sl.shape"
   ]
  },
  {
   "cell_type": "code",
   "execution_count": 32,
   "metadata": {},
   "outputs": [
    {
     "name": "stdout",
     "output_type": "stream",
     "text": [
      "3456\n"
     ]
    }
   ],
   "source": [
    "59849 - 58121\n",
    "print(1728*2)"
   ]
  },
  {
   "cell_type": "code",
   "execution_count": 30,
   "metadata": {},
   "outputs": [
    {
     "data": {
      "text/plain": [
       "(58121, 42)"
      ]
     },
     "execution_count": 30,
     "metadata": {},
     "output_type": "execute_result"
    }
   ],
   "source": [
    "sl[sl.new_report_date == sl.maxdate].shape"
   ]
  },
  {
   "cell_type": "code",
   "execution_count": 16,
   "metadata": {},
   "outputs": [
    {
     "data": {
      "text/html": [
       "<div>\n",
       "<style scoped>\n",
       "    .dataframe tbody tr th:only-of-type {\n",
       "        vertical-align: middle;\n",
       "    }\n",
       "\n",
       "    .dataframe tbody tr th {\n",
       "        vertical-align: top;\n",
       "    }\n",
       "\n",
       "    .dataframe thead th {\n",
       "        text-align: right;\n",
       "    }\n",
       "</style>\n",
       "<table border=\"1\" class=\"dataframe\">\n",
       "  <thead>\n",
       "    <tr style=\"text-align: right;\">\n",
       "      <th></th>\n",
       "      <th>country_name</th>\n",
       "      <th>water_source</th>\n",
       "      <th>water_tech</th>\n",
       "      <th>status_id</th>\n",
       "      <th>status_0_yes</th>\n",
       "      <th>management</th>\n",
       "      <th>pay</th>\n",
       "      <th>installer</th>\n",
       "      <th>install_year</th>\n",
       "      <th>status</th>\n",
       "      <th>source</th>\n",
       "      <th>adm1</th>\n",
       "      <th>adm2</th>\n",
       "      <th>wpdx_id</th>\n",
       "      <th>report_date</th>\n",
       "      <th>country_id</th>\n",
       "      <th>activity_id</th>\n",
       "      <th>data_lnk</th>\n",
       "      <th>orig_lnk</th>\n",
       "      <th>photo_lnk</th>\n",
       "      <th>converted</th>\n",
       "      <th>created</th>\n",
       "      <th>updated</th>\n",
       "      <th>lat_deg</th>\n",
       "      <th>lon_deg</th>\n",
       "      <th>Location</th>\n",
       "      <th>Count</th>\n",
       "      <th>fecal_coliform_presence</th>\n",
       "      <th>fecal_coliform_value</th>\n",
       "      <th>subjective_quality</th>\n",
       "      <th>new_report_date</th>\n",
       "      <th>new_install_year</th>\n",
       "      <th>age_well</th>\n",
       "      <th>age_well_days</th>\n",
       "      <th>status_binary</th>\n",
       "      <th>time_since_measurement</th>\n",
       "      <th>time_since_meas_years</th>\n",
       "      <th>age_well_years</th>\n",
       "      <th>fuzzy_water_source</th>\n",
       "      <th>fuzzy_water_tech</th>\n",
       "    </tr>\n",
       "  </thead>\n",
       "  <tbody>\n",
       "    <tr>\n",
       "      <th>88343</th>\n",
       "      <td>Afghanistan</td>\n",
       "      <td>Dug Well</td>\n",
       "      <td>__MISSING__</td>\n",
       "      <td>no</td>\n",
       "      <td>1.0</td>\n",
       "      <td>__MISSING__</td>\n",
       "      <td>__MISSING__</td>\n",
       "      <td>DACAAR</td>\n",
       "      <td>1998.0</td>\n",
       "      <td>Water Point Collapsed/ Destroyed|</td>\n",
       "      <td>DACAAR</td>\n",
       "      <td>Kabul</td>\n",
       "      <td>Bagrami</td>\n",
       "      <td>wpdx-00134469</td>\n",
       "      <td>03/02/2014 12:00:00 AM +0000</td>\n",
       "      <td>AF</td>\n",
       "      <td>2934</td>\n",
       "      <td>http://www.dropbox.com/s/9abftmvtim47cso/DACAA...</td>\n",
       "      <td>__MISSING__</td>\n",
       "      <td>__MISSING__</td>\n",
       "      <td>#status_id, #status, #data_lnk</td>\n",
       "      <td>10/26/2015 11:00:19 PM +0000</td>\n",
       "      <td>10/26/2015 11:00:19 PM +0000</td>\n",
       "      <td>34.5355</td>\n",
       "      <td>69.272</td>\n",
       "      <td>(34.5355, 69.272)</td>\n",
       "      <td>1.0</td>\n",
       "      <td>NaN</td>\n",
       "      <td>NaN</td>\n",
       "      <td>NaN</td>\n",
       "      <td>2014-03-02</td>\n",
       "      <td>1998-01-01 00:00:00</td>\n",
       "      <td>5904 days 00:00:00.000000000</td>\n",
       "      <td>5904.0</td>\n",
       "      <td>1.0</td>\n",
       "      <td>1467 days 00:00:00.000000000</td>\n",
       "      <td>4.0</td>\n",
       "      <td>16.2</td>\n",
       "      <td>Well</td>\n",
       "      <td>__MISSING__</td>\n",
       "    </tr>\n",
       "    <tr>\n",
       "      <th>127507</th>\n",
       "      <td>Afghanistan</td>\n",
       "      <td>__MISSING__</td>\n",
       "      <td>DUG WELL</td>\n",
       "      <td>unknown</td>\n",
       "      <td>1.0</td>\n",
       "      <td>__MISSING__</td>\n",
       "      <td>__MISSING__</td>\n",
       "      <td>DACAAR</td>\n",
       "      <td>1998.0</td>\n",
       "      <td>LOST</td>\n",
       "      <td>DACAAR</td>\n",
       "      <td>Kabul</td>\n",
       "      <td>Bagrami</td>\n",
       "      <td>wpdx-00134469</td>\n",
       "      <td>01/31/2013 12:00:00 AM +0000</td>\n",
       "      <td>AF</td>\n",
       "      <td>__MISSING__</td>\n",
       "      <td>http://www.dropbox.com/s/ju2doouu4f4yzod/DACAA...</td>\n",
       "      <td>__MISSING__</td>\n",
       "      <td>__MISSING__</td>\n",
       "      <td>#status_id, #source, #country_id, #data_lnk</td>\n",
       "      <td>10/27/2015 12:46:21 AM +0000</td>\n",
       "      <td>10/27/2015 12:46:21 AM +0000</td>\n",
       "      <td>34.5355</td>\n",
       "      <td>69.272</td>\n",
       "      <td>(34.5355, 69.272)</td>\n",
       "      <td>1.0</td>\n",
       "      <td>NaN</td>\n",
       "      <td>NaN</td>\n",
       "      <td>NaN</td>\n",
       "      <td>2013-01-31</td>\n",
       "      <td>1998-01-01 00:00:00</td>\n",
       "      <td>5509 days 00:00:00.000000000</td>\n",
       "      <td>5509.0</td>\n",
       "      <td>1.0</td>\n",
       "      <td>1862 days 00:00:00.000000000</td>\n",
       "      <td>5.1</td>\n",
       "      <td>15.1</td>\n",
       "      <td>__MISSING__ Unknown</td>\n",
       "      <td>Well</td>\n",
       "    </tr>\n",
       "  </tbody>\n",
       "</table>\n",
       "</div>"
      ],
      "text/plain": [
       "       country_name water_source   water_tech status_id  status_0_yes  \\\n",
       "88343   Afghanistan     Dug Well  __MISSING__        no           1.0   \n",
       "127507  Afghanistan  __MISSING__     DUG WELL   unknown           1.0   \n",
       "\n",
       "         management          pay installer install_year  \\\n",
       "88343   __MISSING__  __MISSING__    DACAAR       1998.0   \n",
       "127507  __MISSING__  __MISSING__    DACAAR       1998.0   \n",
       "\n",
       "                                   status  source   adm1     adm2  \\\n",
       "88343   Water Point Collapsed/ Destroyed|  DACAAR  Kabul  Bagrami   \n",
       "127507                               LOST  DACAAR  Kabul  Bagrami   \n",
       "\n",
       "              wpdx_id                   report_date country_id  activity_id  \\\n",
       "88343   wpdx-00134469  03/02/2014 12:00:00 AM +0000         AF         2934   \n",
       "127507  wpdx-00134469  01/31/2013 12:00:00 AM +0000         AF  __MISSING__   \n",
       "\n",
       "                                                 data_lnk     orig_lnk  \\\n",
       "88343   http://www.dropbox.com/s/9abftmvtim47cso/DACAA...  __MISSING__   \n",
       "127507  http://www.dropbox.com/s/ju2doouu4f4yzod/DACAA...  __MISSING__   \n",
       "\n",
       "          photo_lnk                                    converted  \\\n",
       "88343   __MISSING__               #status_id, #status, #data_lnk   \n",
       "127507  __MISSING__  #status_id, #source, #country_id, #data_lnk   \n",
       "\n",
       "                             created                       updated  lat_deg  \\\n",
       "88343   10/26/2015 11:00:19 PM +0000  10/26/2015 11:00:19 PM +0000  34.5355   \n",
       "127507  10/27/2015 12:46:21 AM +0000  10/27/2015 12:46:21 AM +0000  34.5355   \n",
       "\n",
       "        lon_deg           Location  Count  fecal_coliform_presence  \\\n",
       "88343    69.272  (34.5355, 69.272)    1.0                      NaN   \n",
       "127507   69.272  (34.5355, 69.272)    1.0                      NaN   \n",
       "\n",
       "        fecal_coliform_value  subjective_quality new_report_date  \\\n",
       "88343                    NaN                 NaN      2014-03-02   \n",
       "127507                   NaN                 NaN      2013-01-31   \n",
       "\n",
       "           new_install_year                      age_well  age_well_days  \\\n",
       "88343   1998-01-01 00:00:00  5904 days 00:00:00.000000000         5904.0   \n",
       "127507  1998-01-01 00:00:00  5509 days 00:00:00.000000000         5509.0   \n",
       "\n",
       "        status_binary        time_since_measurement  time_since_meas_years  \\\n",
       "88343             1.0  1467 days 00:00:00.000000000                    4.0   \n",
       "127507            1.0  1862 days 00:00:00.000000000                    5.1   \n",
       "\n",
       "        age_well_years   fuzzy_water_source fuzzy_water_tech  \n",
       "88343             16.2                 Well      __MISSING__  \n",
       "127507            15.1  __MISSING__ Unknown             Well  "
      ]
     },
     "execution_count": 16,
     "metadata": {},
     "output_type": "execute_result"
    }
   ],
   "source": [
    "sl[sl.wpdx_id == 'wpdx-00134469']"
   ]
  },
  {
   "cell_type": "code",
   "execution_count": 7,
   "metadata": {
    "collapsed": true
   },
   "outputs": [],
   "source": [
    "features = ['water_source', 'water_tech', 'management',\n",
    "       'source', 'adm1', 'adm2', 'pay', 'lat_deg', 'lon_deg',\n",
    "       'new_install_year', 'age_well_years','time_since_meas_years', 'fuzzy_water_source',\n",
    "        'fuzzy_water_tech','status_binary']"
   ]
  },
  {
   "cell_type": "markdown",
   "metadata": {},
   "source": [
    "# Modeling"
   ]
  },
  {
   "cell_type": "code",
   "execution_count": 8,
   "metadata": {
    "collapsed": true
   },
   "outputs": [],
   "source": [
    "#start_time = timeit.default_timer()\n",
    "\n",
    "pred_cols = features\n",
    "\n",
    "#create a copy of the dataframe to label encode\n",
    "df2 = sl.copy()\n",
    "df2=df2[pred_cols]"
   ]
  },
  {
   "cell_type": "code",
   "execution_count": 9,
   "metadata": {},
   "outputs": [
    {
     "data": {
      "text/plain": [
       "0"
      ]
     },
     "execution_count": 9,
     "metadata": {},
     "output_type": "execute_result"
    }
   ],
   "source": [
    "#we can't have any null target values\n",
    "len(df2[df2.status_binary.isna()==True])\n"
   ]
  },
  {
   "cell_type": "code",
   "execution_count": 10,
   "metadata": {
    "collapsed": true
   },
   "outputs": [],
   "source": [
    "#eliminate null target values\n",
    "df2 = df2[pd.notnull(df['status_binary'])]"
   ]
  },
  {
   "cell_type": "code",
   "execution_count": 11,
   "metadata": {},
   "outputs": [
    {
     "data": {
      "text/plain": [
       "0"
      ]
     },
     "execution_count": 11,
     "metadata": {},
     "output_type": "execute_result"
    }
   ],
   "source": [
    "#check\n",
    "len(df2[df2.status_binary.isna()==True])\n"
   ]
  },
  {
   "cell_type": "code",
   "execution_count": 12,
   "metadata": {
    "collapsed": true
   },
   "outputs": [],
   "source": [
    "X = df2[df2.columns[:-1]] \n",
    "Y= df2.status_binary\n",
    "\n",
    "X2 = X.copy()\n",
    "\n",
    "#convert all fields to int labels for XGBoost\n",
    "lb=LabelEncoder() #instantiate label encoder\n",
    "\n",
    "#create a dict to store our inverse transforms...these allow us to convert back to the original values in our data\n",
    "#from collections import defaultdict\n",
    "#d = defaultdict(LabelEncoder)\n",
    "\n",
    "#adding this line in order to NOT select lat/lon; other int columns for label encoding\n",
    "#TO DO - If we have new data coming in we need to invert it at some point\n",
    "cols = X2.select_dtypes(include=['object']).columns\n",
    "\n",
    "# Encoding each variable\n",
    "for col in cols:\n",
    "    #lb.fit(list(X[col].fillna('___MISSING___').drop_duplicates().values) + ['___MISSING___'])\n",
    "    \n",
    "    #X2[col] = lb.transform(X2[col].fillna('___MISSING___'))\n",
    "    X2[col]= lb.fit_transform(X[col].fillna('__MISSING__'))"
   ]
  },
  {
   "cell_type": "code",
   "execution_count": 13,
   "metadata": {
    "collapsed": true
   },
   "outputs": [],
   "source": [
    "#60/20/20 Train/Test/Holdout Split\n",
    "SEED=7\n",
    "X_train, X_test_and_holdout, y_train, y_test_and_holdout = sk.model_selection.train_test_split(X2, Y,\n",
    "                                                                                        test_size=.4,\n",
    "                                                                                        stratify=Y,\n",
    "                                                                                        random_state=SEED)\n",
    "X_test, X_holdout, y_test, y_holdout = sk.model_selection.train_test_split(X_test_and_holdout,\n",
    "                                                                    y_test_and_holdout,\n",
    "                                                                    test_size=.5, \n",
    "                                                                    stratify= y_test_and_holdout,\n",
    "                                                                    random_state=SEED)"
   ]
  },
  {
   "cell_type": "code",
   "execution_count": 15,
   "metadata": {},
   "outputs": [
    {
     "name": "stdout",
     "output_type": "stream",
     "text": [
      "beggining inner CV...\n"
     ]
    },
    {
     "data": {
      "text/plain": [
       "GridSearchCV(cv=None, error_score='raise',\n",
       "       estimator=XGBClassifier(base_score=0.5, booster='gbtree', colsample_bylevel=1.0,\n",
       "       colsample_bytree=0.5, gamma=0.01, learning_rate=0.1,\n",
       "       max_delta_step=0.0, max_depth=3, min_child_weight=1.0, missing=None,\n",
       "       n_estimators=100, n_jobs=1, nthread=None,\n",
       "       objective='binary:logistic', random_state=0, reg_alpha=0,\n",
       "       reg_lambda=1.0, scale_pos_weight=1, scoring='logloss', seed=None,\n",
       "       silent=True, subsample=1),\n",
       "       fit_params={}, iid=True, n_jobs=1,\n",
       "       param_grid={'learning_rate': [0.05, 0.1], 'max_depth': [3, 5, 7], 'n_estimators': [500, 1000, 2500]},\n",
       "       pre_dispatch='2*n_jobs', refit=True, return_train_score=True,\n",
       "       scoring=None, verbose=0)"
      ]
     },
     "execution_count": 15,
     "metadata": {},
     "output_type": "execute_result"
    }
   ],
   "source": [
    "    ##### Non-Nested Results. Use GridSerach CV on X_Train to find ideal hyper-parameters. Utilize a lot of regularizaiton\n",
    "    #### in XGBoost Settings to generalize better\n",
    "\n",
    "# Set gridsearch\n",
    "print(\"beggining inner CV...\")\n",
    "params = {'learning_rate':[0.05,.1], 'max_depth':[3,5,7], 'n_estimators':[500,1000, 2500]}\n",
    "model_inner = model_selection.GridSearchCV(XGBClassifier(scoring='logloss', reg_alpha=0, reg_lambda=1.0,colsample_bylevel=1.0,\n",
    "                                        colsample_bytree=0.5,gamma=0.01,min_child_weight=1.0, max_delta_step=0.0 ), params)\n",
    "model_inner.fit(X_train, y_train )"
   ]
  },
  {
   "cell_type": "code",
   "execution_count": 18,
   "metadata": {},
   "outputs": [
    {
     "name": "stdout",
     "output_type": "stream",
     "text": [
      "model fit for inner CV for Afghanistan\n",
      "Shape of input params=  (35909, 14)\n",
      "Best searched parameters on inner CV {'learning_rate': 0.1, 'max_depth': 7, 'n_estimators': 500}\n",
      "Best grid score on inner CV 0.799771644992\n",
      "Accuracy for inner nested_cv model : 0.7997\n",
      "AUC Score (test) for inner_nested cv_model: 0.847813\n",
      "beginning\n"
     ]
    },
    {
     "data": {
      "text/plain": [
       "XGBClassifier(base_score=0.5, booster='gbtree', colsample_bylevel=1.0,\n",
       "       colsample_bytree=0.5, gamma=0.01, learning_rate=0.1,\n",
       "       max_delta_step=0.0, max_depth=7, min_child_weight=1.0, missing=None,\n",
       "       n_estimators=500, n_jobs=1, nthread=None,\n",
       "       objective='binary:logistic', random_state=0, reg_alpha=0,\n",
       "       reg_lambda=1.0, scale_pos_weight=1, scoring='logloss', seed=None,\n",
       "       silent=True, subsample=1)"
      ]
     },
     "execution_count": 18,
     "metadata": {},
     "output_type": "execute_result"
    }
   ],
   "source": [
    "print('model fit for inner CV for Afghanistan')\n",
    "print('Shape of input params= ', X_train.shape)\n",
    "print('Best searched parameters on inner CV', model_inner.best_params_)\n",
    "print('Best grid score on inner CV', model_inner.best_score_)\n",
    "\n",
    "\n",
    "\n",
    "#get auc. \n",
    "preds_inner_AUC = model_inner.predict_proba(X_test)[:,1]\n",
    "preds_inner_accuracy = model_inner.predict(X_test)\n",
    "print(\"Accuracy for inner nested_cv model : %.4g\"%metrics.accuracy_score(y_test, preds_inner_accuracy))\n",
    "print(\"AUC Score (test) for inner_nested cv_model: %f\"%metrics.roc_auc_score(y_test, preds_inner_AUC))\n",
    "\n",
    "#store the best settings from our most recent, regularized XGBoost model above\n",
    "#perform early stopping\n",
    "print(\"beginning\")\n",
    "model_outer = model_inner.best_estimator_\n",
    "xgb_param =model_outer.get_xgb_params()\n",
    "xgtrain = xgb.DMatrix(X_train, label=y_train)\n",
    "#start with 2500 trees and early stop \n",
    "#use XGB cross-validation to determine our early stopping parameter\n",
    "cvresult = xgb.cv(xgb_param, xgtrain, num_boost_round=model_outer.get_params()['n_estimators'], nfold=5,\n",
    "            metrics='auc', early_stopping_rounds=200)\n",
    "#set number of trees to where early stopping occurred\n",
    "model_outer.set_params(n_estimators=cvresult.shape[0])\n",
    "\n",
    "\n",
    "#Fit the algorithm on the data\n",
    "model_outer.fit(X_train, y_train,eval_metric='auc')"
   ]
  },
  {
   "cell_type": "code",
   "execution_count": 38,
   "metadata": {},
   "outputs": [
    {
     "name": "stdout",
     "output_type": "stream",
     "text": [
      "\n",
      "Model Report\n",
      "Number of trees determined by early stopping and in final model 500\n",
      "Accuracy for outer nested_cv model on training data: 0.8628\n",
      "AUC Score (Train) for outer nested_cv model: 0.931627\n",
      "AUC Score (Test) for outer nested_cv model: 0.847813\n",
      "AUC Score (Holdout) for outer nested_cv model: 0.844832\n",
      "Accuracy for outer nested_cv model on holdout data: 0.8013\n"
     ]
    }
   ],
   "source": [
    "#Predict training set:\n",
    "dtrain_predictions = model_outer.predict(X_train)\n",
    "dtrain_predprob = model_outer.predict_proba(X_train)[:,1]\n",
    "dtest_predprob = model_outer.predict_proba(X_test)[:,1]\n",
    "\n",
    "#predict on the holdout set\n",
    "dholdout_predprob = model_outer.predict_proba(X_holdout)[:,1]\n",
    "dholdout_predictions = model_outer.predict(X_holdout)\n",
    "\n",
    "#Print model report:\n",
    "print(\"\\nModel Report\")\n",
    "print(\"Number of trees determined by early stopping and in final model\", cvresult.shape[0])\n",
    "print(\"Accuracy for outer nested_cv model on training data: %.4g\" % metrics.accuracy_score(y_train.values, dtrain_predictions))\n",
    "print(\"AUC Score (Train) for outer nested_cv model: %f\" % metrics.roc_auc_score(y_train, dtrain_predprob))\n",
    "print(\"AUC Score (Test) for outer nested_cv model: %f\" % metrics.roc_auc_score(y_test, dtest_predprob))\n",
    "\n",
    "print(\"AUC Score (Holdout) for outer nested_cv model: %f\" % metrics.roc_auc_score(y_holdout, dholdout_predprob))\n",
    "print(\"Accuracy for outer nested_cv model on holdout data: %.4g\" % metrics.accuracy_score(y_holdout.values, \n",
    "                                                                                          dholdout_predictions))\n"
   ]
  },
  {
   "cell_type": "code",
   "execution_count": 46,
   "metadata": {},
   "outputs": [
    {
     "data": {
      "text/plain": [
       "0.32018737238625061"
      ]
     },
     "execution_count": 46,
     "metadata": {},
     "output_type": "execute_result"
    }
   ],
   "source": [
    "metrics.log_loss(y_train.values, dtrain_predprob)"
   ]
  },
  {
   "cell_type": "markdown",
   "metadata": {},
   "source": [
    "# Fairly stable across test and holdout"
   ]
  },
  {
   "cell_type": "code",
   "execution_count": 19,
   "metadata": {
    "collapsed": true
   },
   "outputs": [],
   "source": [
    "def get_nested_cv_preds(model, X, Y):\n",
    "    \"\"\"args: classification model object, fully numeric/ encoded X, target columns\n",
    "       returns: array of 1) binary classification predictions, 2) probabilities of class membership\"\"\"\n",
    "    #shuffle is necessary. Define same stratified k-fold as before\n",
    "    #ToDo - fix hard coding of random state, splits, \n",
    "    skf= model_selection.StratifiedKFold(n_splits=5, random_state=7, shuffle=True)\n",
    "    \n",
    "    print('full data AUC- CV score', sk.model_selection.cross_val_score(model, X, y=Y, scoring='roc_auc',cv=skf))\n",
    "    cv_results_preds = sk.model_selection.cross_val_predict(model, X, y=Y, cv=skf )\n",
    "    cv_results_probs = sk.model_selection.cross_val_predict(model, X, y=Y, cv=skf, method ='predict_proba')\n",
    "    \n",
    "    print(\"Accuracy full-data : %.4g\" % metrics.accuracy_score(Y, cv_results_preds))\n",
    "    print(\"AUC Score full-data: %f\" % metrics.roc_auc_score(Y, cv_results_probs[:,1]))\n",
    "    \n",
    "    return cv_results_preds, cv_results_probs"
   ]
  },
  {
   "cell_type": "code",
   "execution_count": 20,
   "metadata": {},
   "outputs": [
    {
     "name": "stdout",
     "output_type": "stream",
     "text": [
      "full data AUC- CV score [ 0.85503182  0.84453028  0.85731301  0.85235034  0.85032999]\n",
      "Accuracy full-data : 0.8061\n",
      "AUC Score full-data: 0.851852\n"
     ]
    },
    {
     "data": {
      "text/plain": [
       "(array([ 0.,  0.,  0., ...,  0.,  0.,  1.]), array([[ 0.921242  ,  0.07875799],\n",
       "        [ 0.83660638,  0.1633936 ],\n",
       "        [ 0.94750404,  0.05249597],\n",
       "        ..., \n",
       "        [ 0.68416667,  0.3158333 ],\n",
       "        [ 0.92688787,  0.07311212],\n",
       "        [ 0.25241506,  0.74758494]], dtype=float32))"
      ]
     },
     "execution_count": 20,
     "metadata": {},
     "output_type": "execute_result"
    }
   ],
   "source": [
    "get_nested_cv_preds(model_outer,X2,Y)"
   ]
  },
  {
   "cell_type": "code",
   "execution_count": 21,
   "metadata": {
    "collapsed": true
   },
   "outputs": [],
   "source": [
    "def save_model(model, country):\n",
    "    filename = '{}_pickle.sav'.format(country)\n",
    "    pickle.dump(model, open(filename, 'wb'))\n",
    "    print('saved as', filename)"
   ]
  },
  {
   "cell_type": "code",
   "execution_count": 22,
   "metadata": {},
   "outputs": [
    {
     "name": "stdout",
     "output_type": "stream",
     "text": [
      "saved as Afghanistan_pickle.sav\n"
     ]
    }
   ],
   "source": [
    "name = sl.country_name.unique()[0]\n",
    "save_model(model_outer, name)"
   ]
  },
  {
   "cell_type": "code",
   "execution_count": 23,
   "metadata": {},
   "outputs": [
    {
     "data": {
      "text/plain": [
       "<matplotlib.axes._subplots.AxesSubplot at 0x10f7b4f98>"
      ]
     },
     "execution_count": 23,
     "metadata": {},
     "output_type": "execute_result"
    },
    {
     "data": {
      "image/png": "[encoded data removed]",
      "text/plain": [
       "<matplotlib.figure.Figure at 0x10f7d1748>"
      ]
     },
     "metadata": {},
     "output_type": "display_data"
    }
   ],
   "source": [
    "xgb.plot_importance(model_outer)"
   ]
  },
  {
   "cell_type": "code",
   "execution_count": 39,
   "metadata": {},
   "outputs": [
    {
     "data": {
      "text/plain": [
       "<matplotlib.axes._subplots.AxesSubplot at 0x114b2d6d8>"
      ]
     },
     "execution_count": 39,
     "metadata": {},
     "output_type": "execute_result"
    },
    {
     "data": {
      "image/png": "[encoded data removed]",
      "text/plain": [
       "<matplotlib.figure.Figure at 0x1147acfd0>"
      ]
     },
     "metadata": {},
     "output_type": "display_data"
    }
   ],
   "source": [
    "xgb.plot_importance(model_outer, importance_type='gain')"
   ]
  },
  {
   "cell_type": "code",
   "execution_count": 44,
   "metadata": {},
   "outputs": [
    {
     "data": {
      "text/plain": [
       "array([ 0.02304297,  0.03045397,  0.        ,  0.        ,  0.05880209,\n",
       "        0.09998785,  0.        ,  0.23545134,  0.23136112,  0.07297615,\n",
       "        0.11873811,  0.08771717,  0.01704937,  0.02441988], dtype=float32)"
      ]
     },
     "execution_count": 44,
     "metadata": {},
     "output_type": "execute_result"
    }
   ],
   "source": [
    "model_outer.feature_importances_"
   ]
  },
  {
   "cell_type": "code",
   "execution_count": 47,
   "metadata": {
    "collapsed": true
   },
   "outputs": [],
   "source": [
    "def permutation_importances(model, X_train, y_train, metric):\n",
    "    baseline = metric( y_train.values,model.predict_proba(X_train))\n",
    "    imp = []\n",
    "    for col in X_train.columns:\n",
    "        save = X_train[col].copy() #store the original\n",
    "        X_train[col] = np.random.permutation(X_train[col]) #shuffle each column\n",
    "        m = metric( y_train.values,model.predict_proba(X_train)) #make predictions\n",
    "        X_train[col] = save # return it back to normal\n",
    "        imp.append(baseline - m) # if \n",
    "    return np.array(imp)"
   ]
  },
  {
   "cell_type": "code",
   "execution_count": 35,
   "metadata": {
    "collapsed": true
   },
   "outputs": [],
   "source": [
    "# from eli5.sklearn import PermutationImportance\n",
    "# perm = PermutationImportance(model_outer).fit(X_test, y_test)\n",
    "# eli5.show_weights(perm)"
   ]
  },
  {
   "cell_type": "code",
   "execution_count": 57,
   "metadata": {
    "collapsed": true
   },
   "outputs": [],
   "source": [
    "imp = permutation_importances(model_outer, X_test, y_test, metrics.log_loss)"
   ]
  },
  {
   "cell_type": "code",
   "execution_count": 59,
   "metadata": {},
   "outputs": [
    {
     "data": {
      "text/plain": [
       "array([-0.0141246 , -0.06715192,  0.        ,  0.        , -0.00920372,\n",
       "       -0.01360297,  0.        , -0.02340217, -0.03914851, -0.02613135,\n",
       "       -0.03557804, -0.02551007, -0.02159273, -0.01877334])"
      ]
     },
     "execution_count": 59,
     "metadata": {},
     "output_type": "execute_result"
    }
   ],
   "source": [
    "imp"
   ]
  },
  {
   "cell_type": "code",
   "execution_count": 60,
   "metadata": {},
   "outputs": [
    {
     "data": {
      "text/plain": [
       "Index(['water_source', 'water_tech', 'management', 'source', 'adm1', 'adm2',\n",
       "       'pay', 'lat_deg', 'lon_deg', 'new_install_year', 'age_well_years',\n",
       "       'time_since_meas_years', 'fuzzy_water_source', 'fuzzy_water_tech'],\n",
       "      dtype='object')"
      ]
     },
     "execution_count": 60,
     "metadata": {},
     "output_type": "execute_result"
    }
   ],
   "source": [
    "X_test.columns"
   ]
  },
  {
   "cell_type": "code",
   "execution_count": 65,
   "metadata": {},
   "outputs": [
    {
     "data": {
      "text/plain": [
       "<matplotlib.axes._subplots.AxesSubplot at 0x11640b550>"
      ]
     },
     "execution_count": 65,
     "metadata": {},
     "output_type": "execute_result"
    },
    {
     "data": {
      "image/png": "[encoded data removed]",
      "text/plain": [
       "<matplotlib.figure.Figure at 0x116400080>"
      ]
     },
     "metadata": {},
     "output_type": "display_data"
    }
   ],
   "source": [
    "pd.DataFrame(data=abs(imp), index=X_test.columns).sort_values(by=0).plot(kind='barh')"
   ]
  },
  {
   "cell_type": "code",
   "execution_count": 89,
   "metadata": {},
   "outputs": [
    {
     "data": {
      "text/html": [
       "<div>\n",
       "<style scoped>\n",
       "    .dataframe tbody tr th:only-of-type {\n",
       "        vertical-align: middle;\n",
       "    }\n",
       "\n",
       "    .dataframe tbody tr th {\n",
       "        vertical-align: top;\n",
       "    }\n",
       "\n",
       "    .dataframe thead th {\n",
       "        text-align: right;\n",
       "    }\n",
       "</style>\n",
       "<table border=\"1\" class=\"dataframe\">\n",
       "  <thead>\n",
       "    <tr style=\"text-align: right;\">\n",
       "      <th></th>\n",
       "      <th>mean</th>\n",
       "      <th>count</th>\n",
       "    </tr>\n",
       "    <tr>\n",
       "      <th>water_tech</th>\n",
       "      <th></th>\n",
       "      <th></th>\n",
       "    </tr>\n",
       "  </thead>\n",
       "  <tbody>\n",
       "    <tr>\n",
       "      <th>DUG WELL</th>\n",
       "      <td>0.320935</td>\n",
       "      <td>20568</td>\n",
       "    </tr>\n",
       "    <tr>\n",
       "      <th>INDUS</th>\n",
       "      <td>0.262298</td>\n",
       "      <td>12543</td>\n",
       "    </tr>\n",
       "    <tr>\n",
       "      <th>__MISSING__</th>\n",
       "      <td>0.537549</td>\n",
       "      <td>9268</td>\n",
       "    </tr>\n",
       "    <tr>\n",
       "      <th>TUBE WELL</th>\n",
       "      <td>0.104097</td>\n",
       "      <td>6321</td>\n",
       "    </tr>\n",
       "    <tr>\n",
       "      <th>PAMIR</th>\n",
       "      <td>0.239720</td>\n",
       "      <td>4718</td>\n",
       "    </tr>\n",
       "    <tr>\n",
       "      <th>KABUL</th>\n",
       "      <td>0.321980</td>\n",
       "      <td>3435</td>\n",
       "    </tr>\n",
       "    <tr>\n",
       "      <th>STAND POST</th>\n",
       "      <td>0.024853</td>\n",
       "      <td>2897</td>\n",
       "    </tr>\n",
       "    <tr>\n",
       "      <th>Lorentz</th>\n",
       "      <td>0.123711</td>\n",
       "      <td>97</td>\n",
       "    </tr>\n",
       "    <tr>\n",
       "      <th>RAIN WATER</th>\n",
       "      <td>0.000000</td>\n",
       "      <td>2</td>\n",
       "    </tr>\n",
       "  </tbody>\n",
       "</table>\n",
       "</div>"
      ],
      "text/plain": [
       "                 mean  count\n",
       "water_tech                  \n",
       "DUG WELL     0.320935  20568\n",
       "INDUS        0.262298  12543\n",
       "__MISSING__  0.537549   9268\n",
       "TUBE WELL    0.104097   6321\n",
       "PAMIR        0.239720   4718\n",
       "KABUL        0.321980   3435\n",
       "STAND POST   0.024853   2897\n",
       "Lorentz      0.123711     97\n",
       "RAIN WATER   0.000000      2"
      ]
     },
     "execution_count": 89,
     "metadata": {},
     "output_type": "execute_result"
    }
   ],
   "source": [
    "sl.groupby('water_tech')['status_binary'].agg(['mean','count']).sort_values(by='count', ascending=False)"
   ]
  },
  {
   "cell_type": "markdown",
   "metadata": {},
   "source": [
    "# we now how of our early stopped, cross-validated model. We now need to identify the ideal prediction threshold"
   ]
  },
  {
   "cell_type": "code",
   "execution_count": 66,
   "metadata": {},
   "outputs": [
    {
     "data": {
      "text/plain": [
       "<matplotlib.text.Text at 0x116b41e10>"
      ]
     },
     "execution_count": 66,
     "metadata": {},
     "output_type": "execute_result"
    },
    {
     "data": {
      "image/png": "[encoded data removed]",
      "text/plain": [
       "<matplotlib.figure.Figure at 0x116394cc0>"
      ]
     },
     "metadata": {},
     "output_type": "display_data"
    }
   ],
   "source": [
    "pd.DataFrame(dholdout_predprob[y_holdout==0]).hist(bins=50)\n",
    "plt.title('Prediction Distribution on holdout for good wells')\n"
   ]
  },
  {
   "cell_type": "code",
   "execution_count": 67,
   "metadata": {},
   "outputs": [
    {
     "data": {
      "text/plain": [
       "<matplotlib.text.Text at 0x116ccb6d8>"
      ]
     },
     "execution_count": 67,
     "metadata": {},
     "output_type": "execute_result"
    },
    {
     "data": {
      "image/png": "[encoded data removed]",
      "text/plain": [
       "<matplotlib.figure.Figure at 0x116c7a898>"
      ]
     },
     "metadata": {},
     "output_type": "display_data"
    }
   ],
   "source": [
    "pd.DataFrame(dholdout_predprob[y_holdout==1]).hist(bins=50)\n",
    "plt.title('Prediction Distribution on holdout for bad wells')\n"
   ]
  },
  {
   "cell_type": "code",
   "execution_count": 68,
   "metadata": {},
   "outputs": [
    {
     "data": {
      "text/plain": [
       "(array([ 0.21351357,  0.52816515,  0.53940271,  0.65177827,  0.80910406,\n",
       "         0.95519229,  1.09004297,  0.93271718,  1.17994342,  0.96642985,\n",
       "         1.42716966,  1.10128053,  1.25860632,  1.51707011,  1.16870586,\n",
       "         1.10128053,  1.26984387,  1.02261763,  1.07880541,  0.97766741,\n",
       "         0.74167872,  0.98890496,  1.00014252,  0.8765294 ,  0.80910406,\n",
       "         0.68549094,  0.71920361,  0.74167872,  0.73044117,  0.64054071,\n",
       "         0.93271718,  0.64054071,  0.60682804,  0.58435293,  0.47197737,\n",
       "         0.66301583,  0.91024207,  1.57325789,  1.71934613,  4.3039841 ]),\n",
       " array([ 0.00229134,  0.02721078,  0.05213022,  0.07704966,  0.1019691 ,\n",
       "         0.12688854,  0.15180798,  0.17672742,  0.20164686,  0.2265663 ,\n",
       "         0.25148574,  0.27640518,  0.30132462,  0.32624406,  0.35116349,\n",
       "         0.37608293,  0.40100237,  0.42592181,  0.45084125,  0.47576069,\n",
       "         0.50068013,  0.52559957,  0.55051901,  0.57543845,  0.60035789,\n",
       "         0.62527733,  0.65019677,  0.67511621,  0.70003564,  0.72495508,\n",
       "         0.74987452,  0.77479396,  0.7997134 ,  0.82463284,  0.84955228,\n",
       "         0.87447172,  0.89939116,  0.9243106 ,  0.94923004,  0.97414948,\n",
       "         0.99906892]),\n",
       " <a list of 1 Patch objects>)"
      ]
     },
     "execution_count": 68,
     "metadata": {},
     "output_type": "execute_result"
    },
    {
     "data": {
      "image/png": "[encoded data removed]",
      "text/plain": [
       "<matplotlib.figure.Figure at 0x117071470>"
      ]
     },
     "metadata": {},
     "output_type": "display_data"
    }
   ],
   "source": [
    "\n",
    "x1 = dholdout_predprob[y_holdout==0]\n",
    "x2 = dholdout_predprob[y_holdout==1]\n",
    "\n",
    "\n",
    "kwargs = dict(histtype='stepfilled', alpha=0.3, normed=True, bins=40)\n",
    "\n",
    "plt.title('probability distribution for true negatives and true positives')\n",
    "plt.hist(x1, **kwargs)\n",
    "plt.hist(x2, **kwargs)\n"
   ]
  },
  {
   "cell_type": "markdown",
   "metadata": {},
   "source": [
    "### Some separation, will need to adjust the threshold"
   ]
  },
  {
   "cell_type": "code",
   "execution_count": 90,
   "metadata": {
    "collapsed": true
   },
   "outputs": [],
   "source": [
    "def evaluate_prediction_thresholds(y_true, y_pred_probs, recall_val):\n",
    "    import numpy as np\n",
    "    d = dict()\n",
    "    for i in np.linspace(0,0.5, num=20):\n",
    "        best = 0\n",
    "        test = np.where(y_pred_probs > i, 1,0)\n",
    "        recall = metrics.recall_score(y_true, test)\n",
    "        precision = metrics.precision_score(y_true, test)\n",
    "        f_score = metrics.f1_score(y_true, test, average='binary')\n",
    "        d[i]=recall, precision, f_score\n",
    "\n",
    "    frame = pd.DataFrame.from_dict(d, orient='index')#.columns=(['recall', 'f1_score'])\n",
    "    frame.columns=(['recall','precision', 'f1_score'])\n",
    "    frame = frame[frame.recall>recall_val]\n",
    "    return frame"
   ]
  },
  {
   "cell_type": "code",
   "execution_count": 91,
   "metadata": {},
   "outputs": [
    {
     "data": {
      "text/html": [
       "<div>\n",
       "<style scoped>\n",
       "    .dataframe tbody tr th:only-of-type {\n",
       "        vertical-align: middle;\n",
       "    }\n",
       "\n",
       "    .dataframe tbody tr th {\n",
       "        vertical-align: top;\n",
       "    }\n",
       "\n",
       "    .dataframe thead th {\n",
       "        text-align: right;\n",
       "    }\n",
       "</style>\n",
       "<table border=\"1\" class=\"dataframe\">\n",
       "  <thead>\n",
       "    <tr style=\"text-align: right;\">\n",
       "      <th></th>\n",
       "      <th>recall</th>\n",
       "      <th>precision</th>\n",
       "      <th>f1_score</th>\n",
       "    </tr>\n",
       "  </thead>\n",
       "  <tbody>\n",
       "    <tr>\n",
       "      <th>0.000000</th>\n",
       "      <td>1.000000</td>\n",
       "      <td>0.298246</td>\n",
       "      <td>0.459459</td>\n",
       "    </tr>\n",
       "    <tr>\n",
       "      <th>0.026316</th>\n",
       "      <td>0.991877</td>\n",
       "      <td>0.340874</td>\n",
       "      <td>0.507379</td>\n",
       "    </tr>\n",
       "    <tr>\n",
       "      <th>0.052632</th>\n",
       "      <td>0.983473</td>\n",
       "      <td>0.366531</td>\n",
       "      <td>0.534033</td>\n",
       "    </tr>\n",
       "    <tr>\n",
       "      <th>0.078947</th>\n",
       "      <td>0.966947</td>\n",
       "      <td>0.392496</td>\n",
       "      <td>0.558350</td>\n",
       "    </tr>\n",
       "    <tr>\n",
       "      <th>0.105263</th>\n",
       "      <td>0.945378</td>\n",
       "      <td>0.418319</td>\n",
       "      <td>0.579997</td>\n",
       "    </tr>\n",
       "    <tr>\n",
       "      <th>0.131579</th>\n",
       "      <td>0.927171</td>\n",
       "      <td>0.441098</td>\n",
       "      <td>0.597797</td>\n",
       "    </tr>\n",
       "    <tr>\n",
       "      <th>0.157895</th>\n",
       "      <td>0.901681</td>\n",
       "      <td>0.461836</td>\n",
       "      <td>0.610816</td>\n",
       "    </tr>\n",
       "    <tr>\n",
       "      <th>0.184211</th>\n",
       "      <td>0.876751</td>\n",
       "      <td>0.482801</td>\n",
       "      <td>0.622700</td>\n",
       "    </tr>\n",
       "    <tr>\n",
       "      <th>0.210526</th>\n",
       "      <td>0.851541</td>\n",
       "      <td>0.504900</td>\n",
       "      <td>0.633928</td>\n",
       "    </tr>\n",
       "    <tr>\n",
       "      <th>0.236842</th>\n",
       "      <td>0.821569</td>\n",
       "      <td>0.526099</td>\n",
       "      <td>0.641443</td>\n",
       "    </tr>\n",
       "    <tr>\n",
       "      <th>0.263158</th>\n",
       "      <td>0.786555</td>\n",
       "      <td>0.549834</td>\n",
       "      <td>0.647228</td>\n",
       "    </tr>\n",
       "    <tr>\n",
       "      <th>0.289474</th>\n",
       "      <td>0.756303</td>\n",
       "      <td>0.576061</td>\n",
       "      <td>0.653991</td>\n",
       "    </tr>\n",
       "    <tr>\n",
       "      <th>0.315789</th>\n",
       "      <td>0.724930</td>\n",
       "      <td>0.595901</td>\n",
       "      <td>0.654113</td>\n",
       "    </tr>\n",
       "  </tbody>\n",
       "</table>\n",
       "</div>"
      ],
      "text/plain": [
       "            recall  precision  f1_score\n",
       "0.000000  1.000000   0.298246  0.459459\n",
       "0.026316  0.991877   0.340874  0.507379\n",
       "0.052632  0.983473   0.366531  0.534033\n",
       "0.078947  0.966947   0.392496  0.558350\n",
       "0.105263  0.945378   0.418319  0.579997\n",
       "0.131579  0.927171   0.441098  0.597797\n",
       "0.157895  0.901681   0.461836  0.610816\n",
       "0.184211  0.876751   0.482801  0.622700\n",
       "0.210526  0.851541   0.504900  0.633928\n",
       "0.236842  0.821569   0.526099  0.641443\n",
       "0.263158  0.786555   0.549834  0.647228\n",
       "0.289474  0.756303   0.576061  0.653991\n",
       "0.315789  0.724930   0.595901  0.654113"
      ]
     },
     "execution_count": 91,
     "metadata": {},
     "output_type": "execute_result"
    }
   ],
   "source": [
    "evaluate_prediction_thresholds(y_test, dtest_predprob, .7)"
   ]
  },
  {
   "cell_type": "code",
   "execution_count": 92,
   "metadata": {},
   "outputs": [
    {
     "data": {
      "text/html": [
       "<div>\n",
       "<style scoped>\n",
       "    .dataframe tbody tr th:only-of-type {\n",
       "        vertical-align: middle;\n",
       "    }\n",
       "\n",
       "    .dataframe tbody tr th {\n",
       "        vertical-align: top;\n",
       "    }\n",
       "\n",
       "    .dataframe thead th {\n",
       "        text-align: right;\n",
       "    }\n",
       "</style>\n",
       "<table border=\"1\" class=\"dataframe\">\n",
       "  <thead>\n",
       "    <tr style=\"text-align: right;\">\n",
       "      <th></th>\n",
       "      <th>recall</th>\n",
       "      <th>precision</th>\n",
       "      <th>f1_score</th>\n",
       "    </tr>\n",
       "  </thead>\n",
       "  <tbody>\n",
       "    <tr>\n",
       "      <th>0.000000</th>\n",
       "      <td>1.000000</td>\n",
       "      <td>0.298329</td>\n",
       "      <td>0.459559</td>\n",
       "    </tr>\n",
       "    <tr>\n",
       "      <th>0.026316</th>\n",
       "      <td>0.994679</td>\n",
       "      <td>0.343188</td>\n",
       "      <td>0.510308</td>\n",
       "    </tr>\n",
       "    <tr>\n",
       "      <th>0.052632</th>\n",
       "      <td>0.980958</td>\n",
       "      <td>0.368931</td>\n",
       "      <td>0.536201</td>\n",
       "    </tr>\n",
       "    <tr>\n",
       "      <th>0.078947</th>\n",
       "      <td>0.967236</td>\n",
       "      <td>0.395375</td>\n",
       "      <td>0.561307</td>\n",
       "    </tr>\n",
       "    <tr>\n",
       "      <th>0.105263</th>\n",
       "      <td>0.948474</td>\n",
       "      <td>0.417478</td>\n",
       "      <td>0.579767</td>\n",
       "    </tr>\n",
       "    <tr>\n",
       "      <th>0.131579</th>\n",
       "      <td>0.927191</td>\n",
       "      <td>0.436750</td>\n",
       "      <td>0.593795</td>\n",
       "    </tr>\n",
       "    <tr>\n",
       "      <th>0.157895</th>\n",
       "      <td>0.901428</td>\n",
       "      <td>0.457634</td>\n",
       "      <td>0.607072</td>\n",
       "    </tr>\n",
       "    <tr>\n",
       "      <th>0.184211</th>\n",
       "      <td>0.874825</td>\n",
       "      <td>0.478407</td>\n",
       "      <td>0.618553</td>\n",
       "    </tr>\n",
       "    <tr>\n",
       "      <th>0.210526</th>\n",
       "      <td>0.848502</td>\n",
       "      <td>0.497782</td>\n",
       "      <td>0.627459</td>\n",
       "    </tr>\n",
       "    <tr>\n",
       "      <th>0.236842</th>\n",
       "      <td>0.813498</td>\n",
       "      <td>0.517272</td>\n",
       "      <td>0.632415</td>\n",
       "    </tr>\n",
       "    <tr>\n",
       "      <th>0.263158</th>\n",
       "      <td>0.789695</td>\n",
       "      <td>0.541475</td>\n",
       "      <td>0.642442</td>\n",
       "    </tr>\n",
       "    <tr>\n",
       "      <th>0.289474</th>\n",
       "      <td>0.754130</td>\n",
       "      <td>0.563743</td>\n",
       "      <td>0.645184</td>\n",
       "    </tr>\n",
       "    <tr>\n",
       "      <th>0.315789</th>\n",
       "      <td>0.719686</td>\n",
       "      <td>0.583958</td>\n",
       "      <td>0.644757</td>\n",
       "    </tr>\n",
       "  </tbody>\n",
       "</table>\n",
       "</div>"
      ],
      "text/plain": [
       "            recall  precision  f1_score\n",
       "0.000000  1.000000   0.298329  0.459559\n",
       "0.026316  0.994679   0.343188  0.510308\n",
       "0.052632  0.980958   0.368931  0.536201\n",
       "0.078947  0.967236   0.395375  0.561307\n",
       "0.105263  0.948474   0.417478  0.579767\n",
       "0.131579  0.927191   0.436750  0.593795\n",
       "0.157895  0.901428   0.457634  0.607072\n",
       "0.184211  0.874825   0.478407  0.618553\n",
       "0.210526  0.848502   0.497782  0.627459\n",
       "0.236842  0.813498   0.517272  0.632415\n",
       "0.263158  0.789695   0.541475  0.642442\n",
       "0.289474  0.754130   0.563743  0.645184\n",
       "0.315789  0.719686   0.583958  0.644757"
      ]
     },
     "execution_count": 92,
     "metadata": {},
     "output_type": "execute_result"
    }
   ],
   "source": [
    "evaluate_prediction_thresholds(y_holdout, dholdout_predprob, 0.7)"
   ]
  },
  {
   "cell_type": "markdown",
   "metadata": {},
   "source": [
    "## Modeling Decision: Threshold of 0.237 gives a recall > 0.81 and a precision > 0.51 on both test and holdout. Will use as threshold. Not great but want to have at least a 50% chance of investigating a real bad well (prioritization) and balanced with catching as many as possible (recall)."
   ]
  },
  {
   "cell_type": "markdown",
   "metadata": {},
   "source": [
    "### Create predictions for the out years based on data.  Had to correct X_today time since measurment, as initial predictions didn't adjust time since measurement in X_Today."
   ]
  },
  {
   "cell_type": "code",
   "execution_count": 14,
   "metadata": {},
   "outputs": [],
   "source": [
    "model_outer=pickle.load(open('Afghanistan_pickle.sav', 'rb'))"
   ]
  },
  {
   "cell_type": "code",
   "execution_count": 15,
   "metadata": {},
   "outputs": [
    {
     "data": {
      "text/html": [
       "<div>\n",
       "<style scoped>\n",
       "    .dataframe tbody tr th:only-of-type {\n",
       "        vertical-align: middle;\n",
       "    }\n",
       "\n",
       "    .dataframe tbody tr th {\n",
       "        vertical-align: top;\n",
       "    }\n",
       "\n",
       "    .dataframe thead th {\n",
       "        text-align: right;\n",
       "    }\n",
       "</style>\n",
       "<table border=\"1\" class=\"dataframe\">\n",
       "  <thead>\n",
       "    <tr style=\"text-align: right;\">\n",
       "      <th></th>\n",
       "      <th>water_source</th>\n",
       "      <th>water_tech</th>\n",
       "      <th>management</th>\n",
       "      <th>source</th>\n",
       "      <th>adm1</th>\n",
       "      <th>adm2</th>\n",
       "      <th>pay</th>\n",
       "      <th>lat_deg</th>\n",
       "      <th>lon_deg</th>\n",
       "      <th>new_install_year</th>\n",
       "      <th>age_well_years</th>\n",
       "      <th>time_since_meas_years</th>\n",
       "      <th>fuzzy_water_source</th>\n",
       "      <th>fuzzy_water_tech</th>\n",
       "    </tr>\n",
       "  </thead>\n",
       "  <tbody>\n",
       "    <tr>\n",
       "      <th>82</th>\n",
       "      <td>7</td>\n",
       "      <td>0</td>\n",
       "      <td>0</td>\n",
       "      <td>0</td>\n",
       "      <td>18</td>\n",
       "      <td>193</td>\n",
       "      <td>0</td>\n",
       "      <td>33.5244</td>\n",
       "      <td>69.7361</td>\n",
       "      <td>18</td>\n",
       "      <td>17.2</td>\n",
       "      <td>11.3</td>\n",
       "      <td>3</td>\n",
       "      <td>6</td>\n",
       "    </tr>\n",
       "  </tbody>\n",
       "</table>\n",
       "</div>"
      ],
      "text/plain": [
       "    water_source  water_tech  management  source  adm1  adm2  pay  lat_deg  \\\n",
       "82             7           0           0       0    18   193    0  33.5244   \n",
       "\n",
       "    lon_deg  new_install_year  age_well_years  time_since_meas_years  \\\n",
       "82  69.7361                18            17.2                   11.3   \n",
       "\n",
       "    fuzzy_water_source  fuzzy_water_tech  \n",
       "82                   3                 6  "
      ]
     },
     "execution_count": 15,
     "metadata": {},
     "output_type": "execute_result"
    }
   ],
   "source": [
    "X_today = X2.copy()\n",
    "X_today['age_well_years'] = X_today.age_well_years + X_today.time_since_meas_years\n",
    "X_today[:1]"
   ]
  },
  {
   "cell_type": "code",
   "execution_count": 17,
   "metadata": {
    "collapsed": true
   },
   "outputs": [],
   "source": [
    "#make two other future values to predict, 1 year and 5 years\n",
    "X_1year = X_today.copy()\n",
    "X_1year['age_well_years'] = X_1year.age_well_years + 1\n",
    "X_3year = X_1year.copy()\n",
    "X_3year['age_well_years']=X_3year.age_well_years+2\n",
    "X_5year = X_1year.copy()\n",
    "X_5year['age_well_years']=X_5year.age_well_years+4\n"
   ]
  },
  {
   "cell_type": "code",
   "execution_count": 18,
   "metadata": {},
   "outputs": [
    {
     "name": "stdout",
     "output_type": "stream",
     "text": [
      "    age_well_years  time_since_meas_years\n",
      "82             5.9                   11.3\n",
      "    age_well_years  time_since_meas_years\n",
      "82            17.2                   11.3\n",
      "    age_well_years  time_since_meas_years\n",
      "82            18.2                   11.3\n",
      "    age_well_years  time_since_meas_years\n",
      "82            20.2                   11.3\n",
      "    age_well_years  time_since_meas_years\n",
      "82            22.2                   11.3\n"
     ]
    }
   ],
   "source": [
    "print(X2[['age_well_years', 'time_since_meas_years']][:1])\n",
    "print(X_today[['age_well_years', 'time_since_meas_years']][:1])\n",
    "print(X_1year[['age_well_years', 'time_since_meas_years']][:1])\n",
    "print(X_3year[['age_well_years', 'time_since_meas_years']][:1])\n",
    "print(X_5year[['age_well_years', 'time_since_meas_years']][:1])"
   ]
  },
  {
   "cell_type": "code",
   "execution_count": 19,
   "metadata": {},
   "outputs": [
    {
     "data": {
      "text/plain": [
       "<matplotlib.axes._subplots.AxesSubplot at 0x1157611d0>"
      ]
     },
     "execution_count": 19,
     "metadata": {},
     "output_type": "execute_result"
    },
    {
     "data": {
      "image/png": "[encoded data removed]",
      "text/plain": [
       "<matplotlib.figure.Figure at 0x1098393c8>"
      ]
     },
     "metadata": {},
     "output_type": "display_data"
    }
   ],
   "source": [
    "plt.subplots()\n",
    "X_today.time_since_meas_years.hist()\n",
    "X2.time_since_meas_years.hist()"
   ]
  },
  {
   "cell_type": "markdown",
   "metadata": {},
   "source": [
    "# Get Predictions for Today, 1, 3 and 5 years out"
   ]
  },
  {
   "cell_type": "code",
   "execution_count": 20,
   "metadata": {
    "collapsed": true
   },
   "outputs": [],
   "source": [
    "today_preds = model_outer.predict(X_today)\n",
    "today_predprob = model_outer.predict_proba(X_today)\n",
    "one_year_preds = model_outer.predict(X_1year)\n",
    "one_year_predprob = model_outer.predict_proba(X_1year)\n",
    "three_year_preds = model_outer.predict(X_3year)\n",
    "three_year_predprob = model_outer.predict_proba(X_3year)\n",
    "five_year_preds = model_outer.predict(X_5year)\n",
    "five_year_predprob = model_outer.predict_proba(X_5year)"
   ]
  },
  {
   "cell_type": "code",
   "execution_count": 21,
   "metadata": {
    "collapsed": true
   },
   "outputs": [],
   "source": [
    "# append them to the original df\n",
    "#erroring, since we had to drop a few NaN rows\n",
    "sl = df2\n",
    "sl['today_preds']=today_preds\n",
    "sl['today_predprob']= today_predprob[:,1]\n",
    "sl['one_year_preds'] = one_year_preds\n",
    "sl['one_year_predprob'] = one_year_predprob[:,1]\n",
    "sl['three_year_preds'] = three_year_preds\n",
    "sl['three_year_predprob']= three_year_predprob[:,1]\n",
    "sl['five_year_preds']=five_year_preds\n",
    "sl['five_year_predprob'] =five_year_predprob[:,1]"
   ]
  },
  {
   "cell_type": "code",
   "execution_count": 76,
   "metadata": {},
   "outputs": [
    {
     "data": {
      "text/html": [
       "<div>\n",
       "<style scoped>\n",
       "    .dataframe tbody tr th:only-of-type {\n",
       "        vertical-align: middle;\n",
       "    }\n",
       "\n",
       "    .dataframe tbody tr th {\n",
       "        vertical-align: top;\n",
       "    }\n",
       "\n",
       "    .dataframe thead th {\n",
       "        text-align: right;\n",
       "    }\n",
       "</style>\n",
       "<table border=\"1\" class=\"dataframe\">\n",
       "  <thead>\n",
       "    <tr style=\"text-align: right;\">\n",
       "      <th></th>\n",
       "      <th>status_binary</th>\n",
       "      <th>today_preds</th>\n",
       "      <th>one_year_preds</th>\n",
       "      <th>three_year_preds</th>\n",
       "      <th>five_year_preds</th>\n",
       "    </tr>\n",
       "  </thead>\n",
       "  <tbody>\n",
       "    <tr>\n",
       "      <th>count</th>\n",
       "      <td>59849.000000</td>\n",
       "      <td>59849.000000</td>\n",
       "      <td>59849.000000</td>\n",
       "      <td>59849.000000</td>\n",
       "      <td>59849.000000</td>\n",
       "    </tr>\n",
       "    <tr>\n",
       "      <th>mean</th>\n",
       "      <td>0.298284</td>\n",
       "      <td>0.265735</td>\n",
       "      <td>0.241558</td>\n",
       "      <td>0.200789</td>\n",
       "      <td>0.190329</td>\n",
       "    </tr>\n",
       "    <tr>\n",
       "      <th>std</th>\n",
       "      <td>0.457509</td>\n",
       "      <td>0.441728</td>\n",
       "      <td>0.428031</td>\n",
       "      <td>0.400594</td>\n",
       "      <td>0.392564</td>\n",
       "    </tr>\n",
       "    <tr>\n",
       "      <th>min</th>\n",
       "      <td>0.000000</td>\n",
       "      <td>0.000000</td>\n",
       "      <td>0.000000</td>\n",
       "      <td>0.000000</td>\n",
       "      <td>0.000000</td>\n",
       "    </tr>\n",
       "    <tr>\n",
       "      <th>25%</th>\n",
       "      <td>0.000000</td>\n",
       "      <td>0.000000</td>\n",
       "      <td>0.000000</td>\n",
       "      <td>0.000000</td>\n",
       "      <td>0.000000</td>\n",
       "    </tr>\n",
       "    <tr>\n",
       "      <th>50%</th>\n",
       "      <td>0.000000</td>\n",
       "      <td>0.000000</td>\n",
       "      <td>0.000000</td>\n",
       "      <td>0.000000</td>\n",
       "      <td>0.000000</td>\n",
       "    </tr>\n",
       "    <tr>\n",
       "      <th>75%</th>\n",
       "      <td>1.000000</td>\n",
       "      <td>1.000000</td>\n",
       "      <td>0.000000</td>\n",
       "      <td>0.000000</td>\n",
       "      <td>0.000000</td>\n",
       "    </tr>\n",
       "    <tr>\n",
       "      <th>max</th>\n",
       "      <td>1.000000</td>\n",
       "      <td>1.000000</td>\n",
       "      <td>1.000000</td>\n",
       "      <td>1.000000</td>\n",
       "      <td>1.000000</td>\n",
       "    </tr>\n",
       "  </tbody>\n",
       "</table>\n",
       "</div>"
      ],
      "text/plain": [
       "       status_binary   today_preds  one_year_preds  three_year_preds  \\\n",
       "count   59849.000000  59849.000000    59849.000000      59849.000000   \n",
       "mean        0.298284      0.265735        0.241558          0.200789   \n",
       "std         0.457509      0.441728        0.428031          0.400594   \n",
       "min         0.000000      0.000000        0.000000          0.000000   \n",
       "25%         0.000000      0.000000        0.000000          0.000000   \n",
       "50%         0.000000      0.000000        0.000000          0.000000   \n",
       "75%         1.000000      1.000000        0.000000          0.000000   \n",
       "max         1.000000      1.000000        1.000000          1.000000   \n",
       "\n",
       "       five_year_preds  \n",
       "count     59849.000000  \n",
       "mean          0.190329  \n",
       "std           0.392564  \n",
       "min           0.000000  \n",
       "25%           0.000000  \n",
       "50%           0.000000  \n",
       "75%           0.000000  \n",
       "max           1.000000  "
      ]
     },
     "execution_count": 76,
     "metadata": {},
     "output_type": "execute_result"
    }
   ],
   "source": [
    "#Original, before the correction to time since measurement was corrected for X_today\n",
    "sl[['status_binary','today_preds','one_year_preds','three_year_preds', 'five_year_preds']].describe()"
   ]
  },
  {
   "cell_type": "code",
   "execution_count": 22,
   "metadata": {},
   "outputs": [
    {
     "data": {
      "text/html": [
       "<div>\n",
       "<style scoped>\n",
       "    .dataframe tbody tr th:only-of-type {\n",
       "        vertical-align: middle;\n",
       "    }\n",
       "\n",
       "    .dataframe tbody tr th {\n",
       "        vertical-align: top;\n",
       "    }\n",
       "\n",
       "    .dataframe thead th {\n",
       "        text-align: right;\n",
       "    }\n",
       "</style>\n",
       "<table border=\"1\" class=\"dataframe\">\n",
       "  <thead>\n",
       "    <tr style=\"text-align: right;\">\n",
       "      <th></th>\n",
       "      <th>status_binary</th>\n",
       "      <th>today_preds</th>\n",
       "      <th>one_year_preds</th>\n",
       "      <th>three_year_preds</th>\n",
       "      <th>five_year_preds</th>\n",
       "    </tr>\n",
       "  </thead>\n",
       "  <tbody>\n",
       "    <tr>\n",
       "      <th>count</th>\n",
       "      <td>59849.000000</td>\n",
       "      <td>59849.000000</td>\n",
       "      <td>59849.000000</td>\n",
       "      <td>59849.000000</td>\n",
       "      <td>59849.000000</td>\n",
       "    </tr>\n",
       "    <tr>\n",
       "      <th>mean</th>\n",
       "      <td>0.298284</td>\n",
       "      <td>0.265735</td>\n",
       "      <td>0.268409</td>\n",
       "      <td>0.273254</td>\n",
       "      <td>0.277298</td>\n",
       "    </tr>\n",
       "    <tr>\n",
       "      <th>std</th>\n",
       "      <td>0.457509</td>\n",
       "      <td>0.441728</td>\n",
       "      <td>0.443135</td>\n",
       "      <td>0.445634</td>\n",
       "      <td>0.447669</td>\n",
       "    </tr>\n",
       "    <tr>\n",
       "      <th>min</th>\n",
       "      <td>0.000000</td>\n",
       "      <td>0.000000</td>\n",
       "      <td>0.000000</td>\n",
       "      <td>0.000000</td>\n",
       "      <td>0.000000</td>\n",
       "    </tr>\n",
       "    <tr>\n",
       "      <th>25%</th>\n",
       "      <td>0.000000</td>\n",
       "      <td>0.000000</td>\n",
       "      <td>0.000000</td>\n",
       "      <td>0.000000</td>\n",
       "      <td>0.000000</td>\n",
       "    </tr>\n",
       "    <tr>\n",
       "      <th>50%</th>\n",
       "      <td>0.000000</td>\n",
       "      <td>0.000000</td>\n",
       "      <td>0.000000</td>\n",
       "      <td>0.000000</td>\n",
       "      <td>0.000000</td>\n",
       "    </tr>\n",
       "    <tr>\n",
       "      <th>75%</th>\n",
       "      <td>1.000000</td>\n",
       "      <td>1.000000</td>\n",
       "      <td>1.000000</td>\n",
       "      <td>1.000000</td>\n",
       "      <td>1.000000</td>\n",
       "    </tr>\n",
       "    <tr>\n",
       "      <th>max</th>\n",
       "      <td>1.000000</td>\n",
       "      <td>1.000000</td>\n",
       "      <td>1.000000</td>\n",
       "      <td>1.000000</td>\n",
       "      <td>1.000000</td>\n",
       "    </tr>\n",
       "  </tbody>\n",
       "</table>\n",
       "</div>"
      ],
      "text/plain": [
       "       status_binary   today_preds  one_year_preds  three_year_preds  \\\n",
       "count   59849.000000  59849.000000    59849.000000      59849.000000   \n",
       "mean        0.298284      0.265735        0.268409          0.273254   \n",
       "std         0.457509      0.441728        0.443135          0.445634   \n",
       "min         0.000000      0.000000        0.000000          0.000000   \n",
       "25%         0.000000      0.000000        0.000000          0.000000   \n",
       "50%         0.000000      0.000000        0.000000          0.000000   \n",
       "75%         1.000000      1.000000        1.000000          1.000000   \n",
       "max         1.000000      1.000000        1.000000          1.000000   \n",
       "\n",
       "       five_year_preds  \n",
       "count     59849.000000  \n",
       "mean          0.277298  \n",
       "std           0.447669  \n",
       "min           0.000000  \n",
       "25%           0.000000  \n",
       "50%           0.000000  \n",
       "75%           1.000000  \n",
       "max           1.000000  "
      ]
     },
     "execution_count": 22,
     "metadata": {},
     "output_type": "execute_result"
    }
   ],
   "source": [
    "#With corrected time since measurement, but still default 0.5 threshold\n",
    "sl[['status_binary','today_preds','one_year_preds','three_year_preds', 'five_year_preds']].describe()"
   ]
  },
  {
   "cell_type": "markdown",
   "metadata": {},
   "source": [
    "# 0.5 threshold won't do, setting a modeling decision of 0.237 for our prediction threshold\n",
    "\n",
    "# Also coerce well status to be \"broken\" if it was ever \"broken\" in the past. Should have excluded non functioning wells from prior predictions"
   ]
  },
  {
   "cell_type": "code",
   "execution_count": 23,
   "metadata": {
    "collapsed": true
   },
   "outputs": [],
   "source": [
    "threshold = 0.237\n",
    "def append_outyear_predictions(original_df, threshold, today_predprob, one_year_predprob, three_year_predprob, five_year_predprob):\n",
    "    sl = original_df.copy()\n",
    "    #ensures if a well was ever bad, it is bad in the future\n",
    "    sl['today_preds']=np.where(sl.status_binary==1,1,np.where(today_predprob[:,1]>threshold,1,0))\n",
    "    sl['today_predprob']= today_predprob[:,1]\n",
    "    sl['one_year_preds'] = np.where(np.max(sl[['status_binary','today_preds']], axis = 1)>0,\n",
    "                                    1,np.where(one_year_predprob[:,1]>threshold,1,0))\n",
    "    sl['one_year_predprob'] = one_year_predprob[:,1]\n",
    "    sl['three_year_preds'] = np.where(np.max(sl[['status_binary','today_preds', 'one_year_preds']], axis = 1)>0,1,\n",
    "                                      np.where(three_year_predprob[:,1]>threshold,1,0))\n",
    "    sl['three_year_predprob']= three_year_predprob[:,1]\n",
    "    sl['five_year_preds']=np.where(np.max(sl[['status_binary','today_preds', 'one_year_preds', 'three_year_preds']], axis = 1)>0,\n",
    "                                   1,np.where(five_year_predprob[:,1]>threshold,1,0))\n",
    "    sl['five_year_predprob'] =five_year_predprob[:,1]\n",
    "    \n",
    "    \n",
    "    return sl"
   ]
  },
  {
   "cell_type": "code",
   "execution_count": 24,
   "metadata": {
    "collapsed": true
   },
   "outputs": [],
   "source": [
    "afg = df.loc[df.country_name=='Afghanistan']"
   ]
  },
  {
   "cell_type": "code",
   "execution_count": 133,
   "metadata": {
    "collapsed": true
   },
   "outputs": [],
   "source": [
    "#ORIGINAL, without corrected time_since_meas\n",
    "coerced = append_outyear_predictions(afg, 0.237, today_predprob, one_year_predprob, three_year_predprob, five_year_predprob)"
   ]
  },
  {
   "cell_type": "code",
   "execution_count": 134,
   "metadata": {},
   "outputs": [
    {
     "data": {
      "text/html": [
       "<div>\n",
       "<style scoped>\n",
       "    .dataframe tbody tr th:only-of-type {\n",
       "        vertical-align: middle;\n",
       "    }\n",
       "\n",
       "    .dataframe tbody tr th {\n",
       "        vertical-align: top;\n",
       "    }\n",
       "\n",
       "    .dataframe thead th {\n",
       "        text-align: right;\n",
       "    }\n",
       "</style>\n",
       "<table border=\"1\" class=\"dataframe\">\n",
       "  <thead>\n",
       "    <tr style=\"text-align: right;\">\n",
       "      <th></th>\n",
       "      <th>status_binary</th>\n",
       "      <th>today_preds</th>\n",
       "      <th>one_year_preds</th>\n",
       "      <th>three_year_preds</th>\n",
       "      <th>five_year_preds</th>\n",
       "    </tr>\n",
       "  </thead>\n",
       "  <tbody>\n",
       "    <tr>\n",
       "      <th>count</th>\n",
       "      <td>59849.000000</td>\n",
       "      <td>59849.00000</td>\n",
       "      <td>59849.000000</td>\n",
       "      <td>59849.000000</td>\n",
       "      <td>59849.000000</td>\n",
       "    </tr>\n",
       "    <tr>\n",
       "      <th>mean</th>\n",
       "      <td>0.298284</td>\n",
       "      <td>0.60006</td>\n",
       "      <td>0.637371</td>\n",
       "      <td>0.676703</td>\n",
       "      <td>0.718007</td>\n",
       "    </tr>\n",
       "    <tr>\n",
       "      <th>std</th>\n",
       "      <td>0.457509</td>\n",
       "      <td>0.48989</td>\n",
       "      <td>0.480763</td>\n",
       "      <td>0.467739</td>\n",
       "      <td>0.449974</td>\n",
       "    </tr>\n",
       "    <tr>\n",
       "      <th>min</th>\n",
       "      <td>0.000000</td>\n",
       "      <td>0.00000</td>\n",
       "      <td>0.000000</td>\n",
       "      <td>0.000000</td>\n",
       "      <td>0.000000</td>\n",
       "    </tr>\n",
       "    <tr>\n",
       "      <th>25%</th>\n",
       "      <td>0.000000</td>\n",
       "      <td>0.00000</td>\n",
       "      <td>0.000000</td>\n",
       "      <td>0.000000</td>\n",
       "      <td>0.000000</td>\n",
       "    </tr>\n",
       "    <tr>\n",
       "      <th>50%</th>\n",
       "      <td>0.000000</td>\n",
       "      <td>1.00000</td>\n",
       "      <td>1.000000</td>\n",
       "      <td>1.000000</td>\n",
       "      <td>1.000000</td>\n",
       "    </tr>\n",
       "    <tr>\n",
       "      <th>75%</th>\n",
       "      <td>1.000000</td>\n",
       "      <td>1.00000</td>\n",
       "      <td>1.000000</td>\n",
       "      <td>1.000000</td>\n",
       "      <td>1.000000</td>\n",
       "    </tr>\n",
       "    <tr>\n",
       "      <th>max</th>\n",
       "      <td>1.000000</td>\n",
       "      <td>1.00000</td>\n",
       "      <td>1.000000</td>\n",
       "      <td>1.000000</td>\n",
       "      <td>1.000000</td>\n",
       "    </tr>\n",
       "  </tbody>\n",
       "</table>\n",
       "</div>"
      ],
      "text/plain": [
       "       status_binary  today_preds  one_year_preds  three_year_preds  \\\n",
       "count   59849.000000  59849.00000    59849.000000      59849.000000   \n",
       "mean        0.298284      0.60006        0.637371          0.676703   \n",
       "std         0.457509      0.48989        0.480763          0.467739   \n",
       "min         0.000000      0.00000        0.000000          0.000000   \n",
       "25%         0.000000      0.00000        0.000000          0.000000   \n",
       "50%         0.000000      1.00000        1.000000          1.000000   \n",
       "75%         1.000000      1.00000        1.000000          1.000000   \n",
       "max         1.000000      1.00000        1.000000          1.000000   \n",
       "\n",
       "       five_year_preds  \n",
       "count     59849.000000  \n",
       "mean          0.718007  \n",
       "std           0.449974  \n",
       "min           0.000000  \n",
       "25%           0.000000  \n",
       "50%           1.000000  \n",
       "75%           1.000000  \n",
       "max           1.000000  "
      ]
     },
     "execution_count": 134,
     "metadata": {},
     "output_type": "execute_result"
    }
   ],
   "source": [
    "coerced[['status_binary','today_preds','one_year_preds','three_year_preds', 'five_year_preds']].describe()"
   ]
  },
  {
   "cell_type": "code",
   "execution_count": 25,
   "metadata": {
    "collapsed": true
   },
   "outputs": [],
   "source": [
    "#Corrected with Correct timne since_meas\n",
    "coerced2 = append_outyear_predictions(afg, 0.237, today_predprob, one_year_predprob, three_year_predprob, five_year_predprob)"
   ]
  },
  {
   "cell_type": "code",
   "execution_count": 26,
   "metadata": {},
   "outputs": [
    {
     "data": {
      "text/html": [
       "<div>\n",
       "<style scoped>\n",
       "    .dataframe tbody tr th:only-of-type {\n",
       "        vertical-align: middle;\n",
       "    }\n",
       "\n",
       "    .dataframe tbody tr th {\n",
       "        vertical-align: top;\n",
       "    }\n",
       "\n",
       "    .dataframe thead th {\n",
       "        text-align: right;\n",
       "    }\n",
       "</style>\n",
       "<table border=\"1\" class=\"dataframe\">\n",
       "  <thead>\n",
       "    <tr style=\"text-align: right;\">\n",
       "      <th></th>\n",
       "      <th>status_binary</th>\n",
       "      <th>today_preds</th>\n",
       "      <th>one_year_preds</th>\n",
       "      <th>three_year_preds</th>\n",
       "      <th>five_year_preds</th>\n",
       "    </tr>\n",
       "  </thead>\n",
       "  <tbody>\n",
       "    <tr>\n",
       "      <th>count</th>\n",
       "      <td>59849.000000</td>\n",
       "      <td>59849.00000</td>\n",
       "      <td>59849.000000</td>\n",
       "      <td>59849.000000</td>\n",
       "      <td>59849.000000</td>\n",
       "    </tr>\n",
       "    <tr>\n",
       "      <th>mean</th>\n",
       "      <td>0.298284</td>\n",
       "      <td>0.60006</td>\n",
       "      <td>0.616869</td>\n",
       "      <td>0.631305</td>\n",
       "      <td>0.639392</td>\n",
       "    </tr>\n",
       "    <tr>\n",
       "      <th>std</th>\n",
       "      <td>0.457509</td>\n",
       "      <td>0.48989</td>\n",
       "      <td>0.486154</td>\n",
       "      <td>0.482455</td>\n",
       "      <td>0.480181</td>\n",
       "    </tr>\n",
       "    <tr>\n",
       "      <th>min</th>\n",
       "      <td>0.000000</td>\n",
       "      <td>0.00000</td>\n",
       "      <td>0.000000</td>\n",
       "      <td>0.000000</td>\n",
       "      <td>0.000000</td>\n",
       "    </tr>\n",
       "    <tr>\n",
       "      <th>25%</th>\n",
       "      <td>0.000000</td>\n",
       "      <td>0.00000</td>\n",
       "      <td>0.000000</td>\n",
       "      <td>0.000000</td>\n",
       "      <td>0.000000</td>\n",
       "    </tr>\n",
       "    <tr>\n",
       "      <th>50%</th>\n",
       "      <td>0.000000</td>\n",
       "      <td>1.00000</td>\n",
       "      <td>1.000000</td>\n",
       "      <td>1.000000</td>\n",
       "      <td>1.000000</td>\n",
       "    </tr>\n",
       "    <tr>\n",
       "      <th>75%</th>\n",
       "      <td>1.000000</td>\n",
       "      <td>1.00000</td>\n",
       "      <td>1.000000</td>\n",
       "      <td>1.000000</td>\n",
       "      <td>1.000000</td>\n",
       "    </tr>\n",
       "    <tr>\n",
       "      <th>max</th>\n",
       "      <td>1.000000</td>\n",
       "      <td>1.00000</td>\n",
       "      <td>1.000000</td>\n",
       "      <td>1.000000</td>\n",
       "      <td>1.000000</td>\n",
       "    </tr>\n",
       "  </tbody>\n",
       "</table>\n",
       "</div>"
      ],
      "text/plain": [
       "       status_binary  today_preds  one_year_preds  three_year_preds  \\\n",
       "count   59849.000000  59849.00000    59849.000000      59849.000000   \n",
       "mean        0.298284      0.60006        0.616869          0.631305   \n",
       "std         0.457509      0.48989        0.486154          0.482455   \n",
       "min         0.000000      0.00000        0.000000          0.000000   \n",
       "25%         0.000000      0.00000        0.000000          0.000000   \n",
       "50%         0.000000      1.00000        1.000000          1.000000   \n",
       "75%         1.000000      1.00000        1.000000          1.000000   \n",
       "max         1.000000      1.00000        1.000000          1.000000   \n",
       "\n",
       "       five_year_preds  \n",
       "count     59849.000000  \n",
       "mean          0.639392  \n",
       "std           0.480181  \n",
       "min           0.000000  \n",
       "25%           0.000000  \n",
       "50%           1.000000  \n",
       "75%           1.000000  \n",
       "max           1.000000  "
      ]
     },
     "execution_count": 26,
     "metadata": {},
     "output_type": "execute_result"
    }
   ],
   "source": [
    "coerced2[['status_binary','today_preds','one_year_preds','three_year_preds', 'five_year_preds']].describe()"
   ]
  },
  {
   "cell_type": "code",
   "execution_count": 27,
   "metadata": {},
   "outputs": [
    {
     "data": {
      "text/plain": [
       "(0, 23)"
      ]
     },
     "execution_count": 27,
     "metadata": {},
     "output_type": "execute_result"
    }
   ],
   "source": [
    "#check to see if it worked\n",
    "sl[(sl.status_binary==1)&(sl.status_binary<sl.today_preds)].shape"
   ]
  },
  {
   "cell_type": "code",
   "execution_count": 28,
   "metadata": {},
   "outputs": [
    {
     "data": {
      "text/plain": [
       "(18061, 48)"
      ]
     },
     "execution_count": 28,
     "metadata": {},
     "output_type": "execute_result"
    }
   ],
   "source": [
    "#how many wells that were good at time of measurement do we predict will fail within one year from today?\n",
    "coerced2[coerced2.status_binary==0][(coerced2.today_preds==1)].shape"
   ]
  },
  {
   "cell_type": "code",
   "execution_count": 29,
   "metadata": {},
   "outputs": [
    {
     "name": "stdout",
     "output_type": "stream",
     "text": [
      "(341, 23)\n"
     ]
    },
    {
     "data": {
      "text/html": [
       "<div>\n",
       "<style scoped>\n",
       "    .dataframe tbody tr th:only-of-type {\n",
       "        vertical-align: middle;\n",
       "    }\n",
       "\n",
       "    .dataframe tbody tr th {\n",
       "        vertical-align: top;\n",
       "    }\n",
       "\n",
       "    .dataframe thead th {\n",
       "        text-align: right;\n",
       "    }\n",
       "</style>\n",
       "<table border=\"1\" class=\"dataframe\">\n",
       "  <thead>\n",
       "    <tr style=\"text-align: right;\">\n",
       "      <th></th>\n",
       "      <th>water_source</th>\n",
       "      <th>water_tech</th>\n",
       "      <th>management</th>\n",
       "      <th>source</th>\n",
       "      <th>adm1</th>\n",
       "      <th>adm2</th>\n",
       "      <th>pay</th>\n",
       "      <th>lat_deg</th>\n",
       "      <th>lon_deg</th>\n",
       "      <th>new_install_year</th>\n",
       "      <th>age_well_years</th>\n",
       "      <th>time_since_meas_years</th>\n",
       "      <th>fuzzy_water_source</th>\n",
       "      <th>fuzzy_water_tech</th>\n",
       "      <th>status_binary</th>\n",
       "      <th>today_preds</th>\n",
       "      <th>today_predprob</th>\n",
       "      <th>one_year_preds</th>\n",
       "      <th>one_year_predprob</th>\n",
       "      <th>three_year_preds</th>\n",
       "      <th>three_year_predprob</th>\n",
       "      <th>five_year_preds</th>\n",
       "      <th>five_year_predprob</th>\n",
       "    </tr>\n",
       "  </thead>\n",
       "  <tbody>\n",
       "    <tr>\n",
       "      <th>127302</th>\n",
       "      <td>__MISSING__</td>\n",
       "      <td>DUG WELL</td>\n",
       "      <td>__MISSING__</td>\n",
       "      <td>DACAAR</td>\n",
       "      <td>Kabul</td>\n",
       "      <td>Bagrami</td>\n",
       "      <td>__MISSING__</td>\n",
       "      <td>34.4506</td>\n",
       "      <td>69.2185</td>\n",
       "      <td>1998-01-01 00:00:00</td>\n",
       "      <td>13.7</td>\n",
       "      <td>6.4</td>\n",
       "      <td>__MISSING__ Unknown</td>\n",
       "      <td>Well</td>\n",
       "      <td>0.0</td>\n",
       "      <td>0.0</td>\n",
       "      <td>0.491322</td>\n",
       "      <td>1.0</td>\n",
       "      <td>0.506131</td>\n",
       "      <td>1.0</td>\n",
       "      <td>0.518063</td>\n",
       "      <td>1.0</td>\n",
       "      <td>0.518063</td>\n",
       "    </tr>\n",
       "    <tr>\n",
       "      <th>127455</th>\n",
       "      <td>__MISSING__</td>\n",
       "      <td>DUG WELL</td>\n",
       "      <td>__MISSING__</td>\n",
       "      <td>DACAAR</td>\n",
       "      <td>Kabul</td>\n",
       "      <td>Paghman</td>\n",
       "      <td>__MISSING__</td>\n",
       "      <td>34.5168</td>\n",
       "      <td>68.9977</td>\n",
       "      <td>2004-01-01 00:00:00</td>\n",
       "      <td>5.8</td>\n",
       "      <td>8.4</td>\n",
       "      <td>__MISSING__ Unknown</td>\n",
       "      <td>Well</td>\n",
       "      <td>0.0</td>\n",
       "      <td>0.0</td>\n",
       "      <td>0.483285</td>\n",
       "      <td>1.0</td>\n",
       "      <td>0.532303</td>\n",
       "      <td>0.0</td>\n",
       "      <td>0.499181</td>\n",
       "      <td>1.0</td>\n",
       "      <td>0.548186</td>\n",
       "    </tr>\n",
       "    <tr>\n",
       "      <th>127474</th>\n",
       "      <td>__MISSING__</td>\n",
       "      <td>TUBE WELL</td>\n",
       "      <td>__MISSING__</td>\n",
       "      <td>DACAAR</td>\n",
       "      <td>Kabul</td>\n",
       "      <td>Bagrami</td>\n",
       "      <td>__MISSING__</td>\n",
       "      <td>34.4945</td>\n",
       "      <td>69.2754</td>\n",
       "      <td>1998-01-01 00:00:00</td>\n",
       "      <td>13.8</td>\n",
       "      <td>6.4</td>\n",
       "      <td>__MISSING__ Unknown</td>\n",
       "      <td>Tube Well</td>\n",
       "      <td>0.0</td>\n",
       "      <td>0.0</td>\n",
       "      <td>0.491727</td>\n",
       "      <td>1.0</td>\n",
       "      <td>0.506537</td>\n",
       "      <td>1.0</td>\n",
       "      <td>0.518468</td>\n",
       "      <td>1.0</td>\n",
       "      <td>0.518468</td>\n",
       "    </tr>\n",
       "    <tr>\n",
       "      <th>127496</th>\n",
       "      <td>__MISSING__</td>\n",
       "      <td>DUG WELL</td>\n",
       "      <td>__MISSING__</td>\n",
       "      <td>DACAAR</td>\n",
       "      <td>Kabul</td>\n",
       "      <td>Bagrami</td>\n",
       "      <td>__MISSING__</td>\n",
       "      <td>34.5242</td>\n",
       "      <td>69.3245</td>\n",
       "      <td>1998-01-01 00:00:00</td>\n",
       "      <td>13.8</td>\n",
       "      <td>6.4</td>\n",
       "      <td>__MISSING__ Unknown</td>\n",
       "      <td>Well</td>\n",
       "      <td>0.0</td>\n",
       "      <td>0.0</td>\n",
       "      <td>0.495320</td>\n",
       "      <td>1.0</td>\n",
       "      <td>0.510130</td>\n",
       "      <td>1.0</td>\n",
       "      <td>0.522056</td>\n",
       "      <td>1.0</td>\n",
       "      <td>0.522056</td>\n",
       "    </tr>\n",
       "    <tr>\n",
       "      <th>127504</th>\n",
       "      <td>__MISSING__</td>\n",
       "      <td>DUG WELL</td>\n",
       "      <td>__MISSING__</td>\n",
       "      <td>DACAAR</td>\n",
       "      <td>Kabul</td>\n",
       "      <td>Bagrami</td>\n",
       "      <td>__MISSING__</td>\n",
       "      <td>34.5003</td>\n",
       "      <td>69.1833</td>\n",
       "      <td>1998-01-01 00:00:00</td>\n",
       "      <td>15.1</td>\n",
       "      <td>5.1</td>\n",
       "      <td>__MISSING__ Unknown</td>\n",
       "      <td>Well</td>\n",
       "      <td>0.0</td>\n",
       "      <td>0.0</td>\n",
       "      <td>0.493314</td>\n",
       "      <td>1.0</td>\n",
       "      <td>0.513133</td>\n",
       "      <td>1.0</td>\n",
       "      <td>0.525054</td>\n",
       "      <td>1.0</td>\n",
       "      <td>0.525054</td>\n",
       "    </tr>\n",
       "    <tr>\n",
       "      <th>127565</th>\n",
       "      <td>__MISSING__</td>\n",
       "      <td>TUBE WELL</td>\n",
       "      <td>__MISSING__</td>\n",
       "      <td>DACAAR</td>\n",
       "      <td>Kabul</td>\n",
       "      <td>Dih Sabz</td>\n",
       "      <td>__MISSING__</td>\n",
       "      <td>34.7040</td>\n",
       "      <td>69.2244</td>\n",
       "      <td>2002-01-01 00:00:00</td>\n",
       "      <td>11.0</td>\n",
       "      <td>5.2</td>\n",
       "      <td>__MISSING__ Unknown</td>\n",
       "      <td>Tube Well</td>\n",
       "      <td>0.0</td>\n",
       "      <td>0.0</td>\n",
       "      <td>0.497938</td>\n",
       "      <td>1.0</td>\n",
       "      <td>0.635162</td>\n",
       "      <td>1.0</td>\n",
       "      <td>0.585193</td>\n",
       "      <td>1.0</td>\n",
       "      <td>0.620985</td>\n",
       "    </tr>\n",
       "    <tr>\n",
       "      <th>127639</th>\n",
       "      <td>__MISSING__</td>\n",
       "      <td>DUG WELL</td>\n",
       "      <td>__MISSING__</td>\n",
       "      <td>DACAAR</td>\n",
       "      <td>Kabul</td>\n",
       "      <td>Bagrami</td>\n",
       "      <td>__MISSING__</td>\n",
       "      <td>34.5167</td>\n",
       "      <td>69.3120</td>\n",
       "      <td>1998-01-01 00:00:00</td>\n",
       "      <td>13.8</td>\n",
       "      <td>6.4</td>\n",
       "      <td>__MISSING__ Unknown</td>\n",
       "      <td>Well</td>\n",
       "      <td>0.0</td>\n",
       "      <td>0.0</td>\n",
       "      <td>0.489201</td>\n",
       "      <td>1.0</td>\n",
       "      <td>0.504011</td>\n",
       "      <td>1.0</td>\n",
       "      <td>0.515944</td>\n",
       "      <td>1.0</td>\n",
       "      <td>0.515944</td>\n",
       "    </tr>\n",
       "    <tr>\n",
       "      <th>127645</th>\n",
       "      <td>__MISSING__</td>\n",
       "      <td>DUG WELL</td>\n",
       "      <td>__MISSING__</td>\n",
       "      <td>DACAAR</td>\n",
       "      <td>Kabul</td>\n",
       "      <td>Bagrami</td>\n",
       "      <td>__MISSING__</td>\n",
       "      <td>34.5167</td>\n",
       "      <td>69.3120</td>\n",
       "      <td>1998-01-01 00:00:00</td>\n",
       "      <td>12.2</td>\n",
       "      <td>8.0</td>\n",
       "      <td>__MISSING__ Unknown</td>\n",
       "      <td>Well</td>\n",
       "      <td>0.0</td>\n",
       "      <td>0.0</td>\n",
       "      <td>0.493865</td>\n",
       "      <td>1.0</td>\n",
       "      <td>0.508675</td>\n",
       "      <td>1.0</td>\n",
       "      <td>0.520603</td>\n",
       "      <td>1.0</td>\n",
       "      <td>0.520603</td>\n",
       "    </tr>\n",
       "    <tr>\n",
       "      <th>128622</th>\n",
       "      <td>__MISSING__</td>\n",
       "      <td>DUG WELL</td>\n",
       "      <td>__MISSING__</td>\n",
       "      <td>DACAAR</td>\n",
       "      <td>Kapisa</td>\n",
       "      <td>Tagab</td>\n",
       "      <td>__MISSING__</td>\n",
       "      <td>34.7925</td>\n",
       "      <td>69.6648</td>\n",
       "      <td>2002-01-01 00:00:00</td>\n",
       "      <td>1.8</td>\n",
       "      <td>14.4</td>\n",
       "      <td>__MISSING__ Unknown</td>\n",
       "      <td>Well</td>\n",
       "      <td>0.0</td>\n",
       "      <td>0.0</td>\n",
       "      <td>0.496565</td>\n",
       "      <td>1.0</td>\n",
       "      <td>0.510344</td>\n",
       "      <td>1.0</td>\n",
       "      <td>0.550891</td>\n",
       "      <td>1.0</td>\n",
       "      <td>0.562815</td>\n",
       "    </tr>\n",
       "    <tr>\n",
       "      <th>128667</th>\n",
       "      <td>__MISSING__</td>\n",
       "      <td>DUG WELL</td>\n",
       "      <td>__MISSING__</td>\n",
       "      <td>DACAAR</td>\n",
       "      <td>Kapisa</td>\n",
       "      <td>Tagab</td>\n",
       "      <td>__MISSING__</td>\n",
       "      <td>34.8429</td>\n",
       "      <td>69.6632</td>\n",
       "      <td>2004-01-01 00:00:00</td>\n",
       "      <td>2.1</td>\n",
       "      <td>12.1</td>\n",
       "      <td>__MISSING__ Unknown</td>\n",
       "      <td>Well</td>\n",
       "      <td>0.0</td>\n",
       "      <td>0.0</td>\n",
       "      <td>0.498774</td>\n",
       "      <td>1.0</td>\n",
       "      <td>0.519324</td>\n",
       "      <td>0.0</td>\n",
       "      <td>0.491376</td>\n",
       "      <td>1.0</td>\n",
       "      <td>0.518198</td>\n",
       "    </tr>\n",
       "  </tbody>\n",
       "</table>\n",
       "</div>"
      ],
      "text/plain": [
       "       water_source water_tech   management  source    adm1      adm2  \\\n",
       "127302  __MISSING__   DUG WELL  __MISSING__  DACAAR   Kabul   Bagrami   \n",
       "127455  __MISSING__   DUG WELL  __MISSING__  DACAAR   Kabul   Paghman   \n",
       "127474  __MISSING__  TUBE WELL  __MISSING__  DACAAR   Kabul   Bagrami   \n",
       "127496  __MISSING__   DUG WELL  __MISSING__  DACAAR   Kabul   Bagrami   \n",
       "127504  __MISSING__   DUG WELL  __MISSING__  DACAAR   Kabul   Bagrami   \n",
       "127565  __MISSING__  TUBE WELL  __MISSING__  DACAAR   Kabul  Dih Sabz   \n",
       "127639  __MISSING__   DUG WELL  __MISSING__  DACAAR   Kabul   Bagrami   \n",
       "127645  __MISSING__   DUG WELL  __MISSING__  DACAAR   Kabul   Bagrami   \n",
       "128622  __MISSING__   DUG WELL  __MISSING__  DACAAR  Kapisa     Tagab   \n",
       "128667  __MISSING__   DUG WELL  __MISSING__  DACAAR  Kapisa     Tagab   \n",
       "\n",
       "                pay  lat_deg  lon_deg     new_install_year  age_well_years  \\\n",
       "127302  __MISSING__  34.4506  69.2185  1998-01-01 00:00:00            13.7   \n",
       "127455  __MISSING__  34.5168  68.9977  2004-01-01 00:00:00             5.8   \n",
       "127474  __MISSING__  34.4945  69.2754  1998-01-01 00:00:00            13.8   \n",
       "127496  __MISSING__  34.5242  69.3245  1998-01-01 00:00:00            13.8   \n",
       "127504  __MISSING__  34.5003  69.1833  1998-01-01 00:00:00            15.1   \n",
       "127565  __MISSING__  34.7040  69.2244  2002-01-01 00:00:00            11.0   \n",
       "127639  __MISSING__  34.5167  69.3120  1998-01-01 00:00:00            13.8   \n",
       "127645  __MISSING__  34.5167  69.3120  1998-01-01 00:00:00            12.2   \n",
       "128622  __MISSING__  34.7925  69.6648  2002-01-01 00:00:00             1.8   \n",
       "128667  __MISSING__  34.8429  69.6632  2004-01-01 00:00:00             2.1   \n",
       "\n",
       "        time_since_meas_years   fuzzy_water_source fuzzy_water_tech  \\\n",
       "127302                    6.4  __MISSING__ Unknown             Well   \n",
       "127455                    8.4  __MISSING__ Unknown             Well   \n",
       "127474                    6.4  __MISSING__ Unknown        Tube Well   \n",
       "127496                    6.4  __MISSING__ Unknown             Well   \n",
       "127504                    5.1  __MISSING__ Unknown             Well   \n",
       "127565                    5.2  __MISSING__ Unknown        Tube Well   \n",
       "127639                    6.4  __MISSING__ Unknown             Well   \n",
       "127645                    8.0  __MISSING__ Unknown             Well   \n",
       "128622                   14.4  __MISSING__ Unknown             Well   \n",
       "128667                   12.1  __MISSING__ Unknown             Well   \n",
       "\n",
       "        status_binary  today_preds  today_predprob  one_year_preds  \\\n",
       "127302            0.0          0.0        0.491322             1.0   \n",
       "127455            0.0          0.0        0.483285             1.0   \n",
       "127474            0.0          0.0        0.491727             1.0   \n",
       "127496            0.0          0.0        0.495320             1.0   \n",
       "127504            0.0          0.0        0.493314             1.0   \n",
       "127565            0.0          0.0        0.497938             1.0   \n",
       "127639            0.0          0.0        0.489201             1.0   \n",
       "127645            0.0          0.0        0.493865             1.0   \n",
       "128622            0.0          0.0        0.496565             1.0   \n",
       "128667            0.0          0.0        0.498774             1.0   \n",
       "\n",
       "        one_year_predprob  three_year_preds  three_year_predprob  \\\n",
       "127302           0.506131               1.0             0.518063   \n",
       "127455           0.532303               0.0             0.499181   \n",
       "127474           0.506537               1.0             0.518468   \n",
       "127496           0.510130               1.0             0.522056   \n",
       "127504           0.513133               1.0             0.525054   \n",
       "127565           0.635162               1.0             0.585193   \n",
       "127639           0.504011               1.0             0.515944   \n",
       "127645           0.508675               1.0             0.520603   \n",
       "128622           0.510344               1.0             0.550891   \n",
       "128667           0.519324               0.0             0.491376   \n",
       "\n",
       "        five_year_preds  five_year_predprob  \n",
       "127302              1.0            0.518063  \n",
       "127455              1.0            0.548186  \n",
       "127474              1.0            0.518468  \n",
       "127496              1.0            0.522056  \n",
       "127504              1.0            0.525054  \n",
       "127565              1.0            0.620985  \n",
       "127639              1.0            0.515944  \n",
       "127645              1.0            0.520603  \n",
       "128622              1.0            0.562815  \n",
       "128667              1.0            0.518198  "
      ]
     },
     "execution_count": 29,
     "metadata": {},
     "output_type": "execute_result"
    }
   ],
   "source": [
    "#how many wells that were good at time of measurement do we predict will fail within one year from today?\n",
    "print(sl[sl.status_binary==0][(sl.today_preds<sl.one_year_preds)].shape)\n",
    "sl[sl.status_binary==0][(sl.today_preds<sl.one_year_preds)].tail(10)"
   ]
  },
  {
   "cell_type": "code",
   "execution_count": 30,
   "metadata": {},
   "outputs": [
    {
     "data": {
      "text/html": [
       "<div>\n",
       "<style scoped>\n",
       "    .dataframe tbody tr th:only-of-type {\n",
       "        vertical-align: middle;\n",
       "    }\n",
       "\n",
       "    .dataframe tbody tr th {\n",
       "        vertical-align: top;\n",
       "    }\n",
       "\n",
       "    .dataframe thead th {\n",
       "        text-align: right;\n",
       "    }\n",
       "</style>\n",
       "<table border=\"1\" class=\"dataframe\">\n",
       "  <thead>\n",
       "    <tr style=\"text-align: right;\">\n",
       "      <th></th>\n",
       "      <th>water_source</th>\n",
       "      <th>water_tech</th>\n",
       "      <th>management</th>\n",
       "      <th>source</th>\n",
       "      <th>adm1</th>\n",
       "      <th>adm2</th>\n",
       "      <th>pay</th>\n",
       "      <th>lat_deg</th>\n",
       "      <th>lon_deg</th>\n",
       "      <th>new_install_year</th>\n",
       "      <th>age_well_years</th>\n",
       "      <th>time_since_meas_years</th>\n",
       "      <th>fuzzy_water_source</th>\n",
       "      <th>fuzzy_water_tech</th>\n",
       "      <th>status_binary</th>\n",
       "      <th>today_preds</th>\n",
       "      <th>today_predprob</th>\n",
       "      <th>one_year_preds</th>\n",
       "      <th>one_year_predprob</th>\n",
       "      <th>three_year_preds</th>\n",
       "      <th>three_year_predprob</th>\n",
       "      <th>five_year_preds</th>\n",
       "      <th>five_year_predprob</th>\n",
       "    </tr>\n",
       "  </thead>\n",
       "  <tbody>\n",
       "    <tr>\n",
       "      <th>127510</th>\n",
       "      <td>__MISSING__</td>\n",
       "      <td>TUBE WELL</td>\n",
       "      <td>__MISSING__</td>\n",
       "      <td>DACAAR</td>\n",
       "      <td>Kabul</td>\n",
       "      <td>Dih Sabz</td>\n",
       "      <td>__MISSING__</td>\n",
       "      <td>34.6047</td>\n",
       "      <td>69.2221</td>\n",
       "      <td>2003-01-01 00:00:00</td>\n",
       "      <td>10.0</td>\n",
       "      <td>5.2</td>\n",
       "      <td>__MISSING__ Unknown</td>\n",
       "      <td>Tube Well</td>\n",
       "      <td>0.0</td>\n",
       "      <td>0.0</td>\n",
       "      <td>0.435208</td>\n",
       "      <td>0.0</td>\n",
       "      <td>0.446357</td>\n",
       "      <td>1.0</td>\n",
       "      <td>0.542729</td>\n",
       "      <td>1.0</td>\n",
       "      <td>0.564566</td>\n",
       "    </tr>\n",
       "    <tr>\n",
       "      <th>127550</th>\n",
       "      <td>__MISSING__</td>\n",
       "      <td>DUG WELL</td>\n",
       "      <td>__MISSING__</td>\n",
       "      <td>DACAAR</td>\n",
       "      <td>Kabul</td>\n",
       "      <td>Bagrami</td>\n",
       "      <td>__MISSING__</td>\n",
       "      <td>34.4972</td>\n",
       "      <td>69.1792</td>\n",
       "      <td>1998-01-01 00:00:00</td>\n",
       "      <td>15.1</td>\n",
       "      <td>5.1</td>\n",
       "      <td>__MISSING__ Unknown</td>\n",
       "      <td>Well</td>\n",
       "      <td>0.0</td>\n",
       "      <td>0.0</td>\n",
       "      <td>0.469512</td>\n",
       "      <td>0.0</td>\n",
       "      <td>0.489298</td>\n",
       "      <td>1.0</td>\n",
       "      <td>0.501236</td>\n",
       "      <td>1.0</td>\n",
       "      <td>0.501236</td>\n",
       "    </tr>\n",
       "    <tr>\n",
       "      <th>127565</th>\n",
       "      <td>__MISSING__</td>\n",
       "      <td>TUBE WELL</td>\n",
       "      <td>__MISSING__</td>\n",
       "      <td>DACAAR</td>\n",
       "      <td>Kabul</td>\n",
       "      <td>Dih Sabz</td>\n",
       "      <td>__MISSING__</td>\n",
       "      <td>34.7040</td>\n",
       "      <td>69.2244</td>\n",
       "      <td>2002-01-01 00:00:00</td>\n",
       "      <td>11.0</td>\n",
       "      <td>5.2</td>\n",
       "      <td>__MISSING__ Unknown</td>\n",
       "      <td>Tube Well</td>\n",
       "      <td>0.0</td>\n",
       "      <td>0.0</td>\n",
       "      <td>0.497938</td>\n",
       "      <td>1.0</td>\n",
       "      <td>0.635162</td>\n",
       "      <td>1.0</td>\n",
       "      <td>0.585193</td>\n",
       "      <td>1.0</td>\n",
       "      <td>0.620985</td>\n",
       "    </tr>\n",
       "    <tr>\n",
       "      <th>127639</th>\n",
       "      <td>__MISSING__</td>\n",
       "      <td>DUG WELL</td>\n",
       "      <td>__MISSING__</td>\n",
       "      <td>DACAAR</td>\n",
       "      <td>Kabul</td>\n",
       "      <td>Bagrami</td>\n",
       "      <td>__MISSING__</td>\n",
       "      <td>34.5167</td>\n",
       "      <td>69.3120</td>\n",
       "      <td>1998-01-01 00:00:00</td>\n",
       "      <td>13.8</td>\n",
       "      <td>6.4</td>\n",
       "      <td>__MISSING__ Unknown</td>\n",
       "      <td>Well</td>\n",
       "      <td>0.0</td>\n",
       "      <td>0.0</td>\n",
       "      <td>0.489201</td>\n",
       "      <td>1.0</td>\n",
       "      <td>0.504011</td>\n",
       "      <td>1.0</td>\n",
       "      <td>0.515944</td>\n",
       "      <td>1.0</td>\n",
       "      <td>0.515944</td>\n",
       "    </tr>\n",
       "    <tr>\n",
       "      <th>127645</th>\n",
       "      <td>__MISSING__</td>\n",
       "      <td>DUG WELL</td>\n",
       "      <td>__MISSING__</td>\n",
       "      <td>DACAAR</td>\n",
       "      <td>Kabul</td>\n",
       "      <td>Bagrami</td>\n",
       "      <td>__MISSING__</td>\n",
       "      <td>34.5167</td>\n",
       "      <td>69.3120</td>\n",
       "      <td>1998-01-01 00:00:00</td>\n",
       "      <td>12.2</td>\n",
       "      <td>8.0</td>\n",
       "      <td>__MISSING__ Unknown</td>\n",
       "      <td>Well</td>\n",
       "      <td>0.0</td>\n",
       "      <td>0.0</td>\n",
       "      <td>0.493865</td>\n",
       "      <td>1.0</td>\n",
       "      <td>0.508675</td>\n",
       "      <td>1.0</td>\n",
       "      <td>0.520603</td>\n",
       "      <td>1.0</td>\n",
       "      <td>0.520603</td>\n",
       "    </tr>\n",
       "    <tr>\n",
       "      <th>127927</th>\n",
       "      <td>__MISSING__</td>\n",
       "      <td>TUBE WELL</td>\n",
       "      <td>__MISSING__</td>\n",
       "      <td>DACAAR</td>\n",
       "      <td>Kandahar</td>\n",
       "      <td>Daman</td>\n",
       "      <td>__MISSING__</td>\n",
       "      <td>31.5330</td>\n",
       "      <td>65.8121</td>\n",
       "      <td>1999-01-01 00:00:00</td>\n",
       "      <td>5.0</td>\n",
       "      <td>14.2</td>\n",
       "      <td>__MISSING__ Unknown</td>\n",
       "      <td>Tube Well</td>\n",
       "      <td>0.0</td>\n",
       "      <td>0.0</td>\n",
       "      <td>0.495636</td>\n",
       "      <td>0.0</td>\n",
       "      <td>0.498115</td>\n",
       "      <td>1.0</td>\n",
       "      <td>0.503324</td>\n",
       "      <td>1.0</td>\n",
       "      <td>0.503324</td>\n",
       "    </tr>\n",
       "    <tr>\n",
       "      <th>128622</th>\n",
       "      <td>__MISSING__</td>\n",
       "      <td>DUG WELL</td>\n",
       "      <td>__MISSING__</td>\n",
       "      <td>DACAAR</td>\n",
       "      <td>Kapisa</td>\n",
       "      <td>Tagab</td>\n",
       "      <td>__MISSING__</td>\n",
       "      <td>34.7925</td>\n",
       "      <td>69.6648</td>\n",
       "      <td>2002-01-01 00:00:00</td>\n",
       "      <td>1.8</td>\n",
       "      <td>14.4</td>\n",
       "      <td>__MISSING__ Unknown</td>\n",
       "      <td>Well</td>\n",
       "      <td>0.0</td>\n",
       "      <td>0.0</td>\n",
       "      <td>0.496565</td>\n",
       "      <td>1.0</td>\n",
       "      <td>0.510344</td>\n",
       "      <td>1.0</td>\n",
       "      <td>0.550891</td>\n",
       "      <td>1.0</td>\n",
       "      <td>0.562815</td>\n",
       "    </tr>\n",
       "    <tr>\n",
       "      <th>128623</th>\n",
       "      <td>__MISSING__</td>\n",
       "      <td>DUG WELL</td>\n",
       "      <td>__MISSING__</td>\n",
       "      <td>DACAAR</td>\n",
       "      <td>Kapisa</td>\n",
       "      <td>Tagab</td>\n",
       "      <td>__MISSING__</td>\n",
       "      <td>34.8703</td>\n",
       "      <td>69.6475</td>\n",
       "      <td>2002-01-01 00:00:00</td>\n",
       "      <td>2.1</td>\n",
       "      <td>14.1</td>\n",
       "      <td>__MISSING__ Unknown</td>\n",
       "      <td>Well</td>\n",
       "      <td>0.0</td>\n",
       "      <td>0.0</td>\n",
       "      <td>0.459465</td>\n",
       "      <td>0.0</td>\n",
       "      <td>0.473181</td>\n",
       "      <td>1.0</td>\n",
       "      <td>0.513875</td>\n",
       "      <td>1.0</td>\n",
       "      <td>0.525935</td>\n",
       "    </tr>\n",
       "    <tr>\n",
       "      <th>128626</th>\n",
       "      <td>__MISSING__</td>\n",
       "      <td>DUG WELL</td>\n",
       "      <td>__MISSING__</td>\n",
       "      <td>DACAAR</td>\n",
       "      <td>Kapisa</td>\n",
       "      <td>Tagab</td>\n",
       "      <td>__MISSING__</td>\n",
       "      <td>34.8732</td>\n",
       "      <td>69.6623</td>\n",
       "      <td>2002-01-01 00:00:00</td>\n",
       "      <td>2.1</td>\n",
       "      <td>14.1</td>\n",
       "      <td>__MISSING__ Unknown</td>\n",
       "      <td>Well</td>\n",
       "      <td>0.0</td>\n",
       "      <td>0.0</td>\n",
       "      <td>0.459465</td>\n",
       "      <td>0.0</td>\n",
       "      <td>0.473181</td>\n",
       "      <td>1.0</td>\n",
       "      <td>0.513875</td>\n",
       "      <td>1.0</td>\n",
       "      <td>0.525935</td>\n",
       "    </tr>\n",
       "    <tr>\n",
       "      <th>128627</th>\n",
       "      <td>__MISSING__</td>\n",
       "      <td>DUG WELL</td>\n",
       "      <td>__MISSING__</td>\n",
       "      <td>DACAAR</td>\n",
       "      <td>Kapisa</td>\n",
       "      <td>Tagab</td>\n",
       "      <td>__MISSING__</td>\n",
       "      <td>34.7084</td>\n",
       "      <td>69.6776</td>\n",
       "      <td>2002-01-01 00:00:00</td>\n",
       "      <td>4.1</td>\n",
       "      <td>12.1</td>\n",
       "      <td>__MISSING__ Unknown</td>\n",
       "      <td>Well</td>\n",
       "      <td>0.0</td>\n",
       "      <td>0.0</td>\n",
       "      <td>0.468393</td>\n",
       "      <td>0.0</td>\n",
       "      <td>0.482138</td>\n",
       "      <td>1.0</td>\n",
       "      <td>0.508961</td>\n",
       "      <td>1.0</td>\n",
       "      <td>0.521030</td>\n",
       "    </tr>\n",
       "  </tbody>\n",
       "</table>\n",
       "</div>"
      ],
      "text/plain": [
       "       water_source water_tech   management  source      adm1      adm2  \\\n",
       "127510  __MISSING__  TUBE WELL  __MISSING__  DACAAR     Kabul  Dih Sabz   \n",
       "127550  __MISSING__   DUG WELL  __MISSING__  DACAAR     Kabul   Bagrami   \n",
       "127565  __MISSING__  TUBE WELL  __MISSING__  DACAAR     Kabul  Dih Sabz   \n",
       "127639  __MISSING__   DUG WELL  __MISSING__  DACAAR     Kabul   Bagrami   \n",
       "127645  __MISSING__   DUG WELL  __MISSING__  DACAAR     Kabul   Bagrami   \n",
       "127927  __MISSING__  TUBE WELL  __MISSING__  DACAAR  Kandahar     Daman   \n",
       "128622  __MISSING__   DUG WELL  __MISSING__  DACAAR    Kapisa     Tagab   \n",
       "128623  __MISSING__   DUG WELL  __MISSING__  DACAAR    Kapisa     Tagab   \n",
       "128626  __MISSING__   DUG WELL  __MISSING__  DACAAR    Kapisa     Tagab   \n",
       "128627  __MISSING__   DUG WELL  __MISSING__  DACAAR    Kapisa     Tagab   \n",
       "\n",
       "                pay  lat_deg  lon_deg     new_install_year  age_well_years  \\\n",
       "127510  __MISSING__  34.6047  69.2221  2003-01-01 00:00:00            10.0   \n",
       "127550  __MISSING__  34.4972  69.1792  1998-01-01 00:00:00            15.1   \n",
       "127565  __MISSING__  34.7040  69.2244  2002-01-01 00:00:00            11.0   \n",
       "127639  __MISSING__  34.5167  69.3120  1998-01-01 00:00:00            13.8   \n",
       "127645  __MISSING__  34.5167  69.3120  1998-01-01 00:00:00            12.2   \n",
       "127927  __MISSING__  31.5330  65.8121  1999-01-01 00:00:00             5.0   \n",
       "128622  __MISSING__  34.7925  69.6648  2002-01-01 00:00:00             1.8   \n",
       "128623  __MISSING__  34.8703  69.6475  2002-01-01 00:00:00             2.1   \n",
       "128626  __MISSING__  34.8732  69.6623  2002-01-01 00:00:00             2.1   \n",
       "128627  __MISSING__  34.7084  69.6776  2002-01-01 00:00:00             4.1   \n",
       "\n",
       "        time_since_meas_years   fuzzy_water_source fuzzy_water_tech  \\\n",
       "127510                    5.2  __MISSING__ Unknown        Tube Well   \n",
       "127550                    5.1  __MISSING__ Unknown             Well   \n",
       "127565                    5.2  __MISSING__ Unknown        Tube Well   \n",
       "127639                    6.4  __MISSING__ Unknown             Well   \n",
       "127645                    8.0  __MISSING__ Unknown             Well   \n",
       "127927                   14.2  __MISSING__ Unknown        Tube Well   \n",
       "128622                   14.4  __MISSING__ Unknown             Well   \n",
       "128623                   14.1  __MISSING__ Unknown             Well   \n",
       "128626                   14.1  __MISSING__ Unknown             Well   \n",
       "128627                   12.1  __MISSING__ Unknown             Well   \n",
       "\n",
       "        status_binary  today_preds  today_predprob  one_year_preds  \\\n",
       "127510            0.0          0.0        0.435208             0.0   \n",
       "127550            0.0          0.0        0.469512             0.0   \n",
       "127565            0.0          0.0        0.497938             1.0   \n",
       "127639            0.0          0.0        0.489201             1.0   \n",
       "127645            0.0          0.0        0.493865             1.0   \n",
       "127927            0.0          0.0        0.495636             0.0   \n",
       "128622            0.0          0.0        0.496565             1.0   \n",
       "128623            0.0          0.0        0.459465             0.0   \n",
       "128626            0.0          0.0        0.459465             0.0   \n",
       "128627            0.0          0.0        0.468393             0.0   \n",
       "\n",
       "        one_year_predprob  three_year_preds  three_year_predprob  \\\n",
       "127510           0.446357               1.0             0.542729   \n",
       "127550           0.489298               1.0             0.501236   \n",
       "127565           0.635162               1.0             0.585193   \n",
       "127639           0.504011               1.0             0.515944   \n",
       "127645           0.508675               1.0             0.520603   \n",
       "127927           0.498115               1.0             0.503324   \n",
       "128622           0.510344               1.0             0.550891   \n",
       "128623           0.473181               1.0             0.513875   \n",
       "128626           0.473181               1.0             0.513875   \n",
       "128627           0.482138               1.0             0.508961   \n",
       "\n",
       "        five_year_preds  five_year_predprob  \n",
       "127510              1.0            0.564566  \n",
       "127550              1.0            0.501236  \n",
       "127565              1.0            0.620985  \n",
       "127639              1.0            0.515944  \n",
       "127645              1.0            0.520603  \n",
       "127927              1.0            0.503324  \n",
       "128622              1.0            0.562815  \n",
       "128623              1.0            0.525935  \n",
       "128626              1.0            0.525935  \n",
       "128627              1.0            0.521030  "
      ]
     },
     "execution_count": 30,
     "metadata": {},
     "output_type": "execute_result"
    }
   ],
   "source": [
    "sl[sl.status_binary==0][(sl.today_preds<sl.three_year_preds)].tail(10)"
   ]
  },
  {
   "cell_type": "code",
   "execution_count": 135,
   "metadata": {
    "collapsed": true
   },
   "outputs": [],
   "source": [
    "#outputting with consistent failed wells coerced over time\n",
    "coerced.to_csv('Afghanistan_w_outyear_predictions_coerced.csv')"
   ]
  },
  {
   "cell_type": "code",
   "execution_count": 32,
   "metadata": {
    "collapsed": true
   },
   "outputs": [],
   "source": [
    "#outputting with consistent failed wells coerced over time and correct time_since_measurement_preds\n",
    "coerced2.to_csv('Afghanistan_w_outyear_predictions_coerced_correct_time2.csv')"
   ]
  },
  {
   "cell_type": "code",
   "execution_count": null,
   "metadata": {
    "collapsed": true
   },
   "outputs": [],
   "source": [
    "out."
   ]
  }
 ],
 "metadata": {
  "kernelspec": {
   "display_name": "Python 3",
   "language": "python",
   "name": "python3"
  },
  "language_info": {
   "codemirror_mode": {
    "name": "ipython",
    "version": 3
   },
   "file_extension": ".py",
   "mimetype": "text/x-python",
   "name": "python",
   "nbconvert_exporter": "python",
   "pygments_lexer": "ipython3",
   "version": "3.6.1"
  }
 },
 "nbformat": 4,
 "nbformat_minor": 2
}
