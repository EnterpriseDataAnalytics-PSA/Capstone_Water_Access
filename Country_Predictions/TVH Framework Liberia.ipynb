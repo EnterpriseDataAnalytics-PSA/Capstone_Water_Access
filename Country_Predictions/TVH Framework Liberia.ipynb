{
 "cells": [
  {
   "cell_type": "code",
   "execution_count": 1,
   "metadata": {
    "collapsed": true
   },
   "outputs": [],
   "source": [
    "import pandas as pd\n",
    "import xgboost as xgb\n",
    "from xgboost import XGBClassifier\n",
    "import numpy as np\n",
    "import sklearn as sk\n",
    "import datetime as dt\n",
    "from sklearn import model_selection\n",
    "from sklearn.preprocessing import LabelEncoder\n",
    "from sklearn import metrics\n",
    "from sklearn import ensemble\n",
    "from sklearn.metrics import confusion_matrix, mean_squared_error, auc, accuracy_score, log_loss\n",
    "from sklearn.ensemble.partial_dependence import plot_partial_dependence\n",
    "import os\n",
    "#import graphviz\n",
    "import matplotlib.pyplot as plt\n",
    "import pickle\n",
    "import timeit"
   ]
  },
  {
   "cell_type": "code",
   "execution_count": 2,
   "metadata": {
    "collapsed": true
   },
   "outputs": [],
   "source": [
    "%matplotlib inline\n",
    "# suppress warnings\n",
    "import warnings\n",
    "warnings.filterwarnings('ignore')\n",
    "\n",
    "#set display options\n",
    "pd.set_option('max_columns', 150)\n",
    "pd.set_option('max_rows', 110)"
   ]
  },
  {
   "cell_type": "code",
   "execution_count": 3,
   "metadata": {
    "collapsed": true
   },
   "outputs": [],
   "source": [
    "#set input/output paths\n",
    "#can eventually set this to the SOAPY API https://dev.socrata.com/foundry/data.waterpointdata.org/gihr-buz6\n",
    "DATA_PATH = \"~chandler.mccann/Downloads/\"\n",
    "#DATA_PATH = \"/Users/chandlermccann/Google Drive/Google Drive/Berkeley MIDS 2016/W210-Capstone_WaterProject\"\n",
    "INPUT_FILE = os.path.join(DATA_PATH, \"cleaned_water_data2.csv\") #after running prep_water_data.py\n"
   ]
  },
  {
   "cell_type": "code",
   "execution_count": 4,
   "metadata": {
    "collapsed": true
   },
   "outputs": [],
   "source": [
    "df = pd.read_csv(INPUT_FILE)"
   ]
  },
  {
   "cell_type": "code",
   "execution_count": 5,
   "metadata": {
    "collapsed": true
   },
   "outputs": [],
   "source": [
    "sl = df.loc[df.country_name=='Liberia']"
   ]
  },
  {
   "cell_type": "code",
   "execution_count": 6,
   "metadata": {},
   "outputs": [
    {
     "data": {
      "text/plain": [
       "(14028, 40)"
      ]
     },
     "execution_count": 6,
     "metadata": {},
     "output_type": "execute_result"
    }
   ],
   "source": [
    "sl.shape"
   ]
  },
  {
   "cell_type": "code",
   "execution_count": 7,
   "metadata": {
    "collapsed": true
   },
   "outputs": [],
   "source": [
    "features = ['water_source', 'water_tech', 'management',\n",
    "       'source', 'adm1', 'adm2', 'pay', 'lat_deg', 'lon_deg',\n",
    "       'new_install_year', 'age_well_years','time_since_meas_years', 'fuzzy_water_source',\n",
    "        'fuzzy_water_tech','status_binary']"
   ]
  },
  {
   "cell_type": "markdown",
   "metadata": {},
   "source": [
    "# Modeling"
   ]
  },
  {
   "cell_type": "code",
   "execution_count": 8,
   "metadata": {
    "collapsed": true
   },
   "outputs": [],
   "source": [
    "#start_time = timeit.default_timer()\n",
    "\n",
    "pred_cols = features\n",
    "\n",
    "#create a copy of the dataframe to label encode\n",
    "df2 = sl.copy()\n",
    "df2=df2[pred_cols]"
   ]
  },
  {
   "cell_type": "code",
   "execution_count": 9,
   "metadata": {},
   "outputs": [
    {
     "data": {
      "text/plain": [
       "0"
      ]
     },
     "execution_count": 9,
     "metadata": {},
     "output_type": "execute_result"
    }
   ],
   "source": [
    "#we can't have any null target values\n",
    "len(df2[df2.status_binary.isna()==True])\n"
   ]
  },
  {
   "cell_type": "code",
   "execution_count": 10,
   "metadata": {
    "collapsed": true
   },
   "outputs": [],
   "source": [
    "#eliminate null target values\n",
    "df2 = df2[pd.notnull(df['status_binary'])]"
   ]
  },
  {
   "cell_type": "code",
   "execution_count": 11,
   "metadata": {},
   "outputs": [
    {
     "data": {
      "text/plain": [
       "0"
      ]
     },
     "execution_count": 11,
     "metadata": {},
     "output_type": "execute_result"
    }
   ],
   "source": [
    "#check\n",
    "len(df2[df2.status_binary.isna()==True])\n"
   ]
  },
  {
   "cell_type": "code",
   "execution_count": 12,
   "metadata": {
    "collapsed": true
   },
   "outputs": [],
   "source": [
    "X = df2[df2.columns[:-1]] \n",
    "Y= df2.status_binary\n",
    "\n",
    "X2 = X.copy()\n",
    "\n",
    "#convert all fields to int labels for XGBoost\n",
    "lb=LabelEncoder() #instantiate label encoder\n",
    "\n",
    "#create a dict to store our inverse transforms...these allow us to convert back to the original values in our data\n",
    "#from collections import defaultdict\n",
    "#d = defaultdict(LabelEncoder)\n",
    "\n",
    "#adding this line in order to NOT select lat/lon; other int columns for label encoding\n",
    "#TO DO - If we have new data coming in we need to invert it at some point\n",
    "cols = X2.select_dtypes(include=['object']).columns\n",
    "\n",
    "# Encoding each variable\n",
    "for col in cols:\n",
    "    #lb.fit(list(X[col].fillna('___MISSING___').drop_duplicates().values) + ['___MISSING___'])\n",
    "    \n",
    "    #X2[col] = lb.transform(X2[col].fillna('___MISSING___'))\n",
    "    X2[col]= lb.fit_transform(X[col].fillna('__MISSING__'))"
   ]
  },
  {
   "cell_type": "code",
   "execution_count": 13,
   "metadata": {
    "collapsed": true
   },
   "outputs": [],
   "source": [
    "#60/20/20 Train/Test/Holdout Split\n",
    "SEED=7\n",
    "X_train, X_test_and_holdout, y_train, y_test_and_holdout = sk.model_selection.train_test_split(X2, Y,\n",
    "                                                                                        test_size=.4,\n",
    "                                                                                        stratify=Y,\n",
    "                                                                                        random_state=SEED)\n",
    "X_test, X_holdout, y_test, y_holdout = sk.model_selection.train_test_split(X_test_and_holdout,\n",
    "                                                                    y_test_and_holdout,\n",
    "                                                                    test_size=.5, \n",
    "                                                                    stratify= y_test_and_holdout,\n",
    "                                                                    random_state=SEED)"
   ]
  },
  {
   "cell_type": "code",
   "execution_count": 16,
   "metadata": {},
   "outputs": [
    {
     "name": "stdout",
     "output_type": "stream",
     "text": [
      "beggining inner CV...\n"
     ]
    },
    {
     "data": {
      "text/plain": [
       "GridSearchCV(cv=None, error_score='raise',\n",
       "       estimator=XGBClassifier(base_score=0.5, booster='gbtree', colsample_bylevel=1.0,\n",
       "       colsample_bytree=0.5, gamma=0.01, learning_rate=0.1,\n",
       "       max_delta_step=0.0, max_depth=3, min_child_weight=1.0, missing=None,\n",
       "       n_estimators=100, n_jobs=1, nthread=None,\n",
       "       objective='binary:logistic', random_state=0, reg_alpha=0,\n",
       "       reg_lambda=1.0, scale_pos_weight=1, scoring='logloss', seed=None,\n",
       "       silent=True, subsample=1),\n",
       "       fit_params={}, iid=True, n_jobs=1,\n",
       "       param_grid={'learning_rate': [0.05, 0.1], 'max_depth': [3, 5, 7], 'n_estimators': [1000, 2500]},\n",
       "       pre_dispatch='2*n_jobs', refit=True, return_train_score=True,\n",
       "       scoring=None, verbose=0)"
      ]
     },
     "execution_count": 16,
     "metadata": {},
     "output_type": "execute_result"
    }
   ],
   "source": [
    "    ##### Non-Nested Results. Use GridSerach CV on X_Train to find ideal hyper-parameters. Utilize a lot of regularizaiton\n",
    "    #### in XGBoost Settings to generalize better\n",
    "\n",
    "# Set gridsearch\n",
    "print(\"beggining inner CV...\")\n",
    "params = {'learning_rate':[0.05,.1], 'max_depth':[3,5,7], 'n_estimators':[1000, 2500]}\n",
    "model_inner = model_selection.GridSearchCV(XGBClassifier(scoring='logloss', reg_alpha=0, reg_lambda=1.0,colsample_bylevel=1.0,\n",
    "                                        colsample_bytree=0.5,gamma=0.01,min_child_weight=1.0, max_delta_step=0.0 ), params)\n",
    "model_inner.fit(X_train, y_train )"
   ]
  },
  {
   "cell_type": "code",
   "execution_count": 17,
   "metadata": {},
   "outputs": [
    {
     "name": "stdout",
     "output_type": "stream",
     "text": [
      "model fit for inner CV for Zimbabwe\n",
      "Shape of input params=  (8416, 14)\n",
      "Best searched parameters on inner CV {'learning_rate': 0.05, 'max_depth': 3, 'n_estimators': 1000}\n",
      "Best grid score on inner CV 0.815470532319\n",
      "Accuracy for inner nested_cv model : 0.8239\n",
      "AUC Score (test) for inner_nested cv_model: 0.816574\n",
      "beginning\n"
     ]
    },
    {
     "data": {
      "text/plain": [
       "XGBClassifier(base_score=0.5, booster='gbtree', colsample_bylevel=1.0,\n",
       "       colsample_bytree=0.5, gamma=0.01, learning_rate=0.05,\n",
       "       max_delta_step=0.0, max_depth=3, min_child_weight=1.0, missing=None,\n",
       "       n_estimators=1000, n_jobs=1, nthread=None,\n",
       "       objective='binary:logistic', random_state=0, reg_alpha=0,\n",
       "       reg_lambda=1.0, scale_pos_weight=1, scoring='logloss', seed=None,\n",
       "       silent=True, subsample=1)"
      ]
     },
     "execution_count": 17,
     "metadata": {},
     "output_type": "execute_result"
    }
   ],
   "source": [
    "print('model fit for inner CV for Zimbabwe')\n",
    "print('Shape of input params= ', X_train.shape)\n",
    "print('Best searched parameters on inner CV', model_inner.best_params_)\n",
    "print('Best grid score on inner CV', model_inner.best_score_)\n",
    "\n",
    "\n",
    "\n",
    "#get auc. \n",
    "preds_inner_AUC = model_inner.predict_proba(X_test)[:,1]\n",
    "preds_inner_accuracy = model_inner.predict(X_test)\n",
    "print(\"Accuracy for inner nested_cv model : %.4g\"%metrics.accuracy_score(y_test, preds_inner_accuracy))\n",
    "print(\"AUC Score (test) for inner_nested cv_model: %f\"%metrics.roc_auc_score(y_test, preds_inner_AUC))\n",
    "\n",
    "#store the best settings from our most recent, regularized XGBoost model above\n",
    "#perform early stopping\n",
    "print(\"beginning\")\n",
    "model_outer = model_inner.best_estimator_\n",
    "xgb_param =model_outer.get_xgb_params()\n",
    "xgtrain = xgb.DMatrix(X_train, label=y_train)\n",
    "#start with 2500 trees and early stop \n",
    "#use XGB cross-validation to determine our early stopping parameter\n",
    "cvresult = xgb.cv(xgb_param, xgtrain, num_boost_round=model_outer.get_params()['n_estimators'], nfold=5,\n",
    "            metrics='auc', early_stopping_rounds=200)\n",
    "#set number of trees to where early stopping occurred\n",
    "model_outer.set_params(n_estimators=cvresult.shape[0])\n",
    "\n",
    "\n",
    "#Fit the algorithm on the data\n",
    "model_outer.fit(X_train, y_train,eval_metric='auc')"
   ]
  },
  {
   "cell_type": "code",
   "execution_count": 18,
   "metadata": {},
   "outputs": [
    {
     "name": "stdout",
     "output_type": "stream",
     "text": [
      "\n",
      "Model Report\n",
      "Number of trees determined by early stopping and in final model 1000\n",
      "Accuracy for outer nested_cv model on training data: 0.8497\n",
      "AUC Score (Train) for outer nested_cv model: 0.893839\n",
      "AUC Score (Test) for outer nested_cv model: 0.816574\n",
      "AUC Score (Holdout) for outer nested_cv model: 0.809096\n",
      "Accuracy for outer nested_cv model on holdout data: 0.8115\n"
     ]
    }
   ],
   "source": [
    "#Predict training set:\n",
    "dtrain_predictions = model_outer.predict(X_train)\n",
    "dtrain_predprob = model_outer.predict_proba(X_train)[:,1]\n",
    "dtest_predprob = model_outer.predict_proba(X_test)[:,1]\n",
    "\n",
    "#predict on the holdout set\n",
    "dholdout_predprob = model_outer.predict_proba(X_holdout)[:,1]\n",
    "dholdout_predictions = model_outer.predict(X_holdout)\n",
    "\n",
    "#Print model report:\n",
    "print(\"\\nModel Report\")\n",
    "print(\"Number of trees determined by early stopping and in final model\", cvresult.shape[0])\n",
    "print(\"Accuracy for outer nested_cv model on training data: %.4g\" % metrics.accuracy_score(y_train.values, dtrain_predictions))\n",
    "print(\"AUC Score (Train) for outer nested_cv model: %f\" % metrics.roc_auc_score(y_train, dtrain_predprob))\n",
    "print(\"AUC Score (Test) for outer nested_cv model: %f\" % metrics.roc_auc_score(y_test, dtest_predprob))\n",
    "\n",
    "print(\"AUC Score (Holdout) for outer nested_cv model: %f\" % metrics.roc_auc_score(y_holdout, dholdout_predprob))\n",
    "print(\"Accuracy for outer nested_cv model on holdout data: %.4g\" % metrics.accuracy_score(y_holdout.values, \n",
    "                                                                                          dholdout_predictions))\n"
   ]
  },
  {
   "cell_type": "markdown",
   "metadata": {},
   "source": [
    "# not super stable across train to holdout. Why?"
   ]
  },
  {
   "cell_type": "code",
   "execution_count": 19,
   "metadata": {
    "collapsed": true
   },
   "outputs": [],
   "source": [
    "def get_nested_cv_preds(model, X, Y):\n",
    "    \"\"\"args: classification model object, fully numeric/ encoded X, target columns\n",
    "       returns: array of 1) binary classification predictions, 2) probabilities of class membership\"\"\"\n",
    "    #shuffle is necessary. Define same stratified k-fold as before\n",
    "    #ToDo - fix hard coding of random state, splits, \n",
    "    skf= model_selection.StratifiedKFold(n_splits=5, random_state=7, shuffle=True)\n",
    "    \n",
    "    print('full data AUC- CV score', sk.model_selection.cross_val_score(model, X, y=Y, scoring='roc_auc',cv=skf))\n",
    "    cv_results_preds = sk.model_selection.cross_val_predict(model, X, y=Y, cv=skf )\n",
    "    cv_results_probs = sk.model_selection.cross_val_predict(model, X, y=Y, cv=skf, method ='predict_proba')\n",
    "    \n",
    "    print(\"Accuracy full-data : %.4g\" % metrics.accuracy_score(Y, cv_results_preds))\n",
    "    print(\"AUC Score full-data: %f\" % metrics.roc_auc_score(Y, cv_results_probs[:,1]))\n",
    "    \n",
    "    return cv_results_preds, cv_results_probs"
   ]
  },
  {
   "cell_type": "code",
   "execution_count": 20,
   "metadata": {},
   "outputs": [
    {
     "name": "stdout",
     "output_type": "stream",
     "text": [
      "full data AUC- CV score [ 0.82340122  0.80774739  0.82841962  0.82366042  0.81670698]\n",
      "Accuracy full-data : 0.8191\n",
      "AUC Score full-data: 0.819797\n"
     ]
    },
    {
     "data": {
      "text/plain": [
       "(array([ 0.,  0.,  0., ...,  0.,  0.,  0.]), array([[ 0.72893918,  0.27106079],\n",
       "        [ 0.83218473,  0.16781528],\n",
       "        [ 0.60314655,  0.39685348],\n",
       "        ..., \n",
       "        [ 0.99763334,  0.00236667],\n",
       "        [ 0.99763334,  0.00236667],\n",
       "        [ 0.99656135,  0.00343865]], dtype=float32))"
      ]
     },
     "execution_count": 20,
     "metadata": {},
     "output_type": "execute_result"
    }
   ],
   "source": [
    "get_nested_cv_preds(model_outer,X2,Y)"
   ]
  },
  {
   "cell_type": "code",
   "execution_count": 21,
   "metadata": {
    "collapsed": true
   },
   "outputs": [],
   "source": [
    "def save_model(model, country):\n",
    "    filename = '{}_pickle.sav'.format(country)\n",
    "    pickle.dump(model, open(filename, 'wb'))\n",
    "    print('saved as', filename)"
   ]
  },
  {
   "cell_type": "code",
   "execution_count": 24,
   "metadata": {},
   "outputs": [
    {
     "name": "stdout",
     "output_type": "stream",
     "text": [
      "saved as Liberia_pickle.sav\n"
     ]
    }
   ],
   "source": [
    "name = sl.country_name.unique()[0]\n",
    "save_model(model_outer, name)"
   ]
  },
  {
   "cell_type": "code",
   "execution_count": 25,
   "metadata": {},
   "outputs": [
    {
     "data": {
      "text/plain": [
       "<matplotlib.axes._subplots.AxesSubplot at 0x11a91c048>"
      ]
     },
     "execution_count": 25,
     "metadata": {},
     "output_type": "execute_result"
    },
    {
     "data": {
      "image/png": "[encoded data removed]",
      "text/plain": [
       "<matplotlib.figure.Figure at 0x110712710>"
      ]
     },
     "metadata": {},
     "output_type": "display_data"
    }
   ],
   "source": [
    "xgb.plot_importance(model_outer)"
   ]
  },
  {
   "cell_type": "markdown",
   "metadata": {},
   "source": [
    "# we now how of our early stopped, cross-validated model. We now need to identify the ideal prediction threshold"
   ]
  },
  {
   "cell_type": "code",
   "execution_count": 26,
   "metadata": {},
   "outputs": [
    {
     "data": {
      "text/plain": [
       "<matplotlib.text.Text at 0x11b1972e8>"
      ]
     },
     "execution_count": 26,
     "metadata": {},
     "output_type": "execute_result"
    },
    {
     "data": {
      "image/png": "[encoded data removed]",
      "text/plain": [
       "<matplotlib.figure.Figure at 0x11bff0f28>"
      ]
     },
     "metadata": {},
     "output_type": "display_data"
    }
   ],
   "source": [
    "pd.DataFrame(dholdout_predprob[y_holdout==0]).hist(bins=50)\n",
    "plt.title('Prediction Distribution on holdout for good wells')\n"
   ]
  },
  {
   "cell_type": "code",
   "execution_count": 27,
   "metadata": {},
   "outputs": [
    {
     "data": {
      "text/plain": [
       "<matplotlib.text.Text at 0x11c52fd68>"
      ]
     },
     "execution_count": 27,
     "metadata": {},
     "output_type": "execute_result"
    },
    {
     "data": {
      "image/png": "[encoded data removed]",
      "text/plain": [
       "<matplotlib.figure.Figure at 0x11c2072b0>"
      ]
     },
     "metadata": {},
     "output_type": "display_data"
    }
   ],
   "source": [
    "pd.DataFrame(dholdout_predprob[y_holdout==1]).hist(bins=50)\n",
    "plt.title('Prediction Distribution on holdout for bad wells')\n"
   ]
  },
  {
   "cell_type": "code",
   "execution_count": 28,
   "metadata": {},
   "outputs": [
    {
     "data": {
      "text/plain": [
       "(array([ 0.50796031,  1.07236065,  1.52388093,  1.29812079,  1.24168076,\n",
       "         1.41100086,  1.4674409 ,  2.20116134,  2.03184124,  1.58032096,\n",
       "         1.24168076,  1.52388093,  1.07236065,  1.24168076,  1.18524072,\n",
       "         1.29812079,  1.01592062,  0.84660052,  0.84660052,  0.62084038,\n",
       "         0.90304055,  0.62084038,  0.67728041,  0.50796031,  0.67728041,\n",
       "         0.33864021,  0.1693201 ,  0.28220017,  0.28220017,  0.05644003,\n",
       "         0.56440034,  0.11288007,  0.50796031,  0.1693201 ,  0.        ,\n",
       "         0.1693201 ,  0.45152028,  0.73372045,  1.74964107,  6.547044  ]),\n",
       " array([ 0.01685654,  0.0413966 ,  0.06593665,  0.09047671,  0.11501676,\n",
       "         0.13955682,  0.16409687,  0.18863693,  0.21317698,  0.23771704,\n",
       "         0.26225709,  0.28679715,  0.3113372 ,  0.33587726,  0.36041731,\n",
       "         0.38495737,  0.40949742,  0.43403748,  0.45857753,  0.48311759,\n",
       "         0.50765764,  0.5321977 ,  0.55673775,  0.58127781,  0.60581786,\n",
       "         0.63035792,  0.65489797,  0.67943803,  0.70397808,  0.72851814,\n",
       "         0.75305819,  0.77759825,  0.8021383 ,  0.82667836,  0.85121841,\n",
       "         0.87575847,  0.90029852,  0.92483858,  0.94937863,  0.97391869,\n",
       "         0.99845874]),\n",
       " <a list of 1 Patch objects>)"
      ]
     },
     "execution_count": 28,
     "metadata": {},
     "output_type": "execute_result"
    },
    {
     "data": {
      "image/png": "[encoded data removed]",
      "text/plain": [
       "<matplotlib.figure.Figure at 0x11bfcd8d0>"
      ]
     },
     "metadata": {},
     "output_type": "display_data"
    }
   ],
   "source": [
    "\n",
    "x1 = dholdout_predprob[y_holdout==0]\n",
    "x2 = dholdout_predprob[y_holdout==1]\n",
    "\n",
    "\n",
    "kwargs = dict(histtype='stepfilled', alpha=0.3, normed=True, bins=40)\n",
    "\n",
    "plt.title('probability distribution for true negatives and true positives')\n",
    "plt.hist(x1, **kwargs)\n",
    "plt.hist(x2, **kwargs)\n"
   ]
  },
  {
   "cell_type": "markdown",
   "metadata": {},
   "source": [
    "### Some separation, will need to adjust the threshold"
   ]
  },
  {
   "cell_type": "code",
   "execution_count": 30,
   "metadata": {},
   "outputs": [
    {
     "data": {
      "text/html": [
       "<div>\n",
       "<style scoped>\n",
       "    .dataframe tbody tr th:only-of-type {\n",
       "        vertical-align: middle;\n",
       "    }\n",
       "\n",
       "    .dataframe tbody tr th {\n",
       "        vertical-align: top;\n",
       "    }\n",
       "\n",
       "    .dataframe thead th {\n",
       "        text-align: right;\n",
       "    }\n",
       "</style>\n",
       "<table border=\"1\" class=\"dataframe\">\n",
       "  <thead>\n",
       "    <tr style=\"text-align: right;\">\n",
       "      <th></th>\n",
       "      <th>recall</th>\n",
       "      <th>precision</th>\n",
       "      <th>f1_score</th>\n",
       "    </tr>\n",
       "  </thead>\n",
       "  <tbody>\n",
       "    <tr>\n",
       "      <th>0.000000</th>\n",
       "      <td>1.000000</td>\n",
       "      <td>0.256949</td>\n",
       "      <td>0.408846</td>\n",
       "    </tr>\n",
       "    <tr>\n",
       "      <th>0.026316</th>\n",
       "      <td>0.995839</td>\n",
       "      <td>0.270128</td>\n",
       "      <td>0.424978</td>\n",
       "    </tr>\n",
       "    <tr>\n",
       "      <th>0.052632</th>\n",
       "      <td>0.977809</td>\n",
       "      <td>0.295226</td>\n",
       "      <td>0.453522</td>\n",
       "    </tr>\n",
       "    <tr>\n",
       "      <th>0.078947</th>\n",
       "      <td>0.952843</td>\n",
       "      <td>0.318646</td>\n",
       "      <td>0.477581</td>\n",
       "    </tr>\n",
       "    <tr>\n",
       "      <th>0.105263</th>\n",
       "      <td>0.926491</td>\n",
       "      <td>0.349372</td>\n",
       "      <td>0.507406</td>\n",
       "    </tr>\n",
       "    <tr>\n",
       "      <th>0.131579</th>\n",
       "      <td>0.889043</td>\n",
       "      <td>0.374854</td>\n",
       "      <td>0.527355</td>\n",
       "    </tr>\n",
       "    <tr>\n",
       "      <th>0.157895</th>\n",
       "      <td>0.836338</td>\n",
       "      <td>0.403614</td>\n",
       "      <td>0.544470</td>\n",
       "    </tr>\n",
       "    <tr>\n",
       "      <th>0.184211</th>\n",
       "      <td>0.793343</td>\n",
       "      <td>0.433333</td>\n",
       "      <td>0.560510</td>\n",
       "    </tr>\n",
       "    <tr>\n",
       "      <th>0.210526</th>\n",
       "      <td>0.736477</td>\n",
       "      <td>0.464161</td>\n",
       "      <td>0.569437</td>\n",
       "    </tr>\n",
       "    <tr>\n",
       "      <th>0.236842</th>\n",
       "      <td>0.707351</td>\n",
       "      <td>0.508982</td>\n",
       "      <td>0.591991</td>\n",
       "    </tr>\n",
       "  </tbody>\n",
       "</table>\n",
       "</div>"
      ],
      "text/plain": [
       "            recall  precision  f1_score\n",
       "0.000000  1.000000   0.256949  0.408846\n",
       "0.026316  0.995839   0.270128  0.424978\n",
       "0.052632  0.977809   0.295226  0.453522\n",
       "0.078947  0.952843   0.318646  0.477581\n",
       "0.105263  0.926491   0.349372  0.507406\n",
       "0.131579  0.889043   0.374854  0.527355\n",
       "0.157895  0.836338   0.403614  0.544470\n",
       "0.184211  0.793343   0.433333  0.560510\n",
       "0.210526  0.736477   0.464161  0.569437\n",
       "0.236842  0.707351   0.508982  0.591991"
      ]
     },
     "execution_count": 30,
     "metadata": {},
     "output_type": "execute_result"
    }
   ],
   "source": [
    "#try a bunch of different prediction thresholds < 0.5 and see which one maximizes recall and F1 score\n",
    "import numpy as np\n",
    "d = dict()\n",
    "for i in np.linspace(0,0.5, num=20):\n",
    "    best = 0\n",
    "    test = np.where(dtest_predprob > i, 1,0)\n",
    "    recall = metrics.recall_score(y_test, test)\n",
    "    precision = metrics.precision_score(y_test, test)\n",
    "    f_score = metrics.f1_score(y_test, test, average='binary')\n",
    "    d[i]=recall, precision, f_score\n",
    "    \n",
    "frame = pd.DataFrame.from_dict(d, orient='index')#.columns=(['recall', 'f1_score'])\n",
    "frame.columns=(['recall','precision', 'f1_score'])\n",
    "frame[frame.recall>0.7]"
   ]
  },
  {
   "cell_type": "code",
   "execution_count": 32,
   "metadata": {},
   "outputs": [
    {
     "data": {
      "text/html": [
       "<div>\n",
       "<style scoped>\n",
       "    .dataframe tbody tr th:only-of-type {\n",
       "        vertical-align: middle;\n",
       "    }\n",
       "\n",
       "    .dataframe tbody tr th {\n",
       "        vertical-align: top;\n",
       "    }\n",
       "\n",
       "    .dataframe thead th {\n",
       "        text-align: right;\n",
       "    }\n",
       "</style>\n",
       "<table border=\"1\" class=\"dataframe\">\n",
       "  <thead>\n",
       "    <tr style=\"text-align: right;\">\n",
       "      <th></th>\n",
       "      <th>recall</th>\n",
       "      <th>precision</th>\n",
       "      <th>f1_score</th>\n",
       "    </tr>\n",
       "  </thead>\n",
       "  <tbody>\n",
       "    <tr>\n",
       "      <th>0.000000</th>\n",
       "      <td>1.000000</td>\n",
       "      <td>0.257306</td>\n",
       "      <td>0.409297</td>\n",
       "    </tr>\n",
       "    <tr>\n",
       "      <th>0.026316</th>\n",
       "      <td>0.997230</td>\n",
       "      <td>0.270270</td>\n",
       "      <td>0.425281</td>\n",
       "    </tr>\n",
       "    <tr>\n",
       "      <th>0.052632</th>\n",
       "      <td>0.977839</td>\n",
       "      <td>0.295521</td>\n",
       "      <td>0.453873</td>\n",
       "    </tr>\n",
       "    <tr>\n",
       "      <th>0.078947</th>\n",
       "      <td>0.940443</td>\n",
       "      <td>0.318630</td>\n",
       "      <td>0.475990</td>\n",
       "    </tr>\n",
       "    <tr>\n",
       "      <th>0.105263</th>\n",
       "      <td>0.901662</td>\n",
       "      <td>0.348128</td>\n",
       "      <td>0.502315</td>\n",
       "    </tr>\n",
       "    <tr>\n",
       "      <th>0.131579</th>\n",
       "      <td>0.873961</td>\n",
       "      <td>0.382193</td>\n",
       "      <td>0.531816</td>\n",
       "    </tr>\n",
       "    <tr>\n",
       "      <th>0.157895</th>\n",
       "      <td>0.836565</td>\n",
       "      <td>0.412850</td>\n",
       "      <td>0.552860</td>\n",
       "    </tr>\n",
       "    <tr>\n",
       "      <th>0.184211</th>\n",
       "      <td>0.797784</td>\n",
       "      <td>0.446166</td>\n",
       "      <td>0.572280</td>\n",
       "    </tr>\n",
       "    <tr>\n",
       "      <th>0.210526</th>\n",
       "      <td>0.740997</td>\n",
       "      <td>0.472615</td>\n",
       "      <td>0.577131</td>\n",
       "    </tr>\n",
       "    <tr>\n",
       "      <th>0.236842</th>\n",
       "      <td>0.688366</td>\n",
       "      <td>0.497497</td>\n",
       "      <td>0.577571</td>\n",
       "    </tr>\n",
       "    <tr>\n",
       "      <th>0.263158</th>\n",
       "      <td>0.646814</td>\n",
       "      <td>0.525309</td>\n",
       "      <td>0.579764</td>\n",
       "    </tr>\n",
       "    <tr>\n",
       "      <th>0.289474</th>\n",
       "      <td>0.617729</td>\n",
       "      <td>0.556804</td>\n",
       "      <td>0.585686</td>\n",
       "    </tr>\n",
       "  </tbody>\n",
       "</table>\n",
       "</div>"
      ],
      "text/plain": [
       "            recall  precision  f1_score\n",
       "0.000000  1.000000   0.257306  0.409297\n",
       "0.026316  0.997230   0.270270  0.425281\n",
       "0.052632  0.977839   0.295521  0.453873\n",
       "0.078947  0.940443   0.318630  0.475990\n",
       "0.105263  0.901662   0.348128  0.502315\n",
       "0.131579  0.873961   0.382193  0.531816\n",
       "0.157895  0.836565   0.412850  0.552860\n",
       "0.184211  0.797784   0.446166  0.572280\n",
       "0.210526  0.740997   0.472615  0.577131\n",
       "0.236842  0.688366   0.497497  0.577571\n",
       "0.263158  0.646814   0.525309  0.579764\n",
       "0.289474  0.617729   0.556804  0.585686"
      ]
     },
     "execution_count": 32,
     "metadata": {},
     "output_type": "execute_result"
    }
   ],
   "source": [
    "#try a bunch of different prediction thresholds < 0.5 and see which one maximizes recall and F1 score\n",
    "import numpy as np\n",
    "d = dict()\n",
    "for i in np.linspace(0,0.5, num=20):\n",
    "    best = 0\n",
    "    test = np.where(dholdout_predprob > i, 1,0)\n",
    "    recall = metrics.recall_score(y_holdout, test)\n",
    "    precision = metrics.precision_score(y_holdout, test)\n",
    "    f_score = metrics.f1_score(y_holdout, test, average='binary')\n",
    "    d[i]=recall, precision, f_score\n",
    "    \n",
    "frame = pd.DataFrame.from_dict(d, orient='index')#.columns=(['recall', 'f1_score'])\n",
    "frame.columns=(['recall','precision', 'f1_score'])\n",
    "frame[frame.recall>0.6]"
   ]
  },
  {
   "cell_type": "markdown",
   "metadata": {},
   "source": [
    "## Modeling Decision: Threshold of 0.237 gives a recall > 0.68 and a precision > 0.51 on both test and holdout. Will use as threshold. Not great but want to have at least a 50% chance of investigating a real bad well (prioritization) and balanced with catching as many as possible (recall)."
   ]
  },
  {
   "cell_type": "markdown",
   "metadata": {},
   "source": [
    "### Create predictions for the out years based on data"
   ]
  },
  {
   "cell_type": "code",
   "execution_count": 14,
   "metadata": {
    "collapsed": true
   },
   "outputs": [],
   "source": [
    "model_outer=pickle.load(open('Liberia_pickle.sav', 'rb'))"
   ]
  },
  {
   "cell_type": "code",
   "execution_count": 17,
   "metadata": {},
   "outputs": [
    {
     "data": {
      "text/html": [
       "<div>\n",
       "<style scoped>\n",
       "    .dataframe tbody tr th:only-of-type {\n",
       "        vertical-align: middle;\n",
       "    }\n",
       "\n",
       "    .dataframe tbody tr th {\n",
       "        vertical-align: top;\n",
       "    }\n",
       "\n",
       "    .dataframe thead th {\n",
       "        text-align: right;\n",
       "    }\n",
       "</style>\n",
       "<table border=\"1\" class=\"dataframe\">\n",
       "  <thead>\n",
       "    <tr style=\"text-align: right;\">\n",
       "      <th></th>\n",
       "      <th>water_source</th>\n",
       "      <th>water_tech</th>\n",
       "      <th>management</th>\n",
       "      <th>source</th>\n",
       "      <th>adm1</th>\n",
       "      <th>adm2</th>\n",
       "      <th>pay</th>\n",
       "      <th>lat_deg</th>\n",
       "      <th>lon_deg</th>\n",
       "      <th>new_install_year</th>\n",
       "      <th>age_well_years</th>\n",
       "      <th>time_since_meas_years</th>\n",
       "      <th>fuzzy_water_source</th>\n",
       "      <th>fuzzy_water_tech</th>\n",
       "    </tr>\n",
       "  </thead>\n",
       "  <tbody>\n",
       "    <tr>\n",
       "      <th>103493</th>\n",
       "      <td>5</td>\n",
       "      <td>0</td>\n",
       "      <td>0</td>\n",
       "      <td>1</td>\n",
       "      <td>7</td>\n",
       "      <td>112</td>\n",
       "      <td>3</td>\n",
       "      <td>8.36505</td>\n",
       "      <td>-9.79305</td>\n",
       "      <td>36</td>\n",
       "      <td>11.2</td>\n",
       "      <td>8.2</td>\n",
       "      <td>7</td>\n",
       "      <td>0</td>\n",
       "    </tr>\n",
       "  </tbody>\n",
       "</table>\n",
       "</div>"
      ],
      "text/plain": [
       "        water_source  water_tech  management  source  adm1  adm2  pay  \\\n",
       "103493             5           0           0       1     7   112    3   \n",
       "\n",
       "        lat_deg  lon_deg  new_install_year  age_well_years  \\\n",
       "103493  8.36505 -9.79305                36            11.2   \n",
       "\n",
       "        time_since_meas_years  fuzzy_water_source  fuzzy_water_tech  \n",
       "103493                    8.2                   7                 0  "
      ]
     },
     "execution_count": 17,
     "metadata": {},
     "output_type": "execute_result"
    }
   ],
   "source": [
    "X_today = X2.copy()\n",
    "X_today['age_well_years'] = X_today.age_well_years + X_today.time_since_meas_years\n",
    "X_today[:1]"
   ]
  },
  {
   "cell_type": "code",
   "execution_count": 18,
   "metadata": {
    "collapsed": true
   },
   "outputs": [],
   "source": [
    "#make two other future values to predict, 1 year and 5 years\n",
    "X_1year = X_today.copy()\n",
    "X_1year['age_well_years'] = X_1year.age_well_years + 1\n",
    "X_3year = X_1year.copy()\n",
    "X_3year['age_well_years']=X_3year.age_well_years+2\n",
    "X_5year = X_1year.copy()\n",
    "X_5year['age_well_years']=X_5year.age_well_years+4"
   ]
  },
  {
   "cell_type": "code",
   "execution_count": 19,
   "metadata": {},
   "outputs": [
    {
     "name": "stdout",
     "output_type": "stream",
     "text": [
      "        age_well_years  time_since_meas_years\n",
      "103493             3.0                    8.2\n",
      "103493    11.2\n",
      "Name: age_well_years, dtype: float64\n",
      "103493    12.2\n",
      "Name: age_well_years, dtype: float64\n",
      "103493    14.2\n",
      "Name: age_well_years, dtype: float64\n",
      "103493    16.2\n",
      "Name: age_well_years, dtype: float64\n"
     ]
    }
   ],
   "source": [
    "print(X2[['age_well_years', 'time_since_meas_years']][:1])\n",
    "print(X_today['age_well_years'][:1])\n",
    "print(X_1year['age_well_years'][:1])\n",
    "print(X_3year['age_well_years'][:1])\n",
    "print(X_5year['age_well_years'][:1])"
   ]
  },
  {
   "cell_type": "markdown",
   "metadata": {},
   "source": [
    "# Get Predictions for Today, 1, 3 and 5 years out"
   ]
  },
  {
   "cell_type": "code",
   "execution_count": 20,
   "metadata": {
    "collapsed": true
   },
   "outputs": [],
   "source": [
    "today_preds = model_outer.predict(X_today)\n",
    "today_predprob = model_outer.predict_proba(X_today)\n",
    "one_year_preds = model_outer.predict(X_1year)\n",
    "one_year_predprob = model_outer.predict_proba(X_1year)\n",
    "three_year_preds = model_outer.predict(X_3year)\n",
    "three_year_predprob = model_outer.predict_proba(X_3year)\n",
    "five_year_preds = model_outer.predict(X_5year)\n",
    "five_year_predprob = model_outer.predict_proba(X_5year)"
   ]
  },
  {
   "cell_type": "code",
   "execution_count": 21,
   "metadata": {
    "collapsed": true
   },
   "outputs": [],
   "source": [
    "# append them to the original df\n",
    "#erroring, since we had to drop a few NaN rows\n",
    "sl = df2\n",
    "sl['today_preds']=today_preds\n",
    "sl['today_predprob']= today_predprob[:,1]\n",
    "sl['one_year_preds'] = one_year_preds\n",
    "sl['one_year_predprob'] = one_year_predprob[:,1]\n",
    "sl['three_year_preds'] = three_year_preds\n",
    "sl['three_year_predprob']= three_year_predprob[:,1]\n",
    "sl['five_year_preds']=five_year_preds\n",
    "sl['five_year_predprob'] =five_year_predprob[:,1]"
   ]
  },
  {
   "cell_type": "code",
   "execution_count": 39,
   "metadata": {},
   "outputs": [
    {
     "data": {
      "text/html": [
       "<div>\n",
       "<style scoped>\n",
       "    .dataframe tbody tr th:only-of-type {\n",
       "        vertical-align: middle;\n",
       "    }\n",
       "\n",
       "    .dataframe tbody tr th {\n",
       "        vertical-align: top;\n",
       "    }\n",
       "\n",
       "    .dataframe thead th {\n",
       "        text-align: right;\n",
       "    }\n",
       "</style>\n",
       "<table border=\"1\" class=\"dataframe\">\n",
       "  <thead>\n",
       "    <tr style=\"text-align: right;\">\n",
       "      <th></th>\n",
       "      <th>status_binary</th>\n",
       "      <th>today_preds</th>\n",
       "      <th>one_year_preds</th>\n",
       "      <th>three_year_preds</th>\n",
       "      <th>five_year_preds</th>\n",
       "    </tr>\n",
       "  </thead>\n",
       "  <tbody>\n",
       "    <tr>\n",
       "      <th>count</th>\n",
       "      <td>14028.000000</td>\n",
       "      <td>14028.000000</td>\n",
       "      <td>14028.000000</td>\n",
       "      <td>14028.000000</td>\n",
       "      <td>14028.000000</td>\n",
       "    </tr>\n",
       "    <tr>\n",
       "      <th>mean</th>\n",
       "      <td>0.257129</td>\n",
       "      <td>0.165669</td>\n",
       "      <td>0.212218</td>\n",
       "      <td>0.098090</td>\n",
       "      <td>0.092601</td>\n",
       "    </tr>\n",
       "    <tr>\n",
       "      <th>std</th>\n",
       "      <td>0.437066</td>\n",
       "      <td>0.371796</td>\n",
       "      <td>0.408893</td>\n",
       "      <td>0.297446</td>\n",
       "      <td>0.289882</td>\n",
       "    </tr>\n",
       "    <tr>\n",
       "      <th>min</th>\n",
       "      <td>0.000000</td>\n",
       "      <td>0.000000</td>\n",
       "      <td>0.000000</td>\n",
       "      <td>0.000000</td>\n",
       "      <td>0.000000</td>\n",
       "    </tr>\n",
       "    <tr>\n",
       "      <th>25%</th>\n",
       "      <td>0.000000</td>\n",
       "      <td>0.000000</td>\n",
       "      <td>0.000000</td>\n",
       "      <td>0.000000</td>\n",
       "      <td>0.000000</td>\n",
       "    </tr>\n",
       "    <tr>\n",
       "      <th>50%</th>\n",
       "      <td>0.000000</td>\n",
       "      <td>0.000000</td>\n",
       "      <td>0.000000</td>\n",
       "      <td>0.000000</td>\n",
       "      <td>0.000000</td>\n",
       "    </tr>\n",
       "    <tr>\n",
       "      <th>75%</th>\n",
       "      <td>1.000000</td>\n",
       "      <td>0.000000</td>\n",
       "      <td>0.000000</td>\n",
       "      <td>0.000000</td>\n",
       "      <td>0.000000</td>\n",
       "    </tr>\n",
       "    <tr>\n",
       "      <th>max</th>\n",
       "      <td>1.000000</td>\n",
       "      <td>1.000000</td>\n",
       "      <td>1.000000</td>\n",
       "      <td>1.000000</td>\n",
       "      <td>1.000000</td>\n",
       "    </tr>\n",
       "  </tbody>\n",
       "</table>\n",
       "</div>"
      ],
      "text/plain": [
       "       status_binary   today_preds  one_year_preds  three_year_preds  \\\n",
       "count   14028.000000  14028.000000    14028.000000      14028.000000   \n",
       "mean        0.257129      0.165669        0.212218          0.098090   \n",
       "std         0.437066      0.371796        0.408893          0.297446   \n",
       "min         0.000000      0.000000        0.000000          0.000000   \n",
       "25%         0.000000      0.000000        0.000000          0.000000   \n",
       "50%         0.000000      0.000000        0.000000          0.000000   \n",
       "75%         1.000000      0.000000        0.000000          0.000000   \n",
       "max         1.000000      1.000000        1.000000          1.000000   \n",
       "\n",
       "       five_year_preds  \n",
       "count     14028.000000  \n",
       "mean          0.092601  \n",
       "std           0.289882  \n",
       "min           0.000000  \n",
       "25%           0.000000  \n",
       "50%           0.000000  \n",
       "75%           0.000000  \n",
       "max           1.000000  "
      ]
     },
     "execution_count": 39,
     "metadata": {},
     "output_type": "execute_result"
    }
   ],
   "source": [
    "#old way with out corrected time to measure\n",
    "sl[['status_binary','today_preds','one_year_preds','three_year_preds', 'five_year_preds']].describe()"
   ]
  },
  {
   "cell_type": "code",
   "execution_count": 23,
   "metadata": {},
   "outputs": [
    {
     "data": {
      "text/html": [
       "<div>\n",
       "<style scoped>\n",
       "    .dataframe tbody tr th:only-of-type {\n",
       "        vertical-align: middle;\n",
       "    }\n",
       "\n",
       "    .dataframe tbody tr th {\n",
       "        vertical-align: top;\n",
       "    }\n",
       "\n",
       "    .dataframe thead th {\n",
       "        text-align: right;\n",
       "    }\n",
       "</style>\n",
       "<table border=\"1\" class=\"dataframe\">\n",
       "  <thead>\n",
       "    <tr style=\"text-align: right;\">\n",
       "      <th></th>\n",
       "      <th>status_binary</th>\n",
       "      <th>today_preds</th>\n",
       "      <th>one_year_preds</th>\n",
       "      <th>three_year_preds</th>\n",
       "      <th>five_year_preds</th>\n",
       "    </tr>\n",
       "  </thead>\n",
       "  <tbody>\n",
       "    <tr>\n",
       "      <th>count</th>\n",
       "      <td>14028.000000</td>\n",
       "      <td>14028.000000</td>\n",
       "      <td>14028.000000</td>\n",
       "      <td>14028.000000</td>\n",
       "      <td>14028.000000</td>\n",
       "    </tr>\n",
       "    <tr>\n",
       "      <th>mean</th>\n",
       "      <td>0.257129</td>\n",
       "      <td>0.165669</td>\n",
       "      <td>0.166667</td>\n",
       "      <td>0.166809</td>\n",
       "      <td>0.166453</td>\n",
       "    </tr>\n",
       "    <tr>\n",
       "      <th>std</th>\n",
       "      <td>0.437066</td>\n",
       "      <td>0.371796</td>\n",
       "      <td>0.372691</td>\n",
       "      <td>0.372819</td>\n",
       "      <td>0.372500</td>\n",
       "    </tr>\n",
       "    <tr>\n",
       "      <th>min</th>\n",
       "      <td>0.000000</td>\n",
       "      <td>0.000000</td>\n",
       "      <td>0.000000</td>\n",
       "      <td>0.000000</td>\n",
       "      <td>0.000000</td>\n",
       "    </tr>\n",
       "    <tr>\n",
       "      <th>25%</th>\n",
       "      <td>0.000000</td>\n",
       "      <td>0.000000</td>\n",
       "      <td>0.000000</td>\n",
       "      <td>0.000000</td>\n",
       "      <td>0.000000</td>\n",
       "    </tr>\n",
       "    <tr>\n",
       "      <th>50%</th>\n",
       "      <td>0.000000</td>\n",
       "      <td>0.000000</td>\n",
       "      <td>0.000000</td>\n",
       "      <td>0.000000</td>\n",
       "      <td>0.000000</td>\n",
       "    </tr>\n",
       "    <tr>\n",
       "      <th>75%</th>\n",
       "      <td>1.000000</td>\n",
       "      <td>0.000000</td>\n",
       "      <td>0.000000</td>\n",
       "      <td>0.000000</td>\n",
       "      <td>0.000000</td>\n",
       "    </tr>\n",
       "    <tr>\n",
       "      <th>max</th>\n",
       "      <td>1.000000</td>\n",
       "      <td>1.000000</td>\n",
       "      <td>1.000000</td>\n",
       "      <td>1.000000</td>\n",
       "      <td>1.000000</td>\n",
       "    </tr>\n",
       "  </tbody>\n",
       "</table>\n",
       "</div>"
      ],
      "text/plain": [
       "       status_binary   today_preds  one_year_preds  three_year_preds  \\\n",
       "count   14028.000000  14028.000000    14028.000000      14028.000000   \n",
       "mean        0.257129      0.165669        0.166667          0.166809   \n",
       "std         0.437066      0.371796        0.372691          0.372819   \n",
       "min         0.000000      0.000000        0.000000          0.000000   \n",
       "25%         0.000000      0.000000        0.000000          0.000000   \n",
       "50%         0.000000      0.000000        0.000000          0.000000   \n",
       "75%         1.000000      0.000000        0.000000          0.000000   \n",
       "max         1.000000      1.000000        1.000000          1.000000   \n",
       "\n",
       "       five_year_preds  \n",
       "count     14028.000000  \n",
       "mean          0.166453  \n",
       "std           0.372500  \n",
       "min           0.000000  \n",
       "25%           0.000000  \n",
       "50%           0.000000  \n",
       "75%           0.000000  \n",
       "max           1.000000  "
      ]
     },
     "execution_count": 23,
     "metadata": {},
     "output_type": "execute_result"
    }
   ],
   "source": [
    "#with corrected time to measure\n",
    "sl[['status_binary','today_preds','one_year_preds','three_year_preds', 'five_year_preds']].describe()"
   ]
  },
  {
   "cell_type": "markdown",
   "metadata": {},
   "source": [
    "# 0.5 threshold won't do, setting a modeling decision of > 90% recall for our prediction threshold"
   ]
  },
  {
   "cell_type": "code",
   "execution_count": 24,
   "metadata": {
    "collapsed": true
   },
   "outputs": [],
   "source": [
    "threshold = 0.237\n",
    "#recall > 90%, we want to catch all of the bad wells\n",
    "sl['today_preds']=np.where(today_predprob[:,1]>threshold,1,0)\n",
    "sl['today_predprob']= today_predprob[:,1]\n",
    "sl['one_year_preds'] = np.where(one_year_predprob[:,1]>threshold,1,0)\n",
    "sl['one_year_predprob'] = one_year_predprob[:,1]\n",
    "sl['five_year_preds']=np.where(five_year_predprob[:,1]>threshold,1,0)\n",
    "sl['five_year_predprob'] =five_year_predprob[:,1]"
   ]
  },
  {
   "cell_type": "code",
   "execution_count": 41,
   "metadata": {},
   "outputs": [
    {
     "data": {
      "text/html": [
       "<div>\n",
       "<style scoped>\n",
       "    .dataframe tbody tr th:only-of-type {\n",
       "        vertical-align: middle;\n",
       "    }\n",
       "\n",
       "    .dataframe tbody tr th {\n",
       "        vertical-align: top;\n",
       "    }\n",
       "\n",
       "    .dataframe thead th {\n",
       "        text-align: right;\n",
       "    }\n",
       "</style>\n",
       "<table border=\"1\" class=\"dataframe\">\n",
       "  <thead>\n",
       "    <tr style=\"text-align: right;\">\n",
       "      <th></th>\n",
       "      <th>status_binary</th>\n",
       "      <th>today_preds</th>\n",
       "      <th>one_year_preds</th>\n",
       "      <th>three_year_preds</th>\n",
       "      <th>five_year_preds</th>\n",
       "    </tr>\n",
       "  </thead>\n",
       "  <tbody>\n",
       "    <tr>\n",
       "      <th>count</th>\n",
       "      <td>14028.000000</td>\n",
       "      <td>14028.000000</td>\n",
       "      <td>14028.000000</td>\n",
       "      <td>14028.000000</td>\n",
       "      <td>14028.000000</td>\n",
       "    </tr>\n",
       "    <tr>\n",
       "      <th>mean</th>\n",
       "      <td>0.257129</td>\n",
       "      <td>0.455375</td>\n",
       "      <td>0.508198</td>\n",
       "      <td>0.098090</td>\n",
       "      <td>0.245580</td>\n",
       "    </tr>\n",
       "    <tr>\n",
       "      <th>std</th>\n",
       "      <td>0.437066</td>\n",
       "      <td>0.498022</td>\n",
       "      <td>0.499951</td>\n",
       "      <td>0.297446</td>\n",
       "      <td>0.430446</td>\n",
       "    </tr>\n",
       "    <tr>\n",
       "      <th>min</th>\n",
       "      <td>0.000000</td>\n",
       "      <td>0.000000</td>\n",
       "      <td>0.000000</td>\n",
       "      <td>0.000000</td>\n",
       "      <td>0.000000</td>\n",
       "    </tr>\n",
       "    <tr>\n",
       "      <th>25%</th>\n",
       "      <td>0.000000</td>\n",
       "      <td>0.000000</td>\n",
       "      <td>0.000000</td>\n",
       "      <td>0.000000</td>\n",
       "      <td>0.000000</td>\n",
       "    </tr>\n",
       "    <tr>\n",
       "      <th>50%</th>\n",
       "      <td>0.000000</td>\n",
       "      <td>0.000000</td>\n",
       "      <td>1.000000</td>\n",
       "      <td>0.000000</td>\n",
       "      <td>0.000000</td>\n",
       "    </tr>\n",
       "    <tr>\n",
       "      <th>75%</th>\n",
       "      <td>1.000000</td>\n",
       "      <td>1.000000</td>\n",
       "      <td>1.000000</td>\n",
       "      <td>0.000000</td>\n",
       "      <td>0.000000</td>\n",
       "    </tr>\n",
       "    <tr>\n",
       "      <th>max</th>\n",
       "      <td>1.000000</td>\n",
       "      <td>1.000000</td>\n",
       "      <td>1.000000</td>\n",
       "      <td>1.000000</td>\n",
       "      <td>1.000000</td>\n",
       "    </tr>\n",
       "  </tbody>\n",
       "</table>\n",
       "</div>"
      ],
      "text/plain": [
       "       status_binary   today_preds  one_year_preds  three_year_preds  \\\n",
       "count   14028.000000  14028.000000    14028.000000      14028.000000   \n",
       "mean        0.257129      0.455375        0.508198          0.098090   \n",
       "std         0.437066      0.498022        0.499951          0.297446   \n",
       "min         0.000000      0.000000        0.000000          0.000000   \n",
       "25%         0.000000      0.000000        0.000000          0.000000   \n",
       "50%         0.000000      0.000000        1.000000          0.000000   \n",
       "75%         1.000000      1.000000        1.000000          0.000000   \n",
       "max         1.000000      1.000000        1.000000          1.000000   \n",
       "\n",
       "       five_year_preds  \n",
       "count     14028.000000  \n",
       "mean          0.245580  \n",
       "std           0.430446  \n",
       "min           0.000000  \n",
       "25%           0.000000  \n",
       "50%           0.000000  \n",
       "75%           0.000000  \n",
       "max           1.000000  "
      ]
     },
     "execution_count": 41,
     "metadata": {},
     "output_type": "execute_result"
    }
   ],
   "source": [
    "#old way without corrected time to measure\n",
    "sl[['status_binary','today_preds','one_year_preds','three_year_preds', 'five_year_preds']].describe()"
   ]
  },
  {
   "cell_type": "code",
   "execution_count": 25,
   "metadata": {},
   "outputs": [
    {
     "data": {
      "text/html": [
       "<div>\n",
       "<style scoped>\n",
       "    .dataframe tbody tr th:only-of-type {\n",
       "        vertical-align: middle;\n",
       "    }\n",
       "\n",
       "    .dataframe tbody tr th {\n",
       "        vertical-align: top;\n",
       "    }\n",
       "\n",
       "    .dataframe thead th {\n",
       "        text-align: right;\n",
       "    }\n",
       "</style>\n",
       "<table border=\"1\" class=\"dataframe\">\n",
       "  <thead>\n",
       "    <tr style=\"text-align: right;\">\n",
       "      <th></th>\n",
       "      <th>status_binary</th>\n",
       "      <th>today_preds</th>\n",
       "      <th>one_year_preds</th>\n",
       "      <th>three_year_preds</th>\n",
       "      <th>five_year_preds</th>\n",
       "    </tr>\n",
       "  </thead>\n",
       "  <tbody>\n",
       "    <tr>\n",
       "      <th>count</th>\n",
       "      <td>14028.000000</td>\n",
       "      <td>14028.000000</td>\n",
       "      <td>14028.000000</td>\n",
       "      <td>14028.000000</td>\n",
       "      <td>14028.000000</td>\n",
       "    </tr>\n",
       "    <tr>\n",
       "      <th>mean</th>\n",
       "      <td>0.257129</td>\n",
       "      <td>0.455375</td>\n",
       "      <td>0.457799</td>\n",
       "      <td>0.166809</td>\n",
       "      <td>0.456159</td>\n",
       "    </tr>\n",
       "    <tr>\n",
       "      <th>std</th>\n",
       "      <td>0.437066</td>\n",
       "      <td>0.498022</td>\n",
       "      <td>0.498234</td>\n",
       "      <td>0.372819</td>\n",
       "      <td>0.498092</td>\n",
       "    </tr>\n",
       "    <tr>\n",
       "      <th>min</th>\n",
       "      <td>0.000000</td>\n",
       "      <td>0.000000</td>\n",
       "      <td>0.000000</td>\n",
       "      <td>0.000000</td>\n",
       "      <td>0.000000</td>\n",
       "    </tr>\n",
       "    <tr>\n",
       "      <th>25%</th>\n",
       "      <td>0.000000</td>\n",
       "      <td>0.000000</td>\n",
       "      <td>0.000000</td>\n",
       "      <td>0.000000</td>\n",
       "      <td>0.000000</td>\n",
       "    </tr>\n",
       "    <tr>\n",
       "      <th>50%</th>\n",
       "      <td>0.000000</td>\n",
       "      <td>0.000000</td>\n",
       "      <td>0.000000</td>\n",
       "      <td>0.000000</td>\n",
       "      <td>0.000000</td>\n",
       "    </tr>\n",
       "    <tr>\n",
       "      <th>75%</th>\n",
       "      <td>1.000000</td>\n",
       "      <td>1.000000</td>\n",
       "      <td>1.000000</td>\n",
       "      <td>0.000000</td>\n",
       "      <td>1.000000</td>\n",
       "    </tr>\n",
       "    <tr>\n",
       "      <th>max</th>\n",
       "      <td>1.000000</td>\n",
       "      <td>1.000000</td>\n",
       "      <td>1.000000</td>\n",
       "      <td>1.000000</td>\n",
       "      <td>1.000000</td>\n",
       "    </tr>\n",
       "  </tbody>\n",
       "</table>\n",
       "</div>"
      ],
      "text/plain": [
       "       status_binary   today_preds  one_year_preds  three_year_preds  \\\n",
       "count   14028.000000  14028.000000    14028.000000      14028.000000   \n",
       "mean        0.257129      0.455375        0.457799          0.166809   \n",
       "std         0.437066      0.498022        0.498234          0.372819   \n",
       "min         0.000000      0.000000        0.000000          0.000000   \n",
       "25%         0.000000      0.000000        0.000000          0.000000   \n",
       "50%         0.000000      0.000000        0.000000          0.000000   \n",
       "75%         1.000000      1.000000        1.000000          0.000000   \n",
       "max         1.000000      1.000000        1.000000          1.000000   \n",
       "\n",
       "       five_year_preds  \n",
       "count     14028.000000  \n",
       "mean          0.456159  \n",
       "std           0.498092  \n",
       "min           0.000000  \n",
       "25%           0.000000  \n",
       "50%           0.000000  \n",
       "75%           1.000000  \n",
       "max           1.000000  "
      ]
     },
     "execution_count": 25,
     "metadata": {},
     "output_type": "execute_result"
    }
   ],
   "source": [
    "#with corrected time to measure\n",
    "sl[['status_binary','today_preds','one_year_preds','three_year_preds', 'five_year_preds']].describe()"
   ]
  },
  {
   "cell_type": "code",
   "execution_count": 26,
   "metadata": {},
   "outputs": [
    {
     "data": {
      "text/plain": [
       "(40, 23)"
      ]
     },
     "execution_count": 26,
     "metadata": {},
     "output_type": "execute_result"
    }
   ],
   "source": [
    "#how many wells that were good at time of measurement do we predict will fail within one year from today?\n",
    "sl[sl.status_binary==0][(sl.today_preds<sl.one_year_preds)].shape"
   ]
  },
  {
   "cell_type": "code",
   "execution_count": 27,
   "metadata": {},
   "outputs": [
    {
     "data": {
      "text/plain": [
       "(0, 23)"
      ]
     },
     "execution_count": 27,
     "metadata": {},
     "output_type": "execute_result"
    }
   ],
   "source": [
    "#how many wells that were good at time of measurement do we predict will fail within one year from today?\n",
    "sl[sl.status_binary==0][(sl.today_preds<sl.one_year_preds)&(sl.one_year_preds<sl.three_year_preds)].shape"
   ]
  },
  {
   "cell_type": "code",
   "execution_count": 28,
   "metadata": {},
   "outputs": [
    {
     "name": "stdout",
     "output_type": "stream",
     "text": [
      "             precision    recall  f1-score   support\n",
      "\n",
      "        0.0       0.82      0.96      0.88      2084\n",
      "        1.0       0.77      0.39      0.51       722\n",
      "\n",
      "avg / total       0.80      0.81      0.79      2806\n",
      "\n"
     ]
    }
   ],
   "source": [
    "print(metrics.classification_report(y_holdout, dholdout_predictions))"
   ]
  },
  {
   "cell_type": "code",
   "execution_count": 46,
   "metadata": {
    "collapsed": true
   },
   "outputs": [],
   "source": [
    "sl.to_csv('Liberia_w_outyear_predictions.csv')"
   ]
  },
  {
   "cell_type": "code",
   "execution_count": 47,
   "metadata": {},
   "outputs": [
    {
     "data": {
      "text/plain": [
       "(14028, 24)"
      ]
     },
     "execution_count": 47,
     "metadata": {},
     "output_type": "execute_result"
    }
   ],
   "source": [
    "pd.read_csv('Liberia_w_outyear_predictions.csv').shape"
   ]
  },
  {
   "cell_type": "code",
   "execution_count": 80,
   "metadata": {
    "collapsed": true
   },
   "outputs": [],
   "source": [
    "def permutation_importances(model, X_train, y_train, metric):\n",
    "    baseline = metric( y_train.values,model.predict_proba(X_train))\n",
    "    imp = []\n",
    "    for col in X_train.columns:\n",
    "        save = X_train[col].copy() #store the original\n",
    "        X_train[col] = np.random.permutation(X_train[col]) #shuffle each column\n",
    "        m = metric( y_train.values,model.predict_proba(X_train)) #make predictions\n",
    "        X_train[col] = save # return it back to normal\n",
    "        imp.append(baseline - m) # if \n",
    "    return np.array(imp)"
   ]
  },
  {
   "cell_type": "code",
   "execution_count": 100,
   "metadata": {},
   "outputs": [
    {
     "data": {
      "text/plain": [
       "<matplotlib.axes._subplots.AxesSubplot at 0x11f5e82e8>"
      ]
     },
     "execution_count": 100,
     "metadata": {},
     "output_type": "execute_result"
    },
    {
     "data": {
      "image/png": "[encoded data removed]",
      "text/plain": [
       "<matplotlib.figure.Figure at 0x11fcc6400>"
      ]
     },
     "metadata": {},
     "output_type": "display_data"
    }
   ],
   "source": [
    "imp = permutation_importances(model_outer, X_test, y_test, metrics.log_loss)\n",
    "\n",
    "pd.DataFrame(data=abs(imp), index=X_test.columns).sort_values(by=0).plot(kind='barh')"
   ]
  },
  {
   "cell_type": "markdown",
   "metadata": {},
   "source": [
    "# Ensure that if a well is ever bad, all subsequent measurements are bad, too"
   ]
  },
  {
   "cell_type": "code",
   "execution_count": 29,
   "metadata": {
    "collapsed": true
   },
   "outputs": [],
   "source": [
    "def append_outyear_predictions(original_df, threshold, today_predprob, one_year_predprob, three_year_predprob, five_year_predprob):\n",
    "    sl = original_df.copy()\n",
    "    #ensures if a well was ever bad, it is bad in the future\n",
    "    sl['today_preds']=np.where(sl.status_binary==1,1,np.where(today_predprob[:,1]>threshold,1,0))\n",
    "    sl['today_predprob']= today_predprob[:,1]\n",
    "    sl['one_year_preds'] = np.where(np.max(sl[['status_binary','today_preds']], axis = 1)>0,\n",
    "                                    1,np.where(one_year_predprob[:,1]>threshold,1,0))\n",
    "    sl['one_year_predprob'] = one_year_predprob[:,1]\n",
    "    sl['three_year_preds'] = np.where(np.max(sl[['status_binary','today_preds', 'one_year_preds']], axis = 1)>0,1,\n",
    "                                      np.where(three_year_predprob[:,1]>threshold,1,0))\n",
    "    sl['three_year_predprob']= three_year_predprob[:,1]\n",
    "    sl['five_year_preds']=np.where(np.max(sl[['status_binary','today_preds', 'one_year_preds', 'three_year_preds']], axis = 1)>0,\n",
    "                                   1,np.where(five_year_predprob[:,1]>threshold,1,0))\n",
    "    sl['five_year_predprob'] =five_year_predprob[:,1]\n",
    "    \n",
    "    \n",
    "    return sl"
   ]
  },
  {
   "cell_type": "code",
   "execution_count": 30,
   "metadata": {
    "collapsed": true
   },
   "outputs": [],
   "source": [
    "liberia = df.loc[df.country_name=='Liberia']"
   ]
  },
  {
   "cell_type": "code",
   "execution_count": 31,
   "metadata": {},
   "outputs": [],
   "source": [
    "#liberia.groupby('installer').size()"
   ]
  },
  {
   "cell_type": "code",
   "execution_count": 116,
   "metadata": {
    "collapsed": true
   },
   "outputs": [],
   "source": [
    "#old results\n",
    "coerced = append_outyear_predictions(liberia, 0.237, today_predprob, one_year_predprob, three_year_predprob, five_year_predprob)"
   ]
  },
  {
   "cell_type": "code",
   "execution_count": 32,
   "metadata": {
    "collapsed": true
   },
   "outputs": [],
   "source": [
    "#new results with adjusted time to measure\n",
    "coerced2 = append_outyear_predictions(liberia, 0.237, today_predprob, one_year_predprob, three_year_predprob, five_year_predprob)"
   ]
  },
  {
   "cell_type": "code",
   "execution_count": 118,
   "metadata": {},
   "outputs": [
    {
     "data": {
      "text/html": [
       "<div>\n",
       "<style scoped>\n",
       "    .dataframe tbody tr th:only-of-type {\n",
       "        vertical-align: middle;\n",
       "    }\n",
       "\n",
       "    .dataframe tbody tr th {\n",
       "        vertical-align: top;\n",
       "    }\n",
       "\n",
       "    .dataframe thead th {\n",
       "        text-align: right;\n",
       "    }\n",
       "</style>\n",
       "<table border=\"1\" class=\"dataframe\">\n",
       "  <thead>\n",
       "    <tr style=\"text-align: right;\">\n",
       "      <th></th>\n",
       "      <th>status_binary</th>\n",
       "      <th>today_preds</th>\n",
       "      <th>one_year_preds</th>\n",
       "      <th>three_year_preds</th>\n",
       "      <th>five_year_preds</th>\n",
       "    </tr>\n",
       "  </thead>\n",
       "  <tbody>\n",
       "    <tr>\n",
       "      <th>count</th>\n",
       "      <td>14028.000000</td>\n",
       "      <td>14028.000000</td>\n",
       "      <td>14028.000000</td>\n",
       "      <td>14028.000000</td>\n",
       "      <td>14028.000000</td>\n",
       "    </tr>\n",
       "    <tr>\n",
       "      <th>mean</th>\n",
       "      <td>0.257129</td>\n",
       "      <td>0.499287</td>\n",
       "      <td>0.559239</td>\n",
       "      <td>0.559239</td>\n",
       "      <td>0.559239</td>\n",
       "    </tr>\n",
       "    <tr>\n",
       "      <th>std</th>\n",
       "      <td>0.437066</td>\n",
       "      <td>0.500017</td>\n",
       "      <td>0.496496</td>\n",
       "      <td>0.496496</td>\n",
       "      <td>0.496496</td>\n",
       "    </tr>\n",
       "    <tr>\n",
       "      <th>min</th>\n",
       "      <td>0.000000</td>\n",
       "      <td>0.000000</td>\n",
       "      <td>0.000000</td>\n",
       "      <td>0.000000</td>\n",
       "      <td>0.000000</td>\n",
       "    </tr>\n",
       "    <tr>\n",
       "      <th>25%</th>\n",
       "      <td>0.000000</td>\n",
       "      <td>0.000000</td>\n",
       "      <td>0.000000</td>\n",
       "      <td>0.000000</td>\n",
       "      <td>0.000000</td>\n",
       "    </tr>\n",
       "    <tr>\n",
       "      <th>50%</th>\n",
       "      <td>0.000000</td>\n",
       "      <td>0.000000</td>\n",
       "      <td>1.000000</td>\n",
       "      <td>1.000000</td>\n",
       "      <td>1.000000</td>\n",
       "    </tr>\n",
       "    <tr>\n",
       "      <th>75%</th>\n",
       "      <td>1.000000</td>\n",
       "      <td>1.000000</td>\n",
       "      <td>1.000000</td>\n",
       "      <td>1.000000</td>\n",
       "      <td>1.000000</td>\n",
       "    </tr>\n",
       "    <tr>\n",
       "      <th>max</th>\n",
       "      <td>1.000000</td>\n",
       "      <td>1.000000</td>\n",
       "      <td>1.000000</td>\n",
       "      <td>1.000000</td>\n",
       "      <td>1.000000</td>\n",
       "    </tr>\n",
       "  </tbody>\n",
       "</table>\n",
       "</div>"
      ],
      "text/plain": [
       "       status_binary   today_preds  one_year_preds  three_year_preds  \\\n",
       "count   14028.000000  14028.000000    14028.000000      14028.000000   \n",
       "mean        0.257129      0.499287        0.559239          0.559239   \n",
       "std         0.437066      0.500017        0.496496          0.496496   \n",
       "min         0.000000      0.000000        0.000000          0.000000   \n",
       "25%         0.000000      0.000000        0.000000          0.000000   \n",
       "50%         0.000000      0.000000        1.000000          1.000000   \n",
       "75%         1.000000      1.000000        1.000000          1.000000   \n",
       "max         1.000000      1.000000        1.000000          1.000000   \n",
       "\n",
       "       five_year_preds  \n",
       "count     14028.000000  \n",
       "mean          0.559239  \n",
       "std           0.496496  \n",
       "min           0.000000  \n",
       "25%           0.000000  \n",
       "50%           1.000000  \n",
       "75%           1.000000  \n",
       "max           1.000000  "
      ]
     },
     "execution_count": 118,
     "metadata": {},
     "output_type": "execute_result"
    }
   ],
   "source": [
    "#old results\n",
    "coerced[['status_binary','today_preds','one_year_preds','three_year_preds', 'five_year_preds']].describe()"
   ]
  },
  {
   "cell_type": "code",
   "execution_count": 33,
   "metadata": {},
   "outputs": [
    {
     "data": {
      "text/html": [
       "<div>\n",
       "<style scoped>\n",
       "    .dataframe tbody tr th:only-of-type {\n",
       "        vertical-align: middle;\n",
       "    }\n",
       "\n",
       "    .dataframe tbody tr th {\n",
       "        vertical-align: top;\n",
       "    }\n",
       "\n",
       "    .dataframe thead th {\n",
       "        text-align: right;\n",
       "    }\n",
       "</style>\n",
       "<table border=\"1\" class=\"dataframe\">\n",
       "  <thead>\n",
       "    <tr style=\"text-align: right;\">\n",
       "      <th></th>\n",
       "      <th>status_binary</th>\n",
       "      <th>today_preds</th>\n",
       "      <th>one_year_preds</th>\n",
       "      <th>three_year_preds</th>\n",
       "      <th>five_year_preds</th>\n",
       "    </tr>\n",
       "  </thead>\n",
       "  <tbody>\n",
       "    <tr>\n",
       "      <th>count</th>\n",
       "      <td>14028.000000</td>\n",
       "      <td>14028.000000</td>\n",
       "      <td>14028.000000</td>\n",
       "      <td>14028.000000</td>\n",
       "      <td>14028.000000</td>\n",
       "    </tr>\n",
       "    <tr>\n",
       "      <th>mean</th>\n",
       "      <td>0.257129</td>\n",
       "      <td>0.499287</td>\n",
       "      <td>0.502139</td>\n",
       "      <td>0.506202</td>\n",
       "      <td>0.508483</td>\n",
       "    </tr>\n",
       "    <tr>\n",
       "      <th>std</th>\n",
       "      <td>0.437066</td>\n",
       "      <td>0.500017</td>\n",
       "      <td>0.500013</td>\n",
       "      <td>0.499979</td>\n",
       "      <td>0.499946</td>\n",
       "    </tr>\n",
       "    <tr>\n",
       "      <th>min</th>\n",
       "      <td>0.000000</td>\n",
       "      <td>0.000000</td>\n",
       "      <td>0.000000</td>\n",
       "      <td>0.000000</td>\n",
       "      <td>0.000000</td>\n",
       "    </tr>\n",
       "    <tr>\n",
       "      <th>25%</th>\n",
       "      <td>0.000000</td>\n",
       "      <td>0.000000</td>\n",
       "      <td>0.000000</td>\n",
       "      <td>0.000000</td>\n",
       "      <td>0.000000</td>\n",
       "    </tr>\n",
       "    <tr>\n",
       "      <th>50%</th>\n",
       "      <td>0.000000</td>\n",
       "      <td>0.000000</td>\n",
       "      <td>1.000000</td>\n",
       "      <td>1.000000</td>\n",
       "      <td>1.000000</td>\n",
       "    </tr>\n",
       "    <tr>\n",
       "      <th>75%</th>\n",
       "      <td>1.000000</td>\n",
       "      <td>1.000000</td>\n",
       "      <td>1.000000</td>\n",
       "      <td>1.000000</td>\n",
       "      <td>1.000000</td>\n",
       "    </tr>\n",
       "    <tr>\n",
       "      <th>max</th>\n",
       "      <td>1.000000</td>\n",
       "      <td>1.000000</td>\n",
       "      <td>1.000000</td>\n",
       "      <td>1.000000</td>\n",
       "      <td>1.000000</td>\n",
       "    </tr>\n",
       "  </tbody>\n",
       "</table>\n",
       "</div>"
      ],
      "text/plain": [
       "       status_binary   today_preds  one_year_preds  three_year_preds  \\\n",
       "count   14028.000000  14028.000000    14028.000000      14028.000000   \n",
       "mean        0.257129      0.499287        0.502139          0.506202   \n",
       "std         0.437066      0.500017        0.500013          0.499979   \n",
       "min         0.000000      0.000000        0.000000          0.000000   \n",
       "25%         0.000000      0.000000        0.000000          0.000000   \n",
       "50%         0.000000      0.000000        1.000000          1.000000   \n",
       "75%         1.000000      1.000000        1.000000          1.000000   \n",
       "max         1.000000      1.000000        1.000000          1.000000   \n",
       "\n",
       "       five_year_preds  \n",
       "count     14028.000000  \n",
       "mean          0.508483  \n",
       "std           0.499946  \n",
       "min           0.000000  \n",
       "25%           0.000000  \n",
       "50%           1.000000  \n",
       "75%           1.000000  \n",
       "max           1.000000  "
      ]
     },
     "execution_count": 33,
     "metadata": {},
     "output_type": "execute_result"
    }
   ],
   "source": [
    "#new results with adjusted time to measure\n",
    "coerced2[['status_binary','today_preds','one_year_preds','three_year_preds', 'five_year_preds']].describe()"
   ]
  },
  {
   "cell_type": "code",
   "execution_count": 36,
   "metadata": {},
   "outputs": [
    {
     "name": "stdout",
     "output_type": "stream",
     "text": [
      "(40, 48)\n"
     ]
    }
   ],
   "source": [
    "#num wells working at time of measuremen, predicted to work today, but not in one year\n",
    "print(coerced2[coerced2.status_binary==0][(coerced2.today_preds<coerced2.one_year_preds)].shape)"
   ]
  },
  {
   "cell_type": "code",
   "execution_count": 119,
   "metadata": {
    "collapsed": true
   },
   "outputs": [],
   "source": [
    "coerced.to_csv('Liberia_w_outyear_predictions_coerced.csv')"
   ]
  },
  {
   "cell_type": "code",
   "execution_count": 37,
   "metadata": {
    "collapsed": true
   },
   "outputs": [],
   "source": [
    "coerced2.to_csv('Liberia_w_outyear_predictions_coerced_correct_time2.csv')"
   ]
  },
  {
   "cell_type": "code",
   "execution_count": null,
   "metadata": {
    "collapsed": true
   },
   "outputs": [],
   "source": []
  }
 ],
 "metadata": {
  "kernelspec": {
   "display_name": "Python 3",
   "language": "python",
   "name": "python3"
  },
  "language_info": {
   "codemirror_mode": {
    "name": "ipython",
    "version": 3
   },
   "file_extension": ".py",
   "mimetype": "text/x-python",
   "name": "python",
   "nbconvert_exporter": "python",
   "pygments_lexer": "ipython3",
   "version": "3.6.1"
  }
 },
 "nbformat": 4,
 "nbformat_minor": 2
}
