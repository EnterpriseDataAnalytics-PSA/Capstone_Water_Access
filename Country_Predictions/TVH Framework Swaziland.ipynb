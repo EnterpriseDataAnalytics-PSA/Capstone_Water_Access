{
 "cells": [
  {
   "cell_type": "code",
   "execution_count": 30,
   "metadata": {
    "collapsed": true
   },
   "outputs": [],
   "source": [
    "import pandas as pd\n",
    "import xgboost as xgb\n",
    "from xgboost import XGBClassifier\n",
    "import numpy as np\n",
    "import sklearn as sk\n",
    "import datetime as dt\n",
    "from sklearn import model_selection\n",
    "from sklearn.preprocessing import LabelEncoder\n",
    "from sklearn import metrics\n",
    "from sklearn import ensemble\n",
    "from sklearn.metrics import confusion_matrix, mean_squared_error, auc, accuracy_score, log_loss\n",
    "from sklearn.ensemble.partial_dependence import plot_partial_dependence\n",
    "import os\n",
    "#import graphviz\n",
    "import matplotlib.pyplot as plt\n",
    "import pickle\n",
    "import timeit"
   ]
  },
  {
   "cell_type": "code",
   "execution_count": 31,
   "metadata": {
    "collapsed": true
   },
   "outputs": [],
   "source": [
    "%matplotlib inline\n",
    "# suppress warnings\n",
    "import warnings\n",
    "warnings.filterwarnings('ignore')\n",
    "\n",
    "#set display options\n",
    "pd.set_option('max_columns', 150)\n",
    "pd.set_option('max_rows', 110)"
   ]
  },
  {
   "cell_type": "code",
   "execution_count": 32,
   "metadata": {
    "collapsed": true
   },
   "outputs": [],
   "source": [
    "#set input/output paths\n",
    "#can eventually set this to the SOAPY API https://dev.socrata.com/foundry/data.waterpointdata.org/gihr-buz6\n",
    "DATA_PATH = \"~chandler.mccann/Downloads/\"\n",
    "#DATA_PATH = \"/Users/chandlermccann/Google Drive/Google Drive/Berkeley MIDS 2016/W210-Capstone_WaterProject\"\n",
    "INPUT_FILE = os.path.join(DATA_PATH, \"cleaned_water_data2.csv\") #after running prep_water_data.py\n"
   ]
  },
  {
   "cell_type": "code",
   "execution_count": 33,
   "metadata": {
    "collapsed": true
   },
   "outputs": [],
   "source": [
    "df = pd.read_csv(INPUT_FILE)"
   ]
  },
  {
   "cell_type": "code",
   "execution_count": 34,
   "metadata": {
    "collapsed": true
   },
   "outputs": [],
   "source": [
    "sl = df.loc[df.country_name=='Swaziland']"
   ]
  },
  {
   "cell_type": "code",
   "execution_count": 35,
   "metadata": {},
   "outputs": [
    {
     "data": {
      "text/plain": [
       "(23784, 40)"
      ]
     },
     "execution_count": 35,
     "metadata": {},
     "output_type": "execute_result"
    }
   ],
   "source": [
    "sl.shape"
   ]
  },
  {
   "cell_type": "code",
   "execution_count": 36,
   "metadata": {
    "collapsed": true
   },
   "outputs": [],
   "source": [
    "features = ['water_source', 'water_tech', 'management',\n",
    "       'source', 'adm1', 'adm2', 'pay', 'lat_deg', 'lon_deg',\n",
    "       'new_install_year', 'age_well_years','time_since_meas_years', 'fuzzy_water_source',\n",
    "        'fuzzy_water_tech','status_binary']"
   ]
  },
  {
   "cell_type": "markdown",
   "metadata": {},
   "source": [
    "# Modeling"
   ]
  },
  {
   "cell_type": "code",
   "execution_count": 37,
   "metadata": {
    "collapsed": true
   },
   "outputs": [],
   "source": [
    "#start_time = timeit.default_timer()\n",
    "\n",
    "pred_cols = features\n",
    "\n",
    "#create a copy of the dataframe to label encode\n",
    "df2 = sl.copy()\n",
    "df2=df2[pred_cols]"
   ]
  },
  {
   "cell_type": "code",
   "execution_count": 38,
   "metadata": {
    "collapsed": true
   },
   "outputs": [],
   "source": [
    "X = df2[df2.columns[:-1]] \n",
    "Y= df2.status_binary\n",
    "\n",
    "X2 = X.copy()\n",
    "\n",
    "#convert all fields to int labels for XGBoost\n",
    "lb=LabelEncoder() #instantiate label encoder\n",
    "\n",
    "#create a dict to store our inverse transforms...these allow us to convert back to the original values in our data\n",
    "#from collections import defaultdict\n",
    "#d = defaultdict(LabelEncoder)\n",
    "\n",
    "#adding this line in order to NOT select lat/lon; other int columns for label encoding\n",
    "#TO DO - If we have new data coming in we need to invert it at some point\n",
    "cols = X2.select_dtypes(include=['object']).columns\n",
    "\n",
    "# Encoding each variable\n",
    "for col in cols:\n",
    "    #lb.fit(list(X[col].fillna('___MISSING___').drop_duplicates().values) + ['___MISSING___'])\n",
    "    \n",
    "    #X2[col] = lb.transform(X2[col].fillna('___MISSING___'))\n",
    "    X2[col]= lb.fit_transform(X[col].fillna('__MISSING__'))"
   ]
  },
  {
   "cell_type": "code",
   "execution_count": 39,
   "metadata": {
    "collapsed": true
   },
   "outputs": [],
   "source": [
    "#60/20/20 Train/Test/Holdout Split\n",
    "SEED=7\n",
    "X_train, X_test_and_holdout, y_train, y_test_and_holdout = sk.model_selection.train_test_split(X2, Y,\n",
    "                                                                                        test_size=.4,\n",
    "                                                                                        stratify=Y,\n",
    "                                                                                        random_state=SEED)\n",
    "X_test, X_holdout, y_test, y_holdout = sk.model_selection.train_test_split(X_test_and_holdout,\n",
    "                                                                    y_test_and_holdout,\n",
    "                                                                    test_size=.5, \n",
    "                                                                    stratify= y_test_and_holdout,\n",
    "                                                                    random_state=SEED)"
   ]
  },
  {
   "cell_type": "code",
   "execution_count": 23,
   "metadata": {},
   "outputs": [
    {
     "name": "stdout",
     "output_type": "stream",
     "text": [
      "beggining inner CV...\n"
     ]
    },
    {
     "data": {
      "text/plain": [
       "GridSearchCV(cv=None, error_score='raise',\n",
       "       estimator=XGBClassifier(base_score=0.5, booster='gbtree', colsample_bylevel=1.0,\n",
       "       colsample_bytree=0.5, gamma=0.01, learning_rate=0.1,\n",
       "       max_delta_step=0.0, max_depth=3, min_child_weight=1.0, missing=None,\n",
       "       n_estimators=100, n_jobs=1, nthread=None,\n",
       "       objective='binary:logistic', random_state=0, reg_alpha=0,\n",
       "       reg_lambda=1.0, scale_pos_weight=1, scoring='logloss', seed=None,\n",
       "       silent=True, subsample=1),\n",
       "       fit_params={}, iid=True, n_jobs=1,\n",
       "       param_grid={'learning_rate': [0.05, 0.1], 'max_depth': [3, 5, 7], 'n_estimators': [1000, 2500]},\n",
       "       pre_dispatch='2*n_jobs', refit=True, return_train_score=True,\n",
       "       scoring=None, verbose=0)"
      ]
     },
     "execution_count": 23,
     "metadata": {},
     "output_type": "execute_result"
    }
   ],
   "source": [
    "    ##### Non-Nested Results. Use GridSerach CV on X_Train to find ideal hyper-parameters. Utilize a lot of regularizaiton\n",
    "    #### in XGBoost Settings to generalize better\n",
    "\n",
    "# Set gridsearch\n",
    "print(\"beggining inner CV...\")\n",
    "params = {'learning_rate':[0.05,.1], 'max_depth':[3,5,7], 'n_estimators':[1000, 2500]}\n",
    "model_inner = model_selection.GridSearchCV(XGBClassifier(scoring='logloss', reg_alpha=0, reg_lambda=1.0,colsample_bylevel=1.0,\n",
    "                                        colsample_bytree=0.5,gamma=0.01,min_child_weight=1.0, max_delta_step=0.0 ), params)\n",
    "model_inner.fit(X_train, y_train )"
   ]
  },
  {
   "cell_type": "code",
   "execution_count": 24,
   "metadata": {},
   "outputs": [
    {
     "name": "stdout",
     "output_type": "stream",
     "text": [
      "model fit for inner CV for Sierra Leone\n",
      "Shape of input params=  (14270, 14)\n",
      "Best searched parameters on inner CV {'learning_rate': 0.1, 'max_depth': 7, 'n_estimators': 2500}\n",
      "Best grid score on inner CV 0.980939032936\n",
      "Accuracy for inner nested_cv model : 0.9802\n",
      "AUC Score (test) for inner_nested cv_model: 0.994809\n",
      "beginning\n"
     ]
    },
    {
     "data": {
      "text/plain": [
       "XGBClassifier(base_score=0.5, booster='gbtree', colsample_bylevel=1.0,\n",
       "       colsample_bytree=0.5, gamma=0.01, learning_rate=0.1,\n",
       "       max_delta_step=0.0, max_depth=7, min_child_weight=1.0, missing=None,\n",
       "       n_estimators=302, n_jobs=1, nthread=None,\n",
       "       objective='binary:logistic', random_state=0, reg_alpha=0,\n",
       "       reg_lambda=1.0, scale_pos_weight=1, scoring='logloss', seed=None,\n",
       "       silent=True, subsample=1)"
      ]
     },
     "execution_count": 24,
     "metadata": {},
     "output_type": "execute_result"
    }
   ],
   "source": [
    "print('model fit for inner CV for Sierra Leone')\n",
    "print('Shape of input params= ', X_train.shape)\n",
    "print('Best searched parameters on inner CV', model_inner.best_params_)\n",
    "print('Best grid score on inner CV', model_inner.best_score_)\n",
    "\n",
    "\n",
    "\n",
    "#get auc. \n",
    "preds_inner_AUC = model_inner.predict_proba(X_test)[:,1]\n",
    "preds_inner_accuracy = model_inner.predict(X_test)\n",
    "print(\"Accuracy for inner nested_cv model : %.4g\"%metrics.accuracy_score(y_test, preds_inner_accuracy))\n",
    "print(\"AUC Score (test) for inner_nested cv_model: %f\"%metrics.roc_auc_score(y_test, preds_inner_AUC))\n",
    "\n",
    "#store the best settings from our most recent, regularized XGBoost model above\n",
    "#perform early stopping\n",
    "print(\"beginning\")\n",
    "model_outer = model_inner.best_estimator_\n",
    "xgb_param =model_outer.get_xgb_params()\n",
    "xgtrain = xgb.DMatrix(X_train, label=y_train)\n",
    "#start with 2500 trees and early stop \n",
    "#use XGB cross-validation to determine our early stopping parameter\n",
    "cvresult = xgb.cv(xgb_param, xgtrain, num_boost_round=model_outer.get_params()['n_estimators'], nfold=5,\n",
    "            metrics='auc', early_stopping_rounds=200)\n",
    "#set number of trees to where early stopping occurred\n",
    "model_outer.set_params(n_estimators=cvresult.shape[0])\n",
    "\n",
    "\n",
    "#Fit the algorithm on the data\n",
    "model_outer.fit(X_train, y_train,eval_metric='auc')"
   ]
  },
  {
   "cell_type": "code",
   "execution_count": 106,
   "metadata": {},
   "outputs": [
    {
     "name": "stdout",
     "output_type": "stream",
     "text": [
      "\n",
      "Model Report\n",
      "Accuracy for outer nested_cv model on training data: 0.9994\n",
      "AUC Score (Train) for outer nested_cv model: 0.999999\n",
      "AUC Score (Test) for outer nested_cv model: 0.995923\n",
      "AUC Score (Holdout) for outer nested_cv model: 0.996857\n",
      "Accuracy for outer nested_cv model on holdout data: 0.9819\n"
     ]
    }
   ],
   "source": [
    "#Predict training set:\n",
    "dtrain_predictions = model_outer.predict(X_train)\n",
    "dtrain_predprob = model_outer.predict_proba(X_train)[:,1]\n",
    "dtest_predprob = model_outer.predict_proba(X_test)[:,1]\n",
    "\n",
    "#predict on the holdout set\n",
    "dholdout_predprob = model_outer.predict_proba(X_holdout)[:,1]\n",
    "dholdout_predictions = model_outer.predict(X_holdout)\n",
    "\n",
    "#Print model report:\n",
    "print(\"\\nModel Report\")\n",
    "#print(\"Number of trees determined by early stopping and in final model\", cvresult.shape[0])\n",
    "print(\"Accuracy for outer nested_cv model on training data: %.4g\" % metrics.accuracy_score(y_train.values, dtrain_predictions))\n",
    "print(\"AUC Score (Train) for outer nested_cv model: %f\" % metrics.roc_auc_score(y_train, dtrain_predprob))\n",
    "print(\"AUC Score (Test) for outer nested_cv model: %f\" % metrics.roc_auc_score(y_test, dtest_predprob))\n",
    "\n",
    "print(\"AUC Score (Holdout) for outer nested_cv model: %f\" % metrics.roc_auc_score(y_holdout, dholdout_predprob))\n",
    "print(\"Accuracy for outer nested_cv model on holdout data: %.4g\" % metrics.accuracy_score(y_holdout.values, \n",
    "                                                                                          dholdout_predictions))\n"
   ]
  },
  {
   "cell_type": "code",
   "execution_count": 12,
   "metadata": {},
   "outputs": [
    {
     "name": "stdout",
     "output_type": "stream",
     "text": [
      "\n",
      "Model Report\n",
      "Accuracy for outer nested_cv model on training data: 0.9994\n",
      "AUC Score (Train) for outer nested_cv model: 0.999999\n",
      "AUC Score (Test) for outer nested_cv model: 0.995923\n",
      "AUC Score (Holdout) for outer nested_cv model: 0.996857\n",
      "Accuracy for outer nested_cv model on holdout data: 0.9819\n"
     ]
    }
   ],
   "source": [
    "#Predict training set:\n",
    "dtrain_predictions = model_outer.predict(X_train)\n",
    "dtrain_predprob = model_outer.predict_proba(X_train)[:,1]\n",
    "dtest_predprob = model_outer.predict_proba(X_test)[:,1]\n",
    "\n",
    "#predict on the holdout set\n",
    "dholdout_predprob = model_outer.predict_proba(X_holdout)[:,1]\n",
    "dholdout_predictions = model_outer.predict(X_holdout)\n",
    "\n",
    "#Print model report:\n",
    "print(\"\\nModel Report\")\n",
    "#print(\"Number of trees determined by early stopping and in final model\", cvresult.shape[0])\n",
    "print(\"Accuracy for outer nested_cv model on training data: %.4g\" % metrics.accuracy_score(y_train.values, dtrain_predictions))\n",
    "print(\"AUC Score (Train) for outer nested_cv model: %f\" % metrics.roc_auc_score(y_train, dtrain_predprob))\n",
    "print(\"AUC Score (Test) for outer nested_cv model: %f\" % metrics.roc_auc_score(y_test, dtest_predprob))\n",
    "\n",
    "print(\"AUC Score (Holdout) for outer nested_cv model: %f\" % metrics.roc_auc_score(y_holdout, dholdout_predprob))\n",
    "print(\"Accuracy for outer nested_cv model on holdout data: %.4g\" % metrics.accuracy_score(y_holdout.values, \n",
    "                                                                                          dholdout_predictions))\n"
   ]
  },
  {
   "cell_type": "code",
   "execution_count": 26,
   "metadata": {
    "collapsed": true
   },
   "outputs": [],
   "source": [
    "def get_nested_cv_preds(model, X, Y):\n",
    "    \"\"\"args: classification model object, fully numeric/ encoded X, target columns\n",
    "       returns: array of 1) binary classification predictions, 2) probabilities of class membership\"\"\"\n",
    "    #shuffle is necessary. Define same stratified k-fold as before\n",
    "    #ToDo - fix hard coding of random state, splits, \n",
    "    skf= model_selection.StratifiedKFold(n_splits=5, random_state=7, shuffle=True)\n",
    "    \n",
    "    print('full data AUC- CV score', sk.model_selection.cross_val_score(model, X, y=Y, scoring='roc_auc',cv=skf))\n",
    "    cv_results_preds = sk.model_selection.cross_val_predict(model, X, y=Y, cv=skf )\n",
    "    cv_results_probs = sk.model_selection.cross_val_predict(model, X, y=Y, cv=skf, method ='predict_proba')\n",
    "    \n",
    "    print(\"Accuracy full-data : %.4g\" % metrics.accuracy_score(Y, cv_results_preds))\n",
    "    print(\"AUC Score full-data: %f\" % metrics.roc_auc_score(Y, cv_results_probs[:,1]))\n",
    "    \n",
    "    return cv_results_preds, cv_results_probs"
   ]
  },
  {
   "cell_type": "code",
   "execution_count": 75,
   "metadata": {},
   "outputs": [
    {
     "data": {
      "text/plain": [
       "(23784, 14)"
      ]
     },
     "execution_count": 75,
     "metadata": {},
     "output_type": "execute_result"
    }
   ],
   "source": [
    "X2.shape"
   ]
  },
  {
   "cell_type": "code",
   "execution_count": 27,
   "metadata": {},
   "outputs": [
    {
     "name": "stdout",
     "output_type": "stream",
     "text": [
      "full data AUC- CV score [ 0.99849282  0.99746146  0.99824737  0.9956875   0.99755358]\n",
      "Accuracy full-data : 0.9826\n",
      "AUC Score full-data: 0.997456\n"
     ]
    },
    {
     "data": {
      "text/plain": [
       "(array([ 1.,  1.,  1., ...,  0.,  1.,  0.]),\n",
       " array([[  1.44528151e-02,   9.85547185e-01],\n",
       "        [  1.29987001e-02,   9.87001300e-01],\n",
       "        [  1.32708549e-02,   9.86729145e-01],\n",
       "        ..., \n",
       "        [  9.99951780e-01,   4.81990282e-05],\n",
       "        [  2.40237176e-01,   7.59762824e-01],\n",
       "        [  9.62042987e-01,   3.79570089e-02]], dtype=float32))"
      ]
     },
     "execution_count": 27,
     "metadata": {},
     "output_type": "execute_result"
    }
   ],
   "source": [
    "get_nested_cv_preds(model_outer,X2,Y)"
   ]
  },
  {
   "cell_type": "code",
   "execution_count": 28,
   "metadata": {
    "collapsed": true
   },
   "outputs": [],
   "source": [
    "def save_model(model, country):\n",
    "    filename = '{}_pickle.sav'.format(country)\n",
    "    pickle.dump(model, open(filename, 'wb'))\n",
    "    print('saved as', filename)"
   ]
  },
  {
   "cell_type": "code",
   "execution_count": 48,
   "metadata": {},
   "outputs": [
    {
     "name": "stdout",
     "output_type": "stream",
     "text": [
      "saved as Swazilan Holdout using TVH_pickle.sav\n"
     ]
    }
   ],
   "source": [
    "save_model(model_outer, \"Swazilan Holdout using TVH\")"
   ]
  },
  {
   "cell_type": "code",
   "execution_count": 44,
   "metadata": {
    "collapsed": true
   },
   "outputs": [],
   "source": [
    "model_outer=pickle.load(open('Swazilan Holdout using TVH_pickle.sav', 'rb'))"
   ]
  },
  {
   "cell_type": "code",
   "execution_count": 30,
   "metadata": {},
   "outputs": [
    {
     "data": {
      "text/plain": [
       "<matplotlib.axes._subplots.AxesSubplot at 0x11b052ba8>"
      ]
     },
     "execution_count": 30,
     "metadata": {},
     "output_type": "execute_result"
    },
    {
     "data": {
      "image/png": "[encoded data removed]",
      "text/plain": [
       "<matplotlib.figure.Figure at 0x11b18d208>"
      ]
     },
     "metadata": {},
     "output_type": "display_data"
    }
   ],
   "source": [
    "xgb.plot_importance(model_outer)"
   ]
  },
  {
   "cell_type": "code",
   "execution_count": 45,
   "metadata": {
    "collapsed": true
   },
   "outputs": [],
   "source": [
    "def permutation_importances(model, X_train, y_train, metric):\n",
    "    baseline = metric( y_train.values,model.predict_proba(X_train))\n",
    "    imp = []\n",
    "    for col in X_train.columns:\n",
    "        save = X_train[col].copy() #store the original\n",
    "        X_train[col] = np.random.permutation(X_train[col]) #shuffle each column\n",
    "        m = metric( y_train.values,model.predict_proba(X_train)) #make predictions\n",
    "        X_train[col] = save # return it back to normal\n",
    "        imp.append(baseline - m) # if \n",
    "    return np.array(imp)"
   ]
  },
  {
   "cell_type": "code",
   "execution_count": null,
   "metadata": {
    "collapsed": true
   },
   "outputs": [],
   "source": [
    "imp = permutation_importances(model_outer, X_test, y_test, metrics.log_loss)"
   ]
  },
  {
   "cell_type": "code",
   "execution_count": 68,
   "metadata": {},
   "outputs": [
    {
     "data": {
      "text/plain": [
       "<matplotlib.axes._subplots.AxesSubplot at 0x112fa6710>"
      ]
     },
     "execution_count": 68,
     "metadata": {},
     "output_type": "execute_result"
    },
    {
     "data": {
      "image/png": "[encoded data removed]",
      "text/plain": [
       "<matplotlib.figure.Figure at 0x112fbb358>"
      ]
     },
     "metadata": {},
     "output_type": "display_data"
    }
   ],
   "source": [
    "df = pd.DataFrame(data=abs(imp), index=X_test.columns).sort_values(by=0)\n",
    "#df.rename_axis('feature importance', axis='columns')\n",
    "df.rename(columns={0:'Feature Importance'},inplace=True)\n",
    "df.sort_values(by='Feature Importance').plot(kind='barh', title='Feature Importance', legend=None)"
   ]
  },
  {
   "cell_type": "code",
   "execution_count": 82,
   "metadata": {
    "collapsed": true
   },
   "outputs": [],
   "source": [
    "def plot_perm_importance(perm_importance, X_test):\n",
    "    #takes a permutatino importance and the input data from it and plots\n",
    "    df = pd.DataFrame(data=abs(imp), index=X_test.columns).sort_values(by=0)\n",
    "    df.rename(columns={0:'Feature Importance'},inplace=True)\n",
    "    df.sort_values(by='Feature Importance').plot(kind='barh', \n",
    "                    title='Feature Importance', legend=None)"
   ]
  },
  {
   "cell_type": "code",
   "execution_count": 1,
   "metadata": {},
   "outputs": [
    {
     "ename": "NameError",
     "evalue": "name 'plot_perm_importance' is not defined",
     "output_type": "error",
     "traceback": [
      "\u001b[0;31m---------------------------------------------------------------------------\u001b[0m",
      "\u001b[0;31mNameError\u001b[0m                                 Traceback (most recent call last)",
      "\u001b[0;32m<ipython-input-1-7b7a889c4c7b>\u001b[0m in \u001b[0;36m<module>\u001b[0;34m()\u001b[0m\n\u001b[0;32m----> 1\u001b[0;31m \u001b[0mplot_perm_importance\u001b[0m\u001b[0;34m(\u001b[0m\u001b[0mimp\u001b[0m\u001b[0;34m,\u001b[0m\u001b[0mX_test\u001b[0m\u001b[0;34m)\u001b[0m\u001b[0;34m\u001b[0m\u001b[0m\n\u001b[0m\u001b[1;32m      2\u001b[0m \u001b[0msavefig\u001b[0m\u001b[0;34m(\u001b[0m\u001b[0;34m'foo.png'\u001b[0m\u001b[0;34m,\u001b[0m \u001b[0mbbox_inches\u001b[0m\u001b[0;34m=\u001b[0m\u001b[0;34m'tight'\u001b[0m\u001b[0;34m)\u001b[0m\u001b[0;34m\u001b[0m\u001b[0m\n",
      "\u001b[0;31mNameError\u001b[0m: name 'plot_perm_importance' is not defined"
     ]
    }
   ],
   "source": [
    "plot_perm_importance(imp,X_test)\n",
    "savefig('foo.png', bbox_inches='tight')"
   ]
  },
  {
   "cell_type": "markdown",
   "metadata": {},
   "source": [
    "# we now how of our early stopped, cross-validated model. We now need to identify the ideal prediction threshold"
   ]
  },
  {
   "cell_type": "code",
   "execution_count": 31,
   "metadata": {},
   "outputs": [
    {
     "data": {
      "text/plain": [
       "<matplotlib.text.Text at 0x11b88b0b8>"
      ]
     },
     "execution_count": 31,
     "metadata": {},
     "output_type": "execute_result"
    },
    {
     "data": {
      "image/png": "[encoded data removed]",
      "text/plain": [
       "<matplotlib.figure.Figure at 0x11ca5e1d0>"
      ]
     },
     "metadata": {},
     "output_type": "display_data"
    }
   ],
   "source": [
    "pd.DataFrame(dholdout_predprob[y_holdout==0]).hist(bins=50)\n",
    "plt.title('Prediction Distribution on holdout for good wells')\n"
   ]
  },
  {
   "cell_type": "code",
   "execution_count": 50,
   "metadata": {},
   "outputs": [
    {
     "data": {
      "text/plain": [
       "<matplotlib.text.Text at 0x11caffeb8>"
      ]
     },
     "execution_count": 50,
     "metadata": {},
     "output_type": "execute_result"
    },
    {
     "data": {
      "image/png": "[encoded data removed]",
      "text/plain": [
       "<matplotlib.figure.Figure at 0x11c948ba8>"
      ]
     },
     "metadata": {},
     "output_type": "display_data"
    }
   ],
   "source": [
    "pd.DataFrame(dholdout_predprob[y_holdout==1]).hist(bins=50)\n",
    "plt.title('Prediction Distribution on holdout for bad wells')\n"
   ]
  },
  {
   "cell_type": "code",
   "execution_count": 33,
   "metadata": {},
   "outputs": [
    {
     "data": {
      "text/plain": [
       "(array([  0.21013227,   0.26266533,   0.21013227,   0.4727976 ,\n",
       "          0.3151984 ,   0.10506613,   0.        ,   0.        ,\n",
       "          0.05253307,   0.05253307,   0.1575992 ,   0.21013227,\n",
       "          0.10506613,   0.21013227,   0.05253307,   0.10506613,\n",
       "          0.05253307,   0.10506613,   0.05253307,   0.05253307,\n",
       "          0.1575992 ,   0.26266533,   0.10506613,   0.05253307,\n",
       "          0.36773147,   0.05253307,   0.05253307,   0.05253307,\n",
       "          0.1575992 ,   0.3151984 ,   0.26266533,   0.3151984 ,\n",
       "          0.10506613,   0.52533066,   0.57786373,   0.36773147,\n",
       "          0.89306213,   1.52345893,   4.25517838,  26.89693002]),\n",
       " array([ 0.0013967 ,  0.0263451 ,  0.0512935 ,  0.0762419 ,  0.1011903 ,\n",
       "         0.1261387 ,  0.1510871 ,  0.1760355 ,  0.2009839 ,  0.22593231,\n",
       "         0.25088071,  0.27582911,  0.30077751,  0.32572591,  0.35067431,\n",
       "         0.37562271,  0.40057111,  0.42551951,  0.45046791,  0.47541631,\n",
       "         0.50036471,  0.52531311,  0.55026151,  0.57520991,  0.60015832,\n",
       "         0.62510672,  0.65005512,  0.67500352,  0.69995192,  0.72490032,\n",
       "         0.74984872,  0.77479712,  0.79974552,  0.82469392,  0.84964232,\n",
       "         0.87459072,  0.89953912,  0.92448752,  0.94943592,  0.97438433,\n",
       "         0.99933273]),\n",
       " <a list of 1 Patch objects>)"
      ]
     },
     "execution_count": 33,
     "metadata": {},
     "output_type": "execute_result"
    },
    {
     "data": {
      "image/png": "[encoded data removed]",
      "text/plain": [
       "<matplotlib.figure.Figure at 0x11c1af7f0>"
      ]
     },
     "metadata": {},
     "output_type": "display_data"
    }
   ],
   "source": [
    "\n",
    "x1 = dholdout_predprob[y_holdout==0]\n",
    "x2 = dholdout_predprob[y_holdout==1]\n",
    "\n",
    "\n",
    "kwargs = dict(histtype='stepfilled', alpha=0.3, normed=True, bins=40)\n",
    "\n",
    "plt.title('probability distribution for true negatives and true positives')\n",
    "plt.hist(x1, **kwargs)\n",
    "plt.hist(x2, **kwargs)\n"
   ]
  },
  {
   "cell_type": "markdown",
   "metadata": {},
   "source": [
    "### This is a much better spread than our small holdout last time. I wonder if this is from the target leakage from the repeat measurements? Could that even be target leakage?"
   ]
  },
  {
   "cell_type": "code",
   "execution_count": 34,
   "metadata": {},
   "outputs": [
    {
     "data": {
      "text/html": [
       "<div>\n",
       "<style scoped>\n",
       "    .dataframe tbody tr th:only-of-type {\n",
       "        vertical-align: middle;\n",
       "    }\n",
       "\n",
       "    .dataframe tbody tr th {\n",
       "        vertical-align: top;\n",
       "    }\n",
       "\n",
       "    .dataframe thead th {\n",
       "        text-align: right;\n",
       "    }\n",
       "</style>\n",
       "<table border=\"1\" class=\"dataframe\">\n",
       "  <thead>\n",
       "    <tr style=\"text-align: right;\">\n",
       "      <th></th>\n",
       "      <th>recall</th>\n",
       "      <th>precision</th>\n",
       "      <th>f1_score</th>\n",
       "    </tr>\n",
       "  </thead>\n",
       "  <tbody>\n",
       "    <tr>\n",
       "      <th>0.000000</th>\n",
       "      <td>1.000000</td>\n",
       "      <td>0.160395</td>\n",
       "      <td>0.276449</td>\n",
       "    </tr>\n",
       "    <tr>\n",
       "      <th>0.026316</th>\n",
       "      <td>0.993447</td>\n",
       "      <td>0.713748</td>\n",
       "      <td>0.830685</td>\n",
       "    </tr>\n",
       "    <tr>\n",
       "      <th>0.052632</th>\n",
       "      <td>0.985583</td>\n",
       "      <td>0.794926</td>\n",
       "      <td>0.880047</td>\n",
       "    </tr>\n",
       "    <tr>\n",
       "      <th>0.078947</th>\n",
       "      <td>0.977720</td>\n",
       "      <td>0.829811</td>\n",
       "      <td>0.897714</td>\n",
       "    </tr>\n",
       "    <tr>\n",
       "      <th>0.105263</th>\n",
       "      <td>0.971166</td>\n",
       "      <td>0.852704</td>\n",
       "      <td>0.908088</td>\n",
       "    </tr>\n",
       "    <tr>\n",
       "      <th>0.131579</th>\n",
       "      <td>0.967235</td>\n",
       "      <td>0.867215</td>\n",
       "      <td>0.914498</td>\n",
       "    </tr>\n",
       "    <tr>\n",
       "      <th>0.157895</th>\n",
       "      <td>0.963303</td>\n",
       "      <td>0.880240</td>\n",
       "      <td>0.919900</td>\n",
       "    </tr>\n",
       "    <tr>\n",
       "      <th>0.184211</th>\n",
       "      <td>0.955439</td>\n",
       "      <td>0.887942</td>\n",
       "      <td>0.920455</td>\n",
       "    </tr>\n",
       "    <tr>\n",
       "      <th>0.210526</th>\n",
       "      <td>0.950197</td>\n",
       "      <td>0.902864</td>\n",
       "      <td>0.925926</td>\n",
       "    </tr>\n",
       "    <tr>\n",
       "      <th>0.236842</th>\n",
       "      <td>0.947575</td>\n",
       "      <td>0.908291</td>\n",
       "      <td>0.927518</td>\n",
       "    </tr>\n",
       "    <tr>\n",
       "      <th>0.263158</th>\n",
       "      <td>0.943644</td>\n",
       "      <td>0.914867</td>\n",
       "      <td>0.929032</td>\n",
       "    </tr>\n",
       "    <tr>\n",
       "      <th>0.289474</th>\n",
       "      <td>0.941022</td>\n",
       "      <td>0.924067</td>\n",
       "      <td>0.932468</td>\n",
       "    </tr>\n",
       "    <tr>\n",
       "      <th>0.315789</th>\n",
       "      <td>0.939712</td>\n",
       "      <td>0.931169</td>\n",
       "      <td>0.935421</td>\n",
       "    </tr>\n",
       "    <tr>\n",
       "      <th>0.342105</th>\n",
       "      <td>0.937090</td>\n",
       "      <td>0.933420</td>\n",
       "      <td>0.935252</td>\n",
       "    </tr>\n",
       "    <tr>\n",
       "      <th>0.368421</th>\n",
       "      <td>0.935780</td>\n",
       "      <td>0.940711</td>\n",
       "      <td>0.938239</td>\n",
       "    </tr>\n",
       "    <tr>\n",
       "      <th>0.394737</th>\n",
       "      <td>0.930537</td>\n",
       "      <td>0.941645</td>\n",
       "      <td>0.936058</td>\n",
       "    </tr>\n",
       "    <tr>\n",
       "      <th>0.421053</th>\n",
       "      <td>0.929227</td>\n",
       "      <td>0.944075</td>\n",
       "      <td>0.936592</td>\n",
       "    </tr>\n",
       "    <tr>\n",
       "      <th>0.447368</th>\n",
       "      <td>0.923984</td>\n",
       "      <td>0.948856</td>\n",
       "      <td>0.936255</td>\n",
       "    </tr>\n",
       "    <tr>\n",
       "      <th>0.473684</th>\n",
       "      <td>0.920052</td>\n",
       "      <td>0.951220</td>\n",
       "      <td>0.935376</td>\n",
       "    </tr>\n",
       "    <tr>\n",
       "      <th>0.500000</th>\n",
       "      <td>0.920052</td>\n",
       "      <td>0.953804</td>\n",
       "      <td>0.936624</td>\n",
       "    </tr>\n",
       "  </tbody>\n",
       "</table>\n",
       "</div>"
      ],
      "text/plain": [
       "            recall  precision  f1_score\n",
       "0.000000  1.000000   0.160395  0.276449\n",
       "0.026316  0.993447   0.713748  0.830685\n",
       "0.052632  0.985583   0.794926  0.880047\n",
       "0.078947  0.977720   0.829811  0.897714\n",
       "0.105263  0.971166   0.852704  0.908088\n",
       "0.131579  0.967235   0.867215  0.914498\n",
       "0.157895  0.963303   0.880240  0.919900\n",
       "0.184211  0.955439   0.887942  0.920455\n",
       "0.210526  0.950197   0.902864  0.925926\n",
       "0.236842  0.947575   0.908291  0.927518\n",
       "0.263158  0.943644   0.914867  0.929032\n",
       "0.289474  0.941022   0.924067  0.932468\n",
       "0.315789  0.939712   0.931169  0.935421\n",
       "0.342105  0.937090   0.933420  0.935252\n",
       "0.368421  0.935780   0.940711  0.938239\n",
       "0.394737  0.930537   0.941645  0.936058\n",
       "0.421053  0.929227   0.944075  0.936592\n",
       "0.447368  0.923984   0.948856  0.936255\n",
       "0.473684  0.920052   0.951220  0.935376\n",
       "0.500000  0.920052   0.953804  0.936624"
      ]
     },
     "execution_count": 34,
     "metadata": {},
     "output_type": "execute_result"
    }
   ],
   "source": [
    "#try a bunch of different prediction thresholds < 0.5 and see which one maximizes recall and F1 score\n",
    "import numpy as np\n",
    "d = dict()\n",
    "for i in np.linspace(0,0.5, num=20):\n",
    "    best = 0\n",
    "    test = np.where(dtest_predprob > i, 1,0)\n",
    "    recall = metrics.recall_score(y_test, test)\n",
    "    precision = metrics.precision_score(y_test, test)\n",
    "    f_score = metrics.f1_score(y_test, test, average='binary')\n",
    "    d[i]=recall, precision, f_score\n",
    "    \n",
    "frame = pd.DataFrame.from_dict(d, orient='index')#.columns=(['recall', 'f1_score'])\n",
    "frame.columns=(['recall','precision', 'f1_score'])\n",
    "frame"
   ]
  },
  {
   "cell_type": "code",
   "execution_count": 52,
   "metadata": {},
   "outputs": [
    {
     "data": {
      "text/html": [
       "<div>\n",
       "<style scoped>\n",
       "    .dataframe tbody tr th:only-of-type {\n",
       "        vertical-align: middle;\n",
       "    }\n",
       "\n",
       "    .dataframe tbody tr th {\n",
       "        vertical-align: top;\n",
       "    }\n",
       "\n",
       "    .dataframe thead th {\n",
       "        text-align: right;\n",
       "    }\n",
       "</style>\n",
       "<table border=\"1\" class=\"dataframe\">\n",
       "  <thead>\n",
       "    <tr style=\"text-align: right;\">\n",
       "      <th></th>\n",
       "      <th>recall</th>\n",
       "      <th>precision</th>\n",
       "      <th>f1_score</th>\n",
       "    </tr>\n",
       "  </thead>\n",
       "  <tbody>\n",
       "    <tr>\n",
       "      <th>0.000000</th>\n",
       "      <td>1.000000</td>\n",
       "      <td>0.160395</td>\n",
       "      <td>0.276449</td>\n",
       "    </tr>\n",
       "    <tr>\n",
       "      <th>0.026316</th>\n",
       "      <td>0.994758</td>\n",
       "      <td>0.708683</td>\n",
       "      <td>0.827699</td>\n",
       "    </tr>\n",
       "    <tr>\n",
       "      <th>0.052632</th>\n",
       "      <td>0.988204</td>\n",
       "      <td>0.792850</td>\n",
       "      <td>0.879813</td>\n",
       "    </tr>\n",
       "    <tr>\n",
       "      <th>0.078947</th>\n",
       "      <td>0.982962</td>\n",
       "      <td>0.833333</td>\n",
       "      <td>0.901984</td>\n",
       "    </tr>\n",
       "    <tr>\n",
       "      <th>0.105263</th>\n",
       "      <td>0.969856</td>\n",
       "      <td>0.854503</td>\n",
       "      <td>0.908533</td>\n",
       "    </tr>\n",
       "    <tr>\n",
       "      <th>0.131579</th>\n",
       "      <td>0.963303</td>\n",
       "      <td>0.875000</td>\n",
       "      <td>0.917031</td>\n",
       "    </tr>\n",
       "    <tr>\n",
       "      <th>0.157895</th>\n",
       "      <td>0.960682</td>\n",
       "      <td>0.890644</td>\n",
       "      <td>0.924338</td>\n",
       "    </tr>\n",
       "    <tr>\n",
       "      <th>0.184211</th>\n",
       "      <td>0.960682</td>\n",
       "      <td>0.899387</td>\n",
       "      <td>0.929024</td>\n",
       "    </tr>\n",
       "    <tr>\n",
       "      <th>0.210526</th>\n",
       "      <td>0.959371</td>\n",
       "      <td>0.911582</td>\n",
       "      <td>0.934866</td>\n",
       "    </tr>\n",
       "    <tr>\n",
       "      <th>0.236842</th>\n",
       "      <td>0.959371</td>\n",
       "      <td>0.919598</td>\n",
       "      <td>0.939064</td>\n",
       "    </tr>\n",
       "    <tr>\n",
       "      <th>0.263158</th>\n",
       "      <td>0.956750</td>\n",
       "      <td>0.926396</td>\n",
       "      <td>0.941328</td>\n",
       "    </tr>\n",
       "    <tr>\n",
       "      <th>0.289474</th>\n",
       "      <td>0.948886</td>\n",
       "      <td>0.934194</td>\n",
       "      <td>0.941482</td>\n",
       "    </tr>\n",
       "    <tr>\n",
       "      <th>0.315789</th>\n",
       "      <td>0.947575</td>\n",
       "      <td>0.940182</td>\n",
       "      <td>0.943864</td>\n",
       "    </tr>\n",
       "    <tr>\n",
       "      <th>0.342105</th>\n",
       "      <td>0.942333</td>\n",
       "      <td>0.943570</td>\n",
       "      <td>0.942951</td>\n",
       "    </tr>\n",
       "    <tr>\n",
       "      <th>0.368421</th>\n",
       "      <td>0.939712</td>\n",
       "      <td>0.948413</td>\n",
       "      <td>0.944042</td>\n",
       "    </tr>\n",
       "    <tr>\n",
       "      <th>0.394737</th>\n",
       "      <td>0.938401</td>\n",
       "      <td>0.948344</td>\n",
       "      <td>0.943347</td>\n",
       "    </tr>\n",
       "    <tr>\n",
       "      <th>0.421053</th>\n",
       "      <td>0.935780</td>\n",
       "      <td>0.949468</td>\n",
       "      <td>0.942574</td>\n",
       "    </tr>\n",
       "    <tr>\n",
       "      <th>0.447368</th>\n",
       "      <td>0.933159</td>\n",
       "      <td>0.950601</td>\n",
       "      <td>0.941799</td>\n",
       "    </tr>\n",
       "    <tr>\n",
       "      <th>0.473684</th>\n",
       "      <td>0.933159</td>\n",
       "      <td>0.953146</td>\n",
       "      <td>0.943046</td>\n",
       "    </tr>\n",
       "    <tr>\n",
       "      <th>0.500000</th>\n",
       "      <td>0.930537</td>\n",
       "      <td>0.955585</td>\n",
       "      <td>0.942895</td>\n",
       "    </tr>\n",
       "  </tbody>\n",
       "</table>\n",
       "</div>"
      ],
      "text/plain": [
       "            recall  precision  f1_score\n",
       "0.000000  1.000000   0.160395  0.276449\n",
       "0.026316  0.994758   0.708683  0.827699\n",
       "0.052632  0.988204   0.792850  0.879813\n",
       "0.078947  0.982962   0.833333  0.901984\n",
       "0.105263  0.969856   0.854503  0.908533\n",
       "0.131579  0.963303   0.875000  0.917031\n",
       "0.157895  0.960682   0.890644  0.924338\n",
       "0.184211  0.960682   0.899387  0.929024\n",
       "0.210526  0.959371   0.911582  0.934866\n",
       "0.236842  0.959371   0.919598  0.939064\n",
       "0.263158  0.956750   0.926396  0.941328\n",
       "0.289474  0.948886   0.934194  0.941482\n",
       "0.315789  0.947575   0.940182  0.943864\n",
       "0.342105  0.942333   0.943570  0.942951\n",
       "0.368421  0.939712   0.948413  0.944042\n",
       "0.394737  0.938401   0.948344  0.943347\n",
       "0.421053  0.935780   0.949468  0.942574\n",
       "0.447368  0.933159   0.950601  0.941799\n",
       "0.473684  0.933159   0.953146  0.943046\n",
       "0.500000  0.930537   0.955585  0.942895"
      ]
     },
     "execution_count": 52,
     "metadata": {},
     "output_type": "execute_result"
    }
   ],
   "source": [
    "#try a bunch of different prediction thresholds < 0.5 and see which one maximizes recall and F1 score\n",
    "import numpy as np\n",
    "d = dict()\n",
    "for i in np.linspace(0,0.5, num=20):\n",
    "    best = 0\n",
    "    test = np.where(dholdout_predprob > i, 1,0)\n",
    "    recall = metrics.recall_score(y_holdout, test)\n",
    "    precision = metrics.precision_score(y_holdout, test)\n",
    "    f_score = metrics.f1_score(y_holdout, test, average='binary')\n",
    "    d[i]=recall, precision, f_score\n",
    "    \n",
    "frame = pd.DataFrame.from_dict(d, orient='index')#.columns=(['recall', 'f1_score'])\n",
    "frame.columns=(['recall','precision', 'f1_score'])\n",
    "frame"
   ]
  },
  {
   "cell_type": "code",
   "execution_count": 40,
   "metadata": {
    "collapsed": true
   },
   "outputs": [],
   "source": [
    "model_outer=pickle.load(open('Swazilan Holdout using TVH_pickle.sav', 'rb'))"
   ]
  },
  {
   "cell_type": "markdown",
   "metadata": {},
   "source": [
    "## Modeling Decision: Threshold of 0.21056 gives a recall > 0.95 and a precision > 0.9 on both test and holdout. Will use as threshold"
   ]
  },
  {
   "cell_type": "markdown",
   "metadata": {},
   "source": [
    "### Create predictions for the out years based on data. Need to update our time since measurement for X_today. "
   ]
  },
  {
   "cell_type": "code",
   "execution_count": 42,
   "metadata": {},
   "outputs": [
    {
     "data": {
      "text/html": [
       "<div>\n",
       "<style scoped>\n",
       "    .dataframe tbody tr th:only-of-type {\n",
       "        vertical-align: middle;\n",
       "    }\n",
       "\n",
       "    .dataframe tbody tr th {\n",
       "        vertical-align: top;\n",
       "    }\n",
       "\n",
       "    .dataframe thead th {\n",
       "        text-align: right;\n",
       "    }\n",
       "</style>\n",
       "<table border=\"1\" class=\"dataframe\">\n",
       "  <thead>\n",
       "    <tr style=\"text-align: right;\">\n",
       "      <th></th>\n",
       "      <th>water_source</th>\n",
       "      <th>water_tech</th>\n",
       "      <th>management</th>\n",
       "      <th>source</th>\n",
       "      <th>adm1</th>\n",
       "      <th>adm2</th>\n",
       "      <th>pay</th>\n",
       "      <th>lat_deg</th>\n",
       "      <th>lon_deg</th>\n",
       "      <th>new_install_year</th>\n",
       "      <th>age_well_years</th>\n",
       "      <th>time_since_meas_years</th>\n",
       "      <th>fuzzy_water_source</th>\n",
       "      <th>fuzzy_water_tech</th>\n",
       "    </tr>\n",
       "  </thead>\n",
       "  <tbody>\n",
       "    <tr>\n",
       "      <th>301738</th>\n",
       "      <td>4</td>\n",
       "      <td>14</td>\n",
       "      <td>0</td>\n",
       "      <td>0</td>\n",
       "      <td>3</td>\n",
       "      <td>22</td>\n",
       "      <td>27</td>\n",
       "      <td>-27.1031</td>\n",
       "      <td>31.1317</td>\n",
       "      <td>17</td>\n",
       "      <td>36.2</td>\n",
       "      <td>2.7</td>\n",
       "      <td>0</td>\n",
       "      <td>3</td>\n",
       "    </tr>\n",
       "  </tbody>\n",
       "</table>\n",
       "</div>"
      ],
      "text/plain": [
       "        water_source  water_tech  management  source  adm1  adm2  pay  \\\n",
       "301738             4          14           0       0     3    22   27   \n",
       "\n",
       "        lat_deg  lon_deg  new_install_year  age_well_years  \\\n",
       "301738 -27.1031  31.1317                17            36.2   \n",
       "\n",
       "        time_since_meas_years  fuzzy_water_source  fuzzy_water_tech  \n",
       "301738                    2.7                   0                 3  "
      ]
     },
     "execution_count": 42,
     "metadata": {},
     "output_type": "execute_result"
    }
   ],
   "source": [
    "X_today = X2.copy()\n",
    "X_today['age_well_years'] = X_today.age_well_years + X_today.time_since_meas_years\n",
    "X_today[:1]"
   ]
  },
  {
   "cell_type": "code",
   "execution_count": 43,
   "metadata": {
    "collapsed": true
   },
   "outputs": [],
   "source": [
    "#make two other future values to predict, 1 year and 5 years\n",
    "X_1year = X_today.copy()\n",
    "X_1year['age_well_years'] = X_1year.age_well_years + 1\n",
    "X_3year = X_1year.copy()\n",
    "X_3year['age_well_years']=X_3year.age_well_years+2\n",
    "X_5year = X_1year.copy()\n",
    "X_5year['age_well_years']=X_5year.age_well_years+4\n"
   ]
  },
  {
   "cell_type": "code",
   "execution_count": 45,
   "metadata": {},
   "outputs": [
    {
     "name": "stdout",
     "output_type": "stream",
     "text": [
      "        age_well_years  time_since_meas_years\n",
      "301738            33.5                    2.7\n",
      "        age_well_years  time_since_meas_years\n",
      "301738            36.2                    2.7\n",
      "        age_well_years  time_since_meas_years\n",
      "301738            37.2                    2.7\n",
      "        age_well_years  time_since_meas_years\n",
      "301738            39.2                    2.7\n",
      "        age_well_years  time_since_meas_years\n",
      "301738            41.2                    2.7\n"
     ]
    }
   ],
   "source": [
    "print(X2[['age_well_years', 'time_since_meas_years']][:1])\n",
    "print(X_today[['age_well_years', 'time_since_meas_years']][:1])\n",
    "print(X_1year[['age_well_years', 'time_since_meas_years']][:1])\n",
    "print(X_3year[['age_well_years', 'time_since_meas_years']][:1])\n",
    "print(X_5year[['age_well_years', 'time_since_meas_years']][:1])"
   ]
  },
  {
   "cell_type": "markdown",
   "metadata": {},
   "source": [
    "# Get Predictions for Today, 1, 3 and 5 years out"
   ]
  },
  {
   "cell_type": "code",
   "execution_count": 46,
   "metadata": {
    "collapsed": true
   },
   "outputs": [],
   "source": [
    "today_preds = model_outer.predict(X_today)\n",
    "today_predprob = model_outer.predict_proba(X_today)\n",
    "one_year_preds = model_outer.predict(X_1year)\n",
    "one_year_predprob = model_outer.predict_proba(X_1year)\n",
    "three_year_preds = model_outer.predict(X_3year)\n",
    "three_year_predprob = model_outer.predict_proba(X_3year)\n",
    "five_year_preds = model_outer.predict(X_5year)\n",
    "five_year_predprob = model_outer.predict_proba(X_5year)"
   ]
  },
  {
   "cell_type": "code",
   "execution_count": 47,
   "metadata": {
    "collapsed": true
   },
   "outputs": [],
   "source": [
    "# append them to the original df\n",
    "sl['today_preds']=today_preds\n",
    "sl['today_predprob']= today_predprob[:,1]\n",
    "sl['one_year_preds'] = one_year_preds\n",
    "sl['one_year_predprob'] = one_year_predprob[:,1]\n",
    "sl['three_year_preds'] = three_year_preds\n",
    "sl['three_year_predprob']= three_year_predprob[:,1]\n",
    "sl['five_year_preds']=five_year_preds\n",
    "sl['five_year_predprob'] =five_year_predprob[:,1]"
   ]
  },
  {
   "cell_type": "code",
   "execution_count": 40,
   "metadata": {},
   "outputs": [
    {
     "data": {
      "text/html": [
       "<div>\n",
       "<style scoped>\n",
       "    .dataframe tbody tr th:only-of-type {\n",
       "        vertical-align: middle;\n",
       "    }\n",
       "\n",
       "    .dataframe tbody tr th {\n",
       "        vertical-align: top;\n",
       "    }\n",
       "\n",
       "    .dataframe thead th {\n",
       "        text-align: right;\n",
       "    }\n",
       "</style>\n",
       "<table border=\"1\" class=\"dataframe\">\n",
       "  <thead>\n",
       "    <tr style=\"text-align: right;\">\n",
       "      <th></th>\n",
       "      <th>status_binary</th>\n",
       "      <th>today_preds</th>\n",
       "      <th>one_year_preds</th>\n",
       "      <th>three_year_preds</th>\n",
       "      <th>five_year_preds</th>\n",
       "    </tr>\n",
       "  </thead>\n",
       "  <tbody>\n",
       "    <tr>\n",
       "      <th>count</th>\n",
       "      <td>23784.000000</td>\n",
       "      <td>23784.000000</td>\n",
       "      <td>23784.00000</td>\n",
       "      <td>23784.000000</td>\n",
       "      <td>23784.000000</td>\n",
       "    </tr>\n",
       "    <tr>\n",
       "      <th>mean</th>\n",
       "      <td>0.160360</td>\n",
       "      <td>0.144215</td>\n",
       "      <td>0.12172</td>\n",
       "      <td>0.112891</td>\n",
       "      <td>0.108981</td>\n",
       "    </tr>\n",
       "    <tr>\n",
       "      <th>std</th>\n",
       "      <td>0.366947</td>\n",
       "      <td>0.351315</td>\n",
       "      <td>0.32697</td>\n",
       "      <td>0.316466</td>\n",
       "      <td>0.311622</td>\n",
       "    </tr>\n",
       "    <tr>\n",
       "      <th>min</th>\n",
       "      <td>0.000000</td>\n",
       "      <td>0.000000</td>\n",
       "      <td>0.00000</td>\n",
       "      <td>0.000000</td>\n",
       "      <td>0.000000</td>\n",
       "    </tr>\n",
       "    <tr>\n",
       "      <th>25%</th>\n",
       "      <td>0.000000</td>\n",
       "      <td>0.000000</td>\n",
       "      <td>0.00000</td>\n",
       "      <td>0.000000</td>\n",
       "      <td>0.000000</td>\n",
       "    </tr>\n",
       "    <tr>\n",
       "      <th>50%</th>\n",
       "      <td>0.000000</td>\n",
       "      <td>0.000000</td>\n",
       "      <td>0.00000</td>\n",
       "      <td>0.000000</td>\n",
       "      <td>0.000000</td>\n",
       "    </tr>\n",
       "    <tr>\n",
       "      <th>75%</th>\n",
       "      <td>0.000000</td>\n",
       "      <td>0.000000</td>\n",
       "      <td>0.00000</td>\n",
       "      <td>0.000000</td>\n",
       "      <td>0.000000</td>\n",
       "    </tr>\n",
       "    <tr>\n",
       "      <th>max</th>\n",
       "      <td>1.000000</td>\n",
       "      <td>1.000000</td>\n",
       "      <td>1.00000</td>\n",
       "      <td>1.000000</td>\n",
       "      <td>1.000000</td>\n",
       "    </tr>\n",
       "  </tbody>\n",
       "</table>\n",
       "</div>"
      ],
      "text/plain": [
       "       status_binary   today_preds  one_year_preds  three_year_preds  \\\n",
       "count   23784.000000  23784.000000     23784.00000      23784.000000   \n",
       "mean        0.160360      0.144215         0.12172          0.112891   \n",
       "std         0.366947      0.351315         0.32697          0.316466   \n",
       "min         0.000000      0.000000         0.00000          0.000000   \n",
       "25%         0.000000      0.000000         0.00000          0.000000   \n",
       "50%         0.000000      0.000000         0.00000          0.000000   \n",
       "75%         0.000000      0.000000         0.00000          0.000000   \n",
       "max         1.000000      1.000000         1.00000          1.000000   \n",
       "\n",
       "       five_year_preds  \n",
       "count     23784.000000  \n",
       "mean          0.108981  \n",
       "std           0.311622  \n",
       "min           0.000000  \n",
       "25%           0.000000  \n",
       "50%           0.000000  \n",
       "75%           0.000000  \n",
       "max           1.000000  "
      ]
     },
     "execution_count": 40,
     "metadata": {},
     "output_type": "execute_result"
    }
   ],
   "source": [
    "#old way, without updated time to measure\n",
    "sl[['status_binary','today_preds','one_year_preds','three_year_preds', 'five_year_preds']].describe()"
   ]
  },
  {
   "cell_type": "code",
   "execution_count": 48,
   "metadata": {},
   "outputs": [
    {
     "data": {
      "text/html": [
       "<div>\n",
       "<style scoped>\n",
       "    .dataframe tbody tr th:only-of-type {\n",
       "        vertical-align: middle;\n",
       "    }\n",
       "\n",
       "    .dataframe tbody tr th {\n",
       "        vertical-align: top;\n",
       "    }\n",
       "\n",
       "    .dataframe thead th {\n",
       "        text-align: right;\n",
       "    }\n",
       "</style>\n",
       "<table border=\"1\" class=\"dataframe\">\n",
       "  <thead>\n",
       "    <tr style=\"text-align: right;\">\n",
       "      <th></th>\n",
       "      <th>status_binary</th>\n",
       "      <th>today_preds</th>\n",
       "      <th>one_year_preds</th>\n",
       "      <th>three_year_preds</th>\n",
       "      <th>five_year_preds</th>\n",
       "    </tr>\n",
       "  </thead>\n",
       "  <tbody>\n",
       "    <tr>\n",
       "      <th>count</th>\n",
       "      <td>23784.000000</td>\n",
       "      <td>23784.000000</td>\n",
       "      <td>23784.000000</td>\n",
       "      <td>23784.000000</td>\n",
       "      <td>23784.000000</td>\n",
       "    </tr>\n",
       "    <tr>\n",
       "      <th>mean</th>\n",
       "      <td>0.160360</td>\n",
       "      <td>0.144215</td>\n",
       "      <td>0.143668</td>\n",
       "      <td>0.145728</td>\n",
       "      <td>0.145602</td>\n",
       "    </tr>\n",
       "    <tr>\n",
       "      <th>std</th>\n",
       "      <td>0.366947</td>\n",
       "      <td>0.351315</td>\n",
       "      <td>0.350760</td>\n",
       "      <td>0.352841</td>\n",
       "      <td>0.352714</td>\n",
       "    </tr>\n",
       "    <tr>\n",
       "      <th>min</th>\n",
       "      <td>0.000000</td>\n",
       "      <td>0.000000</td>\n",
       "      <td>0.000000</td>\n",
       "      <td>0.000000</td>\n",
       "      <td>0.000000</td>\n",
       "    </tr>\n",
       "    <tr>\n",
       "      <th>25%</th>\n",
       "      <td>0.000000</td>\n",
       "      <td>0.000000</td>\n",
       "      <td>0.000000</td>\n",
       "      <td>0.000000</td>\n",
       "      <td>0.000000</td>\n",
       "    </tr>\n",
       "    <tr>\n",
       "      <th>50%</th>\n",
       "      <td>0.000000</td>\n",
       "      <td>0.000000</td>\n",
       "      <td>0.000000</td>\n",
       "      <td>0.000000</td>\n",
       "      <td>0.000000</td>\n",
       "    </tr>\n",
       "    <tr>\n",
       "      <th>75%</th>\n",
       "      <td>0.000000</td>\n",
       "      <td>0.000000</td>\n",
       "      <td>0.000000</td>\n",
       "      <td>0.000000</td>\n",
       "      <td>0.000000</td>\n",
       "    </tr>\n",
       "    <tr>\n",
       "      <th>max</th>\n",
       "      <td>1.000000</td>\n",
       "      <td>1.000000</td>\n",
       "      <td>1.000000</td>\n",
       "      <td>1.000000</td>\n",
       "      <td>1.000000</td>\n",
       "    </tr>\n",
       "  </tbody>\n",
       "</table>\n",
       "</div>"
      ],
      "text/plain": [
       "       status_binary   today_preds  one_year_preds  three_year_preds  \\\n",
       "count   23784.000000  23784.000000    23784.000000      23784.000000   \n",
       "mean        0.160360      0.144215        0.143668          0.145728   \n",
       "std         0.366947      0.351315        0.350760          0.352841   \n",
       "min         0.000000      0.000000        0.000000          0.000000   \n",
       "25%         0.000000      0.000000        0.000000          0.000000   \n",
       "50%         0.000000      0.000000        0.000000          0.000000   \n",
       "75%         0.000000      0.000000        0.000000          0.000000   \n",
       "max         1.000000      1.000000        1.000000          1.000000   \n",
       "\n",
       "       five_year_preds  \n",
       "count     23784.000000  \n",
       "mean          0.145602  \n",
       "std           0.352714  \n",
       "min           0.000000  \n",
       "25%           0.000000  \n",
       "50%           0.000000  \n",
       "75%           0.000000  \n",
       "max           1.000000  "
      ]
     },
     "execution_count": 48,
     "metadata": {},
     "output_type": "execute_result"
    }
   ],
   "source": [
    "#with corrected time to measure, however still using 0.5 threshold\n",
    "sl[['status_binary','today_preds','one_year_preds','three_year_preds', 'five_year_preds']].describe()"
   ]
  },
  {
   "cell_type": "markdown",
   "metadata": {},
   "source": [
    "# 0.5 threshold won't do, setting a modeling decision of > 90% recall for our prediction threshold"
   ]
  },
  {
   "cell_type": "code",
   "execution_count": 49,
   "metadata": {
    "collapsed": true
   },
   "outputs": [],
   "source": [
    "threshold = 0.21056\n",
    "#recall > 90%, we want to catch all of the bad wells\n",
    "sl['today_preds']=today_preds\n",
    "sl['today_predprob']= today_predprob[:,1]\n",
    "sl['one_year_preds'] = one_year_preds\n",
    "sl['one_year_predprob'] = one_year_predprob[:,1]\n",
    "sl['three_year_preds'] = three_year_preds\n",
    "sl['three_year_predprob']= three_year_predprob[:,1]\n",
    "sl['five_year_preds']=five_year_preds\n",
    "sl['five_year_predprob'] =five_year_predprob[:,1]"
   ]
  },
  {
   "cell_type": "code",
   "execution_count": 54,
   "metadata": {},
   "outputs": [
    {
     "data": {
      "text/html": [
       "<div>\n",
       "<style scoped>\n",
       "    .dataframe tbody tr th:only-of-type {\n",
       "        vertical-align: middle;\n",
       "    }\n",
       "\n",
       "    .dataframe tbody tr th {\n",
       "        vertical-align: top;\n",
       "    }\n",
       "\n",
       "    .dataframe thead th {\n",
       "        text-align: right;\n",
       "    }\n",
       "</style>\n",
       "<table border=\"1\" class=\"dataframe\">\n",
       "  <thead>\n",
       "    <tr style=\"text-align: right;\">\n",
       "      <th></th>\n",
       "      <th>status_binary</th>\n",
       "      <th>today_preds</th>\n",
       "      <th>one_year_preds</th>\n",
       "      <th>three_year_preds</th>\n",
       "      <th>five_year_preds</th>\n",
       "    </tr>\n",
       "  </thead>\n",
       "  <tbody>\n",
       "    <tr>\n",
       "      <th>count</th>\n",
       "      <td>23784.000000</td>\n",
       "      <td>23784.000000</td>\n",
       "      <td>23784.000000</td>\n",
       "      <td>23784.000000</td>\n",
       "      <td>23784.000000</td>\n",
       "    </tr>\n",
       "    <tr>\n",
       "      <th>mean</th>\n",
       "      <td>0.160360</td>\n",
       "      <td>0.171039</td>\n",
       "      <td>0.163303</td>\n",
       "      <td>0.112891</td>\n",
       "      <td>0.156786</td>\n",
       "    </tr>\n",
       "    <tr>\n",
       "      <th>std</th>\n",
       "      <td>0.366947</td>\n",
       "      <td>0.376551</td>\n",
       "      <td>0.369650</td>\n",
       "      <td>0.316466</td>\n",
       "      <td>0.363607</td>\n",
       "    </tr>\n",
       "    <tr>\n",
       "      <th>min</th>\n",
       "      <td>0.000000</td>\n",
       "      <td>0.000000</td>\n",
       "      <td>0.000000</td>\n",
       "      <td>0.000000</td>\n",
       "      <td>0.000000</td>\n",
       "    </tr>\n",
       "    <tr>\n",
       "      <th>25%</th>\n",
       "      <td>0.000000</td>\n",
       "      <td>0.000000</td>\n",
       "      <td>0.000000</td>\n",
       "      <td>0.000000</td>\n",
       "      <td>0.000000</td>\n",
       "    </tr>\n",
       "    <tr>\n",
       "      <th>50%</th>\n",
       "      <td>0.000000</td>\n",
       "      <td>0.000000</td>\n",
       "      <td>0.000000</td>\n",
       "      <td>0.000000</td>\n",
       "      <td>0.000000</td>\n",
       "    </tr>\n",
       "    <tr>\n",
       "      <th>75%</th>\n",
       "      <td>0.000000</td>\n",
       "      <td>0.000000</td>\n",
       "      <td>0.000000</td>\n",
       "      <td>0.000000</td>\n",
       "      <td>0.000000</td>\n",
       "    </tr>\n",
       "    <tr>\n",
       "      <th>max</th>\n",
       "      <td>1.000000</td>\n",
       "      <td>1.000000</td>\n",
       "      <td>1.000000</td>\n",
       "      <td>1.000000</td>\n",
       "      <td>1.000000</td>\n",
       "    </tr>\n",
       "  </tbody>\n",
       "</table>\n",
       "</div>"
      ],
      "text/plain": [
       "       status_binary   today_preds  one_year_preds  three_year_preds  \\\n",
       "count   23784.000000  23784.000000    23784.000000      23784.000000   \n",
       "mean        0.160360      0.171039        0.163303          0.112891   \n",
       "std         0.366947      0.376551        0.369650          0.316466   \n",
       "min         0.000000      0.000000        0.000000          0.000000   \n",
       "25%         0.000000      0.000000        0.000000          0.000000   \n",
       "50%         0.000000      0.000000        0.000000          0.000000   \n",
       "75%         0.000000      0.000000        0.000000          0.000000   \n",
       "max         1.000000      1.000000        1.000000          1.000000   \n",
       "\n",
       "       five_year_preds  \n",
       "count     23784.000000  \n",
       "mean          0.156786  \n",
       "std           0.363607  \n",
       "min           0.000000  \n",
       "25%           0.000000  \n",
       "50%           0.000000  \n",
       "75%           0.000000  \n",
       "max           1.000000  "
      ]
     },
     "execution_count": 54,
     "metadata": {},
     "output_type": "execute_result"
    }
   ],
   "source": [
    "#old, without updated time to measure years, but new threshold\n",
    "#sl[['status_binary','today_preds','one_year_preds','three_year_preds', 'five_year_preds']].describe()"
   ]
  },
  {
   "cell_type": "code",
   "execution_count": 50,
   "metadata": {},
   "outputs": [
    {
     "data": {
      "text/html": [
       "<div>\n",
       "<style scoped>\n",
       "    .dataframe tbody tr th:only-of-type {\n",
       "        vertical-align: middle;\n",
       "    }\n",
       "\n",
       "    .dataframe tbody tr th {\n",
       "        vertical-align: top;\n",
       "    }\n",
       "\n",
       "    .dataframe thead th {\n",
       "        text-align: right;\n",
       "    }\n",
       "</style>\n",
       "<table border=\"1\" class=\"dataframe\">\n",
       "  <thead>\n",
       "    <tr style=\"text-align: right;\">\n",
       "      <th></th>\n",
       "      <th>status_binary</th>\n",
       "      <th>today_preds</th>\n",
       "      <th>one_year_preds</th>\n",
       "      <th>three_year_preds</th>\n",
       "      <th>five_year_preds</th>\n",
       "    </tr>\n",
       "  </thead>\n",
       "  <tbody>\n",
       "    <tr>\n",
       "      <th>count</th>\n",
       "      <td>23784.000000</td>\n",
       "      <td>23784.000000</td>\n",
       "      <td>23784.000000</td>\n",
       "      <td>23784.000000</td>\n",
       "      <td>23784.000000</td>\n",
       "    </tr>\n",
       "    <tr>\n",
       "      <th>mean</th>\n",
       "      <td>0.160360</td>\n",
       "      <td>0.144215</td>\n",
       "      <td>0.143668</td>\n",
       "      <td>0.145728</td>\n",
       "      <td>0.145602</td>\n",
       "    </tr>\n",
       "    <tr>\n",
       "      <th>std</th>\n",
       "      <td>0.366947</td>\n",
       "      <td>0.351315</td>\n",
       "      <td>0.350760</td>\n",
       "      <td>0.352841</td>\n",
       "      <td>0.352714</td>\n",
       "    </tr>\n",
       "    <tr>\n",
       "      <th>min</th>\n",
       "      <td>0.000000</td>\n",
       "      <td>0.000000</td>\n",
       "      <td>0.000000</td>\n",
       "      <td>0.000000</td>\n",
       "      <td>0.000000</td>\n",
       "    </tr>\n",
       "    <tr>\n",
       "      <th>25%</th>\n",
       "      <td>0.000000</td>\n",
       "      <td>0.000000</td>\n",
       "      <td>0.000000</td>\n",
       "      <td>0.000000</td>\n",
       "      <td>0.000000</td>\n",
       "    </tr>\n",
       "    <tr>\n",
       "      <th>50%</th>\n",
       "      <td>0.000000</td>\n",
       "      <td>0.000000</td>\n",
       "      <td>0.000000</td>\n",
       "      <td>0.000000</td>\n",
       "      <td>0.000000</td>\n",
       "    </tr>\n",
       "    <tr>\n",
       "      <th>75%</th>\n",
       "      <td>0.000000</td>\n",
       "      <td>0.000000</td>\n",
       "      <td>0.000000</td>\n",
       "      <td>0.000000</td>\n",
       "      <td>0.000000</td>\n",
       "    </tr>\n",
       "    <tr>\n",
       "      <th>max</th>\n",
       "      <td>1.000000</td>\n",
       "      <td>1.000000</td>\n",
       "      <td>1.000000</td>\n",
       "      <td>1.000000</td>\n",
       "      <td>1.000000</td>\n",
       "    </tr>\n",
       "  </tbody>\n",
       "</table>\n",
       "</div>"
      ],
      "text/plain": [
       "       status_binary   today_preds  one_year_preds  three_year_preds  \\\n",
       "count   23784.000000  23784.000000    23784.000000      23784.000000   \n",
       "mean        0.160360      0.144215        0.143668          0.145728   \n",
       "std         0.366947      0.351315        0.350760          0.352841   \n",
       "min         0.000000      0.000000        0.000000          0.000000   \n",
       "25%         0.000000      0.000000        0.000000          0.000000   \n",
       "50%         0.000000      0.000000        0.000000          0.000000   \n",
       "75%         0.000000      0.000000        0.000000          0.000000   \n",
       "max         1.000000      1.000000        1.000000          1.000000   \n",
       "\n",
       "       five_year_preds  \n",
       "count     23784.000000  \n",
       "mean          0.145602  \n",
       "std           0.352714  \n",
       "min           0.000000  \n",
       "25%           0.000000  \n",
       "50%           0.000000  \n",
       "75%           0.000000  \n",
       "max           1.000000  "
      ]
     },
     "execution_count": 50,
     "metadata": {},
     "output_type": "execute_result"
    }
   ],
   "source": [
    "#with corrected time to measure years and updated threshold\n",
    "sl[['status_binary','today_preds','one_year_preds','three_year_preds', 'five_year_preds']].describe()"
   ]
  },
  {
   "cell_type": "code",
   "execution_count": 51,
   "metadata": {},
   "outputs": [
    {
     "data": {
      "text/plain": [
       "(79, 48)"
      ]
     },
     "execution_count": 51,
     "metadata": {},
     "output_type": "execute_result"
    }
   ],
   "source": [
    "#how many wells that were good at time of measurement do we predict will fail within one year from today?\n",
    "sl[sl.status_binary==0][(sl.one_year_preds==1)].shape"
   ]
  },
  {
   "cell_type": "code",
   "execution_count": 52,
   "metadata": {},
   "outputs": [
    {
     "name": "stdout",
     "output_type": "stream",
     "text": [
      "             precision    recall  f1-score   support\n",
      "\n",
      "        0.0       0.99      0.99      0.99      3994\n",
      "        1.0       0.96      0.93      0.94       763\n",
      "\n",
      "avg / total       0.98      0.98      0.98      4757\n",
      "\n"
     ]
    }
   ],
   "source": [
    "print(metrics.classification_report(y_holdout, dholdout_predictions))"
   ]
  },
  {
   "cell_type": "code",
   "execution_count": 53,
   "metadata": {},
   "outputs": [
    {
     "name": "stdout",
     "output_type": "stream",
     "text": [
      "[[3961   33]\n",
      " [  53  710]]\n"
     ]
    }
   ],
   "source": [
    "dholdout_predictions = model_outer.predict(X_holdout)\n",
    "print(metrics.confusion_matrix(y_holdout, dholdout_predictions))"
   ]
  },
  {
   "cell_type": "code",
   "execution_count": 54,
   "metadata": {},
   "outputs": [
    {
     "data": {
      "text/html": [
       "<div>\n",
       "<style scoped>\n",
       "    .dataframe tbody tr th:only-of-type {\n",
       "        vertical-align: middle;\n",
       "    }\n",
       "\n",
       "    .dataframe tbody tr th {\n",
       "        vertical-align: top;\n",
       "    }\n",
       "\n",
       "    .dataframe thead th {\n",
       "        text-align: right;\n",
       "    }\n",
       "</style>\n",
       "<table border=\"1\" class=\"dataframe\">\n",
       "  <thead>\n",
       "    <tr style=\"text-align: right;\">\n",
       "      <th></th>\n",
       "      <th>country_name</th>\n",
       "      <th>water_source</th>\n",
       "      <th>water_tech</th>\n",
       "      <th>status_id</th>\n",
       "      <th>status_0_yes</th>\n",
       "      <th>management</th>\n",
       "      <th>pay</th>\n",
       "      <th>installer</th>\n",
       "      <th>install_year</th>\n",
       "      <th>status</th>\n",
       "      <th>source</th>\n",
       "      <th>adm1</th>\n",
       "      <th>adm2</th>\n",
       "      <th>wpdx_id</th>\n",
       "      <th>report_date</th>\n",
       "      <th>country_id</th>\n",
       "      <th>activity_id</th>\n",
       "      <th>data_lnk</th>\n",
       "      <th>orig_lnk</th>\n",
       "      <th>photo_lnk</th>\n",
       "      <th>converted</th>\n",
       "      <th>created</th>\n",
       "      <th>updated</th>\n",
       "      <th>lat_deg</th>\n",
       "      <th>lon_deg</th>\n",
       "      <th>Location</th>\n",
       "      <th>Count</th>\n",
       "      <th>fecal_coliform_presence</th>\n",
       "      <th>fecal_coliform_value</th>\n",
       "      <th>subjective_quality</th>\n",
       "      <th>new_report_date</th>\n",
       "      <th>new_install_year</th>\n",
       "      <th>age_well</th>\n",
       "      <th>age_well_days</th>\n",
       "      <th>status_binary</th>\n",
       "      <th>time_since_measurement</th>\n",
       "      <th>time_since_meas_years</th>\n",
       "      <th>age_well_years</th>\n",
       "      <th>fuzzy_water_source</th>\n",
       "      <th>fuzzy_water_tech</th>\n",
       "      <th>today_preds</th>\n",
       "      <th>today_predprob</th>\n",
       "      <th>one_year_preds</th>\n",
       "      <th>one_year_predprob</th>\n",
       "      <th>three_year_preds</th>\n",
       "      <th>three_year_predprob</th>\n",
       "      <th>five_year_preds</th>\n",
       "      <th>five_year_predprob</th>\n",
       "    </tr>\n",
       "  </thead>\n",
       "  <tbody>\n",
       "    <tr>\n",
       "      <th>301738</th>\n",
       "      <td>Swaziland</td>\n",
       "      <td>Borehole fitted with submersible pump</td>\n",
       "      <td>Standpipe</td>\n",
       "      <td>no</td>\n",
       "      <td>1.0</td>\n",
       "      <td>Community Management</td>\n",
       "      <td>15</td>\n",
       "      <td>__MISSING__</td>\n",
       "      <td>1982.0</td>\n",
       "      <td>Stolen Pump</td>\n",
       "      <td>Swaziland Department of Water Affairs</td>\n",
       "      <td>SHISELWENI</td>\n",
       "      <td>MASEYISINI</td>\n",
       "      <td>wpdx-00472293</td>\n",
       "      <td>07/01/2015 12:00:00 AM +0000</td>\n",
       "      <td>SZ</td>\n",
       "      <td>Access Point6002</td>\n",
       "      <td>__MISSING__</td>\n",
       "      <td>https://www.waterpointdata.org/dataset/resourc...</td>\n",
       "      <td>__MISSING__</td>\n",
       "      <td>#status_id; #report_date; #management; #instal...</td>\n",
       "      <td>01/19/2017 06:10:50 AM +0000</td>\n",
       "      <td>01/19/2017 06:10:50 AM +0000</td>\n",
       "      <td>-27.1031</td>\n",
       "      <td>31.1317</td>\n",
       "      <td>(-27.1031, 31.1317)</td>\n",
       "      <td>1.0</td>\n",
       "      <td>NaN</td>\n",
       "      <td>NaN</td>\n",
       "      <td>NaN</td>\n",
       "      <td>2015-07-01</td>\n",
       "      <td>1982-01-01 00:00:00</td>\n",
       "      <td>12234 days 00:00:00.000000000</td>\n",
       "      <td>12234.0</td>\n",
       "      <td>1.0</td>\n",
       "      <td>981 days 00:00:00.000000000</td>\n",
       "      <td>2.7</td>\n",
       "      <td>33.5</td>\n",
       "      <td>Borehole</td>\n",
       "      <td>Standpipe Stand Post</td>\n",
       "      <td>1.0</td>\n",
       "      <td>0.922439</td>\n",
       "      <td>1.0</td>\n",
       "      <td>0.895547</td>\n",
       "      <td>1.0</td>\n",
       "      <td>0.895547</td>\n",
       "      <td>1.0</td>\n",
       "      <td>0.884434</td>\n",
       "    </tr>\n",
       "    <tr>\n",
       "      <th>301739</th>\n",
       "      <td>Swaziland</td>\n",
       "      <td>Borehole fitted with submersible pump</td>\n",
       "      <td>Standpipe</td>\n",
       "      <td>no</td>\n",
       "      <td>1.0</td>\n",
       "      <td>Community Management</td>\n",
       "      <td>15</td>\n",
       "      <td>__MISSING__</td>\n",
       "      <td>1982.0</td>\n",
       "      <td>Stolen Pump</td>\n",
       "      <td>Swaziland Department of Water Affairs</td>\n",
       "      <td>SHISELWENI</td>\n",
       "      <td>MASEYISINI</td>\n",
       "      <td>wpdx-00472294</td>\n",
       "      <td>07/01/2015 12:00:00 AM +0000</td>\n",
       "      <td>SZ</td>\n",
       "      <td>Access Point6004</td>\n",
       "      <td>__MISSING__</td>\n",
       "      <td>https://www.waterpointdata.org/dataset/resourc...</td>\n",
       "      <td>__MISSING__</td>\n",
       "      <td>#status_id; #report_date; #management; #instal...</td>\n",
       "      <td>01/19/2017 06:10:50 AM +0000</td>\n",
       "      <td>01/19/2017 06:10:50 AM +0000</td>\n",
       "      <td>-27.1045</td>\n",
       "      <td>31.1286</td>\n",
       "      <td>(-27.1045, 31.1286)</td>\n",
       "      <td>1.0</td>\n",
       "      <td>NaN</td>\n",
       "      <td>NaN</td>\n",
       "      <td>NaN</td>\n",
       "      <td>2015-07-01</td>\n",
       "      <td>1982-01-01 00:00:00</td>\n",
       "      <td>12234 days 00:00:00.000000000</td>\n",
       "      <td>12234.0</td>\n",
       "      <td>1.0</td>\n",
       "      <td>981 days 00:00:00.000000000</td>\n",
       "      <td>2.7</td>\n",
       "      <td>33.5</td>\n",
       "      <td>Borehole</td>\n",
       "      <td>Standpipe Stand Post</td>\n",
       "      <td>1.0</td>\n",
       "      <td>0.922439</td>\n",
       "      <td>1.0</td>\n",
       "      <td>0.895547</td>\n",
       "      <td>1.0</td>\n",
       "      <td>0.895547</td>\n",
       "      <td>1.0</td>\n",
       "      <td>0.884434</td>\n",
       "    </tr>\n",
       "    <tr>\n",
       "      <th>301740</th>\n",
       "      <td>Swaziland</td>\n",
       "      <td>Borehole fitted with submersible pump</td>\n",
       "      <td>Standpipe</td>\n",
       "      <td>no</td>\n",
       "      <td>1.0</td>\n",
       "      <td>Community Management</td>\n",
       "      <td>15</td>\n",
       "      <td>__MISSING__</td>\n",
       "      <td>1982.0</td>\n",
       "      <td>Stolen Pump</td>\n",
       "      <td>Swaziland Department of Water Affairs</td>\n",
       "      <td>SHISELWENI</td>\n",
       "      <td>MASEYISINI</td>\n",
       "      <td>wpdx-00472295</td>\n",
       "      <td>07/01/2015 12:00:00 AM +0000</td>\n",
       "      <td>SZ</td>\n",
       "      <td>Access Point6005</td>\n",
       "      <td>__MISSING__</td>\n",
       "      <td>https://www.waterpointdata.org/dataset/resourc...</td>\n",
       "      <td>__MISSING__</td>\n",
       "      <td>#status_id; #report_date; #management; #instal...</td>\n",
       "      <td>01/19/2017 06:10:50 AM +0000</td>\n",
       "      <td>01/19/2017 06:10:50 AM +0000</td>\n",
       "      <td>-27.1051</td>\n",
       "      <td>31.1281</td>\n",
       "      <td>(-27.1051, 31.1281)</td>\n",
       "      <td>1.0</td>\n",
       "      <td>NaN</td>\n",
       "      <td>NaN</td>\n",
       "      <td>NaN</td>\n",
       "      <td>2015-07-01</td>\n",
       "      <td>1982-01-01 00:00:00</td>\n",
       "      <td>12234 days 00:00:00.000000000</td>\n",
       "      <td>12234.0</td>\n",
       "      <td>1.0</td>\n",
       "      <td>981 days 00:00:00.000000000</td>\n",
       "      <td>2.7</td>\n",
       "      <td>33.5</td>\n",
       "      <td>Borehole</td>\n",
       "      <td>Standpipe Stand Post</td>\n",
       "      <td>1.0</td>\n",
       "      <td>0.929609</td>\n",
       "      <td>1.0</td>\n",
       "      <td>0.904946</td>\n",
       "      <td>1.0</td>\n",
       "      <td>0.904946</td>\n",
       "      <td>1.0</td>\n",
       "      <td>0.894715</td>\n",
       "    </tr>\n",
       "    <tr>\n",
       "      <th>301741</th>\n",
       "      <td>Swaziland</td>\n",
       "      <td>Borehole fitted with submersible pump</td>\n",
       "      <td>Standpipe</td>\n",
       "      <td>no</td>\n",
       "      <td>1.0</td>\n",
       "      <td>Community Management</td>\n",
       "      <td>15</td>\n",
       "      <td>__MISSING__</td>\n",
       "      <td>1982.0</td>\n",
       "      <td>Stolen Pump</td>\n",
       "      <td>Swaziland Department of Water Affairs</td>\n",
       "      <td>SHISELWENI</td>\n",
       "      <td>MASEYISINI</td>\n",
       "      <td>wpdx-00472296</td>\n",
       "      <td>07/01/2015 12:00:00 AM +0000</td>\n",
       "      <td>SZ</td>\n",
       "      <td>Access Point6007</td>\n",
       "      <td>__MISSING__</td>\n",
       "      <td>https://www.waterpointdata.org/dataset/resourc...</td>\n",
       "      <td>__MISSING__</td>\n",
       "      <td>#status_id; #report_date; #management; #instal...</td>\n",
       "      <td>01/19/2017 06:10:50 AM +0000</td>\n",
       "      <td>01/19/2017 06:10:50 AM +0000</td>\n",
       "      <td>-27.1068</td>\n",
       "      <td>31.1275</td>\n",
       "      <td>(-27.1068, 31.1275)</td>\n",
       "      <td>1.0</td>\n",
       "      <td>NaN</td>\n",
       "      <td>NaN</td>\n",
       "      <td>NaN</td>\n",
       "      <td>2015-07-01</td>\n",
       "      <td>1982-01-01 00:00:00</td>\n",
       "      <td>12234 days 00:00:00.000000000</td>\n",
       "      <td>12234.0</td>\n",
       "      <td>1.0</td>\n",
       "      <td>981 days 00:00:00.000000000</td>\n",
       "      <td>2.7</td>\n",
       "      <td>33.5</td>\n",
       "      <td>Borehole</td>\n",
       "      <td>Standpipe Stand Post</td>\n",
       "      <td>1.0</td>\n",
       "      <td>0.923510</td>\n",
       "      <td>1.0</td>\n",
       "      <td>0.896948</td>\n",
       "      <td>1.0</td>\n",
       "      <td>0.896948</td>\n",
       "      <td>1.0</td>\n",
       "      <td>0.885965</td>\n",
       "    </tr>\n",
       "    <tr>\n",
       "      <th>301742</th>\n",
       "      <td>Swaziland</td>\n",
       "      <td>Borehole fitted with submersible pump</td>\n",
       "      <td>Standpipe</td>\n",
       "      <td>no</td>\n",
       "      <td>1.0</td>\n",
       "      <td>Community Management</td>\n",
       "      <td>15</td>\n",
       "      <td>__MISSING__</td>\n",
       "      <td>1982.0</td>\n",
       "      <td>Stolen Pump</td>\n",
       "      <td>Swaziland Department of Water Affairs</td>\n",
       "      <td>SHISELWENI</td>\n",
       "      <td>MASEYISINI</td>\n",
       "      <td>wpdx-00472297</td>\n",
       "      <td>07/01/2015 12:00:00 AM +0000</td>\n",
       "      <td>SZ</td>\n",
       "      <td>Access Point6008</td>\n",
       "      <td>__MISSING__</td>\n",
       "      <td>https://www.waterpointdata.org/dataset/resourc...</td>\n",
       "      <td>__MISSING__</td>\n",
       "      <td>#status_id; #report_date; #management; #instal...</td>\n",
       "      <td>01/19/2017 06:10:50 AM +0000</td>\n",
       "      <td>01/19/2017 06:10:50 AM +0000</td>\n",
       "      <td>-27.1096</td>\n",
       "      <td>31.1319</td>\n",
       "      <td>(-27.1096, 31.1319)</td>\n",
       "      <td>1.0</td>\n",
       "      <td>NaN</td>\n",
       "      <td>NaN</td>\n",
       "      <td>NaN</td>\n",
       "      <td>2015-07-01</td>\n",
       "      <td>1982-01-01 00:00:00</td>\n",
       "      <td>12234 days 00:00:00.000000000</td>\n",
       "      <td>12234.0</td>\n",
       "      <td>1.0</td>\n",
       "      <td>981 days 00:00:00.000000000</td>\n",
       "      <td>2.7</td>\n",
       "      <td>33.5</td>\n",
       "      <td>Borehole</td>\n",
       "      <td>Standpipe Stand Post</td>\n",
       "      <td>1.0</td>\n",
       "      <td>0.914814</td>\n",
       "      <td>1.0</td>\n",
       "      <td>0.885606</td>\n",
       "      <td>1.0</td>\n",
       "      <td>0.885606</td>\n",
       "      <td>1.0</td>\n",
       "      <td>0.873584</td>\n",
       "    </tr>\n",
       "  </tbody>\n",
       "</table>\n",
       "</div>"
      ],
      "text/plain": [
       "       country_name                           water_source water_tech  \\\n",
       "301738    Swaziland  Borehole fitted with submersible pump  Standpipe   \n",
       "301739    Swaziland  Borehole fitted with submersible pump  Standpipe   \n",
       "301740    Swaziland  Borehole fitted with submersible pump  Standpipe   \n",
       "301741    Swaziland  Borehole fitted with submersible pump  Standpipe   \n",
       "301742    Swaziland  Borehole fitted with submersible pump  Standpipe   \n",
       "\n",
       "       status_id  status_0_yes            management pay    installer  \\\n",
       "301738        no           1.0  Community Management  15  __MISSING__   \n",
       "301739        no           1.0  Community Management  15  __MISSING__   \n",
       "301740        no           1.0  Community Management  15  __MISSING__   \n",
       "301741        no           1.0  Community Management  15  __MISSING__   \n",
       "301742        no           1.0  Community Management  15  __MISSING__   \n",
       "\n",
       "       install_year       status                                 source  \\\n",
       "301738       1982.0  Stolen Pump  Swaziland Department of Water Affairs   \n",
       "301739       1982.0  Stolen Pump  Swaziland Department of Water Affairs   \n",
       "301740       1982.0  Stolen Pump  Swaziland Department of Water Affairs   \n",
       "301741       1982.0  Stolen Pump  Swaziland Department of Water Affairs   \n",
       "301742       1982.0  Stolen Pump  Swaziland Department of Water Affairs   \n",
       "\n",
       "              adm1        adm2        wpdx_id                   report_date  \\\n",
       "301738  SHISELWENI  MASEYISINI  wpdx-00472293  07/01/2015 12:00:00 AM +0000   \n",
       "301739  SHISELWENI  MASEYISINI  wpdx-00472294  07/01/2015 12:00:00 AM +0000   \n",
       "301740  SHISELWENI  MASEYISINI  wpdx-00472295  07/01/2015 12:00:00 AM +0000   \n",
       "301741  SHISELWENI  MASEYISINI  wpdx-00472296  07/01/2015 12:00:00 AM +0000   \n",
       "301742  SHISELWENI  MASEYISINI  wpdx-00472297  07/01/2015 12:00:00 AM +0000   \n",
       "\n",
       "       country_id       activity_id     data_lnk  \\\n",
       "301738         SZ  Access Point6002  __MISSING__   \n",
       "301739         SZ  Access Point6004  __MISSING__   \n",
       "301740         SZ  Access Point6005  __MISSING__   \n",
       "301741         SZ  Access Point6007  __MISSING__   \n",
       "301742         SZ  Access Point6008  __MISSING__   \n",
       "\n",
       "                                                 orig_lnk    photo_lnk  \\\n",
       "301738  https://www.waterpointdata.org/dataset/resourc...  __MISSING__   \n",
       "301739  https://www.waterpointdata.org/dataset/resourc...  __MISSING__   \n",
       "301740  https://www.waterpointdata.org/dataset/resourc...  __MISSING__   \n",
       "301741  https://www.waterpointdata.org/dataset/resourc...  __MISSING__   \n",
       "301742  https://www.waterpointdata.org/dataset/resourc...  __MISSING__   \n",
       "\n",
       "                                                converted  \\\n",
       "301738  #status_id; #report_date; #management; #instal...   \n",
       "301739  #status_id; #report_date; #management; #instal...   \n",
       "301740  #status_id; #report_date; #management; #instal...   \n",
       "301741  #status_id; #report_date; #management; #instal...   \n",
       "301742  #status_id; #report_date; #management; #instal...   \n",
       "\n",
       "                             created                       updated  lat_deg  \\\n",
       "301738  01/19/2017 06:10:50 AM +0000  01/19/2017 06:10:50 AM +0000 -27.1031   \n",
       "301739  01/19/2017 06:10:50 AM +0000  01/19/2017 06:10:50 AM +0000 -27.1045   \n",
       "301740  01/19/2017 06:10:50 AM +0000  01/19/2017 06:10:50 AM +0000 -27.1051   \n",
       "301741  01/19/2017 06:10:50 AM +0000  01/19/2017 06:10:50 AM +0000 -27.1068   \n",
       "301742  01/19/2017 06:10:50 AM +0000  01/19/2017 06:10:50 AM +0000 -27.1096   \n",
       "\n",
       "        lon_deg             Location  Count  fecal_coliform_presence  \\\n",
       "301738  31.1317  (-27.1031, 31.1317)    1.0                      NaN   \n",
       "301739  31.1286  (-27.1045, 31.1286)    1.0                      NaN   \n",
       "301740  31.1281  (-27.1051, 31.1281)    1.0                      NaN   \n",
       "301741  31.1275  (-27.1068, 31.1275)    1.0                      NaN   \n",
       "301742  31.1319  (-27.1096, 31.1319)    1.0                      NaN   \n",
       "\n",
       "        fecal_coliform_value  subjective_quality new_report_date  \\\n",
       "301738                   NaN                 NaN      2015-07-01   \n",
       "301739                   NaN                 NaN      2015-07-01   \n",
       "301740                   NaN                 NaN      2015-07-01   \n",
       "301741                   NaN                 NaN      2015-07-01   \n",
       "301742                   NaN                 NaN      2015-07-01   \n",
       "\n",
       "           new_install_year                       age_well  age_well_days  \\\n",
       "301738  1982-01-01 00:00:00  12234 days 00:00:00.000000000        12234.0   \n",
       "301739  1982-01-01 00:00:00  12234 days 00:00:00.000000000        12234.0   \n",
       "301740  1982-01-01 00:00:00  12234 days 00:00:00.000000000        12234.0   \n",
       "301741  1982-01-01 00:00:00  12234 days 00:00:00.000000000        12234.0   \n",
       "301742  1982-01-01 00:00:00  12234 days 00:00:00.000000000        12234.0   \n",
       "\n",
       "        status_binary       time_since_measurement  time_since_meas_years  \\\n",
       "301738            1.0  981 days 00:00:00.000000000                    2.7   \n",
       "301739            1.0  981 days 00:00:00.000000000                    2.7   \n",
       "301740            1.0  981 days 00:00:00.000000000                    2.7   \n",
       "301741            1.0  981 days 00:00:00.000000000                    2.7   \n",
       "301742            1.0  981 days 00:00:00.000000000                    2.7   \n",
       "\n",
       "        age_well_years fuzzy_water_source      fuzzy_water_tech  today_preds  \\\n",
       "301738            33.5           Borehole  Standpipe Stand Post          1.0   \n",
       "301739            33.5           Borehole  Standpipe Stand Post          1.0   \n",
       "301740            33.5           Borehole  Standpipe Stand Post          1.0   \n",
       "301741            33.5           Borehole  Standpipe Stand Post          1.0   \n",
       "301742            33.5           Borehole  Standpipe Stand Post          1.0   \n",
       "\n",
       "        today_predprob  one_year_preds  one_year_predprob  three_year_preds  \\\n",
       "301738        0.922439             1.0           0.895547               1.0   \n",
       "301739        0.922439             1.0           0.895547               1.0   \n",
       "301740        0.929609             1.0           0.904946               1.0   \n",
       "301741        0.923510             1.0           0.896948               1.0   \n",
       "301742        0.914814             1.0           0.885606               1.0   \n",
       "\n",
       "        three_year_predprob  five_year_preds  five_year_predprob  \n",
       "301738             0.895547              1.0            0.884434  \n",
       "301739             0.895547              1.0            0.884434  \n",
       "301740             0.904946              1.0            0.894715  \n",
       "301741             0.896948              1.0            0.885965  \n",
       "301742             0.885606              1.0            0.873584  "
      ]
     },
     "execution_count": 54,
     "metadata": {},
     "output_type": "execute_result"
    }
   ],
   "source": [
    "sl.head()"
   ]
  },
  {
   "cell_type": "code",
   "execution_count": 60,
   "metadata": {
    "collapsed": true
   },
   "outputs": [],
   "source": [
    "sl.to_csv('Swaziland_w_outyear_predictions.csv')"
   ]
  },
  {
   "cell_type": "code",
   "execution_count": 87,
   "metadata": {
    "collapsed": true
   },
   "outputs": [],
   "source": [
    "df=pd.read_csv('Swaziland_w_outyear_predictions.csv')"
   ]
  },
  {
   "cell_type": "markdown",
   "metadata": {},
   "source": [
    "# Summarize for write up"
   ]
  },
  {
   "cell_type": "code",
   "execution_count": 42,
   "metadata": {},
   "outputs": [
    {
     "data": {
      "text/html": [
       "<div>\n",
       "<style scoped>\n",
       "    .dataframe tbody tr th:only-of-type {\n",
       "        vertical-align: middle;\n",
       "    }\n",
       "\n",
       "    .dataframe tbody tr th {\n",
       "        vertical-align: top;\n",
       "    }\n",
       "\n",
       "    .dataframe thead th {\n",
       "        text-align: right;\n",
       "    }\n",
       "</style>\n",
       "<table border=\"1\" class=\"dataframe\">\n",
       "  <thead>\n",
       "    <tr style=\"text-align: right;\">\n",
       "      <th>index</th>\n",
       "      <th>fuzzy_water_source</th>\n",
       "      <th>fuzzy_water_tech</th>\n",
       "      <th># functioning</th>\n",
       "      <th># not functioning</th>\n",
       "      <th>percentage_broken</th>\n",
       "    </tr>\n",
       "  </thead>\n",
       "  <tbody>\n",
       "    <tr>\n",
       "      <th>0</th>\n",
       "      <td>Borehole</td>\n",
       "      <td>Borehole</td>\n",
       "      <td>990.0</td>\n",
       "      <td>472.0</td>\n",
       "      <td>32.28</td>\n",
       "    </tr>\n",
       "    <tr>\n",
       "      <th>1</th>\n",
       "      <td>Borehole</td>\n",
       "      <td>Spring River Stream Protected</td>\n",
       "      <td>4.0</td>\n",
       "      <td>3.0</td>\n",
       "      <td>42.86</td>\n",
       "    </tr>\n",
       "    <tr>\n",
       "      <th>2</th>\n",
       "      <td>Borehole</td>\n",
       "      <td>Standpipe Stand Post</td>\n",
       "      <td>6643.0</td>\n",
       "      <td>2330.0</td>\n",
       "      <td>25.97</td>\n",
       "    </tr>\n",
       "    <tr>\n",
       "      <th>3</th>\n",
       "      <td>Borehole</td>\n",
       "      <td>no match</td>\n",
       "      <td>637.0</td>\n",
       "      <td>228.0</td>\n",
       "      <td>26.36</td>\n",
       "    </tr>\n",
       "    <tr>\n",
       "      <th>4</th>\n",
       "      <td>Hand Pump</td>\n",
       "      <td>Borehole</td>\n",
       "      <td>1.0</td>\n",
       "      <td>0.0</td>\n",
       "      <td>0.00</td>\n",
       "    </tr>\n",
       "    <tr>\n",
       "      <th>5</th>\n",
       "      <td>Hand Pump</td>\n",
       "      <td>Lake Pond Dam</td>\n",
       "      <td>4.0</td>\n",
       "      <td>1.0</td>\n",
       "      <td>20.00</td>\n",
       "    </tr>\n",
       "    <tr>\n",
       "      <th>6</th>\n",
       "      <td>Hand Pump</td>\n",
       "      <td>Standpipe Stand Post</td>\n",
       "      <td>102.0</td>\n",
       "      <td>0.0</td>\n",
       "      <td>0.00</td>\n",
       "    </tr>\n",
       "    <tr>\n",
       "      <th>7</th>\n",
       "      <td>Hand Pump</td>\n",
       "      <td>no match</td>\n",
       "      <td>19.0</td>\n",
       "      <td>0.0</td>\n",
       "      <td>0.00</td>\n",
       "    </tr>\n",
       "    <tr>\n",
       "      <th>8</th>\n",
       "      <td>Spring River Stream Protected</td>\n",
       "      <td>Borehole</td>\n",
       "      <td>4.0</td>\n",
       "      <td>0.0</td>\n",
       "      <td>0.00</td>\n",
       "    </tr>\n",
       "    <tr>\n",
       "      <th>9</th>\n",
       "      <td>Spring River Stream Protected</td>\n",
       "      <td>Lake Pond Dam</td>\n",
       "      <td>4.0</td>\n",
       "      <td>0.0</td>\n",
       "      <td>0.00</td>\n",
       "    </tr>\n",
       "    <tr>\n",
       "      <th>10</th>\n",
       "      <td>Spring River Stream Protected</td>\n",
       "      <td>Spring River Stream Protected</td>\n",
       "      <td>338.0</td>\n",
       "      <td>29.0</td>\n",
       "      <td>7.90</td>\n",
       "    </tr>\n",
       "    <tr>\n",
       "      <th>11</th>\n",
       "      <td>Spring River Stream Protected</td>\n",
       "      <td>Standpipe Stand Post</td>\n",
       "      <td>10190.0</td>\n",
       "      <td>613.0</td>\n",
       "      <td>5.67</td>\n",
       "    </tr>\n",
       "    <tr>\n",
       "      <th>12</th>\n",
       "      <td>Spring River Stream Protected</td>\n",
       "      <td>no match</td>\n",
       "      <td>625.0</td>\n",
       "      <td>53.0</td>\n",
       "      <td>7.82</td>\n",
       "    </tr>\n",
       "    <tr>\n",
       "      <th>13</th>\n",
       "      <td>Well</td>\n",
       "      <td>Well</td>\n",
       "      <td>4.0</td>\n",
       "      <td>0.0</td>\n",
       "      <td>0.00</td>\n",
       "    </tr>\n",
       "    <tr>\n",
       "      <th>14</th>\n",
       "      <td>no match</td>\n",
       "      <td>Lake Pond Dam</td>\n",
       "      <td>3.0</td>\n",
       "      <td>1.0</td>\n",
       "      <td>25.00</td>\n",
       "    </tr>\n",
       "    <tr>\n",
       "      <th>15</th>\n",
       "      <td>no match</td>\n",
       "      <td>Spring River Stream Protected</td>\n",
       "      <td>6.0</td>\n",
       "      <td>2.0</td>\n",
       "      <td>25.00</td>\n",
       "    </tr>\n",
       "    <tr>\n",
       "      <th>16</th>\n",
       "      <td>no match</td>\n",
       "      <td>Standpipe Stand Post</td>\n",
       "      <td>357.0</td>\n",
       "      <td>77.0</td>\n",
       "      <td>17.74</td>\n",
       "    </tr>\n",
       "    <tr>\n",
       "      <th>17</th>\n",
       "      <td>no match</td>\n",
       "      <td>no match</td>\n",
       "      <td>39.0</td>\n",
       "      <td>5.0</td>\n",
       "      <td>11.36</td>\n",
       "    </tr>\n",
       "  </tbody>\n",
       "</table>\n",
       "</div>"
      ],
      "text/plain": [
       "index             fuzzy_water_source               fuzzy_water_tech  \\\n",
       "0                           Borehole                       Borehole   \n",
       "1                           Borehole  Spring River Stream Protected   \n",
       "2                           Borehole           Standpipe Stand Post   \n",
       "3                           Borehole                       no match   \n",
       "4                          Hand Pump                       Borehole   \n",
       "5                          Hand Pump                  Lake Pond Dam   \n",
       "6                          Hand Pump           Standpipe Stand Post   \n",
       "7                          Hand Pump                       no match   \n",
       "8      Spring River Stream Protected                       Borehole   \n",
       "9      Spring River Stream Protected                  Lake Pond Dam   \n",
       "10     Spring River Stream Protected  Spring River Stream Protected   \n",
       "11     Spring River Stream Protected           Standpipe Stand Post   \n",
       "12     Spring River Stream Protected                       no match   \n",
       "13                              Well                           Well   \n",
       "14                          no match                  Lake Pond Dam   \n",
       "15                          no match  Spring River Stream Protected   \n",
       "16                          no match           Standpipe Stand Post   \n",
       "17                          no match                       no match   \n",
       "\n",
       "index  # functioning  # not functioning  percentage_broken  \n",
       "0              990.0              472.0              32.28  \n",
       "1                4.0                3.0              42.86  \n",
       "2             6643.0             2330.0              25.97  \n",
       "3              637.0              228.0              26.36  \n",
       "4                1.0                0.0               0.00  \n",
       "5                4.0                1.0              20.00  \n",
       "6              102.0                0.0               0.00  \n",
       "7               19.0                0.0               0.00  \n",
       "8                4.0                0.0               0.00  \n",
       "9                4.0                0.0               0.00  \n",
       "10             338.0               29.0               7.90  \n",
       "11           10190.0              613.0               5.67  \n",
       "12             625.0               53.0               7.82  \n",
       "13               4.0                0.0               0.00  \n",
       "14               3.0                1.0              25.00  \n",
       "15               6.0                2.0              25.00  \n",
       "16             357.0               77.0              17.74  \n",
       "17              39.0                5.0              11.36  "
      ]
     },
     "execution_count": 42,
     "metadata": {},
     "output_type": "execute_result"
    }
   ],
   "source": [
    "gp = df.groupby(['fuzzy_water_source', 'fuzzy_water_tech', 'status_binary']).size().unstack()\n",
    "gp['percentage_broken'] = round(gp[1]/gp.sum(axis=1)*100,2)\n",
    "gp.reset_index(inplace=True)\n",
    "gp.rename(columns={0:'# functioning', 1:'# not functioning'},index={'status_binary':'index'},  inplace=True)\n",
    "gp.rename_axis('index', axis='columns').fillna(0)\n",
    "#gp.drop(columns=gp.status_binary, axis=1)\n",
    "#gp.rename(index=str)\n"
   ]
  },
  {
   "cell_type": "markdown",
   "metadata": {},
   "source": [
    "# Examine the age of the wells by tech, source"
   ]
  },
  {
   "cell_type": "code",
   "execution_count": 80,
   "metadata": {},
   "outputs": [
    {
     "data": {
      "text/plain": [
       "[None, None, None, None, None, None]"
      ]
     },
     "execution_count": 80,
     "metadata": {},
     "output_type": "execute_result"
    },
    {
     "data": {
      "image/png": "[encoded data removed]",
      "text/plain": [
       "<matplotlib.figure.Figure at 0x12919b630>"
      ]
     },
     "metadata": {},
     "output_type": "display_data"
    }
   ],
   "source": [
    "plt.rcParams['xtick.labelsize'] = 32\n",
    "#exclude missing values for well age - 274\n",
    "fig = sl[sl.age_well_years!=274].hist('age_well_years', by='fuzzy_water_tech', bins=50, figsize=(50,30), sharex=True)\n",
    "[x.title.set_size(32) for x in fig.ravel()]\n"
   ]
  },
  {
   "cell_type": "code",
   "execution_count": 79,
   "metadata": {},
   "outputs": [
    {
     "data": {
      "text/plain": [
       "[None, None, None, None, None, None]"
      ]
     },
     "execution_count": 79,
     "metadata": {},
     "output_type": "execute_result"
    },
    {
     "data": {
      "image/png": "[encoded data removed]",
      "text/plain": [
       "<matplotlib.figure.Figure at 0x129beeba8>"
      ]
     },
     "metadata": {},
     "output_type": "display_data"
    }
   ],
   "source": [
    "plt.rcParams['xtick.labelsize'] = 32\n",
    "fig = sl[sl.age_well_years!=274].hist('age_well_years', by='fuzzy_water_source', bins=50, figsize=(50,30), sharex=True)\n",
    "[x.title.set_size(32) for x in fig.ravel()]\n"
   ]
  },
  {
   "cell_type": "markdown",
   "metadata": {},
   "source": [
    "# Ensure that if a point was ever bad in the past, it will show as bad in all points in the future"
   ]
  },
  {
   "cell_type": "code",
   "execution_count": 55,
   "metadata": {
    "collapsed": true
   },
   "outputs": [],
   "source": [
    "def append_outyear_predictions(original_df, threshold, today_predprob, one_year_predprob, three_year_predprob, five_year_predprob):\n",
    "    sl = original_df.copy()\n",
    "    #ensures if a well was ever bad, it is bad in the future\n",
    "    sl['today_preds']=np.where(sl.status_binary==1,1,np.where(today_predprob[:,1]>threshold,1,0))\n",
    "    sl['today_predprob']= today_predprob[:,1]\n",
    "    sl['one_year_preds'] = np.where(np.max(sl[['status_binary','today_preds']], axis = 1)>0,\n",
    "                                    1,np.where(one_year_predprob[:,1]>threshold,1,0))\n",
    "    sl['one_year_predprob'] = one_year_predprob[:,1]\n",
    "    sl['three_year_preds'] = np.where(np.max(sl[['status_binary','today_preds', 'one_year_preds']], axis = 1)>0,1,\n",
    "                                      np.where(three_year_predprob[:,1]>threshold,1,0))\n",
    "    sl['three_year_predprob']= three_year_predprob[:,1]\n",
    "    sl['five_year_preds']=np.where(np.max(sl[['status_binary','today_preds', 'one_year_preds', 'three_year_preds']], axis = 1)>0,\n",
    "                                   1,np.where(five_year_predprob[:,1]>threshold,1,0))\n",
    "    sl['five_year_predprob'] =five_year_predprob[:,1]\n",
    "    \n",
    "    \n",
    "    return sl"
   ]
  },
  {
   "cell_type": "code",
   "execution_count": 113,
   "metadata": {
    "collapsed": true
   },
   "outputs": [],
   "source": [
    "#old, without updated time to measure years\n",
    "coerced = append_outyear_predictions(sl, 0.21056, today_predprob, one_year_predprob, three_year_predprob, five_year_predprob)"
   ]
  },
  {
   "cell_type": "code",
   "execution_count": 116,
   "metadata": {},
   "outputs": [
    {
     "data": {
      "text/html": [
       "<div>\n",
       "<style scoped>\n",
       "    .dataframe tbody tr th:only-of-type {\n",
       "        vertical-align: middle;\n",
       "    }\n",
       "\n",
       "    .dataframe tbody tr th {\n",
       "        vertical-align: top;\n",
       "    }\n",
       "\n",
       "    .dataframe thead th {\n",
       "        text-align: right;\n",
       "    }\n",
       "</style>\n",
       "<table border=\"1\" class=\"dataframe\">\n",
       "  <thead>\n",
       "    <tr style=\"text-align: right;\">\n",
       "      <th></th>\n",
       "      <th>status_binary</th>\n",
       "      <th>today_preds</th>\n",
       "      <th>one_year_preds</th>\n",
       "      <th>three_year_preds</th>\n",
       "      <th>five_year_preds</th>\n",
       "    </tr>\n",
       "  </thead>\n",
       "  <tbody>\n",
       "    <tr>\n",
       "      <th>count</th>\n",
       "      <td>23784.000000</td>\n",
       "      <td>23784.000000</td>\n",
       "      <td>23784.000000</td>\n",
       "      <td>23784.000000</td>\n",
       "      <td>23784.000000</td>\n",
       "    </tr>\n",
       "    <tr>\n",
       "      <th>mean</th>\n",
       "      <td>0.160360</td>\n",
       "      <td>0.176757</td>\n",
       "      <td>0.182139</td>\n",
       "      <td>0.184452</td>\n",
       "      <td>0.186134</td>\n",
       "    </tr>\n",
       "    <tr>\n",
       "      <th>std</th>\n",
       "      <td>0.366947</td>\n",
       "      <td>0.381471</td>\n",
       "      <td>0.385967</td>\n",
       "      <td>0.387860</td>\n",
       "      <td>0.389223</td>\n",
       "    </tr>\n",
       "    <tr>\n",
       "      <th>min</th>\n",
       "      <td>0.000000</td>\n",
       "      <td>0.000000</td>\n",
       "      <td>0.000000</td>\n",
       "      <td>0.000000</td>\n",
       "      <td>0.000000</td>\n",
       "    </tr>\n",
       "    <tr>\n",
       "      <th>25%</th>\n",
       "      <td>0.000000</td>\n",
       "      <td>0.000000</td>\n",
       "      <td>0.000000</td>\n",
       "      <td>0.000000</td>\n",
       "      <td>0.000000</td>\n",
       "    </tr>\n",
       "    <tr>\n",
       "      <th>50%</th>\n",
       "      <td>0.000000</td>\n",
       "      <td>0.000000</td>\n",
       "      <td>0.000000</td>\n",
       "      <td>0.000000</td>\n",
       "      <td>0.000000</td>\n",
       "    </tr>\n",
       "    <tr>\n",
       "      <th>75%</th>\n",
       "      <td>0.000000</td>\n",
       "      <td>0.000000</td>\n",
       "      <td>0.000000</td>\n",
       "      <td>0.000000</td>\n",
       "      <td>0.000000</td>\n",
       "    </tr>\n",
       "    <tr>\n",
       "      <th>max</th>\n",
       "      <td>1.000000</td>\n",
       "      <td>1.000000</td>\n",
       "      <td>1.000000</td>\n",
       "      <td>1.000000</td>\n",
       "      <td>1.000000</td>\n",
       "    </tr>\n",
       "  </tbody>\n",
       "</table>\n",
       "</div>"
      ],
      "text/plain": [
       "       status_binary   today_preds  one_year_preds  three_year_preds  \\\n",
       "count   23784.000000  23784.000000    23784.000000      23784.000000   \n",
       "mean        0.160360      0.176757        0.182139          0.184452   \n",
       "std         0.366947      0.381471        0.385967          0.387860   \n",
       "min         0.000000      0.000000        0.000000          0.000000   \n",
       "25%         0.000000      0.000000        0.000000          0.000000   \n",
       "50%         0.000000      0.000000        0.000000          0.000000   \n",
       "75%         0.000000      0.000000        0.000000          0.000000   \n",
       "max         1.000000      1.000000        1.000000          1.000000   \n",
       "\n",
       "       five_year_preds  \n",
       "count     23784.000000  \n",
       "mean          0.186134  \n",
       "std           0.389223  \n",
       "min           0.000000  \n",
       "25%           0.000000  \n",
       "50%           0.000000  \n",
       "75%           0.000000  \n",
       "max           1.000000  "
      ]
     },
     "execution_count": 116,
     "metadata": {},
     "output_type": "execute_result"
    }
   ],
   "source": [
    "#old, without updated time to measure years\n",
    "coerced[['status_binary','today_preds','one_year_preds','three_year_preds', 'five_year_preds']].describe()"
   ]
  },
  {
   "cell_type": "code",
   "execution_count": 117,
   "metadata": {
    "collapsed": true
   },
   "outputs": [],
   "source": [
    "coerced.to_csv('Swaziland_w_outyear_predictions_coerced.csv')"
   ]
  },
  {
   "cell_type": "code",
   "execution_count": 118,
   "metadata": {},
   "outputs": [
    {
     "name": "stdout",
     "output_type": "stream",
     "text": [
      "(183, 48)\n"
     ]
    }
   ],
   "source": [
    "print(coerced[coerced.status_binary==0][(coerced.today_preds<coerced.three_year_preds)].shape)"
   ]
  },
  {
   "cell_type": "code",
   "execution_count": 56,
   "metadata": {
    "collapsed": true
   },
   "outputs": [],
   "source": [
    "#with corrected time to measure years\n",
    "coerced2 = append_outyear_predictions(sl, 0.21056, today_predprob, one_year_predprob, three_year_predprob, five_year_predprob)"
   ]
  },
  {
   "cell_type": "code",
   "execution_count": 57,
   "metadata": {},
   "outputs": [
    {
     "data": {
      "text/html": [
       "<div>\n",
       "<style scoped>\n",
       "    .dataframe tbody tr th:only-of-type {\n",
       "        vertical-align: middle;\n",
       "    }\n",
       "\n",
       "    .dataframe tbody tr th {\n",
       "        vertical-align: top;\n",
       "    }\n",
       "\n",
       "    .dataframe thead th {\n",
       "        text-align: right;\n",
       "    }\n",
       "</style>\n",
       "<table border=\"1\" class=\"dataframe\">\n",
       "  <thead>\n",
       "    <tr style=\"text-align: right;\">\n",
       "      <th></th>\n",
       "      <th>status_binary</th>\n",
       "      <th>today_preds</th>\n",
       "      <th>one_year_preds</th>\n",
       "      <th>three_year_preds</th>\n",
       "      <th>five_year_preds</th>\n",
       "    </tr>\n",
       "  </thead>\n",
       "  <tbody>\n",
       "    <tr>\n",
       "      <th>count</th>\n",
       "      <td>23784.000000</td>\n",
       "      <td>23784.000000</td>\n",
       "      <td>23784.000000</td>\n",
       "      <td>23784.000000</td>\n",
       "      <td>23784.000000</td>\n",
       "    </tr>\n",
       "    <tr>\n",
       "      <th>mean</th>\n",
       "      <td>0.160360</td>\n",
       "      <td>0.176757</td>\n",
       "      <td>0.180962</td>\n",
       "      <td>0.186638</td>\n",
       "      <td>0.191137</td>\n",
       "    </tr>\n",
       "    <tr>\n",
       "      <th>std</th>\n",
       "      <td>0.366947</td>\n",
       "      <td>0.381471</td>\n",
       "      <td>0.384995</td>\n",
       "      <td>0.389629</td>\n",
       "      <td>0.393205</td>\n",
       "    </tr>\n",
       "    <tr>\n",
       "      <th>min</th>\n",
       "      <td>0.000000</td>\n",
       "      <td>0.000000</td>\n",
       "      <td>0.000000</td>\n",
       "      <td>0.000000</td>\n",
       "      <td>0.000000</td>\n",
       "    </tr>\n",
       "    <tr>\n",
       "      <th>25%</th>\n",
       "      <td>0.000000</td>\n",
       "      <td>0.000000</td>\n",
       "      <td>0.000000</td>\n",
       "      <td>0.000000</td>\n",
       "      <td>0.000000</td>\n",
       "    </tr>\n",
       "    <tr>\n",
       "      <th>50%</th>\n",
       "      <td>0.000000</td>\n",
       "      <td>0.000000</td>\n",
       "      <td>0.000000</td>\n",
       "      <td>0.000000</td>\n",
       "      <td>0.000000</td>\n",
       "    </tr>\n",
       "    <tr>\n",
       "      <th>75%</th>\n",
       "      <td>0.000000</td>\n",
       "      <td>0.000000</td>\n",
       "      <td>0.000000</td>\n",
       "      <td>0.000000</td>\n",
       "      <td>0.000000</td>\n",
       "    </tr>\n",
       "    <tr>\n",
       "      <th>max</th>\n",
       "      <td>1.000000</td>\n",
       "      <td>1.000000</td>\n",
       "      <td>1.000000</td>\n",
       "      <td>1.000000</td>\n",
       "      <td>1.000000</td>\n",
       "    </tr>\n",
       "  </tbody>\n",
       "</table>\n",
       "</div>"
      ],
      "text/plain": [
       "       status_binary   today_preds  one_year_preds  three_year_preds  \\\n",
       "count   23784.000000  23784.000000    23784.000000      23784.000000   \n",
       "mean        0.160360      0.176757        0.180962          0.186638   \n",
       "std         0.366947      0.381471        0.384995          0.389629   \n",
       "min         0.000000      0.000000        0.000000          0.000000   \n",
       "25%         0.000000      0.000000        0.000000          0.000000   \n",
       "50%         0.000000      0.000000        0.000000          0.000000   \n",
       "75%         0.000000      0.000000        0.000000          0.000000   \n",
       "max         1.000000      1.000000        1.000000          1.000000   \n",
       "\n",
       "       five_year_preds  \n",
       "count     23784.000000  \n",
       "mean          0.191137  \n",
       "std           0.393205  \n",
       "min           0.000000  \n",
       "25%           0.000000  \n",
       "50%           0.000000  \n",
       "75%           0.000000  \n",
       "max           1.000000  "
      ]
     },
     "execution_count": 57,
     "metadata": {},
     "output_type": "execute_result"
    }
   ],
   "source": [
    "coerced2[['status_binary','today_preds','one_year_preds','three_year_preds', 'five_year_preds']].describe()"
   ]
  },
  {
   "cell_type": "code",
   "execution_count": 58,
   "metadata": {
    "collapsed": true
   },
   "outputs": [],
   "source": [
    "coerced2.to_csv('Swaziland_w_outyear_predictions_coerced_correct_time2.csv')"
   ]
  },
  {
   "cell_type": "code",
   "execution_count": null,
   "metadata": {
    "collapsed": true
   },
   "outputs": [],
   "source": []
  }
 ],
 "metadata": {
  "kernelspec": {
   "display_name": "Python 3",
   "language": "python",
   "name": "python3"
  },
  "language_info": {
   "codemirror_mode": {
    "name": "ipython",
    "version": 3
   },
   "file_extension": ".py",
   "mimetype": "text/x-python",
   "name": "python",
   "nbconvert_exporter": "python",
   "pygments_lexer": "ipython3",
   "version": "3.6.1"
  }
 },
 "nbformat": 4,
 "nbformat_minor": 2
}
