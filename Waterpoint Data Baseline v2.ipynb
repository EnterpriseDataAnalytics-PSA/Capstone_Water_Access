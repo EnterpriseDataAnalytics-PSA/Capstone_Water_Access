{
 "cells": [
  {
   "cell_type": "code",
   "execution_count": 28,
   "metadata": {
    "collapsed": true
   },
   "outputs": [],
   "source": [
    "import pandas as pd\n",
    "import xgboost as xgb\n",
    "from xgboost import XGBClassifier\n",
    "import numpy as np\n",
    "import sklearn as sk\n",
    "import datetime as dt\n",
    "from sklearn import model_selection\n",
    "#from sklearn import cat\n",
    "from sklearn.preprocessing import LabelEncoder\n",
    "from sklearn import metrics\n",
    "from sklearn.metrics import confusion_matrix, mean_squared_error, auc, accuracy_score, log_loss\n",
    "import os"
   ]
  },
  {
   "cell_type": "code",
   "execution_count": 2,
   "metadata": {
    "collapsed": true
   },
   "outputs": [],
   "source": [
    "pd.set_option('max_columns', 150)\n",
    "pd.set_option('max_rows', 110)"
   ]
  },
  {
   "cell_type": "code",
   "execution_count": 3,
   "metadata": {
    "collapsed": true
   },
   "outputs": [],
   "source": [
    "#set input/output paths\n",
    "#can eventually set this to the SOAPY API https://dev.socrata.com/foundry/data.waterpointdata.org/gihr-buz6\n",
    "DATA_PATH = \"~chandlermccann/Downloads/\"\n",
    "INPUT_FILE = os.path.join(DATA_PATH, \"cleaned_water_data.csv\")"
   ]
  },
  {
   "cell_type": "code",
   "execution_count": 4,
   "metadata": {},
   "outputs": [
    {
     "name": "stderr",
     "output_type": "stream",
     "text": [
      "/Users/chandlermccann/anaconda3/lib/python3.5/site-packages/IPython/core/interactiveshell.py:2717: DtypeWarning: Columns (2,3,5,6,7,9,11,12,16,17,18,19,20,31,32) have mixed types. Specify dtype option on import or set low_memory=False.\n",
      "  interactivity=interactivity, compiler=compiler, result=result)\n"
     ]
    },
    {
     "data": {
      "text/html": [
       "<div>\n",
       "<style>\n",
       "    .dataframe thead tr:only-child th {\n",
       "        text-align: right;\n",
       "    }\n",
       "\n",
       "    .dataframe thead th {\n",
       "        text-align: left;\n",
       "    }\n",
       "\n",
       "    .dataframe tbody tr th {\n",
       "        vertical-align: top;\n",
       "    }\n",
       "</style>\n",
       "<table border=\"1\" class=\"dataframe\">\n",
       "  <thead>\n",
       "    <tr style=\"text-align: right;\">\n",
       "      <th></th>\n",
       "      <th>country_name</th>\n",
       "      <th>water_source</th>\n",
       "      <th>water_tech</th>\n",
       "      <th>status_id</th>\n",
       "      <th>management</th>\n",
       "      <th>pay</th>\n",
       "      <th>installer</th>\n",
       "      <th>install_year</th>\n",
       "      <th>status</th>\n",
       "      <th>source</th>\n",
       "      <th>adm1</th>\n",
       "      <th>adm2</th>\n",
       "      <th>wpdx_id</th>\n",
       "      <th>report_date</th>\n",
       "      <th>country_id</th>\n",
       "      <th>activity_id</th>\n",
       "      <th>data_lnk</th>\n",
       "      <th>orig_lnk</th>\n",
       "      <th>photo_lnk</th>\n",
       "      <th>converted</th>\n",
       "      <th>created</th>\n",
       "      <th>updated</th>\n",
       "      <th>lat_deg</th>\n",
       "      <th>lon_deg</th>\n",
       "      <th>Location</th>\n",
       "      <th>Count</th>\n",
       "      <th>fecal_coliform_presence</th>\n",
       "      <th>fecal_coliform_value</th>\n",
       "      <th>subjective_quality</th>\n",
       "      <th>new_report_date</th>\n",
       "      <th>new_install_year</th>\n",
       "      <th>age_well</th>\n",
       "      <th>age_well_days</th>\n",
       "      <th>status_binary</th>\n",
       "    </tr>\n",
       "  </thead>\n",
       "  <tbody>\n",
       "    <tr>\n",
       "      <th>0</th>\n",
       "      <td>Tanzania, United Republic of</td>\n",
       "      <td>Spring</td>\n",
       "      <td>Gravity Communal standpipe</td>\n",
       "      <td>no</td>\n",
       "      <td>NaN</td>\n",
       "      <td>Never pay</td>\n",
       "      <td>RWE</td>\n",
       "      <td>1972.0</td>\n",
       "      <td>Status:Not functional|Quantity:Dry|Quality:Soft</td>\n",
       "      <td>SNV</td>\n",
       "      <td>Arusha</td>\n",
       "      <td>Longido</td>\n",
       "      <td>wpdx-00000001</td>\n",
       "      <td>01/05/2008 12:00:00 AM +0000</td>\n",
       "      <td>TZ</td>\n",
       "      <td>NaN</td>\n",
       "      <td>http://www.dropbox.com/s/50779gal9v4z4y6/TZ%20...</td>\n",
       "      <td>NaN</td>\n",
       "      <td>NaN</td>\n",
       "      <td>\"#water_tech, #country_id, #data_lnk\"</td>\n",
       "      <td>10/23/2015 01:03:07 AM +0000</td>\n",
       "      <td>10/23/2015 01:03:07 AM +0000</td>\n",
       "      <td>-2.83257</td>\n",
       "      <td>36.3090</td>\n",
       "      <td>(-2.83257, 36.309)</td>\n",
       "      <td>1</td>\n",
       "      <td>NaN</td>\n",
       "      <td>NaN</td>\n",
       "      <td>NaN</td>\n",
       "      <td>2008-01-05</td>\n",
       "      <td>1972-01-01</td>\n",
       "      <td>13153 days 00:00:00.000000000</td>\n",
       "      <td>13153</td>\n",
       "      <td>1</td>\n",
       "    </tr>\n",
       "    <tr>\n",
       "      <th>1</th>\n",
       "      <td>Tanzania, United Republic of</td>\n",
       "      <td>Rainwater harvesting</td>\n",
       "      <td>Gravity Communal standpipe</td>\n",
       "      <td>yes</td>\n",
       "      <td>NaN</td>\n",
       "      <td>Never pay</td>\n",
       "      <td>World Vision</td>\n",
       "      <td>2005.0</td>\n",
       "      <td>Status:Functional|Breakdown Year:2007|Reason N...</td>\n",
       "      <td>SNV</td>\n",
       "      <td>Arusha</td>\n",
       "      <td>Longido</td>\n",
       "      <td>wpdx-00000002</td>\n",
       "      <td>01/01/2008 12:00:00 AM +0000</td>\n",
       "      <td>TZ</td>\n",
       "      <td>NaN</td>\n",
       "      <td>http://www.dropbox.com/s/50779gal9v4z4y6/TZ%20...</td>\n",
       "      <td>NaN</td>\n",
       "      <td>NaN</td>\n",
       "      <td>\"#water_tech, #country_id, #data_lnk\"</td>\n",
       "      <td>10/23/2015 01:03:07 AM +0000</td>\n",
       "      <td>10/23/2015 01:03:07 AM +0000</td>\n",
       "      <td>-2.84781</td>\n",
       "      <td>36.5284</td>\n",
       "      <td>(-2.84781, 36.5284)</td>\n",
       "      <td>1</td>\n",
       "      <td>NaN</td>\n",
       "      <td>NaN</td>\n",
       "      <td>NaN</td>\n",
       "      <td>2008-01-01</td>\n",
       "      <td>2005-01-01</td>\n",
       "      <td>1095 days 00:00:00.000000000</td>\n",
       "      <td>1095</td>\n",
       "      <td>0</td>\n",
       "    </tr>\n",
       "    <tr>\n",
       "      <th>2</th>\n",
       "      <td>Tanzania, United Republic of</td>\n",
       "      <td>Rainwater harvesting</td>\n",
       "      <td>Gravity Communal standpipe</td>\n",
       "      <td>yes</td>\n",
       "      <td>NaN</td>\n",
       "      <td>Never pay</td>\n",
       "      <td>World Vision</td>\n",
       "      <td>2005.0</td>\n",
       "      <td>Status:Functional|Quantity:Seasonal|Quality:Soft</td>\n",
       "      <td>SNV</td>\n",
       "      <td>Arusha</td>\n",
       "      <td>Longido</td>\n",
       "      <td>wpdx-00000003</td>\n",
       "      <td>01/01/2008 12:00:00 AM +0000</td>\n",
       "      <td>TZ</td>\n",
       "      <td>NaN</td>\n",
       "      <td>http://www.dropbox.com/s/50779gal9v4z4y6/TZ%20...</td>\n",
       "      <td>NaN</td>\n",
       "      <td>NaN</td>\n",
       "      <td>\"#water_tech, #country_id, #data_lnk\"</td>\n",
       "      <td>10/23/2015 01:03:07 AM +0000</td>\n",
       "      <td>10/23/2015 01:03:07 AM +0000</td>\n",
       "      <td>-2.84796</td>\n",
       "      <td>36.5288</td>\n",
       "      <td>(-2.84796, 36.5288)</td>\n",
       "      <td>1</td>\n",
       "      <td>NaN</td>\n",
       "      <td>NaN</td>\n",
       "      <td>NaN</td>\n",
       "      <td>2008-01-01</td>\n",
       "      <td>2005-01-01</td>\n",
       "      <td>1095 days 00:00:00.000000000</td>\n",
       "      <td>1095</td>\n",
       "      <td>0</td>\n",
       "    </tr>\n",
       "    <tr>\n",
       "      <th>3</th>\n",
       "      <td>Tanzania, United Republic of</td>\n",
       "      <td>Rainwater harvesting</td>\n",
       "      <td>Gravity Communal standpipe</td>\n",
       "      <td>yes</td>\n",
       "      <td>NaN</td>\n",
       "      <td>Never pay</td>\n",
       "      <td>World Vision</td>\n",
       "      <td>2005.0</td>\n",
       "      <td>Status:Functional|Quantity:Seasonal|Quality:Soft</td>\n",
       "      <td>SNV</td>\n",
       "      <td>Arusha</td>\n",
       "      <td>Longido</td>\n",
       "      <td>wpdx-00000004</td>\n",
       "      <td>01/01/2008 12:00:00 AM +0000</td>\n",
       "      <td>TZ</td>\n",
       "      <td>NaN</td>\n",
       "      <td>http://www.dropbox.com/s/50779gal9v4z4y6/TZ%20...</td>\n",
       "      <td>NaN</td>\n",
       "      <td>NaN</td>\n",
       "      <td>\"#water_tech, #country_id, #data_lnk\"</td>\n",
       "      <td>10/23/2015 01:03:07 AM +0000</td>\n",
       "      <td>10/23/2015 01:03:07 AM +0000</td>\n",
       "      <td>-2.85318</td>\n",
       "      <td>36.5276</td>\n",
       "      <td>(-2.85318, 36.5276)</td>\n",
       "      <td>1</td>\n",
       "      <td>NaN</td>\n",
       "      <td>NaN</td>\n",
       "      <td>NaN</td>\n",
       "      <td>2008-01-01</td>\n",
       "      <td>2005-01-01</td>\n",
       "      <td>1095 days 00:00:00.000000000</td>\n",
       "      <td>1095</td>\n",
       "      <td>0</td>\n",
       "    </tr>\n",
       "    <tr>\n",
       "      <th>4</th>\n",
       "      <td>Nicaragua</td>\n",
       "      <td>NaN</td>\n",
       "      <td>NaN</td>\n",
       "      <td>yes</td>\n",
       "      <td>NaN</td>\n",
       "      <td>NaN</td>\n",
       "      <td>NaN</td>\n",
       "      <td>2011.0</td>\n",
       "      <td>NaN</td>\n",
       "      <td>El Porvenier</td>\n",
       "      <td>Matagalpa</td>\n",
       "      <td>Terrabona</td>\n",
       "      <td>wpdx-00000005</td>\n",
       "      <td>01/01/2011 12:00:00 AM +0000</td>\n",
       "      <td>NI</td>\n",
       "      <td>NaN</td>\n",
       "      <td>http://www.dropbox.com/s/0f70mln5roxhy29/ProjT...</td>\n",
       "      <td>https://www.waterpointdata.org/dataset/resourc...</td>\n",
       "      <td>NaN</td>\n",
       "      <td>#data_lnk, #lon_deg, #lat_deg, #country_id</td>\n",
       "      <td>04/08/2016 08:35:49 AM +0000</td>\n",
       "      <td>04/08/2016 08:35:49 AM +0000</td>\n",
       "      <td>12.74070</td>\n",
       "      <td>-86.0121</td>\n",
       "      <td>(12.7407, -86.0121)</td>\n",
       "      <td>1</td>\n",
       "      <td>NaN</td>\n",
       "      <td>NaN</td>\n",
       "      <td>NaN</td>\n",
       "      <td>2011-01-01</td>\n",
       "      <td>2011-01-01</td>\n",
       "      <td>0 days 00:00:00.000000000</td>\n",
       "      <td>0</td>\n",
       "      <td>0</td>\n",
       "    </tr>\n",
       "  </tbody>\n",
       "</table>\n",
       "</div>"
      ],
      "text/plain": [
       "                   country_name          water_source  \\\n",
       "0  Tanzania, United Republic of                Spring   \n",
       "1  Tanzania, United Republic of  Rainwater harvesting   \n",
       "2  Tanzania, United Republic of  Rainwater harvesting   \n",
       "3  Tanzania, United Republic of  Rainwater harvesting   \n",
       "4                     Nicaragua                   NaN   \n",
       "\n",
       "                   water_tech status_id management        pay     installer  \\\n",
       "0  Gravity Communal standpipe        no        NaN  Never pay           RWE   \n",
       "1  Gravity Communal standpipe       yes        NaN  Never pay  World Vision   \n",
       "2  Gravity Communal standpipe       yes        NaN  Never pay  World Vision   \n",
       "3  Gravity Communal standpipe       yes        NaN  Never pay  World Vision   \n",
       "4                         NaN       yes        NaN        NaN           NaN   \n",
       "\n",
       "   install_year                                             status  \\\n",
       "0        1972.0    Status:Not functional|Quantity:Dry|Quality:Soft   \n",
       "1        2005.0  Status:Functional|Breakdown Year:2007|Reason N...   \n",
       "2        2005.0   Status:Functional|Quantity:Seasonal|Quality:Soft   \n",
       "3        2005.0   Status:Functional|Quantity:Seasonal|Quality:Soft   \n",
       "4        2011.0                                                NaN   \n",
       "\n",
       "         source       adm1       adm2        wpdx_id  \\\n",
       "0           SNV     Arusha    Longido  wpdx-00000001   \n",
       "1           SNV     Arusha    Longido  wpdx-00000002   \n",
       "2           SNV     Arusha    Longido  wpdx-00000003   \n",
       "3           SNV     Arusha    Longido  wpdx-00000004   \n",
       "4  El Porvenier  Matagalpa  Terrabona  wpdx-00000005   \n",
       "\n",
       "                    report_date country_id activity_id  \\\n",
       "0  01/05/2008 12:00:00 AM +0000         TZ         NaN   \n",
       "1  01/01/2008 12:00:00 AM +0000         TZ         NaN   \n",
       "2  01/01/2008 12:00:00 AM +0000         TZ         NaN   \n",
       "3  01/01/2008 12:00:00 AM +0000         TZ         NaN   \n",
       "4  01/01/2011 12:00:00 AM +0000         NI         NaN   \n",
       "\n",
       "                                            data_lnk  \\\n",
       "0  http://www.dropbox.com/s/50779gal9v4z4y6/TZ%20...   \n",
       "1  http://www.dropbox.com/s/50779gal9v4z4y6/TZ%20...   \n",
       "2  http://www.dropbox.com/s/50779gal9v4z4y6/TZ%20...   \n",
       "3  http://www.dropbox.com/s/50779gal9v4z4y6/TZ%20...   \n",
       "4  http://www.dropbox.com/s/0f70mln5roxhy29/ProjT...   \n",
       "\n",
       "                                            orig_lnk photo_lnk  \\\n",
       "0                                                NaN       NaN   \n",
       "1                                                NaN       NaN   \n",
       "2                                                NaN       NaN   \n",
       "3                                                NaN       NaN   \n",
       "4  https://www.waterpointdata.org/dataset/resourc...       NaN   \n",
       "\n",
       "                                    converted                       created  \\\n",
       "0       \"#water_tech, #country_id, #data_lnk\"  10/23/2015 01:03:07 AM +0000   \n",
       "1       \"#water_tech, #country_id, #data_lnk\"  10/23/2015 01:03:07 AM +0000   \n",
       "2       \"#water_tech, #country_id, #data_lnk\"  10/23/2015 01:03:07 AM +0000   \n",
       "3       \"#water_tech, #country_id, #data_lnk\"  10/23/2015 01:03:07 AM +0000   \n",
       "4  #data_lnk, #lon_deg, #lat_deg, #country_id  04/08/2016 08:35:49 AM +0000   \n",
       "\n",
       "                        updated   lat_deg  lon_deg             Location  \\\n",
       "0  10/23/2015 01:03:07 AM +0000  -2.83257  36.3090   (-2.83257, 36.309)   \n",
       "1  10/23/2015 01:03:07 AM +0000  -2.84781  36.5284  (-2.84781, 36.5284)   \n",
       "2  10/23/2015 01:03:07 AM +0000  -2.84796  36.5288  (-2.84796, 36.5288)   \n",
       "3  10/23/2015 01:03:07 AM +0000  -2.85318  36.5276  (-2.85318, 36.5276)   \n",
       "4  04/08/2016 08:35:49 AM +0000  12.74070 -86.0121  (12.7407, -86.0121)   \n",
       "\n",
       "   Count  fecal_coliform_presence  fecal_coliform_value  subjective_quality  \\\n",
       "0      1                      NaN                   NaN                 NaN   \n",
       "1      1                      NaN                   NaN                 NaN   \n",
       "2      1                      NaN                   NaN                 NaN   \n",
       "3      1                      NaN                   NaN                 NaN   \n",
       "4      1                      NaN                   NaN                 NaN   \n",
       "\n",
       "  new_report_date new_install_year                       age_well  \\\n",
       "0      2008-01-05       1972-01-01  13153 days 00:00:00.000000000   \n",
       "1      2008-01-01       2005-01-01   1095 days 00:00:00.000000000   \n",
       "2      2008-01-01       2005-01-01   1095 days 00:00:00.000000000   \n",
       "3      2008-01-01       2005-01-01   1095 days 00:00:00.000000000   \n",
       "4      2011-01-01       2011-01-01      0 days 00:00:00.000000000   \n",
       "\n",
       "  age_well_days  status_binary  \n",
       "0         13153              1  \n",
       "1          1095              0  \n",
       "2          1095              0  \n",
       "3          1095              0  \n",
       "4             0              0  "
      ]
     },
     "execution_count": 4,
     "metadata": {},
     "output_type": "execute_result"
    }
   ],
   "source": [
    "df= pd.read_csv(INPUT_FILE, encoding='latin-1')\n",
    "df.drop(['Row ID'], axis=1, inplace=True)\n",
    "df.head()"
   ]
  },
  {
   "cell_type": "markdown",
   "metadata": {},
   "source": [
    "# create baseline model for swaziland"
   ]
  },
  {
   "cell_type": "code",
   "execution_count": 5,
   "metadata": {
    "collapsed": true
   },
   "outputs": [],
   "source": [
    "swaz = df[(df.country_name == 'Swaziland')]"
   ]
  },
  {
   "cell_type": "code",
   "execution_count": 6,
   "metadata": {},
   "outputs": [
    {
     "data": {
      "text/plain": [
       "(23784, 34)"
      ]
     },
     "execution_count": 6,
     "metadata": {},
     "output_type": "execute_result"
    }
   ],
   "source": [
    "swaz.shape"
   ]
  },
  {
   "cell_type": "code",
   "execution_count": 7,
   "metadata": {
    "collapsed": true
   },
   "outputs": [],
   "source": [
    "swaz.to_csv('swaziland_test')"
   ]
  },
  {
   "cell_type": "code",
   "execution_count": 8,
   "metadata": {},
   "outputs": [
    {
     "data": {
      "text/html": [
       "<div>\n",
       "<style>\n",
       "    .dataframe thead tr:only-child th {\n",
       "        text-align: right;\n",
       "    }\n",
       "\n",
       "    .dataframe thead th {\n",
       "        text-align: left;\n",
       "    }\n",
       "\n",
       "    .dataframe tbody tr th {\n",
       "        vertical-align: top;\n",
       "    }\n",
       "</style>\n",
       "<table border=\"1\" class=\"dataframe\">\n",
       "  <thead>\n",
       "    <tr style=\"text-align: right;\">\n",
       "      <th></th>\n",
       "      <th>country_name</th>\n",
       "      <th>water_source</th>\n",
       "      <th>water_tech</th>\n",
       "      <th>status_id</th>\n",
       "      <th>management</th>\n",
       "      <th>pay</th>\n",
       "      <th>installer</th>\n",
       "      <th>install_year</th>\n",
       "      <th>status</th>\n",
       "      <th>source</th>\n",
       "      <th>adm1</th>\n",
       "      <th>adm2</th>\n",
       "      <th>wpdx_id</th>\n",
       "      <th>report_date</th>\n",
       "      <th>country_id</th>\n",
       "      <th>activity_id</th>\n",
       "      <th>data_lnk</th>\n",
       "      <th>orig_lnk</th>\n",
       "      <th>photo_lnk</th>\n",
       "      <th>converted</th>\n",
       "      <th>created</th>\n",
       "      <th>updated</th>\n",
       "      <th>lat_deg</th>\n",
       "      <th>lon_deg</th>\n",
       "      <th>Location</th>\n",
       "      <th>Count</th>\n",
       "      <th>fecal_coliform_presence</th>\n",
       "      <th>fecal_coliform_value</th>\n",
       "      <th>subjective_quality</th>\n",
       "      <th>new_report_date</th>\n",
       "      <th>new_install_year</th>\n",
       "      <th>age_well</th>\n",
       "      <th>age_well_days</th>\n",
       "      <th>status_binary</th>\n",
       "    </tr>\n",
       "  </thead>\n",
       "  <tbody>\n",
       "    <tr>\n",
       "      <th>301736</th>\n",
       "      <td>Swaziland</td>\n",
       "      <td>Borehole fitted with submersible pump</td>\n",
       "      <td>Standpipe</td>\n",
       "      <td>no</td>\n",
       "      <td>Community Management</td>\n",
       "      <td>15</td>\n",
       "      <td>NaN</td>\n",
       "      <td>1982.0</td>\n",
       "      <td>Stolen Pump</td>\n",
       "      <td>Swaziland Department of Water Affairs</td>\n",
       "      <td>SHISELWENI</td>\n",
       "      <td>MASEYISINI</td>\n",
       "      <td>wpdx-00472293</td>\n",
       "      <td>07/01/2015 12:00:00 AM +0000</td>\n",
       "      <td>SZ</td>\n",
       "      <td>Access Point6002</td>\n",
       "      <td>NaN</td>\n",
       "      <td>https://www.waterpointdata.org/dataset/resourc...</td>\n",
       "      <td>NaN</td>\n",
       "      <td>#status_id; #report_date; #management; #instal...</td>\n",
       "      <td>01/19/2017 06:10:50 AM +0000</td>\n",
       "      <td>01/19/2017 06:10:50 AM +0000</td>\n",
       "      <td>-27.1031</td>\n",
       "      <td>31.1317</td>\n",
       "      <td>(-27.1031, 31.1317)</td>\n",
       "      <td>1</td>\n",
       "      <td>NaN</td>\n",
       "      <td>NaN</td>\n",
       "      <td>NaN</td>\n",
       "      <td>2015-07-01</td>\n",
       "      <td>1982-01-01</td>\n",
       "      <td>12234 days 00:00:00.000000000</td>\n",
       "      <td>12234</td>\n",
       "      <td>1</td>\n",
       "    </tr>\n",
       "    <tr>\n",
       "      <th>301737</th>\n",
       "      <td>Swaziland</td>\n",
       "      <td>Borehole fitted with submersible pump</td>\n",
       "      <td>Standpipe</td>\n",
       "      <td>no</td>\n",
       "      <td>Community Management</td>\n",
       "      <td>15</td>\n",
       "      <td>NaN</td>\n",
       "      <td>1982.0</td>\n",
       "      <td>Stolen Pump</td>\n",
       "      <td>Swaziland Department of Water Affairs</td>\n",
       "      <td>SHISELWENI</td>\n",
       "      <td>MASEYISINI</td>\n",
       "      <td>wpdx-00472294</td>\n",
       "      <td>07/01/2015 12:00:00 AM +0000</td>\n",
       "      <td>SZ</td>\n",
       "      <td>Access Point6004</td>\n",
       "      <td>NaN</td>\n",
       "      <td>https://www.waterpointdata.org/dataset/resourc...</td>\n",
       "      <td>NaN</td>\n",
       "      <td>#status_id; #report_date; #management; #instal...</td>\n",
       "      <td>01/19/2017 06:10:50 AM +0000</td>\n",
       "      <td>01/19/2017 06:10:50 AM +0000</td>\n",
       "      <td>-27.1045</td>\n",
       "      <td>31.1286</td>\n",
       "      <td>(-27.1045, 31.1286)</td>\n",
       "      <td>1</td>\n",
       "      <td>NaN</td>\n",
       "      <td>NaN</td>\n",
       "      <td>NaN</td>\n",
       "      <td>2015-07-01</td>\n",
       "      <td>1982-01-01</td>\n",
       "      <td>12234 days 00:00:00.000000000</td>\n",
       "      <td>12234</td>\n",
       "      <td>1</td>\n",
       "    </tr>\n",
       "    <tr>\n",
       "      <th>301738</th>\n",
       "      <td>Swaziland</td>\n",
       "      <td>Borehole fitted with submersible pump</td>\n",
       "      <td>Standpipe</td>\n",
       "      <td>no</td>\n",
       "      <td>Community Management</td>\n",
       "      <td>15</td>\n",
       "      <td>NaN</td>\n",
       "      <td>1982.0</td>\n",
       "      <td>Stolen Pump</td>\n",
       "      <td>Swaziland Department of Water Affairs</td>\n",
       "      <td>SHISELWENI</td>\n",
       "      <td>MASEYISINI</td>\n",
       "      <td>wpdx-00472295</td>\n",
       "      <td>07/01/2015 12:00:00 AM +0000</td>\n",
       "      <td>SZ</td>\n",
       "      <td>Access Point6005</td>\n",
       "      <td>NaN</td>\n",
       "      <td>https://www.waterpointdata.org/dataset/resourc...</td>\n",
       "      <td>NaN</td>\n",
       "      <td>#status_id; #report_date; #management; #instal...</td>\n",
       "      <td>01/19/2017 06:10:50 AM +0000</td>\n",
       "      <td>01/19/2017 06:10:50 AM +0000</td>\n",
       "      <td>-27.1051</td>\n",
       "      <td>31.1281</td>\n",
       "      <td>(-27.1051, 31.1281)</td>\n",
       "      <td>1</td>\n",
       "      <td>NaN</td>\n",
       "      <td>NaN</td>\n",
       "      <td>NaN</td>\n",
       "      <td>2015-07-01</td>\n",
       "      <td>1982-01-01</td>\n",
       "      <td>12234 days 00:00:00.000000000</td>\n",
       "      <td>12234</td>\n",
       "      <td>1</td>\n",
       "    </tr>\n",
       "    <tr>\n",
       "      <th>301739</th>\n",
       "      <td>Swaziland</td>\n",
       "      <td>Borehole fitted with submersible pump</td>\n",
       "      <td>Standpipe</td>\n",
       "      <td>no</td>\n",
       "      <td>Community Management</td>\n",
       "      <td>15</td>\n",
       "      <td>NaN</td>\n",
       "      <td>1982.0</td>\n",
       "      <td>Stolen Pump</td>\n",
       "      <td>Swaziland Department of Water Affairs</td>\n",
       "      <td>SHISELWENI</td>\n",
       "      <td>MASEYISINI</td>\n",
       "      <td>wpdx-00472296</td>\n",
       "      <td>07/01/2015 12:00:00 AM +0000</td>\n",
       "      <td>SZ</td>\n",
       "      <td>Access Point6007</td>\n",
       "      <td>NaN</td>\n",
       "      <td>https://www.waterpointdata.org/dataset/resourc...</td>\n",
       "      <td>NaN</td>\n",
       "      <td>#status_id; #report_date; #management; #instal...</td>\n",
       "      <td>01/19/2017 06:10:50 AM +0000</td>\n",
       "      <td>01/19/2017 06:10:50 AM +0000</td>\n",
       "      <td>-27.1068</td>\n",
       "      <td>31.1275</td>\n",
       "      <td>(-27.1068, 31.1275)</td>\n",
       "      <td>1</td>\n",
       "      <td>NaN</td>\n",
       "      <td>NaN</td>\n",
       "      <td>NaN</td>\n",
       "      <td>2015-07-01</td>\n",
       "      <td>1982-01-01</td>\n",
       "      <td>12234 days 00:00:00.000000000</td>\n",
       "      <td>12234</td>\n",
       "      <td>1</td>\n",
       "    </tr>\n",
       "    <tr>\n",
       "      <th>301740</th>\n",
       "      <td>Swaziland</td>\n",
       "      <td>Borehole fitted with submersible pump</td>\n",
       "      <td>Standpipe</td>\n",
       "      <td>no</td>\n",
       "      <td>Community Management</td>\n",
       "      <td>15</td>\n",
       "      <td>NaN</td>\n",
       "      <td>1982.0</td>\n",
       "      <td>Stolen Pump</td>\n",
       "      <td>Swaziland Department of Water Affairs</td>\n",
       "      <td>SHISELWENI</td>\n",
       "      <td>MASEYISINI</td>\n",
       "      <td>wpdx-00472297</td>\n",
       "      <td>07/01/2015 12:00:00 AM +0000</td>\n",
       "      <td>SZ</td>\n",
       "      <td>Access Point6008</td>\n",
       "      <td>NaN</td>\n",
       "      <td>https://www.waterpointdata.org/dataset/resourc...</td>\n",
       "      <td>NaN</td>\n",
       "      <td>#status_id; #report_date; #management; #instal...</td>\n",
       "      <td>01/19/2017 06:10:50 AM +0000</td>\n",
       "      <td>01/19/2017 06:10:50 AM +0000</td>\n",
       "      <td>-27.1096</td>\n",
       "      <td>31.1319</td>\n",
       "      <td>(-27.1096, 31.1319)</td>\n",
       "      <td>1</td>\n",
       "      <td>NaN</td>\n",
       "      <td>NaN</td>\n",
       "      <td>NaN</td>\n",
       "      <td>2015-07-01</td>\n",
       "      <td>1982-01-01</td>\n",
       "      <td>12234 days 00:00:00.000000000</td>\n",
       "      <td>12234</td>\n",
       "      <td>1</td>\n",
       "    </tr>\n",
       "  </tbody>\n",
       "</table>\n",
       "</div>"
      ],
      "text/plain": [
       "       country_name                           water_source water_tech  \\\n",
       "301736    Swaziland  Borehole fitted with submersible pump  Standpipe   \n",
       "301737    Swaziland  Borehole fitted with submersible pump  Standpipe   \n",
       "301738    Swaziland  Borehole fitted with submersible pump  Standpipe   \n",
       "301739    Swaziland  Borehole fitted with submersible pump  Standpipe   \n",
       "301740    Swaziland  Borehole fitted with submersible pump  Standpipe   \n",
       "\n",
       "       status_id            management pay installer  install_year  \\\n",
       "301736        no  Community Management  15       NaN        1982.0   \n",
       "301737        no  Community Management  15       NaN        1982.0   \n",
       "301738        no  Community Management  15       NaN        1982.0   \n",
       "301739        no  Community Management  15       NaN        1982.0   \n",
       "301740        no  Community Management  15       NaN        1982.0   \n",
       "\n",
       "             status                                 source        adm1  \\\n",
       "301736  Stolen Pump  Swaziland Department of Water Affairs  SHISELWENI   \n",
       "301737  Stolen Pump  Swaziland Department of Water Affairs  SHISELWENI   \n",
       "301738  Stolen Pump  Swaziland Department of Water Affairs  SHISELWENI   \n",
       "301739  Stolen Pump  Swaziland Department of Water Affairs  SHISELWENI   \n",
       "301740  Stolen Pump  Swaziland Department of Water Affairs  SHISELWENI   \n",
       "\n",
       "              adm2        wpdx_id                   report_date country_id  \\\n",
       "301736  MASEYISINI  wpdx-00472293  07/01/2015 12:00:00 AM +0000         SZ   \n",
       "301737  MASEYISINI  wpdx-00472294  07/01/2015 12:00:00 AM +0000         SZ   \n",
       "301738  MASEYISINI  wpdx-00472295  07/01/2015 12:00:00 AM +0000         SZ   \n",
       "301739  MASEYISINI  wpdx-00472296  07/01/2015 12:00:00 AM +0000         SZ   \n",
       "301740  MASEYISINI  wpdx-00472297  07/01/2015 12:00:00 AM +0000         SZ   \n",
       "\n",
       "             activity_id data_lnk  \\\n",
       "301736  Access Point6002      NaN   \n",
       "301737  Access Point6004      NaN   \n",
       "301738  Access Point6005      NaN   \n",
       "301739  Access Point6007      NaN   \n",
       "301740  Access Point6008      NaN   \n",
       "\n",
       "                                                 orig_lnk photo_lnk  \\\n",
       "301736  https://www.waterpointdata.org/dataset/resourc...       NaN   \n",
       "301737  https://www.waterpointdata.org/dataset/resourc...       NaN   \n",
       "301738  https://www.waterpointdata.org/dataset/resourc...       NaN   \n",
       "301739  https://www.waterpointdata.org/dataset/resourc...       NaN   \n",
       "301740  https://www.waterpointdata.org/dataset/resourc...       NaN   \n",
       "\n",
       "                                                converted  \\\n",
       "301736  #status_id; #report_date; #management; #instal...   \n",
       "301737  #status_id; #report_date; #management; #instal...   \n",
       "301738  #status_id; #report_date; #management; #instal...   \n",
       "301739  #status_id; #report_date; #management; #instal...   \n",
       "301740  #status_id; #report_date; #management; #instal...   \n",
       "\n",
       "                             created                       updated  lat_deg  \\\n",
       "301736  01/19/2017 06:10:50 AM +0000  01/19/2017 06:10:50 AM +0000 -27.1031   \n",
       "301737  01/19/2017 06:10:50 AM +0000  01/19/2017 06:10:50 AM +0000 -27.1045   \n",
       "301738  01/19/2017 06:10:50 AM +0000  01/19/2017 06:10:50 AM +0000 -27.1051   \n",
       "301739  01/19/2017 06:10:50 AM +0000  01/19/2017 06:10:50 AM +0000 -27.1068   \n",
       "301740  01/19/2017 06:10:50 AM +0000  01/19/2017 06:10:50 AM +0000 -27.1096   \n",
       "\n",
       "        lon_deg             Location  Count  fecal_coliform_presence  \\\n",
       "301736  31.1317  (-27.1031, 31.1317)      1                      NaN   \n",
       "301737  31.1286  (-27.1045, 31.1286)      1                      NaN   \n",
       "301738  31.1281  (-27.1051, 31.1281)      1                      NaN   \n",
       "301739  31.1275  (-27.1068, 31.1275)      1                      NaN   \n",
       "301740  31.1319  (-27.1096, 31.1319)      1                      NaN   \n",
       "\n",
       "        fecal_coliform_value  subjective_quality new_report_date  \\\n",
       "301736                   NaN                 NaN      2015-07-01   \n",
       "301737                   NaN                 NaN      2015-07-01   \n",
       "301738                   NaN                 NaN      2015-07-01   \n",
       "301739                   NaN                 NaN      2015-07-01   \n",
       "301740                   NaN                 NaN      2015-07-01   \n",
       "\n",
       "       new_install_year                       age_well age_well_days  \\\n",
       "301736       1982-01-01  12234 days 00:00:00.000000000         12234   \n",
       "301737       1982-01-01  12234 days 00:00:00.000000000         12234   \n",
       "301738       1982-01-01  12234 days 00:00:00.000000000         12234   \n",
       "301739       1982-01-01  12234 days 00:00:00.000000000         12234   \n",
       "301740       1982-01-01  12234 days 00:00:00.000000000         12234   \n",
       "\n",
       "        status_binary  \n",
       "301736              1  \n",
       "301737              1  \n",
       "301738              1  \n",
       "301739              1  \n",
       "301740              1  "
      ]
     },
     "execution_count": 8,
     "metadata": {},
     "output_type": "execute_result"
    }
   ],
   "source": [
    "swaz.head()"
   ]
  },
  {
   "cell_type": "markdown",
   "metadata": {},
   "source": [
    "# label encode all variables and fill missings for use in XGBoost"
   ]
  },
  {
   "cell_type": "code",
   "execution_count": 16,
   "metadata": {},
   "outputs": [
    {
     "name": "stderr",
     "output_type": "stream",
     "text": [
      "/Users/chandlermccann/anaconda3/lib/python3.5/site-packages/pandas/core/generic.py:3549: SettingWithCopyWarning: \n",
      "A value is trying to be set on a copy of a slice from a DataFrame\n",
      "\n",
      "See the caveats in the documentation: http://pandas.pydata.org/pandas-docs/stable/indexing.html#indexing-view-versus-copy\n",
      "  self._update_inplace(new_data)\n"
     ]
    },
    {
     "data": {
      "text/html": [
       "<div>\n",
       "<style>\n",
       "    .dataframe thead tr:only-child th {\n",
       "        text-align: right;\n",
       "    }\n",
       "\n",
       "    .dataframe thead th {\n",
       "        text-align: left;\n",
       "    }\n",
       "\n",
       "    .dataframe tbody tr th {\n",
       "        vertical-align: top;\n",
       "    }\n",
       "</style>\n",
       "<table border=\"1\" class=\"dataframe\">\n",
       "  <thead>\n",
       "    <tr style=\"text-align: right;\">\n",
       "      <th></th>\n",
       "      <th>water_source_code</th>\n",
       "      <th>water_tech_code</th>\n",
       "      <th>management_code</th>\n",
       "      <th>source_code</th>\n",
       "      <th>adm1_code</th>\n",
       "      <th>adm2_code</th>\n",
       "      <th>lat_deg</th>\n",
       "      <th>lon_deg</th>\n",
       "      <th>pay</th>\n",
       "      <th>new_install_year_code</th>\n",
       "      <th>age_well_years</th>\n",
       "      <th>status_binary</th>\n",
       "    </tr>\n",
       "  </thead>\n",
       "  <tbody>\n",
       "    <tr>\n",
       "      <th>0</th>\n",
       "      <td>4</td>\n",
       "      <td>14</td>\n",
       "      <td>0</td>\n",
       "      <td>0</td>\n",
       "      <td>3</td>\n",
       "      <td>22</td>\n",
       "      <td>-27.1031</td>\n",
       "      <td>31.1317</td>\n",
       "      <td>15.0</td>\n",
       "      <td>17</td>\n",
       "      <td>33.5</td>\n",
       "      <td>1</td>\n",
       "    </tr>\n",
       "    <tr>\n",
       "      <th>1</th>\n",
       "      <td>4</td>\n",
       "      <td>14</td>\n",
       "      <td>0</td>\n",
       "      <td>0</td>\n",
       "      <td>3</td>\n",
       "      <td>22</td>\n",
       "      <td>-27.1045</td>\n",
       "      <td>31.1286</td>\n",
       "      <td>15.0</td>\n",
       "      <td>17</td>\n",
       "      <td>33.5</td>\n",
       "      <td>1</td>\n",
       "    </tr>\n",
       "  </tbody>\n",
       "</table>\n",
       "</div>"
      ],
      "text/plain": [
       "   water_source_code  water_tech_code  management_code  source_code  \\\n",
       "0                  4               14                0            0   \n",
       "1                  4               14                0            0   \n",
       "\n",
       "   adm1_code  adm2_code  lat_deg  lon_deg   pay  new_install_year_code  \\\n",
       "0          3         22 -27.1031  31.1317  15.0                     17   \n",
       "1          3         22 -27.1045  31.1286  15.0                     17   \n",
       "\n",
       "   age_well_years  status_binary  \n",
       "0            33.5              1  \n",
       "1            33.5              1  "
      ]
     },
     "execution_count": 16,
     "metadata": {},
     "output_type": "execute_result"
    }
   ],
   "source": [
    "#encode water tech\n",
    "\n",
    "lb= LabelEncoder()\n",
    "pred_df = pd.DataFrame()\n",
    "pred_df[\"water_source_code\"] = lb.fit_transform(swaz[\"water_source\"])\n",
    "pred_df['water_tech_code'] = lb.fit_transform(swaz['water_tech'])\n",
    "\n",
    "#fill na's.  #could just do this to all of df above since XGBoost will want this\n",
    "swaz.management.fillna('__MISSING__', inplace=True)\n",
    "pred_df['management_code'] = lb.fit_transform(swaz['management'])\n",
    "pred_df['source_code'] = lb.fit_transform(swaz['source'])\n",
    "pred_df['adm1_code']= lb.fit_transform(swaz['adm1'])\n",
    "pred_df['adm2_code']= lb.fit_transform(swaz['adm2'])\n",
    "pred_df['lat_deg']= swaz['lat_deg'].values\n",
    "pred_df['lon_deg'] = swaz['lon_deg'].values\n",
    "pred_df['pay'] = swaz['pay'].values\n",
    "pred_df['pay'] = pred_df.pay.astype(float)\n",
    "pred_df['new_install_year_code'] = lb.fit_transform(swaz['new_install_year'])\n",
    "swaz.age_well_days.astype(int)\n",
    "pred_df['age_well_years'] = swaz['age_well_days'].values\n",
    "#have to cast as int now\n",
    "pred_df['age_well_years'] = round(pred_df.age_well_years.astype(int)/365,1)\n",
    "\n",
    "#target\n",
    "pred_df['status_binary'] = swaz['status_binary'].values\n",
    "\n",
    "pred_df[0:2]\n",
    "#pred_df[[\"water_source\", \"water_source_code\"]].head(11)\n"
   ]
  },
  {
   "cell_type": "code",
   "execution_count": 17,
   "metadata": {},
   "outputs": [
    {
     "name": "stdout",
     "output_type": "stream",
     "text": [
      "water_source_code          int64\n",
      "water_tech_code            int64\n",
      "management_code            int64\n",
      "source_code                int64\n",
      "adm1_code                  int64\n",
      "adm2_code                  int64\n",
      "lat_deg                  float64\n",
      "lon_deg                  float64\n",
      "pay                      float64\n",
      "new_install_year_code      int64\n",
      "age_well_years           float64\n",
      "status_binary              int64\n",
      "dtype: object\n"
     ]
    },
    {
     "data": {
      "text/html": [
       "<div>\n",
       "<style>\n",
       "    .dataframe thead tr:only-child th {\n",
       "        text-align: right;\n",
       "    }\n",
       "\n",
       "    .dataframe thead th {\n",
       "        text-align: left;\n",
       "    }\n",
       "\n",
       "    .dataframe tbody tr th {\n",
       "        vertical-align: top;\n",
       "    }\n",
       "</style>\n",
       "<table border=\"1\" class=\"dataframe\">\n",
       "  <thead>\n",
       "    <tr style=\"text-align: right;\">\n",
       "      <th></th>\n",
       "      <th>water_source_code</th>\n",
       "      <th>water_tech_code</th>\n",
       "      <th>management_code</th>\n",
       "      <th>source_code</th>\n",
       "      <th>adm1_code</th>\n",
       "      <th>adm2_code</th>\n",
       "      <th>lat_deg</th>\n",
       "      <th>lon_deg</th>\n",
       "      <th>pay</th>\n",
       "      <th>new_install_year_code</th>\n",
       "      <th>age_well_years</th>\n",
       "      <th>status_binary</th>\n",
       "    </tr>\n",
       "  </thead>\n",
       "  <tbody>\n",
       "    <tr>\n",
       "      <th>0</th>\n",
       "      <td>4</td>\n",
       "      <td>14</td>\n",
       "      <td>0</td>\n",
       "      <td>0</td>\n",
       "      <td>3</td>\n",
       "      <td>22</td>\n",
       "      <td>-27.1031</td>\n",
       "      <td>31.1317</td>\n",
       "      <td>15.0</td>\n",
       "      <td>17</td>\n",
       "      <td>33.5</td>\n",
       "      <td>1</td>\n",
       "    </tr>\n",
       "    <tr>\n",
       "      <th>1</th>\n",
       "      <td>4</td>\n",
       "      <td>14</td>\n",
       "      <td>0</td>\n",
       "      <td>0</td>\n",
       "      <td>3</td>\n",
       "      <td>22</td>\n",
       "      <td>-27.1045</td>\n",
       "      <td>31.1286</td>\n",
       "      <td>15.0</td>\n",
       "      <td>17</td>\n",
       "      <td>33.5</td>\n",
       "      <td>1</td>\n",
       "    </tr>\n",
       "    <tr>\n",
       "      <th>2</th>\n",
       "      <td>4</td>\n",
       "      <td>14</td>\n",
       "      <td>0</td>\n",
       "      <td>0</td>\n",
       "      <td>3</td>\n",
       "      <td>22</td>\n",
       "      <td>-27.1051</td>\n",
       "      <td>31.1281</td>\n",
       "      <td>15.0</td>\n",
       "      <td>17</td>\n",
       "      <td>33.5</td>\n",
       "      <td>1</td>\n",
       "    </tr>\n",
       "    <tr>\n",
       "      <th>3</th>\n",
       "      <td>4</td>\n",
       "      <td>14</td>\n",
       "      <td>0</td>\n",
       "      <td>0</td>\n",
       "      <td>3</td>\n",
       "      <td>22</td>\n",
       "      <td>-27.1068</td>\n",
       "      <td>31.1275</td>\n",
       "      <td>15.0</td>\n",
       "      <td>17</td>\n",
       "      <td>33.5</td>\n",
       "      <td>1</td>\n",
       "    </tr>\n",
       "    <tr>\n",
       "      <th>4</th>\n",
       "      <td>4</td>\n",
       "      <td>14</td>\n",
       "      <td>0</td>\n",
       "      <td>0</td>\n",
       "      <td>3</td>\n",
       "      <td>22</td>\n",
       "      <td>-27.1096</td>\n",
       "      <td>31.1319</td>\n",
       "      <td>15.0</td>\n",
       "      <td>17</td>\n",
       "      <td>33.5</td>\n",
       "      <td>1</td>\n",
       "    </tr>\n",
       "  </tbody>\n",
       "</table>\n",
       "</div>"
      ],
      "text/plain": [
       "   water_source_code  water_tech_code  management_code  source_code  \\\n",
       "0                  4               14                0            0   \n",
       "1                  4               14                0            0   \n",
       "2                  4               14                0            0   \n",
       "3                  4               14                0            0   \n",
       "4                  4               14                0            0   \n",
       "\n",
       "   adm1_code  adm2_code  lat_deg  lon_deg   pay  new_install_year_code  \\\n",
       "0          3         22 -27.1031  31.1317  15.0                     17   \n",
       "1          3         22 -27.1045  31.1286  15.0                     17   \n",
       "2          3         22 -27.1051  31.1281  15.0                     17   \n",
       "3          3         22 -27.1068  31.1275  15.0                     17   \n",
       "4          3         22 -27.1096  31.1319  15.0                     17   \n",
       "\n",
       "   age_well_years  status_binary  \n",
       "0            33.5              1  \n",
       "1            33.5              1  \n",
       "2            33.5              1  \n",
       "3            33.5              1  \n",
       "4            33.5              1  "
      ]
     },
     "execution_count": 17,
     "metadata": {},
     "output_type": "execute_result"
    }
   ],
   "source": [
    "\n",
    "print(pred_df.dtypes)\n",
    "pred_df.head()"
   ]
  },
  {
   "cell_type": "code",
   "execution_count": 18,
   "metadata": {},
   "outputs": [],
   "source": [
    "#define X and Y\n",
    "X = pred_df[pred_df.columns[:-1]] #age_well_days error\n",
    "Y= pred_df.status_binary"
   ]
  },
  {
   "cell_type": "code",
   "execution_count": 19,
   "metadata": {},
   "outputs": [
    {
     "data": {
      "text/plain": [
       "GridSearchCV(cv=None, error_score='raise',\n",
       "       estimator=XGBClassifier(base_score=0.5, booster='gbtree', colsample_bylevel=1,\n",
       "       colsample_bytree=1, gamma=0, learning_rate=0.1, max_delta_step=0,\n",
       "       max_depth=3, min_child_weight=1, missing=None, n_estimators=100,\n",
       "       n_jobs=1, nthread=None, objective='binary:logistic', random_state=0,\n",
       "       reg_alpha=0, reg_lambda=1, scale_pos_weight=1, scoring='logloss',\n",
       "       seed=None, silent=True, subsample=1),\n",
       "       fit_params={}, iid=True, n_jobs=1,\n",
       "       param_grid={'max_depth': [3, 4], 'learning_rate': [0.05, 0.1], 'n_estimators': [200, 300]},\n",
       "       pre_dispatch='2*n_jobs', refit=True, return_train_score=True,\n",
       "       scoring=None, verbose=0)"
      ]
     },
     "execution_count": 19,
     "metadata": {},
     "output_type": "execute_result"
    }
   ],
   "source": [
    "#use stratified K folds and gridsearch\n",
    "params = {'learning_rate':[0.05,.1], 'max_depth':[3,4], 'n_estimators':[200,300],}\n",
    "model2 = model_selection.GridSearchCV(XGBClassifier(scoring='logloss'), params)\n",
    "model2.fit(X, Y)"
   ]
  },
  {
   "cell_type": "code",
   "execution_count": 20,
   "metadata": {},
   "outputs": [
    {
     "data": {
      "text/plain": [
       "{'learning_rate': 0.05, 'max_depth': 3, 'n_estimators': 300}"
      ]
     },
     "execution_count": 20,
     "metadata": {},
     "output_type": "execute_result"
    }
   ],
   "source": [
    "model2.best_params_"
   ]
  },
  {
   "cell_type": "code",
   "execution_count": 21,
   "metadata": {},
   "outputs": [
    {
     "name": "stdout",
     "output_type": "stream",
     "text": [
      "[mean: 0.84599, std: 0.01988, params: {'max_depth': 3, 'learning_rate': 0.05, 'n_estimators': 200}, mean: 0.84633, std: 0.02637, params: {'max_depth': 3, 'learning_rate': 0.05, 'n_estimators': 300}, mean: 0.83405, std: 0.03736, params: {'max_depth': 4, 'learning_rate': 0.05, 'n_estimators': 200}, mean: 0.83001, std: 0.04718, params: {'max_depth': 4, 'learning_rate': 0.05, 'n_estimators': 300}, mean: 0.81916, std: 0.04318, params: {'max_depth': 3, 'learning_rate': 0.1, 'n_estimators': 200}, mean: 0.81239, std: 0.06200, params: {'max_depth': 3, 'learning_rate': 0.1, 'n_estimators': 300}, mean: 0.81866, std: 0.06309, params: {'max_depth': 4, 'learning_rate': 0.1, 'n_estimators': 200}, mean: 0.81525, std: 0.06670, params: {'max_depth': 4, 'learning_rate': 0.1, 'n_estimators': 300}]\n"
     ]
    },
    {
     "name": "stderr",
     "output_type": "stream",
     "text": [
      "/Users/chandlermccann/anaconda3/lib/python3.5/site-packages/sklearn/model_selection/_search.py:667: DeprecationWarning: The grid_scores_ attribute was deprecated in version 0.18 in favor of the more elaborate cv_results_ attribute. The grid_scores_ attribute will not be available from 0.20\n",
      "  DeprecationWarning)\n"
     ]
    },
    {
     "data": {
      "text/plain": [
       "0.84632526067944835"
      ]
     },
     "execution_count": 21,
     "metadata": {},
     "output_type": "execute_result"
    }
   ],
   "source": [
    "#logloss. prior model was 2.1 without age of the well\n",
    "print(model2.grid_scores_)\n",
    "model2.best_score_"
   ]
  },
  {
   "cell_type": "code",
   "execution_count": 85,
   "metadata": {
    "collapsed": true
   },
   "outputs": [],
   "source": [
    "X_train, X_test, y_train, y_test = model_selection.train_test_split(X, Y,  test_size=.2, random_state=7)"
   ]
  },
  {
   "cell_type": "code",
   "execution_count": 86,
   "metadata": {},
   "outputs": [
    {
     "name": "stdout",
     "output_type": "stream",
     "text": [
      "Accuracy : 0.9514\n",
      "AUC Score (Test): 0.981675\n"
     ]
    }
   ],
   "source": [
    "#get auc. need to reshape\n",
    "preds2 = model2.predict_proba(X_test)[:,1]\n",
    "preds2a = model2.predict(X_test)\n",
    "#pd.DataFrame(preds2).describe()\n",
    "print(\"Accuracy : %.4g\"%metrics.accuracy_score(y_test, preds2a))\n",
    "print(\"AUC Score (Test): %f\"%metrics.roc_auc_score(y_test, preds2))"
   ]
  },
  {
   "cell_type": "code",
   "execution_count": 87,
   "metadata": {},
   "outputs": [],
   "source": [
    "# calculate the fpr and tpr for all thresholds of the classification\n",
    "#probs = model.predict_proba(X_test)\n",
    "#preds = probs[:,1]\n",
    "fpr, tpr, threshold = metrics.roc_curve(y_test, preds2)\n",
    "roc_auc = metrics.auc(fpr, tpr)"
   ]
  },
  {
   "cell_type": "code",
   "execution_count": 91,
   "metadata": {},
   "outputs": [
    {
     "data": {
      "image/png": "[encoded data removed]",
      "text/plain": [
       "<matplotlib.figure.Figure at 0x111af6cf8>"
      ]
     },
     "metadata": {},
     "output_type": "display_data"
    }
   ],
   "source": [
    "# method I: plt\n",
    "import matplotlib.pyplot as plt\n",
    "plt.title('ROC Curve - GradBoosted Trees - Swaziland')\n",
    "plt.plot(fpr, tpr, 'b', label = 'AUC = %0.2f' % roc_auc)\n",
    "plt.legend(loc = 'lower right')\n",
    "plt.plot([0, 1], [0, 1],'r--')\n",
    "plt.xlim([0, 1])\n",
    "plt.ylim([0, 1])\n",
    "plt.ylabel('True Positive Rate')\n",
    "plt.xlabel('False Positive Rate')\n",
    "plt.show()\n",
    "plt.savefig('ROC_Swaziland.png')"
   ]
  },
  {
   "cell_type": "markdown",
   "metadata": {},
   "source": [
    "# Build model for Uganda"
   ]
  },
  {
   "cell_type": "code",
   "execution_count": 49,
   "metadata": {
    "collapsed": true
   },
   "outputs": [],
   "source": [
    "uganda = df[(df.country_name == 'Uganda')]"
   ]
  },
  {
   "cell_type": "code",
   "execution_count": 50,
   "metadata": {},
   "outputs": [
    {
     "data": {
      "text/plain": [
       "(113667, 35)"
      ]
     },
     "execution_count": 50,
     "metadata": {},
     "output_type": "execute_result"
    }
   ],
   "source": [
    "uganda.shape"
   ]
  },
  {
   "cell_type": "code",
   "execution_count": 51,
   "metadata": {},
   "outputs": [
    {
     "data": {
      "text/plain": [
       "country_name                    0\n",
       "water_source                99313\n",
       "water_tech                  12161\n",
       "status_id                       0\n",
       "management                  13394\n",
       "pay                         73513\n",
       "installer                  111615\n",
       "install_year                17620\n",
       "status                      13298\n",
       "source                          0\n",
       "adm1                        11535\n",
       "adm2                        11535\n",
       "wpdx_id                         0\n",
       "report_date                     0\n",
       "country_id                      0\n",
       "activity_id                  1419\n",
       "data_lnk                    12352\n",
       "orig_lnk                   101043\n",
       "photo_lnk                  110819\n",
       "converted                   11193\n",
       "created                         0\n",
       "updated                         0\n",
       "lat_deg                         0\n",
       "lon_deg                         0\n",
       "Location                        0\n",
       "Count                           0\n",
       "fecal_coliform_presence    113667\n",
       "fecal_coliform_value       113667\n",
       "subjective_quality         113667\n",
       "new_report_date                 0\n",
       "new_install_year            17620\n",
       "age_well                    17620\n",
       "age_well_days                   0\n",
       "status_binary                   0\n",
       "NaT                         96047\n",
       "dtype: int64"
      ]
     },
     "execution_count": 51,
     "metadata": {},
     "output_type": "execute_result"
    }
   ],
   "source": [
    "uganda.isnull().sum()"
   ]
  },
  {
   "cell_type": "code",
   "execution_count": 52,
   "metadata": {},
   "outputs": [
    {
     "data": {
      "text/plain": [
       "count     113667\n",
       "unique      2075\n",
       "top          NaT\n",
       "freq       17620\n",
       "Name: age_well_days, dtype: object"
      ]
     },
     "execution_count": 52,
     "metadata": {},
     "output_type": "execute_result"
    }
   ],
   "source": [
    "\n",
    "uganda.age_well_days.describe()"
   ]
  },
  {
   "cell_type": "code",
   "execution_count": 48,
   "metadata": {},
   "outputs": [],
   "source": [
    "#give missing values a huge number so that the \"age of the well\" is hundreds of years old. The tree will see this as NA\n",
    "df.loc[df.age_well_days =='NaT', 'NaT']= '999999'"
   ]
  },
  {
   "cell_type": "code",
   "execution_count": 119,
   "metadata": {},
   "outputs": [],
   "source": [
    "#uganda.pay.unique() #this is text compared to Swaziland"
   ]
  },
  {
   "cell_type": "code",
   "execution_count": 120,
   "metadata": {},
   "outputs": [],
   "source": [
    "#uganda.water_source.unique()"
   ]
  },
  {
   "cell_type": "code",
   "execution_count": 64,
   "metadata": {},
   "outputs": [
    {
     "name": "stderr",
     "output_type": "stream",
     "text": [
      "/Users/chandlermccann/anaconda3/lib/python3.5/site-packages/pandas/core/generic.py:3549: SettingWithCopyWarning: \n",
      "A value is trying to be set on a copy of a slice from a DataFrame\n",
      "\n",
      "See the caveats in the documentation: http://pandas.pydata.org/pandas-docs/stable/indexing.html#indexing-view-versus-copy\n",
      "  self._update_inplace(new_data)\n",
      "/Users/chandlermccann/anaconda3/lib/python3.5/site-packages/pandas/core/generic.py:3813: SettingWithCopyWarning: \n",
      "A value is trying to be set on a copy of a slice from a DataFrame\n",
      "\n",
      "See the caveats in the documentation: http://pandas.pydata.org/pandas-docs/stable/indexing.html#indexing-view-versus-copy\n",
      "  self._update_inplace(new_data)\n"
     ]
    },
    {
     "data": {
      "text/html": [
       "<div>\n",
       "<style>\n",
       "    .dataframe thead tr:only-child th {\n",
       "        text-align: right;\n",
       "    }\n",
       "\n",
       "    .dataframe thead th {\n",
       "        text-align: left;\n",
       "    }\n",
       "\n",
       "    .dataframe tbody tr th {\n",
       "        vertical-align: top;\n",
       "    }\n",
       "</style>\n",
       "<table border=\"1\" class=\"dataframe\">\n",
       "  <thead>\n",
       "    <tr style=\"text-align: right;\">\n",
       "      <th></th>\n",
       "      <th>water_source_code</th>\n",
       "      <th>water_tech_code</th>\n",
       "      <th>management_code</th>\n",
       "      <th>source_code</th>\n",
       "      <th>adm1_code</th>\n",
       "      <th>adm2_code</th>\n",
       "      <th>pay</th>\n",
       "      <th>lat_deg</th>\n",
       "      <th>lon_deg</th>\n",
       "      <th>new_install_year_code</th>\n",
       "      <th>age_well_years</th>\n",
       "      <th>status_binary</th>\n",
       "    </tr>\n",
       "  </thead>\n",
       "  <tbody>\n",
       "    <tr>\n",
       "      <th>0</th>\n",
       "      <td>36</td>\n",
       "      <td>22</td>\n",
       "      <td>12</td>\n",
       "      <td>13</td>\n",
       "      <td>121</td>\n",
       "      <td>267</td>\n",
       "      <td>168</td>\n",
       "      <td>1.33007</td>\n",
       "      <td>31.3906</td>\n",
       "      <td>87</td>\n",
       "      <td>274.0</td>\n",
       "      <td>1</td>\n",
       "    </tr>\n",
       "    <tr>\n",
       "      <th>1</th>\n",
       "      <td>36</td>\n",
       "      <td>22</td>\n",
       "      <td>12</td>\n",
       "      <td>13</td>\n",
       "      <td>121</td>\n",
       "      <td>267</td>\n",
       "      <td>168</td>\n",
       "      <td>1.31209</td>\n",
       "      <td>31.3887</td>\n",
       "      <td>87</td>\n",
       "      <td>274.0</td>\n",
       "      <td>1</td>\n",
       "    </tr>\n",
       "  </tbody>\n",
       "</table>\n",
       "</div>"
      ],
      "text/plain": [
       "   water_source_code  water_tech_code  management_code  source_code  \\\n",
       "0                 36               22               12           13   \n",
       "1                 36               22               12           13   \n",
       "\n",
       "   adm1_code  adm2_code  pay  lat_deg  lon_deg  new_install_year_code  \\\n",
       "0        121        267  168  1.33007  31.3906                     87   \n",
       "1        121        267  168  1.31209  31.3887                     87   \n",
       "\n",
       "   age_well_years  status_binary  \n",
       "0           274.0              1  \n",
       "1           274.0              1  "
      ]
     },
     "execution_count": 64,
     "metadata": {},
     "output_type": "execute_result"
    }
   ],
   "source": [
    "#encode water tech\n",
    "\n",
    "\n",
    "#fill na's.  #could just do this to all of df above since XGBoost will want this\n",
    "uganda.management.fillna('__MISSING__', inplace=True)\n",
    "uganda.water_source.fillna('__MISSING__', inplace=True)\n",
    "uganda.water_tech.fillna('__MISSING__', inplace=True)\n",
    "uganda.pay.fillna('__MISSING__', inplace=True)\n",
    "uganda.adm1.fillna('__MISSING__', inplace=True)\n",
    "uganda.adm2.fillna('__MISSING__', inplace=True)\n",
    "uganda.new_install_year.fillna('__MISSING__', inplace=True)\n",
    "uganda.age_well_days.replace(to_replace='NaT', value=99999, inplace=True) #have to replace the NaTs. Using a long year \n",
    "#so the tree knows\n",
    "\n",
    "#have to fill NA's first\n",
    "lb= LabelEncoder()\n",
    "pred_df = pd.DataFrame()\n",
    "pred_df[\"water_source_code\"] = lb.fit_transform(uganda[\"water_source\"])\n",
    "pred_df['water_tech_code'] = lb.fit_transform(uganda['water_tech'])\n",
    "\n",
    "\n",
    "pred_df['management_code'] = lb.fit_transform(uganda['management'])\n",
    "pred_df['source_code'] = lb.fit_transform(uganda['source'])\n",
    "pred_df['adm1_code']= lb.fit_transform(uganda['adm1'])\n",
    "pred_df['adm2_code']= lb.fit_transform(uganda['adm2'])\n",
    "pred_df['pay']= lb.fit_transform(uganda['pay'])\n",
    "pred_df['lat_deg']= uganda['lat_deg'].values\n",
    "pred_df['lon_deg'] = uganda['lon_deg'].values\n",
    "# pred_df['pay'] = uganda['pay'].values\n",
    "# pred_df['pay'] = pred_df.pay.astype(float)\n",
    "pred_df['new_install_year_code'] = lb.fit_transform(uganda['new_install_year'])\n",
    "uganda.age_well_days.astype(int)\n",
    "pred_df['age_well_years'] = uganda['age_well_days'].values\n",
    "\n",
    "#have to cast as int now\n",
    "pred_df['age_well_years'] = round(pred_df.age_well_years.astype(int)/365,1)\n",
    "\n",
    "#target\n",
    "pred_df['status_binary'] = uganda['status_binary'].values\n",
    "\n",
    "pred_df[0:2]\n",
    "#pred_df[[\"water_source\", \"water_source_code\"]].head(11)\n"
   ]
  },
  {
   "cell_type": "code",
   "execution_count": 112,
   "metadata": {},
   "outputs": [],
   "source": [
    "###whooooops need to create a dict of my label encoded items to transform them back!!\n",
    "#list(lb.classes_)"
   ]
  },
  {
   "cell_type": "code",
   "execution_count": 65,
   "metadata": {},
   "outputs": [
    {
     "name": "stdout",
     "output_type": "stream",
     "text": [
      "water_source_code          int64\n",
      "water_tech_code            int64\n",
      "management_code            int64\n",
      "source_code                int64\n",
      "adm1_code                  int64\n",
      "adm2_code                  int64\n",
      "pay                        int64\n",
      "lat_deg                  float64\n",
      "lon_deg                  float64\n",
      "new_install_year_code      int64\n",
      "age_well_years           float64\n",
      "status_binary              int64\n",
      "dtype: object\n"
     ]
    },
    {
     "data": {
      "text/html": [
       "<div>\n",
       "<style>\n",
       "    .dataframe thead tr:only-child th {\n",
       "        text-align: right;\n",
       "    }\n",
       "\n",
       "    .dataframe thead th {\n",
       "        text-align: left;\n",
       "    }\n",
       "\n",
       "    .dataframe tbody tr th {\n",
       "        vertical-align: top;\n",
       "    }\n",
       "</style>\n",
       "<table border=\"1\" class=\"dataframe\">\n",
       "  <thead>\n",
       "    <tr style=\"text-align: right;\">\n",
       "      <th></th>\n",
       "      <th>water_source_code</th>\n",
       "      <th>water_tech_code</th>\n",
       "      <th>management_code</th>\n",
       "      <th>source_code</th>\n",
       "      <th>adm1_code</th>\n",
       "      <th>adm2_code</th>\n",
       "      <th>pay</th>\n",
       "      <th>lat_deg</th>\n",
       "      <th>lon_deg</th>\n",
       "      <th>new_install_year_code</th>\n",
       "      <th>age_well_years</th>\n",
       "      <th>status_binary</th>\n",
       "    </tr>\n",
       "  </thead>\n",
       "  <tbody>\n",
       "    <tr>\n",
       "      <th>0</th>\n",
       "      <td>36</td>\n",
       "      <td>22</td>\n",
       "      <td>12</td>\n",
       "      <td>13</td>\n",
       "      <td>121</td>\n",
       "      <td>267</td>\n",
       "      <td>168</td>\n",
       "      <td>1.33007</td>\n",
       "      <td>31.3906</td>\n",
       "      <td>87</td>\n",
       "      <td>274.0</td>\n",
       "      <td>1</td>\n",
       "    </tr>\n",
       "    <tr>\n",
       "      <th>1</th>\n",
       "      <td>36</td>\n",
       "      <td>22</td>\n",
       "      <td>12</td>\n",
       "      <td>13</td>\n",
       "      <td>121</td>\n",
       "      <td>267</td>\n",
       "      <td>168</td>\n",
       "      <td>1.31209</td>\n",
       "      <td>31.3887</td>\n",
       "      <td>87</td>\n",
       "      <td>274.0</td>\n",
       "      <td>1</td>\n",
       "    </tr>\n",
       "    <tr>\n",
       "      <th>2</th>\n",
       "      <td>36</td>\n",
       "      <td>22</td>\n",
       "      <td>12</td>\n",
       "      <td>13</td>\n",
       "      <td>121</td>\n",
       "      <td>267</td>\n",
       "      <td>168</td>\n",
       "      <td>1.23417</td>\n",
       "      <td>31.2732</td>\n",
       "      <td>87</td>\n",
       "      <td>274.0</td>\n",
       "      <td>1</td>\n",
       "    </tr>\n",
       "    <tr>\n",
       "      <th>3</th>\n",
       "      <td>36</td>\n",
       "      <td>22</td>\n",
       "      <td>12</td>\n",
       "      <td>13</td>\n",
       "      <td>121</td>\n",
       "      <td>267</td>\n",
       "      <td>168</td>\n",
       "      <td>2.31964</td>\n",
       "      <td>32.3859</td>\n",
       "      <td>87</td>\n",
       "      <td>274.0</td>\n",
       "      <td>1</td>\n",
       "    </tr>\n",
       "    <tr>\n",
       "      <th>4</th>\n",
       "      <td>36</td>\n",
       "      <td>22</td>\n",
       "      <td>12</td>\n",
       "      <td>13</td>\n",
       "      <td>121</td>\n",
       "      <td>267</td>\n",
       "      <td>168</td>\n",
       "      <td>2.43701</td>\n",
       "      <td>32.4062</td>\n",
       "      <td>87</td>\n",
       "      <td>274.0</td>\n",
       "      <td>0</td>\n",
       "    </tr>\n",
       "  </tbody>\n",
       "</table>\n",
       "</div>"
      ],
      "text/plain": [
       "   water_source_code  water_tech_code  management_code  source_code  \\\n",
       "0                 36               22               12           13   \n",
       "1                 36               22               12           13   \n",
       "2                 36               22               12           13   \n",
       "3                 36               22               12           13   \n",
       "4                 36               22               12           13   \n",
       "\n",
       "   adm1_code  adm2_code  pay  lat_deg  lon_deg  new_install_year_code  \\\n",
       "0        121        267  168  1.33007  31.3906                     87   \n",
       "1        121        267  168  1.31209  31.3887                     87   \n",
       "2        121        267  168  1.23417  31.2732                     87   \n",
       "3        121        267  168  2.31964  32.3859                     87   \n",
       "4        121        267  168  2.43701  32.4062                     87   \n",
       "\n",
       "   age_well_years  status_binary  \n",
       "0           274.0              1  \n",
       "1           274.0              1  \n",
       "2           274.0              1  \n",
       "3           274.0              1  \n",
       "4           274.0              0  "
      ]
     },
     "execution_count": 65,
     "metadata": {},
     "output_type": "execute_result"
    }
   ],
   "source": [
    "print(pred_df.dtypes)\n",
    "pred_df.head()"
   ]
  },
  {
   "cell_type": "code",
   "execution_count": 66,
   "metadata": {
    "collapsed": true
   },
   "outputs": [],
   "source": [
    "#define X and Y\n",
    "X2 = pred_df[pred_df.columns[:-1]] #age_well_days error\n",
    "Y2= pred_df.status_binary"
   ]
  },
  {
   "cell_type": "code",
   "execution_count": 67,
   "metadata": {},
   "outputs": [
    {
     "data": {
      "text/plain": [
       "GridSearchCV(cv=None, error_score='raise',\n",
       "       estimator=XGBClassifier(base_score=0.5, booster='gbtree', colsample_bylevel=1,\n",
       "       colsample_bytree=1, gamma=0, learning_rate=0.1, max_delta_step=0,\n",
       "       max_depth=3, min_child_weight=1, missing=None, n_estimators=100,\n",
       "       n_jobs=1, nthread=None, objective='binary:logistic', random_state=0,\n",
       "       reg_alpha=0, reg_lambda=1, scale_pos_weight=1, scoring='logloss',\n",
       "       seed=None, silent=True, subsample=1),\n",
       "       fit_params={}, iid=True, n_jobs=1,\n",
       "       param_grid={'max_depth': [3, 4], 'learning_rate': [0.05, 0.1], 'n_estimators': [200, 300]},\n",
       "       pre_dispatch='2*n_jobs', refit=True, return_train_score=True,\n",
       "       scoring=None, verbose=0)"
      ]
     },
     "execution_count": 67,
     "metadata": {},
     "output_type": "execute_result"
    }
   ],
   "source": [
    "#use stratified K folds and gridsearch\n",
    "params = {'learning_rate':[0.05,.1], 'max_depth':[3,4], 'n_estimators':[200,300],}\n",
    "model_ug = model_selection.GridSearchCV(XGBClassifier(scoring='logloss'), params)\n",
    "model_ug.fit(X2, Y2)"
   ]
  },
  {
   "cell_type": "code",
   "execution_count": 69,
   "metadata": {},
   "outputs": [
    {
     "name": "stdout",
     "output_type": "stream",
     "text": [
      "[mean: 0.69734, std: 0.06653, params: {'max_depth': 3, 'learning_rate': 0.05, 'n_estimators': 200}, mean: 0.66222, std: 0.09101, params: {'max_depth': 3, 'learning_rate': 0.05, 'n_estimators': 300}, mean: 0.66452, std: 0.08820, params: {'max_depth': 4, 'learning_rate': 0.05, 'n_estimators': 200}, mean: 0.63601, std: 0.09113, params: {'max_depth': 4, 'learning_rate': 0.05, 'n_estimators': 300}, mean: 0.65197, std: 0.08775, params: {'max_depth': 3, 'learning_rate': 0.1, 'n_estimators': 200}, mean: 0.63020, std: 0.08337, params: {'max_depth': 3, 'learning_rate': 0.1, 'n_estimators': 300}, mean: 0.63254, std: 0.09290, params: {'max_depth': 4, 'learning_rate': 0.1, 'n_estimators': 200}, mean: 0.61805, std: 0.09005, params: {'max_depth': 4, 'learning_rate': 0.1, 'n_estimators': 300}]\n"
     ]
    },
    {
     "name": "stderr",
     "output_type": "stream",
     "text": [
      "/Users/chandlermccann/anaconda3/lib/python3.5/site-packages/sklearn/model_selection/_search.py:667: DeprecationWarning: The grid_scores_ attribute was deprecated in version 0.18 in favor of the more elaborate cv_results_ attribute. The grid_scores_ attribute will not be available from 0.20\n",
      "  DeprecationWarning)\n"
     ]
    },
    {
     "data": {
      "text/plain": [
       "0.6973439960586626"
      ]
     },
     "execution_count": 69,
     "metadata": {},
     "output_type": "execute_result"
    }
   ],
   "source": [
    "#logloss. prior model was 2.1 without age of the well\n",
    "print(model_ug.grid_scores_)\n",
    "model_ug.best_score_"
   ]
  },
  {
   "cell_type": "code",
   "execution_count": 106,
   "metadata": {
    "collapsed": true
   },
   "outputs": [],
   "source": [
    "X_train, X_test, y_train, y_test = model_selection.train_test_split(X2, Y2,  test_size=.2, random_state=7)"
   ]
  },
  {
   "cell_type": "code",
   "execution_count": 108,
   "metadata": {},
   "outputs": [
    {
     "name": "stdout",
     "output_type": "stream",
     "text": [
      "Accuracy : 0.822\n",
      "AUC Score (Test): 0.784920\n"
     ]
    }
   ],
   "source": [
    "#get auc. need to reshape\n",
    "preds_ug = model_ug.predict_proba(X_test)[:,1]\n",
    "preds_uga = model_ug.predict(X_test)\n",
    "#pd.DataFrame(preds2).describe()\n",
    "print(\"Accuracy : %.4g\"%metrics.accuracy_score(y_test, preds_uga))\n",
    "print(\"AUC Score (Test): %f\"%metrics.roc_auc_score(y_test, preds_ug))"
   ]
  },
  {
   "cell_type": "code",
   "execution_count": 102,
   "metadata": {},
   "outputs": [
    {
     "data": {
      "text/plain": [
       "array([ 0.07418796,  0.15074968,  0.20035748, ...,  0.06849965,\n",
       "        0.23815571,  0.15073991], dtype=float32)"
      ]
     },
     "execution_count": 102,
     "metadata": {},
     "output_type": "execute_result"
    }
   ],
   "source": [
    "preds_ug.view()"
   ]
  },
  {
   "cell_type": "code",
   "execution_count": 103,
   "metadata": {},
   "outputs": [
    {
     "data": {
      "text/plain": [
       "0.78367203307820887"
      ]
     },
     "execution_count": 103,
     "metadata": {},
     "output_type": "execute_result"
    }
   ],
   "source": [
    "1-sum(y_test)/len(y_test)"
   ]
  },
  {
   "cell_type": "code",
   "execution_count": 104,
   "metadata": {
    "collapsed": true
   },
   "outputs": [],
   "source": [
    "# calculate the fpr and tpr for all thresholds of the classification\n",
    "#probs = model.predict_proba(X_test)\n",
    "#preds = probs[:,1]\n",
    "fpr2, tpr2, threshold = metrics.roc_curve(y_test, preds_ug)\n",
    "roc_auc2 = metrics.auc(fpr2, tpr2)"
   ]
  },
  {
   "cell_type": "code",
   "execution_count": 105,
   "metadata": {},
   "outputs": [
    {
     "data": {
      "image/png": "[encoded data removed]",
      "text/plain": [
       "<matplotlib.figure.Figure at 0x116ca70f0>"
      ]
     },
     "metadata": {},
     "output_type": "display_data"
    }
   ],
   "source": [
    "# method I: plt\n",
    "import matplotlib.pyplot as plt\n",
    "plt.title('ROC Curve - GradBoosted Trees - Uganda')\n",
    "plt.plot(fpr2, tpr2, 'b', label = 'AUC = %0.2f' % roc_auc2)\n",
    "plt.legend(loc = 'lower right')\n",
    "plt.plot([0, 1], [0, 1],'r--')\n",
    "plt.xlim([0, 1])\n",
    "plt.ylim([0, 1])\n",
    "plt.ylabel('True Positive Rate')\n",
    "plt.xlabel('False Positive Rate')\n",
    "plt.show()\n",
    "plt.savefig('ROC_Uganda.png')"
   ]
  },
  {
   "cell_type": "markdown",
   "metadata": {},
   "source": [
    "# Use best parameters to get feature importances for Swaziland and Uganda"
   ]
  },
  {
   "cell_type": "code",
   "execution_count": 117,
   "metadata": {},
   "outputs": [
    {
     "name": "stdout",
     "output_type": "stream",
     "text": [
      "{'max_depth': 3, 'learning_rate': 0.05, 'n_estimators': 200} uganda params\n",
      "{'max_depth': 3, 'learning_rate': 0.05, 'n_estimators': 300} swaziland params\n"
     ]
    }
   ],
   "source": [
    "ug_params = model_ug.best_params_\n",
    "swaz_params = model2.best_params_\n",
    "print(ug_params, \"uganda params\")\n",
    "print(swaz_params, \"swaziland params\")"
   ]
  },
  {
   "cell_type": "code",
   "execution_count": 133,
   "metadata": {
    "collapsed": true
   },
   "outputs": [],
   "source": [
    "swaz_xgb= XGBClassifier(params=swaz_params)\n",
    "ug_xgb = XGBClassifier(params=ug_params)"
   ]
  },
  {
   "cell_type": "code",
   "execution_count": 121,
   "metadata": {
    "collapsed": true
   },
   "outputs": [],
   "source": [
    "X_train, X_test, y_train, y_test = model_selection.train_test_split(X, Y,  test_size=.2, random_state=7)"
   ]
  },
  {
   "cell_type": "code",
   "execution_count": 150,
   "metadata": {},
   "outputs": [
    {
     "data": {
      "text/plain": [
       "XGBClassifier(base_score=0.5, booster='gbtree', colsample_bylevel=1,\n",
       "       colsample_bytree=1, gamma=0, learning_rate=0.1, max_delta_step=0,\n",
       "       max_depth=3, min_child_weight=1, missing=None, n_estimators=100,\n",
       "       n_jobs=1, nthread=None, objective='binary:logistic',\n",
       "       params={'max_depth': 3, 'learning_rate': 0.05, 'n_estimators': 300},\n",
       "       random_state=0, reg_alpha=0, reg_lambda=1, scale_pos_weight=1,\n",
       "       seed=None, silent=True, subsample=1)"
      ]
     },
     "execution_count": 150,
     "metadata": {},
     "output_type": "execute_result"
    }
   ],
   "source": [
    "#use 5 folds cv later, just do this to get feature importances for the class presentation\n",
    "swaz_xgb.fit(X_train, y_train)"
   ]
  },
  {
   "cell_type": "code",
   "execution_count": 137,
   "metadata": {
    "collapsed": true
   },
   "outputs": [],
   "source": [
    "#use different feature set for Uganda, had different missing values\n",
    "X_train2, X_test2, y_train2, y_test2 = model_selection.train_test_split(X2, Y2,  test_size=.2, random_state=7)"
   ]
  },
  {
   "cell_type": "code",
   "execution_count": 138,
   "metadata": {},
   "outputs": [
    {
     "data": {
      "text/plain": [
       "XGBClassifier(base_score=0.5, booster='gbtree', colsample_bylevel=1,\n",
       "       colsample_bytree=1, gamma=0, learning_rate=0.1, max_delta_step=0,\n",
       "       max_depth=3, min_child_weight=1, missing=None, n_estimators=100,\n",
       "       n_jobs=1, nthread=None, objective='binary:logistic',\n",
       "       params={'max_depth': 3, 'learning_rate': 0.05, 'n_estimators': 200},\n",
       "       random_state=0, reg_alpha=0, reg_lambda=1, scale_pos_weight=1,\n",
       "       seed=None, silent=True, subsample=1)"
      ]
     },
     "execution_count": 138,
     "metadata": {},
     "output_type": "execute_result"
    }
   ],
   "source": [
    "ug_xgb.fit(X_train2, y_train2)"
   ]
  },
  {
   "cell_type": "code",
   "execution_count": 132,
   "metadata": {},
   "outputs": [
    {
     "data": {
      "text/plain": [
       "<matplotlib.axes._subplots.AxesSubplot at 0x1162cf8d0>"
      ]
     },
     "execution_count": 132,
     "metadata": {},
     "output_type": "execute_result"
    },
    {
     "data": {
      "image/png": "[encoded data removed]",
      "text/plain": [
       "<matplotlib.figure.Figure at 0x115cb9eb8>"
      ]
     },
     "metadata": {},
     "output_type": "display_data"
    }
   ],
   "source": [
    "%matplotlib inline\n",
    "xgb.plot_importance(swaz_xgb)"
   ]
  },
  {
   "cell_type": "code",
   "execution_count": 139,
   "metadata": {},
   "outputs": [
    {
     "data": {
      "text/plain": [
       "<matplotlib.axes._subplots.AxesSubplot at 0x1169129b0>"
      ]
     },
     "execution_count": 139,
     "metadata": {},
     "output_type": "execute_result"
    },
    {
     "data": {
      "image/png": "[encoded data removed]",
      "text/plain": [
       "<matplotlib.figure.Figure at 0x116c5f748>"
      ]
     },
     "metadata": {},
     "output_type": "display_data"
    }
   ],
   "source": [
    "xgb.plot_importance(ug_xgb)"
   ]
  },
  {
   "cell_type": "code",
   "execution_count": null,
   "metadata": {
    "collapsed": true
   },
   "outputs": [],
   "source": []
  },
  {
   "cell_type": "markdown",
   "metadata": {},
   "source": [
    "# To Do\n",
    "    - Neatly show what is missing between which countries - Done\n",
    "    - Convert Uganda pay to currency using regex\n",
    "    - use fuzzy wuzzy to organize water source and tech - sort of done\n",
    "    - run country level models on each main country\n",
    "    - Time since last measurement as new variable\n",
    "    - clean function to fill in missing on certain values and then handline missing age_well differently\n",
    "    - create a dict of label encodings so I can transform back!! SUPER IMPORTANT\n",
    "    - Analyze rows that have multiple data points for time series work and remove\n",
    "    - Globally, \"None\" is a value and isn't \"Missing\", need to merge all of thme (list below)\n",
    "    -***Show AUC curve for Swaziland, Uganda**** -DONE\n",
    "    -***Show Feature impact for Swaziland, Uganda***- DONE\n",
    "    -****Show Partial Dependence Plots for Swaziland, Uganda*** - Can't without label encoder fix\n",
    "    -***Recalculate Uganda with Fuzzy Matched Columns****--DONE for tech, not source in Fuzzy notebook\n",
    "    -map: water tech (India, Mark, mk,II--> India Mark2), (Bush Pump--> a,b,c- well labeled, keep), (Null, 0, None Other, no pump--> __Missing__), (Afridev has many associations), (gravity, gravity fed---> gravity), (brands--> Kabul, birka, india, afridev, nira), Stand, Tap, Bucket, \n",
    "    - map: water source (Dam river stream, borehole, dug well, tube well, shallowe well, well, \n",
    "    - addres missing values (multiple per) in Water Tech, Water Source, then do fuzzy match\n",
    "    \n",
    "    Contains ‘rain’ - 15,417\n",
    "\"\"\"Contains ‘gravity’ - 17,022\n",
    "Contains  ‘bore’ - 32,182\n",
    "Contains ‘dug_well’ = 22,616\n",
    "‘Shallow well’ = 17, 361\n",
    "Tube well = 6368\n",
    "Spring = 25,871\n",
    "null/0ther = 60,000\n",
    "Stand: 43, 531\n",
    "Bucket: 27k\n",
    "Tap: 6.7k \"\"\"\n",
    "\n",
    "\n",
    "\n",
    "\n",
    "    "
   ]
  },
  {
   "cell_type": "code",
   "execution_count": 148,
   "metadata": {},
   "outputs": [
    {
     "name": "stdout",
     "output_type": "stream",
     "text": [
      "16\n",
      "14\n",
      "['Standpipe' 'River/Stream' 'Storage Facility' 'Borehole'\n",
      " 'Protected Spring' 'Slow Sand Filter' 'Control House' 'BPT'\n",
      " 'Protected spring' 'Roughing Filter' 'Canal' 'Dam' 'Hand Dug Well'\n",
      " 'Hand dug well' 'Pipeline' 'StandPipe']\n",
      "['Borehole fitted with submersible pump' 'gravity river/stream'\n",
      " 'Protected spring' 'pumped river/stream'\n",
      " 'Borehole fitted with manual pump' 'Borehole' 'gravity dam'\n",
      " 'Borehole fitted with Manual pump' 'gravity River/Stream'\n",
      " 'Borehole fitted with no pump' 'pumped dam' 'Protected Spring' 'Canal'\n",
      " 'Hand dug well']\n"
     ]
    }
   ],
   "source": [
    "print(len(swaz.water_tech.unique()))\n",
    "print(len(swaz.water_source.unique()))\n",
    "print(swaz.water_tech.unique())\n",
    "print(swaz.water_source.unique())"
   ]
  },
  {
   "cell_type": "code",
   "execution_count": 147,
   "metadata": {},
   "outputs": [
    {
     "name": "stdout",
     "output_type": "stream",
     "text": [
      "106\n",
      "58\n"
     ]
    }
   ],
   "source": [
    "print(len(uganda.water_tech.unique()))\n",
    "print(len(uganda.water_source.unique()))"
   ]
  },
  {
   "cell_type": "code",
   "execution_count": 149,
   "metadata": {},
   "outputs": [
    {
     "data": {
      "text/plain": [
       "Standpipe           20247\n",
       "Borehole             1467\n",
       "Storage Facility      968\n",
       "BPT                   349\n",
       "River/Stream          210\n",
       "Control House         198\n",
       "Protected Spring      171\n",
       "StandPipe              65\n",
       "Slow Sand Filter       58\n",
       "Roughing Filter        29\n",
       "Dam                    13\n",
       "Hand Dug Well           3\n",
       "Canal                   2\n",
       "Pipeline                2\n",
       "Protected spring        1\n",
       "Hand dug well           1\n",
       "Name: water_tech, dtype: int64"
      ]
     },
     "execution_count": 149,
     "metadata": {},
     "output_type": "execute_result"
    }
   ],
   "source": [
    "swaz.water_tech.value_counts()"
   ]
  },
  {
   "cell_type": "code",
   "execution_count": null,
   "metadata": {
    "collapsed": true
   },
   "outputs": [],
   "source": []
  }
 ],
 "metadata": {
  "kernelspec": {
   "display_name": "Python [conda root]",
   "language": "python",
   "name": "conda-root-py"
  },
  "language_info": {
   "codemirror_mode": {
    "name": "ipython",
    "version": 3
   },
   "file_extension": ".py",
   "mimetype": "text/x-python",
   "name": "python",
   "nbconvert_exporter": "python",
   "pygments_lexer": "ipython3",
   "version": "3.5.3"
  }
 },
 "nbformat": 4,
 "nbformat_minor": 2
}
