{
 "cells": [
  {
   "cell_type": "code",
   "execution_count": 1,
   "metadata": {
    "collapsed": true
   },
   "outputs": [],
   "source": [
    "#!pip install georasters\n",
    "#!pip install geoindex\n",
    "#!pip install spark\n",
    "#!pip install pyspark"
   ]
  },
  {
   "cell_type": "code",
   "execution_count": 2,
   "metadata": {
    "collapsed": true,
    "scrolled": false
   },
   "outputs": [],
   "source": [
    "import pandas as pd\n",
    "import georasters as gr\n",
    "import matplotlib.pyplot as plt\n",
    "from geoindex import GeoGridIndex, GeoPoint\n",
    "import os\n",
    "from tqdm import tqdm, tqdm_pandas"
   ]
  },
  {
   "cell_type": "markdown",
   "metadata": {},
   "source": [
    "## Load Population Data"
   ]
  },
  {
   "cell_type": "code",
   "execution_count": 3,
   "metadata": {
    "collapsed": true
   },
   "outputs": [],
   "source": [
    "#Load Population Data\n",
    "pop_file = 'Africa 1km Population/AFR_PPP_2015_adj_v2.tif'\n",
    "pop_data = gr.from_file(pop_file)"
   ]
  },
  {
   "cell_type": "code",
   "execution_count": 4,
   "metadata": {},
   "outputs": [
    {
     "name": "stdout",
     "output_type": "stream",
     "text": [
      "Total population of Africa: 1.18618e+09\n"
     ]
    }
   ],
   "source": [
    "#Sanity Check\n",
    "africa_population = pop_data.sum()\n",
    "print(\"Total population of Africa:\", africa_population)"
   ]
  },
  {
   "cell_type": "code",
   "execution_count": 5,
   "metadata": {},
   "outputs": [
    {
     "name": "stderr",
     "output_type": "stream",
     "text": [
      "/Users/alexjamar/anaconda/lib/python3.5/site-packages/matplotlib/image.py:423: RuntimeWarning: overflow encountered in multiply\n",
      "  A_resampled *= ((a_max - a_min) / 0.8)\n"
     ]
    },
    {
     "data": {
      "image/png": "[encoded data removed]",
      "text/plain": [
       "<matplotlib.figure.Figure at 0x104d51198>"
      ]
     },
     "metadata": {},
     "output_type": "display_data"
    }
   ],
   "source": [
    "pop_data.plot()\n",
    "plt.show()"
   ]
  },
  {
   "cell_type": "code",
   "execution_count": 6,
   "metadata": {
    "collapsed": true
   },
   "outputs": [],
   "source": [
    "#Create population DataFrame\n",
    "pop_df = pop_data.to_pandas()"
   ]
  },
  {
   "cell_type": "code",
   "execution_count": 7,
   "metadata": {},
   "outputs": [
    {
     "data": {
      "text/html": [
       "<div>\n",
       "<style>\n",
       "    .dataframe thead tr:only-child th {\n",
       "        text-align: right;\n",
       "    }\n",
       "\n",
       "    .dataframe thead th {\n",
       "        text-align: left;\n",
       "    }\n",
       "\n",
       "    .dataframe tbody tr th {\n",
       "        vertical-align: top;\n",
       "    }\n",
       "</style>\n",
       "<table border=\"1\" class=\"dataframe\">\n",
       "  <thead>\n",
       "    <tr style=\"text-align: right;\">\n",
       "      <th></th>\n",
       "      <th>row</th>\n",
       "      <th>col</th>\n",
       "      <th>value</th>\n",
       "      <th>x</th>\n",
       "      <th>y</th>\n",
       "    </tr>\n",
       "  </thead>\n",
       "  <tbody>\n",
       "    <tr>\n",
       "      <th>0</th>\n",
       "      <td>507</td>\n",
       "      <td>5073</td>\n",
       "      <td>0.000000</td>\n",
       "      <td>8.949583</td>\n",
       "      <td>37.566250</td>\n",
       "    </tr>\n",
       "    <tr>\n",
       "      <th>1</th>\n",
       "      <td>508</td>\n",
       "      <td>5072</td>\n",
       "      <td>0.000000</td>\n",
       "      <td>8.941249</td>\n",
       "      <td>37.557917</td>\n",
       "    </tr>\n",
       "    <tr>\n",
       "      <th>2</th>\n",
       "      <td>508</td>\n",
       "      <td>5073</td>\n",
       "      <td>0.000000</td>\n",
       "      <td>8.949583</td>\n",
       "      <td>37.557917</td>\n",
       "    </tr>\n",
       "    <tr>\n",
       "      <th>3</th>\n",
       "      <td>509</td>\n",
       "      <td>5072</td>\n",
       "      <td>0.000000</td>\n",
       "      <td>8.941249</td>\n",
       "      <td>37.549584</td>\n",
       "    </tr>\n",
       "    <tr>\n",
       "      <th>4</th>\n",
       "      <td>510</td>\n",
       "      <td>5071</td>\n",
       "      <td>1.550981</td>\n",
       "      <td>8.932916</td>\n",
       "      <td>37.541250</td>\n",
       "    </tr>\n",
       "  </tbody>\n",
       "</table>\n",
       "</div>"
      ],
      "text/plain": [
       "   row   col     value         x          y\n",
       "0  507  5073  0.000000  8.949583  37.566250\n",
       "1  508  5072  0.000000  8.941249  37.557917\n",
       "2  508  5073  0.000000  8.949583  37.557917\n",
       "3  509  5072  0.000000  8.941249  37.549584\n",
       "4  510  5071  1.550981  8.932916  37.541250"
      ]
     },
     "execution_count": 7,
     "metadata": {},
     "output_type": "execute_result"
    }
   ],
   "source": [
    "pop_df.head()"
   ]
  },
  {
   "cell_type": "code",
   "execution_count": 8,
   "metadata": {},
   "outputs": [
    {
     "data": {
      "text/html": [
       "<div>\n",
       "<style>\n",
       "    .dataframe thead tr:only-child th {\n",
       "        text-align: right;\n",
       "    }\n",
       "\n",
       "    .dataframe thead th {\n",
       "        text-align: left;\n",
       "    }\n",
       "\n",
       "    .dataframe tbody tr th {\n",
       "        vertical-align: top;\n",
       "    }\n",
       "</style>\n",
       "<table border=\"1\" class=\"dataframe\">\n",
       "  <thead>\n",
       "    <tr style=\"text-align: right;\">\n",
       "      <th></th>\n",
       "      <th>row</th>\n",
       "      <th>col</th>\n",
       "      <th>value</th>\n",
       "      <th>x</th>\n",
       "      <th>y</th>\n",
       "    </tr>\n",
       "  </thead>\n",
       "  <tbody>\n",
       "    <tr>\n",
       "      <th>count</th>\n",
       "      <td>3.663813e+07</td>\n",
       "      <td>3.663813e+07</td>\n",
       "      <td>3.663813e+07</td>\n",
       "      <td>3.663813e+07</td>\n",
       "      <td>3.663813e+07</td>\n",
       "    </tr>\n",
       "    <tr>\n",
       "      <th>mean</th>\n",
       "      <td>4.236669e+03</td>\n",
       "      <td>6.183950e+03</td>\n",
       "      <td>2.967386e+01</td>\n",
       "      <td>1.820750e+01</td>\n",
       "      <td>6.485674e+00</td>\n",
       "    </tr>\n",
       "    <tr>\n",
       "      <th>std</th>\n",
       "      <td>2.097656e+03</td>\n",
       "      <td>1.862437e+03</td>\n",
       "      <td>3.628261e+02</td>\n",
       "      <td>1.552030e+01</td>\n",
       "      <td>1.748047e+01</td>\n",
       "    </tr>\n",
       "    <tr>\n",
       "      <th>min</th>\n",
       "      <td>5.070000e+02</td>\n",
       "      <td>9.550000e+02</td>\n",
       "      <td>0.000000e+00</td>\n",
       "      <td>-2.536708e+01</td>\n",
       "      <td>-4.036708e+01</td>\n",
       "    </tr>\n",
       "    <tr>\n",
       "      <th>25%</th>\n",
       "      <td>2.567000e+03</td>\n",
       "      <td>4.865000e+03</td>\n",
       "      <td>2.533315e-01</td>\n",
       "      <td>7.216249e+00</td>\n",
       "      <td>-6.650416e+00</td>\n",
       "    </tr>\n",
       "    <tr>\n",
       "      <th>50%</th>\n",
       "      <td>3.886000e+03</td>\n",
       "      <td>6.404000e+03</td>\n",
       "      <td>3.148337e+00</td>\n",
       "      <td>2.004125e+01</td>\n",
       "      <td>9.407917e+00</td>\n",
       "    </tr>\n",
       "    <tr>\n",
       "      <th>75%</th>\n",
       "      <td>5.813000e+03</td>\n",
       "      <td>7.573000e+03</td>\n",
       "      <td>1.384703e+01</td>\n",
       "      <td>2.978292e+01</td>\n",
       "      <td>2.039958e+01</td>\n",
       "    </tr>\n",
       "    <tr>\n",
       "      <th>max</th>\n",
       "      <td>9.859000e+03</td>\n",
       "      <td>1.161900e+04</td>\n",
       "      <td>1.345828e+05</td>\n",
       "      <td>6.349958e+01</td>\n",
       "      <td>3.756625e+01</td>\n",
       "    </tr>\n",
       "  </tbody>\n",
       "</table>\n",
       "</div>"
      ],
      "text/plain": [
       "                row           col         value             x             y\n",
       "count  3.663813e+07  3.663813e+07  3.663813e+07  3.663813e+07  3.663813e+07\n",
       "mean   4.236669e+03  6.183950e+03  2.967386e+01  1.820750e+01  6.485674e+00\n",
       "std    2.097656e+03  1.862437e+03  3.628261e+02  1.552030e+01  1.748047e+01\n",
       "min    5.070000e+02  9.550000e+02  0.000000e+00 -2.536708e+01 -4.036708e+01\n",
       "25%    2.567000e+03  4.865000e+03  2.533315e-01  7.216249e+00 -6.650416e+00\n",
       "50%    3.886000e+03  6.404000e+03  3.148337e+00  2.004125e+01  9.407917e+00\n",
       "75%    5.813000e+03  7.573000e+03  1.384703e+01  2.978292e+01  2.039958e+01\n",
       "max    9.859000e+03  1.161900e+04  1.345828e+05  6.349958e+01  3.756625e+01"
      ]
     },
     "execution_count": 8,
     "metadata": {},
     "output_type": "execute_result"
    }
   ],
   "source": [
    "#Get Stats\n",
    "pop_df.describe()"
   ]
  },
  {
   "cell_type": "code",
   "execution_count": 9,
   "metadata": {
    "collapsed": true
   },
   "outputs": [],
   "source": [
    "#Save to csv\n",
    "pop_df.to_csv(\"africa_pop_data.csv\")"
   ]
  },
  {
   "cell_type": "code",
   "execution_count": 10,
   "metadata": {
    "collapsed": true
   },
   "outputs": [],
   "source": [
    "#Load Swaziland Pop File\n",
    "swaz_pop_file = 'Swaziland 100m Population/SWZ15adjv4.tif'\n",
    "swaz_pop_data = gr.from_file(swaz_pop_file)"
   ]
  },
  {
   "cell_type": "code",
   "execution_count": 11,
   "metadata": {},
   "outputs": [
    {
     "data": {
      "image/png": "[encoded data removed]",
      "text/plain": [
       "<matplotlib.figure.Figure at 0x1736ef908>"
      ]
     },
     "metadata": {},
     "output_type": "display_data"
    }
   ],
   "source": [
    "swaz_pop_data.plot()\n",
    "plt.show()"
   ]
  },
  {
   "cell_type": "code",
   "execution_count": 12,
   "metadata": {
    "collapsed": true
   },
   "outputs": [],
   "source": [
    "#Convert to DataFrame\n",
    "swaz_pop = swaz_pop_data.to_pandas()"
   ]
  },
  {
   "cell_type": "code",
   "execution_count": 13,
   "metadata": {},
   "outputs": [
    {
     "data": {
      "text/html": [
       "<div>\n",
       "<style>\n",
       "    .dataframe thead tr:only-child th {\n",
       "        text-align: right;\n",
       "    }\n",
       "\n",
       "    .dataframe thead th {\n",
       "        text-align: left;\n",
       "    }\n",
       "\n",
       "    .dataframe tbody tr th {\n",
       "        vertical-align: top;\n",
       "    }\n",
       "</style>\n",
       "<table border=\"1\" class=\"dataframe\">\n",
       "  <thead>\n",
       "    <tr style=\"text-align: right;\">\n",
       "      <th></th>\n",
       "      <th>row</th>\n",
       "      <th>col</th>\n",
       "      <th>value</th>\n",
       "      <th>x</th>\n",
       "      <th>y</th>\n",
       "    </tr>\n",
       "  </thead>\n",
       "  <tbody>\n",
       "    <tr>\n",
       "      <th>0</th>\n",
       "      <td>3</td>\n",
       "      <td>748</td>\n",
       "      <td>0.019898</td>\n",
       "      <td>31.413377</td>\n",
       "      <td>-25.718035</td>\n",
       "    </tr>\n",
       "    <tr>\n",
       "      <th>1</th>\n",
       "      <td>3</td>\n",
       "      <td>749</td>\n",
       "      <td>0.019898</td>\n",
       "      <td>31.414211</td>\n",
       "      <td>-25.718035</td>\n",
       "    </tr>\n",
       "    <tr>\n",
       "      <th>2</th>\n",
       "      <td>3</td>\n",
       "      <td>750</td>\n",
       "      <td>0.019898</td>\n",
       "      <td>31.415044</td>\n",
       "      <td>-25.718035</td>\n",
       "    </tr>\n",
       "    <tr>\n",
       "      <th>3</th>\n",
       "      <td>4</td>\n",
       "      <td>744</td>\n",
       "      <td>0.019898</td>\n",
       "      <td>31.410044</td>\n",
       "      <td>-25.718868</td>\n",
       "    </tr>\n",
       "    <tr>\n",
       "      <th>4</th>\n",
       "      <td>4</td>\n",
       "      <td>745</td>\n",
       "      <td>0.019898</td>\n",
       "      <td>31.410877</td>\n",
       "      <td>-25.718868</td>\n",
       "    </tr>\n",
       "  </tbody>\n",
       "</table>\n",
       "</div>"
      ],
      "text/plain": [
       "   row  col     value          x          y\n",
       "0    3  748  0.019898  31.413377 -25.718035\n",
       "1    3  749  0.019898  31.414211 -25.718035\n",
       "2    3  750  0.019898  31.415044 -25.718035\n",
       "3    4  744  0.019898  31.410044 -25.718868\n",
       "4    4  745  0.019898  31.410877 -25.718868"
      ]
     },
     "execution_count": 13,
     "metadata": {},
     "output_type": "execute_result"
    }
   ],
   "source": [
    "swaz_pop.head()"
   ]
  },
  {
   "cell_type": "code",
   "execution_count": 14,
   "metadata": {
    "collapsed": true
   },
   "outputs": [],
   "source": [
    "#Round Population Data to 3 decimal points & Add Country Tag\n",
    "swaz_pop['value'] = swaz_pop['value'].apply(lambda x: round(x, 3))\n",
    "swaz_pop['country'] = 'Swaziland'"
   ]
  },
  {
   "cell_type": "code",
   "execution_count": 15,
   "metadata": {},
   "outputs": [
    {
     "data": {
      "text/html": [
       "<div>\n",
       "<style>\n",
       "    .dataframe thead tr:only-child th {\n",
       "        text-align: right;\n",
       "    }\n",
       "\n",
       "    .dataframe thead th {\n",
       "        text-align: left;\n",
       "    }\n",
       "\n",
       "    .dataframe tbody tr th {\n",
       "        vertical-align: top;\n",
       "    }\n",
       "</style>\n",
       "<table border=\"1\" class=\"dataframe\">\n",
       "  <thead>\n",
       "    <tr style=\"text-align: right;\">\n",
       "      <th></th>\n",
       "      <th>row</th>\n",
       "      <th>col</th>\n",
       "      <th>value</th>\n",
       "      <th>x</th>\n",
       "      <th>y</th>\n",
       "      <th>country</th>\n",
       "    </tr>\n",
       "  </thead>\n",
       "  <tbody>\n",
       "    <tr>\n",
       "      <th>0</th>\n",
       "      <td>3</td>\n",
       "      <td>748</td>\n",
       "      <td>0.02</td>\n",
       "      <td>31.413377</td>\n",
       "      <td>-25.718035</td>\n",
       "      <td>Swaziland</td>\n",
       "    </tr>\n",
       "    <tr>\n",
       "      <th>1</th>\n",
       "      <td>3</td>\n",
       "      <td>749</td>\n",
       "      <td>0.02</td>\n",
       "      <td>31.414211</td>\n",
       "      <td>-25.718035</td>\n",
       "      <td>Swaziland</td>\n",
       "    </tr>\n",
       "    <tr>\n",
       "      <th>2</th>\n",
       "      <td>3</td>\n",
       "      <td>750</td>\n",
       "      <td>0.02</td>\n",
       "      <td>31.415044</td>\n",
       "      <td>-25.718035</td>\n",
       "      <td>Swaziland</td>\n",
       "    </tr>\n",
       "    <tr>\n",
       "      <th>3</th>\n",
       "      <td>4</td>\n",
       "      <td>744</td>\n",
       "      <td>0.02</td>\n",
       "      <td>31.410044</td>\n",
       "      <td>-25.718868</td>\n",
       "      <td>Swaziland</td>\n",
       "    </tr>\n",
       "    <tr>\n",
       "      <th>4</th>\n",
       "      <td>4</td>\n",
       "      <td>745</td>\n",
       "      <td>0.02</td>\n",
       "      <td>31.410877</td>\n",
       "      <td>-25.718868</td>\n",
       "      <td>Swaziland</td>\n",
       "    </tr>\n",
       "  </tbody>\n",
       "</table>\n",
       "</div>"
      ],
      "text/plain": [
       "   row  col  value          x          y    country\n",
       "0    3  748   0.02  31.413377 -25.718035  Swaziland\n",
       "1    3  749   0.02  31.414211 -25.718035  Swaziland\n",
       "2    3  750   0.02  31.415044 -25.718035  Swaziland\n",
       "3    4  744   0.02  31.410044 -25.718868  Swaziland\n",
       "4    4  745   0.02  31.410877 -25.718868  Swaziland"
      ]
     },
     "execution_count": 15,
     "metadata": {},
     "output_type": "execute_result"
    }
   ],
   "source": [
    "swaz_pop.head()"
   ]
  },
  {
   "cell_type": "code",
   "execution_count": 16,
   "metadata": {
    "collapsed": true
   },
   "outputs": [],
   "source": [
    "#Create csv\n",
    "swaz_pop.to_csv(\"swaz_pop_data.csv\")"
   ]
  },
  {
   "cell_type": "markdown",
   "metadata": {
    "collapsed": true
   },
   "source": [
    "## Load Water Data"
   ]
  },
  {
   "cell_type": "code",
   "execution_count": 17,
   "metadata": {},
   "outputs": [
    {
     "data": {
      "text/plain": [
       "'/Users/alexjamar/Documents/Berkeley/Capstone/Capstone_Water_Access/Population'"
      ]
     },
     "execution_count": 17,
     "metadata": {},
     "output_type": "execute_result"
    }
   ],
   "source": [
    "os.getcwd()"
   ]
  },
  {
   "cell_type": "code",
   "execution_count": 18,
   "metadata": {},
   "outputs": [
    {
     "name": "stderr",
     "output_type": "stream",
     "text": [
      "/Users/alexjamar/anaconda/lib/python3.5/site-packages/IPython/core/interactiveshell.py:2698: DtypeWarning: Columns (2,5,7,17,18,19) have mixed types. Specify dtype option on import or set low_memory=False.\n",
      "  interactivity=interactivity, compiler=compiler, result=result)\n"
     ]
    }
   ],
   "source": [
    "water_data = pd.read_csv(\"/Users/alexjamar/Documents/Berkeley/Capstone/Capstone_Water_Access//data/Water_Point_Data_Exchange_Complete_Dataset.csv\")"
   ]
  },
  {
   "cell_type": "code",
   "execution_count": 19,
   "metadata": {},
   "outputs": [
    {
     "data": {
      "text/html": [
       "<div>\n",
       "<style>\n",
       "    .dataframe thead tr:only-child th {\n",
       "        text-align: right;\n",
       "    }\n",
       "\n",
       "    .dataframe thead th {\n",
       "        text-align: left;\n",
       "    }\n",
       "\n",
       "    .dataframe tbody tr th {\n",
       "        vertical-align: top;\n",
       "    }\n",
       "</style>\n",
       "<table border=\"1\" class=\"dataframe\">\n",
       "  <thead>\n",
       "    <tr style=\"text-align: right;\">\n",
       "      <th></th>\n",
       "      <th>Row ID</th>\n",
       "      <th>#country_name</th>\n",
       "      <th>#water_source</th>\n",
       "      <th>#water_tech</th>\n",
       "      <th>#status_id</th>\n",
       "      <th>#management</th>\n",
       "      <th>#pay</th>\n",
       "      <th>#installer</th>\n",
       "      <th>#install_year</th>\n",
       "      <th>#status</th>\n",
       "      <th>...</th>\n",
       "      <th>#converted</th>\n",
       "      <th>#created</th>\n",
       "      <th>#updated</th>\n",
       "      <th>#lat_deg</th>\n",
       "      <th>#lon_deg</th>\n",
       "      <th>Location</th>\n",
       "      <th>Count</th>\n",
       "      <th>#fecal_coliform_presence</th>\n",
       "      <th>#fecal_coliform_value</th>\n",
       "      <th>#subjective_quality</th>\n",
       "    </tr>\n",
       "  </thead>\n",
       "  <tbody>\n",
       "    <tr>\n",
       "      <th>0</th>\n",
       "      <td>1</td>\n",
       "      <td>Tanzania, United Republic of</td>\n",
       "      <td>Spring</td>\n",
       "      <td>Gravity Communal standpipe</td>\n",
       "      <td>no</td>\n",
       "      <td>NaN</td>\n",
       "      <td>Never pay</td>\n",
       "      <td>RWE</td>\n",
       "      <td>1972.0</td>\n",
       "      <td>Status:Not functional|Quantity:Dry|Quality:Soft</td>\n",
       "      <td>...</td>\n",
       "      <td>\"#water_tech, #country_id, #data_lnk\"</td>\n",
       "      <td>10/23/2015 01:03:07 AM +0000</td>\n",
       "      <td>10/23/2015 01:03:07 AM +0000</td>\n",
       "      <td>-2.83257</td>\n",
       "      <td>36.3090</td>\n",
       "      <td>(-2.83257, 36.309)</td>\n",
       "      <td>1</td>\n",
       "      <td>NaN</td>\n",
       "      <td>NaN</td>\n",
       "      <td>NaN</td>\n",
       "    </tr>\n",
       "    <tr>\n",
       "      <th>1</th>\n",
       "      <td>2</td>\n",
       "      <td>Tanzania, United Republic of</td>\n",
       "      <td>Rainwater harvesting</td>\n",
       "      <td>Gravity Communal standpipe</td>\n",
       "      <td>yes</td>\n",
       "      <td>NaN</td>\n",
       "      <td>Never pay</td>\n",
       "      <td>World Vision</td>\n",
       "      <td>2005.0</td>\n",
       "      <td>Status:Functional|Breakdown Year:2007|Reason N...</td>\n",
       "      <td>...</td>\n",
       "      <td>\"#water_tech, #country_id, #data_lnk\"</td>\n",
       "      <td>10/23/2015 01:03:07 AM +0000</td>\n",
       "      <td>10/23/2015 01:03:07 AM +0000</td>\n",
       "      <td>-2.84781</td>\n",
       "      <td>36.5284</td>\n",
       "      <td>(-2.84781, 36.5284)</td>\n",
       "      <td>1</td>\n",
       "      <td>NaN</td>\n",
       "      <td>NaN</td>\n",
       "      <td>NaN</td>\n",
       "    </tr>\n",
       "    <tr>\n",
       "      <th>2</th>\n",
       "      <td>3</td>\n",
       "      <td>Tanzania, United Republic of</td>\n",
       "      <td>Rainwater harvesting</td>\n",
       "      <td>Gravity Communal standpipe</td>\n",
       "      <td>yes</td>\n",
       "      <td>NaN</td>\n",
       "      <td>Never pay</td>\n",
       "      <td>World Vision</td>\n",
       "      <td>2005.0</td>\n",
       "      <td>Status:Functional|Quantity:Seasonal|Quality:Soft</td>\n",
       "      <td>...</td>\n",
       "      <td>\"#water_tech, #country_id, #data_lnk\"</td>\n",
       "      <td>10/23/2015 01:03:07 AM +0000</td>\n",
       "      <td>10/23/2015 01:03:07 AM +0000</td>\n",
       "      <td>-2.84796</td>\n",
       "      <td>36.5288</td>\n",
       "      <td>(-2.84796, 36.5288)</td>\n",
       "      <td>1</td>\n",
       "      <td>NaN</td>\n",
       "      <td>NaN</td>\n",
       "      <td>NaN</td>\n",
       "    </tr>\n",
       "    <tr>\n",
       "      <th>3</th>\n",
       "      <td>4</td>\n",
       "      <td>Tanzania, United Republic of</td>\n",
       "      <td>Rainwater harvesting</td>\n",
       "      <td>Gravity Communal standpipe</td>\n",
       "      <td>yes</td>\n",
       "      <td>NaN</td>\n",
       "      <td>Never pay</td>\n",
       "      <td>World Vision</td>\n",
       "      <td>2005.0</td>\n",
       "      <td>Status:Functional|Quantity:Seasonal|Quality:Soft</td>\n",
       "      <td>...</td>\n",
       "      <td>\"#water_tech, #country_id, #data_lnk\"</td>\n",
       "      <td>10/23/2015 01:03:07 AM +0000</td>\n",
       "      <td>10/23/2015 01:03:07 AM +0000</td>\n",
       "      <td>-2.85318</td>\n",
       "      <td>36.5276</td>\n",
       "      <td>(-2.85318, 36.5276)</td>\n",
       "      <td>1</td>\n",
       "      <td>NaN</td>\n",
       "      <td>NaN</td>\n",
       "      <td>NaN</td>\n",
       "    </tr>\n",
       "    <tr>\n",
       "      <th>4</th>\n",
       "      <td>5</td>\n",
       "      <td>Nicaragua</td>\n",
       "      <td>NaN</td>\n",
       "      <td>NaN</td>\n",
       "      <td>yes</td>\n",
       "      <td>NaN</td>\n",
       "      <td>NaN</td>\n",
       "      <td>NaN</td>\n",
       "      <td>2011.0</td>\n",
       "      <td>NaN</td>\n",
       "      <td>...</td>\n",
       "      <td>#data_lnk, #lon_deg, #lat_deg, #country_id</td>\n",
       "      <td>04/08/2016 08:35:49 AM +0000</td>\n",
       "      <td>04/08/2016 08:35:49 AM +0000</td>\n",
       "      <td>12.74070</td>\n",
       "      <td>-86.0121</td>\n",
       "      <td>(12.7407, -86.0121)</td>\n",
       "      <td>1</td>\n",
       "      <td>NaN</td>\n",
       "      <td>NaN</td>\n",
       "      <td>NaN</td>\n",
       "    </tr>\n",
       "  </tbody>\n",
       "</table>\n",
       "<p>5 rows × 30 columns</p>\n",
       "</div>"
      ],
      "text/plain": [
       "   Row ID                 #country_name         #water_source  \\\n",
       "0       1  Tanzania, United Republic of                Spring   \n",
       "1       2  Tanzania, United Republic of  Rainwater harvesting   \n",
       "2       3  Tanzania, United Republic of  Rainwater harvesting   \n",
       "3       4  Tanzania, United Republic of  Rainwater harvesting   \n",
       "4       5                     Nicaragua                   NaN   \n",
       "\n",
       "                  #water_tech #status_id #management       #pay    #installer  \\\n",
       "0  Gravity Communal standpipe         no         NaN  Never pay           RWE   \n",
       "1  Gravity Communal standpipe        yes         NaN  Never pay  World Vision   \n",
       "2  Gravity Communal standpipe        yes         NaN  Never pay  World Vision   \n",
       "3  Gravity Communal standpipe        yes         NaN  Never pay  World Vision   \n",
       "4                         NaN        yes         NaN        NaN           NaN   \n",
       "\n",
       "   #install_year                                            #status  \\\n",
       "0         1972.0    Status:Not functional|Quantity:Dry|Quality:Soft   \n",
       "1         2005.0  Status:Functional|Breakdown Year:2007|Reason N...   \n",
       "2         2005.0   Status:Functional|Quantity:Seasonal|Quality:Soft   \n",
       "3         2005.0   Status:Functional|Quantity:Seasonal|Quality:Soft   \n",
       "4         2011.0                                                NaN   \n",
       "\n",
       "          ...                                          #converted  \\\n",
       "0         ...               \"#water_tech, #country_id, #data_lnk\"   \n",
       "1         ...               \"#water_tech, #country_id, #data_lnk\"   \n",
       "2         ...               \"#water_tech, #country_id, #data_lnk\"   \n",
       "3         ...               \"#water_tech, #country_id, #data_lnk\"   \n",
       "4         ...          #data_lnk, #lon_deg, #lat_deg, #country_id   \n",
       "\n",
       "                       #created                      #updated  #lat_deg  \\\n",
       "0  10/23/2015 01:03:07 AM +0000  10/23/2015 01:03:07 AM +0000  -2.83257   \n",
       "1  10/23/2015 01:03:07 AM +0000  10/23/2015 01:03:07 AM +0000  -2.84781   \n",
       "2  10/23/2015 01:03:07 AM +0000  10/23/2015 01:03:07 AM +0000  -2.84796   \n",
       "3  10/23/2015 01:03:07 AM +0000  10/23/2015 01:03:07 AM +0000  -2.85318   \n",
       "4  04/08/2016 08:35:49 AM +0000  04/08/2016 08:35:49 AM +0000  12.74070   \n",
       "\n",
       "  #lon_deg             Location Count #fecal_coliform_presence  \\\n",
       "0  36.3090   (-2.83257, 36.309)     1                      NaN   \n",
       "1  36.5284  (-2.84781, 36.5284)     1                      NaN   \n",
       "2  36.5288  (-2.84796, 36.5288)     1                      NaN   \n",
       "3  36.5276  (-2.85318, 36.5276)     1                      NaN   \n",
       "4 -86.0121  (12.7407, -86.0121)     1                      NaN   \n",
       "\n",
       "  #fecal_coliform_value #subjective_quality  \n",
       "0                   NaN                 NaN  \n",
       "1                   NaN                 NaN  \n",
       "2                   NaN                 NaN  \n",
       "3                   NaN                 NaN  \n",
       "4                   NaN                 NaN  \n",
       "\n",
       "[5 rows x 30 columns]"
      ]
     },
     "execution_count": 19,
     "metadata": {},
     "output_type": "execute_result"
    }
   ],
   "source": [
    "water_data.head()"
   ]
  },
  {
   "cell_type": "code",
   "execution_count": 20,
   "metadata": {
    "collapsed": true
   },
   "outputs": [],
   "source": [
    "#Create df with only Swaziland water\n",
    "swaz_water = water_data[water_data['#country_name'] == 'Swaziland']"
   ]
  },
  {
   "cell_type": "code",
   "execution_count": 21,
   "metadata": {},
   "outputs": [
    {
     "data": {
      "text/html": [
       "<div>\n",
       "<style>\n",
       "    .dataframe thead tr:only-child th {\n",
       "        text-align: right;\n",
       "    }\n",
       "\n",
       "    .dataframe thead th {\n",
       "        text-align: left;\n",
       "    }\n",
       "\n",
       "    .dataframe tbody tr th {\n",
       "        vertical-align: top;\n",
       "    }\n",
       "</style>\n",
       "<table border=\"1\" class=\"dataframe\">\n",
       "  <thead>\n",
       "    <tr style=\"text-align: right;\">\n",
       "      <th></th>\n",
       "      <th>Row ID</th>\n",
       "      <th>#country_name</th>\n",
       "      <th>#water_source</th>\n",
       "      <th>#water_tech</th>\n",
       "      <th>#status_id</th>\n",
       "      <th>#management</th>\n",
       "      <th>#pay</th>\n",
       "      <th>#installer</th>\n",
       "      <th>#install_year</th>\n",
       "      <th>#status</th>\n",
       "      <th>...</th>\n",
       "      <th>#converted</th>\n",
       "      <th>#created</th>\n",
       "      <th>#updated</th>\n",
       "      <th>#lat_deg</th>\n",
       "      <th>#lon_deg</th>\n",
       "      <th>Location</th>\n",
       "      <th>Count</th>\n",
       "      <th>#fecal_coliform_presence</th>\n",
       "      <th>#fecal_coliform_value</th>\n",
       "      <th>#subjective_quality</th>\n",
       "    </tr>\n",
       "  </thead>\n",
       "  <tbody>\n",
       "    <tr>\n",
       "      <th>301736</th>\n",
       "      <td>472293</td>\n",
       "      <td>Swaziland</td>\n",
       "      <td>Borehole fitted with submersible pump</td>\n",
       "      <td>Standpipe</td>\n",
       "      <td>no</td>\n",
       "      <td>Community Management</td>\n",
       "      <td>15</td>\n",
       "      <td>NaN</td>\n",
       "      <td>1982.0</td>\n",
       "      <td>Stolen Pump</td>\n",
       "      <td>...</td>\n",
       "      <td>#status_id; #report_date; #management; #instal...</td>\n",
       "      <td>01/19/2017 06:10:50 AM +0000</td>\n",
       "      <td>01/19/2017 06:10:50 AM +0000</td>\n",
       "      <td>-27.1031</td>\n",
       "      <td>31.1317</td>\n",
       "      <td>(-27.1031, 31.1317)</td>\n",
       "      <td>1</td>\n",
       "      <td>NaN</td>\n",
       "      <td>NaN</td>\n",
       "      <td>NaN</td>\n",
       "    </tr>\n",
       "    <tr>\n",
       "      <th>301737</th>\n",
       "      <td>472294</td>\n",
       "      <td>Swaziland</td>\n",
       "      <td>Borehole fitted with submersible pump</td>\n",
       "      <td>Standpipe</td>\n",
       "      <td>no</td>\n",
       "      <td>Community Management</td>\n",
       "      <td>15</td>\n",
       "      <td>NaN</td>\n",
       "      <td>1982.0</td>\n",
       "      <td>Stolen Pump</td>\n",
       "      <td>...</td>\n",
       "      <td>#status_id; #report_date; #management; #instal...</td>\n",
       "      <td>01/19/2017 06:10:50 AM +0000</td>\n",
       "      <td>01/19/2017 06:10:50 AM +0000</td>\n",
       "      <td>-27.1045</td>\n",
       "      <td>31.1286</td>\n",
       "      <td>(-27.1045, 31.1286)</td>\n",
       "      <td>1</td>\n",
       "      <td>NaN</td>\n",
       "      <td>NaN</td>\n",
       "      <td>NaN</td>\n",
       "    </tr>\n",
       "    <tr>\n",
       "      <th>301738</th>\n",
       "      <td>472295</td>\n",
       "      <td>Swaziland</td>\n",
       "      <td>Borehole fitted with submersible pump</td>\n",
       "      <td>Standpipe</td>\n",
       "      <td>no</td>\n",
       "      <td>Community Management</td>\n",
       "      <td>15</td>\n",
       "      <td>NaN</td>\n",
       "      <td>1982.0</td>\n",
       "      <td>Stolen Pump</td>\n",
       "      <td>...</td>\n",
       "      <td>#status_id; #report_date; #management; #instal...</td>\n",
       "      <td>01/19/2017 06:10:50 AM +0000</td>\n",
       "      <td>01/19/2017 06:10:50 AM +0000</td>\n",
       "      <td>-27.1051</td>\n",
       "      <td>31.1281</td>\n",
       "      <td>(-27.1051, 31.1281)</td>\n",
       "      <td>1</td>\n",
       "      <td>NaN</td>\n",
       "      <td>NaN</td>\n",
       "      <td>NaN</td>\n",
       "    </tr>\n",
       "    <tr>\n",
       "      <th>301739</th>\n",
       "      <td>472296</td>\n",
       "      <td>Swaziland</td>\n",
       "      <td>Borehole fitted with submersible pump</td>\n",
       "      <td>Standpipe</td>\n",
       "      <td>no</td>\n",
       "      <td>Community Management</td>\n",
       "      <td>15</td>\n",
       "      <td>NaN</td>\n",
       "      <td>1982.0</td>\n",
       "      <td>Stolen Pump</td>\n",
       "      <td>...</td>\n",
       "      <td>#status_id; #report_date; #management; #instal...</td>\n",
       "      <td>01/19/2017 06:10:50 AM +0000</td>\n",
       "      <td>01/19/2017 06:10:50 AM +0000</td>\n",
       "      <td>-27.1068</td>\n",
       "      <td>31.1275</td>\n",
       "      <td>(-27.1068, 31.1275)</td>\n",
       "      <td>1</td>\n",
       "      <td>NaN</td>\n",
       "      <td>NaN</td>\n",
       "      <td>NaN</td>\n",
       "    </tr>\n",
       "    <tr>\n",
       "      <th>301740</th>\n",
       "      <td>472297</td>\n",
       "      <td>Swaziland</td>\n",
       "      <td>Borehole fitted with submersible pump</td>\n",
       "      <td>Standpipe</td>\n",
       "      <td>no</td>\n",
       "      <td>Community Management</td>\n",
       "      <td>15</td>\n",
       "      <td>NaN</td>\n",
       "      <td>1982.0</td>\n",
       "      <td>Stolen Pump</td>\n",
       "      <td>...</td>\n",
       "      <td>#status_id; #report_date; #management; #instal...</td>\n",
       "      <td>01/19/2017 06:10:50 AM +0000</td>\n",
       "      <td>01/19/2017 06:10:50 AM +0000</td>\n",
       "      <td>-27.1096</td>\n",
       "      <td>31.1319</td>\n",
       "      <td>(-27.1096, 31.1319)</td>\n",
       "      <td>1</td>\n",
       "      <td>NaN</td>\n",
       "      <td>NaN</td>\n",
       "      <td>NaN</td>\n",
       "    </tr>\n",
       "  </tbody>\n",
       "</table>\n",
       "<p>5 rows × 30 columns</p>\n",
       "</div>"
      ],
      "text/plain": [
       "        Row ID #country_name                          #water_source  \\\n",
       "301736  472293     Swaziland  Borehole fitted with submersible pump   \n",
       "301737  472294     Swaziland  Borehole fitted with submersible pump   \n",
       "301738  472295     Swaziland  Borehole fitted with submersible pump   \n",
       "301739  472296     Swaziland  Borehole fitted with submersible pump   \n",
       "301740  472297     Swaziland  Borehole fitted with submersible pump   \n",
       "\n",
       "       #water_tech #status_id           #management #pay #installer  \\\n",
       "301736   Standpipe         no  Community Management   15        NaN   \n",
       "301737   Standpipe         no  Community Management   15        NaN   \n",
       "301738   Standpipe         no  Community Management   15        NaN   \n",
       "301739   Standpipe         no  Community Management   15        NaN   \n",
       "301740   Standpipe         no  Community Management   15        NaN   \n",
       "\n",
       "        #install_year      #status         ...          \\\n",
       "301736         1982.0  Stolen Pump         ...           \n",
       "301737         1982.0  Stolen Pump         ...           \n",
       "301738         1982.0  Stolen Pump         ...           \n",
       "301739         1982.0  Stolen Pump         ...           \n",
       "301740         1982.0  Stolen Pump         ...           \n",
       "\n",
       "                                               #converted  \\\n",
       "301736  #status_id; #report_date; #management; #instal...   \n",
       "301737  #status_id; #report_date; #management; #instal...   \n",
       "301738  #status_id; #report_date; #management; #instal...   \n",
       "301739  #status_id; #report_date; #management; #instal...   \n",
       "301740  #status_id; #report_date; #management; #instal...   \n",
       "\n",
       "                            #created                      #updated #lat_deg  \\\n",
       "301736  01/19/2017 06:10:50 AM +0000  01/19/2017 06:10:50 AM +0000 -27.1031   \n",
       "301737  01/19/2017 06:10:50 AM +0000  01/19/2017 06:10:50 AM +0000 -27.1045   \n",
       "301738  01/19/2017 06:10:50 AM +0000  01/19/2017 06:10:50 AM +0000 -27.1051   \n",
       "301739  01/19/2017 06:10:50 AM +0000  01/19/2017 06:10:50 AM +0000 -27.1068   \n",
       "301740  01/19/2017 06:10:50 AM +0000  01/19/2017 06:10:50 AM +0000 -27.1096   \n",
       "\n",
       "       #lon_deg             Location Count #fecal_coliform_presence  \\\n",
       "301736  31.1317  (-27.1031, 31.1317)     1                      NaN   \n",
       "301737  31.1286  (-27.1045, 31.1286)     1                      NaN   \n",
       "301738  31.1281  (-27.1051, 31.1281)     1                      NaN   \n",
       "301739  31.1275  (-27.1068, 31.1275)     1                      NaN   \n",
       "301740  31.1319  (-27.1096, 31.1319)     1                      NaN   \n",
       "\n",
       "       #fecal_coliform_value #subjective_quality  \n",
       "301736                   NaN                 NaN  \n",
       "301737                   NaN                 NaN  \n",
       "301738                   NaN                 NaN  \n",
       "301739                   NaN                 NaN  \n",
       "301740                   NaN                 NaN  \n",
       "\n",
       "[5 rows x 30 columns]"
      ]
     },
     "execution_count": 21,
     "metadata": {},
     "output_type": "execute_result"
    }
   ],
   "source": [
    "swaz_water.head()"
   ]
  },
  {
   "cell_type": "markdown",
   "metadata": {},
   "source": [
    "## Radius-based Search"
   ]
  },
  {
   "cell_type": "code",
   "execution_count": 22,
   "metadata": {
    "collapsed": true
   },
   "outputs": [],
   "source": [
    "#Create Geo Index of Swaziland Population Data\n",
    "geo_index = GeoGridIndex()\n",
    "for index, row in swaz_pop.iterrows():\n",
    "    geo_index.add_point(GeoPoint(row['y'], row['x'], ref=row['value']))"
   ]
  },
  {
   "cell_type": "code",
   "execution_count": 23,
   "metadata": {
    "collapsed": true
   },
   "outputs": [],
   "source": [
    "#Calculate population with x distance of random well\n",
    "def calculate_population_within_x_km(row, index, km):\n",
    "    center_point = GeoPoint(row['#lat_deg'], row['#lon_deg'])\n",
    "    total_population = 0\n",
    "    try:\n",
    "        for point,distance in index.get_nearest_points(center_point, km, 'km'):\n",
    "            total_population += point.ref\n",
    "    except:\n",
    "        print(\"Invalid data - Record skipped\")\n",
    "    #print(\"Total population within\", km, \"kilometers:\", int(total_population))\n",
    "    return total_population"
   ]
  },
  {
   "cell_type": "code",
   "execution_count": 24,
   "metadata": {},
   "outputs": [
    {
     "name": "stderr",
     "output_type": "stream",
     "text": [
      " 95%|█████████▌| 22665/23784 [21:41:29<50:46,  2.72s/it]   "
     ]
    },
    {
     "name": "stdout",
     "output_type": "stream",
     "text": [
      "Invalid data - Record skipped\n"
     ]
    },
    {
     "name": "stderr",
     "output_type": "stream",
     "text": [
      "100%|██████████| 23784/23784 [22:35:24<00:00,  3.42s/it]  \n",
      "/Users/alexjamar/anaconda/lib/python3.5/site-packages/ipykernel_launcher.py:4: SettingWithCopyWarning: \n",
      "A value is trying to be set on a copy of a slice from a DataFrame.\n",
      "Try using .loc[row_indexer,col_indexer] = value instead\n",
      "\n",
      "See the caveats in the documentation: http://pandas.pydata.org/pandas-docs/stable/indexing.html#indexing-view-versus-copy\n",
      "  after removing the cwd from sys.path.\n"
     ]
    }
   ],
   "source": [
    "#Add 1,5,10 km radii population data to each well\n",
    "tqdm.pandas()\n",
    "swaz_water['1 km population'] = swaz_water.progress_apply(lambda row: calculate_population_within_x_km(row, geo_index, 1),\n",
    "                                                  axis = 1)"
   ]
  },
  {
   "cell_type": "code",
   "execution_count": 26,
   "metadata": {},
   "outputs": [],
   "source": [
    "swaz_water.to_csv(\"Swaziland_Water_Sources_and_Population.csv\", index = False)"
   ]
  },
  {
   "cell_type": "code",
   "execution_count": null,
   "metadata": {
    "collapsed": true
   },
   "outputs": [],
   "source": []
  }
 ],
 "metadata": {
  "kernelspec": {
   "display_name": "Python 3",
   "language": "python",
   "name": "python3"
  },
  "language_info": {
   "codemirror_mode": {
    "name": "ipython",
    "version": 3
   },
   "file_extension": ".py",
   "mimetype": "text/x-python",
   "name": "python",
   "nbconvert_exporter": "python",
   "pygments_lexer": "ipython3",
   "version": "3.5.4"
  }
 },
 "nbformat": 4,
 "nbformat_minor": 2
}
