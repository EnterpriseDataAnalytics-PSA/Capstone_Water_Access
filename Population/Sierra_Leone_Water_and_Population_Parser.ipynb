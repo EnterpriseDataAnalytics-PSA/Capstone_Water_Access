{
 "cells": [
  {
   "cell_type": "code",
   "execution_count": 1,
   "metadata": {
    "collapsed": true
   },
   "outputs": [],
   "source": [
    "#!pip install georasters\n",
    "#!pip install geoindex\n",
    "#!pip install spark\n",
    "#!pip install pyspark"
   ]
  },
  {
   "cell_type": "code",
   "execution_count": 2,
   "metadata": {
    "collapsed": true,
    "scrolled": false
   },
   "outputs": [],
   "source": [
    "import pandas as pd\n",
    "import georasters as gr\n",
    "import matplotlib.pyplot as plt\n",
    "from geoindex import GeoGridIndex, GeoPoint\n",
    "import os\n",
    "from tqdm import tqdm, tqdm_pandas"
   ]
  },
  {
   "cell_type": "code",
   "execution_count": 3,
   "metadata": {
    "collapsed": true
   },
   "outputs": [],
   "source": [
    "pd.set_option('display.max_columns', 100)"
   ]
  },
  {
   "cell_type": "markdown",
   "metadata": {
    "collapsed": true
   },
   "source": [
    "## Load Water Data"
   ]
  },
  {
   "cell_type": "code",
   "execution_count": 4,
   "metadata": {},
   "outputs": [
    {
     "data": {
      "text/plain": [
       "'/Users/alexjamar/Documents/Berkeley/Capstone/Capstone_Water_Access/Population'"
      ]
     },
     "execution_count": 4,
     "metadata": {},
     "output_type": "execute_result"
    }
   ],
   "source": [
    "os.getcwd()"
   ]
  },
  {
   "cell_type": "code",
   "execution_count": 5,
   "metadata": {},
   "outputs": [
    {
     "name": "stderr",
     "output_type": "stream",
     "text": [
      "/Users/alexjamar/anaconda/lib/python3.5/site-packages/IPython/core/interactiveshell.py:2698: DtypeWarning: Columns (2,5,7,17,18,19) have mixed types. Specify dtype option on import or set low_memory=False.\n",
      "  interactivity=interactivity, compiler=compiler, result=result)\n"
     ]
    }
   ],
   "source": [
    "water_data = pd.read_csv(\"/Users/alexjamar/Documents/Berkeley/Capstone/Capstone_Water_Access//data/Water_Point_Data_Exchange_Complete_Dataset.csv\")"
   ]
  },
  {
   "cell_type": "code",
   "execution_count": 6,
   "metadata": {},
   "outputs": [
    {
     "data": {
      "text/html": [
       "<div>\n",
       "<style>\n",
       "    .dataframe thead tr:only-child th {\n",
       "        text-align: right;\n",
       "    }\n",
       "\n",
       "    .dataframe thead th {\n",
       "        text-align: left;\n",
       "    }\n",
       "\n",
       "    .dataframe tbody tr th {\n",
       "        vertical-align: top;\n",
       "    }\n",
       "</style>\n",
       "<table border=\"1\" class=\"dataframe\">\n",
       "  <thead>\n",
       "    <tr style=\"text-align: right;\">\n",
       "      <th></th>\n",
       "      <th>Row ID</th>\n",
       "      <th>#country_name</th>\n",
       "      <th>#water_source</th>\n",
       "      <th>#water_tech</th>\n",
       "      <th>#status_id</th>\n",
       "      <th>#management</th>\n",
       "      <th>#pay</th>\n",
       "      <th>#installer</th>\n",
       "      <th>#install_year</th>\n",
       "      <th>#status</th>\n",
       "      <th>#source</th>\n",
       "      <th>#adm1</th>\n",
       "      <th>#adm2</th>\n",
       "      <th>#wpdx_id</th>\n",
       "      <th>#report_date</th>\n",
       "      <th>#country_id</th>\n",
       "      <th>#activity_id</th>\n",
       "      <th>#data_lnk</th>\n",
       "      <th>#orig_lnk</th>\n",
       "      <th>photo_lnk</th>\n",
       "      <th>#converted</th>\n",
       "      <th>#created</th>\n",
       "      <th>#updated</th>\n",
       "      <th>#lat_deg</th>\n",
       "      <th>#lon_deg</th>\n",
       "      <th>Location</th>\n",
       "      <th>Count</th>\n",
       "      <th>#fecal_coliform_presence</th>\n",
       "      <th>#fecal_coliform_value</th>\n",
       "      <th>#subjective_quality</th>\n",
       "    </tr>\n",
       "  </thead>\n",
       "  <tbody>\n",
       "    <tr>\n",
       "      <th>0</th>\n",
       "      <td>1</td>\n",
       "      <td>Tanzania, United Republic of</td>\n",
       "      <td>Spring</td>\n",
       "      <td>Gravity Communal standpipe</td>\n",
       "      <td>no</td>\n",
       "      <td>NaN</td>\n",
       "      <td>Never pay</td>\n",
       "      <td>RWE</td>\n",
       "      <td>1972.0</td>\n",
       "      <td>Status:Not functional|Quantity:Dry|Quality:Soft</td>\n",
       "      <td>SNV</td>\n",
       "      <td>Arusha</td>\n",
       "      <td>Longido</td>\n",
       "      <td>wpdx-00000001</td>\n",
       "      <td>01/05/2008 12:00:00 AM +0000</td>\n",
       "      <td>TZ</td>\n",
       "      <td>NaN</td>\n",
       "      <td>http://www.dropbox.com/s/50779gal9v4z4y6/TZ%20...</td>\n",
       "      <td>NaN</td>\n",
       "      <td>NaN</td>\n",
       "      <td>\"#water_tech, #country_id, #data_lnk\"</td>\n",
       "      <td>10/23/2015 01:03:07 AM +0000</td>\n",
       "      <td>10/23/2015 01:03:07 AM +0000</td>\n",
       "      <td>-2.83257</td>\n",
       "      <td>36.3090</td>\n",
       "      <td>(-2.83257, 36.309)</td>\n",
       "      <td>1</td>\n",
       "      <td>NaN</td>\n",
       "      <td>NaN</td>\n",
       "      <td>NaN</td>\n",
       "    </tr>\n",
       "    <tr>\n",
       "      <th>1</th>\n",
       "      <td>2</td>\n",
       "      <td>Tanzania, United Republic of</td>\n",
       "      <td>Rainwater harvesting</td>\n",
       "      <td>Gravity Communal standpipe</td>\n",
       "      <td>yes</td>\n",
       "      <td>NaN</td>\n",
       "      <td>Never pay</td>\n",
       "      <td>World Vision</td>\n",
       "      <td>2005.0</td>\n",
       "      <td>Status:Functional|Breakdown Year:2007|Reason N...</td>\n",
       "      <td>SNV</td>\n",
       "      <td>Arusha</td>\n",
       "      <td>Longido</td>\n",
       "      <td>wpdx-00000002</td>\n",
       "      <td>01/01/2008 12:00:00 AM +0000</td>\n",
       "      <td>TZ</td>\n",
       "      <td>NaN</td>\n",
       "      <td>http://www.dropbox.com/s/50779gal9v4z4y6/TZ%20...</td>\n",
       "      <td>NaN</td>\n",
       "      <td>NaN</td>\n",
       "      <td>\"#water_tech, #country_id, #data_lnk\"</td>\n",
       "      <td>10/23/2015 01:03:07 AM +0000</td>\n",
       "      <td>10/23/2015 01:03:07 AM +0000</td>\n",
       "      <td>-2.84781</td>\n",
       "      <td>36.5284</td>\n",
       "      <td>(-2.84781, 36.5284)</td>\n",
       "      <td>1</td>\n",
       "      <td>NaN</td>\n",
       "      <td>NaN</td>\n",
       "      <td>NaN</td>\n",
       "    </tr>\n",
       "    <tr>\n",
       "      <th>2</th>\n",
       "      <td>3</td>\n",
       "      <td>Tanzania, United Republic of</td>\n",
       "      <td>Rainwater harvesting</td>\n",
       "      <td>Gravity Communal standpipe</td>\n",
       "      <td>yes</td>\n",
       "      <td>NaN</td>\n",
       "      <td>Never pay</td>\n",
       "      <td>World Vision</td>\n",
       "      <td>2005.0</td>\n",
       "      <td>Status:Functional|Quantity:Seasonal|Quality:Soft</td>\n",
       "      <td>SNV</td>\n",
       "      <td>Arusha</td>\n",
       "      <td>Longido</td>\n",
       "      <td>wpdx-00000003</td>\n",
       "      <td>01/01/2008 12:00:00 AM +0000</td>\n",
       "      <td>TZ</td>\n",
       "      <td>NaN</td>\n",
       "      <td>http://www.dropbox.com/s/50779gal9v4z4y6/TZ%20...</td>\n",
       "      <td>NaN</td>\n",
       "      <td>NaN</td>\n",
       "      <td>\"#water_tech, #country_id, #data_lnk\"</td>\n",
       "      <td>10/23/2015 01:03:07 AM +0000</td>\n",
       "      <td>10/23/2015 01:03:07 AM +0000</td>\n",
       "      <td>-2.84796</td>\n",
       "      <td>36.5288</td>\n",
       "      <td>(-2.84796, 36.5288)</td>\n",
       "      <td>1</td>\n",
       "      <td>NaN</td>\n",
       "      <td>NaN</td>\n",
       "      <td>NaN</td>\n",
       "    </tr>\n",
       "    <tr>\n",
       "      <th>3</th>\n",
       "      <td>4</td>\n",
       "      <td>Tanzania, United Republic of</td>\n",
       "      <td>Rainwater harvesting</td>\n",
       "      <td>Gravity Communal standpipe</td>\n",
       "      <td>yes</td>\n",
       "      <td>NaN</td>\n",
       "      <td>Never pay</td>\n",
       "      <td>World Vision</td>\n",
       "      <td>2005.0</td>\n",
       "      <td>Status:Functional|Quantity:Seasonal|Quality:Soft</td>\n",
       "      <td>SNV</td>\n",
       "      <td>Arusha</td>\n",
       "      <td>Longido</td>\n",
       "      <td>wpdx-00000004</td>\n",
       "      <td>01/01/2008 12:00:00 AM +0000</td>\n",
       "      <td>TZ</td>\n",
       "      <td>NaN</td>\n",
       "      <td>http://www.dropbox.com/s/50779gal9v4z4y6/TZ%20...</td>\n",
       "      <td>NaN</td>\n",
       "      <td>NaN</td>\n",
       "      <td>\"#water_tech, #country_id, #data_lnk\"</td>\n",
       "      <td>10/23/2015 01:03:07 AM +0000</td>\n",
       "      <td>10/23/2015 01:03:07 AM +0000</td>\n",
       "      <td>-2.85318</td>\n",
       "      <td>36.5276</td>\n",
       "      <td>(-2.85318, 36.5276)</td>\n",
       "      <td>1</td>\n",
       "      <td>NaN</td>\n",
       "      <td>NaN</td>\n",
       "      <td>NaN</td>\n",
       "    </tr>\n",
       "    <tr>\n",
       "      <th>4</th>\n",
       "      <td>5</td>\n",
       "      <td>Nicaragua</td>\n",
       "      <td>NaN</td>\n",
       "      <td>NaN</td>\n",
       "      <td>yes</td>\n",
       "      <td>NaN</td>\n",
       "      <td>NaN</td>\n",
       "      <td>NaN</td>\n",
       "      <td>2011.0</td>\n",
       "      <td>NaN</td>\n",
       "      <td>El Porvenier</td>\n",
       "      <td>Matagalpa</td>\n",
       "      <td>Terrabona</td>\n",
       "      <td>wpdx-00000005</td>\n",
       "      <td>01/01/2011 12:00:00 AM +0000</td>\n",
       "      <td>NI</td>\n",
       "      <td>NaN</td>\n",
       "      <td>http://www.dropbox.com/s/0f70mln5roxhy29/ProjT...</td>\n",
       "      <td>https://www.waterpointdata.org/dataset/resourc...</td>\n",
       "      <td>NaN</td>\n",
       "      <td>#data_lnk, #lon_deg, #lat_deg, #country_id</td>\n",
       "      <td>04/08/2016 08:35:49 AM +0000</td>\n",
       "      <td>04/08/2016 08:35:49 AM +0000</td>\n",
       "      <td>12.74070</td>\n",
       "      <td>-86.0121</td>\n",
       "      <td>(12.7407, -86.0121)</td>\n",
       "      <td>1</td>\n",
       "      <td>NaN</td>\n",
       "      <td>NaN</td>\n",
       "      <td>NaN</td>\n",
       "    </tr>\n",
       "  </tbody>\n",
       "</table>\n",
       "</div>"
      ],
      "text/plain": [
       "   Row ID                 #country_name         #water_source  \\\n",
       "0       1  Tanzania, United Republic of                Spring   \n",
       "1       2  Tanzania, United Republic of  Rainwater harvesting   \n",
       "2       3  Tanzania, United Republic of  Rainwater harvesting   \n",
       "3       4  Tanzania, United Republic of  Rainwater harvesting   \n",
       "4       5                     Nicaragua                   NaN   \n",
       "\n",
       "                  #water_tech #status_id #management       #pay    #installer  \\\n",
       "0  Gravity Communal standpipe         no         NaN  Never pay           RWE   \n",
       "1  Gravity Communal standpipe        yes         NaN  Never pay  World Vision   \n",
       "2  Gravity Communal standpipe        yes         NaN  Never pay  World Vision   \n",
       "3  Gravity Communal standpipe        yes         NaN  Never pay  World Vision   \n",
       "4                         NaN        yes         NaN        NaN           NaN   \n",
       "\n",
       "   #install_year                                            #status  \\\n",
       "0         1972.0    Status:Not functional|Quantity:Dry|Quality:Soft   \n",
       "1         2005.0  Status:Functional|Breakdown Year:2007|Reason N...   \n",
       "2         2005.0   Status:Functional|Quantity:Seasonal|Quality:Soft   \n",
       "3         2005.0   Status:Functional|Quantity:Seasonal|Quality:Soft   \n",
       "4         2011.0                                                NaN   \n",
       "\n",
       "        #source      #adm1      #adm2       #wpdx_id  \\\n",
       "0           SNV     Arusha    Longido  wpdx-00000001   \n",
       "1           SNV     Arusha    Longido  wpdx-00000002   \n",
       "2           SNV     Arusha    Longido  wpdx-00000003   \n",
       "3           SNV     Arusha    Longido  wpdx-00000004   \n",
       "4  El Porvenier  Matagalpa  Terrabona  wpdx-00000005   \n",
       "\n",
       "                   #report_date #country_id #activity_id  \\\n",
       "0  01/05/2008 12:00:00 AM +0000          TZ          NaN   \n",
       "1  01/01/2008 12:00:00 AM +0000          TZ          NaN   \n",
       "2  01/01/2008 12:00:00 AM +0000          TZ          NaN   \n",
       "3  01/01/2008 12:00:00 AM +0000          TZ          NaN   \n",
       "4  01/01/2011 12:00:00 AM +0000          NI          NaN   \n",
       "\n",
       "                                           #data_lnk  \\\n",
       "0  http://www.dropbox.com/s/50779gal9v4z4y6/TZ%20...   \n",
       "1  http://www.dropbox.com/s/50779gal9v4z4y6/TZ%20...   \n",
       "2  http://www.dropbox.com/s/50779gal9v4z4y6/TZ%20...   \n",
       "3  http://www.dropbox.com/s/50779gal9v4z4y6/TZ%20...   \n",
       "4  http://www.dropbox.com/s/0f70mln5roxhy29/ProjT...   \n",
       "\n",
       "                                           #orig_lnk photo_lnk  \\\n",
       "0                                                NaN       NaN   \n",
       "1                                                NaN       NaN   \n",
       "2                                                NaN       NaN   \n",
       "3                                                NaN       NaN   \n",
       "4  https://www.waterpointdata.org/dataset/resourc...       NaN   \n",
       "\n",
       "                                   #converted                      #created  \\\n",
       "0       \"#water_tech, #country_id, #data_lnk\"  10/23/2015 01:03:07 AM +0000   \n",
       "1       \"#water_tech, #country_id, #data_lnk\"  10/23/2015 01:03:07 AM +0000   \n",
       "2       \"#water_tech, #country_id, #data_lnk\"  10/23/2015 01:03:07 AM +0000   \n",
       "3       \"#water_tech, #country_id, #data_lnk\"  10/23/2015 01:03:07 AM +0000   \n",
       "4  #data_lnk, #lon_deg, #lat_deg, #country_id  04/08/2016 08:35:49 AM +0000   \n",
       "\n",
       "                       #updated  #lat_deg  #lon_deg             Location  \\\n",
       "0  10/23/2015 01:03:07 AM +0000  -2.83257   36.3090   (-2.83257, 36.309)   \n",
       "1  10/23/2015 01:03:07 AM +0000  -2.84781   36.5284  (-2.84781, 36.5284)   \n",
       "2  10/23/2015 01:03:07 AM +0000  -2.84796   36.5288  (-2.84796, 36.5288)   \n",
       "3  10/23/2015 01:03:07 AM +0000  -2.85318   36.5276  (-2.85318, 36.5276)   \n",
       "4  04/08/2016 08:35:49 AM +0000  12.74070  -86.0121  (12.7407, -86.0121)   \n",
       "\n",
       "   Count  #fecal_coliform_presence  #fecal_coliform_value  #subjective_quality  \n",
       "0      1                       NaN                    NaN                  NaN  \n",
       "1      1                       NaN                    NaN                  NaN  \n",
       "2      1                       NaN                    NaN                  NaN  \n",
       "3      1                       NaN                    NaN                  NaN  \n",
       "4      1                       NaN                    NaN                  NaN  "
      ]
     },
     "execution_count": 6,
     "metadata": {},
     "output_type": "execute_result"
    }
   ],
   "source": [
    "water_data.head()"
   ]
  },
  {
   "cell_type": "code",
   "execution_count": 7,
   "metadata": {
    "collapsed": true
   },
   "outputs": [],
   "source": [
    "#Create df with only Swaziland water\n",
    "sl_water = water_data[water_data['#country_name'] == 'Sierra Leone']"
   ]
  },
  {
   "cell_type": "code",
   "execution_count": 8,
   "metadata": {},
   "outputs": [
    {
     "data": {
      "text/html": [
       "<div>\n",
       "<style>\n",
       "    .dataframe thead tr:only-child th {\n",
       "        text-align: right;\n",
       "    }\n",
       "\n",
       "    .dataframe thead th {\n",
       "        text-align: left;\n",
       "    }\n",
       "\n",
       "    .dataframe tbody tr th {\n",
       "        vertical-align: top;\n",
       "    }\n",
       "</style>\n",
       "<table border=\"1\" class=\"dataframe\">\n",
       "  <thead>\n",
       "    <tr style=\"text-align: right;\">\n",
       "      <th></th>\n",
       "      <th>Row ID</th>\n",
       "      <th>#country_name</th>\n",
       "      <th>#water_source</th>\n",
       "      <th>#water_tech</th>\n",
       "      <th>#status_id</th>\n",
       "      <th>#management</th>\n",
       "      <th>#pay</th>\n",
       "      <th>#installer</th>\n",
       "      <th>#install_year</th>\n",
       "      <th>#status</th>\n",
       "      <th>#source</th>\n",
       "      <th>#adm1</th>\n",
       "      <th>#adm2</th>\n",
       "      <th>#wpdx_id</th>\n",
       "      <th>#report_date</th>\n",
       "      <th>#country_id</th>\n",
       "      <th>#activity_id</th>\n",
       "      <th>#data_lnk</th>\n",
       "      <th>#orig_lnk</th>\n",
       "      <th>photo_lnk</th>\n",
       "      <th>#converted</th>\n",
       "      <th>#created</th>\n",
       "      <th>#updated</th>\n",
       "      <th>#lat_deg</th>\n",
       "      <th>#lon_deg</th>\n",
       "      <th>Location</th>\n",
       "      <th>Count</th>\n",
       "      <th>#fecal_coliform_presence</th>\n",
       "      <th>#fecal_coliform_value</th>\n",
       "      <th>#subjective_quality</th>\n",
       "    </tr>\n",
       "  </thead>\n",
       "  <tbody>\n",
       "    <tr>\n",
       "      <th>42474</th>\n",
       "      <td>63115</td>\n",
       "      <td>Sierra Leone</td>\n",
       "      <td>Pump on hand-dug well</td>\n",
       "      <td>India Mark</td>\n",
       "      <td>yes</td>\n",
       "      <td>Community Management</td>\n",
       "      <td>Only if there is a breakdown</td>\n",
       "      <td>OXFAM</td>\n",
       "      <td>2011.0</td>\n",
       "      <td>Yes- functional.</td>\n",
       "      <td>Sierra Leone STATWASH portal</td>\n",
       "      <td>Eastern</td>\n",
       "      <td>Kailahun</td>\n",
       "      <td>wpdx-00063115</td>\n",
       "      <td>03/15/2012 12:00:00 AM +0000</td>\n",
       "      <td>SL</td>\n",
       "      <td>ae734jla</td>\n",
       "      <td>http://www.dropbox.com/s/8sgpa099ebtbg2w/All_W...</td>\n",
       "      <td>NaN</td>\n",
       "      <td>NaN</td>\n",
       "      <td>#country_id, #status_id, #status, #management,...</td>\n",
       "      <td>10/26/2015 09:24:51 PM +0000</td>\n",
       "      <td>10/26/2015 09:24:51 PM +0000</td>\n",
       "      <td>8.14546</td>\n",
       "      <td>-10.7758</td>\n",
       "      <td>(8.14546, -10.7758)</td>\n",
       "      <td>1</td>\n",
       "      <td>NaN</td>\n",
       "      <td>NaN</td>\n",
       "      <td>NaN</td>\n",
       "    </tr>\n",
       "    <tr>\n",
       "      <th>42475</th>\n",
       "      <td>63146</td>\n",
       "      <td>Sierra Leone</td>\n",
       "      <td>Pump on hand-dug well</td>\n",
       "      <td>Inkar</td>\n",
       "      <td>yes</td>\n",
       "      <td>Community Management</td>\n",
       "      <td>Yes- regularly</td>\n",
       "      <td>OXFAM</td>\n",
       "      <td>2010.0</td>\n",
       "      <td>Yes- functional.</td>\n",
       "      <td>Sierra Leone STATWASH portal</td>\n",
       "      <td>Eastern</td>\n",
       "      <td>Kailahun</td>\n",
       "      <td>wpdx-00063146</td>\n",
       "      <td>03/14/2012 12:00:00 AM +0000</td>\n",
       "      <td>SL</td>\n",
       "      <td>ahmcg6kg</td>\n",
       "      <td>http://www.dropbox.com/s/8sgpa099ebtbg2w/All_W...</td>\n",
       "      <td>NaN</td>\n",
       "      <td>NaN</td>\n",
       "      <td>#country_id, #status_id, #status, #management,...</td>\n",
       "      <td>10/26/2015 09:24:51 PM +0000</td>\n",
       "      <td>10/26/2015 09:24:51 PM +0000</td>\n",
       "      <td>8.21998</td>\n",
       "      <td>-10.6945</td>\n",
       "      <td>(8.21998, -10.6945)</td>\n",
       "      <td>1</td>\n",
       "      <td>NaN</td>\n",
       "      <td>NaN</td>\n",
       "      <td>NaN</td>\n",
       "    </tr>\n",
       "    <tr>\n",
       "      <th>42476</th>\n",
       "      <td>63116</td>\n",
       "      <td>Sierra Leone</td>\n",
       "      <td>Pump on hand-dug well</td>\n",
       "      <td>India Mark</td>\n",
       "      <td>yes</td>\n",
       "      <td>Community Management</td>\n",
       "      <td>No- water is free</td>\n",
       "      <td>Unknown</td>\n",
       "      <td>2011.0</td>\n",
       "      <td>Yes- functional.</td>\n",
       "      <td>Sierra Leone STATWASH portal</td>\n",
       "      <td>Eastern</td>\n",
       "      <td>Kailahun</td>\n",
       "      <td>wpdx-00063116</td>\n",
       "      <td>03/14/2012 12:00:00 AM +0000</td>\n",
       "      <td>SL</td>\n",
       "      <td>alqbuvky</td>\n",
       "      <td>http://www.dropbox.com/s/8sgpa099ebtbg2w/All_W...</td>\n",
       "      <td>NaN</td>\n",
       "      <td>NaN</td>\n",
       "      <td>#country_id, #status_id, #status, #management,...</td>\n",
       "      <td>10/26/2015 09:24:51 PM +0000</td>\n",
       "      <td>10/26/2015 09:24:51 PM +0000</td>\n",
       "      <td>8.30947</td>\n",
       "      <td>-10.6979</td>\n",
       "      <td>(8.30947, -10.6979)</td>\n",
       "      <td>1</td>\n",
       "      <td>NaN</td>\n",
       "      <td>NaN</td>\n",
       "      <td>NaN</td>\n",
       "    </tr>\n",
       "    <tr>\n",
       "      <th>42477</th>\n",
       "      <td>63117</td>\n",
       "      <td>Sierra Leone</td>\n",
       "      <td>Pump on hand-dug well</td>\n",
       "      <td>India Mark</td>\n",
       "      <td>yes</td>\n",
       "      <td>Community Management</td>\n",
       "      <td>Yes- regularly</td>\n",
       "      <td>OXFAM</td>\n",
       "      <td>2011.0</td>\n",
       "      <td>Yes- functional.</td>\n",
       "      <td>Sierra Leone STATWASH portal</td>\n",
       "      <td>Eastern</td>\n",
       "      <td>Kailahun</td>\n",
       "      <td>wpdx-00063117</td>\n",
       "      <td>03/08/2012 12:00:00 AM +0000</td>\n",
       "      <td>SL</td>\n",
       "      <td>aln4y85f</td>\n",
       "      <td>http://www.dropbox.com/s/8sgpa099ebtbg2w/All_W...</td>\n",
       "      <td>NaN</td>\n",
       "      <td>NaN</td>\n",
       "      <td>#country_id, #status_id, #status, #management,...</td>\n",
       "      <td>10/26/2015 09:24:51 PM +0000</td>\n",
       "      <td>10/26/2015 09:24:51 PM +0000</td>\n",
       "      <td>8.30754</td>\n",
       "      <td>-10.7395</td>\n",
       "      <td>(8.30754, -10.7395)</td>\n",
       "      <td>1</td>\n",
       "      <td>NaN</td>\n",
       "      <td>NaN</td>\n",
       "      <td>NaN</td>\n",
       "    </tr>\n",
       "    <tr>\n",
       "      <th>42478</th>\n",
       "      <td>63118</td>\n",
       "      <td>Sierra Leone</td>\n",
       "      <td>Pump on hand-dug well</td>\n",
       "      <td>India Mark</td>\n",
       "      <td>no</td>\n",
       "      <td>Community Management</td>\n",
       "      <td>No- water is free</td>\n",
       "      <td>cord sl</td>\n",
       "      <td>2011.0</td>\n",
       "      <td>No- broken down. Pump damaged</td>\n",
       "      <td>Sierra Leone STATWASH portal</td>\n",
       "      <td>Eastern</td>\n",
       "      <td>Kailahun</td>\n",
       "      <td>wpdx-00063118</td>\n",
       "      <td>03/09/2012 12:00:00 AM +0000</td>\n",
       "      <td>SL</td>\n",
       "      <td>alafpbam</td>\n",
       "      <td>http://www.dropbox.com/s/8sgpa099ebtbg2w/All_W...</td>\n",
       "      <td>NaN</td>\n",
       "      <td>NaN</td>\n",
       "      <td>#country_id, #status_id, #status, #management,...</td>\n",
       "      <td>10/26/2015 09:24:51 PM +0000</td>\n",
       "      <td>10/26/2015 09:24:51 PM +0000</td>\n",
       "      <td>8.29985</td>\n",
       "      <td>-10.7054</td>\n",
       "      <td>(8.29985, -10.7054)</td>\n",
       "      <td>1</td>\n",
       "      <td>NaN</td>\n",
       "      <td>NaN</td>\n",
       "      <td>NaN</td>\n",
       "    </tr>\n",
       "  </tbody>\n",
       "</table>\n",
       "</div>"
      ],
      "text/plain": [
       "       Row ID #country_name          #water_source #water_tech #status_id  \\\n",
       "42474   63115  Sierra Leone  Pump on hand-dug well  India Mark        yes   \n",
       "42475   63146  Sierra Leone  Pump on hand-dug well       Inkar        yes   \n",
       "42476   63116  Sierra Leone  Pump on hand-dug well  India Mark        yes   \n",
       "42477   63117  Sierra Leone  Pump on hand-dug well  India Mark        yes   \n",
       "42478   63118  Sierra Leone  Pump on hand-dug well  India Mark         no   \n",
       "\n",
       "                #management                          #pay #installer  \\\n",
       "42474  Community Management  Only if there is a breakdown      OXFAM   \n",
       "42475  Community Management                Yes- regularly      OXFAM   \n",
       "42476  Community Management             No- water is free    Unknown   \n",
       "42477  Community Management                Yes- regularly      OXFAM   \n",
       "42478  Community Management             No- water is free    cord sl   \n",
       "\n",
       "       #install_year                        #status  \\\n",
       "42474         2011.0               Yes- functional.   \n",
       "42475         2010.0               Yes- functional.   \n",
       "42476         2011.0               Yes- functional.   \n",
       "42477         2011.0               Yes- functional.   \n",
       "42478         2011.0  No- broken down. Pump damaged   \n",
       "\n",
       "                            #source    #adm1     #adm2       #wpdx_id  \\\n",
       "42474  Sierra Leone STATWASH portal  Eastern  Kailahun  wpdx-00063115   \n",
       "42475  Sierra Leone STATWASH portal  Eastern  Kailahun  wpdx-00063146   \n",
       "42476  Sierra Leone STATWASH portal  Eastern  Kailahun  wpdx-00063116   \n",
       "42477  Sierra Leone STATWASH portal  Eastern  Kailahun  wpdx-00063117   \n",
       "42478  Sierra Leone STATWASH portal  Eastern  Kailahun  wpdx-00063118   \n",
       "\n",
       "                       #report_date #country_id #activity_id  \\\n",
       "42474  03/15/2012 12:00:00 AM +0000          SL     ae734jla   \n",
       "42475  03/14/2012 12:00:00 AM +0000          SL     ahmcg6kg   \n",
       "42476  03/14/2012 12:00:00 AM +0000          SL     alqbuvky   \n",
       "42477  03/08/2012 12:00:00 AM +0000          SL     aln4y85f   \n",
       "42478  03/09/2012 12:00:00 AM +0000          SL     alafpbam   \n",
       "\n",
       "                                               #data_lnk #orig_lnk photo_lnk  \\\n",
       "42474  http://www.dropbox.com/s/8sgpa099ebtbg2w/All_W...       NaN       NaN   \n",
       "42475  http://www.dropbox.com/s/8sgpa099ebtbg2w/All_W...       NaN       NaN   \n",
       "42476  http://www.dropbox.com/s/8sgpa099ebtbg2w/All_W...       NaN       NaN   \n",
       "42477  http://www.dropbox.com/s/8sgpa099ebtbg2w/All_W...       NaN       NaN   \n",
       "42478  http://www.dropbox.com/s/8sgpa099ebtbg2w/All_W...       NaN       NaN   \n",
       "\n",
       "                                              #converted  \\\n",
       "42474  #country_id, #status_id, #status, #management,...   \n",
       "42475  #country_id, #status_id, #status, #management,...   \n",
       "42476  #country_id, #status_id, #status, #management,...   \n",
       "42477  #country_id, #status_id, #status, #management,...   \n",
       "42478  #country_id, #status_id, #status, #management,...   \n",
       "\n",
       "                           #created                      #updated  #lat_deg  \\\n",
       "42474  10/26/2015 09:24:51 PM +0000  10/26/2015 09:24:51 PM +0000   8.14546   \n",
       "42475  10/26/2015 09:24:51 PM +0000  10/26/2015 09:24:51 PM +0000   8.21998   \n",
       "42476  10/26/2015 09:24:51 PM +0000  10/26/2015 09:24:51 PM +0000   8.30947   \n",
       "42477  10/26/2015 09:24:51 PM +0000  10/26/2015 09:24:51 PM +0000   8.30754   \n",
       "42478  10/26/2015 09:24:51 PM +0000  10/26/2015 09:24:51 PM +0000   8.29985   \n",
       "\n",
       "       #lon_deg             Location  Count  #fecal_coliform_presence  \\\n",
       "42474  -10.7758  (8.14546, -10.7758)      1                       NaN   \n",
       "42475  -10.6945  (8.21998, -10.6945)      1                       NaN   \n",
       "42476  -10.6979  (8.30947, -10.6979)      1                       NaN   \n",
       "42477  -10.7395  (8.30754, -10.7395)      1                       NaN   \n",
       "42478  -10.7054  (8.29985, -10.7054)      1                       NaN   \n",
       "\n",
       "       #fecal_coliform_value  #subjective_quality  \n",
       "42474                    NaN                  NaN  \n",
       "42475                    NaN                  NaN  \n",
       "42476                    NaN                  NaN  \n",
       "42477                    NaN                  NaN  \n",
       "42478                    NaN                  NaN  "
      ]
     },
     "execution_count": 8,
     "metadata": {},
     "output_type": "execute_result"
    }
   ],
   "source": [
    "sl_water.head()"
   ]
  },
  {
   "cell_type": "markdown",
   "metadata": {},
   "source": [
    "## Radius-based Search"
   ]
  },
  {
   "cell_type": "code",
   "execution_count": 9,
   "metadata": {
    "collapsed": true
   },
   "outputs": [],
   "source": [
    "sl_pop = pd.read_csv(\"Sierra Leone_pop_data.csv\")"
   ]
  },
  {
   "cell_type": "code",
   "execution_count": 10,
   "metadata": {
    "collapsed": true
   },
   "outputs": [],
   "source": [
    "#Create Geo Index of Sierra Leone Population Data\n",
    "geo_index = GeoGridIndex()\n",
    "for index, row in sl_pop.iterrows():\n",
    "    geo_index.add_point(GeoPoint(row['y'], row['x'], ref=row['value']))"
   ]
  },
  {
   "cell_type": "code",
   "execution_count": 11,
   "metadata": {},
   "outputs": [
    {
     "name": "stdout",
     "output_type": "stream",
     "text": [
      "Row ID: 647413\n",
      "Lat: 823769.0\n",
      "Long: 135507.0\n",
      "Row ID: 649398\n",
      "Lat: 823867.0\n",
      "Long: 135297.0\n",
      "Row ID: 656955\n",
      "Lat: 821575.0\n",
      "Long: 134656.0\n",
      "Row ID: 656995\n",
      "Lat: 823136.0\n",
      "Long: 135764.0\n",
      "Row ID: 657051\n",
      "Lat: 823131.0\n",
      "Long: 135768.0\n",
      "Row ID: 657080\n",
      "Lat: 823713.0\n",
      "Long: 135508.0\n",
      "Row ID: 657160\n",
      "Lat: 822478.0\n",
      "Long: 136052.0\n",
      "Row ID: 657170\n",
      "Lat: 821535.0\n",
      "Long: 134667.0\n",
      "Row ID: 657173\n",
      "Lat: 82154.0\n",
      "Long: 134666.0\n",
      "Row ID: 657227\n",
      "Lat: 8242260.0\n",
      "Long: 136927.0\n",
      "Row ID: 663523\n",
      "Lat: 7052250.0\n",
      "Long: -12.5311\n",
      "Row ID: 664015\n",
      "Lat: 824276.0\n",
      "Long: 136898.0\n",
      "Row ID: 664021\n",
      "Lat: 82373.0\n",
      "Long: 135538.0\n",
      "Row ID: 664067\n",
      "Lat: 824304.0\n",
      "Long: 136912.0\n",
      "Row ID: 664182\n",
      "Lat: 823025.0\n",
      "Long: 13599.0\n",
      "Row ID: 664997\n",
      "Lat: 2227630000000000.0\n",
      "Long: -12.0837\n",
      "Row ID: 667317\n",
      "Lat: 823841.0\n",
      "Long: 135357.0\n",
      "Row ID: 671201\n",
      "Lat: 823696.0\n",
      "Long: 135651.0\n"
     ]
    }
   ],
   "source": [
    "#Create Geo Index of Sierra Leone Water Point Data\n",
    "geo_index_water = GeoGridIndex()\n",
    "for index, row in sl_water.iterrows():\n",
    "    try:\n",
    "        geo_index_water.add_point(GeoPoint(row['#lat_deg'], row['#lon_deg'], ref=row['#status_id']))\n",
    "    except:\n",
    "        print(\"Row ID:\", row['Row ID'])\n",
    "        print(\"Lat:\", row['#lat_deg'])\n",
    "        print(\"Long:\", row['#lon_deg'])"
   ]
  },
  {
   "cell_type": "code",
   "execution_count": 12,
   "metadata": {
    "collapsed": true
   },
   "outputs": [],
   "source": [
    "#Calculate population within x distance of water point\n",
    "def calculate_population_within_x_km(row, index, km):\n",
    "    center_point = GeoPoint(row['#lat_deg'], row['#lon_deg'])\n",
    "    total_population = 0\n",
    "    try:\n",
    "        for point,distance in index.get_nearest_points(center_point, km, 'km'):\n",
    "            total_population += point.ref\n",
    "    except:\n",
    "        print(\"Invalid data - Record skipped\")\n",
    "    #print(\"Total population within\", km, \"kilometers:\", int(total_population))\n",
    "    return total_population"
   ]
  },
  {
   "cell_type": "code",
   "execution_count": 13,
   "metadata": {
    "collapsed": true
   },
   "outputs": [],
   "source": [
    "#Calculate # of water points within x distance of water point\n",
    "def calculate_water_points_within_x_km(row, index, km):\n",
    "    center_point = GeoPoint(row['#lat_deg'], row['#lon_deg'])\n",
    "    total_water_points = 0\n",
    "    total_functioning_water_points = 0\n",
    "    try:\n",
    "        for point,distance in index.get_nearest_points(center_point, km, 'km'):\n",
    "            total_water_points += 1\n",
    "            if point.ref == 'yes':\n",
    "                total_functioning_water_points += 1\n",
    "    except:\n",
    "        print(\"Invalid data - Record skipped\")\n",
    "        \n",
    "    #Adjust for self\n",
    "    total_water_points -= 1\n",
    "    if row['#status_id'] == 'yes':\n",
    "        total_functioning_water_points -= 1\n",
    "    return (total_water_points, total_functioning_water_points)"
   ]
  },
  {
   "cell_type": "code",
   "execution_count": 14,
   "metadata": {},
   "outputs": [
    {
     "name": "stderr",
     "output_type": "stream",
     "text": [
      " 55%|█████▍    | 29968/54864 [38:50:00<15:08:56,  2.19s/it]     "
     ]
    },
    {
     "name": "stdout",
     "output_type": "stream",
     "text": [
      "Invalid data - Record skipped\n"
     ]
    },
    {
     "name": "stderr",
     "output_type": "stream",
     "text": [
      " 58%|█████▊    | 31959/54864 [40:58:21<12:12:42,  1.92s/it] "
     ]
    },
    {
     "name": "stdout",
     "output_type": "stream",
     "text": [
      "Invalid data - Record skipped\n"
     ]
    },
    {
     "name": "stderr",
     "output_type": "stream",
     "text": [
      " 72%|███████▏  | 39510/54864 [51:23:40<9:06:00,  2.13s/it]    "
     ]
    },
    {
     "name": "stdout",
     "output_type": "stream",
     "text": [
      "Invalid data - Record skipped\n"
     ]
    },
    {
     "name": "stderr",
     "output_type": "stream",
     "text": [
      " 72%|███████▏  | 39550/54864 [51:25:00<8:37:23,  2.03s/it] "
     ]
    },
    {
     "name": "stdout",
     "output_type": "stream",
     "text": [
      "Invalid data - Record skipped\n"
     ]
    },
    {
     "name": "stderr",
     "output_type": "stream",
     "text": [
      " 72%|███████▏  | 39606/54864 [51:26:57<9:09:04,  2.16s/it] "
     ]
    },
    {
     "name": "stdout",
     "output_type": "stream",
     "text": [
      "Invalid data - Record skipped\n"
     ]
    },
    {
     "name": "stderr",
     "output_type": "stream",
     "text": [
      " 72%|███████▏  | 39635/54864 [51:27:58<9:35:07,  2.27s/it] "
     ]
    },
    {
     "name": "stdout",
     "output_type": "stream",
     "text": [
      "Invalid data - Record skipped\n"
     ]
    },
    {
     "name": "stderr",
     "output_type": "stream",
     "text": [
      " 72%|███████▏  | 39715/54864 [51:30:47<9:38:52,  2.29s/it] "
     ]
    },
    {
     "name": "stdout",
     "output_type": "stream",
     "text": [
      "Invalid data - Record skipped\n"
     ]
    },
    {
     "name": "stderr",
     "output_type": "stream",
     "text": [
      " 72%|███████▏  | 39725/54864 [51:31:05<8:24:17,  2.00s/it]"
     ]
    },
    {
     "name": "stdout",
     "output_type": "stream",
     "text": [
      "Invalid data - Record skipped\n"
     ]
    },
    {
     "name": "stderr",
     "output_type": "stream",
     "text": [
      " 72%|███████▏  | 39728/54864 [51:31:09<7:49:24,  1.86s/it]"
     ]
    },
    {
     "name": "stdout",
     "output_type": "stream",
     "text": [
      "Invalid data - Record skipped\n"
     ]
    },
    {
     "name": "stderr",
     "output_type": "stream",
     "text": [
      " 73%|███████▎  | 39782/54864 [51:32:57<9:11:07,  2.19s/it]"
     ]
    },
    {
     "name": "stdout",
     "output_type": "stream",
     "text": [
      "Invalid data - Record skipped\n"
     ]
    },
    {
     "name": "stderr",
     "output_type": "stream",
     "text": [
      " 84%|████████▍ | 46074/54864 [59:59:56<9:09:32,  3.75s/it]     "
     ]
    },
    {
     "name": "stdout",
     "output_type": "stream",
     "text": [
      "Invalid data - Record skipped\n"
     ]
    },
    {
     "name": "stderr",
     "output_type": "stream",
     "text": [
      " 85%|████████▍ | 46565/54864 [60:32:22<5:18:00,  2.30s/it] "
     ]
    },
    {
     "name": "stdout",
     "output_type": "stream",
     "text": [
      "Invalid data - Record skipped\n"
     ]
    },
    {
     "name": "stderr",
     "output_type": "stream",
     "text": [
      " 85%|████████▍ | 46571/54864 [60:32:33<4:50:44,  2.10s/it]"
     ]
    },
    {
     "name": "stdout",
     "output_type": "stream",
     "text": [
      "Invalid data - Record skipped\n"
     ]
    },
    {
     "name": "stderr",
     "output_type": "stream",
     "text": [
      " 85%|████████▍ | 46617/54864 [60:34:08<4:50:38,  2.11s/it]"
     ]
    },
    {
     "name": "stdout",
     "output_type": "stream",
     "text": [
      "Invalid data - Record skipped\n"
     ]
    },
    {
     "name": "stderr",
     "output_type": "stream",
     "text": [
      " 85%|████████▌ | 46732/54864 [60:38:20<4:50:20,  2.14s/it]"
     ]
    },
    {
     "name": "stdout",
     "output_type": "stream",
     "text": [
      "Invalid data - Record skipped\n"
     ]
    },
    {
     "name": "stderr",
     "output_type": "stream",
     "text": [
      " 87%|████████▋ | 47547/54864 [61:19:04<8:59:50,  4.43s/it]  "
     ]
    },
    {
     "name": "stdout",
     "output_type": "stream",
     "text": [
      "Invalid data - Record skipped\n"
     ]
    },
    {
     "name": "stderr",
     "output_type": "stream",
     "text": [
      " 91%|█████████ | 49868/54864 [64:04:15<3:20:42,  2.41s/it]  "
     ]
    },
    {
     "name": "stdout",
     "output_type": "stream",
     "text": [
      "Invalid data - Record skipped\n"
     ]
    },
    {
     "name": "stderr",
     "output_type": "stream",
     "text": [
      " 98%|█████████▊| 53748/54864 [68:49:15<38:45,  2.08s/it]     "
     ]
    },
    {
     "name": "stdout",
     "output_type": "stream",
     "text": [
      "Invalid data - Record skipped\n"
     ]
    },
    {
     "name": "stderr",
     "output_type": "stream",
     "text": [
      "100%|██████████| 54864/54864 [72:23:35<00:00,  4.75s/it]      \n",
      "/Users/alexjamar/anaconda/lib/python3.5/site-packages/ipykernel_launcher.py:4: SettingWithCopyWarning: \n",
      "A value is trying to be set on a copy of a slice from a DataFrame.\n",
      "Try using .loc[row_indexer,col_indexer] = value instead\n",
      "\n",
      "See the caveats in the documentation: http://pandas.pydata.org/pandas-docs/stable/indexing.html#indexing-view-versus-copy\n",
      "  after removing the cwd from sys.path.\n"
     ]
    }
   ],
   "source": [
    "#Add 1 km radius population data to each well\n",
    "tqdm.pandas()\n",
    "sl_water['1 km population'] = sl_water.progress_apply(lambda row: calculate_population_within_x_km(row, geo_index, 1),\n",
    "                                                  axis = 1)"
   ]
  },
  {
   "cell_type": "code",
   "execution_count": 15,
   "metadata": {},
   "outputs": [
    {
     "name": "stderr",
     "output_type": "stream",
     "text": [
      " 55%|█████▍    | 29972/54864 [19:27<20:43, 20.02it/s]  "
     ]
    },
    {
     "name": "stdout",
     "output_type": "stream",
     "text": [
      "Invalid data - Record skipped\n"
     ]
    },
    {
     "name": "stderr",
     "output_type": "stream",
     "text": [
      " 58%|█████▊    | 31962/54864 [20:43<17:58, 21.24it/s]"
     ]
    },
    {
     "name": "stdout",
     "output_type": "stream",
     "text": [
      "Invalid data - Record skipped\n"
     ]
    },
    {
     "name": "stderr",
     "output_type": "stream",
     "text": [
      " 72%|███████▏  | 39512/54864 [25:24<12:59, 19.69it/s]"
     ]
    },
    {
     "name": "stdout",
     "output_type": "stream",
     "text": [
      "Invalid data - Record skipped\n"
     ]
    },
    {
     "name": "stderr",
     "output_type": "stream",
     "text": [
      " 72%|███████▏  | 39554/54864 [25:26<12:07, 21.05it/s]"
     ]
    },
    {
     "name": "stdout",
     "output_type": "stream",
     "text": [
      "Invalid data - Record skipped\n"
     ]
    },
    {
     "name": "stderr",
     "output_type": "stream",
     "text": [
      " 72%|███████▏  | 39611/54864 [25:29<12:43, 19.97it/s]"
     ]
    },
    {
     "name": "stdout",
     "output_type": "stream",
     "text": [
      "Invalid data - Record skipped\n"
     ]
    },
    {
     "name": "stderr",
     "output_type": "stream",
     "text": [
      " 72%|███████▏  | 39637/54864 [25:31<12:50, 19.76it/s]"
     ]
    },
    {
     "name": "stdout",
     "output_type": "stream",
     "text": [
      "Invalid data - Record skipped\n"
     ]
    },
    {
     "name": "stderr",
     "output_type": "stream",
     "text": [
      " 72%|███████▏  | 39718/54864 [25:35<12:03, 20.95it/s]"
     ]
    },
    {
     "name": "stdout",
     "output_type": "stream",
     "text": [
      "Invalid data - Record skipped\n"
     ]
    },
    {
     "name": "stderr",
     "output_type": "stream",
     "text": [
      " 72%|███████▏  | 39730/54864 [25:35<10:57, 23.03it/s]"
     ]
    },
    {
     "name": "stdout",
     "output_type": "stream",
     "text": [
      "Invalid data - Record skipped\n",
      "Invalid data - Record skipped\n"
     ]
    },
    {
     "name": "stderr",
     "output_type": "stream",
     "text": [
      " 73%|███████▎  | 39785/54864 [25:38<11:59, 20.95it/s]"
     ]
    },
    {
     "name": "stdout",
     "output_type": "stream",
     "text": [
      "Invalid data - Record skipped\n"
     ]
    },
    {
     "name": "stderr",
     "output_type": "stream",
     "text": [
      " 84%|████████▍ | 46077/54864 [1:58:44<05:25, 27.03it/s]      "
     ]
    },
    {
     "name": "stdout",
     "output_type": "stream",
     "text": [
      "Invalid data - Record skipped\n"
     ]
    },
    {
     "name": "stderr",
     "output_type": "stream",
     "text": [
      " 85%|████████▍ | 46568/54864 [1:59:03<07:02, 19.64it/s]"
     ]
    },
    {
     "name": "stdout",
     "output_type": "stream",
     "text": [
      "Invalid data - Record skipped\n"
     ]
    },
    {
     "name": "stderr",
     "output_type": "stream",
     "text": [
      " 85%|████████▍ | 46574/54864 [1:59:03<06:41, 20.65it/s]"
     ]
    },
    {
     "name": "stdout",
     "output_type": "stream",
     "text": [
      "Invalid data - Record skipped\n"
     ]
    },
    {
     "name": "stderr",
     "output_type": "stream",
     "text": [
      " 85%|████████▍ | 46619/54864 [1:59:06<06:28, 21.23it/s]"
     ]
    },
    {
     "name": "stdout",
     "output_type": "stream",
     "text": [
      "Invalid data - Record skipped\n"
     ]
    },
    {
     "name": "stderr",
     "output_type": "stream",
     "text": [
      " 85%|████████▌ | 46737/54864 [1:59:12<06:57, 19.45it/s]"
     ]
    },
    {
     "name": "stdout",
     "output_type": "stream",
     "text": [
      "Invalid data - Record skipped\n"
     ]
    },
    {
     "name": "stderr",
     "output_type": "stream",
     "text": [
      " 87%|████████▋ | 47552/54864 [1:59:56<03:30, 34.66it/s]"
     ]
    },
    {
     "name": "stdout",
     "output_type": "stream",
     "text": [
      "Invalid data - Record skipped\n"
     ]
    },
    {
     "name": "stderr",
     "output_type": "stream",
     "text": [
      " 91%|█████████ | 49872/54864 [2:01:21<03:06, 26.76it/s]"
     ]
    },
    {
     "name": "stdout",
     "output_type": "stream",
     "text": [
      "Invalid data - Record skipped\n"
     ]
    },
    {
     "name": "stderr",
     "output_type": "stream",
     "text": [
      " 98%|█████████▊| 53751/54864 [2:03:50<00:49, 22.65it/s]"
     ]
    },
    {
     "name": "stdout",
     "output_type": "stream",
     "text": [
      "Invalid data - Record skipped\n"
     ]
    },
    {
     "name": "stderr",
     "output_type": "stream",
     "text": [
      "100%|██████████| 54864/54864 [2:04:43<00:00,  7.33it/s]\n",
      "/Users/alexjamar/anaconda/lib/python3.5/site-packages/ipykernel_launcher.py:4: SettingWithCopyWarning: \n",
      "A value is trying to be set on a copy of a slice from a DataFrame.\n",
      "Try using .loc[row_indexer,col_indexer] = value instead\n",
      "\n",
      "See the caveats in the documentation: http://pandas.pydata.org/pandas-docs/stable/indexing.html#indexing-view-versus-copy\n",
      "  after removing the cwd from sys.path.\n"
     ]
    }
   ],
   "source": [
    "#Add 1 km radius water point data to each water point\n",
    "tqdm.pandas()\n",
    "sl_water['1 km water points (total, functioning)'] = sl_water.progress_apply(lambda row: calculate_water_points_within_x_km(row, geo_index_water, 1),\n",
    "                                                  axis = 1)"
   ]
  },
  {
   "cell_type": "code",
   "execution_count": 29,
   "metadata": {},
   "outputs": [
    {
     "data": {
      "text/html": [
       "<div>\n",
       "<style>\n",
       "    .dataframe thead tr:only-child th {\n",
       "        text-align: right;\n",
       "    }\n",
       "\n",
       "    .dataframe thead th {\n",
       "        text-align: left;\n",
       "    }\n",
       "\n",
       "    .dataframe tbody tr th {\n",
       "        vertical-align: top;\n",
       "    }\n",
       "</style>\n",
       "<table border=\"1\" class=\"dataframe\">\n",
       "  <thead>\n",
       "    <tr style=\"text-align: right;\">\n",
       "      <th></th>\n",
       "      <th>Row ID</th>\n",
       "      <th>#country_name</th>\n",
       "      <th>#water_source</th>\n",
       "      <th>#water_tech</th>\n",
       "      <th>#status_id</th>\n",
       "      <th>#management</th>\n",
       "      <th>#pay</th>\n",
       "      <th>#installer</th>\n",
       "      <th>#install_year</th>\n",
       "      <th>#status</th>\n",
       "      <th>#source</th>\n",
       "      <th>#adm1</th>\n",
       "      <th>#adm2</th>\n",
       "      <th>#wpdx_id</th>\n",
       "      <th>#report_date</th>\n",
       "      <th>#country_id</th>\n",
       "      <th>#activity_id</th>\n",
       "      <th>#data_lnk</th>\n",
       "      <th>#orig_lnk</th>\n",
       "      <th>photo_lnk</th>\n",
       "      <th>#converted</th>\n",
       "      <th>#created</th>\n",
       "      <th>#updated</th>\n",
       "      <th>#lat_deg</th>\n",
       "      <th>#lon_deg</th>\n",
       "      <th>Location</th>\n",
       "      <th>Count</th>\n",
       "      <th>#fecal_coliform_presence</th>\n",
       "      <th>#fecal_coliform_value</th>\n",
       "      <th>#subjective_quality</th>\n",
       "      <th>1 km population</th>\n",
       "      <th>1 km water points (total, functioning)</th>\n",
       "    </tr>\n",
       "  </thead>\n",
       "  <tbody>\n",
       "    <tr>\n",
       "      <th>42474</th>\n",
       "      <td>63115</td>\n",
       "      <td>Sierra Leone</td>\n",
       "      <td>Pump on hand-dug well</td>\n",
       "      <td>India Mark</td>\n",
       "      <td>yes</td>\n",
       "      <td>Community Management</td>\n",
       "      <td>Only if there is a breakdown</td>\n",
       "      <td>OXFAM</td>\n",
       "      <td>2011.0</td>\n",
       "      <td>Yes- functional.</td>\n",
       "      <td>Sierra Leone STATWASH portal</td>\n",
       "      <td>Eastern</td>\n",
       "      <td>Kailahun</td>\n",
       "      <td>wpdx-00063115</td>\n",
       "      <td>03/15/2012 12:00:00 AM +0000</td>\n",
       "      <td>SL</td>\n",
       "      <td>ae734jla</td>\n",
       "      <td>http://www.dropbox.com/s/8sgpa099ebtbg2w/All_W...</td>\n",
       "      <td>NaN</td>\n",
       "      <td>NaN</td>\n",
       "      <td>#country_id, #status_id, #status, #management,...</td>\n",
       "      <td>10/26/2015 09:24:51 PM +0000</td>\n",
       "      <td>10/26/2015 09:24:51 PM +0000</td>\n",
       "      <td>8.14546</td>\n",
       "      <td>-10.7758</td>\n",
       "      <td>(8.14546, -10.7758)</td>\n",
       "      <td>1</td>\n",
       "      <td>NaN</td>\n",
       "      <td>NaN</td>\n",
       "      <td>NaN</td>\n",
       "      <td>317.205</td>\n",
       "      <td>(1, 1)</td>\n",
       "    </tr>\n",
       "    <tr>\n",
       "      <th>42475</th>\n",
       "      <td>63146</td>\n",
       "      <td>Sierra Leone</td>\n",
       "      <td>Pump on hand-dug well</td>\n",
       "      <td>Inkar</td>\n",
       "      <td>yes</td>\n",
       "      <td>Community Management</td>\n",
       "      <td>Yes- regularly</td>\n",
       "      <td>OXFAM</td>\n",
       "      <td>2010.0</td>\n",
       "      <td>Yes- functional.</td>\n",
       "      <td>Sierra Leone STATWASH portal</td>\n",
       "      <td>Eastern</td>\n",
       "      <td>Kailahun</td>\n",
       "      <td>wpdx-00063146</td>\n",
       "      <td>03/14/2012 12:00:00 AM +0000</td>\n",
       "      <td>SL</td>\n",
       "      <td>ahmcg6kg</td>\n",
       "      <td>http://www.dropbox.com/s/8sgpa099ebtbg2w/All_W...</td>\n",
       "      <td>NaN</td>\n",
       "      <td>NaN</td>\n",
       "      <td>#country_id, #status_id, #status, #management,...</td>\n",
       "      <td>10/26/2015 09:24:51 PM +0000</td>\n",
       "      <td>10/26/2015 09:24:51 PM +0000</td>\n",
       "      <td>8.21998</td>\n",
       "      <td>-10.6945</td>\n",
       "      <td>(8.21998, -10.6945)</td>\n",
       "      <td>1</td>\n",
       "      <td>NaN</td>\n",
       "      <td>NaN</td>\n",
       "      <td>NaN</td>\n",
       "      <td>309.955</td>\n",
       "      <td>(4, 3)</td>\n",
       "    </tr>\n",
       "  </tbody>\n",
       "</table>\n",
       "</div>"
      ],
      "text/plain": [
       "       Row ID #country_name          #water_source #water_tech #status_id  \\\n",
       "42474   63115  Sierra Leone  Pump on hand-dug well  India Mark        yes   \n",
       "42475   63146  Sierra Leone  Pump on hand-dug well       Inkar        yes   \n",
       "\n",
       "                #management                          #pay #installer  \\\n",
       "42474  Community Management  Only if there is a breakdown      OXFAM   \n",
       "42475  Community Management                Yes- regularly      OXFAM   \n",
       "\n",
       "       #install_year           #status                       #source    #adm1  \\\n",
       "42474         2011.0  Yes- functional.  Sierra Leone STATWASH portal  Eastern   \n",
       "42475         2010.0  Yes- functional.  Sierra Leone STATWASH portal  Eastern   \n",
       "\n",
       "          #adm2       #wpdx_id                  #report_date #country_id  \\\n",
       "42474  Kailahun  wpdx-00063115  03/15/2012 12:00:00 AM +0000          SL   \n",
       "42475  Kailahun  wpdx-00063146  03/14/2012 12:00:00 AM +0000          SL   \n",
       "\n",
       "      #activity_id                                          #data_lnk  \\\n",
       "42474     ae734jla  http://www.dropbox.com/s/8sgpa099ebtbg2w/All_W...   \n",
       "42475     ahmcg6kg  http://www.dropbox.com/s/8sgpa099ebtbg2w/All_W...   \n",
       "\n",
       "      #orig_lnk photo_lnk                                         #converted  \\\n",
       "42474       NaN       NaN  #country_id, #status_id, #status, #management,...   \n",
       "42475       NaN       NaN  #country_id, #status_id, #status, #management,...   \n",
       "\n",
       "                           #created                      #updated  #lat_deg  \\\n",
       "42474  10/26/2015 09:24:51 PM +0000  10/26/2015 09:24:51 PM +0000   8.14546   \n",
       "42475  10/26/2015 09:24:51 PM +0000  10/26/2015 09:24:51 PM +0000   8.21998   \n",
       "\n",
       "       #lon_deg             Location  Count  #fecal_coliform_presence  \\\n",
       "42474  -10.7758  (8.14546, -10.7758)      1                       NaN   \n",
       "42475  -10.6945  (8.21998, -10.6945)      1                       NaN   \n",
       "\n",
       "       #fecal_coliform_value  #subjective_quality  1 km population  \\\n",
       "42474                    NaN                  NaN          317.205   \n",
       "42475                    NaN                  NaN          309.955   \n",
       "\n",
       "      1 km water points (total, functioning)  \n",
       "42474                                 (1, 1)  \n",
       "42475                                 (4, 3)  "
      ]
     },
     "execution_count": 29,
     "metadata": {},
     "output_type": "execute_result"
    }
   ],
   "source": [
    "sl_water.head(2)"
   ]
  },
  {
   "cell_type": "code",
   "execution_count": 30,
   "metadata": {},
   "outputs": [
    {
     "name": "stderr",
     "output_type": "stream",
     "text": [
      "/Users/alexjamar/anaconda/lib/python3.5/site-packages/ipykernel_launcher.py:1: SettingWithCopyWarning: \n",
      "A value is trying to be set on a copy of a slice from a DataFrame.\n",
      "Try using .loc[row_indexer,col_indexer] = value instead\n",
      "\n",
      "See the caveats in the documentation: http://pandas.pydata.org/pandas-docs/stable/indexing.html#indexing-view-versus-copy\n",
      "  \"\"\"Entry point for launching an IPython kernel.\n"
     ]
    }
   ],
   "source": [
    "sl_water['1 km population'] = sl_water['1 km population'].apply(lambda x: int(round(x,0)))"
   ]
  },
  {
   "cell_type": "code",
   "execution_count": 32,
   "metadata": {},
   "outputs": [
    {
     "name": "stderr",
     "output_type": "stream",
     "text": [
      "/Users/alexjamar/anaconda/lib/python3.5/site-packages/ipykernel_launcher.py:1: SettingWithCopyWarning: \n",
      "A value is trying to be set on a copy of a slice from a DataFrame.\n",
      "Try using .loc[row_indexer,col_indexer] = value instead\n",
      "\n",
      "See the caveats in the documentation: http://pandas.pydata.org/pandas-docs/stable/indexing.html#indexing-view-versus-copy\n",
      "  \"\"\"Entry point for launching an IPython kernel.\n"
     ]
    }
   ],
   "source": [
    "sl_water['1 km total water points'] = sl_water['1 km water points (total, functioning)'].apply(lambda x: str(x).split(',')[0][1:])"
   ]
  },
  {
   "cell_type": "code",
   "execution_count": 33,
   "metadata": {},
   "outputs": [
    {
     "name": "stderr",
     "output_type": "stream",
     "text": [
      "/Users/alexjamar/anaconda/lib/python3.5/site-packages/ipykernel_launcher.py:1: SettingWithCopyWarning: \n",
      "A value is trying to be set on a copy of a slice from a DataFrame.\n",
      "Try using .loc[row_indexer,col_indexer] = value instead\n",
      "\n",
      "See the caveats in the documentation: http://pandas.pydata.org/pandas-docs/stable/indexing.html#indexing-view-versus-copy\n",
      "  \"\"\"Entry point for launching an IPython kernel.\n"
     ]
    }
   ],
   "source": [
    "sl_water['1 km functioning water points'] = sl_water['1 km water points (total, functioning)'].apply(lambda x: str(x).split(',')[1][:-1])"
   ]
  },
  {
   "cell_type": "code",
   "execution_count": 34,
   "metadata": {},
   "outputs": [
    {
     "data": {
      "text/html": [
       "<div>\n",
       "<style>\n",
       "    .dataframe thead tr:only-child th {\n",
       "        text-align: right;\n",
       "    }\n",
       "\n",
       "    .dataframe thead th {\n",
       "        text-align: left;\n",
       "    }\n",
       "\n",
       "    .dataframe tbody tr th {\n",
       "        vertical-align: top;\n",
       "    }\n",
       "</style>\n",
       "<table border=\"1\" class=\"dataframe\">\n",
       "  <thead>\n",
       "    <tr style=\"text-align: right;\">\n",
       "      <th></th>\n",
       "      <th>Row ID</th>\n",
       "      <th>#country_name</th>\n",
       "      <th>#water_source</th>\n",
       "      <th>#water_tech</th>\n",
       "      <th>#status_id</th>\n",
       "      <th>#management</th>\n",
       "      <th>#pay</th>\n",
       "      <th>#installer</th>\n",
       "      <th>#install_year</th>\n",
       "      <th>#status</th>\n",
       "      <th>#source</th>\n",
       "      <th>#adm1</th>\n",
       "      <th>#adm2</th>\n",
       "      <th>#wpdx_id</th>\n",
       "      <th>#report_date</th>\n",
       "      <th>#country_id</th>\n",
       "      <th>#activity_id</th>\n",
       "      <th>#data_lnk</th>\n",
       "      <th>#orig_lnk</th>\n",
       "      <th>photo_lnk</th>\n",
       "      <th>#converted</th>\n",
       "      <th>#created</th>\n",
       "      <th>#updated</th>\n",
       "      <th>#lat_deg</th>\n",
       "      <th>#lon_deg</th>\n",
       "      <th>Location</th>\n",
       "      <th>Count</th>\n",
       "      <th>#fecal_coliform_presence</th>\n",
       "      <th>#fecal_coliform_value</th>\n",
       "      <th>#subjective_quality</th>\n",
       "      <th>1 km population</th>\n",
       "      <th>1 km water points (total, functioning)</th>\n",
       "      <th>1 km total water points</th>\n",
       "      <th>1 km functioning water points</th>\n",
       "    </tr>\n",
       "  </thead>\n",
       "  <tbody>\n",
       "    <tr>\n",
       "      <th>42474</th>\n",
       "      <td>63115</td>\n",
       "      <td>Sierra Leone</td>\n",
       "      <td>Pump on hand-dug well</td>\n",
       "      <td>India Mark</td>\n",
       "      <td>yes</td>\n",
       "      <td>Community Management</td>\n",
       "      <td>Only if there is a breakdown</td>\n",
       "      <td>OXFAM</td>\n",
       "      <td>2011.0</td>\n",
       "      <td>Yes- functional.</td>\n",
       "      <td>Sierra Leone STATWASH portal</td>\n",
       "      <td>Eastern</td>\n",
       "      <td>Kailahun</td>\n",
       "      <td>wpdx-00063115</td>\n",
       "      <td>03/15/2012 12:00:00 AM +0000</td>\n",
       "      <td>SL</td>\n",
       "      <td>ae734jla</td>\n",
       "      <td>http://www.dropbox.com/s/8sgpa099ebtbg2w/All_W...</td>\n",
       "      <td>NaN</td>\n",
       "      <td>NaN</td>\n",
       "      <td>#country_id, #status_id, #status, #management,...</td>\n",
       "      <td>10/26/2015 09:24:51 PM +0000</td>\n",
       "      <td>10/26/2015 09:24:51 PM +0000</td>\n",
       "      <td>8.14546</td>\n",
       "      <td>-10.7758</td>\n",
       "      <td>(8.14546, -10.7758)</td>\n",
       "      <td>1</td>\n",
       "      <td>NaN</td>\n",
       "      <td>NaN</td>\n",
       "      <td>NaN</td>\n",
       "      <td>317</td>\n",
       "      <td>(1, 1)</td>\n",
       "      <td>1</td>\n",
       "      <td>1</td>\n",
       "    </tr>\n",
       "    <tr>\n",
       "      <th>42475</th>\n",
       "      <td>63146</td>\n",
       "      <td>Sierra Leone</td>\n",
       "      <td>Pump on hand-dug well</td>\n",
       "      <td>Inkar</td>\n",
       "      <td>yes</td>\n",
       "      <td>Community Management</td>\n",
       "      <td>Yes- regularly</td>\n",
       "      <td>OXFAM</td>\n",
       "      <td>2010.0</td>\n",
       "      <td>Yes- functional.</td>\n",
       "      <td>Sierra Leone STATWASH portal</td>\n",
       "      <td>Eastern</td>\n",
       "      <td>Kailahun</td>\n",
       "      <td>wpdx-00063146</td>\n",
       "      <td>03/14/2012 12:00:00 AM +0000</td>\n",
       "      <td>SL</td>\n",
       "      <td>ahmcg6kg</td>\n",
       "      <td>http://www.dropbox.com/s/8sgpa099ebtbg2w/All_W...</td>\n",
       "      <td>NaN</td>\n",
       "      <td>NaN</td>\n",
       "      <td>#country_id, #status_id, #status, #management,...</td>\n",
       "      <td>10/26/2015 09:24:51 PM +0000</td>\n",
       "      <td>10/26/2015 09:24:51 PM +0000</td>\n",
       "      <td>8.21998</td>\n",
       "      <td>-10.6945</td>\n",
       "      <td>(8.21998, -10.6945)</td>\n",
       "      <td>1</td>\n",
       "      <td>NaN</td>\n",
       "      <td>NaN</td>\n",
       "      <td>NaN</td>\n",
       "      <td>310</td>\n",
       "      <td>(4, 3)</td>\n",
       "      <td>4</td>\n",
       "      <td>3</td>\n",
       "    </tr>\n",
       "    <tr>\n",
       "      <th>42476</th>\n",
       "      <td>63116</td>\n",
       "      <td>Sierra Leone</td>\n",
       "      <td>Pump on hand-dug well</td>\n",
       "      <td>India Mark</td>\n",
       "      <td>yes</td>\n",
       "      <td>Community Management</td>\n",
       "      <td>No- water is free</td>\n",
       "      <td>Unknown</td>\n",
       "      <td>2011.0</td>\n",
       "      <td>Yes- functional.</td>\n",
       "      <td>Sierra Leone STATWASH portal</td>\n",
       "      <td>Eastern</td>\n",
       "      <td>Kailahun</td>\n",
       "      <td>wpdx-00063116</td>\n",
       "      <td>03/14/2012 12:00:00 AM +0000</td>\n",
       "      <td>SL</td>\n",
       "      <td>alqbuvky</td>\n",
       "      <td>http://www.dropbox.com/s/8sgpa099ebtbg2w/All_W...</td>\n",
       "      <td>NaN</td>\n",
       "      <td>NaN</td>\n",
       "      <td>#country_id, #status_id, #status, #management,...</td>\n",
       "      <td>10/26/2015 09:24:51 PM +0000</td>\n",
       "      <td>10/26/2015 09:24:51 PM +0000</td>\n",
       "      <td>8.30947</td>\n",
       "      <td>-10.6979</td>\n",
       "      <td>(8.30947, -10.6979)</td>\n",
       "      <td>1</td>\n",
       "      <td>NaN</td>\n",
       "      <td>NaN</td>\n",
       "      <td>NaN</td>\n",
       "      <td>253</td>\n",
       "      <td>(0, 0)</td>\n",
       "      <td>0</td>\n",
       "      <td>0</td>\n",
       "    </tr>\n",
       "    <tr>\n",
       "      <th>42477</th>\n",
       "      <td>63117</td>\n",
       "      <td>Sierra Leone</td>\n",
       "      <td>Pump on hand-dug well</td>\n",
       "      <td>India Mark</td>\n",
       "      <td>yes</td>\n",
       "      <td>Community Management</td>\n",
       "      <td>Yes- regularly</td>\n",
       "      <td>OXFAM</td>\n",
       "      <td>2011.0</td>\n",
       "      <td>Yes- functional.</td>\n",
       "      <td>Sierra Leone STATWASH portal</td>\n",
       "      <td>Eastern</td>\n",
       "      <td>Kailahun</td>\n",
       "      <td>wpdx-00063117</td>\n",
       "      <td>03/08/2012 12:00:00 AM +0000</td>\n",
       "      <td>SL</td>\n",
       "      <td>aln4y85f</td>\n",
       "      <td>http://www.dropbox.com/s/8sgpa099ebtbg2w/All_W...</td>\n",
       "      <td>NaN</td>\n",
       "      <td>NaN</td>\n",
       "      <td>#country_id, #status_id, #status, #management,...</td>\n",
       "      <td>10/26/2015 09:24:51 PM +0000</td>\n",
       "      <td>10/26/2015 09:24:51 PM +0000</td>\n",
       "      <td>8.30754</td>\n",
       "      <td>-10.7395</td>\n",
       "      <td>(8.30754, -10.7395)</td>\n",
       "      <td>1</td>\n",
       "      <td>NaN</td>\n",
       "      <td>NaN</td>\n",
       "      <td>NaN</td>\n",
       "      <td>317</td>\n",
       "      <td>(1, 1)</td>\n",
       "      <td>1</td>\n",
       "      <td>1</td>\n",
       "    </tr>\n",
       "    <tr>\n",
       "      <th>42478</th>\n",
       "      <td>63118</td>\n",
       "      <td>Sierra Leone</td>\n",
       "      <td>Pump on hand-dug well</td>\n",
       "      <td>India Mark</td>\n",
       "      <td>no</td>\n",
       "      <td>Community Management</td>\n",
       "      <td>No- water is free</td>\n",
       "      <td>cord sl</td>\n",
       "      <td>2011.0</td>\n",
       "      <td>No- broken down. Pump damaged</td>\n",
       "      <td>Sierra Leone STATWASH portal</td>\n",
       "      <td>Eastern</td>\n",
       "      <td>Kailahun</td>\n",
       "      <td>wpdx-00063118</td>\n",
       "      <td>03/09/2012 12:00:00 AM +0000</td>\n",
       "      <td>SL</td>\n",
       "      <td>alafpbam</td>\n",
       "      <td>http://www.dropbox.com/s/8sgpa099ebtbg2w/All_W...</td>\n",
       "      <td>NaN</td>\n",
       "      <td>NaN</td>\n",
       "      <td>#country_id, #status_id, #status, #management,...</td>\n",
       "      <td>10/26/2015 09:24:51 PM +0000</td>\n",
       "      <td>10/26/2015 09:24:51 PM +0000</td>\n",
       "      <td>8.29985</td>\n",
       "      <td>-10.7054</td>\n",
       "      <td>(8.29985, -10.7054)</td>\n",
       "      <td>1</td>\n",
       "      <td>NaN</td>\n",
       "      <td>NaN</td>\n",
       "      <td>NaN</td>\n",
       "      <td>22</td>\n",
       "      <td>(4, 3)</td>\n",
       "      <td>4</td>\n",
       "      <td>3</td>\n",
       "    </tr>\n",
       "  </tbody>\n",
       "</table>\n",
       "</div>"
      ],
      "text/plain": [
       "       Row ID #country_name          #water_source #water_tech #status_id  \\\n",
       "42474   63115  Sierra Leone  Pump on hand-dug well  India Mark        yes   \n",
       "42475   63146  Sierra Leone  Pump on hand-dug well       Inkar        yes   \n",
       "42476   63116  Sierra Leone  Pump on hand-dug well  India Mark        yes   \n",
       "42477   63117  Sierra Leone  Pump on hand-dug well  India Mark        yes   \n",
       "42478   63118  Sierra Leone  Pump on hand-dug well  India Mark         no   \n",
       "\n",
       "                #management                          #pay #installer  \\\n",
       "42474  Community Management  Only if there is a breakdown      OXFAM   \n",
       "42475  Community Management                Yes- regularly      OXFAM   \n",
       "42476  Community Management             No- water is free    Unknown   \n",
       "42477  Community Management                Yes- regularly      OXFAM   \n",
       "42478  Community Management             No- water is free    cord sl   \n",
       "\n",
       "       #install_year                        #status  \\\n",
       "42474         2011.0               Yes- functional.   \n",
       "42475         2010.0               Yes- functional.   \n",
       "42476         2011.0               Yes- functional.   \n",
       "42477         2011.0               Yes- functional.   \n",
       "42478         2011.0  No- broken down. Pump damaged   \n",
       "\n",
       "                            #source    #adm1     #adm2       #wpdx_id  \\\n",
       "42474  Sierra Leone STATWASH portal  Eastern  Kailahun  wpdx-00063115   \n",
       "42475  Sierra Leone STATWASH portal  Eastern  Kailahun  wpdx-00063146   \n",
       "42476  Sierra Leone STATWASH portal  Eastern  Kailahun  wpdx-00063116   \n",
       "42477  Sierra Leone STATWASH portal  Eastern  Kailahun  wpdx-00063117   \n",
       "42478  Sierra Leone STATWASH portal  Eastern  Kailahun  wpdx-00063118   \n",
       "\n",
       "                       #report_date #country_id #activity_id  \\\n",
       "42474  03/15/2012 12:00:00 AM +0000          SL     ae734jla   \n",
       "42475  03/14/2012 12:00:00 AM +0000          SL     ahmcg6kg   \n",
       "42476  03/14/2012 12:00:00 AM +0000          SL     alqbuvky   \n",
       "42477  03/08/2012 12:00:00 AM +0000          SL     aln4y85f   \n",
       "42478  03/09/2012 12:00:00 AM +0000          SL     alafpbam   \n",
       "\n",
       "                                               #data_lnk #orig_lnk photo_lnk  \\\n",
       "42474  http://www.dropbox.com/s/8sgpa099ebtbg2w/All_W...       NaN       NaN   \n",
       "42475  http://www.dropbox.com/s/8sgpa099ebtbg2w/All_W...       NaN       NaN   \n",
       "42476  http://www.dropbox.com/s/8sgpa099ebtbg2w/All_W...       NaN       NaN   \n",
       "42477  http://www.dropbox.com/s/8sgpa099ebtbg2w/All_W...       NaN       NaN   \n",
       "42478  http://www.dropbox.com/s/8sgpa099ebtbg2w/All_W...       NaN       NaN   \n",
       "\n",
       "                                              #converted  \\\n",
       "42474  #country_id, #status_id, #status, #management,...   \n",
       "42475  #country_id, #status_id, #status, #management,...   \n",
       "42476  #country_id, #status_id, #status, #management,...   \n",
       "42477  #country_id, #status_id, #status, #management,...   \n",
       "42478  #country_id, #status_id, #status, #management,...   \n",
       "\n",
       "                           #created                      #updated  #lat_deg  \\\n",
       "42474  10/26/2015 09:24:51 PM +0000  10/26/2015 09:24:51 PM +0000   8.14546   \n",
       "42475  10/26/2015 09:24:51 PM +0000  10/26/2015 09:24:51 PM +0000   8.21998   \n",
       "42476  10/26/2015 09:24:51 PM +0000  10/26/2015 09:24:51 PM +0000   8.30947   \n",
       "42477  10/26/2015 09:24:51 PM +0000  10/26/2015 09:24:51 PM +0000   8.30754   \n",
       "42478  10/26/2015 09:24:51 PM +0000  10/26/2015 09:24:51 PM +0000   8.29985   \n",
       "\n",
       "       #lon_deg             Location  Count  #fecal_coliform_presence  \\\n",
       "42474  -10.7758  (8.14546, -10.7758)      1                       NaN   \n",
       "42475  -10.6945  (8.21998, -10.6945)      1                       NaN   \n",
       "42476  -10.6979  (8.30947, -10.6979)      1                       NaN   \n",
       "42477  -10.7395  (8.30754, -10.7395)      1                       NaN   \n",
       "42478  -10.7054  (8.29985, -10.7054)      1                       NaN   \n",
       "\n",
       "       #fecal_coliform_value  #subjective_quality  1 km population  \\\n",
       "42474                    NaN                  NaN              317   \n",
       "42475                    NaN                  NaN              310   \n",
       "42476                    NaN                  NaN              253   \n",
       "42477                    NaN                  NaN              317   \n",
       "42478                    NaN                  NaN               22   \n",
       "\n",
       "      1 km water points (total, functioning) 1 km total water points  \\\n",
       "42474                                 (1, 1)                       1   \n",
       "42475                                 (4, 3)                       4   \n",
       "42476                                 (0, 0)                       0   \n",
       "42477                                 (1, 1)                       1   \n",
       "42478                                 (4, 3)                       4   \n",
       "\n",
       "      1 km functioning water points  \n",
       "42474                             1  \n",
       "42475                             3  \n",
       "42476                             0  \n",
       "42477                             1  \n",
       "42478                             3  "
      ]
     },
     "execution_count": 34,
     "metadata": {},
     "output_type": "execute_result"
    }
   ],
   "source": [
    "sl_water.head()"
   ]
  },
  {
   "cell_type": "code",
   "execution_count": 35,
   "metadata": {
    "collapsed": true
   },
   "outputs": [],
   "source": [
    "sl_abridged = sl_water[['Row ID', '#country_name', '#status_id', '#lat_deg', '#lon_deg', '1 km population',\n",
    "                        '1 km total water points', '1 km functioning water points']]"
   ]
  },
  {
   "cell_type": "code",
   "execution_count": 36,
   "metadata": {},
   "outputs": [
    {
     "data": {
      "text/html": [
       "<div>\n",
       "<style>\n",
       "    .dataframe thead tr:only-child th {\n",
       "        text-align: right;\n",
       "    }\n",
       "\n",
       "    .dataframe thead th {\n",
       "        text-align: left;\n",
       "    }\n",
       "\n",
       "    .dataframe tbody tr th {\n",
       "        vertical-align: top;\n",
       "    }\n",
       "</style>\n",
       "<table border=\"1\" class=\"dataframe\">\n",
       "  <thead>\n",
       "    <tr style=\"text-align: right;\">\n",
       "      <th></th>\n",
       "      <th>Row ID</th>\n",
       "      <th>#country_name</th>\n",
       "      <th>#status_id</th>\n",
       "      <th>#lat_deg</th>\n",
       "      <th>#lon_deg</th>\n",
       "      <th>1 km population</th>\n",
       "      <th>1 km total water points</th>\n",
       "      <th>1 km functioning water points</th>\n",
       "    </tr>\n",
       "  </thead>\n",
       "  <tbody>\n",
       "    <tr>\n",
       "      <th>42474</th>\n",
       "      <td>63115</td>\n",
       "      <td>Sierra Leone</td>\n",
       "      <td>yes</td>\n",
       "      <td>8.14546</td>\n",
       "      <td>-10.7758</td>\n",
       "      <td>317</td>\n",
       "      <td>1</td>\n",
       "      <td>1</td>\n",
       "    </tr>\n",
       "    <tr>\n",
       "      <th>42475</th>\n",
       "      <td>63146</td>\n",
       "      <td>Sierra Leone</td>\n",
       "      <td>yes</td>\n",
       "      <td>8.21998</td>\n",
       "      <td>-10.6945</td>\n",
       "      <td>310</td>\n",
       "      <td>4</td>\n",
       "      <td>3</td>\n",
       "    </tr>\n",
       "    <tr>\n",
       "      <th>42476</th>\n",
       "      <td>63116</td>\n",
       "      <td>Sierra Leone</td>\n",
       "      <td>yes</td>\n",
       "      <td>8.30947</td>\n",
       "      <td>-10.6979</td>\n",
       "      <td>253</td>\n",
       "      <td>0</td>\n",
       "      <td>0</td>\n",
       "    </tr>\n",
       "    <tr>\n",
       "      <th>42477</th>\n",
       "      <td>63117</td>\n",
       "      <td>Sierra Leone</td>\n",
       "      <td>yes</td>\n",
       "      <td>8.30754</td>\n",
       "      <td>-10.7395</td>\n",
       "      <td>317</td>\n",
       "      <td>1</td>\n",
       "      <td>1</td>\n",
       "    </tr>\n",
       "    <tr>\n",
       "      <th>42478</th>\n",
       "      <td>63118</td>\n",
       "      <td>Sierra Leone</td>\n",
       "      <td>no</td>\n",
       "      <td>8.29985</td>\n",
       "      <td>-10.7054</td>\n",
       "      <td>22</td>\n",
       "      <td>4</td>\n",
       "      <td>3</td>\n",
       "    </tr>\n",
       "  </tbody>\n",
       "</table>\n",
       "</div>"
      ],
      "text/plain": [
       "       Row ID #country_name #status_id  #lat_deg  #lon_deg  1 km population  \\\n",
       "42474   63115  Sierra Leone        yes   8.14546  -10.7758              317   \n",
       "42475   63146  Sierra Leone        yes   8.21998  -10.6945              310   \n",
       "42476   63116  Sierra Leone        yes   8.30947  -10.6979              253   \n",
       "42477   63117  Sierra Leone        yes   8.30754  -10.7395              317   \n",
       "42478   63118  Sierra Leone         no   8.29985  -10.7054               22   \n",
       "\n",
       "      1 km total water points 1 km functioning water points  \n",
       "42474                       1                             1  \n",
       "42475                       4                             3  \n",
       "42476                       0                             0  \n",
       "42477                       1                             1  \n",
       "42478                       4                             3  "
      ]
     },
     "execution_count": 36,
     "metadata": {},
     "output_type": "execute_result"
    }
   ],
   "source": [
    "sl_abridged.head()"
   ]
  },
  {
   "cell_type": "code",
   "execution_count": null,
   "metadata": {
    "collapsed": true
   },
   "outputs": [],
   "source": []
  },
  {
   "cell_type": "code",
   "execution_count": 38,
   "metadata": {
    "collapsed": true
   },
   "outputs": [],
   "source": [
    "sl_abridged.to_csv(\"Abridged_Sierra_Leone_Water_and_Population_Data.csv\", index = False)"
   ]
  },
  {
   "cell_type": "code",
   "execution_count": null,
   "metadata": {
    "collapsed": true
   },
   "outputs": [],
   "source": []
  }
 ],
 "metadata": {
  "kernelspec": {
   "display_name": "Python 3",
   "language": "python",
   "name": "python3"
  },
  "language_info": {
   "codemirror_mode": {
    "name": "ipython",
    "version": 3
   },
   "file_extension": ".py",
   "mimetype": "text/x-python",
   "name": "python",
   "nbconvert_exporter": "python",
   "pygments_lexer": "ipython3",
   "version": "3.5.4"
  }
 },
 "nbformat": 4,
 "nbformat_minor": 2
}
