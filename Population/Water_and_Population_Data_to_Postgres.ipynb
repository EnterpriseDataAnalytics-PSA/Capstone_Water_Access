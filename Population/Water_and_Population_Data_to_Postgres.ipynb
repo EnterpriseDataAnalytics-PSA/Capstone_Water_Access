{
 "cells": [
  {
   "cell_type": "code",
   "execution_count": 1,
   "metadata": {
    "collapsed": true
   },
   "outputs": [],
   "source": [
    "import psycopg2\n",
    "from psycopg2.extensions import AsIs\n",
    "import pandas as pd\n",
    "import sys\n",
    "import time"
   ]
  },
  {
   "cell_type": "markdown",
   "metadata": {},
   "source": [
    "## Connection Info"
   ]
  },
  {
   "cell_type": "code",
   "execution_count": 2,
   "metadata": {},
   "outputs": [
    {
     "name": "stdout",
     "output_type": "stream",
     "text": [
      "Connected to database!\n"
     ]
    }
   ],
   "source": [
    "#Create Population Table\n",
    "conn_string = \"host='postgres-instance2.clhlqrsuvowr.us-east-1.rds.amazonaws.com' dbname='water_db' user='alex' password='berkeley'\"\n",
    "conn = psycopg2.connect(conn_string)\n",
    "print(\"Connected to database!\")\n",
    "cur = conn.cursor()"
   ]
  },
  {
   "cell_type": "markdown",
   "metadata": {},
   "source": [
    "## Create Water Point Data Table"
   ]
  },
  {
   "cell_type": "code",
   "execution_count": 2,
   "metadata": {},
   "outputs": [
    {
     "name": "stdout",
     "output_type": "stream",
     "text": [
      "Connected to database!\n",
      "Table created!\n"
     ]
    }
   ],
   "source": [
    "cur.execute(\"\"\"\n",
    "CREATE TABLE afghanistan_water_and_population(\n",
    "    key serial PRIMARY KEY,\n",
    "    country varchar,\n",
    "    status_id varchar,\n",
    "    lat float,\n",
    "    long float,\n",
    "    one_km_population integer,\n",
    "    one_km_total_water_points integer,\n",
    "    one_km_functioning_water_points integer,\n",
    "    district varchar,\n",
    "    sub_district varchar\n",
    ")\n",
    "\"\"\")\n",
    "conn.commit()\n",
    "\n",
    "print(\"Table created!\")"
   ]
  },
  {
   "cell_type": "markdown",
   "metadata": {},
   "source": [
    "## Add Water Data to Database"
   ]
  },
  {
   "cell_type": "code",
   "execution_count": 3,
   "metadata": {
    "collapsed": true
   },
   "outputs": [],
   "source": [
    "def add_water_data_to_db(water_file, table_name):\n",
    "    #Define our connection string\n",
    "    conn_string = \"host='postgres-instance2.clhlqrsuvowr.us-east-1.rds.amazonaws.com' dbname='water_db' user='alex' password='berkeley'\"\n",
    " \n",
    "    # get a connection, if a connect cannot be made an exception will be raised here\n",
    "    conn = psycopg2.connect(conn_string)\n",
    "    print(\"Connected to database!\")\n",
    "\n",
    "    # conn.cursor will return a cursor object, you can use this cursor to perform queries\n",
    "    cur = conn.cursor()\n",
    "    start_time = time.time()\n",
    "    \n",
    "    with open(water_file, 'r') as file:\n",
    "        next(file)  # Skip the header row.\n",
    "        cur.copy_from(file, table_name, sep=',')\n",
    "    \n",
    "    conn.commit()\n",
    "    print(\"Data committed!\")\n",
    "    end_time = time.time()\n",
    "    time_taken = round((end_time - start_time) / 60,1)\n",
    "    print(\"Time taken:\", time_taken, \"minutes\")"
   ]
  },
  {
   "cell_type": "markdown",
   "metadata": {},
   "source": [
    "## Afghanistan"
   ]
  },
  {
   "cell_type": "code",
   "execution_count": 4,
   "metadata": {},
   "outputs": [
    {
     "name": "stdout",
     "output_type": "stream",
     "text": [
      "Connected to database!\n",
      "Data committed!\n",
      "Time taken: 0.0 minutes\n"
     ]
    }
   ],
   "source": [
    "#Add Afghanistan Water and Population Data\n",
    "add_water_data_to_db(\"Abridged_Afghanistan_Water_and_Population_Data.csv\", \"afghanistan_water_and_population\")"
   ]
  },
  {
   "cell_type": "code",
   "execution_count": 5,
   "metadata": {},
   "outputs": [
    {
     "name": "stdout",
     "output_type": "stream",
     "text": [
      "[(400, 'Afghanistan', 'yes', 33.5244, 69.7361, 642, 2, 1, 'Khost', 'Musa Khel')]\n"
     ]
    }
   ],
   "source": [
    "#Spot Check Afghanistan\n",
    "conn = psycopg2.connect(conn_string)\n",
    "cur = conn.cursor()\n",
    "cur.execute('SELECT * from afghanistan_water_and_population LIMIT 1;')\n",
    "testing = cur.fetchall()\n",
    "print(testing)"
   ]
  },
  {
   "cell_type": "markdown",
   "metadata": {},
   "source": [
    "## Kenya"
   ]
  },
  {
   "cell_type": "code",
   "execution_count": 5,
   "metadata": {},
   "outputs": [
    {
     "name": "stdout",
     "output_type": "stream",
     "text": [
      "Connected to database!\n",
      "Data committed!\n",
      "Time taken: 0.0 minutes\n"
     ]
    }
   ],
   "source": [
    "#Add Kenya Water and Population Data\n",
    "add_water_data_to_db(\"Abridged_Kenya_Water_and_Population_Data.csv\", \"kenya_water_and_population\")"
   ]
  },
  {
   "cell_type": "code",
   "execution_count": 6,
   "metadata": {},
   "outputs": [
    {
     "name": "stdout",
     "output_type": "stream",
     "text": [
      "[(59708, 'Kenya', 'unknown', 0.0926, 36.1744, 412, 1, 0, 'Nakuru', 'Rongai')]\n"
     ]
    }
   ],
   "source": [
    "#Spot Check Kenya\n",
    "conn = psycopg2.connect(conn_string)\n",
    "cur = conn.cursor()\n",
    "cur.execute('SELECT * from kenya_water_and_population LIMIT 1;')\n",
    "testing = cur.fetchall()\n",
    "print(testing)"
   ]
  },
  {
   "cell_type": "markdown",
   "metadata": {},
   "source": [
    "## Liberia"
   ]
  },
  {
   "cell_type": "code",
   "execution_count": 9,
   "metadata": {},
   "outputs": [
    {
     "name": "stdout",
     "output_type": "stream",
     "text": [
      "Connected to database!\n",
      "Data committed!\n",
      "Time taken: 0.0 minutes\n"
     ]
    }
   ],
   "source": [
    "#Add Liberia Water and Population Data\n",
    "add_water_data_to_db(\"Abridged_Liberia_Water_and_Population_Data.csv\", \"liberia_water_and_population\")"
   ]
  },
  {
   "cell_type": "code",
   "execution_count": 6,
   "metadata": {},
   "outputs": [
    {
     "name": "stdout",
     "output_type": "stream",
     "text": [
      "[(162435, 'Liberia', 'no', 8.36505, -9.79305, 277, 1, 1, 'Lofa', 'Voinjama')]\n"
     ]
    }
   ],
   "source": [
    "#Spot Check Liberia\n",
    "conn = psycopg2.connect(conn_string)\n",
    "cur = conn.cursor()\n",
    "cur.execute('SELECT * from liberia_water_and_population LIMIT 1;')\n",
    "testing = cur.fetchall()\n",
    "print(testing)"
   ]
  },
  {
   "cell_type": "markdown",
   "metadata": {},
   "source": [
    "## Malawi"
   ]
  },
  {
   "cell_type": "code",
   "execution_count": 27,
   "metadata": {},
   "outputs": [
    {
     "name": "stdout",
     "output_type": "stream",
     "text": [
      "Connected to database!\n",
      "Data committed!\n",
      "Time taken: 0.1 minutes\n"
     ]
    }
   ],
   "source": [
    "#Add Malawi Water and Population Data\n",
    "add_water_data_to_db(\"Abridged_Malawi_Water_and_Population_Data.csv\", \"malawi_water_and_population\")"
   ]
  },
  {
   "cell_type": "code",
   "execution_count": 28,
   "metadata": {},
   "outputs": [
    {
     "name": "stdout",
     "output_type": "stream",
     "text": [
      "[(57853, 'Malawi', 'yes', -14.0322, 34.1128, 1225, 1, 1, 'Lilongwe', 'TA Mazengera')]\n"
     ]
    }
   ],
   "source": [
    "#Spot Check Malawi\n",
    "conn = psycopg2.connect(conn_string)\n",
    "cur = conn.cursor()\n",
    "cur.execute('SELECT * from malawi_water_and_population LIMIT 1;')\n",
    "testing = cur.fetchall()\n",
    "print(testing)"
   ]
  },
  {
   "cell_type": "markdown",
   "metadata": {},
   "source": [
    "## Sierra Leone"
   ]
  },
  {
   "cell_type": "code",
   "execution_count": 29,
   "metadata": {},
   "outputs": [
    {
     "name": "stdout",
     "output_type": "stream",
     "text": [
      "Connected to database!\n",
      "Data committed!\n",
      "Time taken: 0.0 minutes\n"
     ]
    }
   ],
   "source": [
    "#Add Sierra Leone Water and Population Data\n",
    "add_water_data_to_db(\"Abridged_Sierra Leone_Water_and_Population_Data.csv\", \"sierra_leone_water_and_population\")"
   ]
  },
  {
   "cell_type": "code",
   "execution_count": 30,
   "metadata": {},
   "outputs": [
    {
     "name": "stdout",
     "output_type": "stream",
     "text": [
      "(63115, 'Sierra Leone', 'yes', 8.14546, -10.7758, 317, 1, 1, 'Kailahun', 'Pehe Bongre')\n"
     ]
    }
   ],
   "source": [
    "#Spot Check Sierra Leone\n",
    "conn = psycopg2.connect(conn_string)\n",
    "cur = conn.cursor()\n",
    "cur.execute('SELECT * from sierra_leone_water_and_population LIMIT 1;')\n",
    "testing = cur.fetchall()[0]\n",
    "print(testing)"
   ]
  },
  {
   "cell_type": "markdown",
   "metadata": {},
   "source": [
    "## South Sudan"
   ]
  },
  {
   "cell_type": "code",
   "execution_count": 31,
   "metadata": {},
   "outputs": [
    {
     "name": "stdout",
     "output_type": "stream",
     "text": [
      "Connected to database!\n",
      "Data committed!\n",
      "Time taken: 0.0 minutes\n"
     ]
    }
   ],
   "source": [
    "#Add South Sudan Water and Population Data\n",
    "add_water_data_to_db(\"Abridged_South Sudan_Water_and_Population_Data.csv\", \"south_sudan_water_and_population\")"
   ]
  },
  {
   "cell_type": "code",
   "execution_count": 32,
   "metadata": {},
   "outputs": [
    {
     "name": "stdout",
     "output_type": "stream",
     "text": [
      "(386946, 'South Sudan', 'yes', 4.86168, 31.5562, 6168, 3, 1, 'Central Equatoria', 'Bahr al Jabal')\n"
     ]
    }
   ],
   "source": [
    "#Spot Check South Sudan\n",
    "conn = psycopg2.connect(conn_string)\n",
    "cur = conn.cursor()\n",
    "cur.execute('SELECT * from south_sudan_water_and_population LIMIT 1;')\n",
    "testing = cur.fetchall()[0]\n",
    "print(testing)"
   ]
  },
  {
   "cell_type": "markdown",
   "metadata": {},
   "source": [
    "## Swaziland"
   ]
  },
  {
   "cell_type": "code",
   "execution_count": 15,
   "metadata": {},
   "outputs": [
    {
     "name": "stdout",
     "output_type": "stream",
     "text": [
      "Connected to database!\n",
      "Data committed!\n",
      "Time taken: 0.0 minutes\n"
     ]
    }
   ],
   "source": [
    "#Add Swaziland Water and Population Data\n",
    "add_water_data_to_db(\"Abridged_Swaziland_Water_and_Population_Data.csv\", \"swaziland_water_and_population\")"
   ]
  },
  {
   "cell_type": "code",
   "execution_count": 19,
   "metadata": {},
   "outputs": [
    {
     "name": "stdout",
     "output_type": "stream",
     "text": [
      "(472293, 'Swaziland', 'no', -27.1031, 31.1317, 1158, 40, 9, 'Shiselweni', 'Maseyisini')\n"
     ]
    }
   ],
   "source": [
    "#Spot-check Swaziland\n",
    "conn = psycopg2.connect(conn_string)\n",
    "cur = conn.cursor()\n",
    "cur.execute('SELECT * from swaziland_water_and_population LIMIT 1;')\n",
    "testing = cur.fetchall()[0]\n",
    "print(testing)"
   ]
  },
  {
   "cell_type": "markdown",
   "metadata": {},
   "source": [
    "## Zimbabwe"
   ]
  },
  {
   "cell_type": "code",
   "execution_count": 5,
   "metadata": {},
   "outputs": [
    {
     "name": "stdout",
     "output_type": "stream",
     "text": [
      "Connected to database!\n",
      "Data committed!\n",
      "Time taken: 0.1 minutes\n"
     ]
    }
   ],
   "source": [
    "#Add Zimbabwe Water and Population Data\n",
    "add_water_data_to_db(\"Abridged_Zimbabwe_Water_and_Population_Data.csv\", \"zimbabwe_water_and_population\")"
   ]
  },
  {
   "cell_type": "code",
   "execution_count": 6,
   "metadata": {},
   "outputs": [
    {
     "name": "stdout",
     "output_type": "stream",
     "text": [
      "(467162, 'Zimbabwe', 'yes', -20.0438, 27.7201, 145, 4, 3, 'Matabeleland North', 'Tsholotsho')\n"
     ]
    }
   ],
   "source": [
    "#Spot-check Zimbabwe\n",
    "conn = psycopg2.connect(conn_string)\n",
    "cur = conn.cursor()\n",
    "cur.execute('SELECT * from zimbabwe_water_and_population LIMIT 1;')\n",
    "testing = cur.fetchall()[0]\n",
    "print(testing)"
   ]
  },
  {
   "cell_type": "code",
   "execution_count": null,
   "metadata": {
    "collapsed": true
   },
   "outputs": [],
   "source": []
  },
  {
   "cell_type": "code",
   "execution_count": null,
   "metadata": {
    "collapsed": true
   },
   "outputs": [],
   "source": []
  },
  {
   "cell_type": "markdown",
   "metadata": {},
   "source": [
    "## Check Current Tables"
   ]
  },
  {
   "cell_type": "code",
   "execution_count": 7,
   "metadata": {},
   "outputs": [
    {
     "name": "stdout",
     "output_type": "stream",
     "text": [
      "('uganda_population',)\n",
      "('afghanistan_water_and_population',)\n",
      "('swazi_mvp',)\n",
      "('liberia_population',)\n",
      "('malawi_water_and_population',)\n",
      "('south_sudan_population',)\n",
      "('afghanistan_population',)\n",
      "('bangladesh_population',)\n",
      "('belize_population',)\n",
      "('bolivia_population',)\n",
      "('burkina_faso_population',)\n",
      "('gambia_population',)\n",
      "('swaziland_population',)\n",
      "('burundi_population',)\n",
      "('cambodia_population',)\n",
      "('central_african_republic_population',)\n",
      "('zimbabwe_population',)\n",
      "('sierra_leone_water',)\n",
      "('uganda_water',)\n",
      "('sierra_leone_population',)\n",
      "('malawi_population',)\n",
      "('kenya_population',)\n",
      "('geography_columns',)\n",
      "('geometry_columns',)\n",
      "('spatial_ref_sys',)\n",
      "('raster_columns',)\n",
      "('raster_overviews',)\n",
      "('kenya_water_and_population',)\n",
      "('liberia_water_and_population',)\n",
      "('swaziland_water_and_population',)\n",
      "('zimbabwe_water_and_population',)\n",
      "('sierra_leone_water_and_population',)\n",
      "('south_sudan_water_and_population',)\n"
     ]
    }
   ],
   "source": [
    "#Check all tables in the Database\n",
    "conn = psycopg2.connect(conn_string)\n",
    "cur = conn.cursor()\n",
    "\n",
    "cur.execute(\"\"\"SELECT table_name FROM information_schema.tables\n",
    "       WHERE table_schema = 'public'\"\"\")\n",
    "for table in cur.fetchall():\n",
    "    print(table)"
   ]
  },
  {
   "cell_type": "markdown",
   "metadata": {},
   "source": [
    "## If Necessary, Drop Tables"
   ]
  },
  {
   "cell_type": "code",
   "execution_count": 24,
   "metadata": {
    "collapsed": true
   },
   "outputs": [],
   "source": [
    "conn = psycopg2.connect(conn_string)\n",
    "cur = conn.cursor()\n",
    "cur.execute('DROP TABLE malawi_water_and_population;')\n",
    "conn.commit()"
   ]
  },
  {
   "cell_type": "code",
   "execution_count": null,
   "metadata": {
    "collapsed": true
   },
   "outputs": [],
   "source": []
  }
 ],
 "metadata": {
  "kernelspec": {
   "display_name": "Python 3",
   "language": "python",
   "name": "python3"
  },
  "language_info": {
   "codemirror_mode": {
    "name": "ipython",
    "version": 3
   },
   "file_extension": ".py",
   "mimetype": "text/x-python",
   "name": "python",
   "nbconvert_exporter": "python",
   "pygments_lexer": "ipython3",
   "version": "3.5.4"
  }
 },
 "nbformat": 4,
 "nbformat_minor": 2
}
