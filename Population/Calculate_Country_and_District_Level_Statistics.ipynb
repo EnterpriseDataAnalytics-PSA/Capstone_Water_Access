{
 "cells": [
  {
   "cell_type": "code",
   "execution_count": 145,
   "metadata": {},
   "outputs": [],
   "source": [
    "import psycopg2\n",
    "from psycopg2.extensions import AsIs\n",
    "import pandas as pd\n",
    "import numpy as np\n",
    "import warnings\n",
    "warnings.filterwarnings('ignore')"
   ]
  },
  {
   "cell_type": "code",
   "execution_count": 157,
   "metadata": {
    "collapsed": true
   },
   "outputs": [],
   "source": [
    "def country_level_statistics(df, column):\n",
    "    country_summary = df.groupby(['#country_name'])[column].agg({\"Mean\": np.mean,\n",
    "                                                                 \"Count\": np.size})\n",
    "    country_summary = pd.DataFrame(country_summary)\n",
    "    country_summary['Mean'] = country_summary['Mean'].apply(lambda x: int(x))\n",
    "    return country_summary"
   ]
  },
  {
   "cell_type": "code",
   "execution_count": 158,
   "metadata": {
    "collapsed": true
   },
   "outputs": [],
   "source": [
    "def district_level_statistics(df, column):\n",
    "    district_summary = df.groupby(['#country_name', 'district'])[column].agg({\"Mean\": np.mean,\n",
    "                                                                              \"Count\": np.size})\n",
    "    district_summary = pd.DataFrame(district_summary)\n",
    "    district_summary['Mean'] = district_summary['Mean'].apply(lambda x: int(x))\n",
    "    return district_summary"
   ]
  },
  {
   "cell_type": "code",
   "execution_count": 159,
   "metadata": {
    "collapsed": true
   },
   "outputs": [],
   "source": [
    "def sub_district_level_statistics(df, column):\n",
    "    sub_district_summary = df.groupby(['#country_name', 'district', 'sub-district'])[column].agg({\"Mean\": np.mean,\n",
    "                                                                                                  \"Count\": np.size})\n",
    "    sub_district_summary = pd.DataFrame(sub_district_summary)\n",
    "    sub_district_summary['Mean'] = sub_district_summary['Mean'].apply(lambda x: int(x))\n",
    "    return sub_district_summary"
   ]
  },
  {
   "cell_type": "markdown",
   "metadata": {},
   "source": [
    "## Afghanistan"
   ]
  },
  {
   "cell_type": "code",
   "execution_count": 160,
   "metadata": {
    "collapsed": true
   },
   "outputs": [],
   "source": [
    "afghanistan_water = pd.read_csv(\"Abridged_Afghanistan_Water_and_Population_Data.csv\")"
   ]
  },
  {
   "cell_type": "code",
   "execution_count": 161,
   "metadata": {},
   "outputs": [],
   "source": [
    "afghanistan_country_summary = country_level_statistics(afghanistan_water, '1 km population')"
   ]
  },
  {
   "cell_type": "code",
   "execution_count": 162,
   "metadata": {
    "collapsed": true
   },
   "outputs": [],
   "source": [
    "afghanistan_district_summary = district_level_statistics(afghanistan_water, '1 km population')"
   ]
  },
  {
   "cell_type": "code",
   "execution_count": 163,
   "metadata": {
    "collapsed": true
   },
   "outputs": [],
   "source": [
    "afghanistan_sub_district_summary = sub_district_level_statistics(afghanistan_water, '1 km population')"
   ]
  },
  {
   "cell_type": "markdown",
   "metadata": {},
   "source": [
    "## India"
   ]
  },
  {
   "cell_type": "code",
   "execution_count": 223,
   "metadata": {
    "collapsed": true
   },
   "outputs": [],
   "source": [
    "india_water = pd.read_csv(\"Abridged_India_Water_and_Population_Data.csv\")"
   ]
  },
  {
   "cell_type": "code",
   "execution_count": 224,
   "metadata": {
    "collapsed": true
   },
   "outputs": [],
   "source": [
    "india_country_summary = country_level_statistics(india_water, '1 km population')"
   ]
  },
  {
   "cell_type": "code",
   "execution_count": 225,
   "metadata": {
    "collapsed": true
   },
   "outputs": [],
   "source": [
    "india_district_summary = district_level_statistics(india_water, '1 km population')"
   ]
  },
  {
   "cell_type": "code",
   "execution_count": 226,
   "metadata": {
    "collapsed": true
   },
   "outputs": [],
   "source": [
    "india_sub_district_summary = sub_district_level_statistics(india_water, '1 km population')"
   ]
  },
  {
   "cell_type": "markdown",
   "metadata": {},
   "source": [
    "## Kenya"
   ]
  },
  {
   "cell_type": "code",
   "execution_count": 164,
   "metadata": {
    "collapsed": true
   },
   "outputs": [],
   "source": [
    "kenya_water = pd.read_csv(\"Abridged_Kenya_Water_and_Population_Data.csv\")"
   ]
  },
  {
   "cell_type": "code",
   "execution_count": 165,
   "metadata": {},
   "outputs": [],
   "source": [
    "kenya_country_summary = country_level_statistics(kenya_water, '1 km population')"
   ]
  },
  {
   "cell_type": "code",
   "execution_count": 166,
   "metadata": {
    "collapsed": true
   },
   "outputs": [],
   "source": [
    "kenya_district_summary = district_level_statistics(kenya_water, '1 km population')"
   ]
  },
  {
   "cell_type": "code",
   "execution_count": 167,
   "metadata": {
    "collapsed": true
   },
   "outputs": [],
   "source": [
    "kenya_sub_district_summary = sub_district_level_statistics(kenya_water, '1 km population')"
   ]
  },
  {
   "cell_type": "markdown",
   "metadata": {},
   "source": [
    "## Liberia"
   ]
  },
  {
   "cell_type": "code",
   "execution_count": 168,
   "metadata": {
    "collapsed": true
   },
   "outputs": [],
   "source": [
    "liberia_water = pd.read_csv(\"Abridged_Liberia_Water_and_Population_Data.csv\")"
   ]
  },
  {
   "cell_type": "code",
   "execution_count": 169,
   "metadata": {},
   "outputs": [],
   "source": [
    "liberia_country_summary = country_level_statistics(liberia_water, '1 km population')"
   ]
  },
  {
   "cell_type": "code",
   "execution_count": 170,
   "metadata": {
    "collapsed": true
   },
   "outputs": [],
   "source": [
    "liberia_district_summary = district_level_statistics(liberia_water, '1 km population')"
   ]
  },
  {
   "cell_type": "code",
   "execution_count": 171,
   "metadata": {
    "collapsed": true
   },
   "outputs": [],
   "source": [
    "liberia_sub_district_summary = sub_district_level_statistics(liberia_water, '1 km population')"
   ]
  },
  {
   "cell_type": "markdown",
   "metadata": {},
   "source": [
    "## Malawi"
   ]
  },
  {
   "cell_type": "code",
   "execution_count": 172,
   "metadata": {
    "collapsed": true
   },
   "outputs": [],
   "source": [
    "malawi_water = pd.read_csv(\"Abridged_Malawi_Water_and_Population_Data.csv\")"
   ]
  },
  {
   "cell_type": "code",
   "execution_count": 173,
   "metadata": {
    "collapsed": true
   },
   "outputs": [],
   "source": [
    "malawi_country_summary = country_level_statistics(malawi_water, '1 km population')"
   ]
  },
  {
   "cell_type": "code",
   "execution_count": 174,
   "metadata": {
    "collapsed": true
   },
   "outputs": [],
   "source": [
    "malawi_district_summary = district_level_statistics(malawi_water, '1 km population')"
   ]
  },
  {
   "cell_type": "code",
   "execution_count": 175,
   "metadata": {
    "collapsed": true
   },
   "outputs": [],
   "source": [
    "malawi_sub_district_summary = sub_district_level_statistics(malawi_water, '1 km population')"
   ]
  },
  {
   "cell_type": "markdown",
   "metadata": {},
   "source": [
    "## Sierra Leone"
   ]
  },
  {
   "cell_type": "code",
   "execution_count": 176,
   "metadata": {
    "collapsed": true
   },
   "outputs": [],
   "source": [
    "sierra_leone_water = pd.read_csv(\"Abridged_Sierra Leone_Water_and_Population_Data.csv\")"
   ]
  },
  {
   "cell_type": "code",
   "execution_count": 177,
   "metadata": {
    "collapsed": true
   },
   "outputs": [],
   "source": [
    "sierra_leone_country_summary = country_level_statistics(sierra_leone_water, '1 km population')"
   ]
  },
  {
   "cell_type": "code",
   "execution_count": 178,
   "metadata": {
    "collapsed": true
   },
   "outputs": [],
   "source": [
    "sierra_leone_district_summary = district_level_statistics(sierra_leone_water, '1 km population')"
   ]
  },
  {
   "cell_type": "code",
   "execution_count": 179,
   "metadata": {
    "collapsed": true
   },
   "outputs": [],
   "source": [
    "sierra_leone_sub_district_summary = sub_district_level_statistics(sierra_leone_water, '1 km population')"
   ]
  },
  {
   "cell_type": "markdown",
   "metadata": {},
   "source": [
    "## South Sudan"
   ]
  },
  {
   "cell_type": "code",
   "execution_count": 180,
   "metadata": {
    "collapsed": true
   },
   "outputs": [],
   "source": [
    "south_sudan_water = pd.read_csv(\"Abridged_South Sudan_Water_and_Population_Data.csv\")"
   ]
  },
  {
   "cell_type": "code",
   "execution_count": 181,
   "metadata": {},
   "outputs": [],
   "source": [
    "south_sudan_country_summary = country_level_statistics(south_sudan_water, '1 km population')"
   ]
  },
  {
   "cell_type": "code",
   "execution_count": 182,
   "metadata": {},
   "outputs": [],
   "source": [
    "south_sudan_district_summary = district_level_statistics(south_sudan_water, '1 km population')"
   ]
  },
  {
   "cell_type": "code",
   "execution_count": 183,
   "metadata": {
    "collapsed": true
   },
   "outputs": [],
   "source": [
    "south_sudan_sub_district_summary = sub_district_level_statistics(south_sudan_water, '1 km population')"
   ]
  },
  {
   "cell_type": "markdown",
   "metadata": {},
   "source": [
    "## Swaziland"
   ]
  },
  {
   "cell_type": "code",
   "execution_count": 184,
   "metadata": {
    "collapsed": true
   },
   "outputs": [],
   "source": [
    "swaziland_water = pd.read_csv(\"Abridged_Swaziland_Water_and_Population_Data.csv\")"
   ]
  },
  {
   "cell_type": "code",
   "execution_count": 185,
   "metadata": {},
   "outputs": [],
   "source": [
    "swaziland_country_summary = country_level_statistics(swaziland_water, '1 km population')"
   ]
  },
  {
   "cell_type": "code",
   "execution_count": 186,
   "metadata": {},
   "outputs": [],
   "source": [
    "swaziland_district_summary = district_level_statistics(swaziland_water, '1 km population')"
   ]
  },
  {
   "cell_type": "code",
   "execution_count": 187,
   "metadata": {
    "collapsed": true
   },
   "outputs": [],
   "source": [
    "swaziland_sub_district_summary = sub_district_level_statistics(swaziland_water, '1 km population')"
   ]
  },
  {
   "cell_type": "markdown",
   "metadata": {},
   "source": [
    "## Uganda"
   ]
  },
  {
   "cell_type": "code",
   "execution_count": 198,
   "metadata": {
    "collapsed": true
   },
   "outputs": [],
   "source": [
    "uganda_water = pd.read_csv(\"Abridged_Uganda_Water_and_Population_Data.csv\")"
   ]
  },
  {
   "cell_type": "code",
   "execution_count": 199,
   "metadata": {
    "collapsed": true
   },
   "outputs": [],
   "source": [
    "uganda_country_summary = country_level_statistics(uganda_water, '1 km population')"
   ]
  },
  {
   "cell_type": "code",
   "execution_count": 200,
   "metadata": {
    "collapsed": true
   },
   "outputs": [],
   "source": [
    "uganda_district_summary = district_level_statistics(uganda_water, '1 km population')"
   ]
  },
  {
   "cell_type": "code",
   "execution_count": 201,
   "metadata": {
    "collapsed": true
   },
   "outputs": [],
   "source": [
    "uganda_sub_district_summary = sub_district_level_statistics(uganda_water, '1 km population')"
   ]
  },
  {
   "cell_type": "markdown",
   "metadata": {},
   "source": [
    "## Zimbabwe"
   ]
  },
  {
   "cell_type": "code",
   "execution_count": 188,
   "metadata": {
    "collapsed": true
   },
   "outputs": [],
   "source": [
    "zimbabwe_water = pd.read_csv(\"Abridged_Zimbabwe_Water_and_Population_Data.csv\")"
   ]
  },
  {
   "cell_type": "code",
   "execution_count": 189,
   "metadata": {
    "collapsed": true
   },
   "outputs": [],
   "source": [
    "zimbabwe_country_summary = country_level_statistics(zimbabwe_water, '1 km population')"
   ]
  },
  {
   "cell_type": "code",
   "execution_count": 190,
   "metadata": {
    "collapsed": true
   },
   "outputs": [],
   "source": [
    "zimbabwe_district_summary = district_level_statistics(zimbabwe_water, '1 km population')"
   ]
  },
  {
   "cell_type": "code",
   "execution_count": 191,
   "metadata": {
    "collapsed": true
   },
   "outputs": [],
   "source": [
    "zimbabwe_sub_district_summary = sub_district_level_statistics(zimbabwe_water, '1 km population')"
   ]
  },
  {
   "cell_type": "markdown",
   "metadata": {},
   "source": [
    "## Concatenated Summaries"
   ]
  },
  {
   "cell_type": "code",
   "execution_count": 227,
   "metadata": {},
   "outputs": [],
   "source": [
    "country_summaries = pd.concat([afghanistan_country_summary,\n",
    "                              india_country_summary,\n",
    "                              kenya_country_summary,\n",
    "                              liberia_country_summary,\n",
    "                              malawi_country_summary,\n",
    "                              sierra_leone_country_summary,\n",
    "                              south_sudan_country_summary,\n",
    "                              swaziland_country_summary,\n",
    "                              uganda_country_summary,\n",
    "                              zimbabwe_country_summary])\n",
    "\n",
    "country_summaries = country_summaries.reset_index()\n",
    "country_summaries.columns = ['country_name', 'Number of Water Points', 'Mean 1 km population per well']"
   ]
  },
  {
   "cell_type": "code",
   "execution_count": 228,
   "metadata": {},
   "outputs": [
    {
     "data": {
      "text/html": [
       "<div>\n",
       "<style scoped>\n",
       "    .dataframe tbody tr th:only-of-type {\n",
       "        vertical-align: middle;\n",
       "    }\n",
       "\n",
       "    .dataframe tbody tr th {\n",
       "        vertical-align: top;\n",
       "    }\n",
       "\n",
       "    .dataframe thead th {\n",
       "        text-align: right;\n",
       "    }\n",
       "</style>\n",
       "<table border=\"1\" class=\"dataframe\">\n",
       "  <thead>\n",
       "    <tr style=\"text-align: right;\">\n",
       "      <th></th>\n",
       "      <th>country_name</th>\n",
       "      <th>Number of Water Points</th>\n",
       "      <th>Mean 1 km population per well</th>\n",
       "    </tr>\n",
       "  </thead>\n",
       "  <tbody>\n",
       "    <tr>\n",
       "      <th>0</th>\n",
       "      <td>Afghanistan</td>\n",
       "      <td>59849</td>\n",
       "      <td>2284</td>\n",
       "    </tr>\n",
       "    <tr>\n",
       "      <th>1</th>\n",
       "      <td>India</td>\n",
       "      <td>5887</td>\n",
       "      <td>4736</td>\n",
       "    </tr>\n",
       "    <tr>\n",
       "      <th>2</th>\n",
       "      <td>Kenya</td>\n",
       "      <td>21207</td>\n",
       "      <td>1827</td>\n",
       "    </tr>\n",
       "    <tr>\n",
       "      <th>3</th>\n",
       "      <td>Liberia</td>\n",
       "      <td>14053</td>\n",
       "      <td>5257</td>\n",
       "    </tr>\n",
       "    <tr>\n",
       "      <th>4</th>\n",
       "      <td>Malawi</td>\n",
       "      <td>12260</td>\n",
       "      <td>3863</td>\n",
       "    </tr>\n",
       "    <tr>\n",
       "      <th>5</th>\n",
       "      <td>Sierra Leone</td>\n",
       "      <td>54864</td>\n",
       "      <td>9367</td>\n",
       "    </tr>\n",
       "    <tr>\n",
       "      <th>6</th>\n",
       "      <td>South Sudan</td>\n",
       "      <td>6088</td>\n",
       "      <td>1126</td>\n",
       "    </tr>\n",
       "    <tr>\n",
       "      <th>7</th>\n",
       "      <td>Swaziland</td>\n",
       "      <td>23784</td>\n",
       "      <td>670</td>\n",
       "    </tr>\n",
       "    <tr>\n",
       "      <th>8</th>\n",
       "      <td>Uganda</td>\n",
       "      <td>113667</td>\n",
       "      <td>1369</td>\n",
       "    </tr>\n",
       "    <tr>\n",
       "      <th>9</th>\n",
       "      <td>Zimbabwe</td>\n",
       "      <td>38777</td>\n",
       "      <td>116</td>\n",
       "    </tr>\n",
       "  </tbody>\n",
       "</table>\n",
       "</div>"
      ],
      "text/plain": [
       "   country_name  Number of Water Points  Mean 1 km population per well\n",
       "0   Afghanistan                   59849                           2284\n",
       "1         India                    5887                           4736\n",
       "2         Kenya                   21207                           1827\n",
       "3       Liberia                   14053                           5257\n",
       "4        Malawi                   12260                           3863\n",
       "5  Sierra Leone                   54864                           9367\n",
       "6   South Sudan                    6088                           1126\n",
       "7     Swaziland                   23784                            670\n",
       "8        Uganda                  113667                           1369\n",
       "9      Zimbabwe                   38777                            116"
      ]
     },
     "execution_count": 228,
     "metadata": {},
     "output_type": "execute_result"
    }
   ],
   "source": [
    "country_summaries"
   ]
  },
  {
   "cell_type": "code",
   "execution_count": 229,
   "metadata": {},
   "outputs": [],
   "source": [
    "district_summaries = pd.concat([afghanistan_district_summary,\n",
    "                                india_district_summary,\n",
    "                                kenya_district_summary,\n",
    "                                liberia_district_summary,\n",
    "                                malawi_district_summary,\n",
    "                                sierra_leone_district_summary,\n",
    "                                south_sudan_district_summary,\n",
    "                                swaziland_district_summary,\n",
    "                                uganda_district_summary,\n",
    "                                zimbabwe_district_summary])\n",
    "\n",
    "district_summaries = district_summaries.reset_index()\n",
    "district_summaries.columns = ['country_name', 'District', 'Number of Water Points', 'Mean 1 km population per well']"
   ]
  },
  {
   "cell_type": "code",
   "execution_count": 230,
   "metadata": {},
   "outputs": [
    {
     "data": {
      "text/html": [
       "<div>\n",
       "<style scoped>\n",
       "    .dataframe tbody tr th:only-of-type {\n",
       "        vertical-align: middle;\n",
       "    }\n",
       "\n",
       "    .dataframe tbody tr th {\n",
       "        vertical-align: top;\n",
       "    }\n",
       "\n",
       "    .dataframe thead th {\n",
       "        text-align: right;\n",
       "    }\n",
       "</style>\n",
       "<table border=\"1\" class=\"dataframe\">\n",
       "  <thead>\n",
       "    <tr style=\"text-align: right;\">\n",
       "      <th></th>\n",
       "      <th>country_name</th>\n",
       "      <th>District</th>\n",
       "      <th>Number of Water Points</th>\n",
       "      <th>Mean 1 km population per well</th>\n",
       "    </tr>\n",
       "  </thead>\n",
       "  <tbody>\n",
       "    <tr>\n",
       "      <th>0</th>\n",
       "      <td>Afghanistan</td>\n",
       "      <td>Badakhshan</td>\n",
       "      <td>1433</td>\n",
       "      <td>366</td>\n",
       "    </tr>\n",
       "    <tr>\n",
       "      <th>1</th>\n",
       "      <td>Afghanistan</td>\n",
       "      <td>Badghis</td>\n",
       "      <td>558</td>\n",
       "      <td>567</td>\n",
       "    </tr>\n",
       "    <tr>\n",
       "      <th>2</th>\n",
       "      <td>Afghanistan</td>\n",
       "      <td>Baghlan</td>\n",
       "      <td>1373</td>\n",
       "      <td>1331</td>\n",
       "    </tr>\n",
       "    <tr>\n",
       "      <th>3</th>\n",
       "      <td>Afghanistan</td>\n",
       "      <td>Balkh</td>\n",
       "      <td>3666</td>\n",
       "      <td>1144</td>\n",
       "    </tr>\n",
       "    <tr>\n",
       "      <th>4</th>\n",
       "      <td>Afghanistan</td>\n",
       "      <td>Bamyan</td>\n",
       "      <td>654</td>\n",
       "      <td>170</td>\n",
       "    </tr>\n",
       "  </tbody>\n",
       "</table>\n",
       "</div>"
      ],
      "text/plain": [
       "  country_name    District  Number of Water Points  \\\n",
       "0  Afghanistan  Badakhshan                    1433   \n",
       "1  Afghanistan     Badghis                     558   \n",
       "2  Afghanistan     Baghlan                    1373   \n",
       "3  Afghanistan       Balkh                    3666   \n",
       "4  Afghanistan      Bamyan                     654   \n",
       "\n",
       "   Mean 1 km population per well  \n",
       "0                            366  \n",
       "1                            567  \n",
       "2                           1331  \n",
       "3                           1144  \n",
       "4                            170  "
      ]
     },
     "execution_count": 230,
     "metadata": {},
     "output_type": "execute_result"
    }
   ],
   "source": [
    "district_summaries.head()"
   ]
  },
  {
   "cell_type": "code",
   "execution_count": 231,
   "metadata": {},
   "outputs": [],
   "source": [
    "sub_district_summaries = pd.concat([afghanistan_sub_district_summary,\n",
    "                                    india_sub_district_summary,\n",
    "                                    kenya_sub_district_summary,\n",
    "                                    liberia_sub_district_summary,\n",
    "                                    malawi_sub_district_summary,\n",
    "                                    sierra_leone_sub_district_summary,\n",
    "                                    south_sudan_sub_district_summary,\n",
    "                                    swaziland_sub_district_summary,\n",
    "                                    uganda_sub_district_summary,\n",
    "                                    zimbabwe_sub_district_summary])\n",
    "\n",
    "sub_district_summaries = sub_district_summaries.reset_index()\n",
    "sub_district_summaries.columns = ['country_name', 'District', 'Sub-District', 'Number of Water Points',\n",
    "                                  'Mean 1 km population per well']"
   ]
  },
  {
   "cell_type": "code",
   "execution_count": 232,
   "metadata": {},
   "outputs": [
    {
     "data": {
      "text/html": [
       "<div>\n",
       "<style scoped>\n",
       "    .dataframe tbody tr th:only-of-type {\n",
       "        vertical-align: middle;\n",
       "    }\n",
       "\n",
       "    .dataframe tbody tr th {\n",
       "        vertical-align: top;\n",
       "    }\n",
       "\n",
       "    .dataframe thead th {\n",
       "        text-align: right;\n",
       "    }\n",
       "</style>\n",
       "<table border=\"1\" class=\"dataframe\">\n",
       "  <thead>\n",
       "    <tr style=\"text-align: right;\">\n",
       "      <th></th>\n",
       "      <th>country_name</th>\n",
       "      <th>District</th>\n",
       "      <th>Sub-District</th>\n",
       "      <th>Number of Water Points</th>\n",
       "      <th>Mean 1 km population per well</th>\n",
       "    </tr>\n",
       "  </thead>\n",
       "  <tbody>\n",
       "    <tr>\n",
       "      <th>0</th>\n",
       "      <td>Afghanistan</td>\n",
       "      <td>Badakhshan</td>\n",
       "      <td>Baharak</td>\n",
       "      <td>103</td>\n",
       "      <td>340</td>\n",
       "    </tr>\n",
       "    <tr>\n",
       "      <th>1</th>\n",
       "      <td>Afghanistan</td>\n",
       "      <td>Badakhshan</td>\n",
       "      <td>Fayz abad</td>\n",
       "      <td>602</td>\n",
       "      <td>319</td>\n",
       "    </tr>\n",
       "    <tr>\n",
       "      <th>2</th>\n",
       "      <td>Afghanistan</td>\n",
       "      <td>Badakhshan</td>\n",
       "      <td>Jurm</td>\n",
       "      <td>110</td>\n",
       "      <td>397</td>\n",
       "    </tr>\n",
       "    <tr>\n",
       "      <th>3</th>\n",
       "      <td>Afghanistan</td>\n",
       "      <td>Badakhshan</td>\n",
       "      <td>Kishim</td>\n",
       "      <td>617</td>\n",
       "      <td>412</td>\n",
       "    </tr>\n",
       "    <tr>\n",
       "      <th>4</th>\n",
       "      <td>Afghanistan</td>\n",
       "      <td>Badakhshan</td>\n",
       "      <td>Ragh</td>\n",
       "      <td>1</td>\n",
       "      <td>108</td>\n",
       "    </tr>\n",
       "  </tbody>\n",
       "</table>\n",
       "</div>"
      ],
      "text/plain": [
       "  country_name    District Sub-District  Number of Water Points  \\\n",
       "0  Afghanistan  Badakhshan      Baharak                     103   \n",
       "1  Afghanistan  Badakhshan    Fayz abad                     602   \n",
       "2  Afghanistan  Badakhshan         Jurm                     110   \n",
       "3  Afghanistan  Badakhshan       Kishim                     617   \n",
       "4  Afghanistan  Badakhshan         Ragh                       1   \n",
       "\n",
       "   Mean 1 km population per well  \n",
       "0                            340  \n",
       "1                            319  \n",
       "2                            397  \n",
       "3                            412  \n",
       "4                            108  "
      ]
     },
     "execution_count": 232,
     "metadata": {},
     "output_type": "execute_result"
    }
   ],
   "source": [
    "sub_district_summaries.head()"
   ]
  },
  {
   "cell_type": "code",
   "execution_count": 233,
   "metadata": {
    "collapsed": true
   },
   "outputs": [],
   "source": [
    "country_summaries.to_csv(\"country_level_statistics.csv\", index_label = 'Row_ID')"
   ]
  },
  {
   "cell_type": "code",
   "execution_count": 234,
   "metadata": {},
   "outputs": [],
   "source": [
    "district_summaries.to_csv(\"district_level_statistics.csv\", index_label = 'Row_ID')"
   ]
  },
  {
   "cell_type": "code",
   "execution_count": 235,
   "metadata": {
    "collapsed": true
   },
   "outputs": [],
   "source": [
    "sub_district_summaries.to_csv(\"sub_district_level_statistics.csv\", index_label = 'Row_ID')"
   ]
  },
  {
   "cell_type": "markdown",
   "metadata": {},
   "source": [
    "## Add Data to Postgres"
   ]
  },
  {
   "cell_type": "code",
   "execution_count": 242,
   "metadata": {},
   "outputs": [
    {
     "name": "stdout",
     "output_type": "stream",
     "text": [
      "Connected to database!\n",
      "Table created!\n"
     ]
    }
   ],
   "source": [
    "#Create Country-Level Table\n",
    "conn_string = \"host='postgres-instance2.clhlqrsuvowr.us-east-1.rds.amazonaws.com' dbname='water_db' user='alex' password='berkeley'\"\n",
    "conn = psycopg2.connect(conn_string)\n",
    "print(\"Connected to database!\")\n",
    "cur = conn.cursor()\n",
    "\n",
    "cur.execute(\"\"\"\n",
    "CREATE TABLE country_level_statistics(\n",
    "    key serial PRIMARY KEY,\n",
    "    country varchar,\n",
    "    number_water_points integer,\n",
    "    mean_1_km_population_per_well integer\n",
    ")\n",
    "\"\"\")\n",
    "conn.commit()\n",
    "\n",
    "print(\"Table created!\")"
   ]
  },
  {
   "cell_type": "code",
   "execution_count": 243,
   "metadata": {},
   "outputs": [
    {
     "name": "stdout",
     "output_type": "stream",
     "text": [
      "Data committed!\n"
     ]
    }
   ],
   "source": [
    "# Add Country-Level Data\n",
    "with open(\"country_level_statistics.csv\", 'r') as file:\n",
    "    next(file)  # Skip the header row.\n",
    "    cur.copy_from(file, 'country_level_statistics', sep=',')\n",
    "\n",
    "conn.commit()\n",
    "print(\"Data committed!\")"
   ]
  },
  {
   "cell_type": "code",
   "execution_count": 244,
   "metadata": {},
   "outputs": [
    {
     "name": "stdout",
     "output_type": "stream",
     "text": [
      "[(0, 'Afghanistan', 59849, 2284)]\n"
     ]
    }
   ],
   "source": [
    "#Spot Check Country-Level Data\n",
    "conn = psycopg2.connect(conn_string)\n",
    "cur = conn.cursor()\n",
    "cur.execute('SELECT * from country_level_statistics LIMIT 1;')\n",
    "testing = cur.fetchall()\n",
    "print(testing)"
   ]
  },
  {
   "cell_type": "code",
   "execution_count": 245,
   "metadata": {},
   "outputs": [
    {
     "name": "stdout",
     "output_type": "stream",
     "text": [
      "Connected to database!\n",
      "Table created!\n"
     ]
    }
   ],
   "source": [
    "#Create District-Level Table\n",
    "conn_string = \"host='postgres-instance2.clhlqrsuvowr.us-east-1.rds.amazonaws.com' dbname='water_db' user='alex' password='berkeley'\"\n",
    "conn = psycopg2.connect(conn_string)\n",
    "print(\"Connected to database!\")\n",
    "cur = conn.cursor()\n",
    "\n",
    "cur.execute(\"\"\"\n",
    "CREATE TABLE district_level_statistics(\n",
    "    key serial PRIMARY KEY,\n",
    "    country varchar,\n",
    "    district varchar,\n",
    "    number_water_points integer,\n",
    "    mean_1_km_population_per_well integer\n",
    ")\n",
    "\"\"\")\n",
    "conn.commit()\n",
    "\n",
    "print(\"Table created!\")"
   ]
  },
  {
   "cell_type": "code",
   "execution_count": 246,
   "metadata": {},
   "outputs": [
    {
     "name": "stdout",
     "output_type": "stream",
     "text": [
      "Data committed!\n"
     ]
    }
   ],
   "source": [
    "# Add District-Level Data\n",
    "with open(\"district_level_statistics.csv\", 'r') as file:\n",
    "    next(file)  # Skip the header row.\n",
    "    cur.copy_from(file, 'district_level_statistics', sep=',')\n",
    "\n",
    "conn.commit()\n",
    "print(\"Data committed!\")"
   ]
  },
  {
   "cell_type": "code",
   "execution_count": 247,
   "metadata": {},
   "outputs": [
    {
     "name": "stdout",
     "output_type": "stream",
     "text": [
      "[(0, 'Afghanistan', 'Badakhshan', 1433, 366)]\n"
     ]
    }
   ],
   "source": [
    "#Spot Check District-Level Data\n",
    "conn = psycopg2.connect(conn_string)\n",
    "cur = conn.cursor()\n",
    "cur.execute('SELECT * from district_level_statistics LIMIT 1;')\n",
    "testing = cur.fetchall()\n",
    "print(testing)"
   ]
  },
  {
   "cell_type": "code",
   "execution_count": 248,
   "metadata": {},
   "outputs": [
    {
     "name": "stdout",
     "output_type": "stream",
     "text": [
      "Connected to database!\n",
      "Table created!\n"
     ]
    }
   ],
   "source": [
    "#Create Sub-District-Level Table\n",
    "conn_string = \"host='postgres-instance2.clhlqrsuvowr.us-east-1.rds.amazonaws.com' dbname='water_db' user='alex' password='berkeley'\"\n",
    "conn = psycopg2.connect(conn_string)\n",
    "print(\"Connected to database!\")\n",
    "cur = conn.cursor()\n",
    "\n",
    "cur.execute(\"\"\"\n",
    "CREATE TABLE sub_district_level_statistics(\n",
    "    key serial PRIMARY KEY,\n",
    "    country varchar,\n",
    "    district varchar,\n",
    "    sub_district varchar,\n",
    "    number_water_points integer,\n",
    "    mean_1_km_population_per_well integer\n",
    ")\n",
    "\"\"\")\n",
    "conn.commit()\n",
    "\n",
    "print(\"Table created!\")"
   ]
  },
  {
   "cell_type": "code",
   "execution_count": 249,
   "metadata": {},
   "outputs": [
    {
     "name": "stdout",
     "output_type": "stream",
     "text": [
      "Data committed!\n"
     ]
    }
   ],
   "source": [
    "# Add Sub-District-Level Data\n",
    "with open(\"sub_district_level_statistics.csv\", 'r') as file:\n",
    "    next(file)  # Skip the header row.\n",
    "    cur.copy_from(file, 'sub_district_level_statistics', sep=',')\n",
    "\n",
    "conn.commit()\n",
    "print(\"Data committed!\")"
   ]
  },
  {
   "cell_type": "code",
   "execution_count": 250,
   "metadata": {},
   "outputs": [
    {
     "name": "stdout",
     "output_type": "stream",
     "text": [
      "[(0, 'Afghanistan', 'Badakhshan', 'Baharak', 103, 340)]\n"
     ]
    }
   ],
   "source": [
    "#Spot Check Sub-District-Level Data\n",
    "conn = psycopg2.connect(conn_string)\n",
    "cur = conn.cursor()\n",
    "cur.execute('SELECT * from sub_district_level_statistics LIMIT 1;')\n",
    "testing = cur.fetchall()\n",
    "print(testing)"
   ]
  },
  {
   "cell_type": "code",
   "execution_count": null,
   "metadata": {
    "collapsed": true
   },
   "outputs": [],
   "source": []
  }
 ],
 "metadata": {
  "kernelspec": {
   "display_name": "Python 3",
   "language": "python",
   "name": "python3"
  },
  "language_info": {
   "codemirror_mode": {
    "name": "ipython",
    "version": 3
   },
   "file_extension": ".py",
   "mimetype": "text/x-python",
   "name": "python",
   "nbconvert_exporter": "python",
   "pygments_lexer": "ipython3",
   "version": "3.5.4"
  }
 },
 "nbformat": 4,
 "nbformat_minor": 2
}
