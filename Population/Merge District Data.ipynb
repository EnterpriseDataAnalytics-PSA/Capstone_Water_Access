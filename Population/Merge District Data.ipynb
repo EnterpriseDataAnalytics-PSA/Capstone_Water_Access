{
 "cells": [
  {
   "cell_type": "code",
   "execution_count": 1,
   "metadata": {
    "collapsed": true
   },
   "outputs": [],
   "source": [
    "import shapefile\n",
    "import numpy as np\n",
    "import pandas as pd\n",
    "import csv\n",
    "import fiona\n",
    "from shapely.geometry import Point, shape\n",
    "import time"
   ]
  },
  {
   "cell_type": "markdown",
   "metadata": {},
   "source": [
    "## Functions"
   ]
  },
  {
   "cell_type": "code",
   "execution_count": 2,
   "metadata": {
    "collapsed": true
   },
   "outputs": [],
   "source": [
    "def first_level_boundary(row, boundary_shapes):\n",
    "    for district in boundary_shapes:\n",
    "        if row['point'].within(shape(district['geometry'])):\n",
    "            return district['properties']['NAME_1']"
   ]
  },
  {
   "cell_type": "code",
   "execution_count": 3,
   "metadata": {
    "collapsed": true
   },
   "outputs": [],
   "source": [
    "def second_level_boundary(row, boundary_shapes):\n",
    "    for district in boundary_shapes:\n",
    "        if row['point'].within(shape(district['geometry'])):\n",
    "            return district['properties']['NAME_2']"
   ]
  },
  {
   "cell_type": "code",
   "execution_count": 4,
   "metadata": {
    "collapsed": true
   },
   "outputs": [],
   "source": [
    "def third_level_boundary(row, boundary_shapes):\n",
    "    for district in boundary_shapes:\n",
    "        if row['point'].within(shape(district['geometry'])):\n",
    "            return district['properties']['NAME_3']"
   ]
  },
  {
   "cell_type": "code",
   "execution_count": 5,
   "metadata": {
    "collapsed": true
   },
   "outputs": [],
   "source": [
    "def append_districts(df, district_shapes, bound_func1, bound_func2, country):\n",
    "    start_time = time.time()\n",
    "    df['point'] = df.apply(lambda x: Point(x['#lon_deg'], x['#lat_deg']), axis = 1)\n",
    "    df['district'] = df.apply(lambda row: bound_func1(row, district_shapes), axis = 1)\n",
    "    print(\"Districts created!\")\n",
    "    df['sub-district'] = df.apply(lambda row: bound_func2(row, district_shapes), axis = 1)\n",
    "    print(\"Sub-districts created!\")\n",
    "    del df['point']\n",
    "    df.to_csv(\"Abridged_\" + country + \"_Water_and_Population_Data.csv\", index=False)\n",
    "    print(\"Done!\")\n",
    "    end_time = time.time()\n",
    "    time_taken = round((end_time - start_time) / 60,1)\n",
    "    print(\"Time taken:\", time_taken, \"minutes\")"
   ]
  },
  {
   "cell_type": "markdown",
   "metadata": {},
   "source": [
    "## Afghanistan"
   ]
  },
  {
   "cell_type": "code",
   "execution_count": 10,
   "metadata": {
    "collapsed": true
   },
   "outputs": [],
   "source": [
    "afghanistan_water = pd.read_csv(\"Abridged_Afghanistan_Water_and_Population_Data.csv\")"
   ]
  },
  {
   "cell_type": "code",
   "execution_count": 9,
   "metadata": {
    "collapsed": true
   },
   "outputs": [],
   "source": [
    "afghanistan_district_shapes = list(fiona.open(\"AFG_adm_shp/AFG_adm2.shp\"))"
   ]
  },
  {
   "cell_type": "code",
   "execution_count": 11,
   "metadata": {},
   "outputs": [
    {
     "name": "stdout",
     "output_type": "stream",
     "text": [
      "Districts created!\n",
      "Sub-districts created!\n",
      "Done!\n",
      "Time taken: 14.6 minutes\n"
     ]
    }
   ],
   "source": [
    "append_districts(afghanistan_water, afghanistan_district_shapes, first_level_boundary, second_level_boundary, \"Afghanistan\")"
   ]
  },
  {
   "cell_type": "markdown",
   "metadata": {},
   "source": [
    "## Liberia"
   ]
  },
  {
   "cell_type": "code",
   "execution_count": 73,
   "metadata": {
    "collapsed": true
   },
   "outputs": [],
   "source": [
    "liberia_water = pd.read_csv(\"Abridged_Liberia_Water_and_Population_Data.csv\")"
   ]
  },
  {
   "cell_type": "code",
   "execution_count": 74,
   "metadata": {
    "collapsed": true
   },
   "outputs": [],
   "source": [
    "liberia_district_shapes = list(fiona.open(\"LBR_adm_shp/LBR_adm3.shp\"))"
   ]
  },
  {
   "cell_type": "code",
   "execution_count": 75,
   "metadata": {},
   "outputs": [
    {
     "name": "stdout",
     "output_type": "stream",
     "text": [
      "Districts created!\n",
      "Sub-districts created!\n",
      "Done!\n",
      "Time taken: 3.7 minutes\n"
     ]
    }
   ],
   "source": [
    "append_districts(liberia_water, liberia_district_shapes, first_level_boundary, second_level_boundary, \"Liberia\")"
   ]
  },
  {
   "cell_type": "markdown",
   "metadata": {},
   "source": [
    "## Malawi"
   ]
  },
  {
   "cell_type": "code",
   "execution_count": 49,
   "metadata": {
    "collapsed": true
   },
   "outputs": [],
   "source": [
    "malawi_water = pd.read_csv(\"Abridged_Malawi_Water_and_Population_Data.csv\")"
   ]
  },
  {
   "cell_type": "code",
   "execution_count": 50,
   "metadata": {
    "collapsed": true
   },
   "outputs": [],
   "source": [
    "malawi_district_shapes = list(fiona.open(\"MWI_adm_shp/MWI_adm3.shp\"))"
   ]
  },
  {
   "cell_type": "code",
   "execution_count": 53,
   "metadata": {},
   "outputs": [
    {
     "name": "stdout",
     "output_type": "stream",
     "text": [
      "Districts created!\n",
      "Sub-districts created!\n",
      "Done!\n",
      "Time taken: 45.6 minutes\n"
     ]
    }
   ],
   "source": [
    "append_districts(malawi_water, malawi_district_shapes, first_level_boundary, second_level_boundary, \"Malawi\")"
   ]
  },
  {
   "cell_type": "markdown",
   "metadata": {},
   "source": [
    "## Sierra Leone"
   ]
  },
  {
   "cell_type": "code",
   "execution_count": 28,
   "metadata": {
    "collapsed": true
   },
   "outputs": [],
   "source": [
    "#Load Sierra Leone Water Data\n",
    "sl_water = pd.read_csv(\"Abridged_Sierra_Leone_Water_and_Population_Data.csv\")"
   ]
  },
  {
   "cell_type": "code",
   "execution_count": 31,
   "metadata": {
    "collapsed": true
   },
   "outputs": [],
   "source": [
    "sl_district_shapes = list(fiona.open(\"SLE_adm_shp/SLE_adm3.shp\"))"
   ]
  },
  {
   "cell_type": "code",
   "execution_count": 72,
   "metadata": {},
   "outputs": [
    {
     "name": "stdout",
     "output_type": "stream",
     "text": [
      "Districts created!\n",
      "Sub-districts created!\n",
      "Done!\n",
      "Time taken: 15.0 minutes\n"
     ]
    }
   ],
   "source": [
    "append_districts(sl_water, sl_district_shapes, second_level_boundary, third_level_boundary, \"Sierra Leone\")"
   ]
  },
  {
   "cell_type": "markdown",
   "metadata": {},
   "source": [
    "## South Sudan"
   ]
  },
  {
   "cell_type": "code",
   "execution_count": 54,
   "metadata": {
    "collapsed": true
   },
   "outputs": [],
   "source": [
    "#Load Sierra Leone Water Data\n",
    "s_sudan_water = pd.read_csv(\"Abridged_South_Sudan_Water_and_Population_Data.csv\")"
   ]
  },
  {
   "cell_type": "code",
   "execution_count": 55,
   "metadata": {
    "collapsed": true
   },
   "outputs": [],
   "source": [
    "s_sudan_district_shapes = list(fiona.open(\"SSD_adm_shp/SSD_adm3.shp\"))"
   ]
  },
  {
   "cell_type": "code",
   "execution_count": 71,
   "metadata": {},
   "outputs": [
    {
     "name": "stdout",
     "output_type": "stream",
     "text": [
      "Districts created!\n",
      "Sub-districts created!\n",
      "Done!\n",
      "Time taken: 0.3 minutes\n"
     ]
    }
   ],
   "source": [
    "append_districts(s_sudan_water, s_sudan_district_shapes, first_level_boundary, second_level_boundary, \"South Sudan\")"
   ]
  },
  {
   "cell_type": "markdown",
   "metadata": {},
   "source": [
    "## Swaziland"
   ]
  },
  {
   "cell_type": "code",
   "execution_count": 4,
   "metadata": {
    "collapsed": true
   },
   "outputs": [],
   "source": [
    "#Load Swaziland Water Data\n",
    "swaz_water = pd.read_csv(\"Abridged_Swaziland_Water_and_Population_Data.csv\")"
   ]
  },
  {
   "cell_type": "code",
   "execution_count": 42,
   "metadata": {
    "collapsed": true
   },
   "outputs": [],
   "source": [
    "swaz_district_shapes = list(fiona.open(\"SWZ_adm_shp/SWZ_adm2.shp\"))"
   ]
  },
  {
   "cell_type": "code",
   "execution_count": 70,
   "metadata": {},
   "outputs": [
    {
     "name": "stdout",
     "output_type": "stream",
     "text": [
      "Districts created!\n",
      "Sub-districts created!\n",
      "Done!\n",
      "Time taken: 1.2 minutes\n"
     ]
    }
   ],
   "source": [
    "append_districts(swaz_water, swaz_district_shapes, first_level_boundary, second_level_boundary, \"Swaziland\")"
   ]
  },
  {
   "cell_type": "markdown",
   "metadata": {
    "collapsed": true
   },
   "source": [
    "## Zimbabwe"
   ]
  },
  {
   "cell_type": "code",
   "execution_count": 6,
   "metadata": {
    "collapsed": true
   },
   "outputs": [],
   "source": [
    "#Load Zimbabwe Water Data\n",
    "zimbabwe_water = pd.read_csv(\"Abridged_Zimbabwe_Water_and_Population_Data.csv\")"
   ]
  },
  {
   "cell_type": "code",
   "execution_count": 7,
   "metadata": {
    "collapsed": true
   },
   "outputs": [],
   "source": [
    "zimbabwe_district_shapes = list(fiona.open(\"ZWE_adm_shp/ZWE_adm2.shp\"))"
   ]
  },
  {
   "cell_type": "code",
   "execution_count": 8,
   "metadata": {},
   "outputs": [
    {
     "name": "stdout",
     "output_type": "stream",
     "text": [
      "Districts created!\n",
      "Sub-districts created!\n",
      "Done!\n",
      "Time taken: 4.1 minutes\n"
     ]
    }
   ],
   "source": [
    "append_districts(zimbabwe_water, zimbabwe_district_shapes, first_level_boundary, second_level_boundary, \"Zimbabwe\")"
   ]
  },
  {
   "cell_type": "code",
   "execution_count": null,
   "metadata": {
    "collapsed": true
   },
   "outputs": [],
   "source": []
  }
 ],
 "metadata": {
  "kernelspec": {
   "display_name": "Python 3",
   "language": "python",
   "name": "python3"
  },
  "language_info": {
   "codemirror_mode": {
    "name": "ipython",
    "version": 3
   },
   "file_extension": ".py",
   "mimetype": "text/x-python",
   "name": "python",
   "nbconvert_exporter": "python",
   "pygments_lexer": "ipython3",
   "version": "3.5.4"
  }
 },
 "nbformat": 4,
 "nbformat_minor": 2
}
